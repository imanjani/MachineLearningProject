{
 "cells": [
  {
   "cell_type": "markdown",
   "metadata": {},
   "source": [
    "## **Problem Definition**\n",
    "\n",
    "Perform K-Means Clustering on a dataset containing shopping details of customers from various cities to understand how clustering segregates the data similar to each other.\n",
    "\n",
    "\n",
    "\n",
    "\n",
    "### **Dataset Description**\n",
    "\n",
    "The dataset is based on the the shopping details of customers of few cities. The data has been populated randomly and holds no such relation to any real systems data or confidential data. It has 8 dimensions or features with 200 entries.\n",
    "\n",
    "The Attributes are:\n",
    "\n",
    "* CustomerID\n",
    "* CustomerGender\n",
    "* CustomerAge\n",
    "* CustomerCity\n",
    "* AnnualIncome\n",
    "* CreditScore\n",
    "* SpendingScore\n",
    "* CustomerCityID\n",
    "\n",
    "### **Tasks to be performed**\n",
    "\n",
    "\n",
    "* Importing Required Libraries\n",
    "* Analyzing the data\n",
    "* Understanding K-Means\n",
    "* Implementing K-Means from Scratch\n",
    "* Implementing K-Means using sklearn library "
   ]
  },
  {
   "cell_type": "code",
   "execution_count": 3,
   "metadata": {},
   "outputs": [],
   "source": [
    "import pandas as pd\n",
    "import numpy as np\n",
    "import matplotlib.pyplot as plt\n",
    "%matplotlib inline\n",
    "from sklearn.model_selection import train_test_split\n",
    "from sklearn.cluster import KMeans\n",
    "from sklearn.metrics import accuracy_score,confusion_matrix\n",
    "import warnings\n",
    "warnings.filterwarnings(\"ignore\")"
   ]
  },
  {
   "cell_type": "code",
   "execution_count": 4,
   "metadata": {},
   "outputs": [
    {
     "data": {
      "text/html": [
       "<div>\n",
       "<style scoped>\n",
       "    .dataframe tbody tr th:only-of-type {\n",
       "        vertical-align: middle;\n",
       "    }\n",
       "\n",
       "    .dataframe tbody tr th {\n",
       "        vertical-align: top;\n",
       "    }\n",
       "\n",
       "    .dataframe thead th {\n",
       "        text-align: right;\n",
       "    }\n",
       "</style>\n",
       "<table border=\"1\" class=\"dataframe\">\n",
       "  <thead>\n",
       "    <tr style=\"text-align: right;\">\n",
       "      <th></th>\n",
       "      <th>CustomerID</th>\n",
       "      <th>CustomerGender</th>\n",
       "      <th>CustomerAge</th>\n",
       "      <th>CustomerCity</th>\n",
       "      <th>AnnualIncome</th>\n",
       "      <th>CreditScore</th>\n",
       "      <th>SpendingScore</th>\n",
       "      <th>CustomerCityID</th>\n",
       "    </tr>\n",
       "  </thead>\n",
       "  <tbody>\n",
       "    <tr>\n",
       "      <th>0</th>\n",
       "      <td>1001</td>\n",
       "      <td>Male</td>\n",
       "      <td>49</td>\n",
       "      <td>Bengaluru</td>\n",
       "      <td>527547.58850</td>\n",
       "      <td>653</td>\n",
       "      <td>78</td>\n",
       "      <td>1</td>\n",
       "    </tr>\n",
       "    <tr>\n",
       "      <th>1</th>\n",
       "      <td>1002</td>\n",
       "      <td>Male</td>\n",
       "      <td>59</td>\n",
       "      <td>Bengaluru</td>\n",
       "      <td>207143.19760</td>\n",
       "      <td>630</td>\n",
       "      <td>63</td>\n",
       "      <td>1</td>\n",
       "    </tr>\n",
       "    <tr>\n",
       "      <th>2</th>\n",
       "      <td>1003</td>\n",
       "      <td>Female</td>\n",
       "      <td>54</td>\n",
       "      <td>Delhi</td>\n",
       "      <td>164423.84570</td>\n",
       "      <td>555</td>\n",
       "      <td>69</td>\n",
       "      <td>4</td>\n",
       "    </tr>\n",
       "    <tr>\n",
       "      <th>3</th>\n",
       "      <td>1004</td>\n",
       "      <td>Female</td>\n",
       "      <td>42</td>\n",
       "      <td>Bengaluru</td>\n",
       "      <td>56220.36443</td>\n",
       "      <td>699</td>\n",
       "      <td>30</td>\n",
       "      <td>1</td>\n",
       "    </tr>\n",
       "    <tr>\n",
       "      <th>4</th>\n",
       "      <td>1005</td>\n",
       "      <td>Female</td>\n",
       "      <td>30</td>\n",
       "      <td>Bengaluru</td>\n",
       "      <td>256194.36190</td>\n",
       "      <td>793</td>\n",
       "      <td>6</td>\n",
       "      <td>1</td>\n",
       "    </tr>\n",
       "  </tbody>\n",
       "</table>\n",
       "</div>"
      ],
      "text/plain": [
       "   CustomerID CustomerGender  CustomerAge CustomerCity  AnnualIncome  \\\n",
       "0        1001           Male           49    Bengaluru  527547.58850   \n",
       "1        1002           Male           59    Bengaluru  207143.19760   \n",
       "2        1003         Female           54        Delhi  164423.84570   \n",
       "3        1004         Female           42    Bengaluru   56220.36443   \n",
       "4        1005         Female           30    Bengaluru  256194.36190   \n",
       "\n",
       "   CreditScore  SpendingScore  CustomerCityID  \n",
       "0          653             78               1  \n",
       "1          630             63               1  \n",
       "2          555             69               4  \n",
       "3          699             30               1  \n",
       "4          793              6               1  "
      ]
     },
     "execution_count": 4,
     "metadata": {},
     "output_type": "execute_result"
    }
   ],
   "source": [
    "df=pd.read_csv('Data/Shopping_CustomerData.csv')\n",
    "df.head()"
   ]
  },
  {
   "cell_type": "code",
   "execution_count": 26,
   "metadata": {},
   "outputs": [
    {
     "data": {
      "text/html": [
       "<div>\n",
       "<style scoped>\n",
       "    .dataframe tbody tr th:only-of-type {\n",
       "        vertical-align: middle;\n",
       "    }\n",
       "\n",
       "    .dataframe tbody tr th {\n",
       "        vertical-align: top;\n",
       "    }\n",
       "\n",
       "    .dataframe thead th {\n",
       "        text-align: right;\n",
       "    }\n",
       "</style>\n",
       "<table border=\"1\" class=\"dataframe\">\n",
       "  <thead>\n",
       "    <tr style=\"text-align: right;\">\n",
       "      <th></th>\n",
       "      <th>CustomerGender</th>\n",
       "      <th>CustomerAge</th>\n",
       "      <th>CustomerCity</th>\n",
       "      <th>AnnualIncome</th>\n",
       "      <th>CreditScore</th>\n",
       "      <th>SpendingScore</th>\n",
       "      <th>lable</th>\n",
       "    </tr>\n",
       "  </thead>\n",
       "  <tbody>\n",
       "    <tr>\n",
       "      <th>0</th>\n",
       "      <td>Male</td>\n",
       "      <td>49</td>\n",
       "      <td>Bengaluru</td>\n",
       "      <td>527547.58850</td>\n",
       "      <td>653</td>\n",
       "      <td>78</td>\n",
       "      <td>2</td>\n",
       "    </tr>\n",
       "    <tr>\n",
       "      <th>1</th>\n",
       "      <td>Male</td>\n",
       "      <td>59</td>\n",
       "      <td>Bengaluru</td>\n",
       "      <td>207143.19760</td>\n",
       "      <td>630</td>\n",
       "      <td>63</td>\n",
       "      <td>2</td>\n",
       "    </tr>\n",
       "    <tr>\n",
       "      <th>2</th>\n",
       "      <td>Female</td>\n",
       "      <td>54</td>\n",
       "      <td>Delhi</td>\n",
       "      <td>164423.84570</td>\n",
       "      <td>555</td>\n",
       "      <td>69</td>\n",
       "      <td>1</td>\n",
       "    </tr>\n",
       "    <tr>\n",
       "      <th>3</th>\n",
       "      <td>Female</td>\n",
       "      <td>42</td>\n",
       "      <td>Bengaluru</td>\n",
       "      <td>56220.36443</td>\n",
       "      <td>699</td>\n",
       "      <td>30</td>\n",
       "      <td>1</td>\n",
       "    </tr>\n",
       "    <tr>\n",
       "      <th>4</th>\n",
       "      <td>Female</td>\n",
       "      <td>30</td>\n",
       "      <td>Bengaluru</td>\n",
       "      <td>256194.36190</td>\n",
       "      <td>793</td>\n",
       "      <td>6</td>\n",
       "      <td>1</td>\n",
       "    </tr>\n",
       "    <tr>\n",
       "      <th>...</th>\n",
       "      <td>...</td>\n",
       "      <td>...</td>\n",
       "      <td>...</td>\n",
       "      <td>...</td>\n",
       "      <td>...</td>\n",
       "      <td>...</td>\n",
       "      <td>...</td>\n",
       "    </tr>\n",
       "    <tr>\n",
       "      <th>195</th>\n",
       "      <td>Female</td>\n",
       "      <td>54</td>\n",
       "      <td>Delhi</td>\n",
       "      <td>317466.42070</td>\n",
       "      <td>601</td>\n",
       "      <td>52</td>\n",
       "      <td>1</td>\n",
       "    </tr>\n",
       "    <tr>\n",
       "      <th>196</th>\n",
       "      <td>Female</td>\n",
       "      <td>20</td>\n",
       "      <td>Bengaluru</td>\n",
       "      <td>323305.50020</td>\n",
       "      <td>554</td>\n",
       "      <td>58</td>\n",
       "      <td>1</td>\n",
       "    </tr>\n",
       "    <tr>\n",
       "      <th>197</th>\n",
       "      <td>Male</td>\n",
       "      <td>44</td>\n",
       "      <td>Chennai</td>\n",
       "      <td>109058.54430</td>\n",
       "      <td>844</td>\n",
       "      <td>36</td>\n",
       "      <td>0</td>\n",
       "    </tr>\n",
       "    <tr>\n",
       "      <th>198</th>\n",
       "      <td>Male</td>\n",
       "      <td>28</td>\n",
       "      <td>Delhi</td>\n",
       "      <td>160116.89300</td>\n",
       "      <td>837</td>\n",
       "      <td>24</td>\n",
       "      <td>0</td>\n",
       "    </tr>\n",
       "    <tr>\n",
       "      <th>199</th>\n",
       "      <td>Male</td>\n",
       "      <td>41</td>\n",
       "      <td>Chennai</td>\n",
       "      <td>280081.39010</td>\n",
       "      <td>789</td>\n",
       "      <td>31</td>\n",
       "      <td>0</td>\n",
       "    </tr>\n",
       "  </tbody>\n",
       "</table>\n",
       "<p>200 rows × 7 columns</p>\n",
       "</div>"
      ],
      "text/plain": [
       "    CustomerGender  CustomerAge CustomerCity  AnnualIncome  CreditScore  \\\n",
       "0             Male           49    Bengaluru  527547.58850          653   \n",
       "1             Male           59    Bengaluru  207143.19760          630   \n",
       "2           Female           54        Delhi  164423.84570          555   \n",
       "3           Female           42    Bengaluru   56220.36443          699   \n",
       "4           Female           30    Bengaluru  256194.36190          793   \n",
       "..             ...          ...          ...           ...          ...   \n",
       "195         Female           54        Delhi  317466.42070          601   \n",
       "196         Female           20    Bengaluru  323305.50020          554   \n",
       "197           Male           44      Chennai  109058.54430          844   \n",
       "198           Male           28        Delhi  160116.89300          837   \n",
       "199           Male           41      Chennai  280081.39010          789   \n",
       "\n",
       "     SpendingScore  lable  \n",
       "0               78      2  \n",
       "1               63      2  \n",
       "2               69      1  \n",
       "3               30      1  \n",
       "4                6      1  \n",
       "..             ...    ...  \n",
       "195             52      1  \n",
       "196             58      1  \n",
       "197             36      0  \n",
       "198             24      0  \n",
       "199             31      0  \n",
       "\n",
       "[200 rows x 7 columns]"
      ]
     },
     "execution_count": 26,
     "metadata": {},
     "output_type": "execute_result"
    }
   ],
   "source": [
    "df=pd.read_csv('Data/Shopping_CustomerData.csv')\n",
    "\n",
    "df=df.iloc[:,[1,2,3,4,5,6]]\n",
    "\n",
    "from sklearn.mixture import GaussianMixture\n",
    "from sklearn.preprocessing import OneHotEncoder\n",
    "from sklearn.preprocessing import OrdinalEncoder , MinMaxScaler, StandardScaler\n",
    "from sklearn.model_selection import train_test_split\n",
    "\n",
    "from sklearn.compose import ColumnTransformer\n",
    "transformer = ColumnTransformer(transformers=[\n",
    "                    #('tnf1',SimpleImputer(),['xx']),\n",
    "                    #('tnf2',OrdinalEncoder(),['CustomerCityID']),\n",
    "                    ('MnMx', MinMaxScaler(), ['CustomerAge', 'AnnualIncome', 'CreditScore', 'SpendingScore']),\n",
    "                    ('OHE',OneHotEncoder(sparse=False,handle_unknown='ignore'),['CustomerGender','CustomerCity'])]\n",
    "                        , remainder='passthrough')\n",
    "\n",
    "X=transformer.fit_transform(df)\n",
    "\n",
    "kmean=KMeans(n_clusters=3,max_iter=400).fit(X)\n",
    "\n",
    "lables=kmean.predict(X)\n",
    "\n",
    "K_DF=df.copy()\n",
    "\n",
    "K_DF['lable']=lables\n",
    "\n",
    "K_DF"
   ]
  },
  {
   "cell_type": "code",
   "execution_count": 27,
   "metadata": {},
   "outputs": [
    {
     "data": {
      "application/vnd.plotly.v1+json": {
       "config": {
        "plotlyServerURL": "https://plot.ly"
       },
       "data": [
        {
         "hovertemplate": "CustomerAge=%{x}<br>CreditScore=%{y}<br>CustomerCity=%{z}<br>lable=%{marker.color}<extra></extra>",
         "legendgroup": "",
         "marker": {
          "color": [
           2,
           2,
           1,
           1,
           1,
           1,
           1,
           1,
           0,
           1,
           2,
           1,
           1,
           1,
           2,
           0,
           1,
           0,
           0,
           1,
           0,
           2,
           1,
           0,
           1,
           0,
           1,
           2,
           1,
           1,
           2,
           1,
           0,
           0,
           1,
           1,
           1,
           1,
           1,
           1,
           1,
           2,
           2,
           1,
           1,
           1,
           1,
           1,
           1,
           1,
           1,
           2,
           1,
           0,
           1,
           0,
           1,
           2,
           1,
           2,
           0,
           0,
           1,
           1,
           2,
           0,
           1,
           1,
           0,
           1,
           2,
           1,
           1,
           1,
           0,
           0,
           1,
           2,
           1,
           1,
           0,
           0,
           0,
           1,
           1,
           0,
           1,
           1,
           1,
           1,
           1,
           0,
           0,
           1,
           1,
           0,
           1,
           1,
           0,
           0,
           1,
           1,
           0,
           2,
           0,
           1,
           1,
           0,
           0,
           0,
           0,
           1,
           1,
           0,
           1,
           1,
           1,
           1,
           1,
           1,
           0,
           1,
           1,
           0,
           1,
           1,
           0,
           2,
           2,
           2,
           0,
           0,
           1,
           1,
           0,
           1,
           1,
           2,
           0,
           1,
           1,
           2,
           1,
           1,
           0,
           0,
           0,
           1,
           1,
           0,
           0,
           0,
           1,
           1,
           1,
           1,
           0,
           1,
           2,
           1,
           1,
           1,
           0,
           1,
           0,
           1,
           2,
           1,
           1,
           0,
           2,
           0,
           2,
           2,
           1,
           1,
           0,
           0,
           0,
           0,
           1,
           1,
           0,
           1,
           1,
           0,
           1,
           0,
           1,
           1,
           1,
           1,
           2,
           1,
           1,
           1,
           1,
           0,
           0,
           0
          ],
          "coloraxis": "coloraxis",
          "symbol": "circle"
         },
         "mode": "markers",
         "name": "",
         "scene": "scene",
         "showlegend": false,
         "type": "scatter3d",
         "x": [
          49,
          59,
          54,
          42,
          30,
          38,
          45,
          23,
          59,
          48,
          55,
          73,
          54,
          34,
          54,
          53,
          23,
          30,
          37,
          52,
          39,
          38,
          71,
          31,
          42,
          65,
          65,
          33,
          29,
          24,
          59,
          40,
          52,
          47,
          66,
          62,
          73,
          23,
          45,
          43,
          21,
          45,
          54,
          22,
          26,
          72,
          29,
          65,
          34,
          26,
          66,
          50,
          33,
          47,
          59,
          52,
          55,
          74,
          32,
          31,
          25,
          75,
          39,
          46,
          29,
          34,
          54,
          36,
          52,
          28,
          18,
          45,
          48,
          50,
          43,
          27,
          68,
          67,
          59,
          74,
          62,
          45,
          33,
          20,
          61,
          32,
          49,
          66,
          36,
          55,
          35,
          22,
          59,
          21,
          74,
          51,
          22,
          35,
          47,
          66,
          20,
          58,
          42,
          27,
          63,
          28,
          48,
          63,
          45,
          22,
          70,
          65,
          41,
          56,
          51,
          33,
          69,
          21,
          40,
          19,
          62,
          38,
          49,
          30,
          62,
          58,
          73,
          66,
          71,
          54,
          53,
          34,
          41,
          47,
          26,
          30,
          55,
          43,
          50,
          61,
          37,
          29,
          26,
          22,
          56,
          70,
          38,
          37,
          62,
          19,
          46,
          50,
          48,
          53,
          70,
          60,
          37,
          57,
          66,
          27,
          21,
          22,
          18,
          18,
          38,
          23,
          21,
          44,
          72,
          63,
          50,
          56,
          59,
          44,
          20,
          33,
          49,
          22,
          64,
          31,
          53,
          23,
          26,
          63,
          43,
          62,
          74,
          66,
          45,
          62,
          61,
          47,
          74,
          48,
          48,
          54,
          20,
          44,
          28,
          41
         ],
         "y": [
          653,
          630,
          555,
          699,
          793,
          635,
          881,
          852,
          708,
          669,
          618,
          614,
          711,
          629,
          764,
          880,
          729,
          803,
          817,
          774,
          672,
          691,
          669,
          555,
          778,
          623,
          782,
          588,
          684,
          698,
          562,
          774,
          777,
          769,
          755,
          789,
          575,
          850,
          715,
          639,
          817,
          731,
          704,
          712,
          713,
          874,
          751,
          761,
          633,
          632,
          763,
          701,
          784,
          854,
          692,
          751,
          648,
          865,
          863,
          622,
          817,
          868,
          849,
          565,
          665,
          632,
          670,
          736,
          687,
          561,
          892,
          724,
          583,
          760,
          555,
          712,
          880,
          873,
          715,
          897,
          801,
          600,
          768,
          807,
          626,
          654,
          742,
          738,
          805,
          808,
          625,
          695,
          656,
          678,
          859,
          616,
          861,
          814,
          616,
          653,
          575,
          576,
          575,
          666,
          876,
          568,
          849,
          564,
          654,
          565,
          782,
          667,
          593,
          606,
          553,
          827,
          559,
          806,
          620,
          857,
          804,
          858,
          695,
          800,
          624,
          767,
          630,
          808,
          790,
          726,
          624,
          746,
          895,
          781,
          868,
          894,
          707,
          552,
          842,
          567,
          636,
          756,
          894,
          887,
          647,
          657,
          607,
          637,
          884,
          551,
          892,
          616,
          886,
          868,
          669,
          605,
          854,
          742,
          803,
          707,
          633,
          827,
          742,
          586,
          581,
          786,
          718,
          755,
          836,
          725,
          573,
          605,
          890,
          657,
          779,
          666,
          779,
          844,
          733,
          571,
          601,
          701,
          838,
          573,
          896,
          824,
          615,
          770,
          831,
          676,
          559,
          784,
          608,
          568,
          833,
          601,
          554,
          844,
          837,
          789
         ],
         "z": [
          "Bengaluru",
          "Bengaluru",
          "Delhi",
          "Bengaluru",
          "Bengaluru",
          "Chennai",
          "Chennai",
          "Mumbai",
          "Chennai",
          "Kolkata",
          "Bengaluru",
          "Bengaluru",
          "Delhi",
          "Mumbai",
          "Bengaluru",
          "Kolkata",
          "Bengaluru",
          "Mumbai",
          "Mumbai",
          "Kolkata",
          "Chennai",
          "Bengaluru",
          "Kolkata",
          "Mumbai",
          "Bengaluru",
          "Chennai",
          "Kolkata",
          "Bengaluru",
          "Delhi",
          "Chennai",
          "Bengaluru",
          "Bengaluru",
          "Chennai",
          "Kolkata",
          "Chennai",
          "Delhi",
          "Mumbai",
          "Mumbai",
          "Mumbai",
          "Mumbai",
          "Mumbai",
          "Bengaluru",
          "Bengaluru",
          "Kolkata",
          "Delhi",
          "Kolkata",
          "Bengaluru",
          "Mumbai",
          "Chennai",
          "Chennai",
          "Kolkata",
          "Bengaluru",
          "Kolkata",
          "Mumbai",
          "Kolkata",
          "Delhi",
          "Bengaluru",
          "Bengaluru",
          "Mumbai",
          "Bengaluru",
          "Mumbai",
          "Delhi",
          "Bengaluru",
          "Bengaluru",
          "Bengaluru",
          "Chennai",
          "Mumbai",
          "Delhi",
          "Chennai",
          "Mumbai",
          "Bengaluru",
          "Bengaluru",
          "Kolkata",
          "Mumbai",
          "Delhi",
          "Chennai",
          "Delhi",
          "Bengaluru",
          "Chennai",
          "Chennai",
          "Delhi",
          "Mumbai",
          "Kolkata",
          "Chennai",
          "Delhi",
          "Mumbai",
          "Bengaluru",
          "Chennai",
          "Delhi",
          "Delhi",
          "Delhi",
          "Kolkata",
          "Kolkata",
          "Mumbai",
          "Bengaluru",
          "Mumbai",
          "Delhi",
          "Mumbai",
          "Chennai",
          "Chennai",
          "Bengaluru",
          "Chennai",
          "Delhi",
          "Bengaluru",
          "Chennai",
          "Chennai",
          "Kolkata",
          "Delhi",
          "Chennai",
          "Mumbai",
          "Chennai",
          "Mumbai",
          "Chennai",
          "Delhi",
          "Chennai",
          "Delhi",
          "Mumbai",
          "Delhi",
          "Kolkata",
          "Delhi",
          "Chennai",
          "Mumbai",
          "Delhi",
          "Chennai",
          "Mumbai",
          "Kolkata",
          "Chennai",
          "Bengaluru",
          "Bengaluru",
          "Bengaluru",
          "Kolkata",
          "Mumbai",
          "Delhi",
          "Kolkata",
          "Mumbai",
          "Delhi",
          "Kolkata",
          "Bengaluru",
          "Mumbai",
          "Chennai",
          "Bengaluru",
          "Bengaluru",
          "Chennai",
          "Kolkata",
          "Mumbai",
          "Mumbai",
          "Delhi",
          "Delhi",
          "Bengaluru",
          "Kolkata",
          "Delhi",
          "Delhi",
          "Kolkata",
          "Chennai",
          "Bengaluru",
          "Mumbai",
          "Kolkata",
          "Bengaluru",
          "Bengaluru",
          "Mumbai",
          "Bengaluru",
          "Delhi",
          "Delhi",
          "Delhi",
          "Chennai",
          "Chennai",
          "Bengaluru",
          "Chennai",
          "Mumbai",
          "Chennai",
          "Bengaluru",
          "Mumbai",
          "Bengaluru",
          "Bengaluru",
          "Mumbai",
          "Mumbai",
          "Kolkata",
          "Chennai",
          "Chennai",
          "Delhi",
          "Bengaluru",
          "Bengaluru",
          "Kolkata",
          "Chennai",
          "Chennai",
          "Kolkata",
          "Kolkata",
          "Chennai",
          "Chennai",
          "Delhi",
          "Delhi",
          "Mumbai",
          "Bengaluru",
          "Bengaluru",
          "Chennai",
          "Delhi",
          "Bengaluru",
          "Chennai",
          "Delhi",
          "Chennai"
         ]
        }
       ],
       "layout": {
        "coloraxis": {
         "colorbar": {
          "title": {
           "text": "lable"
          }
         },
         "colorscale": [
          [
           0,
           "#0d0887"
          ],
          [
           0.1111111111111111,
           "#46039f"
          ],
          [
           0.2222222222222222,
           "#7201a8"
          ],
          [
           0.3333333333333333,
           "#9c179e"
          ],
          [
           0.4444444444444444,
           "#bd3786"
          ],
          [
           0.5555555555555556,
           "#d8576b"
          ],
          [
           0.6666666666666666,
           "#ed7953"
          ],
          [
           0.7777777777777778,
           "#fb9f3a"
          ],
          [
           0.8888888888888888,
           "#fdca26"
          ],
          [
           1,
           "#f0f921"
          ]
         ]
        },
        "legend": {
         "tracegroupgap": 0
        },
        "margin": {
         "t": 60
        },
        "scene": {
         "domain": {
          "x": [
           0,
           1
          ],
          "y": [
           0,
           1
          ]
         },
         "xaxis": {
          "title": {
           "text": "CustomerAge"
          }
         },
         "yaxis": {
          "title": {
           "text": "CreditScore"
          }
         },
         "zaxis": {
          "title": {
           "text": "CustomerCity"
          }
         }
        },
        "template": {
         "data": {
          "bar": [
           {
            "error_x": {
             "color": "#2a3f5f"
            },
            "error_y": {
             "color": "#2a3f5f"
            },
            "marker": {
             "line": {
              "color": "#E5ECF6",
              "width": 0.5
             },
             "pattern": {
              "fillmode": "overlay",
              "size": 10,
              "solidity": 0.2
             }
            },
            "type": "bar"
           }
          ],
          "barpolar": [
           {
            "marker": {
             "line": {
              "color": "#E5ECF6",
              "width": 0.5
             },
             "pattern": {
              "fillmode": "overlay",
              "size": 10,
              "solidity": 0.2
             }
            },
            "type": "barpolar"
           }
          ],
          "carpet": [
           {
            "aaxis": {
             "endlinecolor": "#2a3f5f",
             "gridcolor": "white",
             "linecolor": "white",
             "minorgridcolor": "white",
             "startlinecolor": "#2a3f5f"
            },
            "baxis": {
             "endlinecolor": "#2a3f5f",
             "gridcolor": "white",
             "linecolor": "white",
             "minorgridcolor": "white",
             "startlinecolor": "#2a3f5f"
            },
            "type": "carpet"
           }
          ],
          "choropleth": [
           {
            "colorbar": {
             "outlinewidth": 0,
             "ticks": ""
            },
            "type": "choropleth"
           }
          ],
          "contour": [
           {
            "colorbar": {
             "outlinewidth": 0,
             "ticks": ""
            },
            "colorscale": [
             [
              0,
              "#0d0887"
             ],
             [
              0.1111111111111111,
              "#46039f"
             ],
             [
              0.2222222222222222,
              "#7201a8"
             ],
             [
              0.3333333333333333,
              "#9c179e"
             ],
             [
              0.4444444444444444,
              "#bd3786"
             ],
             [
              0.5555555555555556,
              "#d8576b"
             ],
             [
              0.6666666666666666,
              "#ed7953"
             ],
             [
              0.7777777777777778,
              "#fb9f3a"
             ],
             [
              0.8888888888888888,
              "#fdca26"
             ],
             [
              1,
              "#f0f921"
             ]
            ],
            "type": "contour"
           }
          ],
          "contourcarpet": [
           {
            "colorbar": {
             "outlinewidth": 0,
             "ticks": ""
            },
            "type": "contourcarpet"
           }
          ],
          "heatmap": [
           {
            "colorbar": {
             "outlinewidth": 0,
             "ticks": ""
            },
            "colorscale": [
             [
              0,
              "#0d0887"
             ],
             [
              0.1111111111111111,
              "#46039f"
             ],
             [
              0.2222222222222222,
              "#7201a8"
             ],
             [
              0.3333333333333333,
              "#9c179e"
             ],
             [
              0.4444444444444444,
              "#bd3786"
             ],
             [
              0.5555555555555556,
              "#d8576b"
             ],
             [
              0.6666666666666666,
              "#ed7953"
             ],
             [
              0.7777777777777778,
              "#fb9f3a"
             ],
             [
              0.8888888888888888,
              "#fdca26"
             ],
             [
              1,
              "#f0f921"
             ]
            ],
            "type": "heatmap"
           }
          ],
          "heatmapgl": [
           {
            "colorbar": {
             "outlinewidth": 0,
             "ticks": ""
            },
            "colorscale": [
             [
              0,
              "#0d0887"
             ],
             [
              0.1111111111111111,
              "#46039f"
             ],
             [
              0.2222222222222222,
              "#7201a8"
             ],
             [
              0.3333333333333333,
              "#9c179e"
             ],
             [
              0.4444444444444444,
              "#bd3786"
             ],
             [
              0.5555555555555556,
              "#d8576b"
             ],
             [
              0.6666666666666666,
              "#ed7953"
             ],
             [
              0.7777777777777778,
              "#fb9f3a"
             ],
             [
              0.8888888888888888,
              "#fdca26"
             ],
             [
              1,
              "#f0f921"
             ]
            ],
            "type": "heatmapgl"
           }
          ],
          "histogram": [
           {
            "marker": {
             "pattern": {
              "fillmode": "overlay",
              "size": 10,
              "solidity": 0.2
             }
            },
            "type": "histogram"
           }
          ],
          "histogram2d": [
           {
            "colorbar": {
             "outlinewidth": 0,
             "ticks": ""
            },
            "colorscale": [
             [
              0,
              "#0d0887"
             ],
             [
              0.1111111111111111,
              "#46039f"
             ],
             [
              0.2222222222222222,
              "#7201a8"
             ],
             [
              0.3333333333333333,
              "#9c179e"
             ],
             [
              0.4444444444444444,
              "#bd3786"
             ],
             [
              0.5555555555555556,
              "#d8576b"
             ],
             [
              0.6666666666666666,
              "#ed7953"
             ],
             [
              0.7777777777777778,
              "#fb9f3a"
             ],
             [
              0.8888888888888888,
              "#fdca26"
             ],
             [
              1,
              "#f0f921"
             ]
            ],
            "type": "histogram2d"
           }
          ],
          "histogram2dcontour": [
           {
            "colorbar": {
             "outlinewidth": 0,
             "ticks": ""
            },
            "colorscale": [
             [
              0,
              "#0d0887"
             ],
             [
              0.1111111111111111,
              "#46039f"
             ],
             [
              0.2222222222222222,
              "#7201a8"
             ],
             [
              0.3333333333333333,
              "#9c179e"
             ],
             [
              0.4444444444444444,
              "#bd3786"
             ],
             [
              0.5555555555555556,
              "#d8576b"
             ],
             [
              0.6666666666666666,
              "#ed7953"
             ],
             [
              0.7777777777777778,
              "#fb9f3a"
             ],
             [
              0.8888888888888888,
              "#fdca26"
             ],
             [
              1,
              "#f0f921"
             ]
            ],
            "type": "histogram2dcontour"
           }
          ],
          "mesh3d": [
           {
            "colorbar": {
             "outlinewidth": 0,
             "ticks": ""
            },
            "type": "mesh3d"
           }
          ],
          "parcoords": [
           {
            "line": {
             "colorbar": {
              "outlinewidth": 0,
              "ticks": ""
             }
            },
            "type": "parcoords"
           }
          ],
          "pie": [
           {
            "automargin": true,
            "type": "pie"
           }
          ],
          "scatter": [
           {
            "marker": {
             "colorbar": {
              "outlinewidth": 0,
              "ticks": ""
             }
            },
            "type": "scatter"
           }
          ],
          "scatter3d": [
           {
            "line": {
             "colorbar": {
              "outlinewidth": 0,
              "ticks": ""
             }
            },
            "marker": {
             "colorbar": {
              "outlinewidth": 0,
              "ticks": ""
             }
            },
            "type": "scatter3d"
           }
          ],
          "scattercarpet": [
           {
            "marker": {
             "colorbar": {
              "outlinewidth": 0,
              "ticks": ""
             }
            },
            "type": "scattercarpet"
           }
          ],
          "scattergeo": [
           {
            "marker": {
             "colorbar": {
              "outlinewidth": 0,
              "ticks": ""
             }
            },
            "type": "scattergeo"
           }
          ],
          "scattergl": [
           {
            "marker": {
             "colorbar": {
              "outlinewidth": 0,
              "ticks": ""
             }
            },
            "type": "scattergl"
           }
          ],
          "scattermapbox": [
           {
            "marker": {
             "colorbar": {
              "outlinewidth": 0,
              "ticks": ""
             }
            },
            "type": "scattermapbox"
           }
          ],
          "scatterpolar": [
           {
            "marker": {
             "colorbar": {
              "outlinewidth": 0,
              "ticks": ""
             }
            },
            "type": "scatterpolar"
           }
          ],
          "scatterpolargl": [
           {
            "marker": {
             "colorbar": {
              "outlinewidth": 0,
              "ticks": ""
             }
            },
            "type": "scatterpolargl"
           }
          ],
          "scatterternary": [
           {
            "marker": {
             "colorbar": {
              "outlinewidth": 0,
              "ticks": ""
             }
            },
            "type": "scatterternary"
           }
          ],
          "surface": [
           {
            "colorbar": {
             "outlinewidth": 0,
             "ticks": ""
            },
            "colorscale": [
             [
              0,
              "#0d0887"
             ],
             [
              0.1111111111111111,
              "#46039f"
             ],
             [
              0.2222222222222222,
              "#7201a8"
             ],
             [
              0.3333333333333333,
              "#9c179e"
             ],
             [
              0.4444444444444444,
              "#bd3786"
             ],
             [
              0.5555555555555556,
              "#d8576b"
             ],
             [
              0.6666666666666666,
              "#ed7953"
             ],
             [
              0.7777777777777778,
              "#fb9f3a"
             ],
             [
              0.8888888888888888,
              "#fdca26"
             ],
             [
              1,
              "#f0f921"
             ]
            ],
            "type": "surface"
           }
          ],
          "table": [
           {
            "cells": {
             "fill": {
              "color": "#EBF0F8"
             },
             "line": {
              "color": "white"
             }
            },
            "header": {
             "fill": {
              "color": "#C8D4E3"
             },
             "line": {
              "color": "white"
             }
            },
            "type": "table"
           }
          ]
         },
         "layout": {
          "annotationdefaults": {
           "arrowcolor": "#2a3f5f",
           "arrowhead": 0,
           "arrowwidth": 1
          },
          "autotypenumbers": "strict",
          "coloraxis": {
           "colorbar": {
            "outlinewidth": 0,
            "ticks": ""
           }
          },
          "colorscale": {
           "diverging": [
            [
             0,
             "#8e0152"
            ],
            [
             0.1,
             "#c51b7d"
            ],
            [
             0.2,
             "#de77ae"
            ],
            [
             0.3,
             "#f1b6da"
            ],
            [
             0.4,
             "#fde0ef"
            ],
            [
             0.5,
             "#f7f7f7"
            ],
            [
             0.6,
             "#e6f5d0"
            ],
            [
             0.7,
             "#b8e186"
            ],
            [
             0.8,
             "#7fbc41"
            ],
            [
             0.9,
             "#4d9221"
            ],
            [
             1,
             "#276419"
            ]
           ],
           "sequential": [
            [
             0,
             "#0d0887"
            ],
            [
             0.1111111111111111,
             "#46039f"
            ],
            [
             0.2222222222222222,
             "#7201a8"
            ],
            [
             0.3333333333333333,
             "#9c179e"
            ],
            [
             0.4444444444444444,
             "#bd3786"
            ],
            [
             0.5555555555555556,
             "#d8576b"
            ],
            [
             0.6666666666666666,
             "#ed7953"
            ],
            [
             0.7777777777777778,
             "#fb9f3a"
            ],
            [
             0.8888888888888888,
             "#fdca26"
            ],
            [
             1,
             "#f0f921"
            ]
           ],
           "sequentialminus": [
            [
             0,
             "#0d0887"
            ],
            [
             0.1111111111111111,
             "#46039f"
            ],
            [
             0.2222222222222222,
             "#7201a8"
            ],
            [
             0.3333333333333333,
             "#9c179e"
            ],
            [
             0.4444444444444444,
             "#bd3786"
            ],
            [
             0.5555555555555556,
             "#d8576b"
            ],
            [
             0.6666666666666666,
             "#ed7953"
            ],
            [
             0.7777777777777778,
             "#fb9f3a"
            ],
            [
             0.8888888888888888,
             "#fdca26"
            ],
            [
             1,
             "#f0f921"
            ]
           ]
          },
          "colorway": [
           "#636efa",
           "#EF553B",
           "#00cc96",
           "#ab63fa",
           "#FFA15A",
           "#19d3f3",
           "#FF6692",
           "#B6E880",
           "#FF97FF",
           "#FECB52"
          ],
          "font": {
           "color": "#2a3f5f"
          },
          "geo": {
           "bgcolor": "white",
           "lakecolor": "white",
           "landcolor": "#E5ECF6",
           "showlakes": true,
           "showland": true,
           "subunitcolor": "white"
          },
          "hoverlabel": {
           "align": "left"
          },
          "hovermode": "closest",
          "mapbox": {
           "style": "light"
          },
          "paper_bgcolor": "white",
          "plot_bgcolor": "#E5ECF6",
          "polar": {
           "angularaxis": {
            "gridcolor": "white",
            "linecolor": "white",
            "ticks": ""
           },
           "bgcolor": "#E5ECF6",
           "radialaxis": {
            "gridcolor": "white",
            "linecolor": "white",
            "ticks": ""
           }
          },
          "scene": {
           "xaxis": {
            "backgroundcolor": "#E5ECF6",
            "gridcolor": "white",
            "gridwidth": 2,
            "linecolor": "white",
            "showbackground": true,
            "ticks": "",
            "zerolinecolor": "white"
           },
           "yaxis": {
            "backgroundcolor": "#E5ECF6",
            "gridcolor": "white",
            "gridwidth": 2,
            "linecolor": "white",
            "showbackground": true,
            "ticks": "",
            "zerolinecolor": "white"
           },
           "zaxis": {
            "backgroundcolor": "#E5ECF6",
            "gridcolor": "white",
            "gridwidth": 2,
            "linecolor": "white",
            "showbackground": true,
            "ticks": "",
            "zerolinecolor": "white"
           }
          },
          "shapedefaults": {
           "line": {
            "color": "#2a3f5f"
           }
          },
          "ternary": {
           "aaxis": {
            "gridcolor": "white",
            "linecolor": "white",
            "ticks": ""
           },
           "baxis": {
            "gridcolor": "white",
            "linecolor": "white",
            "ticks": ""
           },
           "bgcolor": "#E5ECF6",
           "caxis": {
            "gridcolor": "white",
            "linecolor": "white",
            "ticks": ""
           }
          },
          "title": {
           "x": 0.05
          },
          "xaxis": {
           "automargin": true,
           "gridcolor": "white",
           "linecolor": "white",
           "ticks": "",
           "title": {
            "standoff": 15
           },
           "zerolinecolor": "white",
           "zerolinewidth": 2
          },
          "yaxis": {
           "automargin": true,
           "gridcolor": "white",
           "linecolor": "white",
           "ticks": "",
           "title": {
            "standoff": 15
           },
           "zerolinecolor": "white",
           "zerolinewidth": 2
          }
         }
        }
       }
      },
      "text/html": [
       "<div>                            <div id=\"f08547dd-ee60-49d2-9bfc-3fab489d3381\" class=\"plotly-graph-div\" style=\"height:525px; width:100%;\"></div>            <script type=\"text/javascript\">                require([\"plotly\"], function(Plotly) {                    window.PLOTLYENV=window.PLOTLYENV || {};                                    if (document.getElementById(\"f08547dd-ee60-49d2-9bfc-3fab489d3381\")) {                    Plotly.newPlot(                        \"f08547dd-ee60-49d2-9bfc-3fab489d3381\",                        [{\"hovertemplate\":\"CustomerAge=%{x}<br>CreditScore=%{y}<br>CustomerCity=%{z}<br>lable=%{marker.color}<extra></extra>\",\"legendgroup\":\"\",\"marker\":{\"color\":[2,2,1,1,1,1,1,1,0,1,2,1,1,1,2,0,1,0,0,1,0,2,1,0,1,0,1,2,1,1,2,1,0,0,1,1,1,1,1,1,1,2,2,1,1,1,1,1,1,1,1,2,1,0,1,0,1,2,1,2,0,0,1,1,2,0,1,1,0,1,2,1,1,1,0,0,1,2,1,1,0,0,0,1,1,0,1,1,1,1,1,0,0,1,1,0,1,1,0,0,1,1,0,2,0,1,1,0,0,0,0,1,1,0,1,1,1,1,1,1,0,1,1,0,1,1,0,2,2,2,0,0,1,1,0,1,1,2,0,1,1,2,1,1,0,0,0,1,1,0,0,0,1,1,1,1,0,1,2,1,1,1,0,1,0,1,2,1,1,0,2,0,2,2,1,1,0,0,0,0,1,1,0,1,1,0,1,0,1,1,1,1,2,1,1,1,1,0,0,0],\"coloraxis\":\"coloraxis\",\"symbol\":\"circle\"},\"mode\":\"markers\",\"name\":\"\",\"scene\":\"scene\",\"showlegend\":false,\"x\":[49,59,54,42,30,38,45,23,59,48,55,73,54,34,54,53,23,30,37,52,39,38,71,31,42,65,65,33,29,24,59,40,52,47,66,62,73,23,45,43,21,45,54,22,26,72,29,65,34,26,66,50,33,47,59,52,55,74,32,31,25,75,39,46,29,34,54,36,52,28,18,45,48,50,43,27,68,67,59,74,62,45,33,20,61,32,49,66,36,55,35,22,59,21,74,51,22,35,47,66,20,58,42,27,63,28,48,63,45,22,70,65,41,56,51,33,69,21,40,19,62,38,49,30,62,58,73,66,71,54,53,34,41,47,26,30,55,43,50,61,37,29,26,22,56,70,38,37,62,19,46,50,48,53,70,60,37,57,66,27,21,22,18,18,38,23,21,44,72,63,50,56,59,44,20,33,49,22,64,31,53,23,26,63,43,62,74,66,45,62,61,47,74,48,48,54,20,44,28,41],\"y\":[653,630,555,699,793,635,881,852,708,669,618,614,711,629,764,880,729,803,817,774,672,691,669,555,778,623,782,588,684,698,562,774,777,769,755,789,575,850,715,639,817,731,704,712,713,874,751,761,633,632,763,701,784,854,692,751,648,865,863,622,817,868,849,565,665,632,670,736,687,561,892,724,583,760,555,712,880,873,715,897,801,600,768,807,626,654,742,738,805,808,625,695,656,678,859,616,861,814,616,653,575,576,575,666,876,568,849,564,654,565,782,667,593,606,553,827,559,806,620,857,804,858,695,800,624,767,630,808,790,726,624,746,895,781,868,894,707,552,842,567,636,756,894,887,647,657,607,637,884,551,892,616,886,868,669,605,854,742,803,707,633,827,742,586,581,786,718,755,836,725,573,605,890,657,779,666,779,844,733,571,601,701,838,573,896,824,615,770,831,676,559,784,608,568,833,601,554,844,837,789],\"z\":[\"Bengaluru\",\"Bengaluru\",\"Delhi\",\"Bengaluru\",\"Bengaluru\",\"Chennai\",\"Chennai\",\"Mumbai\",\"Chennai\",\"Kolkata\",\"Bengaluru\",\"Bengaluru\",\"Delhi\",\"Mumbai\",\"Bengaluru\",\"Kolkata\",\"Bengaluru\",\"Mumbai\",\"Mumbai\",\"Kolkata\",\"Chennai\",\"Bengaluru\",\"Kolkata\",\"Mumbai\",\"Bengaluru\",\"Chennai\",\"Kolkata\",\"Bengaluru\",\"Delhi\",\"Chennai\",\"Bengaluru\",\"Bengaluru\",\"Chennai\",\"Kolkata\",\"Chennai\",\"Delhi\",\"Mumbai\",\"Mumbai\",\"Mumbai\",\"Mumbai\",\"Mumbai\",\"Bengaluru\",\"Bengaluru\",\"Kolkata\",\"Delhi\",\"Kolkata\",\"Bengaluru\",\"Mumbai\",\"Chennai\",\"Chennai\",\"Kolkata\",\"Bengaluru\",\"Kolkata\",\"Mumbai\",\"Kolkata\",\"Delhi\",\"Bengaluru\",\"Bengaluru\",\"Mumbai\",\"Bengaluru\",\"Mumbai\",\"Delhi\",\"Bengaluru\",\"Bengaluru\",\"Bengaluru\",\"Chennai\",\"Mumbai\",\"Delhi\",\"Chennai\",\"Mumbai\",\"Bengaluru\",\"Bengaluru\",\"Kolkata\",\"Mumbai\",\"Delhi\",\"Chennai\",\"Delhi\",\"Bengaluru\",\"Chennai\",\"Chennai\",\"Delhi\",\"Mumbai\",\"Kolkata\",\"Chennai\",\"Delhi\",\"Mumbai\",\"Bengaluru\",\"Chennai\",\"Delhi\",\"Delhi\",\"Delhi\",\"Kolkata\",\"Kolkata\",\"Mumbai\",\"Bengaluru\",\"Mumbai\",\"Delhi\",\"Mumbai\",\"Chennai\",\"Chennai\",\"Bengaluru\",\"Chennai\",\"Delhi\",\"Bengaluru\",\"Chennai\",\"Chennai\",\"Kolkata\",\"Delhi\",\"Chennai\",\"Mumbai\",\"Chennai\",\"Mumbai\",\"Chennai\",\"Delhi\",\"Chennai\",\"Delhi\",\"Mumbai\",\"Delhi\",\"Kolkata\",\"Delhi\",\"Chennai\",\"Mumbai\",\"Delhi\",\"Chennai\",\"Mumbai\",\"Kolkata\",\"Chennai\",\"Bengaluru\",\"Bengaluru\",\"Bengaluru\",\"Kolkata\",\"Mumbai\",\"Delhi\",\"Kolkata\",\"Mumbai\",\"Delhi\",\"Kolkata\",\"Bengaluru\",\"Mumbai\",\"Chennai\",\"Bengaluru\",\"Bengaluru\",\"Chennai\",\"Kolkata\",\"Mumbai\",\"Mumbai\",\"Delhi\",\"Delhi\",\"Bengaluru\",\"Kolkata\",\"Delhi\",\"Delhi\",\"Kolkata\",\"Chennai\",\"Bengaluru\",\"Mumbai\",\"Kolkata\",\"Bengaluru\",\"Bengaluru\",\"Mumbai\",\"Bengaluru\",\"Delhi\",\"Delhi\",\"Delhi\",\"Chennai\",\"Chennai\",\"Bengaluru\",\"Chennai\",\"Mumbai\",\"Chennai\",\"Bengaluru\",\"Mumbai\",\"Bengaluru\",\"Bengaluru\",\"Mumbai\",\"Mumbai\",\"Kolkata\",\"Chennai\",\"Chennai\",\"Delhi\",\"Bengaluru\",\"Bengaluru\",\"Kolkata\",\"Chennai\",\"Chennai\",\"Kolkata\",\"Kolkata\",\"Chennai\",\"Chennai\",\"Delhi\",\"Delhi\",\"Mumbai\",\"Bengaluru\",\"Bengaluru\",\"Chennai\",\"Delhi\",\"Bengaluru\",\"Chennai\",\"Delhi\",\"Chennai\"],\"type\":\"scatter3d\"}],                        {\"template\":{\"data\":{\"bar\":[{\"error_x\":{\"color\":\"#2a3f5f\"},\"error_y\":{\"color\":\"#2a3f5f\"},\"marker\":{\"line\":{\"color\":\"#E5ECF6\",\"width\":0.5},\"pattern\":{\"fillmode\":\"overlay\",\"size\":10,\"solidity\":0.2}},\"type\":\"bar\"}],\"barpolar\":[{\"marker\":{\"line\":{\"color\":\"#E5ECF6\",\"width\":0.5},\"pattern\":{\"fillmode\":\"overlay\",\"size\":10,\"solidity\":0.2}},\"type\":\"barpolar\"}],\"carpet\":[{\"aaxis\":{\"endlinecolor\":\"#2a3f5f\",\"gridcolor\":\"white\",\"linecolor\":\"white\",\"minorgridcolor\":\"white\",\"startlinecolor\":\"#2a3f5f\"},\"baxis\":{\"endlinecolor\":\"#2a3f5f\",\"gridcolor\":\"white\",\"linecolor\":\"white\",\"minorgridcolor\":\"white\",\"startlinecolor\":\"#2a3f5f\"},\"type\":\"carpet\"}],\"choropleth\":[{\"colorbar\":{\"outlinewidth\":0,\"ticks\":\"\"},\"type\":\"choropleth\"}],\"contour\":[{\"colorbar\":{\"outlinewidth\":0,\"ticks\":\"\"},\"colorscale\":[[0.0,\"#0d0887\"],[0.1111111111111111,\"#46039f\"],[0.2222222222222222,\"#7201a8\"],[0.3333333333333333,\"#9c179e\"],[0.4444444444444444,\"#bd3786\"],[0.5555555555555556,\"#d8576b\"],[0.6666666666666666,\"#ed7953\"],[0.7777777777777778,\"#fb9f3a\"],[0.8888888888888888,\"#fdca26\"],[1.0,\"#f0f921\"]],\"type\":\"contour\"}],\"contourcarpet\":[{\"colorbar\":{\"outlinewidth\":0,\"ticks\":\"\"},\"type\":\"contourcarpet\"}],\"heatmap\":[{\"colorbar\":{\"outlinewidth\":0,\"ticks\":\"\"},\"colorscale\":[[0.0,\"#0d0887\"],[0.1111111111111111,\"#46039f\"],[0.2222222222222222,\"#7201a8\"],[0.3333333333333333,\"#9c179e\"],[0.4444444444444444,\"#bd3786\"],[0.5555555555555556,\"#d8576b\"],[0.6666666666666666,\"#ed7953\"],[0.7777777777777778,\"#fb9f3a\"],[0.8888888888888888,\"#fdca26\"],[1.0,\"#f0f921\"]],\"type\":\"heatmap\"}],\"heatmapgl\":[{\"colorbar\":{\"outlinewidth\":0,\"ticks\":\"\"},\"colorscale\":[[0.0,\"#0d0887\"],[0.1111111111111111,\"#46039f\"],[0.2222222222222222,\"#7201a8\"],[0.3333333333333333,\"#9c179e\"],[0.4444444444444444,\"#bd3786\"],[0.5555555555555556,\"#d8576b\"],[0.6666666666666666,\"#ed7953\"],[0.7777777777777778,\"#fb9f3a\"],[0.8888888888888888,\"#fdca26\"],[1.0,\"#f0f921\"]],\"type\":\"heatmapgl\"}],\"histogram\":[{\"marker\":{\"pattern\":{\"fillmode\":\"overlay\",\"size\":10,\"solidity\":0.2}},\"type\":\"histogram\"}],\"histogram2d\":[{\"colorbar\":{\"outlinewidth\":0,\"ticks\":\"\"},\"colorscale\":[[0.0,\"#0d0887\"],[0.1111111111111111,\"#46039f\"],[0.2222222222222222,\"#7201a8\"],[0.3333333333333333,\"#9c179e\"],[0.4444444444444444,\"#bd3786\"],[0.5555555555555556,\"#d8576b\"],[0.6666666666666666,\"#ed7953\"],[0.7777777777777778,\"#fb9f3a\"],[0.8888888888888888,\"#fdca26\"],[1.0,\"#f0f921\"]],\"type\":\"histogram2d\"}],\"histogram2dcontour\":[{\"colorbar\":{\"outlinewidth\":0,\"ticks\":\"\"},\"colorscale\":[[0.0,\"#0d0887\"],[0.1111111111111111,\"#46039f\"],[0.2222222222222222,\"#7201a8\"],[0.3333333333333333,\"#9c179e\"],[0.4444444444444444,\"#bd3786\"],[0.5555555555555556,\"#d8576b\"],[0.6666666666666666,\"#ed7953\"],[0.7777777777777778,\"#fb9f3a\"],[0.8888888888888888,\"#fdca26\"],[1.0,\"#f0f921\"]],\"type\":\"histogram2dcontour\"}],\"mesh3d\":[{\"colorbar\":{\"outlinewidth\":0,\"ticks\":\"\"},\"type\":\"mesh3d\"}],\"parcoords\":[{\"line\":{\"colorbar\":{\"outlinewidth\":0,\"ticks\":\"\"}},\"type\":\"parcoords\"}],\"pie\":[{\"automargin\":true,\"type\":\"pie\"}],\"scatter\":[{\"marker\":{\"colorbar\":{\"outlinewidth\":0,\"ticks\":\"\"}},\"type\":\"scatter\"}],\"scatter3d\":[{\"line\":{\"colorbar\":{\"outlinewidth\":0,\"ticks\":\"\"}},\"marker\":{\"colorbar\":{\"outlinewidth\":0,\"ticks\":\"\"}},\"type\":\"scatter3d\"}],\"scattercarpet\":[{\"marker\":{\"colorbar\":{\"outlinewidth\":0,\"ticks\":\"\"}},\"type\":\"scattercarpet\"}],\"scattergeo\":[{\"marker\":{\"colorbar\":{\"outlinewidth\":0,\"ticks\":\"\"}},\"type\":\"scattergeo\"}],\"scattergl\":[{\"marker\":{\"colorbar\":{\"outlinewidth\":0,\"ticks\":\"\"}},\"type\":\"scattergl\"}],\"scattermapbox\":[{\"marker\":{\"colorbar\":{\"outlinewidth\":0,\"ticks\":\"\"}},\"type\":\"scattermapbox\"}],\"scatterpolar\":[{\"marker\":{\"colorbar\":{\"outlinewidth\":0,\"ticks\":\"\"}},\"type\":\"scatterpolar\"}],\"scatterpolargl\":[{\"marker\":{\"colorbar\":{\"outlinewidth\":0,\"ticks\":\"\"}},\"type\":\"scatterpolargl\"}],\"scatterternary\":[{\"marker\":{\"colorbar\":{\"outlinewidth\":0,\"ticks\":\"\"}},\"type\":\"scatterternary\"}],\"surface\":[{\"colorbar\":{\"outlinewidth\":0,\"ticks\":\"\"},\"colorscale\":[[0.0,\"#0d0887\"],[0.1111111111111111,\"#46039f\"],[0.2222222222222222,\"#7201a8\"],[0.3333333333333333,\"#9c179e\"],[0.4444444444444444,\"#bd3786\"],[0.5555555555555556,\"#d8576b\"],[0.6666666666666666,\"#ed7953\"],[0.7777777777777778,\"#fb9f3a\"],[0.8888888888888888,\"#fdca26\"],[1.0,\"#f0f921\"]],\"type\":\"surface\"}],\"table\":[{\"cells\":{\"fill\":{\"color\":\"#EBF0F8\"},\"line\":{\"color\":\"white\"}},\"header\":{\"fill\":{\"color\":\"#C8D4E3\"},\"line\":{\"color\":\"white\"}},\"type\":\"table\"}]},\"layout\":{\"annotationdefaults\":{\"arrowcolor\":\"#2a3f5f\",\"arrowhead\":0,\"arrowwidth\":1},\"autotypenumbers\":\"strict\",\"coloraxis\":{\"colorbar\":{\"outlinewidth\":0,\"ticks\":\"\"}},\"colorscale\":{\"diverging\":[[0,\"#8e0152\"],[0.1,\"#c51b7d\"],[0.2,\"#de77ae\"],[0.3,\"#f1b6da\"],[0.4,\"#fde0ef\"],[0.5,\"#f7f7f7\"],[0.6,\"#e6f5d0\"],[0.7,\"#b8e186\"],[0.8,\"#7fbc41\"],[0.9,\"#4d9221\"],[1,\"#276419\"]],\"sequential\":[[0.0,\"#0d0887\"],[0.1111111111111111,\"#46039f\"],[0.2222222222222222,\"#7201a8\"],[0.3333333333333333,\"#9c179e\"],[0.4444444444444444,\"#bd3786\"],[0.5555555555555556,\"#d8576b\"],[0.6666666666666666,\"#ed7953\"],[0.7777777777777778,\"#fb9f3a\"],[0.8888888888888888,\"#fdca26\"],[1.0,\"#f0f921\"]],\"sequentialminus\":[[0.0,\"#0d0887\"],[0.1111111111111111,\"#46039f\"],[0.2222222222222222,\"#7201a8\"],[0.3333333333333333,\"#9c179e\"],[0.4444444444444444,\"#bd3786\"],[0.5555555555555556,\"#d8576b\"],[0.6666666666666666,\"#ed7953\"],[0.7777777777777778,\"#fb9f3a\"],[0.8888888888888888,\"#fdca26\"],[1.0,\"#f0f921\"]]},\"colorway\":[\"#636efa\",\"#EF553B\",\"#00cc96\",\"#ab63fa\",\"#FFA15A\",\"#19d3f3\",\"#FF6692\",\"#B6E880\",\"#FF97FF\",\"#FECB52\"],\"font\":{\"color\":\"#2a3f5f\"},\"geo\":{\"bgcolor\":\"white\",\"lakecolor\":\"white\",\"landcolor\":\"#E5ECF6\",\"showlakes\":true,\"showland\":true,\"subunitcolor\":\"white\"},\"hoverlabel\":{\"align\":\"left\"},\"hovermode\":\"closest\",\"mapbox\":{\"style\":\"light\"},\"paper_bgcolor\":\"white\",\"plot_bgcolor\":\"#E5ECF6\",\"polar\":{\"angularaxis\":{\"gridcolor\":\"white\",\"linecolor\":\"white\",\"ticks\":\"\"},\"bgcolor\":\"#E5ECF6\",\"radialaxis\":{\"gridcolor\":\"white\",\"linecolor\":\"white\",\"ticks\":\"\"}},\"scene\":{\"xaxis\":{\"backgroundcolor\":\"#E5ECF6\",\"gridcolor\":\"white\",\"gridwidth\":2,\"linecolor\":\"white\",\"showbackground\":true,\"ticks\":\"\",\"zerolinecolor\":\"white\"},\"yaxis\":{\"backgroundcolor\":\"#E5ECF6\",\"gridcolor\":\"white\",\"gridwidth\":2,\"linecolor\":\"white\",\"showbackground\":true,\"ticks\":\"\",\"zerolinecolor\":\"white\"},\"zaxis\":{\"backgroundcolor\":\"#E5ECF6\",\"gridcolor\":\"white\",\"gridwidth\":2,\"linecolor\":\"white\",\"showbackground\":true,\"ticks\":\"\",\"zerolinecolor\":\"white\"}},\"shapedefaults\":{\"line\":{\"color\":\"#2a3f5f\"}},\"ternary\":{\"aaxis\":{\"gridcolor\":\"white\",\"linecolor\":\"white\",\"ticks\":\"\"},\"baxis\":{\"gridcolor\":\"white\",\"linecolor\":\"white\",\"ticks\":\"\"},\"bgcolor\":\"#E5ECF6\",\"caxis\":{\"gridcolor\":\"white\",\"linecolor\":\"white\",\"ticks\":\"\"}},\"title\":{\"x\":0.05},\"xaxis\":{\"automargin\":true,\"gridcolor\":\"white\",\"linecolor\":\"white\",\"ticks\":\"\",\"title\":{\"standoff\":15},\"zerolinecolor\":\"white\",\"zerolinewidth\":2},\"yaxis\":{\"automargin\":true,\"gridcolor\":\"white\",\"linecolor\":\"white\",\"ticks\":\"\",\"title\":{\"standoff\":15},\"zerolinecolor\":\"white\",\"zerolinewidth\":2}}},\"scene\":{\"domain\":{\"x\":[0.0,1.0],\"y\":[0.0,1.0]},\"xaxis\":{\"title\":{\"text\":\"CustomerAge\"}},\"yaxis\":{\"title\":{\"text\":\"CreditScore\"}},\"zaxis\":{\"title\":{\"text\":\"CustomerCity\"}}},\"coloraxis\":{\"colorbar\":{\"title\":{\"text\":\"lable\"}},\"colorscale\":[[0.0,\"#0d0887\"],[0.1111111111111111,\"#46039f\"],[0.2222222222222222,\"#7201a8\"],[0.3333333333333333,\"#9c179e\"],[0.4444444444444444,\"#bd3786\"],[0.5555555555555556,\"#d8576b\"],[0.6666666666666666,\"#ed7953\"],[0.7777777777777778,\"#fb9f3a\"],[0.8888888888888888,\"#fdca26\"],[1.0,\"#f0f921\"]]},\"legend\":{\"tracegroupgap\":0},\"margin\":{\"t\":60}},                        {\"responsive\": true}                    ).then(function(){\n",
       "                            \n",
       "var gd = document.getElementById('f08547dd-ee60-49d2-9bfc-3fab489d3381');\n",
       "var x = new MutationObserver(function (mutations, observer) {{\n",
       "        var display = window.getComputedStyle(gd).display;\n",
       "        if (!display || display === 'none') {{\n",
       "            console.log([gd, 'removed!']);\n",
       "            Plotly.purge(gd);\n",
       "            observer.disconnect();\n",
       "        }}\n",
       "}});\n",
       "\n",
       "// Listen for the removal of the full notebook cells\n",
       "var notebookContainer = gd.closest('#notebook-container');\n",
       "if (notebookContainer) {{\n",
       "    x.observe(notebookContainer, {childList: true});\n",
       "}}\n",
       "\n",
       "// Listen for the clearing of the current output cell\n",
       "var outputEl = gd.closest('.output');\n",
       "if (outputEl) {{\n",
       "    x.observe(outputEl, {childList: true});\n",
       "}}\n",
       "\n",
       "                        })                };                });            </script>        </div>"
      ]
     },
     "metadata": {},
     "output_type": "display_data"
    }
   ],
   "source": [
    "import plotly_express as px\n",
    "px.scatter_3d(K_DF, 'CustomerAge', 'CreditScore', 'CustomerCity', color='lable')"
   ]
  },
  {
   "cell_type": "code",
   "execution_count": 28,
   "metadata": {},
   "outputs": [
    {
     "data": {
      "text/plain": [
       "[<matplotlib.lines.Line2D at 0x7ff196871090>]"
      ]
     },
     "execution_count": 28,
     "metadata": {},
     "output_type": "execute_result"
    },
    {
     "data": {
      "image/png": "[encoded data removed]",
      "text/plain": [
       "<Figure size 432x288 with 1 Axes>"
      ]
     },
     "metadata": {
      "needs_background": "light"
     },
     "output_type": "display_data"
    }
   ],
   "source": [
    "inertias=[]\n",
    "for i in range(1,15):\n",
    "    kmean=KMeans(n_clusters=i,max_iter=500, algorithm='auto' ).fit(X)\n",
    "    inertias.append(kmean.inertia_)\n",
    "    \n",
    "plt.plot(inertias)\n",
    "        "
   ]
  },
  {
   "cell_type": "code",
   "execution_count": 30,
   "metadata": {},
   "outputs": [
    {
     "data": {
      "application/vnd.plotly.v1+json": {
       "config": {
        "plotlyServerURL": "https://plot.ly"
       },
       "data": [
        {
         "hovertemplate": "CustomerAge=%{x}<br>CreditScore=%{y}<br>CustomerCity=%{z}<br>lable=%{marker.color}<extra></extra>",
         "legendgroup": "",
         "marker": {
          "color": [
           8,
           8,
           1,
           9,
           9,
           4,
           4,
           2,
           0,
           5,
           8,
           9,
           1,
           2,
           8,
           3,
           9,
           6,
           6,
           5,
           0,
           8,
           5,
           6,
           9,
           0,
           5,
           8,
           1,
           4,
           8,
           9,
           0,
           3,
           4,
           1,
           2,
           2,
           2,
           2,
           2,
           8,
           8,
           5,
           1,
           5,
           9,
           2,
           4,
           4,
           5,
           8,
           5,
           6,
           5,
           7,
           9,
           8,
           2,
           8,
           6,
           7,
           9,
           9,
           8,
           0,
           2,
           1,
           0,
           2,
           8,
           9,
           5,
           2,
           7,
           0,
           1,
           8,
           4,
           4,
           7,
           6,
           3,
           4,
           1,
           6,
           9,
           4,
           1,
           1,
           1,
           3,
           3,
           2,
           9,
           6,
           1,
           2,
           0,
           0,
           9,
           4,
           7,
           8,
           0,
           4,
           5,
           7,
           0,
           6,
           0,
           2,
           4,
           7,
           4,
           1,
           2,
           1,
           5,
           1,
           0,
           2,
           1,
           0,
           2,
           5,
           0,
           8,
           8,
           8,
           3,
           6,
           1,
           5,
           6,
           1,
           5,
           8,
           6,
           4,
           9,
           8,
           4,
           5,
           6,
           6,
           7,
           1,
           9,
           3,
           7,
           7,
           5,
           4,
           9,
           2,
           3,
           9,
           8,
           2,
           9,
           1,
           7,
           1,
           0,
           4,
           8,
           4,
           2,
           0,
           8,
           6,
           8,
           8,
           2,
           2,
           3,
           0,
           0,
           7,
           9,
           9,
           3,
           4,
           4,
           3,
           5,
           0,
           4,
           1,
           1,
           2,
           8,
           9,
           4,
           1,
           9,
           0,
           7,
           0
          ],
          "coloraxis": "coloraxis",
          "symbol": "circle"
         },
         "mode": "markers",
         "name": "",
         "scene": "scene",
         "showlegend": false,
         "type": "scatter3d",
         "x": [
          49,
          59,
          54,
          42,
          30,
          38,
          45,
          23,
          59,
          48,
          55,
          73,
          54,
          34,
          54,
          53,
          23,
          30,
          37,
          52,
          39,
          38,
          71,
          31,
          42,
          65,
          65,
          33,
          29,
          24,
          59,
          40,
          52,
          47,
          66,
          62,
          73,
          23,
          45,
          43,
          21,
          45,
          54,
          22,
          26,
          72,
          29,
          65,
          34,
          26,
          66,
          50,
          33,
          47,
          59,
          52,
          55,
          74,
          32,
          31,
          25,
          75,
          39,
          46,
          29,
          34,
          54,
          36,
          52,
          28,
          18,
          45,
          48,
          50,
          43,
          27,
          68,
          67,
          59,
          74,
          62,
          45,
          33,
          20,
          61,
          32,
          49,
          66,
          36,
          55,
          35,
          22,
          59,
          21,
          74,
          51,
          22,
          35,
          47,
          66,
          20,
          58,
          42,
          27,
          63,
          28,
          48,
          63,
          45,
          22,
          70,
          65,
          41,
          56,
          51,
          33,
          69,
          21,
          40,
          19,
          62,
          38,
          49,
          30,
          62,
          58,
          73,
          66,
          71,
          54,
          53,
          34,
          41,
          47,
          26,
          30,
          55,
          43,
          50,
          61,
          37,
          29,
          26,
          22,
          56,
          70,
          38,
          37,
          62,
          19,
          46,
          50,
          48,
          53,
          70,
          60,
          37,
          57,
          66,
          27,
          21,
          22,
          18,
          18,
          38,
          23,
          21,
          44,
          72,
          63,
          50,
          56,
          59,
          44,
          20,
          33,
          49,
          22,
          64,
          31,
          53,
          23,
          26,
          63,
          43,
          62,
          74,
          66,
          45,
          62,
          61,
          47,
          74,
          48,
          48,
          54,
          20,
          44,
          28,
          41
         ],
         "y": [
          653,
          630,
          555,
          699,
          793,
          635,
          881,
          852,
          708,
          669,
          618,
          614,
          711,
          629,
          764,
          880,
          729,
          803,
          817,
          774,
          672,
          691,
          669,
          555,
          778,
          623,
          782,
          588,
          684,
          698,
          562,
          774,
          777,
          769,
          755,
          789,
          575,
          850,
          715,
          639,
          817,
          731,
          704,
          712,
          713,
          874,
          751,
          761,
          633,
          632,
          763,
          701,
          784,
          854,
          692,
          751,
          648,
          865,
          863,
          622,
          817,
          868,
          849,
          565,
          665,
          632,
          670,
          736,
          687,
          561,
          892,
          724,
          583,
          760,
          555,
          712,
          880,
          873,
          715,
          897,
          801,
          600,
          768,
          807,
          626,
          654,
          742,
          738,
          805,
          808,
          625,
          695,
          656,
          678,
          859,
          616,
          861,
          814,
          616,
          653,
          575,
          576,
          575,
          666,
          876,
          568,
          849,
          564,
          654,
          565,
          782,
          667,
          593,
          606,
          553,
          827,
          559,
          806,
          620,
          857,
          804,
          858,
          695,
          800,
          624,
          767,
          630,
          808,
          790,
          726,
          624,
          746,
          895,
          781,
          868,
          894,
          707,
          552,
          842,
          567,
          636,
          756,
          894,
          887,
          647,
          657,
          607,
          637,
          884,
          551,
          892,
          616,
          886,
          868,
          669,
          605,
          854,
          742,
          803,
          707,
          633,
          827,
          742,
          586,
          581,
          786,
          718,
          755,
          836,
          725,
          573,
          605,
          890,
          657,
          779,
          666,
          779,
          844,
          733,
          571,
          601,
          701,
          838,
          573,
          896,
          824,
          615,
          770,
          831,
          676,
          559,
          784,
          608,
          568,
          833,
          601,
          554,
          844,
          837,
          789
         ],
         "z": [
          "Bengaluru",
          "Bengaluru",
          "Delhi",
          "Bengaluru",
          "Bengaluru",
          "Chennai",
          "Chennai",
          "Mumbai",
          "Chennai",
          "Kolkata",
          "Bengaluru",
          "Bengaluru",
          "Delhi",
          "Mumbai",
          "Bengaluru",
          "Kolkata",
          "Bengaluru",
          "Mumbai",
          "Mumbai",
          "Kolkata",
          "Chennai",
          "Bengaluru",
          "Kolkata",
          "Mumbai",
          "Bengaluru",
          "Chennai",
          "Kolkata",
          "Bengaluru",
          "Delhi",
          "Chennai",
          "Bengaluru",
          "Bengaluru",
          "Chennai",
          "Kolkata",
          "Chennai",
          "Delhi",
          "Mumbai",
          "Mumbai",
          "Mumbai",
          "Mumbai",
          "Mumbai",
          "Bengaluru",
          "Bengaluru",
          "Kolkata",
          "Delhi",
          "Kolkata",
          "Bengaluru",
          "Mumbai",
          "Chennai",
          "Chennai",
          "Kolkata",
          "Bengaluru",
          "Kolkata",
          "Mumbai",
          "Kolkata",
          "Delhi",
          "Bengaluru",
          "Bengaluru",
          "Mumbai",
          "Bengaluru",
          "Mumbai",
          "Delhi",
          "Bengaluru",
          "Bengaluru",
          "Bengaluru",
          "Chennai",
          "Mumbai",
          "Delhi",
          "Chennai",
          "Mumbai",
          "Bengaluru",
          "Bengaluru",
          "Kolkata",
          "Mumbai",
          "Delhi",
          "Chennai",
          "Delhi",
          "Bengaluru",
          "Chennai",
          "Chennai",
          "Delhi",
          "Mumbai",
          "Kolkata",
          "Chennai",
          "Delhi",
          "Mumbai",
          "Bengaluru",
          "Chennai",
          "Delhi",
          "Delhi",
          "Delhi",
          "Kolkata",
          "Kolkata",
          "Mumbai",
          "Bengaluru",
          "Mumbai",
          "Delhi",
          "Mumbai",
          "Chennai",
          "Chennai",
          "Bengaluru",
          "Chennai",
          "Delhi",
          "Bengaluru",
          "Chennai",
          "Chennai",
          "Kolkata",
          "Delhi",
          "Chennai",
          "Mumbai",
          "Chennai",
          "Mumbai",
          "Chennai",
          "Delhi",
          "Chennai",
          "Delhi",
          "Mumbai",
          "Delhi",
          "Kolkata",
          "Delhi",
          "Chennai",
          "Mumbai",
          "Delhi",
          "Chennai",
          "Mumbai",
          "Kolkata",
          "Chennai",
          "Bengaluru",
          "Bengaluru",
          "Bengaluru",
          "Kolkata",
          "Mumbai",
          "Delhi",
          "Kolkata",
          "Mumbai",
          "Delhi",
          "Kolkata",
          "Bengaluru",
          "Mumbai",
          "Chennai",
          "Bengaluru",
          "Bengaluru",
          "Chennai",
          "Kolkata",
          "Mumbai",
          "Mumbai",
          "Delhi",
          "Delhi",
          "Bengaluru",
          "Kolkata",
          "Delhi",
          "Delhi",
          "Kolkata",
          "Chennai",
          "Bengaluru",
          "Mumbai",
          "Kolkata",
          "Bengaluru",
          "Bengaluru",
          "Mumbai",
          "Bengaluru",
          "Delhi",
          "Delhi",
          "Delhi",
          "Chennai",
          "Chennai",
          "Bengaluru",
          "Chennai",
          "Mumbai",
          "Chennai",
          "Bengaluru",
          "Mumbai",
          "Bengaluru",
          "Bengaluru",
          "Mumbai",
          "Mumbai",
          "Kolkata",
          "Chennai",
          "Chennai",
          "Delhi",
          "Bengaluru",
          "Bengaluru",
          "Kolkata",
          "Chennai",
          "Chennai",
          "Kolkata",
          "Kolkata",
          "Chennai",
          "Chennai",
          "Delhi",
          "Delhi",
          "Mumbai",
          "Bengaluru",
          "Bengaluru",
          "Chennai",
          "Delhi",
          "Bengaluru",
          "Chennai",
          "Delhi",
          "Chennai"
         ]
        }
       ],
       "layout": {
        "coloraxis": {
         "colorbar": {
          "title": {
           "text": "lable"
          }
         },
         "colorscale": [
          [
           0,
           "#0d0887"
          ],
          [
           0.1111111111111111,
           "#46039f"
          ],
          [
           0.2222222222222222,
           "#7201a8"
          ],
          [
           0.3333333333333333,
           "#9c179e"
          ],
          [
           0.4444444444444444,
           "#bd3786"
          ],
          [
           0.5555555555555556,
           "#d8576b"
          ],
          [
           0.6666666666666666,
           "#ed7953"
          ],
          [
           0.7777777777777778,
           "#fb9f3a"
          ],
          [
           0.8888888888888888,
           "#fdca26"
          ],
          [
           1,
           "#f0f921"
          ]
         ]
        },
        "legend": {
         "tracegroupgap": 0
        },
        "margin": {
         "t": 60
        },
        "scene": {
         "domain": {
          "x": [
           0,
           1
          ],
          "y": [
           0,
           1
          ]
         },
         "xaxis": {
          "title": {
           "text": "CustomerAge"
          }
         },
         "yaxis": {
          "title": {
           "text": "CreditScore"
          }
         },
         "zaxis": {
          "title": {
           "text": "CustomerCity"
          }
         }
        },
        "template": {
         "data": {
          "bar": [
           {
            "error_x": {
             "color": "#2a3f5f"
            },
            "error_y": {
             "color": "#2a3f5f"
            },
            "marker": {
             "line": {
              "color": "#E5ECF6",
              "width": 0.5
             },
             "pattern": {
              "fillmode": "overlay",
              "size": 10,
              "solidity": 0.2
             }
            },
            "type": "bar"
           }
          ],
          "barpolar": [
           {
            "marker": {
             "line": {
              "color": "#E5ECF6",
              "width": 0.5
             },
             "pattern": {
              "fillmode": "overlay",
              "size": 10,
              "solidity": 0.2
             }
            },
            "type": "barpolar"
           }
          ],
          "carpet": [
           {
            "aaxis": {
             "endlinecolor": "#2a3f5f",
             "gridcolor": "white",
             "linecolor": "white",
             "minorgridcolor": "white",
             "startlinecolor": "#2a3f5f"
            },
            "baxis": {
             "endlinecolor": "#2a3f5f",
             "gridcolor": "white",
             "linecolor": "white",
             "minorgridcolor": "white",
             "startlinecolor": "#2a3f5f"
            },
            "type": "carpet"
           }
          ],
          "choropleth": [
           {
            "colorbar": {
             "outlinewidth": 0,
             "ticks": ""
            },
            "type": "choropleth"
           }
          ],
          "contour": [
           {
            "colorbar": {
             "outlinewidth": 0,
             "ticks": ""
            },
            "colorscale": [
             [
              0,
              "#0d0887"
             ],
             [
              0.1111111111111111,
              "#46039f"
             ],
             [
              0.2222222222222222,
              "#7201a8"
             ],
             [
              0.3333333333333333,
              "#9c179e"
             ],
             [
              0.4444444444444444,
              "#bd3786"
             ],
             [
              0.5555555555555556,
              "#d8576b"
             ],
             [
              0.6666666666666666,
              "#ed7953"
             ],
             [
              0.7777777777777778,
              "#fb9f3a"
             ],
             [
              0.8888888888888888,
              "#fdca26"
             ],
             [
              1,
              "#f0f921"
             ]
            ],
            "type": "contour"
           }
          ],
          "contourcarpet": [
           {
            "colorbar": {
             "outlinewidth": 0,
             "ticks": ""
            },
            "type": "contourcarpet"
           }
          ],
          "heatmap": [
           {
            "colorbar": {
             "outlinewidth": 0,
             "ticks": ""
            },
            "colorscale": [
             [
              0,
              "#0d0887"
             ],
             [
              0.1111111111111111,
              "#46039f"
             ],
             [
              0.2222222222222222,
              "#7201a8"
             ],
             [
              0.3333333333333333,
              "#9c179e"
             ],
             [
              0.4444444444444444,
              "#bd3786"
             ],
             [
              0.5555555555555556,
              "#d8576b"
             ],
             [
              0.6666666666666666,
              "#ed7953"
             ],
             [
              0.7777777777777778,
              "#fb9f3a"
             ],
             [
              0.8888888888888888,
              "#fdca26"
             ],
             [
              1,
              "#f0f921"
             ]
            ],
            "type": "heatmap"
           }
          ],
          "heatmapgl": [
           {
            "colorbar": {
             "outlinewidth": 0,
             "ticks": ""
            },
            "colorscale": [
             [
              0,
              "#0d0887"
             ],
             [
              0.1111111111111111,
              "#46039f"
             ],
             [
              0.2222222222222222,
              "#7201a8"
             ],
             [
              0.3333333333333333,
              "#9c179e"
             ],
             [
              0.4444444444444444,
              "#bd3786"
             ],
             [
              0.5555555555555556,
              "#d8576b"
             ],
             [
              0.6666666666666666,
              "#ed7953"
             ],
             [
              0.7777777777777778,
              "#fb9f3a"
             ],
             [
              0.8888888888888888,
              "#fdca26"
             ],
             [
              1,
              "#f0f921"
             ]
            ],
            "type": "heatmapgl"
           }
          ],
          "histogram": [
           {
            "marker": {
             "pattern": {
              "fillmode": "overlay",
              "size": 10,
              "solidity": 0.2
             }
            },
            "type": "histogram"
           }
          ],
          "histogram2d": [
           {
            "colorbar": {
             "outlinewidth": 0,
             "ticks": ""
            },
            "colorscale": [
             [
              0,
              "#0d0887"
             ],
             [
              0.1111111111111111,
              "#46039f"
             ],
             [
              0.2222222222222222,
              "#7201a8"
             ],
             [
              0.3333333333333333,
              "#9c179e"
             ],
             [
              0.4444444444444444,
              "#bd3786"
             ],
             [
              0.5555555555555556,
              "#d8576b"
             ],
             [
              0.6666666666666666,
              "#ed7953"
             ],
             [
              0.7777777777777778,
              "#fb9f3a"
             ],
             [
              0.8888888888888888,
              "#fdca26"
             ],
             [
              1,
              "#f0f921"
             ]
            ],
            "type": "histogram2d"
           }
          ],
          "histogram2dcontour": [
           {
            "colorbar": {
             "outlinewidth": 0,
             "ticks": ""
            },
            "colorscale": [
             [
              0,
              "#0d0887"
             ],
             [
              0.1111111111111111,
              "#46039f"
             ],
             [
              0.2222222222222222,
              "#7201a8"
             ],
             [
              0.3333333333333333,
              "#9c179e"
             ],
             [
              0.4444444444444444,
              "#bd3786"
             ],
             [
              0.5555555555555556,
              "#d8576b"
             ],
             [
              0.6666666666666666,
              "#ed7953"
             ],
             [
              0.7777777777777778,
              "#fb9f3a"
             ],
             [
              0.8888888888888888,
              "#fdca26"
             ],
             [
              1,
              "#f0f921"
             ]
            ],
            "type": "histogram2dcontour"
           }
          ],
          "mesh3d": [
           {
            "colorbar": {
             "outlinewidth": 0,
             "ticks": ""
            },
            "type": "mesh3d"
           }
          ],
          "parcoords": [
           {
            "line": {
             "colorbar": {
              "outlinewidth": 0,
              "ticks": ""
             }
            },
            "type": "parcoords"
           }
          ],
          "pie": [
           {
            "automargin": true,
            "type": "pie"
           }
          ],
          "scatter": [
           {
            "marker": {
             "colorbar": {
              "outlinewidth": 0,
              "ticks": ""
             }
            },
            "type": "scatter"
           }
          ],
          "scatter3d": [
           {
            "line": {
             "colorbar": {
              "outlinewidth": 0,
              "ticks": ""
             }
            },
            "marker": {
             "colorbar": {
              "outlinewidth": 0,
              "ticks": ""
             }
            },
            "type": "scatter3d"
           }
          ],
          "scattercarpet": [
           {
            "marker": {
             "colorbar": {
              "outlinewidth": 0,
              "ticks": ""
             }
            },
            "type": "scattercarpet"
           }
          ],
          "scattergeo": [
           {
            "marker": {
             "colorbar": {
              "outlinewidth": 0,
              "ticks": ""
             }
            },
            "type": "scattergeo"
           }
          ],
          "scattergl": [
           {
            "marker": {
             "colorbar": {
              "outlinewidth": 0,
              "ticks": ""
             }
            },
            "type": "scattergl"
           }
          ],
          "scattermapbox": [
           {
            "marker": {
             "colorbar": {
              "outlinewidth": 0,
              "ticks": ""
             }
            },
            "type": "scattermapbox"
           }
          ],
          "scatterpolar": [
           {
            "marker": {
             "colorbar": {
              "outlinewidth": 0,
              "ticks": ""
             }
            },
            "type": "scatterpolar"
           }
          ],
          "scatterpolargl": [
           {
            "marker": {
             "colorbar": {
              "outlinewidth": 0,
              "ticks": ""
             }
            },
            "type": "scatterpolargl"
           }
          ],
          "scatterternary": [
           {
            "marker": {
             "colorbar": {
              "outlinewidth": 0,
              "ticks": ""
             }
            },
            "type": "scatterternary"
           }
          ],
          "surface": [
           {
            "colorbar": {
             "outlinewidth": 0,
             "ticks": ""
            },
            "colorscale": [
             [
              0,
              "#0d0887"
             ],
             [
              0.1111111111111111,
              "#46039f"
             ],
             [
              0.2222222222222222,
              "#7201a8"
             ],
             [
              0.3333333333333333,
              "#9c179e"
             ],
             [
              0.4444444444444444,
              "#bd3786"
             ],
             [
              0.5555555555555556,
              "#d8576b"
             ],
             [
              0.6666666666666666,
              "#ed7953"
             ],
             [
              0.7777777777777778,
              "#fb9f3a"
             ],
             [
              0.8888888888888888,
              "#fdca26"
             ],
             [
              1,
              "#f0f921"
             ]
            ],
            "type": "surface"
           }
          ],
          "table": [
           {
            "cells": {
             "fill": {
              "color": "#EBF0F8"
             },
             "line": {
              "color": "white"
             }
            },
            "header": {
             "fill": {
              "color": "#C8D4E3"
             },
             "line": {
              "color": "white"
             }
            },
            "type": "table"
           }
          ]
         },
         "layout": {
          "annotationdefaults": {
           "arrowcolor": "#2a3f5f",
           "arrowhead": 0,
           "arrowwidth": 1
          },
          "autotypenumbers": "strict",
          "coloraxis": {
           "colorbar": {
            "outlinewidth": 0,
            "ticks": ""
           }
          },
          "colorscale": {
           "diverging": [
            [
             0,
             "#8e0152"
            ],
            [
             0.1,
             "#c51b7d"
            ],
            [
             0.2,
             "#de77ae"
            ],
            [
             0.3,
             "#f1b6da"
            ],
            [
             0.4,
             "#fde0ef"
            ],
            [
             0.5,
             "#f7f7f7"
            ],
            [
             0.6,
             "#e6f5d0"
            ],
            [
             0.7,
             "#b8e186"
            ],
            [
             0.8,
             "#7fbc41"
            ],
            [
             0.9,
             "#4d9221"
            ],
            [
             1,
             "#276419"
            ]
           ],
           "sequential": [
            [
             0,
             "#0d0887"
            ],
            [
             0.1111111111111111,
             "#46039f"
            ],
            [
             0.2222222222222222,
             "#7201a8"
            ],
            [
             0.3333333333333333,
             "#9c179e"
            ],
            [
             0.4444444444444444,
             "#bd3786"
            ],
            [
             0.5555555555555556,
             "#d8576b"
            ],
            [
             0.6666666666666666,
             "#ed7953"
            ],
            [
             0.7777777777777778,
             "#fb9f3a"
            ],
            [
             0.8888888888888888,
             "#fdca26"
            ],
            [
             1,
             "#f0f921"
            ]
           ],
           "sequentialminus": [
            [
             0,
             "#0d0887"
            ],
            [
             0.1111111111111111,
             "#46039f"
            ],
            [
             0.2222222222222222,
             "#7201a8"
            ],
            [
             0.3333333333333333,
             "#9c179e"
            ],
            [
             0.4444444444444444,
             "#bd3786"
            ],
            [
             0.5555555555555556,
             "#d8576b"
            ],
            [
             0.6666666666666666,
             "#ed7953"
            ],
            [
             0.7777777777777778,
             "#fb9f3a"
            ],
            [
             0.8888888888888888,
             "#fdca26"
            ],
            [
             1,
             "#f0f921"
            ]
           ]
          },
          "colorway": [
           "#636efa",
           "#EF553B",
           "#00cc96",
           "#ab63fa",
           "#FFA15A",
           "#19d3f3",
           "#FF6692",
           "#B6E880",
           "#FF97FF",
           "#FECB52"
          ],
          "font": {
           "color": "#2a3f5f"
          },
          "geo": {
           "bgcolor": "white",
           "lakecolor": "white",
           "landcolor": "#E5ECF6",
           "showlakes": true,
           "showland": true,
           "subunitcolor": "white"
          },
          "hoverlabel": {
           "align": "left"
          },
          "hovermode": "closest",
          "mapbox": {
           "style": "light"
          },
          "paper_bgcolor": "white",
          "plot_bgcolor": "#E5ECF6",
          "polar": {
           "angularaxis": {
            "gridcolor": "white",
            "linecolor": "white",
            "ticks": ""
           },
           "bgcolor": "#E5ECF6",
           "radialaxis": {
            "gridcolor": "white",
            "linecolor": "white",
            "ticks": ""
           }
          },
          "scene": {
           "xaxis": {
            "backgroundcolor": "#E5ECF6",
            "gridcolor": "white",
            "gridwidth": 2,
            "linecolor": "white",
            "showbackground": true,
            "ticks": "",
            "zerolinecolor": "white"
           },
           "yaxis": {
            "backgroundcolor": "#E5ECF6",
            "gridcolor": "white",
            "gridwidth": 2,
            "linecolor": "white",
            "showbackground": true,
            "ticks": "",
            "zerolinecolor": "white"
           },
           "zaxis": {
            "backgroundcolor": "#E5ECF6",
            "gridcolor": "white",
            "gridwidth": 2,
            "linecolor": "white",
            "showbackground": true,
            "ticks": "",
            "zerolinecolor": "white"
           }
          },
          "shapedefaults": {
           "line": {
            "color": "#2a3f5f"
           }
          },
          "ternary": {
           "aaxis": {
            "gridcolor": "white",
            "linecolor": "white",
            "ticks": ""
           },
           "baxis": {
            "gridcolor": "white",
            "linecolor": "white",
            "ticks": ""
           },
           "bgcolor": "#E5ECF6",
           "caxis": {
            "gridcolor": "white",
            "linecolor": "white",
            "ticks": ""
           }
          },
          "title": {
           "x": 0.05
          },
          "xaxis": {
           "automargin": true,
           "gridcolor": "white",
           "linecolor": "white",
           "ticks": "",
           "title": {
            "standoff": 15
           },
           "zerolinecolor": "white",
           "zerolinewidth": 2
          },
          "yaxis": {
           "automargin": true,
           "gridcolor": "white",
           "linecolor": "white",
           "ticks": "",
           "title": {
            "standoff": 15
           },
           "zerolinecolor": "white",
           "zerolinewidth": 2
          }
         }
        }
       }
      },
      "text/html": [
       "<div>                            <div id=\"1c731589-09af-469e-9e6a-3d150110c28f\" class=\"plotly-graph-div\" style=\"height:525px; width:100%;\"></div>            <script type=\"text/javascript\">                require([\"plotly\"], function(Plotly) {                    window.PLOTLYENV=window.PLOTLYENV || {};                                    if (document.getElementById(\"1c731589-09af-469e-9e6a-3d150110c28f\")) {                    Plotly.newPlot(                        \"1c731589-09af-469e-9e6a-3d150110c28f\",                        [{\"hovertemplate\":\"CustomerAge=%{x}<br>CreditScore=%{y}<br>CustomerCity=%{z}<br>lable=%{marker.color}<extra></extra>\",\"legendgroup\":\"\",\"marker\":{\"color\":[8,8,1,9,9,4,4,2,0,5,8,9,1,2,8,3,9,6,6,5,0,8,5,6,9,0,5,8,1,4,8,9,0,3,4,1,2,2,2,2,2,8,8,5,1,5,9,2,4,4,5,8,5,6,5,7,9,8,2,8,6,7,9,9,8,0,2,1,0,2,8,9,5,2,7,0,1,8,4,4,7,6,3,4,1,6,9,4,1,1,1,3,3,2,9,6,1,2,0,0,9,4,7,8,0,4,5,7,0,6,0,2,4,7,4,1,2,1,5,1,0,2,1,0,2,5,0,8,8,8,3,6,1,5,6,1,5,8,6,4,9,8,4,5,6,6,7,1,9,3,7,7,5,4,9,2,3,9,8,2,9,1,7,1,0,4,8,4,2,0,8,6,8,8,2,2,3,0,0,7,9,9,3,4,4,3,5,0,4,1,1,2,8,9,4,1,9,0,7,0],\"coloraxis\":\"coloraxis\",\"symbol\":\"circle\"},\"mode\":\"markers\",\"name\":\"\",\"scene\":\"scene\",\"showlegend\":false,\"x\":[49,59,54,42,30,38,45,23,59,48,55,73,54,34,54,53,23,30,37,52,39,38,71,31,42,65,65,33,29,24,59,40,52,47,66,62,73,23,45,43,21,45,54,22,26,72,29,65,34,26,66,50,33,47,59,52,55,74,32,31,25,75,39,46,29,34,54,36,52,28,18,45,48,50,43,27,68,67,59,74,62,45,33,20,61,32,49,66,36,55,35,22,59,21,74,51,22,35,47,66,20,58,42,27,63,28,48,63,45,22,70,65,41,56,51,33,69,21,40,19,62,38,49,30,62,58,73,66,71,54,53,34,41,47,26,30,55,43,50,61,37,29,26,22,56,70,38,37,62,19,46,50,48,53,70,60,37,57,66,27,21,22,18,18,38,23,21,44,72,63,50,56,59,44,20,33,49,22,64,31,53,23,26,63,43,62,74,66,45,62,61,47,74,48,48,54,20,44,28,41],\"y\":[653,630,555,699,793,635,881,852,708,669,618,614,711,629,764,880,729,803,817,774,672,691,669,555,778,623,782,588,684,698,562,774,777,769,755,789,575,850,715,639,817,731,704,712,713,874,751,761,633,632,763,701,784,854,692,751,648,865,863,622,817,868,849,565,665,632,670,736,687,561,892,724,583,760,555,712,880,873,715,897,801,600,768,807,626,654,742,738,805,808,625,695,656,678,859,616,861,814,616,653,575,576,575,666,876,568,849,564,654,565,782,667,593,606,553,827,559,806,620,857,804,858,695,800,624,767,630,808,790,726,624,746,895,781,868,894,707,552,842,567,636,756,894,887,647,657,607,637,884,551,892,616,886,868,669,605,854,742,803,707,633,827,742,586,581,786,718,755,836,725,573,605,890,657,779,666,779,844,733,571,601,701,838,573,896,824,615,770,831,676,559,784,608,568,833,601,554,844,837,789],\"z\":[\"Bengaluru\",\"Bengaluru\",\"Delhi\",\"Bengaluru\",\"Bengaluru\",\"Chennai\",\"Chennai\",\"Mumbai\",\"Chennai\",\"Kolkata\",\"Bengaluru\",\"Bengaluru\",\"Delhi\",\"Mumbai\",\"Bengaluru\",\"Kolkata\",\"Bengaluru\",\"Mumbai\",\"Mumbai\",\"Kolkata\",\"Chennai\",\"Bengaluru\",\"Kolkata\",\"Mumbai\",\"Bengaluru\",\"Chennai\",\"Kolkata\",\"Bengaluru\",\"Delhi\",\"Chennai\",\"Bengaluru\",\"Bengaluru\",\"Chennai\",\"Kolkata\",\"Chennai\",\"Delhi\",\"Mumbai\",\"Mumbai\",\"Mumbai\",\"Mumbai\",\"Mumbai\",\"Bengaluru\",\"Bengaluru\",\"Kolkata\",\"Delhi\",\"Kolkata\",\"Bengaluru\",\"Mumbai\",\"Chennai\",\"Chennai\",\"Kolkata\",\"Bengaluru\",\"Kolkata\",\"Mumbai\",\"Kolkata\",\"Delhi\",\"Bengaluru\",\"Bengaluru\",\"Mumbai\",\"Bengaluru\",\"Mumbai\",\"Delhi\",\"Bengaluru\",\"Bengaluru\",\"Bengaluru\",\"Chennai\",\"Mumbai\",\"Delhi\",\"Chennai\",\"Mumbai\",\"Bengaluru\",\"Bengaluru\",\"Kolkata\",\"Mumbai\",\"Delhi\",\"Chennai\",\"Delhi\",\"Bengaluru\",\"Chennai\",\"Chennai\",\"Delhi\",\"Mumbai\",\"Kolkata\",\"Chennai\",\"Delhi\",\"Mumbai\",\"Bengaluru\",\"Chennai\",\"Delhi\",\"Delhi\",\"Delhi\",\"Kolkata\",\"Kolkata\",\"Mumbai\",\"Bengaluru\",\"Mumbai\",\"Delhi\",\"Mumbai\",\"Chennai\",\"Chennai\",\"Bengaluru\",\"Chennai\",\"Delhi\",\"Bengaluru\",\"Chennai\",\"Chennai\",\"Kolkata\",\"Delhi\",\"Chennai\",\"Mumbai\",\"Chennai\",\"Mumbai\",\"Chennai\",\"Delhi\",\"Chennai\",\"Delhi\",\"Mumbai\",\"Delhi\",\"Kolkata\",\"Delhi\",\"Chennai\",\"Mumbai\",\"Delhi\",\"Chennai\",\"Mumbai\",\"Kolkata\",\"Chennai\",\"Bengaluru\",\"Bengaluru\",\"Bengaluru\",\"Kolkata\",\"Mumbai\",\"Delhi\",\"Kolkata\",\"Mumbai\",\"Delhi\",\"Kolkata\",\"Bengaluru\",\"Mumbai\",\"Chennai\",\"Bengaluru\",\"Bengaluru\",\"Chennai\",\"Kolkata\",\"Mumbai\",\"Mumbai\",\"Delhi\",\"Delhi\",\"Bengaluru\",\"Kolkata\",\"Delhi\",\"Delhi\",\"Kolkata\",\"Chennai\",\"Bengaluru\",\"Mumbai\",\"Kolkata\",\"Bengaluru\",\"Bengaluru\",\"Mumbai\",\"Bengaluru\",\"Delhi\",\"Delhi\",\"Delhi\",\"Chennai\",\"Chennai\",\"Bengaluru\",\"Chennai\",\"Mumbai\",\"Chennai\",\"Bengaluru\",\"Mumbai\",\"Bengaluru\",\"Bengaluru\",\"Mumbai\",\"Mumbai\",\"Kolkata\",\"Chennai\",\"Chennai\",\"Delhi\",\"Bengaluru\",\"Bengaluru\",\"Kolkata\",\"Chennai\",\"Chennai\",\"Kolkata\",\"Kolkata\",\"Chennai\",\"Chennai\",\"Delhi\",\"Delhi\",\"Mumbai\",\"Bengaluru\",\"Bengaluru\",\"Chennai\",\"Delhi\",\"Bengaluru\",\"Chennai\",\"Delhi\",\"Chennai\"],\"type\":\"scatter3d\"}],                        {\"template\":{\"data\":{\"bar\":[{\"error_x\":{\"color\":\"#2a3f5f\"},\"error_y\":{\"color\":\"#2a3f5f\"},\"marker\":{\"line\":{\"color\":\"#E5ECF6\",\"width\":0.5},\"pattern\":{\"fillmode\":\"overlay\",\"size\":10,\"solidity\":0.2}},\"type\":\"bar\"}],\"barpolar\":[{\"marker\":{\"line\":{\"color\":\"#E5ECF6\",\"width\":0.5},\"pattern\":{\"fillmode\":\"overlay\",\"size\":10,\"solidity\":0.2}},\"type\":\"barpolar\"}],\"carpet\":[{\"aaxis\":{\"endlinecolor\":\"#2a3f5f\",\"gridcolor\":\"white\",\"linecolor\":\"white\",\"minorgridcolor\":\"white\",\"startlinecolor\":\"#2a3f5f\"},\"baxis\":{\"endlinecolor\":\"#2a3f5f\",\"gridcolor\":\"white\",\"linecolor\":\"white\",\"minorgridcolor\":\"white\",\"startlinecolor\":\"#2a3f5f\"},\"type\":\"carpet\"}],\"choropleth\":[{\"colorbar\":{\"outlinewidth\":0,\"ticks\":\"\"},\"type\":\"choropleth\"}],\"contour\":[{\"colorbar\":{\"outlinewidth\":0,\"ticks\":\"\"},\"colorscale\":[[0.0,\"#0d0887\"],[0.1111111111111111,\"#46039f\"],[0.2222222222222222,\"#7201a8\"],[0.3333333333333333,\"#9c179e\"],[0.4444444444444444,\"#bd3786\"],[0.5555555555555556,\"#d8576b\"],[0.6666666666666666,\"#ed7953\"],[0.7777777777777778,\"#fb9f3a\"],[0.8888888888888888,\"#fdca26\"],[1.0,\"#f0f921\"]],\"type\":\"contour\"}],\"contourcarpet\":[{\"colorbar\":{\"outlinewidth\":0,\"ticks\":\"\"},\"type\":\"contourcarpet\"}],\"heatmap\":[{\"colorbar\":{\"outlinewidth\":0,\"ticks\":\"\"},\"colorscale\":[[0.0,\"#0d0887\"],[0.1111111111111111,\"#46039f\"],[0.2222222222222222,\"#7201a8\"],[0.3333333333333333,\"#9c179e\"],[0.4444444444444444,\"#bd3786\"],[0.5555555555555556,\"#d8576b\"],[0.6666666666666666,\"#ed7953\"],[0.7777777777777778,\"#fb9f3a\"],[0.8888888888888888,\"#fdca26\"],[1.0,\"#f0f921\"]],\"type\":\"heatmap\"}],\"heatmapgl\":[{\"colorbar\":{\"outlinewidth\":0,\"ticks\":\"\"},\"colorscale\":[[0.0,\"#0d0887\"],[0.1111111111111111,\"#46039f\"],[0.2222222222222222,\"#7201a8\"],[0.3333333333333333,\"#9c179e\"],[0.4444444444444444,\"#bd3786\"],[0.5555555555555556,\"#d8576b\"],[0.6666666666666666,\"#ed7953\"],[0.7777777777777778,\"#fb9f3a\"],[0.8888888888888888,\"#fdca26\"],[1.0,\"#f0f921\"]],\"type\":\"heatmapgl\"}],\"histogram\":[{\"marker\":{\"pattern\":{\"fillmode\":\"overlay\",\"size\":10,\"solidity\":0.2}},\"type\":\"histogram\"}],\"histogram2d\":[{\"colorbar\":{\"outlinewidth\":0,\"ticks\":\"\"},\"colorscale\":[[0.0,\"#0d0887\"],[0.1111111111111111,\"#46039f\"],[0.2222222222222222,\"#7201a8\"],[0.3333333333333333,\"#9c179e\"],[0.4444444444444444,\"#bd3786\"],[0.5555555555555556,\"#d8576b\"],[0.6666666666666666,\"#ed7953\"],[0.7777777777777778,\"#fb9f3a\"],[0.8888888888888888,\"#fdca26\"],[1.0,\"#f0f921\"]],\"type\":\"histogram2d\"}],\"histogram2dcontour\":[{\"colorbar\":{\"outlinewidth\":0,\"ticks\":\"\"},\"colorscale\":[[0.0,\"#0d0887\"],[0.1111111111111111,\"#46039f\"],[0.2222222222222222,\"#7201a8\"],[0.3333333333333333,\"#9c179e\"],[0.4444444444444444,\"#bd3786\"],[0.5555555555555556,\"#d8576b\"],[0.6666666666666666,\"#ed7953\"],[0.7777777777777778,\"#fb9f3a\"],[0.8888888888888888,\"#fdca26\"],[1.0,\"#f0f921\"]],\"type\":\"histogram2dcontour\"}],\"mesh3d\":[{\"colorbar\":{\"outlinewidth\":0,\"ticks\":\"\"},\"type\":\"mesh3d\"}],\"parcoords\":[{\"line\":{\"colorbar\":{\"outlinewidth\":0,\"ticks\":\"\"}},\"type\":\"parcoords\"}],\"pie\":[{\"automargin\":true,\"type\":\"pie\"}],\"scatter\":[{\"marker\":{\"colorbar\":{\"outlinewidth\":0,\"ticks\":\"\"}},\"type\":\"scatter\"}],\"scatter3d\":[{\"line\":{\"colorbar\":{\"outlinewidth\":0,\"ticks\":\"\"}},\"marker\":{\"colorbar\":{\"outlinewidth\":0,\"ticks\":\"\"}},\"type\":\"scatter3d\"}],\"scattercarpet\":[{\"marker\":{\"colorbar\":{\"outlinewidth\":0,\"ticks\":\"\"}},\"type\":\"scattercarpet\"}],\"scattergeo\":[{\"marker\":{\"colorbar\":{\"outlinewidth\":0,\"ticks\":\"\"}},\"type\":\"scattergeo\"}],\"scattergl\":[{\"marker\":{\"colorbar\":{\"outlinewidth\":0,\"ticks\":\"\"}},\"type\":\"scattergl\"}],\"scattermapbox\":[{\"marker\":{\"colorbar\":{\"outlinewidth\":0,\"ticks\":\"\"}},\"type\":\"scattermapbox\"}],\"scatterpolar\":[{\"marker\":{\"colorbar\":{\"outlinewidth\":0,\"ticks\":\"\"}},\"type\":\"scatterpolar\"}],\"scatterpolargl\":[{\"marker\":{\"colorbar\":{\"outlinewidth\":0,\"ticks\":\"\"}},\"type\":\"scatterpolargl\"}],\"scatterternary\":[{\"marker\":{\"colorbar\":{\"outlinewidth\":0,\"ticks\":\"\"}},\"type\":\"scatterternary\"}],\"surface\":[{\"colorbar\":{\"outlinewidth\":0,\"ticks\":\"\"},\"colorscale\":[[0.0,\"#0d0887\"],[0.1111111111111111,\"#46039f\"],[0.2222222222222222,\"#7201a8\"],[0.3333333333333333,\"#9c179e\"],[0.4444444444444444,\"#bd3786\"],[0.5555555555555556,\"#d8576b\"],[0.6666666666666666,\"#ed7953\"],[0.7777777777777778,\"#fb9f3a\"],[0.8888888888888888,\"#fdca26\"],[1.0,\"#f0f921\"]],\"type\":\"surface\"}],\"table\":[{\"cells\":{\"fill\":{\"color\":\"#EBF0F8\"},\"line\":{\"color\":\"white\"}},\"header\":{\"fill\":{\"color\":\"#C8D4E3\"},\"line\":{\"color\":\"white\"}},\"type\":\"table\"}]},\"layout\":{\"annotationdefaults\":{\"arrowcolor\":\"#2a3f5f\",\"arrowhead\":0,\"arrowwidth\":1},\"autotypenumbers\":\"strict\",\"coloraxis\":{\"colorbar\":{\"outlinewidth\":0,\"ticks\":\"\"}},\"colorscale\":{\"diverging\":[[0,\"#8e0152\"],[0.1,\"#c51b7d\"],[0.2,\"#de77ae\"],[0.3,\"#f1b6da\"],[0.4,\"#fde0ef\"],[0.5,\"#f7f7f7\"],[0.6,\"#e6f5d0\"],[0.7,\"#b8e186\"],[0.8,\"#7fbc41\"],[0.9,\"#4d9221\"],[1,\"#276419\"]],\"sequential\":[[0.0,\"#0d0887\"],[0.1111111111111111,\"#46039f\"],[0.2222222222222222,\"#7201a8\"],[0.3333333333333333,\"#9c179e\"],[0.4444444444444444,\"#bd3786\"],[0.5555555555555556,\"#d8576b\"],[0.6666666666666666,\"#ed7953\"],[0.7777777777777778,\"#fb9f3a\"],[0.8888888888888888,\"#fdca26\"],[1.0,\"#f0f921\"]],\"sequentialminus\":[[0.0,\"#0d0887\"],[0.1111111111111111,\"#46039f\"],[0.2222222222222222,\"#7201a8\"],[0.3333333333333333,\"#9c179e\"],[0.4444444444444444,\"#bd3786\"],[0.5555555555555556,\"#d8576b\"],[0.6666666666666666,\"#ed7953\"],[0.7777777777777778,\"#fb9f3a\"],[0.8888888888888888,\"#fdca26\"],[1.0,\"#f0f921\"]]},\"colorway\":[\"#636efa\",\"#EF553B\",\"#00cc96\",\"#ab63fa\",\"#FFA15A\",\"#19d3f3\",\"#FF6692\",\"#B6E880\",\"#FF97FF\",\"#FECB52\"],\"font\":{\"color\":\"#2a3f5f\"},\"geo\":{\"bgcolor\":\"white\",\"lakecolor\":\"white\",\"landcolor\":\"#E5ECF6\",\"showlakes\":true,\"showland\":true,\"subunitcolor\":\"white\"},\"hoverlabel\":{\"align\":\"left\"},\"hovermode\":\"closest\",\"mapbox\":{\"style\":\"light\"},\"paper_bgcolor\":\"white\",\"plot_bgcolor\":\"#E5ECF6\",\"polar\":{\"angularaxis\":{\"gridcolor\":\"white\",\"linecolor\":\"white\",\"ticks\":\"\"},\"bgcolor\":\"#E5ECF6\",\"radialaxis\":{\"gridcolor\":\"white\",\"linecolor\":\"white\",\"ticks\":\"\"}},\"scene\":{\"xaxis\":{\"backgroundcolor\":\"#E5ECF6\",\"gridcolor\":\"white\",\"gridwidth\":2,\"linecolor\":\"white\",\"showbackground\":true,\"ticks\":\"\",\"zerolinecolor\":\"white\"},\"yaxis\":{\"backgroundcolor\":\"#E5ECF6\",\"gridcolor\":\"white\",\"gridwidth\":2,\"linecolor\":\"white\",\"showbackground\":true,\"ticks\":\"\",\"zerolinecolor\":\"white\"},\"zaxis\":{\"backgroundcolor\":\"#E5ECF6\",\"gridcolor\":\"white\",\"gridwidth\":2,\"linecolor\":\"white\",\"showbackground\":true,\"ticks\":\"\",\"zerolinecolor\":\"white\"}},\"shapedefaults\":{\"line\":{\"color\":\"#2a3f5f\"}},\"ternary\":{\"aaxis\":{\"gridcolor\":\"white\",\"linecolor\":\"white\",\"ticks\":\"\"},\"baxis\":{\"gridcolor\":\"white\",\"linecolor\":\"white\",\"ticks\":\"\"},\"bgcolor\":\"#E5ECF6\",\"caxis\":{\"gridcolor\":\"white\",\"linecolor\":\"white\",\"ticks\":\"\"}},\"title\":{\"x\":0.05},\"xaxis\":{\"automargin\":true,\"gridcolor\":\"white\",\"linecolor\":\"white\",\"ticks\":\"\",\"title\":{\"standoff\":15},\"zerolinecolor\":\"white\",\"zerolinewidth\":2},\"yaxis\":{\"automargin\":true,\"gridcolor\":\"white\",\"linecolor\":\"white\",\"ticks\":\"\",\"title\":{\"standoff\":15},\"zerolinecolor\":\"white\",\"zerolinewidth\":2}}},\"scene\":{\"domain\":{\"x\":[0.0,1.0],\"y\":[0.0,1.0]},\"xaxis\":{\"title\":{\"text\":\"CustomerAge\"}},\"yaxis\":{\"title\":{\"text\":\"CreditScore\"}},\"zaxis\":{\"title\":{\"text\":\"CustomerCity\"}}},\"coloraxis\":{\"colorbar\":{\"title\":{\"text\":\"lable\"}},\"colorscale\":[[0.0,\"#0d0887\"],[0.1111111111111111,\"#46039f\"],[0.2222222222222222,\"#7201a8\"],[0.3333333333333333,\"#9c179e\"],[0.4444444444444444,\"#bd3786\"],[0.5555555555555556,\"#d8576b\"],[0.6666666666666666,\"#ed7953\"],[0.7777777777777778,\"#fb9f3a\"],[0.8888888888888888,\"#fdca26\"],[1.0,\"#f0f921\"]]},\"legend\":{\"tracegroupgap\":0},\"margin\":{\"t\":60}},                        {\"responsive\": true}                    ).then(function(){\n",
       "                            \n",
       "var gd = document.getElementById('1c731589-09af-469e-9e6a-3d150110c28f');\n",
       "var x = new MutationObserver(function (mutations, observer) {{\n",
       "        var display = window.getComputedStyle(gd).display;\n",
       "        if (!display || display === 'none') {{\n",
       "            console.log([gd, 'removed!']);\n",
       "            Plotly.purge(gd);\n",
       "            observer.disconnect();\n",
       "        }}\n",
       "}});\n",
       "\n",
       "// Listen for the removal of the full notebook cells\n",
       "var notebookContainer = gd.closest('#notebook-container');\n",
       "if (notebookContainer) {{\n",
       "    x.observe(notebookContainer, {childList: true});\n",
       "}}\n",
       "\n",
       "// Listen for the clearing of the current output cell\n",
       "var outputEl = gd.closest('.output');\n",
       "if (outputEl) {{\n",
       "    x.observe(outputEl, {childList: true});\n",
       "}}\n",
       "\n",
       "                        })                };                });            </script>        </div>"
      ]
     },
     "metadata": {},
     "output_type": "display_data"
    }
   ],
   "source": [
    "kmean=KMeans(n_clusters=10,max_iter=400).fit(X)\n",
    "\n",
    "lables=kmean.predict(X)\n",
    "\n",
    "K_DF=df.copy()\n",
    "\n",
    "K_DF['lable']=lables\n",
    "\n",
    "\n",
    "px.scatter_3d(K_DF, 'CustomerAge', 'CreditScore', 'CustomerCity', color='lable')"
   ]
  },
  {
   "cell_type": "markdown",
   "metadata": {},
   "source": [
    "# Gaussian Mixture \n",
    "\n",
    "- Here we use AIC and BIC to evaluate model\n"
   ]
  },
  {
   "cell_type": "code",
   "execution_count": 32,
   "metadata": {
    "scrolled": false
   },
   "outputs": [
    {
     "data": {
      "application/vnd.plotly.v1+json": {
       "config": {
        "plotlyServerURL": "https://plot.ly"
       },
       "data": [
        {
         "hovertemplate": "CustomerAge=%{x}<br>CreditScore=%{y}<br>CustomerCity=%{z}<br>lable=%{marker.color}<extra></extra>",
         "legendgroup": "",
         "marker": {
          "color": [
           1,
           1,
           2,
           0,
           0,
           2,
           2,
           0,
           1,
           0,
           1,
           0,
           2,
           0,
           1,
           1,
           0,
           1,
           1,
           0,
           1,
           1,
           0,
           1,
           0,
           1,
           0,
           1,
           2,
           2,
           1,
           0,
           1,
           1,
           2,
           2,
           0,
           0,
           0,
           0,
           0,
           1,
           1,
           0,
           2,
           0,
           0,
           0,
           2,
           2,
           0,
           1,
           0,
           1,
           0,
           1,
           0,
           1,
           0,
           1,
           1,
           1,
           0,
           0,
           1,
           1,
           0,
           2,
           1,
           0,
           1,
           0,
           0,
           0,
           1,
           1,
           2,
           1,
           2,
           2,
           1,
           1,
           1,
           2,
           2,
           1,
           0,
           2,
           2,
           2,
           2,
           1,
           1,
           0,
           0,
           1,
           2,
           0,
           1,
           1,
           0,
           2,
           1,
           1,
           1,
           2,
           0,
           1,
           1,
           1,
           1,
           0,
           2,
           1,
           2,
           2,
           0,
           2,
           0,
           2,
           1,
           0,
           2,
           1,
           0,
           0,
           1,
           1,
           1,
           1,
           1,
           1,
           2,
           0,
           1,
           2,
           0,
           1,
           1,
           2,
           0,
           1,
           2,
           0,
           1,
           1,
           1,
           2,
           0,
           1,
           1,
           1,
           0,
           2,
           0,
           0,
           1,
           0,
           1,
           0,
           0,
           2,
           1,
           2,
           1,
           2,
           1,
           2,
           0,
           1,
           1,
           1,
           1,
           1,
           0,
           0,
           1,
           1,
           1,
           1,
           0,
           0,
           1,
           2,
           2,
           1,
           0,
           1,
           2,
           2,
           2,
           0,
           1,
           0,
           2,
           2,
           0,
           1,
           1,
           1
          ],
          "coloraxis": "coloraxis",
          "symbol": "circle"
         },
         "mode": "markers",
         "name": "",
         "scene": "scene",
         "showlegend": false,
         "type": "scatter3d",
         "x": [
          49,
          59,
          54,
          42,
          30,
          38,
          45,
          23,
          59,
          48,
          55,
          73,
          54,
          34,
          54,
          53,
          23,
          30,
          37,
          52,
          39,
          38,
          71,
          31,
          42,
          65,
          65,
          33,
          29,
          24,
          59,
          40,
          52,
          47,
          66,
          62,
          73,
          23,
          45,
          43,
          21,
          45,
          54,
          22,
          26,
          72,
          29,
          65,
          34,
          26,
          66,
          50,
          33,
          47,
          59,
          52,
          55,
          74,
          32,
          31,
          25,
          75,
          39,
          46,
          29,
          34,
          54,
          36,
          52,
          28,
          18,
          45,
          48,
          50,
          43,
          27,
          68,
          67,
          59,
          74,
          62,
          45,
          33,
          20,
          61,
          32,
          49,
          66,
          36,
          55,
          35,
          22,
          59,
          21,
          74,
          51,
          22,
          35,
          47,
          66,
          20,
          58,
          42,
          27,
          63,
          28,
          48,
          63,
          45,
          22,
          70,
          65,
          41,
          56,
          51,
          33,
          69,
          21,
          40,
          19,
          62,
          38,
          49,
          30,
          62,
          58,
          73,
          66,
          71,
          54,
          53,
          34,
          41,
          47,
          26,
          30,
          55,
          43,
          50,
          61,
          37,
          29,
          26,
          22,
          56,
          70,
          38,
          37,
          62,
          19,
          46,
          50,
          48,
          53,
          70,
          60,
          37,
          57,
          66,
          27,
          21,
          22,
          18,
          18,
          38,
          23,
          21,
          44,
          72,
          63,
          50,
          56,
          59,
          44,
          20,
          33,
          49,
          22,
          64,
          31,
          53,
          23,
          26,
          63,
          43,
          62,
          74,
          66,
          45,
          62,
          61,
          47,
          74,
          48,
          48,
          54,
          20,
          44,
          28,
          41
         ],
         "y": [
          653,
          630,
          555,
          699,
          793,
          635,
          881,
          852,
          708,
          669,
          618,
          614,
          711,
          629,
          764,
          880,
          729,
          803,
          817,
          774,
          672,
          691,
          669,
          555,
          778,
          623,
          782,
          588,
          684,
          698,
          562,
          774,
          777,
          769,
          755,
          789,
          575,
          850,
          715,
          639,
          817,
          731,
          704,
          712,
          713,
          874,
          751,
          761,
          633,
          632,
          763,
          701,
          784,
          854,
          692,
          751,
          648,
          865,
          863,
          622,
          817,
          868,
          849,
          565,
          665,
          632,
          670,
          736,
          687,
          561,
          892,
          724,
          583,
          760,
          555,
          712,
          880,
          873,
          715,
          897,
          801,
          600,
          768,
          807,
          626,
          654,
          742,
          738,
          805,
          808,
          625,
          695,
          656,
          678,
          859,
          616,
          861,
          814,
          616,
          653,
          575,
          576,
          575,
          666,
          876,
          568,
          849,
          564,
          654,
          565,
          782,
          667,
          593,
          606,
          553,
          827,
          559,
          806,
          620,
          857,
          804,
          858,
          695,
          800,
          624,
          767,
          630,
          808,
          790,
          726,
          624,
          746,
          895,
          781,
          868,
          894,
          707,
          552,
          842,
          567,
          636,
          756,
          894,
          887,
          647,
          657,
          607,
          637,
          884,
          551,
          892,
          616,
          886,
          868,
          669,
          605,
          854,
          742,
          803,
          707,
          633,
          827,
          742,
          586,
          581,
          786,
          718,
          755,
          836,
          725,
          573,
          605,
          890,
          657,
          779,
          666,
          779,
          844,
          733,
          571,
          601,
          701,
          838,
          573,
          896,
          824,
          615,
          770,
          831,
          676,
          559,
          784,
          608,
          568,
          833,
          601,
          554,
          844,
          837,
          789
         ],
         "z": [
          "Bengaluru",
          "Bengaluru",
          "Delhi",
          "Bengaluru",
          "Bengaluru",
          "Chennai",
          "Chennai",
          "Mumbai",
          "Chennai",
          "Kolkata",
          "Bengaluru",
          "Bengaluru",
          "Delhi",
          "Mumbai",
          "Bengaluru",
          "Kolkata",
          "Bengaluru",
          "Mumbai",
          "Mumbai",
          "Kolkata",
          "Chennai",
          "Bengaluru",
          "Kolkata",
          "Mumbai",
          "Bengaluru",
          "Chennai",
          "Kolkata",
          "Bengaluru",
          "Delhi",
          "Chennai",
          "Bengaluru",
          "Bengaluru",
          "Chennai",
          "Kolkata",
          "Chennai",
          "Delhi",
          "Mumbai",
          "Mumbai",
          "Mumbai",
          "Mumbai",
          "Mumbai",
          "Bengaluru",
          "Bengaluru",
          "Kolkata",
          "Delhi",
          "Kolkata",
          "Bengaluru",
          "Mumbai",
          "Chennai",
          "Chennai",
          "Kolkata",
          "Bengaluru",
          "Kolkata",
          "Mumbai",
          "Kolkata",
          "Delhi",
          "Bengaluru",
          "Bengaluru",
          "Mumbai",
          "Bengaluru",
          "Mumbai",
          "Delhi",
          "Bengaluru",
          "Bengaluru",
          "Bengaluru",
          "Chennai",
          "Mumbai",
          "Delhi",
          "Chennai",
          "Mumbai",
          "Bengaluru",
          "Bengaluru",
          "Kolkata",
          "Mumbai",
          "Delhi",
          "Chennai",
          "Delhi",
          "Bengaluru",
          "Chennai",
          "Chennai",
          "Delhi",
          "Mumbai",
          "Kolkata",
          "Chennai",
          "Delhi",
          "Mumbai",
          "Bengaluru",
          "Chennai",
          "Delhi",
          "Delhi",
          "Delhi",
          "Kolkata",
          "Kolkata",
          "Mumbai",
          "Bengaluru",
          "Mumbai",
          "Delhi",
          "Mumbai",
          "Chennai",
          "Chennai",
          "Bengaluru",
          "Chennai",
          "Delhi",
          "Bengaluru",
          "Chennai",
          "Chennai",
          "Kolkata",
          "Delhi",
          "Chennai",
          "Mumbai",
          "Chennai",
          "Mumbai",
          "Chennai",
          "Delhi",
          "Chennai",
          "Delhi",
          "Mumbai",
          "Delhi",
          "Kolkata",
          "Delhi",
          "Chennai",
          "Mumbai",
          "Delhi",
          "Chennai",
          "Mumbai",
          "Kolkata",
          "Chennai",
          "Bengaluru",
          "Bengaluru",
          "Bengaluru",
          "Kolkata",
          "Mumbai",
          "Delhi",
          "Kolkata",
          "Mumbai",
          "Delhi",
          "Kolkata",
          "Bengaluru",
          "Mumbai",
          "Chennai",
          "Bengaluru",
          "Bengaluru",
          "Chennai",
          "Kolkata",
          "Mumbai",
          "Mumbai",
          "Delhi",
          "Delhi",
          "Bengaluru",
          "Kolkata",
          "Delhi",
          "Delhi",
          "Kolkata",
          "Chennai",
          "Bengaluru",
          "Mumbai",
          "Kolkata",
          "Bengaluru",
          "Bengaluru",
          "Mumbai",
          "Bengaluru",
          "Delhi",
          "Delhi",
          "Delhi",
          "Chennai",
          "Chennai",
          "Bengaluru",
          "Chennai",
          "Mumbai",
          "Chennai",
          "Bengaluru",
          "Mumbai",
          "Bengaluru",
          "Bengaluru",
          "Mumbai",
          "Mumbai",
          "Kolkata",
          "Chennai",
          "Chennai",
          "Delhi",
          "Bengaluru",
          "Bengaluru",
          "Kolkata",
          "Chennai",
          "Chennai",
          "Kolkata",
          "Kolkata",
          "Chennai",
          "Chennai",
          "Delhi",
          "Delhi",
          "Mumbai",
          "Bengaluru",
          "Bengaluru",
          "Chennai",
          "Delhi",
          "Bengaluru",
          "Chennai",
          "Delhi",
          "Chennai"
         ]
        }
       ],
       "layout": {
        "coloraxis": {
         "colorbar": {
          "title": {
           "text": "lable"
          }
         },
         "colorscale": [
          [
           0,
           "#0d0887"
          ],
          [
           0.1111111111111111,
           "#46039f"
          ],
          [
           0.2222222222222222,
           "#7201a8"
          ],
          [
           0.3333333333333333,
           "#9c179e"
          ],
          [
           0.4444444444444444,
           "#bd3786"
          ],
          [
           0.5555555555555556,
           "#d8576b"
          ],
          [
           0.6666666666666666,
           "#ed7953"
          ],
          [
           0.7777777777777778,
           "#fb9f3a"
          ],
          [
           0.8888888888888888,
           "#fdca26"
          ],
          [
           1,
           "#f0f921"
          ]
         ]
        },
        "legend": {
         "tracegroupgap": 0
        },
        "margin": {
         "t": 60
        },
        "scene": {
         "domain": {
          "x": [
           0,
           1
          ],
          "y": [
           0,
           1
          ]
         },
         "xaxis": {
          "title": {
           "text": "CustomerAge"
          }
         },
         "yaxis": {
          "title": {
           "text": "CreditScore"
          }
         },
         "zaxis": {
          "title": {
           "text": "CustomerCity"
          }
         }
        },
        "template": {
         "data": {
          "bar": [
           {
            "error_x": {
             "color": "#2a3f5f"
            },
            "error_y": {
             "color": "#2a3f5f"
            },
            "marker": {
             "line": {
              "color": "#E5ECF6",
              "width": 0.5
             },
             "pattern": {
              "fillmode": "overlay",
              "size": 10,
              "solidity": 0.2
             }
            },
            "type": "bar"
           }
          ],
          "barpolar": [
           {
            "marker": {
             "line": {
              "color": "#E5ECF6",
              "width": 0.5
             },
             "pattern": {
              "fillmode": "overlay",
              "size": 10,
              "solidity": 0.2
             }
            },
            "type": "barpolar"
           }
          ],
          "carpet": [
           {
            "aaxis": {
             "endlinecolor": "#2a3f5f",
             "gridcolor": "white",
             "linecolor": "white",
             "minorgridcolor": "white",
             "startlinecolor": "#2a3f5f"
            },
            "baxis": {
             "endlinecolor": "#2a3f5f",
             "gridcolor": "white",
             "linecolor": "white",
             "minorgridcolor": "white",
             "startlinecolor": "#2a3f5f"
            },
            "type": "carpet"
           }
          ],
          "choropleth": [
           {
            "colorbar": {
             "outlinewidth": 0,
             "ticks": ""
            },
            "type": "choropleth"
           }
          ],
          "contour": [
           {
            "colorbar": {
             "outlinewidth": 0,
             "ticks": ""
            },
            "colorscale": [
             [
              0,
              "#0d0887"
             ],
             [
              0.1111111111111111,
              "#46039f"
             ],
             [
              0.2222222222222222,
              "#7201a8"
             ],
             [
              0.3333333333333333,
              "#9c179e"
             ],
             [
              0.4444444444444444,
              "#bd3786"
             ],
             [
              0.5555555555555556,
              "#d8576b"
             ],
             [
              0.6666666666666666,
              "#ed7953"
             ],
             [
              0.7777777777777778,
              "#fb9f3a"
             ],
             [
              0.8888888888888888,
              "#fdca26"
             ],
             [
              1,
              "#f0f921"
             ]
            ],
            "type": "contour"
           }
          ],
          "contourcarpet": [
           {
            "colorbar": {
             "outlinewidth": 0,
             "ticks": ""
            },
            "type": "contourcarpet"
           }
          ],
          "heatmap": [
           {
            "colorbar": {
             "outlinewidth": 0,
             "ticks": ""
            },
            "colorscale": [
             [
              0,
              "#0d0887"
             ],
             [
              0.1111111111111111,
              "#46039f"
             ],
             [
              0.2222222222222222,
              "#7201a8"
             ],
             [
              0.3333333333333333,
              "#9c179e"
             ],
             [
              0.4444444444444444,
              "#bd3786"
             ],
             [
              0.5555555555555556,
              "#d8576b"
             ],
             [
              0.6666666666666666,
              "#ed7953"
             ],
             [
              0.7777777777777778,
              "#fb9f3a"
             ],
             [
              0.8888888888888888,
              "#fdca26"
             ],
             [
              1,
              "#f0f921"
             ]
            ],
            "type": "heatmap"
           }
          ],
          "heatmapgl": [
           {
            "colorbar": {
             "outlinewidth": 0,
             "ticks": ""
            },
            "colorscale": [
             [
              0,
              "#0d0887"
             ],
             [
              0.1111111111111111,
              "#46039f"
             ],
             [
              0.2222222222222222,
              "#7201a8"
             ],
             [
              0.3333333333333333,
              "#9c179e"
             ],
             [
              0.4444444444444444,
              "#bd3786"
             ],
             [
              0.5555555555555556,
              "#d8576b"
             ],
             [
              0.6666666666666666,
              "#ed7953"
             ],
             [
              0.7777777777777778,
              "#fb9f3a"
             ],
             [
              0.8888888888888888,
              "#fdca26"
             ],
             [
              1,
              "#f0f921"
             ]
            ],
            "type": "heatmapgl"
           }
          ],
          "histogram": [
           {
            "marker": {
             "pattern": {
              "fillmode": "overlay",
              "size": 10,
              "solidity": 0.2
             }
            },
            "type": "histogram"
           }
          ],
          "histogram2d": [
           {
            "colorbar": {
             "outlinewidth": 0,
             "ticks": ""
            },
            "colorscale": [
             [
              0,
              "#0d0887"
             ],
             [
              0.1111111111111111,
              "#46039f"
             ],
             [
              0.2222222222222222,
              "#7201a8"
             ],
             [
              0.3333333333333333,
              "#9c179e"
             ],
             [
              0.4444444444444444,
              "#bd3786"
             ],
             [
              0.5555555555555556,
              "#d8576b"
             ],
             [
              0.6666666666666666,
              "#ed7953"
             ],
             [
              0.7777777777777778,
              "#fb9f3a"
             ],
             [
              0.8888888888888888,
              "#fdca26"
             ],
             [
              1,
              "#f0f921"
             ]
            ],
            "type": "histogram2d"
           }
          ],
          "histogram2dcontour": [
           {
            "colorbar": {
             "outlinewidth": 0,
             "ticks": ""
            },
            "colorscale": [
             [
              0,
              "#0d0887"
             ],
             [
              0.1111111111111111,
              "#46039f"
             ],
             [
              0.2222222222222222,
              "#7201a8"
             ],
             [
              0.3333333333333333,
              "#9c179e"
             ],
             [
              0.4444444444444444,
              "#bd3786"
             ],
             [
              0.5555555555555556,
              "#d8576b"
             ],
             [
              0.6666666666666666,
              "#ed7953"
             ],
             [
              0.7777777777777778,
              "#fb9f3a"
             ],
             [
              0.8888888888888888,
              "#fdca26"
             ],
             [
              1,
              "#f0f921"
             ]
            ],
            "type": "histogram2dcontour"
           }
          ],
          "mesh3d": [
           {
            "colorbar": {
             "outlinewidth": 0,
             "ticks": ""
            },
            "type": "mesh3d"
           }
          ],
          "parcoords": [
           {
            "line": {
             "colorbar": {
              "outlinewidth": 0,
              "ticks": ""
             }
            },
            "type": "parcoords"
           }
          ],
          "pie": [
           {
            "automargin": true,
            "type": "pie"
           }
          ],
          "scatter": [
           {
            "marker": {
             "colorbar": {
              "outlinewidth": 0,
              "ticks": ""
             }
            },
            "type": "scatter"
           }
          ],
          "scatter3d": [
           {
            "line": {
             "colorbar": {
              "outlinewidth": 0,
              "ticks": ""
             }
            },
            "marker": {
             "colorbar": {
              "outlinewidth": 0,
              "ticks": ""
             }
            },
            "type": "scatter3d"
           }
          ],
          "scattercarpet": [
           {
            "marker": {
             "colorbar": {
              "outlinewidth": 0,
              "ticks": ""
             }
            },
            "type": "scattercarpet"
           }
          ],
          "scattergeo": [
           {
            "marker": {
             "colorbar": {
              "outlinewidth": 0,
              "ticks": ""
             }
            },
            "type": "scattergeo"
           }
          ],
          "scattergl": [
           {
            "marker": {
             "colorbar": {
              "outlinewidth": 0,
              "ticks": ""
             }
            },
            "type": "scattergl"
           }
          ],
          "scattermapbox": [
           {
            "marker": {
             "colorbar": {
              "outlinewidth": 0,
              "ticks": ""
             }
            },
            "type": "scattermapbox"
           }
          ],
          "scatterpolar": [
           {
            "marker": {
             "colorbar": {
              "outlinewidth": 0,
              "ticks": ""
             }
            },
            "type": "scatterpolar"
           }
          ],
          "scatterpolargl": [
           {
            "marker": {
             "colorbar": {
              "outlinewidth": 0,
              "ticks": ""
             }
            },
            "type": "scatterpolargl"
           }
          ],
          "scatterternary": [
           {
            "marker": {
             "colorbar": {
              "outlinewidth": 0,
              "ticks": ""
             }
            },
            "type": "scatterternary"
           }
          ],
          "surface": [
           {
            "colorbar": {
             "outlinewidth": 0,
             "ticks": ""
            },
            "colorscale": [
             [
              0,
              "#0d0887"
             ],
             [
              0.1111111111111111,
              "#46039f"
             ],
             [
              0.2222222222222222,
              "#7201a8"
             ],
             [
              0.3333333333333333,
              "#9c179e"
             ],
             [
              0.4444444444444444,
              "#bd3786"
             ],
             [
              0.5555555555555556,
              "#d8576b"
             ],
             [
              0.6666666666666666,
              "#ed7953"
             ],
             [
              0.7777777777777778,
              "#fb9f3a"
             ],
             [
              0.8888888888888888,
              "#fdca26"
             ],
             [
              1,
              "#f0f921"
             ]
            ],
            "type": "surface"
           }
          ],
          "table": [
           {
            "cells": {
             "fill": {
              "color": "#EBF0F8"
             },
             "line": {
              "color": "white"
             }
            },
            "header": {
             "fill": {
              "color": "#C8D4E3"
             },
             "line": {
              "color": "white"
             }
            },
            "type": "table"
           }
          ]
         },
         "layout": {
          "annotationdefaults": {
           "arrowcolor": "#2a3f5f",
           "arrowhead": 0,
           "arrowwidth": 1
          },
          "autotypenumbers": "strict",
          "coloraxis": {
           "colorbar": {
            "outlinewidth": 0,
            "ticks": ""
           }
          },
          "colorscale": {
           "diverging": [
            [
             0,
             "#8e0152"
            ],
            [
             0.1,
             "#c51b7d"
            ],
            [
             0.2,
             "#de77ae"
            ],
            [
             0.3,
             "#f1b6da"
            ],
            [
             0.4,
             "#fde0ef"
            ],
            [
             0.5,
             "#f7f7f7"
            ],
            [
             0.6,
             "#e6f5d0"
            ],
            [
             0.7,
             "#b8e186"
            ],
            [
             0.8,
             "#7fbc41"
            ],
            [
             0.9,
             "#4d9221"
            ],
            [
             1,
             "#276419"
            ]
           ],
           "sequential": [
            [
             0,
             "#0d0887"
            ],
            [
             0.1111111111111111,
             "#46039f"
            ],
            [
             0.2222222222222222,
             "#7201a8"
            ],
            [
             0.3333333333333333,
             "#9c179e"
            ],
            [
             0.4444444444444444,
             "#bd3786"
            ],
            [
             0.5555555555555556,
             "#d8576b"
            ],
            [
             0.6666666666666666,
             "#ed7953"
            ],
            [
             0.7777777777777778,
             "#fb9f3a"
            ],
            [
             0.8888888888888888,
             "#fdca26"
            ],
            [
             1,
             "#f0f921"
            ]
           ],
           "sequentialminus": [
            [
             0,
             "#0d0887"
            ],
            [
             0.1111111111111111,
             "#46039f"
            ],
            [
             0.2222222222222222,
             "#7201a8"
            ],
            [
             0.3333333333333333,
             "#9c179e"
            ],
            [
             0.4444444444444444,
             "#bd3786"
            ],
            [
             0.5555555555555556,
             "#d8576b"
            ],
            [
             0.6666666666666666,
             "#ed7953"
            ],
            [
             0.7777777777777778,
             "#fb9f3a"
            ],
            [
             0.8888888888888888,
             "#fdca26"
            ],
            [
             1,
             "#f0f921"
            ]
           ]
          },
          "colorway": [
           "#636efa",
           "#EF553B",
           "#00cc96",
           "#ab63fa",
           "#FFA15A",
           "#19d3f3",
           "#FF6692",
           "#B6E880",
           "#FF97FF",
           "#FECB52"
          ],
          "font": {
           "color": "#2a3f5f"
          },
          "geo": {
           "bgcolor": "white",
           "lakecolor": "white",
           "landcolor": "#E5ECF6",
           "showlakes": true,
           "showland": true,
           "subunitcolor": "white"
          },
          "hoverlabel": {
           "align": "left"
          },
          "hovermode": "closest",
          "mapbox": {
           "style": "light"
          },
          "paper_bgcolor": "white",
          "plot_bgcolor": "#E5ECF6",
          "polar": {
           "angularaxis": {
            "gridcolor": "white",
            "linecolor": "white",
            "ticks": ""
           },
           "bgcolor": "#E5ECF6",
           "radialaxis": {
            "gridcolor": "white",
            "linecolor": "white",
            "ticks": ""
           }
          },
          "scene": {
           "xaxis": {
            "backgroundcolor": "#E5ECF6",
            "gridcolor": "white",
            "gridwidth": 2,
            "linecolor": "white",
            "showbackground": true,
            "ticks": "",
            "zerolinecolor": "white"
           },
           "yaxis": {
            "backgroundcolor": "#E5ECF6",
            "gridcolor": "white",
            "gridwidth": 2,
            "linecolor": "white",
            "showbackground": true,
            "ticks": "",
            "zerolinecolor": "white"
           },
           "zaxis": {
            "backgroundcolor": "#E5ECF6",
            "gridcolor": "white",
            "gridwidth": 2,
            "linecolor": "white",
            "showbackground": true,
            "ticks": "",
            "zerolinecolor": "white"
           }
          },
          "shapedefaults": {
           "line": {
            "color": "#2a3f5f"
           }
          },
          "ternary": {
           "aaxis": {
            "gridcolor": "white",
            "linecolor": "white",
            "ticks": ""
           },
           "baxis": {
            "gridcolor": "white",
            "linecolor": "white",
            "ticks": ""
           },
           "bgcolor": "#E5ECF6",
           "caxis": {
            "gridcolor": "white",
            "linecolor": "white",
            "ticks": ""
           }
          },
          "title": {
           "x": 0.05
          },
          "xaxis": {
           "automargin": true,
           "gridcolor": "white",
           "linecolor": "white",
           "ticks": "",
           "title": {
            "standoff": 15
           },
           "zerolinecolor": "white",
           "zerolinewidth": 2
          },
          "yaxis": {
           "automargin": true,
           "gridcolor": "white",
           "linecolor": "white",
           "ticks": "",
           "title": {
            "standoff": 15
           },
           "zerolinecolor": "white",
           "zerolinewidth": 2
          }
         }
        }
       }
      },
      "text/html": [
       "<div>                            <div id=\"f2e065bc-e0c1-4c93-acad-d40a9137dc54\" class=\"plotly-graph-div\" style=\"height:525px; width:100%;\"></div>            <script type=\"text/javascript\">                require([\"plotly\"], function(Plotly) {                    window.PLOTLYENV=window.PLOTLYENV || {};                                    if (document.getElementById(\"f2e065bc-e0c1-4c93-acad-d40a9137dc54\")) {                    Plotly.newPlot(                        \"f2e065bc-e0c1-4c93-acad-d40a9137dc54\",                        [{\"hovertemplate\":\"CustomerAge=%{x}<br>CreditScore=%{y}<br>CustomerCity=%{z}<br>lable=%{marker.color}<extra></extra>\",\"legendgroup\":\"\",\"marker\":{\"color\":[1,1,2,0,0,2,2,0,1,0,1,0,2,0,1,1,0,1,1,0,1,1,0,1,0,1,0,1,2,2,1,0,1,1,2,2,0,0,0,0,0,1,1,0,2,0,0,0,2,2,0,1,0,1,0,1,0,1,0,1,1,1,0,0,1,1,0,2,1,0,1,0,0,0,1,1,2,1,2,2,1,1,1,2,2,1,0,2,2,2,2,1,1,0,0,1,2,0,1,1,0,2,1,1,1,2,0,1,1,1,1,0,2,1,2,2,0,2,0,2,1,0,2,1,0,0,1,1,1,1,1,1,2,0,1,2,0,1,1,2,0,1,2,0,1,1,1,2,0,1,1,1,0,2,0,0,1,0,1,0,0,2,1,2,1,2,1,2,0,1,1,1,1,1,0,0,1,1,1,1,0,0,1,2,2,1,0,1,2,2,2,0,1,0,2,2,0,1,1,1],\"coloraxis\":\"coloraxis\",\"symbol\":\"circle\"},\"mode\":\"markers\",\"name\":\"\",\"scene\":\"scene\",\"showlegend\":false,\"x\":[49,59,54,42,30,38,45,23,59,48,55,73,54,34,54,53,23,30,37,52,39,38,71,31,42,65,65,33,29,24,59,40,52,47,66,62,73,23,45,43,21,45,54,22,26,72,29,65,34,26,66,50,33,47,59,52,55,74,32,31,25,75,39,46,29,34,54,36,52,28,18,45,48,50,43,27,68,67,59,74,62,45,33,20,61,32,49,66,36,55,35,22,59,21,74,51,22,35,47,66,20,58,42,27,63,28,48,63,45,22,70,65,41,56,51,33,69,21,40,19,62,38,49,30,62,58,73,66,71,54,53,34,41,47,26,30,55,43,50,61,37,29,26,22,56,70,38,37,62,19,46,50,48,53,70,60,37,57,66,27,21,22,18,18,38,23,21,44,72,63,50,56,59,44,20,33,49,22,64,31,53,23,26,63,43,62,74,66,45,62,61,47,74,48,48,54,20,44,28,41],\"y\":[653,630,555,699,793,635,881,852,708,669,618,614,711,629,764,880,729,803,817,774,672,691,669,555,778,623,782,588,684,698,562,774,777,769,755,789,575,850,715,639,817,731,704,712,713,874,751,761,633,632,763,701,784,854,692,751,648,865,863,622,817,868,849,565,665,632,670,736,687,561,892,724,583,760,555,712,880,873,715,897,801,600,768,807,626,654,742,738,805,808,625,695,656,678,859,616,861,814,616,653,575,576,575,666,876,568,849,564,654,565,782,667,593,606,553,827,559,806,620,857,804,858,695,800,624,767,630,808,790,726,624,746,895,781,868,894,707,552,842,567,636,756,894,887,647,657,607,637,884,551,892,616,886,868,669,605,854,742,803,707,633,827,742,586,581,786,718,755,836,725,573,605,890,657,779,666,779,844,733,571,601,701,838,573,896,824,615,770,831,676,559,784,608,568,833,601,554,844,837,789],\"z\":[\"Bengaluru\",\"Bengaluru\",\"Delhi\",\"Bengaluru\",\"Bengaluru\",\"Chennai\",\"Chennai\",\"Mumbai\",\"Chennai\",\"Kolkata\",\"Bengaluru\",\"Bengaluru\",\"Delhi\",\"Mumbai\",\"Bengaluru\",\"Kolkata\",\"Bengaluru\",\"Mumbai\",\"Mumbai\",\"Kolkata\",\"Chennai\",\"Bengaluru\",\"Kolkata\",\"Mumbai\",\"Bengaluru\",\"Chennai\",\"Kolkata\",\"Bengaluru\",\"Delhi\",\"Chennai\",\"Bengaluru\",\"Bengaluru\",\"Chennai\",\"Kolkata\",\"Chennai\",\"Delhi\",\"Mumbai\",\"Mumbai\",\"Mumbai\",\"Mumbai\",\"Mumbai\",\"Bengaluru\",\"Bengaluru\",\"Kolkata\",\"Delhi\",\"Kolkata\",\"Bengaluru\",\"Mumbai\",\"Chennai\",\"Chennai\",\"Kolkata\",\"Bengaluru\",\"Kolkata\",\"Mumbai\",\"Kolkata\",\"Delhi\",\"Bengaluru\",\"Bengaluru\",\"Mumbai\",\"Bengaluru\",\"Mumbai\",\"Delhi\",\"Bengaluru\",\"Bengaluru\",\"Bengaluru\",\"Chennai\",\"Mumbai\",\"Delhi\",\"Chennai\",\"Mumbai\",\"Bengaluru\",\"Bengaluru\",\"Kolkata\",\"Mumbai\",\"Delhi\",\"Chennai\",\"Delhi\",\"Bengaluru\",\"Chennai\",\"Chennai\",\"Delhi\",\"Mumbai\",\"Kolkata\",\"Chennai\",\"Delhi\",\"Mumbai\",\"Bengaluru\",\"Chennai\",\"Delhi\",\"Delhi\",\"Delhi\",\"Kolkata\",\"Kolkata\",\"Mumbai\",\"Bengaluru\",\"Mumbai\",\"Delhi\",\"Mumbai\",\"Chennai\",\"Chennai\",\"Bengaluru\",\"Chennai\",\"Delhi\",\"Bengaluru\",\"Chennai\",\"Chennai\",\"Kolkata\",\"Delhi\",\"Chennai\",\"Mumbai\",\"Chennai\",\"Mumbai\",\"Chennai\",\"Delhi\",\"Chennai\",\"Delhi\",\"Mumbai\",\"Delhi\",\"Kolkata\",\"Delhi\",\"Chennai\",\"Mumbai\",\"Delhi\",\"Chennai\",\"Mumbai\",\"Kolkata\",\"Chennai\",\"Bengaluru\",\"Bengaluru\",\"Bengaluru\",\"Kolkata\",\"Mumbai\",\"Delhi\",\"Kolkata\",\"Mumbai\",\"Delhi\",\"Kolkata\",\"Bengaluru\",\"Mumbai\",\"Chennai\",\"Bengaluru\",\"Bengaluru\",\"Chennai\",\"Kolkata\",\"Mumbai\",\"Mumbai\",\"Delhi\",\"Delhi\",\"Bengaluru\",\"Kolkata\",\"Delhi\",\"Delhi\",\"Kolkata\",\"Chennai\",\"Bengaluru\",\"Mumbai\",\"Kolkata\",\"Bengaluru\",\"Bengaluru\",\"Mumbai\",\"Bengaluru\",\"Delhi\",\"Delhi\",\"Delhi\",\"Chennai\",\"Chennai\",\"Bengaluru\",\"Chennai\",\"Mumbai\",\"Chennai\",\"Bengaluru\",\"Mumbai\",\"Bengaluru\",\"Bengaluru\",\"Mumbai\",\"Mumbai\",\"Kolkata\",\"Chennai\",\"Chennai\",\"Delhi\",\"Bengaluru\",\"Bengaluru\",\"Kolkata\",\"Chennai\",\"Chennai\",\"Kolkata\",\"Kolkata\",\"Chennai\",\"Chennai\",\"Delhi\",\"Delhi\",\"Mumbai\",\"Bengaluru\",\"Bengaluru\",\"Chennai\",\"Delhi\",\"Bengaluru\",\"Chennai\",\"Delhi\",\"Chennai\"],\"type\":\"scatter3d\"}],                        {\"template\":{\"data\":{\"bar\":[{\"error_x\":{\"color\":\"#2a3f5f\"},\"error_y\":{\"color\":\"#2a3f5f\"},\"marker\":{\"line\":{\"color\":\"#E5ECF6\",\"width\":0.5},\"pattern\":{\"fillmode\":\"overlay\",\"size\":10,\"solidity\":0.2}},\"type\":\"bar\"}],\"barpolar\":[{\"marker\":{\"line\":{\"color\":\"#E5ECF6\",\"width\":0.5},\"pattern\":{\"fillmode\":\"overlay\",\"size\":10,\"solidity\":0.2}},\"type\":\"barpolar\"}],\"carpet\":[{\"aaxis\":{\"endlinecolor\":\"#2a3f5f\",\"gridcolor\":\"white\",\"linecolor\":\"white\",\"minorgridcolor\":\"white\",\"startlinecolor\":\"#2a3f5f\"},\"baxis\":{\"endlinecolor\":\"#2a3f5f\",\"gridcolor\":\"white\",\"linecolor\":\"white\",\"minorgridcolor\":\"white\",\"startlinecolor\":\"#2a3f5f\"},\"type\":\"carpet\"}],\"choropleth\":[{\"colorbar\":{\"outlinewidth\":0,\"ticks\":\"\"},\"type\":\"choropleth\"}],\"contour\":[{\"colorbar\":{\"outlinewidth\":0,\"ticks\":\"\"},\"colorscale\":[[0.0,\"#0d0887\"],[0.1111111111111111,\"#46039f\"],[0.2222222222222222,\"#7201a8\"],[0.3333333333333333,\"#9c179e\"],[0.4444444444444444,\"#bd3786\"],[0.5555555555555556,\"#d8576b\"],[0.6666666666666666,\"#ed7953\"],[0.7777777777777778,\"#fb9f3a\"],[0.8888888888888888,\"#fdca26\"],[1.0,\"#f0f921\"]],\"type\":\"contour\"}],\"contourcarpet\":[{\"colorbar\":{\"outlinewidth\":0,\"ticks\":\"\"},\"type\":\"contourcarpet\"}],\"heatmap\":[{\"colorbar\":{\"outlinewidth\":0,\"ticks\":\"\"},\"colorscale\":[[0.0,\"#0d0887\"],[0.1111111111111111,\"#46039f\"],[0.2222222222222222,\"#7201a8\"],[0.3333333333333333,\"#9c179e\"],[0.4444444444444444,\"#bd3786\"],[0.5555555555555556,\"#d8576b\"],[0.6666666666666666,\"#ed7953\"],[0.7777777777777778,\"#fb9f3a\"],[0.8888888888888888,\"#fdca26\"],[1.0,\"#f0f921\"]],\"type\":\"heatmap\"}],\"heatmapgl\":[{\"colorbar\":{\"outlinewidth\":0,\"ticks\":\"\"},\"colorscale\":[[0.0,\"#0d0887\"],[0.1111111111111111,\"#46039f\"],[0.2222222222222222,\"#7201a8\"],[0.3333333333333333,\"#9c179e\"],[0.4444444444444444,\"#bd3786\"],[0.5555555555555556,\"#d8576b\"],[0.6666666666666666,\"#ed7953\"],[0.7777777777777778,\"#fb9f3a\"],[0.8888888888888888,\"#fdca26\"],[1.0,\"#f0f921\"]],\"type\":\"heatmapgl\"}],\"histogram\":[{\"marker\":{\"pattern\":{\"fillmode\":\"overlay\",\"size\":10,\"solidity\":0.2}},\"type\":\"histogram\"}],\"histogram2d\":[{\"colorbar\":{\"outlinewidth\":0,\"ticks\":\"\"},\"colorscale\":[[0.0,\"#0d0887\"],[0.1111111111111111,\"#46039f\"],[0.2222222222222222,\"#7201a8\"],[0.3333333333333333,\"#9c179e\"],[0.4444444444444444,\"#bd3786\"],[0.5555555555555556,\"#d8576b\"],[0.6666666666666666,\"#ed7953\"],[0.7777777777777778,\"#fb9f3a\"],[0.8888888888888888,\"#fdca26\"],[1.0,\"#f0f921\"]],\"type\":\"histogram2d\"}],\"histogram2dcontour\":[{\"colorbar\":{\"outlinewidth\":0,\"ticks\":\"\"},\"colorscale\":[[0.0,\"#0d0887\"],[0.1111111111111111,\"#46039f\"],[0.2222222222222222,\"#7201a8\"],[0.3333333333333333,\"#9c179e\"],[0.4444444444444444,\"#bd3786\"],[0.5555555555555556,\"#d8576b\"],[0.6666666666666666,\"#ed7953\"],[0.7777777777777778,\"#fb9f3a\"],[0.8888888888888888,\"#fdca26\"],[1.0,\"#f0f921\"]],\"type\":\"histogram2dcontour\"}],\"mesh3d\":[{\"colorbar\":{\"outlinewidth\":0,\"ticks\":\"\"},\"type\":\"mesh3d\"}],\"parcoords\":[{\"line\":{\"colorbar\":{\"outlinewidth\":0,\"ticks\":\"\"}},\"type\":\"parcoords\"}],\"pie\":[{\"automargin\":true,\"type\":\"pie\"}],\"scatter\":[{\"marker\":{\"colorbar\":{\"outlinewidth\":0,\"ticks\":\"\"}},\"type\":\"scatter\"}],\"scatter3d\":[{\"line\":{\"colorbar\":{\"outlinewidth\":0,\"ticks\":\"\"}},\"marker\":{\"colorbar\":{\"outlinewidth\":0,\"ticks\":\"\"}},\"type\":\"scatter3d\"}],\"scattercarpet\":[{\"marker\":{\"colorbar\":{\"outlinewidth\":0,\"ticks\":\"\"}},\"type\":\"scattercarpet\"}],\"scattergeo\":[{\"marker\":{\"colorbar\":{\"outlinewidth\":0,\"ticks\":\"\"}},\"type\":\"scattergeo\"}],\"scattergl\":[{\"marker\":{\"colorbar\":{\"outlinewidth\":0,\"ticks\":\"\"}},\"type\":\"scattergl\"}],\"scattermapbox\":[{\"marker\":{\"colorbar\":{\"outlinewidth\":0,\"ticks\":\"\"}},\"type\":\"scattermapbox\"}],\"scatterpolar\":[{\"marker\":{\"colorbar\":{\"outlinewidth\":0,\"ticks\":\"\"}},\"type\":\"scatterpolar\"}],\"scatterpolargl\":[{\"marker\":{\"colorbar\":{\"outlinewidth\":0,\"ticks\":\"\"}},\"type\":\"scatterpolargl\"}],\"scatterternary\":[{\"marker\":{\"colorbar\":{\"outlinewidth\":0,\"ticks\":\"\"}},\"type\":\"scatterternary\"}],\"surface\":[{\"colorbar\":{\"outlinewidth\":0,\"ticks\":\"\"},\"colorscale\":[[0.0,\"#0d0887\"],[0.1111111111111111,\"#46039f\"],[0.2222222222222222,\"#7201a8\"],[0.3333333333333333,\"#9c179e\"],[0.4444444444444444,\"#bd3786\"],[0.5555555555555556,\"#d8576b\"],[0.6666666666666666,\"#ed7953\"],[0.7777777777777778,\"#fb9f3a\"],[0.8888888888888888,\"#fdca26\"],[1.0,\"#f0f921\"]],\"type\":\"surface\"}],\"table\":[{\"cells\":{\"fill\":{\"color\":\"#EBF0F8\"},\"line\":{\"color\":\"white\"}},\"header\":{\"fill\":{\"color\":\"#C8D4E3\"},\"line\":{\"color\":\"white\"}},\"type\":\"table\"}]},\"layout\":{\"annotationdefaults\":{\"arrowcolor\":\"#2a3f5f\",\"arrowhead\":0,\"arrowwidth\":1},\"autotypenumbers\":\"strict\",\"coloraxis\":{\"colorbar\":{\"outlinewidth\":0,\"ticks\":\"\"}},\"colorscale\":{\"diverging\":[[0,\"#8e0152\"],[0.1,\"#c51b7d\"],[0.2,\"#de77ae\"],[0.3,\"#f1b6da\"],[0.4,\"#fde0ef\"],[0.5,\"#f7f7f7\"],[0.6,\"#e6f5d0\"],[0.7,\"#b8e186\"],[0.8,\"#7fbc41\"],[0.9,\"#4d9221\"],[1,\"#276419\"]],\"sequential\":[[0.0,\"#0d0887\"],[0.1111111111111111,\"#46039f\"],[0.2222222222222222,\"#7201a8\"],[0.3333333333333333,\"#9c179e\"],[0.4444444444444444,\"#bd3786\"],[0.5555555555555556,\"#d8576b\"],[0.6666666666666666,\"#ed7953\"],[0.7777777777777778,\"#fb9f3a\"],[0.8888888888888888,\"#fdca26\"],[1.0,\"#f0f921\"]],\"sequentialminus\":[[0.0,\"#0d0887\"],[0.1111111111111111,\"#46039f\"],[0.2222222222222222,\"#7201a8\"],[0.3333333333333333,\"#9c179e\"],[0.4444444444444444,\"#bd3786\"],[0.5555555555555556,\"#d8576b\"],[0.6666666666666666,\"#ed7953\"],[0.7777777777777778,\"#fb9f3a\"],[0.8888888888888888,\"#fdca26\"],[1.0,\"#f0f921\"]]},\"colorway\":[\"#636efa\",\"#EF553B\",\"#00cc96\",\"#ab63fa\",\"#FFA15A\",\"#19d3f3\",\"#FF6692\",\"#B6E880\",\"#FF97FF\",\"#FECB52\"],\"font\":{\"color\":\"#2a3f5f\"},\"geo\":{\"bgcolor\":\"white\",\"lakecolor\":\"white\",\"landcolor\":\"#E5ECF6\",\"showlakes\":true,\"showland\":true,\"subunitcolor\":\"white\"},\"hoverlabel\":{\"align\":\"left\"},\"hovermode\":\"closest\",\"mapbox\":{\"style\":\"light\"},\"paper_bgcolor\":\"white\",\"plot_bgcolor\":\"#E5ECF6\",\"polar\":{\"angularaxis\":{\"gridcolor\":\"white\",\"linecolor\":\"white\",\"ticks\":\"\"},\"bgcolor\":\"#E5ECF6\",\"radialaxis\":{\"gridcolor\":\"white\",\"linecolor\":\"white\",\"ticks\":\"\"}},\"scene\":{\"xaxis\":{\"backgroundcolor\":\"#E5ECF6\",\"gridcolor\":\"white\",\"gridwidth\":2,\"linecolor\":\"white\",\"showbackground\":true,\"ticks\":\"\",\"zerolinecolor\":\"white\"},\"yaxis\":{\"backgroundcolor\":\"#E5ECF6\",\"gridcolor\":\"white\",\"gridwidth\":2,\"linecolor\":\"white\",\"showbackground\":true,\"ticks\":\"\",\"zerolinecolor\":\"white\"},\"zaxis\":{\"backgroundcolor\":\"#E5ECF6\",\"gridcolor\":\"white\",\"gridwidth\":2,\"linecolor\":\"white\",\"showbackground\":true,\"ticks\":\"\",\"zerolinecolor\":\"white\"}},\"shapedefaults\":{\"line\":{\"color\":\"#2a3f5f\"}},\"ternary\":{\"aaxis\":{\"gridcolor\":\"white\",\"linecolor\":\"white\",\"ticks\":\"\"},\"baxis\":{\"gridcolor\":\"white\",\"linecolor\":\"white\",\"ticks\":\"\"},\"bgcolor\":\"#E5ECF6\",\"caxis\":{\"gridcolor\":\"white\",\"linecolor\":\"white\",\"ticks\":\"\"}},\"title\":{\"x\":0.05},\"xaxis\":{\"automargin\":true,\"gridcolor\":\"white\",\"linecolor\":\"white\",\"ticks\":\"\",\"title\":{\"standoff\":15},\"zerolinecolor\":\"white\",\"zerolinewidth\":2},\"yaxis\":{\"automargin\":true,\"gridcolor\":\"white\",\"linecolor\":\"white\",\"ticks\":\"\",\"title\":{\"standoff\":15},\"zerolinecolor\":\"white\",\"zerolinewidth\":2}}},\"scene\":{\"domain\":{\"x\":[0.0,1.0],\"y\":[0.0,1.0]},\"xaxis\":{\"title\":{\"text\":\"CustomerAge\"}},\"yaxis\":{\"title\":{\"text\":\"CreditScore\"}},\"zaxis\":{\"title\":{\"text\":\"CustomerCity\"}}},\"coloraxis\":{\"colorbar\":{\"title\":{\"text\":\"lable\"}},\"colorscale\":[[0.0,\"#0d0887\"],[0.1111111111111111,\"#46039f\"],[0.2222222222222222,\"#7201a8\"],[0.3333333333333333,\"#9c179e\"],[0.4444444444444444,\"#bd3786\"],[0.5555555555555556,\"#d8576b\"],[0.6666666666666666,\"#ed7953\"],[0.7777777777777778,\"#fb9f3a\"],[0.8888888888888888,\"#fdca26\"],[1.0,\"#f0f921\"]]},\"legend\":{\"tracegroupgap\":0},\"margin\":{\"t\":60}},                        {\"responsive\": true}                    ).then(function(){\n",
       "                            \n",
       "var gd = document.getElementById('f2e065bc-e0c1-4c93-acad-d40a9137dc54');\n",
       "var x = new MutationObserver(function (mutations, observer) {{\n",
       "        var display = window.getComputedStyle(gd).display;\n",
       "        if (!display || display === 'none') {{\n",
       "            console.log([gd, 'removed!']);\n",
       "            Plotly.purge(gd);\n",
       "            observer.disconnect();\n",
       "        }}\n",
       "}});\n",
       "\n",
       "// Listen for the removal of the full notebook cells\n",
       "var notebookContainer = gd.closest('#notebook-container');\n",
       "if (notebookContainer) {{\n",
       "    x.observe(notebookContainer, {childList: true});\n",
       "}}\n",
       "\n",
       "// Listen for the clearing of the current output cell\n",
       "var outputEl = gd.closest('.output');\n",
       "if (outputEl) {{\n",
       "    x.observe(outputEl, {childList: true});\n",
       "}}\n",
       "\n",
       "                        })                };                });            </script>        </div>"
      ]
     },
     "metadata": {},
     "output_type": "display_data"
    }
   ],
   "source": [
    "X=transformer.fit_transform(df)\n",
    "\n",
    "GM=GaussianMixture(n_components=3,init_params='kmeans',max_iter=300).fit(X)\n",
    "\n",
    "lables=GM.predict(X)\n",
    "\n",
    "GM_DF=df.copy()\n",
    "\n",
    "GM_DF['lable']=lables\n",
    "\n",
    "px.scatter_3d(GM_DF, 'CustomerAge', 'CreditScore', 'CustomerCity', color='lable')"
   ]
  },
  {
   "cell_type": "markdown",
   "metadata": {},
   "source": [
    "# Using AIC to evaluate model\n",
    "\n",
    "- chart also shows lowest AIC is on 10 cluster"
   ]
  },
  {
   "cell_type": "code",
   "execution_count": 34,
   "metadata": {},
   "outputs": [
    {
     "data": {
      "text/plain": [
       "[<matplotlib.lines.Line2D at 0x7ff196a4d750>]"
      ]
     },
     "execution_count": 34,
     "metadata": {},
     "output_type": "execute_result"
    },
    {
     "data": {
      "image/png": "[encoded data removed]",
      "text/plain": [
       "<Figure size 432x288 with 1 Axes>"
      ]
     },
     "metadata": {
      "needs_background": "light"
     },
     "output_type": "display_data"
    }
   ],
   "source": [
    "AIC=[]\n",
    "for i in range(1,15):\n",
    "    GM=GaussianMixture(n_components=i,max_iter=500).fit(X)\n",
    "    AIC.append(GM.aic(X))\n",
    "    \n",
    "plt.plot(AIC)\n",
    "        "
   ]
  },
  {
   "cell_type": "code",
   "execution_count": 35,
   "metadata": {},
   "outputs": [
    {
     "data": {
      "application/vnd.plotly.v1+json": {
       "config": {
        "plotlyServerURL": "https://plot.ly"
       },
       "data": [
        {
         "hovertemplate": "CustomerAge=%{x}<br>CreditScore=%{y}<br>CustomerCity=%{z}<br>lable=%{marker.color}<extra></extra>",
         "legendgroup": "",
         "marker": {
          "color": [
           2,
           2,
           6,
           3,
           3,
           0,
           0,
           4,
           5,
           7,
           2,
           3,
           6,
           4,
           2,
           8,
           3,
           9,
           9,
           7,
           5,
           2,
           7,
           9,
           3,
           5,
           7,
           2,
           6,
           0,
           2,
           3,
           5,
           8,
           0,
           6,
           4,
           4,
           4,
           4,
           4,
           2,
           2,
           7,
           6,
           7,
           3,
           4,
           0,
           0,
           7,
           2,
           7,
           9,
           7,
           1,
           3,
           2,
           4,
           2,
           9,
           1,
           3,
           3,
           2,
           5,
           4,
           6,
           5,
           4,
           2,
           3,
           7,
           4,
           1,
           5,
           6,
           2,
           0,
           0,
           1,
           9,
           8,
           0,
           6,
           9,
           3,
           0,
           6,
           6,
           6,
           8,
           8,
           4,
           3,
           9,
           6,
           4,
           5,
           5,
           3,
           0,
           1,
           2,
           5,
           0,
           7,
           1,
           5,
           9,
           5,
           4,
           0,
           1,
           0,
           6,
           4,
           6,
           7,
           6,
           5,
           4,
           6,
           5,
           4,
           7,
           5,
           2,
           2,
           2,
           8,
           9,
           6,
           7,
           9,
           6,
           7,
           2,
           9,
           0,
           3,
           2,
           0,
           7,
           9,
           9,
           1,
           6,
           3,
           8,
           1,
           1,
           7,
           0,
           3,
           4,
           8,
           3,
           2,
           4,
           3,
           6,
           1,
           6,
           5,
           0,
           2,
           0,
           4,
           5,
           2,
           9,
           2,
           2,
           4,
           4,
           8,
           5,
           5,
           1,
           3,
           3,
           8,
           0,
           0,
           8,
           7,
           5,
           0,
           6,
           6,
           4,
           2,
           3,
           0,
           6,
           3,
           5,
           1,
           5
          ],
          "coloraxis": "coloraxis",
          "symbol": "circle"
         },
         "mode": "markers",
         "name": "",
         "scene": "scene",
         "showlegend": false,
         "type": "scatter3d",
         "x": [
          49,
          59,
          54,
          42,
          30,
          38,
          45,
          23,
          59,
          48,
          55,
          73,
          54,
          34,
          54,
          53,
          23,
          30,
          37,
          52,
          39,
          38,
          71,
          31,
          42,
          65,
          65,
          33,
          29,
          24,
          59,
          40,
          52,
          47,
          66,
          62,
          73,
          23,
          45,
          43,
          21,
          45,
          54,
          22,
          26,
          72,
          29,
          65,
          34,
          26,
          66,
          50,
          33,
          47,
          59,
          52,
          55,
          74,
          32,
          31,
          25,
          75,
          39,
          46,
          29,
          34,
          54,
          36,
          52,
          28,
          18,
          45,
          48,
          50,
          43,
          27,
          68,
          67,
          59,
          74,
          62,
          45,
          33,
          20,
          61,
          32,
          49,
          66,
          36,
          55,
          35,
          22,
          59,
          21,
          74,
          51,
          22,
          35,
          47,
          66,
          20,
          58,
          42,
          27,
          63,
          28,
          48,
          63,
          45,
          22,
          70,
          65,
          41,
          56,
          51,
          33,
          69,
          21,
          40,
          19,
          62,
          38,
          49,
          30,
          62,
          58,
          73,
          66,
          71,
          54,
          53,
          34,
          41,
          47,
          26,
          30,
          55,
          43,
          50,
          61,
          37,
          29,
          26,
          22,
          56,
          70,
          38,
          37,
          62,
          19,
          46,
          50,
          48,
          53,
          70,
          60,
          37,
          57,
          66,
          27,
          21,
          22,
          18,
          18,
          38,
          23,
          21,
          44,
          72,
          63,
          50,
          56,
          59,
          44,
          20,
          33,
          49,
          22,
          64,
          31,
          53,
          23,
          26,
          63,
          43,
          62,
          74,
          66,
          45,
          62,
          61,
          47,
          74,
          48,
          48,
          54,
          20,
          44,
          28,
          41
         ],
         "y": [
          653,
          630,
          555,
          699,
          793,
          635,
          881,
          852,
          708,
          669,
          618,
          614,
          711,
          629,
          764,
          880,
          729,
          803,
          817,
          774,
          672,
          691,
          669,
          555,
          778,
          623,
          782,
          588,
          684,
          698,
          562,
          774,
          777,
          769,
          755,
          789,
          575,
          850,
          715,
          639,
          817,
          731,
          704,
          712,
          713,
          874,
          751,
          761,
          633,
          632,
          763,
          701,
          784,
          854,
          692,
          751,
          648,
          865,
          863,
          622,
          817,
          868,
          849,
          565,
          665,
          632,
          670,
          736,
          687,
          561,
          892,
          724,
          583,
          760,
          555,
          712,
          880,
          873,
          715,
          897,
          801,
          600,
          768,
          807,
          626,
          654,
          742,
          738,
          805,
          808,
          625,
          695,
          656,
          678,
          859,
          616,
          861,
          814,
          616,
          653,
          575,
          576,
          575,
          666,
          876,
          568,
          849,
          564,
          654,
          565,
          782,
          667,
          593,
          606,
          553,
          827,
          559,
          806,
          620,
          857,
          804,
          858,
          695,
          800,
          624,
          767,
          630,
          808,
          790,
          726,
          624,
          746,
          895,
          781,
          868,
          894,
          707,
          552,
          842,
          567,
          636,
          756,
          894,
          887,
          647,
          657,
          607,
          637,
          884,
          551,
          892,
          616,
          886,
          868,
          669,
          605,
          854,
          742,
          803,
          707,
          633,
          827,
          742,
          586,
          581,
          786,
          718,
          755,
          836,
          725,
          573,
          605,
          890,
          657,
          779,
          666,
          779,
          844,
          733,
          571,
          601,
          701,
          838,
          573,
          896,
          824,
          615,
          770,
          831,
          676,
          559,
          784,
          608,
          568,
          833,
          601,
          554,
          844,
          837,
          789
         ],
         "z": [
          "Bengaluru",
          "Bengaluru",
          "Delhi",
          "Bengaluru",
          "Bengaluru",
          "Chennai",
          "Chennai",
          "Mumbai",
          "Chennai",
          "Kolkata",
          "Bengaluru",
          "Bengaluru",
          "Delhi",
          "Mumbai",
          "Bengaluru",
          "Kolkata",
          "Bengaluru",
          "Mumbai",
          "Mumbai",
          "Kolkata",
          "Chennai",
          "Bengaluru",
          "Kolkata",
          "Mumbai",
          "Bengaluru",
          "Chennai",
          "Kolkata",
          "Bengaluru",
          "Delhi",
          "Chennai",
          "Bengaluru",
          "Bengaluru",
          "Chennai",
          "Kolkata",
          "Chennai",
          "Delhi",
          "Mumbai",
          "Mumbai",
          "Mumbai",
          "Mumbai",
          "Mumbai",
          "Bengaluru",
          "Bengaluru",
          "Kolkata",
          "Delhi",
          "Kolkata",
          "Bengaluru",
          "Mumbai",
          "Chennai",
          "Chennai",
          "Kolkata",
          "Bengaluru",
          "Kolkata",
          "Mumbai",
          "Kolkata",
          "Delhi",
          "Bengaluru",
          "Bengaluru",
          "Mumbai",
          "Bengaluru",
          "Mumbai",
          "Delhi",
          "Bengaluru",
          "Bengaluru",
          "Bengaluru",
          "Chennai",
          "Mumbai",
          "Delhi",
          "Chennai",
          "Mumbai",
          "Bengaluru",
          "Bengaluru",
          "Kolkata",
          "Mumbai",
          "Delhi",
          "Chennai",
          "Delhi",
          "Bengaluru",
          "Chennai",
          "Chennai",
          "Delhi",
          "Mumbai",
          "Kolkata",
          "Chennai",
          "Delhi",
          "Mumbai",
          "Bengaluru",
          "Chennai",
          "Delhi",
          "Delhi",
          "Delhi",
          "Kolkata",
          "Kolkata",
          "Mumbai",
          "Bengaluru",
          "Mumbai",
          "Delhi",
          "Mumbai",
          "Chennai",
          "Chennai",
          "Bengaluru",
          "Chennai",
          "Delhi",
          "Bengaluru",
          "Chennai",
          "Chennai",
          "Kolkata",
          "Delhi",
          "Chennai",
          "Mumbai",
          "Chennai",
          "Mumbai",
          "Chennai",
          "Delhi",
          "Chennai",
          "Delhi",
          "Mumbai",
          "Delhi",
          "Kolkata",
          "Delhi",
          "Chennai",
          "Mumbai",
          "Delhi",
          "Chennai",
          "Mumbai",
          "Kolkata",
          "Chennai",
          "Bengaluru",
          "Bengaluru",
          "Bengaluru",
          "Kolkata",
          "Mumbai",
          "Delhi",
          "Kolkata",
          "Mumbai",
          "Delhi",
          "Kolkata",
          "Bengaluru",
          "Mumbai",
          "Chennai",
          "Bengaluru",
          "Bengaluru",
          "Chennai",
          "Kolkata",
          "Mumbai",
          "Mumbai",
          "Delhi",
          "Delhi",
          "Bengaluru",
          "Kolkata",
          "Delhi",
          "Delhi",
          "Kolkata",
          "Chennai",
          "Bengaluru",
          "Mumbai",
          "Kolkata",
          "Bengaluru",
          "Bengaluru",
          "Mumbai",
          "Bengaluru",
          "Delhi",
          "Delhi",
          "Delhi",
          "Chennai",
          "Chennai",
          "Bengaluru",
          "Chennai",
          "Mumbai",
          "Chennai",
          "Bengaluru",
          "Mumbai",
          "Bengaluru",
          "Bengaluru",
          "Mumbai",
          "Mumbai",
          "Kolkata",
          "Chennai",
          "Chennai",
          "Delhi",
          "Bengaluru",
          "Bengaluru",
          "Kolkata",
          "Chennai",
          "Chennai",
          "Kolkata",
          "Kolkata",
          "Chennai",
          "Chennai",
          "Delhi",
          "Delhi",
          "Mumbai",
          "Bengaluru",
          "Bengaluru",
          "Chennai",
          "Delhi",
          "Bengaluru",
          "Chennai",
          "Delhi",
          "Chennai"
         ]
        }
       ],
       "layout": {
        "coloraxis": {
         "colorbar": {
          "title": {
           "text": "lable"
          }
         },
         "colorscale": [
          [
           0,
           "#0d0887"
          ],
          [
           0.1111111111111111,
           "#46039f"
          ],
          [
           0.2222222222222222,
           "#7201a8"
          ],
          [
           0.3333333333333333,
           "#9c179e"
          ],
          [
           0.4444444444444444,
           "#bd3786"
          ],
          [
           0.5555555555555556,
           "#d8576b"
          ],
          [
           0.6666666666666666,
           "#ed7953"
          ],
          [
           0.7777777777777778,
           "#fb9f3a"
          ],
          [
           0.8888888888888888,
           "#fdca26"
          ],
          [
           1,
           "#f0f921"
          ]
         ]
        },
        "legend": {
         "tracegroupgap": 0
        },
        "margin": {
         "t": 60
        },
        "scene": {
         "domain": {
          "x": [
           0,
           1
          ],
          "y": [
           0,
           1
          ]
         },
         "xaxis": {
          "title": {
           "text": "CustomerAge"
          }
         },
         "yaxis": {
          "title": {
           "text": "CreditScore"
          }
         },
         "zaxis": {
          "title": {
           "text": "CustomerCity"
          }
         }
        },
        "template": {
         "data": {
          "bar": [
           {
            "error_x": {
             "color": "#2a3f5f"
            },
            "error_y": {
             "color": "#2a3f5f"
            },
            "marker": {
             "line": {
              "color": "#E5ECF6",
              "width": 0.5
             },
             "pattern": {
              "fillmode": "overlay",
              "size": 10,
              "solidity": 0.2
             }
            },
            "type": "bar"
           }
          ],
          "barpolar": [
           {
            "marker": {
             "line": {
              "color": "#E5ECF6",
              "width": 0.5
             },
             "pattern": {
              "fillmode": "overlay",
              "size": 10,
              "solidity": 0.2
             }
            },
            "type": "barpolar"
           }
          ],
          "carpet": [
           {
            "aaxis": {
             "endlinecolor": "#2a3f5f",
             "gridcolor": "white",
             "linecolor": "white",
             "minorgridcolor": "white",
             "startlinecolor": "#2a3f5f"
            },
            "baxis": {
             "endlinecolor": "#2a3f5f",
             "gridcolor": "white",
             "linecolor": "white",
             "minorgridcolor": "white",
             "startlinecolor": "#2a3f5f"
            },
            "type": "carpet"
           }
          ],
          "choropleth": [
           {
            "colorbar": {
             "outlinewidth": 0,
             "ticks": ""
            },
            "type": "choropleth"
           }
          ],
          "contour": [
           {
            "colorbar": {
             "outlinewidth": 0,
             "ticks": ""
            },
            "colorscale": [
             [
              0,
              "#0d0887"
             ],
             [
              0.1111111111111111,
              "#46039f"
             ],
             [
              0.2222222222222222,
              "#7201a8"
             ],
             [
              0.3333333333333333,
              "#9c179e"
             ],
             [
              0.4444444444444444,
              "#bd3786"
             ],
             [
              0.5555555555555556,
              "#d8576b"
             ],
             [
              0.6666666666666666,
              "#ed7953"
             ],
             [
              0.7777777777777778,
              "#fb9f3a"
             ],
             [
              0.8888888888888888,
              "#fdca26"
             ],
             [
              1,
              "#f0f921"
             ]
            ],
            "type": "contour"
           }
          ],
          "contourcarpet": [
           {
            "colorbar": {
             "outlinewidth": 0,
             "ticks": ""
            },
            "type": "contourcarpet"
           }
          ],
          "heatmap": [
           {
            "colorbar": {
             "outlinewidth": 0,
             "ticks": ""
            },
            "colorscale": [
             [
              0,
              "#0d0887"
             ],
             [
              0.1111111111111111,
              "#46039f"
             ],
             [
              0.2222222222222222,
              "#7201a8"
             ],
             [
              0.3333333333333333,
              "#9c179e"
             ],
             [
              0.4444444444444444,
              "#bd3786"
             ],
             [
              0.5555555555555556,
              "#d8576b"
             ],
             [
              0.6666666666666666,
              "#ed7953"
             ],
             [
              0.7777777777777778,
              "#fb9f3a"
             ],
             [
              0.8888888888888888,
              "#fdca26"
             ],
             [
              1,
              "#f0f921"
             ]
            ],
            "type": "heatmap"
           }
          ],
          "heatmapgl": [
           {
            "colorbar": {
             "outlinewidth": 0,
             "ticks": ""
            },
            "colorscale": [
             [
              0,
              "#0d0887"
             ],
             [
              0.1111111111111111,
              "#46039f"
             ],
             [
              0.2222222222222222,
              "#7201a8"
             ],
             [
              0.3333333333333333,
              "#9c179e"
             ],
             [
              0.4444444444444444,
              "#bd3786"
             ],
             [
              0.5555555555555556,
              "#d8576b"
             ],
             [
              0.6666666666666666,
              "#ed7953"
             ],
             [
              0.7777777777777778,
              "#fb9f3a"
             ],
             [
              0.8888888888888888,
              "#fdca26"
             ],
             [
              1,
              "#f0f921"
             ]
            ],
            "type": "heatmapgl"
           }
          ],
          "histogram": [
           {
            "marker": {
             "pattern": {
              "fillmode": "overlay",
              "size": 10,
              "solidity": 0.2
             }
            },
            "type": "histogram"
           }
          ],
          "histogram2d": [
           {
            "colorbar": {
             "outlinewidth": 0,
             "ticks": ""
            },
            "colorscale": [
             [
              0,
              "#0d0887"
             ],
             [
              0.1111111111111111,
              "#46039f"
             ],
             [
              0.2222222222222222,
              "#7201a8"
             ],
             [
              0.3333333333333333,
              "#9c179e"
             ],
             [
              0.4444444444444444,
              "#bd3786"
             ],
             [
              0.5555555555555556,
              "#d8576b"
             ],
             [
              0.6666666666666666,
              "#ed7953"
             ],
             [
              0.7777777777777778,
              "#fb9f3a"
             ],
             [
              0.8888888888888888,
              "#fdca26"
             ],
             [
              1,
              "#f0f921"
             ]
            ],
            "type": "histogram2d"
           }
          ],
          "histogram2dcontour": [
           {
            "colorbar": {
             "outlinewidth": 0,
             "ticks": ""
            },
            "colorscale": [
             [
              0,
              "#0d0887"
             ],
             [
              0.1111111111111111,
              "#46039f"
             ],
             [
              0.2222222222222222,
              "#7201a8"
             ],
             [
              0.3333333333333333,
              "#9c179e"
             ],
             [
              0.4444444444444444,
              "#bd3786"
             ],
             [
              0.5555555555555556,
              "#d8576b"
             ],
             [
              0.6666666666666666,
              "#ed7953"
             ],
             [
              0.7777777777777778,
              "#fb9f3a"
             ],
             [
              0.8888888888888888,
              "#fdca26"
             ],
             [
              1,
              "#f0f921"
             ]
            ],
            "type": "histogram2dcontour"
           }
          ],
          "mesh3d": [
           {
            "colorbar": {
             "outlinewidth": 0,
             "ticks": ""
            },
            "type": "mesh3d"
           }
          ],
          "parcoords": [
           {
            "line": {
             "colorbar": {
              "outlinewidth": 0,
              "ticks": ""
             }
            },
            "type": "parcoords"
           }
          ],
          "pie": [
           {
            "automargin": true,
            "type": "pie"
           }
          ],
          "scatter": [
           {
            "marker": {
             "colorbar": {
              "outlinewidth": 0,
              "ticks": ""
             }
            },
            "type": "scatter"
           }
          ],
          "scatter3d": [
           {
            "line": {
             "colorbar": {
              "outlinewidth": 0,
              "ticks": ""
             }
            },
            "marker": {
             "colorbar": {
              "outlinewidth": 0,
              "ticks": ""
             }
            },
            "type": "scatter3d"
           }
          ],
          "scattercarpet": [
           {
            "marker": {
             "colorbar": {
              "outlinewidth": 0,
              "ticks": ""
             }
            },
            "type": "scattercarpet"
           }
          ],
          "scattergeo": [
           {
            "marker": {
             "colorbar": {
              "outlinewidth": 0,
              "ticks": ""
             }
            },
            "type": "scattergeo"
           }
          ],
          "scattergl": [
           {
            "marker": {
             "colorbar": {
              "outlinewidth": 0,
              "ticks": ""
             }
            },
            "type": "scattergl"
           }
          ],
          "scattermapbox": [
           {
            "marker": {
             "colorbar": {
              "outlinewidth": 0,
              "ticks": ""
             }
            },
            "type": "scattermapbox"
           }
          ],
          "scatterpolar": [
           {
            "marker": {
             "colorbar": {
              "outlinewidth": 0,
              "ticks": ""
             }
            },
            "type": "scatterpolar"
           }
          ],
          "scatterpolargl": [
           {
            "marker": {
             "colorbar": {
              "outlinewidth": 0,
              "ticks": ""
             }
            },
            "type": "scatterpolargl"
           }
          ],
          "scatterternary": [
           {
            "marker": {
             "colorbar": {
              "outlinewidth": 0,
              "ticks": ""
             }
            },
            "type": "scatterternary"
           }
          ],
          "surface": [
           {
            "colorbar": {
             "outlinewidth": 0,
             "ticks": ""
            },
            "colorscale": [
             [
              0,
              "#0d0887"
             ],
             [
              0.1111111111111111,
              "#46039f"
             ],
             [
              0.2222222222222222,
              "#7201a8"
             ],
             [
              0.3333333333333333,
              "#9c179e"
             ],
             [
              0.4444444444444444,
              "#bd3786"
             ],
             [
              0.5555555555555556,
              "#d8576b"
             ],
             [
              0.6666666666666666,
              "#ed7953"
             ],
             [
              0.7777777777777778,
              "#fb9f3a"
             ],
             [
              0.8888888888888888,
              "#fdca26"
             ],
             [
              1,
              "#f0f921"
             ]
            ],
            "type": "surface"
           }
          ],
          "table": [
           {
            "cells": {
             "fill": {
              "color": "#EBF0F8"
             },
             "line": {
              "color": "white"
             }
            },
            "header": {
             "fill": {
              "color": "#C8D4E3"
             },
             "line": {
              "color": "white"
             }
            },
            "type": "table"
           }
          ]
         },
         "layout": {
          "annotationdefaults": {
           "arrowcolor": "#2a3f5f",
           "arrowhead": 0,
           "arrowwidth": 1
          },
          "autotypenumbers": "strict",
          "coloraxis": {
           "colorbar": {
            "outlinewidth": 0,
            "ticks": ""
           }
          },
          "colorscale": {
           "diverging": [
            [
             0,
             "#8e0152"
            ],
            [
             0.1,
             "#c51b7d"
            ],
            [
             0.2,
             "#de77ae"
            ],
            [
             0.3,
             "#f1b6da"
            ],
            [
             0.4,
             "#fde0ef"
            ],
            [
             0.5,
             "#f7f7f7"
            ],
            [
             0.6,
             "#e6f5d0"
            ],
            [
             0.7,
             "#b8e186"
            ],
            [
             0.8,
             "#7fbc41"
            ],
            [
             0.9,
             "#4d9221"
            ],
            [
             1,
             "#276419"
            ]
           ],
           "sequential": [
            [
             0,
             "#0d0887"
            ],
            [
             0.1111111111111111,
             "#46039f"
            ],
            [
             0.2222222222222222,
             "#7201a8"
            ],
            [
             0.3333333333333333,
             "#9c179e"
            ],
            [
             0.4444444444444444,
             "#bd3786"
            ],
            [
             0.5555555555555556,
             "#d8576b"
            ],
            [
             0.6666666666666666,
             "#ed7953"
            ],
            [
             0.7777777777777778,
             "#fb9f3a"
            ],
            [
             0.8888888888888888,
             "#fdca26"
            ],
            [
             1,
             "#f0f921"
            ]
           ],
           "sequentialminus": [
            [
             0,
             "#0d0887"
            ],
            [
             0.1111111111111111,
             "#46039f"
            ],
            [
             0.2222222222222222,
             "#7201a8"
            ],
            [
             0.3333333333333333,
             "#9c179e"
            ],
            [
             0.4444444444444444,
             "#bd3786"
            ],
            [
             0.5555555555555556,
             "#d8576b"
            ],
            [
             0.6666666666666666,
             "#ed7953"
            ],
            [
             0.7777777777777778,
             "#fb9f3a"
            ],
            [
             0.8888888888888888,
             "#fdca26"
            ],
            [
             1,
             "#f0f921"
            ]
           ]
          },
          "colorway": [
           "#636efa",
           "#EF553B",
           "#00cc96",
           "#ab63fa",
           "#FFA15A",
           "#19d3f3",
           "#FF6692",
           "#B6E880",
           "#FF97FF",
           "#FECB52"
          ],
          "font": {
           "color": "#2a3f5f"
          },
          "geo": {
           "bgcolor": "white",
           "lakecolor": "white",
           "landcolor": "#E5ECF6",
           "showlakes": true,
           "showland": true,
           "subunitcolor": "white"
          },
          "hoverlabel": {
           "align": "left"
          },
          "hovermode": "closest",
          "mapbox": {
           "style": "light"
          },
          "paper_bgcolor": "white",
          "plot_bgcolor": "#E5ECF6",
          "polar": {
           "angularaxis": {
            "gridcolor": "white",
            "linecolor": "white",
            "ticks": ""
           },
           "bgcolor": "#E5ECF6",
           "radialaxis": {
            "gridcolor": "white",
            "linecolor": "white",
            "ticks": ""
           }
          },
          "scene": {
           "xaxis": {
            "backgroundcolor": "#E5ECF6",
            "gridcolor": "white",
            "gridwidth": 2,
            "linecolor": "white",
            "showbackground": true,
            "ticks": "",
            "zerolinecolor": "white"
           },
           "yaxis": {
            "backgroundcolor": "#E5ECF6",
            "gridcolor": "white",
            "gridwidth": 2,
            "linecolor": "white",
            "showbackground": true,
            "ticks": "",
            "zerolinecolor": "white"
           },
           "zaxis": {
            "backgroundcolor": "#E5ECF6",
            "gridcolor": "white",
            "gridwidth": 2,
            "linecolor": "white",
            "showbackground": true,
            "ticks": "",
            "zerolinecolor": "white"
           }
          },
          "shapedefaults": {
           "line": {
            "color": "#2a3f5f"
           }
          },
          "ternary": {
           "aaxis": {
            "gridcolor": "white",
            "linecolor": "white",
            "ticks": ""
           },
           "baxis": {
            "gridcolor": "white",
            "linecolor": "white",
            "ticks": ""
           },
           "bgcolor": "#E5ECF6",
           "caxis": {
            "gridcolor": "white",
            "linecolor": "white",
            "ticks": ""
           }
          },
          "title": {
           "x": 0.05
          },
          "xaxis": {
           "automargin": true,
           "gridcolor": "white",
           "linecolor": "white",
           "ticks": "",
           "title": {
            "standoff": 15
           },
           "zerolinecolor": "white",
           "zerolinewidth": 2
          },
          "yaxis": {
           "automargin": true,
           "gridcolor": "white",
           "linecolor": "white",
           "ticks": "",
           "title": {
            "standoff": 15
           },
           "zerolinecolor": "white",
           "zerolinewidth": 2
          }
         }
        }
       }
      },
      "text/html": [
       "<div>                            <div id=\"48756d36-2f53-4a1f-a7fd-f66dbdb6ca55\" class=\"plotly-graph-div\" style=\"height:525px; width:100%;\"></div>            <script type=\"text/javascript\">                require([\"plotly\"], function(Plotly) {                    window.PLOTLYENV=window.PLOTLYENV || {};                                    if (document.getElementById(\"48756d36-2f53-4a1f-a7fd-f66dbdb6ca55\")) {                    Plotly.newPlot(                        \"48756d36-2f53-4a1f-a7fd-f66dbdb6ca55\",                        [{\"hovertemplate\":\"CustomerAge=%{x}<br>CreditScore=%{y}<br>CustomerCity=%{z}<br>lable=%{marker.color}<extra></extra>\",\"legendgroup\":\"\",\"marker\":{\"color\":[2,2,6,3,3,0,0,4,5,7,2,3,6,4,2,8,3,9,9,7,5,2,7,9,3,5,7,2,6,0,2,3,5,8,0,6,4,4,4,4,4,2,2,7,6,7,3,4,0,0,7,2,7,9,7,1,3,2,4,2,9,1,3,3,2,5,4,6,5,4,2,3,7,4,1,5,6,2,0,0,1,9,8,0,6,9,3,0,6,6,6,8,8,4,3,9,6,4,5,5,3,0,1,2,5,0,7,1,5,9,5,4,0,1,0,6,4,6,7,6,5,4,6,5,4,7,5,2,2,2,8,9,6,7,9,6,7,2,9,0,3,2,0,7,9,9,1,6,3,8,1,1,7,0,3,4,8,3,2,4,3,6,1,6,5,0,2,0,4,5,2,9,2,2,4,4,8,5,5,1,3,3,8,0,0,8,7,5,0,6,6,4,2,3,0,6,3,5,1,5],\"coloraxis\":\"coloraxis\",\"symbol\":\"circle\"},\"mode\":\"markers\",\"name\":\"\",\"scene\":\"scene\",\"showlegend\":false,\"x\":[49,59,54,42,30,38,45,23,59,48,55,73,54,34,54,53,23,30,37,52,39,38,71,31,42,65,65,33,29,24,59,40,52,47,66,62,73,23,45,43,21,45,54,22,26,72,29,65,34,26,66,50,33,47,59,52,55,74,32,31,25,75,39,46,29,34,54,36,52,28,18,45,48,50,43,27,68,67,59,74,62,45,33,20,61,32,49,66,36,55,35,22,59,21,74,51,22,35,47,66,20,58,42,27,63,28,48,63,45,22,70,65,41,56,51,33,69,21,40,19,62,38,49,30,62,58,73,66,71,54,53,34,41,47,26,30,55,43,50,61,37,29,26,22,56,70,38,37,62,19,46,50,48,53,70,60,37,57,66,27,21,22,18,18,38,23,21,44,72,63,50,56,59,44,20,33,49,22,64,31,53,23,26,63,43,62,74,66,45,62,61,47,74,48,48,54,20,44,28,41],\"y\":[653,630,555,699,793,635,881,852,708,669,618,614,711,629,764,880,729,803,817,774,672,691,669,555,778,623,782,588,684,698,562,774,777,769,755,789,575,850,715,639,817,731,704,712,713,874,751,761,633,632,763,701,784,854,692,751,648,865,863,622,817,868,849,565,665,632,670,736,687,561,892,724,583,760,555,712,880,873,715,897,801,600,768,807,626,654,742,738,805,808,625,695,656,678,859,616,861,814,616,653,575,576,575,666,876,568,849,564,654,565,782,667,593,606,553,827,559,806,620,857,804,858,695,800,624,767,630,808,790,726,624,746,895,781,868,894,707,552,842,567,636,756,894,887,647,657,607,637,884,551,892,616,886,868,669,605,854,742,803,707,633,827,742,586,581,786,718,755,836,725,573,605,890,657,779,666,779,844,733,571,601,701,838,573,896,824,615,770,831,676,559,784,608,568,833,601,554,844,837,789],\"z\":[\"Bengaluru\",\"Bengaluru\",\"Delhi\",\"Bengaluru\",\"Bengaluru\",\"Chennai\",\"Chennai\",\"Mumbai\",\"Chennai\",\"Kolkata\",\"Bengaluru\",\"Bengaluru\",\"Delhi\",\"Mumbai\",\"Bengaluru\",\"Kolkata\",\"Bengaluru\",\"Mumbai\",\"Mumbai\",\"Kolkata\",\"Chennai\",\"Bengaluru\",\"Kolkata\",\"Mumbai\",\"Bengaluru\",\"Chennai\",\"Kolkata\",\"Bengaluru\",\"Delhi\",\"Chennai\",\"Bengaluru\",\"Bengaluru\",\"Chennai\",\"Kolkata\",\"Chennai\",\"Delhi\",\"Mumbai\",\"Mumbai\",\"Mumbai\",\"Mumbai\",\"Mumbai\",\"Bengaluru\",\"Bengaluru\",\"Kolkata\",\"Delhi\",\"Kolkata\",\"Bengaluru\",\"Mumbai\",\"Chennai\",\"Chennai\",\"Kolkata\",\"Bengaluru\",\"Kolkata\",\"Mumbai\",\"Kolkata\",\"Delhi\",\"Bengaluru\",\"Bengaluru\",\"Mumbai\",\"Bengaluru\",\"Mumbai\",\"Delhi\",\"Bengaluru\",\"Bengaluru\",\"Bengaluru\",\"Chennai\",\"Mumbai\",\"Delhi\",\"Chennai\",\"Mumbai\",\"Bengaluru\",\"Bengaluru\",\"Kolkata\",\"Mumbai\",\"Delhi\",\"Chennai\",\"Delhi\",\"Bengaluru\",\"Chennai\",\"Chennai\",\"Delhi\",\"Mumbai\",\"Kolkata\",\"Chennai\",\"Delhi\",\"Mumbai\",\"Bengaluru\",\"Chennai\",\"Delhi\",\"Delhi\",\"Delhi\",\"Kolkata\",\"Kolkata\",\"Mumbai\",\"Bengaluru\",\"Mumbai\",\"Delhi\",\"Mumbai\",\"Chennai\",\"Chennai\",\"Bengaluru\",\"Chennai\",\"Delhi\",\"Bengaluru\",\"Chennai\",\"Chennai\",\"Kolkata\",\"Delhi\",\"Chennai\",\"Mumbai\",\"Chennai\",\"Mumbai\",\"Chennai\",\"Delhi\",\"Chennai\",\"Delhi\",\"Mumbai\",\"Delhi\",\"Kolkata\",\"Delhi\",\"Chennai\",\"Mumbai\",\"Delhi\",\"Chennai\",\"Mumbai\",\"Kolkata\",\"Chennai\",\"Bengaluru\",\"Bengaluru\",\"Bengaluru\",\"Kolkata\",\"Mumbai\",\"Delhi\",\"Kolkata\",\"Mumbai\",\"Delhi\",\"Kolkata\",\"Bengaluru\",\"Mumbai\",\"Chennai\",\"Bengaluru\",\"Bengaluru\",\"Chennai\",\"Kolkata\",\"Mumbai\",\"Mumbai\",\"Delhi\",\"Delhi\",\"Bengaluru\",\"Kolkata\",\"Delhi\",\"Delhi\",\"Kolkata\",\"Chennai\",\"Bengaluru\",\"Mumbai\",\"Kolkata\",\"Bengaluru\",\"Bengaluru\",\"Mumbai\",\"Bengaluru\",\"Delhi\",\"Delhi\",\"Delhi\",\"Chennai\",\"Chennai\",\"Bengaluru\",\"Chennai\",\"Mumbai\",\"Chennai\",\"Bengaluru\",\"Mumbai\",\"Bengaluru\",\"Bengaluru\",\"Mumbai\",\"Mumbai\",\"Kolkata\",\"Chennai\",\"Chennai\",\"Delhi\",\"Bengaluru\",\"Bengaluru\",\"Kolkata\",\"Chennai\",\"Chennai\",\"Kolkata\",\"Kolkata\",\"Chennai\",\"Chennai\",\"Delhi\",\"Delhi\",\"Mumbai\",\"Bengaluru\",\"Bengaluru\",\"Chennai\",\"Delhi\",\"Bengaluru\",\"Chennai\",\"Delhi\",\"Chennai\"],\"type\":\"scatter3d\"}],                        {\"template\":{\"data\":{\"bar\":[{\"error_x\":{\"color\":\"#2a3f5f\"},\"error_y\":{\"color\":\"#2a3f5f\"},\"marker\":{\"line\":{\"color\":\"#E5ECF6\",\"width\":0.5},\"pattern\":{\"fillmode\":\"overlay\",\"size\":10,\"solidity\":0.2}},\"type\":\"bar\"}],\"barpolar\":[{\"marker\":{\"line\":{\"color\":\"#E5ECF6\",\"width\":0.5},\"pattern\":{\"fillmode\":\"overlay\",\"size\":10,\"solidity\":0.2}},\"type\":\"barpolar\"}],\"carpet\":[{\"aaxis\":{\"endlinecolor\":\"#2a3f5f\",\"gridcolor\":\"white\",\"linecolor\":\"white\",\"minorgridcolor\":\"white\",\"startlinecolor\":\"#2a3f5f\"},\"baxis\":{\"endlinecolor\":\"#2a3f5f\",\"gridcolor\":\"white\",\"linecolor\":\"white\",\"minorgridcolor\":\"white\",\"startlinecolor\":\"#2a3f5f\"},\"type\":\"carpet\"}],\"choropleth\":[{\"colorbar\":{\"outlinewidth\":0,\"ticks\":\"\"},\"type\":\"choropleth\"}],\"contour\":[{\"colorbar\":{\"outlinewidth\":0,\"ticks\":\"\"},\"colorscale\":[[0.0,\"#0d0887\"],[0.1111111111111111,\"#46039f\"],[0.2222222222222222,\"#7201a8\"],[0.3333333333333333,\"#9c179e\"],[0.4444444444444444,\"#bd3786\"],[0.5555555555555556,\"#d8576b\"],[0.6666666666666666,\"#ed7953\"],[0.7777777777777778,\"#fb9f3a\"],[0.8888888888888888,\"#fdca26\"],[1.0,\"#f0f921\"]],\"type\":\"contour\"}],\"contourcarpet\":[{\"colorbar\":{\"outlinewidth\":0,\"ticks\":\"\"},\"type\":\"contourcarpet\"}],\"heatmap\":[{\"colorbar\":{\"outlinewidth\":0,\"ticks\":\"\"},\"colorscale\":[[0.0,\"#0d0887\"],[0.1111111111111111,\"#46039f\"],[0.2222222222222222,\"#7201a8\"],[0.3333333333333333,\"#9c179e\"],[0.4444444444444444,\"#bd3786\"],[0.5555555555555556,\"#d8576b\"],[0.6666666666666666,\"#ed7953\"],[0.7777777777777778,\"#fb9f3a\"],[0.8888888888888888,\"#fdca26\"],[1.0,\"#f0f921\"]],\"type\":\"heatmap\"}],\"heatmapgl\":[{\"colorbar\":{\"outlinewidth\":0,\"ticks\":\"\"},\"colorscale\":[[0.0,\"#0d0887\"],[0.1111111111111111,\"#46039f\"],[0.2222222222222222,\"#7201a8\"],[0.3333333333333333,\"#9c179e\"],[0.4444444444444444,\"#bd3786\"],[0.5555555555555556,\"#d8576b\"],[0.6666666666666666,\"#ed7953\"],[0.7777777777777778,\"#fb9f3a\"],[0.8888888888888888,\"#fdca26\"],[1.0,\"#f0f921\"]],\"type\":\"heatmapgl\"}],\"histogram\":[{\"marker\":{\"pattern\":{\"fillmode\":\"overlay\",\"size\":10,\"solidity\":0.2}},\"type\":\"histogram\"}],\"histogram2d\":[{\"colorbar\":{\"outlinewidth\":0,\"ticks\":\"\"},\"colorscale\":[[0.0,\"#0d0887\"],[0.1111111111111111,\"#46039f\"],[0.2222222222222222,\"#7201a8\"],[0.3333333333333333,\"#9c179e\"],[0.4444444444444444,\"#bd3786\"],[0.5555555555555556,\"#d8576b\"],[0.6666666666666666,\"#ed7953\"],[0.7777777777777778,\"#fb9f3a\"],[0.8888888888888888,\"#fdca26\"],[1.0,\"#f0f921\"]],\"type\":\"histogram2d\"}],\"histogram2dcontour\":[{\"colorbar\":{\"outlinewidth\":0,\"ticks\":\"\"},\"colorscale\":[[0.0,\"#0d0887\"],[0.1111111111111111,\"#46039f\"],[0.2222222222222222,\"#7201a8\"],[0.3333333333333333,\"#9c179e\"],[0.4444444444444444,\"#bd3786\"],[0.5555555555555556,\"#d8576b\"],[0.6666666666666666,\"#ed7953\"],[0.7777777777777778,\"#fb9f3a\"],[0.8888888888888888,\"#fdca26\"],[1.0,\"#f0f921\"]],\"type\":\"histogram2dcontour\"}],\"mesh3d\":[{\"colorbar\":{\"outlinewidth\":0,\"ticks\":\"\"},\"type\":\"mesh3d\"}],\"parcoords\":[{\"line\":{\"colorbar\":{\"outlinewidth\":0,\"ticks\":\"\"}},\"type\":\"parcoords\"}],\"pie\":[{\"automargin\":true,\"type\":\"pie\"}],\"scatter\":[{\"marker\":{\"colorbar\":{\"outlinewidth\":0,\"ticks\":\"\"}},\"type\":\"scatter\"}],\"scatter3d\":[{\"line\":{\"colorbar\":{\"outlinewidth\":0,\"ticks\":\"\"}},\"marker\":{\"colorbar\":{\"outlinewidth\":0,\"ticks\":\"\"}},\"type\":\"scatter3d\"}],\"scattercarpet\":[{\"marker\":{\"colorbar\":{\"outlinewidth\":0,\"ticks\":\"\"}},\"type\":\"scattercarpet\"}],\"scattergeo\":[{\"marker\":{\"colorbar\":{\"outlinewidth\":0,\"ticks\":\"\"}},\"type\":\"scattergeo\"}],\"scattergl\":[{\"marker\":{\"colorbar\":{\"outlinewidth\":0,\"ticks\":\"\"}},\"type\":\"scattergl\"}],\"scattermapbox\":[{\"marker\":{\"colorbar\":{\"outlinewidth\":0,\"ticks\":\"\"}},\"type\":\"scattermapbox\"}],\"scatterpolar\":[{\"marker\":{\"colorbar\":{\"outlinewidth\":0,\"ticks\":\"\"}},\"type\":\"scatterpolar\"}],\"scatterpolargl\":[{\"marker\":{\"colorbar\":{\"outlinewidth\":0,\"ticks\":\"\"}},\"type\":\"scatterpolargl\"}],\"scatterternary\":[{\"marker\":{\"colorbar\":{\"outlinewidth\":0,\"ticks\":\"\"}},\"type\":\"scatterternary\"}],\"surface\":[{\"colorbar\":{\"outlinewidth\":0,\"ticks\":\"\"},\"colorscale\":[[0.0,\"#0d0887\"],[0.1111111111111111,\"#46039f\"],[0.2222222222222222,\"#7201a8\"],[0.3333333333333333,\"#9c179e\"],[0.4444444444444444,\"#bd3786\"],[0.5555555555555556,\"#d8576b\"],[0.6666666666666666,\"#ed7953\"],[0.7777777777777778,\"#fb9f3a\"],[0.8888888888888888,\"#fdca26\"],[1.0,\"#f0f921\"]],\"type\":\"surface\"}],\"table\":[{\"cells\":{\"fill\":{\"color\":\"#EBF0F8\"},\"line\":{\"color\":\"white\"}},\"header\":{\"fill\":{\"color\":\"#C8D4E3\"},\"line\":{\"color\":\"white\"}},\"type\":\"table\"}]},\"layout\":{\"annotationdefaults\":{\"arrowcolor\":\"#2a3f5f\",\"arrowhead\":0,\"arrowwidth\":1},\"autotypenumbers\":\"strict\",\"coloraxis\":{\"colorbar\":{\"outlinewidth\":0,\"ticks\":\"\"}},\"colorscale\":{\"diverging\":[[0,\"#8e0152\"],[0.1,\"#c51b7d\"],[0.2,\"#de77ae\"],[0.3,\"#f1b6da\"],[0.4,\"#fde0ef\"],[0.5,\"#f7f7f7\"],[0.6,\"#e6f5d0\"],[0.7,\"#b8e186\"],[0.8,\"#7fbc41\"],[0.9,\"#4d9221\"],[1,\"#276419\"]],\"sequential\":[[0.0,\"#0d0887\"],[0.1111111111111111,\"#46039f\"],[0.2222222222222222,\"#7201a8\"],[0.3333333333333333,\"#9c179e\"],[0.4444444444444444,\"#bd3786\"],[0.5555555555555556,\"#d8576b\"],[0.6666666666666666,\"#ed7953\"],[0.7777777777777778,\"#fb9f3a\"],[0.8888888888888888,\"#fdca26\"],[1.0,\"#f0f921\"]],\"sequentialminus\":[[0.0,\"#0d0887\"],[0.1111111111111111,\"#46039f\"],[0.2222222222222222,\"#7201a8\"],[0.3333333333333333,\"#9c179e\"],[0.4444444444444444,\"#bd3786\"],[0.5555555555555556,\"#d8576b\"],[0.6666666666666666,\"#ed7953\"],[0.7777777777777778,\"#fb9f3a\"],[0.8888888888888888,\"#fdca26\"],[1.0,\"#f0f921\"]]},\"colorway\":[\"#636efa\",\"#EF553B\",\"#00cc96\",\"#ab63fa\",\"#FFA15A\",\"#19d3f3\",\"#FF6692\",\"#B6E880\",\"#FF97FF\",\"#FECB52\"],\"font\":{\"color\":\"#2a3f5f\"},\"geo\":{\"bgcolor\":\"white\",\"lakecolor\":\"white\",\"landcolor\":\"#E5ECF6\",\"showlakes\":true,\"showland\":true,\"subunitcolor\":\"white\"},\"hoverlabel\":{\"align\":\"left\"},\"hovermode\":\"closest\",\"mapbox\":{\"style\":\"light\"},\"paper_bgcolor\":\"white\",\"plot_bgcolor\":\"#E5ECF6\",\"polar\":{\"angularaxis\":{\"gridcolor\":\"white\",\"linecolor\":\"white\",\"ticks\":\"\"},\"bgcolor\":\"#E5ECF6\",\"radialaxis\":{\"gridcolor\":\"white\",\"linecolor\":\"white\",\"ticks\":\"\"}},\"scene\":{\"xaxis\":{\"backgroundcolor\":\"#E5ECF6\",\"gridcolor\":\"white\",\"gridwidth\":2,\"linecolor\":\"white\",\"showbackground\":true,\"ticks\":\"\",\"zerolinecolor\":\"white\"},\"yaxis\":{\"backgroundcolor\":\"#E5ECF6\",\"gridcolor\":\"white\",\"gridwidth\":2,\"linecolor\":\"white\",\"showbackground\":true,\"ticks\":\"\",\"zerolinecolor\":\"white\"},\"zaxis\":{\"backgroundcolor\":\"#E5ECF6\",\"gridcolor\":\"white\",\"gridwidth\":2,\"linecolor\":\"white\",\"showbackground\":true,\"ticks\":\"\",\"zerolinecolor\":\"white\"}},\"shapedefaults\":{\"line\":{\"color\":\"#2a3f5f\"}},\"ternary\":{\"aaxis\":{\"gridcolor\":\"white\",\"linecolor\":\"white\",\"ticks\":\"\"},\"baxis\":{\"gridcolor\":\"white\",\"linecolor\":\"white\",\"ticks\":\"\"},\"bgcolor\":\"#E5ECF6\",\"caxis\":{\"gridcolor\":\"white\",\"linecolor\":\"white\",\"ticks\":\"\"}},\"title\":{\"x\":0.05},\"xaxis\":{\"automargin\":true,\"gridcolor\":\"white\",\"linecolor\":\"white\",\"ticks\":\"\",\"title\":{\"standoff\":15},\"zerolinecolor\":\"white\",\"zerolinewidth\":2},\"yaxis\":{\"automargin\":true,\"gridcolor\":\"white\",\"linecolor\":\"white\",\"ticks\":\"\",\"title\":{\"standoff\":15},\"zerolinecolor\":\"white\",\"zerolinewidth\":2}}},\"scene\":{\"domain\":{\"x\":[0.0,1.0],\"y\":[0.0,1.0]},\"xaxis\":{\"title\":{\"text\":\"CustomerAge\"}},\"yaxis\":{\"title\":{\"text\":\"CreditScore\"}},\"zaxis\":{\"title\":{\"text\":\"CustomerCity\"}}},\"coloraxis\":{\"colorbar\":{\"title\":{\"text\":\"lable\"}},\"colorscale\":[[0.0,\"#0d0887\"],[0.1111111111111111,\"#46039f\"],[0.2222222222222222,\"#7201a8\"],[0.3333333333333333,\"#9c179e\"],[0.4444444444444444,\"#bd3786\"],[0.5555555555555556,\"#d8576b\"],[0.6666666666666666,\"#ed7953\"],[0.7777777777777778,\"#fb9f3a\"],[0.8888888888888888,\"#fdca26\"],[1.0,\"#f0f921\"]]},\"legend\":{\"tracegroupgap\":0},\"margin\":{\"t\":60}},                        {\"responsive\": true}                    ).then(function(){\n",
       "                            \n",
       "var gd = document.getElementById('48756d36-2f53-4a1f-a7fd-f66dbdb6ca55');\n",
       "var x = new MutationObserver(function (mutations, observer) {{\n",
       "        var display = window.getComputedStyle(gd).display;\n",
       "        if (!display || display === 'none') {{\n",
       "            console.log([gd, 'removed!']);\n",
       "            Plotly.purge(gd);\n",
       "            observer.disconnect();\n",
       "        }}\n",
       "}});\n",
       "\n",
       "// Listen for the removal of the full notebook cells\n",
       "var notebookContainer = gd.closest('#notebook-container');\n",
       "if (notebookContainer) {{\n",
       "    x.observe(notebookContainer, {childList: true});\n",
       "}}\n",
       "\n",
       "// Listen for the clearing of the current output cell\n",
       "var outputEl = gd.closest('.output');\n",
       "if (outputEl) {{\n",
       "    x.observe(outputEl, {childList: true});\n",
       "}}\n",
       "\n",
       "                        })                };                });            </script>        </div>"
      ]
     },
     "metadata": {},
     "output_type": "display_data"
    }
   ],
   "source": [
    "X=transformer.fit_transform(df)\n",
    "\n",
    "GM=GaussianMixture(n_components=10,init_params='kmeans',max_iter=300).fit(X)\n",
    "\n",
    "lables=GM.predict(X)\n",
    "\n",
    "GM_DF=df.copy()\n",
    "\n",
    "GM_DF['lable']=lables\n",
    "\n",
    "px.scatter_3d(GM_DF, 'CustomerAge', 'CreditScore', 'CustomerCity', color='lable')"
   ]
  },
  {
   "cell_type": "markdown",
   "metadata": {},
   "source": [
    "- let's remove City from model"
   ]
  },
  {
   "cell_type": "code",
   "execution_count": 41,
   "metadata": {},
   "outputs": [
    {
     "name": "stdout",
     "output_type": "stream",
     "text": [
      "-4133.256831152516\n"
     ]
    },
    {
     "data": {
      "application/vnd.plotly.v1+json": {
       "config": {
        "plotlyServerURL": "https://plot.ly"
       },
       "data": [
        {
         "hovertemplate": "CustomerAge=%{x}<br>CreditScore=%{y}<br>CustomerGender=%{z}<br>lable=%{marker.color}<extra></extra>",
         "legendgroup": "",
         "marker": {
          "color": [
           0,
           0,
           3,
           1,
           1,
           3,
           1,
           1,
           0,
           3,
           0,
           3,
           3,
           3,
           2,
           2,
           1,
           2,
           2,
           1,
           0,
           0,
           3,
           0,
           1,
           0,
           1,
           0,
           3,
           3,
           0,
           1,
           2,
           2,
           1,
           1,
           3,
           1,
           3,
           3,
           1,
           0,
           0,
           3,
           3,
           1,
           1,
           1,
           3,
           3,
           1,
           0,
           1,
           2,
           3,
           2,
           3,
           2,
           1,
           0,
           2,
           2,
           1,
           3,
           0,
           0,
           3,
           1,
           0,
           3,
           2,
           1,
           3,
           1,
           0,
           0,
           1,
           2,
           1,
           1,
           2,
           0,
           2,
           1,
           3,
           0,
           1,
           1,
           1,
           1,
           3,
           0,
           0,
           3,
           1,
           0,
           1,
           1,
           0,
           0,
           3,
           3,
           0,
           0,
           2,
           3,
           1,
           0,
           0,
           0,
           2,
           3,
           3,
           0,
           3,
           1,
           3,
           1,
           3,
           1,
           2,
           1,
           3,
           2,
           3,
           1,
           0,
           2,
           2,
           0,
           0,
           2,
           1,
           1,
           2,
           1,
           3,
           0,
           2,
           3,
           3,
           2,
           1,
           1,
           0,
           0,
           0,
           3,
           1,
           0,
           2,
           0,
           1,
           1,
           3,
           3,
           2,
           1,
           2,
           3,
           3,
           1,
           2,
           3,
           0,
           1,
           0,
           1,
           1,
           2,
           0,
           0,
           2,
           0,
           1,
           3,
           2,
           0,
           2,
           0,
           3,
           3,
           2,
           3,
           1,
           2,
           3,
           2,
           1,
           3,
           3,
           1,
           0,
           3,
           1,
           3,
           3,
           2,
           2,
           2
          ],
          "coloraxis": "coloraxis",
          "symbol": "circle"
         },
         "mode": "markers",
         "name": "",
         "scene": "scene",
         "showlegend": false,
         "type": "scatter3d",
         "x": [
          49,
          59,
          54,
          42,
          30,
          38,
          45,
          23,
          59,
          48,
          55,
          73,
          54,
          34,
          54,
          53,
          23,
          30,
          37,
          52,
          39,
          38,
          71,
          31,
          42,
          65,
          65,
          33,
          29,
          24,
          59,
          40,
          52,
          47,
          66,
          62,
          73,
          23,
          45,
          43,
          21,
          45,
          54,
          22,
          26,
          72,
          29,
          65,
          34,
          26,
          66,
          50,
          33,
          47,
          59,
          52,
          55,
          74,
          32,
          31,
          25,
          75,
          39,
          46,
          29,
          34,
          54,
          36,
          52,
          28,
          18,
          45,
          48,
          50,
          43,
          27,
          68,
          67,
          59,
          74,
          62,
          45,
          33,
          20,
          61,
          32,
          49,
          66,
          36,
          55,
          35,
          22,
          59,
          21,
          74,
          51,
          22,
          35,
          47,
          66,
          20,
          58,
          42,
          27,
          63,
          28,
          48,
          63,
          45,
          22,
          70,
          65,
          41,
          56,
          51,
          33,
          69,
          21,
          40,
          19,
          62,
          38,
          49,
          30,
          62,
          58,
          73,
          66,
          71,
          54,
          53,
          34,
          41,
          47,
          26,
          30,
          55,
          43,
          50,
          61,
          37,
          29,
          26,
          22,
          56,
          70,
          38,
          37,
          62,
          19,
          46,
          50,
          48,
          53,
          70,
          60,
          37,
          57,
          66,
          27,
          21,
          22,
          18,
          18,
          38,
          23,
          21,
          44,
          72,
          63,
          50,
          56,
          59,
          44,
          20,
          33,
          49,
          22,
          64,
          31,
          53,
          23,
          26,
          63,
          43,
          62,
          74,
          66,
          45,
          62,
          61,
          47,
          74,
          48,
          48,
          54,
          20,
          44,
          28,
          41
         ],
         "y": [
          653,
          630,
          555,
          699,
          793,
          635,
          881,
          852,
          708,
          669,
          618,
          614,
          711,
          629,
          764,
          880,
          729,
          803,
          817,
          774,
          672,
          691,
          669,
          555,
          778,
          623,
          782,
          588,
          684,
          698,
          562,
          774,
          777,
          769,
          755,
          789,
          575,
          850,
          715,
          639,
          817,
          731,
          704,
          712,
          713,
          874,
          751,
          761,
          633,
          632,
          763,
          701,
          784,
          854,
          692,
          751,
          648,
          865,
          863,
          622,
          817,
          868,
          849,
          565,
          665,
          632,
          670,
          736,
          687,
          561,
          892,
          724,
          583,
          760,
          555,
          712,
          880,
          873,
          715,
          897,
          801,
          600,
          768,
          807,
          626,
          654,
          742,
          738,
          805,
          808,
          625,
          695,
          656,
          678,
          859,
          616,
          861,
          814,
          616,
          653,
          575,
          576,
          575,
          666,
          876,
          568,
          849,
          564,
          654,
          565,
          782,
          667,
          593,
          606,
          553,
          827,
          559,
          806,
          620,
          857,
          804,
          858,
          695,
          800,
          624,
          767,
          630,
          808,
          790,
          726,
          624,
          746,
          895,
          781,
          868,
          894,
          707,
          552,
          842,
          567,
          636,
          756,
          894,
          887,
          647,
          657,
          607,
          637,
          884,
          551,
          892,
          616,
          886,
          868,
          669,
          605,
          854,
          742,
          803,
          707,
          633,
          827,
          742,
          586,
          581,
          786,
          718,
          755,
          836,
          725,
          573,
          605,
          890,
          657,
          779,
          666,
          779,
          844,
          733,
          571,
          601,
          701,
          838,
          573,
          896,
          824,
          615,
          770,
          831,
          676,
          559,
          784,
          608,
          568,
          833,
          601,
          554,
          844,
          837,
          789
         ],
         "z": [
          "Male",
          "Male",
          "Female",
          "Female",
          "Female",
          "Female",
          "Female",
          "Female",
          "Male",
          "Female",
          "Male",
          "Female",
          "Female",
          "Female",
          "Male",
          "Male",
          "Female",
          "Male",
          "Male",
          "Female",
          "Male",
          "Male",
          "Female",
          "Male",
          "Female",
          "Male",
          "Female",
          "Male",
          "Female",
          "Female",
          "Male",
          "Female",
          "Male",
          "Male",
          "Female",
          "Female",
          "Female",
          "Female",
          "Female",
          "Female",
          "Female",
          "Male",
          "Male",
          "Female",
          "Female",
          "Female",
          "Female",
          "Female",
          "Female",
          "Female",
          "Female",
          "Male",
          "Female",
          "Male",
          "Female",
          "Male",
          "Female",
          "Male",
          "Female",
          "Male",
          "Male",
          "Male",
          "Female",
          "Female",
          "Male",
          "Male",
          "Female",
          "Female",
          "Male",
          "Female",
          "Male",
          "Female",
          "Female",
          "Female",
          "Male",
          "Male",
          "Female",
          "Male",
          "Female",
          "Female",
          "Male",
          "Male",
          "Male",
          "Female",
          "Female",
          "Male",
          "Female",
          "Female",
          "Female",
          "Female",
          "Female",
          "Male",
          "Male",
          "Female",
          "Female",
          "Male",
          "Female",
          "Female",
          "Male",
          "Male",
          "Female",
          "Female",
          "Male",
          "Male",
          "Male",
          "Female",
          "Female",
          "Male",
          "Male",
          "Male",
          "Male",
          "Female",
          "Female",
          "Male",
          "Female",
          "Female",
          "Female",
          "Female",
          "Female",
          "Female",
          "Male",
          "Female",
          "Female",
          "Male",
          "Female",
          "Female",
          "Male",
          "Male",
          "Male",
          "Male",
          "Male",
          "Male",
          "Female",
          "Female",
          "Male",
          "Female",
          "Female",
          "Male",
          "Male",
          "Female",
          "Female",
          "Male",
          "Female",
          "Female",
          "Male",
          "Male",
          "Male",
          "Female",
          "Female",
          "Male",
          "Male",
          "Male",
          "Female",
          "Female",
          "Female",
          "Female",
          "Male",
          "Female",
          "Male",
          "Female",
          "Female",
          "Female",
          "Male",
          "Female",
          "Male",
          "Female",
          "Male",
          "Female",
          "Female",
          "Male",
          "Male",
          "Male",
          "Male",
          "Male",
          "Female",
          "Female",
          "Male",
          "Male",
          "Male",
          "Male",
          "Female",
          "Female",
          "Male",
          "Female",
          "Female",
          "Male",
          "Female",
          "Male",
          "Female",
          "Female",
          "Female",
          "Female",
          "Male",
          "Female",
          "Female",
          "Female",
          "Female",
          "Male",
          "Male",
          "Male"
         ]
        }
       ],
       "layout": {
        "coloraxis": {
         "colorbar": {
          "title": {
           "text": "lable"
          }
         },
         "colorscale": [
          [
           0,
           "#0d0887"
          ],
          [
           0.1111111111111111,
           "#46039f"
          ],
          [
           0.2222222222222222,
           "#7201a8"
          ],
          [
           0.3333333333333333,
           "#9c179e"
          ],
          [
           0.4444444444444444,
           "#bd3786"
          ],
          [
           0.5555555555555556,
           "#d8576b"
          ],
          [
           0.6666666666666666,
           "#ed7953"
          ],
          [
           0.7777777777777778,
           "#fb9f3a"
          ],
          [
           0.8888888888888888,
           "#fdca26"
          ],
          [
           1,
           "#f0f921"
          ]
         ]
        },
        "legend": {
         "tracegroupgap": 0
        },
        "margin": {
         "t": 60
        },
        "scene": {
         "domain": {
          "x": [
           0,
           1
          ],
          "y": [
           0,
           1
          ]
         },
         "xaxis": {
          "title": {
           "text": "CustomerAge"
          }
         },
         "yaxis": {
          "title": {
           "text": "CreditScore"
          }
         },
         "zaxis": {
          "title": {
           "text": "CustomerGender"
          }
         }
        },
        "template": {
         "data": {
          "bar": [
           {
            "error_x": {
             "color": "#2a3f5f"
            },
            "error_y": {
             "color": "#2a3f5f"
            },
            "marker": {
             "line": {
              "color": "#E5ECF6",
              "width": 0.5
             },
             "pattern": {
              "fillmode": "overlay",
              "size": 10,
              "solidity": 0.2
             }
            },
            "type": "bar"
           }
          ],
          "barpolar": [
           {
            "marker": {
             "line": {
              "color": "#E5ECF6",
              "width": 0.5
             },
             "pattern": {
              "fillmode": "overlay",
              "size": 10,
              "solidity": 0.2
             }
            },
            "type": "barpolar"
           }
          ],
          "carpet": [
           {
            "aaxis": {
             "endlinecolor": "#2a3f5f",
             "gridcolor": "white",
             "linecolor": "white",
             "minorgridcolor": "white",
             "startlinecolor": "#2a3f5f"
            },
            "baxis": {
             "endlinecolor": "#2a3f5f",
             "gridcolor": "white",
             "linecolor": "white",
             "minorgridcolor": "white",
             "startlinecolor": "#2a3f5f"
            },
            "type": "carpet"
           }
          ],
          "choropleth": [
           {
            "colorbar": {
             "outlinewidth": 0,
             "ticks": ""
            },
            "type": "choropleth"
           }
          ],
          "contour": [
           {
            "colorbar": {
             "outlinewidth": 0,
             "ticks": ""
            },
            "colorscale": [
             [
              0,
              "#0d0887"
             ],
             [
              0.1111111111111111,
              "#46039f"
             ],
             [
              0.2222222222222222,
              "#7201a8"
             ],
             [
              0.3333333333333333,
              "#9c179e"
             ],
             [
              0.4444444444444444,
              "#bd3786"
             ],
             [
              0.5555555555555556,
              "#d8576b"
             ],
             [
              0.6666666666666666,
              "#ed7953"
             ],
             [
              0.7777777777777778,
              "#fb9f3a"
             ],
             [
              0.8888888888888888,
              "#fdca26"
             ],
             [
              1,
              "#f0f921"
             ]
            ],
            "type": "contour"
           }
          ],
          "contourcarpet": [
           {
            "colorbar": {
             "outlinewidth": 0,
             "ticks": ""
            },
            "type": "contourcarpet"
           }
          ],
          "heatmap": [
           {
            "colorbar": {
             "outlinewidth": 0,
             "ticks": ""
            },
            "colorscale": [
             [
              0,
              "#0d0887"
             ],
             [
              0.1111111111111111,
              "#46039f"
             ],
             [
              0.2222222222222222,
              "#7201a8"
             ],
             [
              0.3333333333333333,
              "#9c179e"
             ],
             [
              0.4444444444444444,
              "#bd3786"
             ],
             [
              0.5555555555555556,
              "#d8576b"
             ],
             [
              0.6666666666666666,
              "#ed7953"
             ],
             [
              0.7777777777777778,
              "#fb9f3a"
             ],
             [
              0.8888888888888888,
              "#fdca26"
             ],
             [
              1,
              "#f0f921"
             ]
            ],
            "type": "heatmap"
           }
          ],
          "heatmapgl": [
           {
            "colorbar": {
             "outlinewidth": 0,
             "ticks": ""
            },
            "colorscale": [
             [
              0,
              "#0d0887"
             ],
             [
              0.1111111111111111,
              "#46039f"
             ],
             [
              0.2222222222222222,
              "#7201a8"
             ],
             [
              0.3333333333333333,
              "#9c179e"
             ],
             [
              0.4444444444444444,
              "#bd3786"
             ],
             [
              0.5555555555555556,
              "#d8576b"
             ],
             [
              0.6666666666666666,
              "#ed7953"
             ],
             [
              0.7777777777777778,
              "#fb9f3a"
             ],
             [
              0.8888888888888888,
              "#fdca26"
             ],
             [
              1,
              "#f0f921"
             ]
            ],
            "type": "heatmapgl"
           }
          ],
          "histogram": [
           {
            "marker": {
             "pattern": {
              "fillmode": "overlay",
              "size": 10,
              "solidity": 0.2
             }
            },
            "type": "histogram"
           }
          ],
          "histogram2d": [
           {
            "colorbar": {
             "outlinewidth": 0,
             "ticks": ""
            },
            "colorscale": [
             [
              0,
              "#0d0887"
             ],
             [
              0.1111111111111111,
              "#46039f"
             ],
             [
              0.2222222222222222,
              "#7201a8"
             ],
             [
              0.3333333333333333,
              "#9c179e"
             ],
             [
              0.4444444444444444,
              "#bd3786"
             ],
             [
              0.5555555555555556,
              "#d8576b"
             ],
             [
              0.6666666666666666,
              "#ed7953"
             ],
             [
              0.7777777777777778,
              "#fb9f3a"
             ],
             [
              0.8888888888888888,
              "#fdca26"
             ],
             [
              1,
              "#f0f921"
             ]
            ],
            "type": "histogram2d"
           }
          ],
          "histogram2dcontour": [
           {
            "colorbar": {
             "outlinewidth": 0,
             "ticks": ""
            },
            "colorscale": [
             [
              0,
              "#0d0887"
             ],
             [
              0.1111111111111111,
              "#46039f"
             ],
             [
              0.2222222222222222,
              "#7201a8"
             ],
             [
              0.3333333333333333,
              "#9c179e"
             ],
             [
              0.4444444444444444,
              "#bd3786"
             ],
             [
              0.5555555555555556,
              "#d8576b"
             ],
             [
              0.6666666666666666,
              "#ed7953"
             ],
             [
              0.7777777777777778,
              "#fb9f3a"
             ],
             [
              0.8888888888888888,
              "#fdca26"
             ],
             [
              1,
              "#f0f921"
             ]
            ],
            "type": "histogram2dcontour"
           }
          ],
          "mesh3d": [
           {
            "colorbar": {
             "outlinewidth": 0,
             "ticks": ""
            },
            "type": "mesh3d"
           }
          ],
          "parcoords": [
           {
            "line": {
             "colorbar": {
              "outlinewidth": 0,
              "ticks": ""
             }
            },
            "type": "parcoords"
           }
          ],
          "pie": [
           {
            "automargin": true,
            "type": "pie"
           }
          ],
          "scatter": [
           {
            "marker": {
             "colorbar": {
              "outlinewidth": 0,
              "ticks": ""
             }
            },
            "type": "scatter"
           }
          ],
          "scatter3d": [
           {
            "line": {
             "colorbar": {
              "outlinewidth": 0,
              "ticks": ""
             }
            },
            "marker": {
             "colorbar": {
              "outlinewidth": 0,
              "ticks": ""
             }
            },
            "type": "scatter3d"
           }
          ],
          "scattercarpet": [
           {
            "marker": {
             "colorbar": {
              "outlinewidth": 0,
              "ticks": ""
             }
            },
            "type": "scattercarpet"
           }
          ],
          "scattergeo": [
           {
            "marker": {
             "colorbar": {
              "outlinewidth": 0,
              "ticks": ""
             }
            },
            "type": "scattergeo"
           }
          ],
          "scattergl": [
           {
            "marker": {
             "colorbar": {
              "outlinewidth": 0,
              "ticks": ""
             }
            },
            "type": "scattergl"
           }
          ],
          "scattermapbox": [
           {
            "marker": {
             "colorbar": {
              "outlinewidth": 0,
              "ticks": ""
             }
            },
            "type": "scattermapbox"
           }
          ],
          "scatterpolar": [
           {
            "marker": {
             "colorbar": {
              "outlinewidth": 0,
              "ticks": ""
             }
            },
            "type": "scatterpolar"
           }
          ],
          "scatterpolargl": [
           {
            "marker": {
             "colorbar": {
              "outlinewidth": 0,
              "ticks": ""
             }
            },
            "type": "scatterpolargl"
           }
          ],
          "scatterternary": [
           {
            "marker": {
             "colorbar": {
              "outlinewidth": 0,
              "ticks": ""
             }
            },
            "type": "scatterternary"
           }
          ],
          "surface": [
           {
            "colorbar": {
             "outlinewidth": 0,
             "ticks": ""
            },
            "colorscale": [
             [
              0,
              "#0d0887"
             ],
             [
              0.1111111111111111,
              "#46039f"
             ],
             [
              0.2222222222222222,
              "#7201a8"
             ],
             [
              0.3333333333333333,
              "#9c179e"
             ],
             [
              0.4444444444444444,
              "#bd3786"
             ],
             [
              0.5555555555555556,
              "#d8576b"
             ],
             [
              0.6666666666666666,
              "#ed7953"
             ],
             [
              0.7777777777777778,
              "#fb9f3a"
             ],
             [
              0.8888888888888888,
              "#fdca26"
             ],
             [
              1,
              "#f0f921"
             ]
            ],
            "type": "surface"
           }
          ],
          "table": [
           {
            "cells": {
             "fill": {
              "color": "#EBF0F8"
             },
             "line": {
              "color": "white"
             }
            },
            "header": {
             "fill": {
              "color": "#C8D4E3"
             },
             "line": {
              "color": "white"
             }
            },
            "type": "table"
           }
          ]
         },
         "layout": {
          "annotationdefaults": {
           "arrowcolor": "#2a3f5f",
           "arrowhead": 0,
           "arrowwidth": 1
          },
          "autotypenumbers": "strict",
          "coloraxis": {
           "colorbar": {
            "outlinewidth": 0,
            "ticks": ""
           }
          },
          "colorscale": {
           "diverging": [
            [
             0,
             "#8e0152"
            ],
            [
             0.1,
             "#c51b7d"
            ],
            [
             0.2,
             "#de77ae"
            ],
            [
             0.3,
             "#f1b6da"
            ],
            [
             0.4,
             "#fde0ef"
            ],
            [
             0.5,
             "#f7f7f7"
            ],
            [
             0.6,
             "#e6f5d0"
            ],
            [
             0.7,
             "#b8e186"
            ],
            [
             0.8,
             "#7fbc41"
            ],
            [
             0.9,
             "#4d9221"
            ],
            [
             1,
             "#276419"
            ]
           ],
           "sequential": [
            [
             0,
             "#0d0887"
            ],
            [
             0.1111111111111111,
             "#46039f"
            ],
            [
             0.2222222222222222,
             "#7201a8"
            ],
            [
             0.3333333333333333,
             "#9c179e"
            ],
            [
             0.4444444444444444,
             "#bd3786"
            ],
            [
             0.5555555555555556,
             "#d8576b"
            ],
            [
             0.6666666666666666,
             "#ed7953"
            ],
            [
             0.7777777777777778,
             "#fb9f3a"
            ],
            [
             0.8888888888888888,
             "#fdca26"
            ],
            [
             1,
             "#f0f921"
            ]
           ],
           "sequentialminus": [
            [
             0,
             "#0d0887"
            ],
            [
             0.1111111111111111,
             "#46039f"
            ],
            [
             0.2222222222222222,
             "#7201a8"
            ],
            [
             0.3333333333333333,
             "#9c179e"
            ],
            [
             0.4444444444444444,
             "#bd3786"
            ],
            [
             0.5555555555555556,
             "#d8576b"
            ],
            [
             0.6666666666666666,
             "#ed7953"
            ],
            [
             0.7777777777777778,
             "#fb9f3a"
            ],
            [
             0.8888888888888888,
             "#fdca26"
            ],
            [
             1,
             "#f0f921"
            ]
           ]
          },
          "colorway": [
           "#636efa",
           "#EF553B",
           "#00cc96",
           "#ab63fa",
           "#FFA15A",
           "#19d3f3",
           "#FF6692",
           "#B6E880",
           "#FF97FF",
           "#FECB52"
          ],
          "font": {
           "color": "#2a3f5f"
          },
          "geo": {
           "bgcolor": "white",
           "lakecolor": "white",
           "landcolor": "#E5ECF6",
           "showlakes": true,
           "showland": true,
           "subunitcolor": "white"
          },
          "hoverlabel": {
           "align": "left"
          },
          "hovermode": "closest",
          "mapbox": {
           "style": "light"
          },
          "paper_bgcolor": "white",
          "plot_bgcolor": "#E5ECF6",
          "polar": {
           "angularaxis": {
            "gridcolor": "white",
            "linecolor": "white",
            "ticks": ""
           },
           "bgcolor": "#E5ECF6",
           "radialaxis": {
            "gridcolor": "white",
            "linecolor": "white",
            "ticks": ""
           }
          },
          "scene": {
           "xaxis": {
            "backgroundcolor": "#E5ECF6",
            "gridcolor": "white",
            "gridwidth": 2,
            "linecolor": "white",
            "showbackground": true,
            "ticks": "",
            "zerolinecolor": "white"
           },
           "yaxis": {
            "backgroundcolor": "#E5ECF6",
            "gridcolor": "white",
            "gridwidth": 2,
            "linecolor": "white",
            "showbackground": true,
            "ticks": "",
            "zerolinecolor": "white"
           },
           "zaxis": {
            "backgroundcolor": "#E5ECF6",
            "gridcolor": "white",
            "gridwidth": 2,
            "linecolor": "white",
            "showbackground": true,
            "ticks": "",
            "zerolinecolor": "white"
           }
          },
          "shapedefaults": {
           "line": {
            "color": "#2a3f5f"
           }
          },
          "ternary": {
           "aaxis": {
            "gridcolor": "white",
            "linecolor": "white",
            "ticks": ""
           },
           "baxis": {
            "gridcolor": "white",
            "linecolor": "white",
            "ticks": ""
           },
           "bgcolor": "#E5ECF6",
           "caxis": {
            "gridcolor": "white",
            "linecolor": "white",
            "ticks": ""
           }
          },
          "title": {
           "x": 0.05
          },
          "xaxis": {
           "automargin": true,
           "gridcolor": "white",
           "linecolor": "white",
           "ticks": "",
           "title": {
            "standoff": 15
           },
           "zerolinecolor": "white",
           "zerolinewidth": 2
          },
          "yaxis": {
           "automargin": true,
           "gridcolor": "white",
           "linecolor": "white",
           "ticks": "",
           "title": {
            "standoff": 15
           },
           "zerolinecolor": "white",
           "zerolinewidth": 2
          }
         }
        }
       }
      },
      "text/html": [
       "<div>                            <div id=\"7185fa0e-709f-4423-bc84-8bd3774ab72d\" class=\"plotly-graph-div\" style=\"height:525px; width:100%;\"></div>            <script type=\"text/javascript\">                require([\"plotly\"], function(Plotly) {                    window.PLOTLYENV=window.PLOTLYENV || {};                                    if (document.getElementById(\"7185fa0e-709f-4423-bc84-8bd3774ab72d\")) {                    Plotly.newPlot(                        \"7185fa0e-709f-4423-bc84-8bd3774ab72d\",                        [{\"hovertemplate\":\"CustomerAge=%{x}<br>CreditScore=%{y}<br>CustomerGender=%{z}<br>lable=%{marker.color}<extra></extra>\",\"legendgroup\":\"\",\"marker\":{\"color\":[0,0,3,1,1,3,1,1,0,3,0,3,3,3,2,2,1,2,2,1,0,0,3,0,1,0,1,0,3,3,0,1,2,2,1,1,3,1,3,3,1,0,0,3,3,1,1,1,3,3,1,0,1,2,3,2,3,2,1,0,2,2,1,3,0,0,3,1,0,3,2,1,3,1,0,0,1,2,1,1,2,0,2,1,3,0,1,1,1,1,3,0,0,3,1,0,1,1,0,0,3,3,0,0,2,3,1,0,0,0,2,3,3,0,3,1,3,1,3,1,2,1,3,2,3,1,0,2,2,0,0,2,1,1,2,1,3,0,2,3,3,2,1,1,0,0,0,3,1,0,2,0,1,1,3,3,2,1,2,3,3,1,2,3,0,1,0,1,1,2,0,0,2,0,1,3,2,0,2,0,3,3,2,3,1,2,3,2,1,3,3,1,0,3,1,3,3,2,2,2],\"coloraxis\":\"coloraxis\",\"symbol\":\"circle\"},\"mode\":\"markers\",\"name\":\"\",\"scene\":\"scene\",\"showlegend\":false,\"x\":[49,59,54,42,30,38,45,23,59,48,55,73,54,34,54,53,23,30,37,52,39,38,71,31,42,65,65,33,29,24,59,40,52,47,66,62,73,23,45,43,21,45,54,22,26,72,29,65,34,26,66,50,33,47,59,52,55,74,32,31,25,75,39,46,29,34,54,36,52,28,18,45,48,50,43,27,68,67,59,74,62,45,33,20,61,32,49,66,36,55,35,22,59,21,74,51,22,35,47,66,20,58,42,27,63,28,48,63,45,22,70,65,41,56,51,33,69,21,40,19,62,38,49,30,62,58,73,66,71,54,53,34,41,47,26,30,55,43,50,61,37,29,26,22,56,70,38,37,62,19,46,50,48,53,70,60,37,57,66,27,21,22,18,18,38,23,21,44,72,63,50,56,59,44,20,33,49,22,64,31,53,23,26,63,43,62,74,66,45,62,61,47,74,48,48,54,20,44,28,41],\"y\":[653,630,555,699,793,635,881,852,708,669,618,614,711,629,764,880,729,803,817,774,672,691,669,555,778,623,782,588,684,698,562,774,777,769,755,789,575,850,715,639,817,731,704,712,713,874,751,761,633,632,763,701,784,854,692,751,648,865,863,622,817,868,849,565,665,632,670,736,687,561,892,724,583,760,555,712,880,873,715,897,801,600,768,807,626,654,742,738,805,808,625,695,656,678,859,616,861,814,616,653,575,576,575,666,876,568,849,564,654,565,782,667,593,606,553,827,559,806,620,857,804,858,695,800,624,767,630,808,790,726,624,746,895,781,868,894,707,552,842,567,636,756,894,887,647,657,607,637,884,551,892,616,886,868,669,605,854,742,803,707,633,827,742,586,581,786,718,755,836,725,573,605,890,657,779,666,779,844,733,571,601,701,838,573,896,824,615,770,831,676,559,784,608,568,833,601,554,844,837,789],\"z\":[\"Male\",\"Male\",\"Female\",\"Female\",\"Female\",\"Female\",\"Female\",\"Female\",\"Male\",\"Female\",\"Male\",\"Female\",\"Female\",\"Female\",\"Male\",\"Male\",\"Female\",\"Male\",\"Male\",\"Female\",\"Male\",\"Male\",\"Female\",\"Male\",\"Female\",\"Male\",\"Female\",\"Male\",\"Female\",\"Female\",\"Male\",\"Female\",\"Male\",\"Male\",\"Female\",\"Female\",\"Female\",\"Female\",\"Female\",\"Female\",\"Female\",\"Male\",\"Male\",\"Female\",\"Female\",\"Female\",\"Female\",\"Female\",\"Female\",\"Female\",\"Female\",\"Male\",\"Female\",\"Male\",\"Female\",\"Male\",\"Female\",\"Male\",\"Female\",\"Male\",\"Male\",\"Male\",\"Female\",\"Female\",\"Male\",\"Male\",\"Female\",\"Female\",\"Male\",\"Female\",\"Male\",\"Female\",\"Female\",\"Female\",\"Male\",\"Male\",\"Female\",\"Male\",\"Female\",\"Female\",\"Male\",\"Male\",\"Male\",\"Female\",\"Female\",\"Male\",\"Female\",\"Female\",\"Female\",\"Female\",\"Female\",\"Male\",\"Male\",\"Female\",\"Female\",\"Male\",\"Female\",\"Female\",\"Male\",\"Male\",\"Female\",\"Female\",\"Male\",\"Male\",\"Male\",\"Female\",\"Female\",\"Male\",\"Male\",\"Male\",\"Male\",\"Female\",\"Female\",\"Male\",\"Female\",\"Female\",\"Female\",\"Female\",\"Female\",\"Female\",\"Male\",\"Female\",\"Female\",\"Male\",\"Female\",\"Female\",\"Male\",\"Male\",\"Male\",\"Male\",\"Male\",\"Male\",\"Female\",\"Female\",\"Male\",\"Female\",\"Female\",\"Male\",\"Male\",\"Female\",\"Female\",\"Male\",\"Female\",\"Female\",\"Male\",\"Male\",\"Male\",\"Female\",\"Female\",\"Male\",\"Male\",\"Male\",\"Female\",\"Female\",\"Female\",\"Female\",\"Male\",\"Female\",\"Male\",\"Female\",\"Female\",\"Female\",\"Male\",\"Female\",\"Male\",\"Female\",\"Male\",\"Female\",\"Female\",\"Male\",\"Male\",\"Male\",\"Male\",\"Male\",\"Female\",\"Female\",\"Male\",\"Male\",\"Male\",\"Male\",\"Female\",\"Female\",\"Male\",\"Female\",\"Female\",\"Male\",\"Female\",\"Male\",\"Female\",\"Female\",\"Female\",\"Female\",\"Male\",\"Female\",\"Female\",\"Female\",\"Female\",\"Male\",\"Male\",\"Male\"],\"type\":\"scatter3d\"}],                        {\"template\":{\"data\":{\"bar\":[{\"error_x\":{\"color\":\"#2a3f5f\"},\"error_y\":{\"color\":\"#2a3f5f\"},\"marker\":{\"line\":{\"color\":\"#E5ECF6\",\"width\":0.5},\"pattern\":{\"fillmode\":\"overlay\",\"size\":10,\"solidity\":0.2}},\"type\":\"bar\"}],\"barpolar\":[{\"marker\":{\"line\":{\"color\":\"#E5ECF6\",\"width\":0.5},\"pattern\":{\"fillmode\":\"overlay\",\"size\":10,\"solidity\":0.2}},\"type\":\"barpolar\"}],\"carpet\":[{\"aaxis\":{\"endlinecolor\":\"#2a3f5f\",\"gridcolor\":\"white\",\"linecolor\":\"white\",\"minorgridcolor\":\"white\",\"startlinecolor\":\"#2a3f5f\"},\"baxis\":{\"endlinecolor\":\"#2a3f5f\",\"gridcolor\":\"white\",\"linecolor\":\"white\",\"minorgridcolor\":\"white\",\"startlinecolor\":\"#2a3f5f\"},\"type\":\"carpet\"}],\"choropleth\":[{\"colorbar\":{\"outlinewidth\":0,\"ticks\":\"\"},\"type\":\"choropleth\"}],\"contour\":[{\"colorbar\":{\"outlinewidth\":0,\"ticks\":\"\"},\"colorscale\":[[0.0,\"#0d0887\"],[0.1111111111111111,\"#46039f\"],[0.2222222222222222,\"#7201a8\"],[0.3333333333333333,\"#9c179e\"],[0.4444444444444444,\"#bd3786\"],[0.5555555555555556,\"#d8576b\"],[0.6666666666666666,\"#ed7953\"],[0.7777777777777778,\"#fb9f3a\"],[0.8888888888888888,\"#fdca26\"],[1.0,\"#f0f921\"]],\"type\":\"contour\"}],\"contourcarpet\":[{\"colorbar\":{\"outlinewidth\":0,\"ticks\":\"\"},\"type\":\"contourcarpet\"}],\"heatmap\":[{\"colorbar\":{\"outlinewidth\":0,\"ticks\":\"\"},\"colorscale\":[[0.0,\"#0d0887\"],[0.1111111111111111,\"#46039f\"],[0.2222222222222222,\"#7201a8\"],[0.3333333333333333,\"#9c179e\"],[0.4444444444444444,\"#bd3786\"],[0.5555555555555556,\"#d8576b\"],[0.6666666666666666,\"#ed7953\"],[0.7777777777777778,\"#fb9f3a\"],[0.8888888888888888,\"#fdca26\"],[1.0,\"#f0f921\"]],\"type\":\"heatmap\"}],\"heatmapgl\":[{\"colorbar\":{\"outlinewidth\":0,\"ticks\":\"\"},\"colorscale\":[[0.0,\"#0d0887\"],[0.1111111111111111,\"#46039f\"],[0.2222222222222222,\"#7201a8\"],[0.3333333333333333,\"#9c179e\"],[0.4444444444444444,\"#bd3786\"],[0.5555555555555556,\"#d8576b\"],[0.6666666666666666,\"#ed7953\"],[0.7777777777777778,\"#fb9f3a\"],[0.8888888888888888,\"#fdca26\"],[1.0,\"#f0f921\"]],\"type\":\"heatmapgl\"}],\"histogram\":[{\"marker\":{\"pattern\":{\"fillmode\":\"overlay\",\"size\":10,\"solidity\":0.2}},\"type\":\"histogram\"}],\"histogram2d\":[{\"colorbar\":{\"outlinewidth\":0,\"ticks\":\"\"},\"colorscale\":[[0.0,\"#0d0887\"],[0.1111111111111111,\"#46039f\"],[0.2222222222222222,\"#7201a8\"],[0.3333333333333333,\"#9c179e\"],[0.4444444444444444,\"#bd3786\"],[0.5555555555555556,\"#d8576b\"],[0.6666666666666666,\"#ed7953\"],[0.7777777777777778,\"#fb9f3a\"],[0.8888888888888888,\"#fdca26\"],[1.0,\"#f0f921\"]],\"type\":\"histogram2d\"}],\"histogram2dcontour\":[{\"colorbar\":{\"outlinewidth\":0,\"ticks\":\"\"},\"colorscale\":[[0.0,\"#0d0887\"],[0.1111111111111111,\"#46039f\"],[0.2222222222222222,\"#7201a8\"],[0.3333333333333333,\"#9c179e\"],[0.4444444444444444,\"#bd3786\"],[0.5555555555555556,\"#d8576b\"],[0.6666666666666666,\"#ed7953\"],[0.7777777777777778,\"#fb9f3a\"],[0.8888888888888888,\"#fdca26\"],[1.0,\"#f0f921\"]],\"type\":\"histogram2dcontour\"}],\"mesh3d\":[{\"colorbar\":{\"outlinewidth\":0,\"ticks\":\"\"},\"type\":\"mesh3d\"}],\"parcoords\":[{\"line\":{\"colorbar\":{\"outlinewidth\":0,\"ticks\":\"\"}},\"type\":\"parcoords\"}],\"pie\":[{\"automargin\":true,\"type\":\"pie\"}],\"scatter\":[{\"marker\":{\"colorbar\":{\"outlinewidth\":0,\"ticks\":\"\"}},\"type\":\"scatter\"}],\"scatter3d\":[{\"line\":{\"colorbar\":{\"outlinewidth\":0,\"ticks\":\"\"}},\"marker\":{\"colorbar\":{\"outlinewidth\":0,\"ticks\":\"\"}},\"type\":\"scatter3d\"}],\"scattercarpet\":[{\"marker\":{\"colorbar\":{\"outlinewidth\":0,\"ticks\":\"\"}},\"type\":\"scattercarpet\"}],\"scattergeo\":[{\"marker\":{\"colorbar\":{\"outlinewidth\":0,\"ticks\":\"\"}},\"type\":\"scattergeo\"}],\"scattergl\":[{\"marker\":{\"colorbar\":{\"outlinewidth\":0,\"ticks\":\"\"}},\"type\":\"scattergl\"}],\"scattermapbox\":[{\"marker\":{\"colorbar\":{\"outlinewidth\":0,\"ticks\":\"\"}},\"type\":\"scattermapbox\"}],\"scatterpolar\":[{\"marker\":{\"colorbar\":{\"outlinewidth\":0,\"ticks\":\"\"}},\"type\":\"scatterpolar\"}],\"scatterpolargl\":[{\"marker\":{\"colorbar\":{\"outlinewidth\":0,\"ticks\":\"\"}},\"type\":\"scatterpolargl\"}],\"scatterternary\":[{\"marker\":{\"colorbar\":{\"outlinewidth\":0,\"ticks\":\"\"}},\"type\":\"scatterternary\"}],\"surface\":[{\"colorbar\":{\"outlinewidth\":0,\"ticks\":\"\"},\"colorscale\":[[0.0,\"#0d0887\"],[0.1111111111111111,\"#46039f\"],[0.2222222222222222,\"#7201a8\"],[0.3333333333333333,\"#9c179e\"],[0.4444444444444444,\"#bd3786\"],[0.5555555555555556,\"#d8576b\"],[0.6666666666666666,\"#ed7953\"],[0.7777777777777778,\"#fb9f3a\"],[0.8888888888888888,\"#fdca26\"],[1.0,\"#f0f921\"]],\"type\":\"surface\"}],\"table\":[{\"cells\":{\"fill\":{\"color\":\"#EBF0F8\"},\"line\":{\"color\":\"white\"}},\"header\":{\"fill\":{\"color\":\"#C8D4E3\"},\"line\":{\"color\":\"white\"}},\"type\":\"table\"}]},\"layout\":{\"annotationdefaults\":{\"arrowcolor\":\"#2a3f5f\",\"arrowhead\":0,\"arrowwidth\":1},\"autotypenumbers\":\"strict\",\"coloraxis\":{\"colorbar\":{\"outlinewidth\":0,\"ticks\":\"\"}},\"colorscale\":{\"diverging\":[[0,\"#8e0152\"],[0.1,\"#c51b7d\"],[0.2,\"#de77ae\"],[0.3,\"#f1b6da\"],[0.4,\"#fde0ef\"],[0.5,\"#f7f7f7\"],[0.6,\"#e6f5d0\"],[0.7,\"#b8e186\"],[0.8,\"#7fbc41\"],[0.9,\"#4d9221\"],[1,\"#276419\"]],\"sequential\":[[0.0,\"#0d0887\"],[0.1111111111111111,\"#46039f\"],[0.2222222222222222,\"#7201a8\"],[0.3333333333333333,\"#9c179e\"],[0.4444444444444444,\"#bd3786\"],[0.5555555555555556,\"#d8576b\"],[0.6666666666666666,\"#ed7953\"],[0.7777777777777778,\"#fb9f3a\"],[0.8888888888888888,\"#fdca26\"],[1.0,\"#f0f921\"]],\"sequentialminus\":[[0.0,\"#0d0887\"],[0.1111111111111111,\"#46039f\"],[0.2222222222222222,\"#7201a8\"],[0.3333333333333333,\"#9c179e\"],[0.4444444444444444,\"#bd3786\"],[0.5555555555555556,\"#d8576b\"],[0.6666666666666666,\"#ed7953\"],[0.7777777777777778,\"#fb9f3a\"],[0.8888888888888888,\"#fdca26\"],[1.0,\"#f0f921\"]]},\"colorway\":[\"#636efa\",\"#EF553B\",\"#00cc96\",\"#ab63fa\",\"#FFA15A\",\"#19d3f3\",\"#FF6692\",\"#B6E880\",\"#FF97FF\",\"#FECB52\"],\"font\":{\"color\":\"#2a3f5f\"},\"geo\":{\"bgcolor\":\"white\",\"lakecolor\":\"white\",\"landcolor\":\"#E5ECF6\",\"showlakes\":true,\"showland\":true,\"subunitcolor\":\"white\"},\"hoverlabel\":{\"align\":\"left\"},\"hovermode\":\"closest\",\"mapbox\":{\"style\":\"light\"},\"paper_bgcolor\":\"white\",\"plot_bgcolor\":\"#E5ECF6\",\"polar\":{\"angularaxis\":{\"gridcolor\":\"white\",\"linecolor\":\"white\",\"ticks\":\"\"},\"bgcolor\":\"#E5ECF6\",\"radialaxis\":{\"gridcolor\":\"white\",\"linecolor\":\"white\",\"ticks\":\"\"}},\"scene\":{\"xaxis\":{\"backgroundcolor\":\"#E5ECF6\",\"gridcolor\":\"white\",\"gridwidth\":2,\"linecolor\":\"white\",\"showbackground\":true,\"ticks\":\"\",\"zerolinecolor\":\"white\"},\"yaxis\":{\"backgroundcolor\":\"#E5ECF6\",\"gridcolor\":\"white\",\"gridwidth\":2,\"linecolor\":\"white\",\"showbackground\":true,\"ticks\":\"\",\"zerolinecolor\":\"white\"},\"zaxis\":{\"backgroundcolor\":\"#E5ECF6\",\"gridcolor\":\"white\",\"gridwidth\":2,\"linecolor\":\"white\",\"showbackground\":true,\"ticks\":\"\",\"zerolinecolor\":\"white\"}},\"shapedefaults\":{\"line\":{\"color\":\"#2a3f5f\"}},\"ternary\":{\"aaxis\":{\"gridcolor\":\"white\",\"linecolor\":\"white\",\"ticks\":\"\"},\"baxis\":{\"gridcolor\":\"white\",\"linecolor\":\"white\",\"ticks\":\"\"},\"bgcolor\":\"#E5ECF6\",\"caxis\":{\"gridcolor\":\"white\",\"linecolor\":\"white\",\"ticks\":\"\"}},\"title\":{\"x\":0.05},\"xaxis\":{\"automargin\":true,\"gridcolor\":\"white\",\"linecolor\":\"white\",\"ticks\":\"\",\"title\":{\"standoff\":15},\"zerolinecolor\":\"white\",\"zerolinewidth\":2},\"yaxis\":{\"automargin\":true,\"gridcolor\":\"white\",\"linecolor\":\"white\",\"ticks\":\"\",\"title\":{\"standoff\":15},\"zerolinecolor\":\"white\",\"zerolinewidth\":2}}},\"scene\":{\"domain\":{\"x\":[0.0,1.0],\"y\":[0.0,1.0]},\"xaxis\":{\"title\":{\"text\":\"CustomerAge\"}},\"yaxis\":{\"title\":{\"text\":\"CreditScore\"}},\"zaxis\":{\"title\":{\"text\":\"CustomerGender\"}}},\"coloraxis\":{\"colorbar\":{\"title\":{\"text\":\"lable\"}},\"colorscale\":[[0.0,\"#0d0887\"],[0.1111111111111111,\"#46039f\"],[0.2222222222222222,\"#7201a8\"],[0.3333333333333333,\"#9c179e\"],[0.4444444444444444,\"#bd3786\"],[0.5555555555555556,\"#d8576b\"],[0.6666666666666666,\"#ed7953\"],[0.7777777777777778,\"#fb9f3a\"],[0.8888888888888888,\"#fdca26\"],[1.0,\"#f0f921\"]]},\"legend\":{\"tracegroupgap\":0},\"margin\":{\"t\":60}},                        {\"responsive\": true}                    ).then(function(){\n",
       "                            \n",
       "var gd = document.getElementById('7185fa0e-709f-4423-bc84-8bd3774ab72d');\n",
       "var x = new MutationObserver(function (mutations, observer) {{\n",
       "        var display = window.getComputedStyle(gd).display;\n",
       "        if (!display || display === 'none') {{\n",
       "            console.log([gd, 'removed!']);\n",
       "            Plotly.purge(gd);\n",
       "            observer.disconnect();\n",
       "        }}\n",
       "}});\n",
       "\n",
       "// Listen for the removal of the full notebook cells\n",
       "var notebookContainer = gd.closest('#notebook-container');\n",
       "if (notebookContainer) {{\n",
       "    x.observe(notebookContainer, {childList: true});\n",
       "}}\n",
       "\n",
       "// Listen for the clearing of the current output cell\n",
       "var outputEl = gd.closest('.output');\n",
       "if (outputEl) {{\n",
       "    x.observe(outputEl, {childList: true});\n",
       "}}\n",
       "\n",
       "                        })                };                });            </script>        </div>"
      ]
     },
     "metadata": {},
     "output_type": "display_data"
    }
   ],
   "source": [
    "\n",
    "df=pd.read_csv('Data/Shopping_CustomerData.csv')\n",
    "\n",
    "DF=df.iloc[:,[1,2,4,5,6]]\n",
    "\n",
    "transformer=ColumnTransformer([\n",
    "                                ('OHE', OneHotEncoder(sparse=False,handle_unknown='ignore'),['CustomerGender']),\n",
    "                                ('MnMx', MinMaxScaler(), ['AnnualIncome','CreditScore', 'SpendingScore','CustomerAge'])],\n",
    "                                remainder='passthrough'\n",
    "                                                )\n",
    "\n",
    "X=transformer.fit_transform(DF)\n",
    "\n",
    "GM=GaussianMixture(n_components=4,init_params='kmeans',max_iter=300).fit(X)\n",
    "\n",
    "lables=GM.predict(X)\n",
    "\n",
    "GM_DF=df.copy()\n",
    "\n",
    "GM_DF['lable']=lables\n",
    "\n",
    "print(GM.aic(X))\n",
    "\n",
    "px.scatter_3d(GM_DF, 'CustomerAge', 'CreditScore', 'CustomerGender', color='lable')\n",
    "\n",
    "\n"
   ]
  },
  {
   "cell_type": "code",
   "execution_count": 42,
   "metadata": {},
   "outputs": [
    {
     "data": {
      "application/vnd.plotly.v1+json": {
       "config": {
        "plotlyServerURL": "https://plot.ly"
       },
       "data": [
        {
         "hovertemplate": "CustomerAge=%{x}<br>CreditScore=%{y}<br>SpendingScore=%{z}<br>lable=%{marker.color}<extra></extra>",
         "legendgroup": "",
         "marker": {
          "color": [
           0,
           0,
           3,
           1,
           1,
           3,
           1,
           1,
           0,
           3,
           0,
           3,
           3,
           3,
           2,
           2,
           1,
           2,
           2,
           1,
           0,
           0,
           3,
           0,
           1,
           0,
           1,
           0,
           3,
           3,
           0,
           1,
           2,
           2,
           1,
           1,
           3,
           1,
           3,
           3,
           1,
           0,
           0,
           3,
           3,
           1,
           1,
           1,
           3,
           3,
           1,
           0,
           1,
           2,
           3,
           2,
           3,
           2,
           1,
           0,
           2,
           2,
           1,
           3,
           0,
           0,
           3,
           1,
           0,
           3,
           2,
           1,
           3,
           1,
           0,
           0,
           1,
           2,
           1,
           1,
           2,
           0,
           2,
           1,
           3,
           0,
           1,
           1,
           1,
           1,
           3,
           0,
           0,
           3,
           1,
           0,
           1,
           1,
           0,
           0,
           3,
           3,
           0,
           0,
           2,
           3,
           1,
           0,
           0,
           0,
           2,
           3,
           3,
           0,
           3,
           1,
           3,
           1,
           3,
           1,
           2,
           1,
           3,
           2,
           3,
           1,
           0,
           2,
           2,
           0,
           0,
           2,
           1,
           1,
           2,
           1,
           3,
           0,
           2,
           3,
           3,
           2,
           1,
           1,
           0,
           0,
           0,
           3,
           1,
           0,
           2,
           0,
           1,
           1,
           3,
           3,
           2,
           1,
           2,
           3,
           3,
           1,
           2,
           3,
           0,
           1,
           0,
           1,
           1,
           2,
           0,
           0,
           2,
           0,
           1,
           3,
           2,
           0,
           2,
           0,
           3,
           3,
           2,
           3,
           1,
           2,
           3,
           2,
           1,
           3,
           3,
           1,
           0,
           3,
           1,
           3,
           3,
           2,
           2,
           2
          ],
          "coloraxis": "coloraxis",
          "symbol": "circle"
         },
         "mode": "markers",
         "name": "",
         "scene": "scene",
         "showlegend": false,
         "type": "scatter3d",
         "x": [
          49,
          59,
          54,
          42,
          30,
          38,
          45,
          23,
          59,
          48,
          55,
          73,
          54,
          34,
          54,
          53,
          23,
          30,
          37,
          52,
          39,
          38,
          71,
          31,
          42,
          65,
          65,
          33,
          29,
          24,
          59,
          40,
          52,
          47,
          66,
          62,
          73,
          23,
          45,
          43,
          21,
          45,
          54,
          22,
          26,
          72,
          29,
          65,
          34,
          26,
          66,
          50,
          33,
          47,
          59,
          52,
          55,
          74,
          32,
          31,
          25,
          75,
          39,
          46,
          29,
          34,
          54,
          36,
          52,
          28,
          18,
          45,
          48,
          50,
          43,
          27,
          68,
          67,
          59,
          74,
          62,
          45,
          33,
          20,
          61,
          32,
          49,
          66,
          36,
          55,
          35,
          22,
          59,
          21,
          74,
          51,
          22,
          35,
          47,
          66,
          20,
          58,
          42,
          27,
          63,
          28,
          48,
          63,
          45,
          22,
          70,
          65,
          41,
          56,
          51,
          33,
          69,
          21,
          40,
          19,
          62,
          38,
          49,
          30,
          62,
          58,
          73,
          66,
          71,
          54,
          53,
          34,
          41,
          47,
          26,
          30,
          55,
          43,
          50,
          61,
          37,
          29,
          26,
          22,
          56,
          70,
          38,
          37,
          62,
          19,
          46,
          50,
          48,
          53,
          70,
          60,
          37,
          57,
          66,
          27,
          21,
          22,
          18,
          18,
          38,
          23,
          21,
          44,
          72,
          63,
          50,
          56,
          59,
          44,
          20,
          33,
          49,
          22,
          64,
          31,
          53,
          23,
          26,
          63,
          43,
          62,
          74,
          66,
          45,
          62,
          61,
          47,
          74,
          48,
          48,
          54,
          20,
          44,
          28,
          41
         ],
         "y": [
          653,
          630,
          555,
          699,
          793,
          635,
          881,
          852,
          708,
          669,
          618,
          614,
          711,
          629,
          764,
          880,
          729,
          803,
          817,
          774,
          672,
          691,
          669,
          555,
          778,
          623,
          782,
          588,
          684,
          698,
          562,
          774,
          777,
          769,
          755,
          789,
          575,
          850,
          715,
          639,
          817,
          731,
          704,
          712,
          713,
          874,
          751,
          761,
          633,
          632,
          763,
          701,
          784,
          854,
          692,
          751,
          648,
          865,
          863,
          622,
          817,
          868,
          849,
          565,
          665,
          632,
          670,
          736,
          687,
          561,
          892,
          724,
          583,
          760,
          555,
          712,
          880,
          873,
          715,
          897,
          801,
          600,
          768,
          807,
          626,
          654,
          742,
          738,
          805,
          808,
          625,
          695,
          656,
          678,
          859,
          616,
          861,
          814,
          616,
          653,
          575,
          576,
          575,
          666,
          876,
          568,
          849,
          564,
          654,
          565,
          782,
          667,
          593,
          606,
          553,
          827,
          559,
          806,
          620,
          857,
          804,
          858,
          695,
          800,
          624,
          767,
          630,
          808,
          790,
          726,
          624,
          746,
          895,
          781,
          868,
          894,
          707,
          552,
          842,
          567,
          636,
          756,
          894,
          887,
          647,
          657,
          607,
          637,
          884,
          551,
          892,
          616,
          886,
          868,
          669,
          605,
          854,
          742,
          803,
          707,
          633,
          827,
          742,
          586,
          581,
          786,
          718,
          755,
          836,
          725,
          573,
          605,
          890,
          657,
          779,
          666,
          779,
          844,
          733,
          571,
          601,
          701,
          838,
          573,
          896,
          824,
          615,
          770,
          831,
          676,
          559,
          784,
          608,
          568,
          833,
          601,
          554,
          844,
          837,
          789
         ],
         "z": [
          78,
          63,
          69,
          30,
          6,
          97,
          2,
          77,
          22,
          97,
          13,
          62,
          64,
          29,
          53,
          36,
          18,
          49,
          75,
          84,
          87,
          37,
          87,
          64,
          82,
          82,
          59,
          57,
          27,
          35,
          15,
          84,
          97,
          4,
          48,
          30,
          93,
          77,
          97,
          78,
          4,
          78,
          39,
          11,
          97,
          34,
          100,
          46,
          98,
          48,
          62,
          42,
          37,
          36,
          71,
          99,
          41,
          88,
          25,
          8,
          52,
          20,
          59,
          37,
          47,
          14,
          96,
          40,
          48,
          70,
          37,
          12,
          100,
          18,
          59,
          68,
          87,
          19,
          9,
          39,
          32,
          56,
          78,
          57,
          11,
          56,
          73,
          40,
          29,
          44,
          50,
          52,
          2,
          62,
          54,
          45,
          23,
          80,
          67,
          2,
          19,
          28,
          24,
          38,
          59,
          54,
          51,
          79,
          37,
          72,
          12,
          78,
          40,
          15,
          100,
          25,
          10,
          10,
          90,
          8,
          70,
          76,
          13,
          87,
          6,
          46,
          35,
          89,
          100,
          71,
          50,
          22,
          76,
          93,
          57,
          85,
          96,
          33,
          20,
          7,
          18,
          22,
          19,
          14,
          99,
          11,
          42,
          30,
          23,
          77,
          73,
          39,
          94,
          58,
          32,
          55,
          22,
          78,
          36,
          93,
          55,
          85,
          32,
          87,
          9,
          54,
          86,
          67,
          39,
          77,
          35,
          35,
          45,
          75,
          91,
          32,
          89,
          21,
          19,
          61,
          61,
          92,
          94,
          41,
          4,
          47,
          75,
          11,
          44,
          7,
          96,
          34,
          16,
          45,
          91,
          52,
          58,
          36,
          24,
          31
         ]
        }
       ],
       "layout": {
        "coloraxis": {
         "colorbar": {
          "title": {
           "text": "lable"
          }
         },
         "colorscale": [
          [
           0,
           "#0d0887"
          ],
          [
           0.1111111111111111,
           "#46039f"
          ],
          [
           0.2222222222222222,
           "#7201a8"
          ],
          [
           0.3333333333333333,
           "#9c179e"
          ],
          [
           0.4444444444444444,
           "#bd3786"
          ],
          [
           0.5555555555555556,
           "#d8576b"
          ],
          [
           0.6666666666666666,
           "#ed7953"
          ],
          [
           0.7777777777777778,
           "#fb9f3a"
          ],
          [
           0.8888888888888888,
           "#fdca26"
          ],
          [
           1,
           "#f0f921"
          ]
         ]
        },
        "legend": {
         "tracegroupgap": 0
        },
        "margin": {
         "t": 60
        },
        "scene": {
         "domain": {
          "x": [
           0,
           1
          ],
          "y": [
           0,
           1
          ]
         },
         "xaxis": {
          "title": {
           "text": "CustomerAge"
          }
         },
         "yaxis": {
          "title": {
           "text": "CreditScore"
          }
         },
         "zaxis": {
          "title": {
           "text": "SpendingScore"
          }
         }
        },
        "template": {
         "data": {
          "bar": [
           {
            "error_x": {
             "color": "#2a3f5f"
            },
            "error_y": {
             "color": "#2a3f5f"
            },
            "marker": {
             "line": {
              "color": "#E5ECF6",
              "width": 0.5
             },
             "pattern": {
              "fillmode": "overlay",
              "size": 10,
              "solidity": 0.2
             }
            },
            "type": "bar"
           }
          ],
          "barpolar": [
           {
            "marker": {
             "line": {
              "color": "#E5ECF6",
              "width": 0.5
             },
             "pattern": {
              "fillmode": "overlay",
              "size": 10,
              "solidity": 0.2
             }
            },
            "type": "barpolar"
           }
          ],
          "carpet": [
           {
            "aaxis": {
             "endlinecolor": "#2a3f5f",
             "gridcolor": "white",
             "linecolor": "white",
             "minorgridcolor": "white",
             "startlinecolor": "#2a3f5f"
            },
            "baxis": {
             "endlinecolor": "#2a3f5f",
             "gridcolor": "white",
             "linecolor": "white",
             "minorgridcolor": "white",
             "startlinecolor": "#2a3f5f"
            },
            "type": "carpet"
           }
          ],
          "choropleth": [
           {
            "colorbar": {
             "outlinewidth": 0,
             "ticks": ""
            },
            "type": "choropleth"
           }
          ],
          "contour": [
           {
            "colorbar": {
             "outlinewidth": 0,
             "ticks": ""
            },
            "colorscale": [
             [
              0,
              "#0d0887"
             ],
             [
              0.1111111111111111,
              "#46039f"
             ],
             [
              0.2222222222222222,
              "#7201a8"
             ],
             [
              0.3333333333333333,
              "#9c179e"
             ],
             [
              0.4444444444444444,
              "#bd3786"
             ],
             [
              0.5555555555555556,
              "#d8576b"
             ],
             [
              0.6666666666666666,
              "#ed7953"
             ],
             [
              0.7777777777777778,
              "#fb9f3a"
             ],
             [
              0.8888888888888888,
              "#fdca26"
             ],
             [
              1,
              "#f0f921"
             ]
            ],
            "type": "contour"
           }
          ],
          "contourcarpet": [
           {
            "colorbar": {
             "outlinewidth": 0,
             "ticks": ""
            },
            "type": "contourcarpet"
           }
          ],
          "heatmap": [
           {
            "colorbar": {
             "outlinewidth": 0,
             "ticks": ""
            },
            "colorscale": [
             [
              0,
              "#0d0887"
             ],
             [
              0.1111111111111111,
              "#46039f"
             ],
             [
              0.2222222222222222,
              "#7201a8"
             ],
             [
              0.3333333333333333,
              "#9c179e"
             ],
             [
              0.4444444444444444,
              "#bd3786"
             ],
             [
              0.5555555555555556,
              "#d8576b"
             ],
             [
              0.6666666666666666,
              "#ed7953"
             ],
             [
              0.7777777777777778,
              "#fb9f3a"
             ],
             [
              0.8888888888888888,
              "#fdca26"
             ],
             [
              1,
              "#f0f921"
             ]
            ],
            "type": "heatmap"
           }
          ],
          "heatmapgl": [
           {
            "colorbar": {
             "outlinewidth": 0,
             "ticks": ""
            },
            "colorscale": [
             [
              0,
              "#0d0887"
             ],
             [
              0.1111111111111111,
              "#46039f"
             ],
             [
              0.2222222222222222,
              "#7201a8"
             ],
             [
              0.3333333333333333,
              "#9c179e"
             ],
             [
              0.4444444444444444,
              "#bd3786"
             ],
             [
              0.5555555555555556,
              "#d8576b"
             ],
             [
              0.6666666666666666,
              "#ed7953"
             ],
             [
              0.7777777777777778,
              "#fb9f3a"
             ],
             [
              0.8888888888888888,
              "#fdca26"
             ],
             [
              1,
              "#f0f921"
             ]
            ],
            "type": "heatmapgl"
           }
          ],
          "histogram": [
           {
            "marker": {
             "pattern": {
              "fillmode": "overlay",
              "size": 10,
              "solidity": 0.2
             }
            },
            "type": "histogram"
           }
          ],
          "histogram2d": [
           {
            "colorbar": {
             "outlinewidth": 0,
             "ticks": ""
            },
            "colorscale": [
             [
              0,
              "#0d0887"
             ],
             [
              0.1111111111111111,
              "#46039f"
             ],
             [
              0.2222222222222222,
              "#7201a8"
             ],
             [
              0.3333333333333333,
              "#9c179e"
             ],
             [
              0.4444444444444444,
              "#bd3786"
             ],
             [
              0.5555555555555556,
              "#d8576b"
             ],
             [
              0.6666666666666666,
              "#ed7953"
             ],
             [
              0.7777777777777778,
              "#fb9f3a"
             ],
             [
              0.8888888888888888,
              "#fdca26"
             ],
             [
              1,
              "#f0f921"
             ]
            ],
            "type": "histogram2d"
           }
          ],
          "histogram2dcontour": [
           {
            "colorbar": {
             "outlinewidth": 0,
             "ticks": ""
            },
            "colorscale": [
             [
              0,
              "#0d0887"
             ],
             [
              0.1111111111111111,
              "#46039f"
             ],
             [
              0.2222222222222222,
              "#7201a8"
             ],
             [
              0.3333333333333333,
              "#9c179e"
             ],
             [
              0.4444444444444444,
              "#bd3786"
             ],
             [
              0.5555555555555556,
              "#d8576b"
             ],
             [
              0.6666666666666666,
              "#ed7953"
             ],
             [
              0.7777777777777778,
              "#fb9f3a"
             ],
             [
              0.8888888888888888,
              "#fdca26"
             ],
             [
              1,
              "#f0f921"
             ]
            ],
            "type": "histogram2dcontour"
           }
          ],
          "mesh3d": [
           {
            "colorbar": {
             "outlinewidth": 0,
             "ticks": ""
            },
            "type": "mesh3d"
           }
          ],
          "parcoords": [
           {
            "line": {
             "colorbar": {
              "outlinewidth": 0,
              "ticks": ""
             }
            },
            "type": "parcoords"
           }
          ],
          "pie": [
           {
            "automargin": true,
            "type": "pie"
           }
          ],
          "scatter": [
           {
            "marker": {
             "colorbar": {
              "outlinewidth": 0,
              "ticks": ""
             }
            },
            "type": "scatter"
           }
          ],
          "scatter3d": [
           {
            "line": {
             "colorbar": {
              "outlinewidth": 0,
              "ticks": ""
             }
            },
            "marker": {
             "colorbar": {
              "outlinewidth": 0,
              "ticks": ""
             }
            },
            "type": "scatter3d"
           }
          ],
          "scattercarpet": [
           {
            "marker": {
             "colorbar": {
              "outlinewidth": 0,
              "ticks": ""
             }
            },
            "type": "scattercarpet"
           }
          ],
          "scattergeo": [
           {
            "marker": {
             "colorbar": {
              "outlinewidth": 0,
              "ticks": ""
             }
            },
            "type": "scattergeo"
           }
          ],
          "scattergl": [
           {
            "marker": {
             "colorbar": {
              "outlinewidth": 0,
              "ticks": ""
             }
            },
            "type": "scattergl"
           }
          ],
          "scattermapbox": [
           {
            "marker": {
             "colorbar": {
              "outlinewidth": 0,
              "ticks": ""
             }
            },
            "type": "scattermapbox"
           }
          ],
          "scatterpolar": [
           {
            "marker": {
             "colorbar": {
              "outlinewidth": 0,
              "ticks": ""
             }
            },
            "type": "scatterpolar"
           }
          ],
          "scatterpolargl": [
           {
            "marker": {
             "colorbar": {
              "outlinewidth": 0,
              "ticks": ""
             }
            },
            "type": "scatterpolargl"
           }
          ],
          "scatterternary": [
           {
            "marker": {
             "colorbar": {
              "outlinewidth": 0,
              "ticks": ""
             }
            },
            "type": "scatterternary"
           }
          ],
          "surface": [
           {
            "colorbar": {
             "outlinewidth": 0,
             "ticks": ""
            },
            "colorscale": [
             [
              0,
              "#0d0887"
             ],
             [
              0.1111111111111111,
              "#46039f"
             ],
             [
              0.2222222222222222,
              "#7201a8"
             ],
             [
              0.3333333333333333,
              "#9c179e"
             ],
             [
              0.4444444444444444,
              "#bd3786"
             ],
             [
              0.5555555555555556,
              "#d8576b"
             ],
             [
              0.6666666666666666,
              "#ed7953"
             ],
             [
              0.7777777777777778,
              "#fb9f3a"
             ],
             [
              0.8888888888888888,
              "#fdca26"
             ],
             [
              1,
              "#f0f921"
             ]
            ],
            "type": "surface"
           }
          ],
          "table": [
           {
            "cells": {
             "fill": {
              "color": "#EBF0F8"
             },
             "line": {
              "color": "white"
             }
            },
            "header": {
             "fill": {
              "color": "#C8D4E3"
             },
             "line": {
              "color": "white"
             }
            },
            "type": "table"
           }
          ]
         },
         "layout": {
          "annotationdefaults": {
           "arrowcolor": "#2a3f5f",
           "arrowhead": 0,
           "arrowwidth": 1
          },
          "autotypenumbers": "strict",
          "coloraxis": {
           "colorbar": {
            "outlinewidth": 0,
            "ticks": ""
           }
          },
          "colorscale": {
           "diverging": [
            [
             0,
             "#8e0152"
            ],
            [
             0.1,
             "#c51b7d"
            ],
            [
             0.2,
             "#de77ae"
            ],
            [
             0.3,
             "#f1b6da"
            ],
            [
             0.4,
             "#fde0ef"
            ],
            [
             0.5,
             "#f7f7f7"
            ],
            [
             0.6,
             "#e6f5d0"
            ],
            [
             0.7,
             "#b8e186"
            ],
            [
             0.8,
             "#7fbc41"
            ],
            [
             0.9,
             "#4d9221"
            ],
            [
             1,
             "#276419"
            ]
           ],
           "sequential": [
            [
             0,
             "#0d0887"
            ],
            [
             0.1111111111111111,
             "#46039f"
            ],
            [
             0.2222222222222222,
             "#7201a8"
            ],
            [
             0.3333333333333333,
             "#9c179e"
            ],
            [
             0.4444444444444444,
             "#bd3786"
            ],
            [
             0.5555555555555556,
             "#d8576b"
            ],
            [
             0.6666666666666666,
             "#ed7953"
            ],
            [
             0.7777777777777778,
             "#fb9f3a"
            ],
            [
             0.8888888888888888,
             "#fdca26"
            ],
            [
             1,
             "#f0f921"
            ]
           ],
           "sequentialminus": [
            [
             0,
             "#0d0887"
            ],
            [
             0.1111111111111111,
             "#46039f"
            ],
            [
             0.2222222222222222,
             "#7201a8"
            ],
            [
             0.3333333333333333,
             "#9c179e"
            ],
            [
             0.4444444444444444,
             "#bd3786"
            ],
            [
             0.5555555555555556,
             "#d8576b"
            ],
            [
             0.6666666666666666,
             "#ed7953"
            ],
            [
             0.7777777777777778,
             "#fb9f3a"
            ],
            [
             0.8888888888888888,
             "#fdca26"
            ],
            [
             1,
             "#f0f921"
            ]
           ]
          },
          "colorway": [
           "#636efa",
           "#EF553B",
           "#00cc96",
           "#ab63fa",
           "#FFA15A",
           "#19d3f3",
           "#FF6692",
           "#B6E880",
           "#FF97FF",
           "#FECB52"
          ],
          "font": {
           "color": "#2a3f5f"
          },
          "geo": {
           "bgcolor": "white",
           "lakecolor": "white",
           "landcolor": "#E5ECF6",
           "showlakes": true,
           "showland": true,
           "subunitcolor": "white"
          },
          "hoverlabel": {
           "align": "left"
          },
          "hovermode": "closest",
          "mapbox": {
           "style": "light"
          },
          "paper_bgcolor": "white",
          "plot_bgcolor": "#E5ECF6",
          "polar": {
           "angularaxis": {
            "gridcolor": "white",
            "linecolor": "white",
            "ticks": ""
           },
           "bgcolor": "#E5ECF6",
           "radialaxis": {
            "gridcolor": "white",
            "linecolor": "white",
            "ticks": ""
           }
          },
          "scene": {
           "xaxis": {
            "backgroundcolor": "#E5ECF6",
            "gridcolor": "white",
            "gridwidth": 2,
            "linecolor": "white",
            "showbackground": true,
            "ticks": "",
            "zerolinecolor": "white"
           },
           "yaxis": {
            "backgroundcolor": "#E5ECF6",
            "gridcolor": "white",
            "gridwidth": 2,
            "linecolor": "white",
            "showbackground": true,
            "ticks": "",
            "zerolinecolor": "white"
           },
           "zaxis": {
            "backgroundcolor": "#E5ECF6",
            "gridcolor": "white",
            "gridwidth": 2,
            "linecolor": "white",
            "showbackground": true,
            "ticks": "",
            "zerolinecolor": "white"
           }
          },
          "shapedefaults": {
           "line": {
            "color": "#2a3f5f"
           }
          },
          "ternary": {
           "aaxis": {
            "gridcolor": "white",
            "linecolor": "white",
            "ticks": ""
           },
           "baxis": {
            "gridcolor": "white",
            "linecolor": "white",
            "ticks": ""
           },
           "bgcolor": "#E5ECF6",
           "caxis": {
            "gridcolor": "white",
            "linecolor": "white",
            "ticks": ""
           }
          },
          "title": {
           "x": 0.05
          },
          "xaxis": {
           "automargin": true,
           "gridcolor": "white",
           "linecolor": "white",
           "ticks": "",
           "title": {
            "standoff": 15
           },
           "zerolinecolor": "white",
           "zerolinewidth": 2
          },
          "yaxis": {
           "automargin": true,
           "gridcolor": "white",
           "linecolor": "white",
           "ticks": "",
           "title": {
            "standoff": 15
           },
           "zerolinecolor": "white",
           "zerolinewidth": 2
          }
         }
        }
       }
      },
      "text/html": [
       "<div>                            <div id=\"2c76211e-8216-4a6c-8410-352d2f3ad3d3\" class=\"plotly-graph-div\" style=\"height:525px; width:100%;\"></div>            <script type=\"text/javascript\">                require([\"plotly\"], function(Plotly) {                    window.PLOTLYENV=window.PLOTLYENV || {};                                    if (document.getElementById(\"2c76211e-8216-4a6c-8410-352d2f3ad3d3\")) {                    Plotly.newPlot(                        \"2c76211e-8216-4a6c-8410-352d2f3ad3d3\",                        [{\"hovertemplate\":\"CustomerAge=%{x}<br>CreditScore=%{y}<br>SpendingScore=%{z}<br>lable=%{marker.color}<extra></extra>\",\"legendgroup\":\"\",\"marker\":{\"color\":[0,0,3,1,1,3,1,1,0,3,0,3,3,3,2,2,1,2,2,1,0,0,3,0,1,0,1,0,3,3,0,1,2,2,1,1,3,1,3,3,1,0,0,3,3,1,1,1,3,3,1,0,1,2,3,2,3,2,1,0,2,2,1,3,0,0,3,1,0,3,2,1,3,1,0,0,1,2,1,1,2,0,2,1,3,0,1,1,1,1,3,0,0,3,1,0,1,1,0,0,3,3,0,0,2,3,1,0,0,0,2,3,3,0,3,1,3,1,3,1,2,1,3,2,3,1,0,2,2,0,0,2,1,1,2,1,3,0,2,3,3,2,1,1,0,0,0,3,1,0,2,0,1,1,3,3,2,1,2,3,3,1,2,3,0,1,0,1,1,2,0,0,2,0,1,3,2,0,2,0,3,3,2,3,1,2,3,2,1,3,3,1,0,3,1,3,3,2,2,2],\"coloraxis\":\"coloraxis\",\"symbol\":\"circle\"},\"mode\":\"markers\",\"name\":\"\",\"scene\":\"scene\",\"showlegend\":false,\"x\":[49,59,54,42,30,38,45,23,59,48,55,73,54,34,54,53,23,30,37,52,39,38,71,31,42,65,65,33,29,24,59,40,52,47,66,62,73,23,45,43,21,45,54,22,26,72,29,65,34,26,66,50,33,47,59,52,55,74,32,31,25,75,39,46,29,34,54,36,52,28,18,45,48,50,43,27,68,67,59,74,62,45,33,20,61,32,49,66,36,55,35,22,59,21,74,51,22,35,47,66,20,58,42,27,63,28,48,63,45,22,70,65,41,56,51,33,69,21,40,19,62,38,49,30,62,58,73,66,71,54,53,34,41,47,26,30,55,43,50,61,37,29,26,22,56,70,38,37,62,19,46,50,48,53,70,60,37,57,66,27,21,22,18,18,38,23,21,44,72,63,50,56,59,44,20,33,49,22,64,31,53,23,26,63,43,62,74,66,45,62,61,47,74,48,48,54,20,44,28,41],\"y\":[653,630,555,699,793,635,881,852,708,669,618,614,711,629,764,880,729,803,817,774,672,691,669,555,778,623,782,588,684,698,562,774,777,769,755,789,575,850,715,639,817,731,704,712,713,874,751,761,633,632,763,701,784,854,692,751,648,865,863,622,817,868,849,565,665,632,670,736,687,561,892,724,583,760,555,712,880,873,715,897,801,600,768,807,626,654,742,738,805,808,625,695,656,678,859,616,861,814,616,653,575,576,575,666,876,568,849,564,654,565,782,667,593,606,553,827,559,806,620,857,804,858,695,800,624,767,630,808,790,726,624,746,895,781,868,894,707,552,842,567,636,756,894,887,647,657,607,637,884,551,892,616,886,868,669,605,854,742,803,707,633,827,742,586,581,786,718,755,836,725,573,605,890,657,779,666,779,844,733,571,601,701,838,573,896,824,615,770,831,676,559,784,608,568,833,601,554,844,837,789],\"z\":[78,63,69,30,6,97,2,77,22,97,13,62,64,29,53,36,18,49,75,84,87,37,87,64,82,82,59,57,27,35,15,84,97,4,48,30,93,77,97,78,4,78,39,11,97,34,100,46,98,48,62,42,37,36,71,99,41,88,25,8,52,20,59,37,47,14,96,40,48,70,37,12,100,18,59,68,87,19,9,39,32,56,78,57,11,56,73,40,29,44,50,52,2,62,54,45,23,80,67,2,19,28,24,38,59,54,51,79,37,72,12,78,40,15,100,25,10,10,90,8,70,76,13,87,6,46,35,89,100,71,50,22,76,93,57,85,96,33,20,7,18,22,19,14,99,11,42,30,23,77,73,39,94,58,32,55,22,78,36,93,55,85,32,87,9,54,86,67,39,77,35,35,45,75,91,32,89,21,19,61,61,92,94,41,4,47,75,11,44,7,96,34,16,45,91,52,58,36,24,31],\"type\":\"scatter3d\"}],                        {\"template\":{\"data\":{\"bar\":[{\"error_x\":{\"color\":\"#2a3f5f\"},\"error_y\":{\"color\":\"#2a3f5f\"},\"marker\":{\"line\":{\"color\":\"#E5ECF6\",\"width\":0.5},\"pattern\":{\"fillmode\":\"overlay\",\"size\":10,\"solidity\":0.2}},\"type\":\"bar\"}],\"barpolar\":[{\"marker\":{\"line\":{\"color\":\"#E5ECF6\",\"width\":0.5},\"pattern\":{\"fillmode\":\"overlay\",\"size\":10,\"solidity\":0.2}},\"type\":\"barpolar\"}],\"carpet\":[{\"aaxis\":{\"endlinecolor\":\"#2a3f5f\",\"gridcolor\":\"white\",\"linecolor\":\"white\",\"minorgridcolor\":\"white\",\"startlinecolor\":\"#2a3f5f\"},\"baxis\":{\"endlinecolor\":\"#2a3f5f\",\"gridcolor\":\"white\",\"linecolor\":\"white\",\"minorgridcolor\":\"white\",\"startlinecolor\":\"#2a3f5f\"},\"type\":\"carpet\"}],\"choropleth\":[{\"colorbar\":{\"outlinewidth\":0,\"ticks\":\"\"},\"type\":\"choropleth\"}],\"contour\":[{\"colorbar\":{\"outlinewidth\":0,\"ticks\":\"\"},\"colorscale\":[[0.0,\"#0d0887\"],[0.1111111111111111,\"#46039f\"],[0.2222222222222222,\"#7201a8\"],[0.3333333333333333,\"#9c179e\"],[0.4444444444444444,\"#bd3786\"],[0.5555555555555556,\"#d8576b\"],[0.6666666666666666,\"#ed7953\"],[0.7777777777777778,\"#fb9f3a\"],[0.8888888888888888,\"#fdca26\"],[1.0,\"#f0f921\"]],\"type\":\"contour\"}],\"contourcarpet\":[{\"colorbar\":{\"outlinewidth\":0,\"ticks\":\"\"},\"type\":\"contourcarpet\"}],\"heatmap\":[{\"colorbar\":{\"outlinewidth\":0,\"ticks\":\"\"},\"colorscale\":[[0.0,\"#0d0887\"],[0.1111111111111111,\"#46039f\"],[0.2222222222222222,\"#7201a8\"],[0.3333333333333333,\"#9c179e\"],[0.4444444444444444,\"#bd3786\"],[0.5555555555555556,\"#d8576b\"],[0.6666666666666666,\"#ed7953\"],[0.7777777777777778,\"#fb9f3a\"],[0.8888888888888888,\"#fdca26\"],[1.0,\"#f0f921\"]],\"type\":\"heatmap\"}],\"heatmapgl\":[{\"colorbar\":{\"outlinewidth\":0,\"ticks\":\"\"},\"colorscale\":[[0.0,\"#0d0887\"],[0.1111111111111111,\"#46039f\"],[0.2222222222222222,\"#7201a8\"],[0.3333333333333333,\"#9c179e\"],[0.4444444444444444,\"#bd3786\"],[0.5555555555555556,\"#d8576b\"],[0.6666666666666666,\"#ed7953\"],[0.7777777777777778,\"#fb9f3a\"],[0.8888888888888888,\"#fdca26\"],[1.0,\"#f0f921\"]],\"type\":\"heatmapgl\"}],\"histogram\":[{\"marker\":{\"pattern\":{\"fillmode\":\"overlay\",\"size\":10,\"solidity\":0.2}},\"type\":\"histogram\"}],\"histogram2d\":[{\"colorbar\":{\"outlinewidth\":0,\"ticks\":\"\"},\"colorscale\":[[0.0,\"#0d0887\"],[0.1111111111111111,\"#46039f\"],[0.2222222222222222,\"#7201a8\"],[0.3333333333333333,\"#9c179e\"],[0.4444444444444444,\"#bd3786\"],[0.5555555555555556,\"#d8576b\"],[0.6666666666666666,\"#ed7953\"],[0.7777777777777778,\"#fb9f3a\"],[0.8888888888888888,\"#fdca26\"],[1.0,\"#f0f921\"]],\"type\":\"histogram2d\"}],\"histogram2dcontour\":[{\"colorbar\":{\"outlinewidth\":0,\"ticks\":\"\"},\"colorscale\":[[0.0,\"#0d0887\"],[0.1111111111111111,\"#46039f\"],[0.2222222222222222,\"#7201a8\"],[0.3333333333333333,\"#9c179e\"],[0.4444444444444444,\"#bd3786\"],[0.5555555555555556,\"#d8576b\"],[0.6666666666666666,\"#ed7953\"],[0.7777777777777778,\"#fb9f3a\"],[0.8888888888888888,\"#fdca26\"],[1.0,\"#f0f921\"]],\"type\":\"histogram2dcontour\"}],\"mesh3d\":[{\"colorbar\":{\"outlinewidth\":0,\"ticks\":\"\"},\"type\":\"mesh3d\"}],\"parcoords\":[{\"line\":{\"colorbar\":{\"outlinewidth\":0,\"ticks\":\"\"}},\"type\":\"parcoords\"}],\"pie\":[{\"automargin\":true,\"type\":\"pie\"}],\"scatter\":[{\"marker\":{\"colorbar\":{\"outlinewidth\":0,\"ticks\":\"\"}},\"type\":\"scatter\"}],\"scatter3d\":[{\"line\":{\"colorbar\":{\"outlinewidth\":0,\"ticks\":\"\"}},\"marker\":{\"colorbar\":{\"outlinewidth\":0,\"ticks\":\"\"}},\"type\":\"scatter3d\"}],\"scattercarpet\":[{\"marker\":{\"colorbar\":{\"outlinewidth\":0,\"ticks\":\"\"}},\"type\":\"scattercarpet\"}],\"scattergeo\":[{\"marker\":{\"colorbar\":{\"outlinewidth\":0,\"ticks\":\"\"}},\"type\":\"scattergeo\"}],\"scattergl\":[{\"marker\":{\"colorbar\":{\"outlinewidth\":0,\"ticks\":\"\"}},\"type\":\"scattergl\"}],\"scattermapbox\":[{\"marker\":{\"colorbar\":{\"outlinewidth\":0,\"ticks\":\"\"}},\"type\":\"scattermapbox\"}],\"scatterpolar\":[{\"marker\":{\"colorbar\":{\"outlinewidth\":0,\"ticks\":\"\"}},\"type\":\"scatterpolar\"}],\"scatterpolargl\":[{\"marker\":{\"colorbar\":{\"outlinewidth\":0,\"ticks\":\"\"}},\"type\":\"scatterpolargl\"}],\"scatterternary\":[{\"marker\":{\"colorbar\":{\"outlinewidth\":0,\"ticks\":\"\"}},\"type\":\"scatterternary\"}],\"surface\":[{\"colorbar\":{\"outlinewidth\":0,\"ticks\":\"\"},\"colorscale\":[[0.0,\"#0d0887\"],[0.1111111111111111,\"#46039f\"],[0.2222222222222222,\"#7201a8\"],[0.3333333333333333,\"#9c179e\"],[0.4444444444444444,\"#bd3786\"],[0.5555555555555556,\"#d8576b\"],[0.6666666666666666,\"#ed7953\"],[0.7777777777777778,\"#fb9f3a\"],[0.8888888888888888,\"#fdca26\"],[1.0,\"#f0f921\"]],\"type\":\"surface\"}],\"table\":[{\"cells\":{\"fill\":{\"color\":\"#EBF0F8\"},\"line\":{\"color\":\"white\"}},\"header\":{\"fill\":{\"color\":\"#C8D4E3\"},\"line\":{\"color\":\"white\"}},\"type\":\"table\"}]},\"layout\":{\"annotationdefaults\":{\"arrowcolor\":\"#2a3f5f\",\"arrowhead\":0,\"arrowwidth\":1},\"autotypenumbers\":\"strict\",\"coloraxis\":{\"colorbar\":{\"outlinewidth\":0,\"ticks\":\"\"}},\"colorscale\":{\"diverging\":[[0,\"#8e0152\"],[0.1,\"#c51b7d\"],[0.2,\"#de77ae\"],[0.3,\"#f1b6da\"],[0.4,\"#fde0ef\"],[0.5,\"#f7f7f7\"],[0.6,\"#e6f5d0\"],[0.7,\"#b8e186\"],[0.8,\"#7fbc41\"],[0.9,\"#4d9221\"],[1,\"#276419\"]],\"sequential\":[[0.0,\"#0d0887\"],[0.1111111111111111,\"#46039f\"],[0.2222222222222222,\"#7201a8\"],[0.3333333333333333,\"#9c179e\"],[0.4444444444444444,\"#bd3786\"],[0.5555555555555556,\"#d8576b\"],[0.6666666666666666,\"#ed7953\"],[0.7777777777777778,\"#fb9f3a\"],[0.8888888888888888,\"#fdca26\"],[1.0,\"#f0f921\"]],\"sequentialminus\":[[0.0,\"#0d0887\"],[0.1111111111111111,\"#46039f\"],[0.2222222222222222,\"#7201a8\"],[0.3333333333333333,\"#9c179e\"],[0.4444444444444444,\"#bd3786\"],[0.5555555555555556,\"#d8576b\"],[0.6666666666666666,\"#ed7953\"],[0.7777777777777778,\"#fb9f3a\"],[0.8888888888888888,\"#fdca26\"],[1.0,\"#f0f921\"]]},\"colorway\":[\"#636efa\",\"#EF553B\",\"#00cc96\",\"#ab63fa\",\"#FFA15A\",\"#19d3f3\",\"#FF6692\",\"#B6E880\",\"#FF97FF\",\"#FECB52\"],\"font\":{\"color\":\"#2a3f5f\"},\"geo\":{\"bgcolor\":\"white\",\"lakecolor\":\"white\",\"landcolor\":\"#E5ECF6\",\"showlakes\":true,\"showland\":true,\"subunitcolor\":\"white\"},\"hoverlabel\":{\"align\":\"left\"},\"hovermode\":\"closest\",\"mapbox\":{\"style\":\"light\"},\"paper_bgcolor\":\"white\",\"plot_bgcolor\":\"#E5ECF6\",\"polar\":{\"angularaxis\":{\"gridcolor\":\"white\",\"linecolor\":\"white\",\"ticks\":\"\"},\"bgcolor\":\"#E5ECF6\",\"radialaxis\":{\"gridcolor\":\"white\",\"linecolor\":\"white\",\"ticks\":\"\"}},\"scene\":{\"xaxis\":{\"backgroundcolor\":\"#E5ECF6\",\"gridcolor\":\"white\",\"gridwidth\":2,\"linecolor\":\"white\",\"showbackground\":true,\"ticks\":\"\",\"zerolinecolor\":\"white\"},\"yaxis\":{\"backgroundcolor\":\"#E5ECF6\",\"gridcolor\":\"white\",\"gridwidth\":2,\"linecolor\":\"white\",\"showbackground\":true,\"ticks\":\"\",\"zerolinecolor\":\"white\"},\"zaxis\":{\"backgroundcolor\":\"#E5ECF6\",\"gridcolor\":\"white\",\"gridwidth\":2,\"linecolor\":\"white\",\"showbackground\":true,\"ticks\":\"\",\"zerolinecolor\":\"white\"}},\"shapedefaults\":{\"line\":{\"color\":\"#2a3f5f\"}},\"ternary\":{\"aaxis\":{\"gridcolor\":\"white\",\"linecolor\":\"white\",\"ticks\":\"\"},\"baxis\":{\"gridcolor\":\"white\",\"linecolor\":\"white\",\"ticks\":\"\"},\"bgcolor\":\"#E5ECF6\",\"caxis\":{\"gridcolor\":\"white\",\"linecolor\":\"white\",\"ticks\":\"\"}},\"title\":{\"x\":0.05},\"xaxis\":{\"automargin\":true,\"gridcolor\":\"white\",\"linecolor\":\"white\",\"ticks\":\"\",\"title\":{\"standoff\":15},\"zerolinecolor\":\"white\",\"zerolinewidth\":2},\"yaxis\":{\"automargin\":true,\"gridcolor\":\"white\",\"linecolor\":\"white\",\"ticks\":\"\",\"title\":{\"standoff\":15},\"zerolinecolor\":\"white\",\"zerolinewidth\":2}}},\"scene\":{\"domain\":{\"x\":[0.0,1.0],\"y\":[0.0,1.0]},\"xaxis\":{\"title\":{\"text\":\"CustomerAge\"}},\"yaxis\":{\"title\":{\"text\":\"CreditScore\"}},\"zaxis\":{\"title\":{\"text\":\"SpendingScore\"}}},\"coloraxis\":{\"colorbar\":{\"title\":{\"text\":\"lable\"}},\"colorscale\":[[0.0,\"#0d0887\"],[0.1111111111111111,\"#46039f\"],[0.2222222222222222,\"#7201a8\"],[0.3333333333333333,\"#9c179e\"],[0.4444444444444444,\"#bd3786\"],[0.5555555555555556,\"#d8576b\"],[0.6666666666666666,\"#ed7953\"],[0.7777777777777778,\"#fb9f3a\"],[0.8888888888888888,\"#fdca26\"],[1.0,\"#f0f921\"]]},\"legend\":{\"tracegroupgap\":0},\"margin\":{\"t\":60}},                        {\"responsive\": true}                    ).then(function(){\n",
       "                            \n",
       "var gd = document.getElementById('2c76211e-8216-4a6c-8410-352d2f3ad3d3');\n",
       "var x = new MutationObserver(function (mutations, observer) {{\n",
       "        var display = window.getComputedStyle(gd).display;\n",
       "        if (!display || display === 'none') {{\n",
       "            console.log([gd, 'removed!']);\n",
       "            Plotly.purge(gd);\n",
       "            observer.disconnect();\n",
       "        }}\n",
       "}});\n",
       "\n",
       "// Listen for the removal of the full notebook cells\n",
       "var notebookContainer = gd.closest('#notebook-container');\n",
       "if (notebookContainer) {{\n",
       "    x.observe(notebookContainer, {childList: true});\n",
       "}}\n",
       "\n",
       "// Listen for the clearing of the current output cell\n",
       "var outputEl = gd.closest('.output');\n",
       "if (outputEl) {{\n",
       "    x.observe(outputEl, {childList: true});\n",
       "}}\n",
       "\n",
       "                        })                };                });            </script>        </div>"
      ]
     },
     "metadata": {},
     "output_type": "display_data"
    }
   ],
   "source": [
    "px.scatter_3d(GM_DF, 'CustomerAge', 'CreditScore', 'SpendingScore', color='lable')\n"
   ]
  },
  {
   "cell_type": "code",
   "execution_count": null,
   "metadata": {},
   "outputs": [],
   "source": []
  }
 ],
 "metadata": {
  "kernelspec": {
   "display_name": "Python 3",
   "language": "python",
   "name": "python3"
  },
  "language_info": {
   "codemirror_mode": {
    "name": "ipython",
    "version": 3
   },
   "file_extension": ".py",
   "mimetype": "text/x-python",
   "name": "python",
   "nbconvert_exporter": "python",
   "pygments_lexer": "ipython3",
   "version": "3.7.4"
  }
 },
 "nbformat": 4,
 "nbformat_minor": 2
}
