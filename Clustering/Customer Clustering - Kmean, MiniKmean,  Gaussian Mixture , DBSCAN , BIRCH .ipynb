{
 "cells": [
  {
   "cell_type": "markdown",
   "metadata": {},
   "source": [
    "## **Problem Definition**\n",
    "\n",
    "Perform K-Means Clustering on a dataset containing shopping details of customers from various cities to understand how clustering segregates the data similar to each other.\n",
    "\n",
    "\n",
    "\n",
    "\n",
    "### **Dataset Description**\n",
    "\n",
    "The dataset is based on the the shopping details of customers of few cities. The data has been populated randomly and holds no such relation to any real systems data or confidential data. It has 8 dimensions or features with 200 entries.\n",
    "\n",
    "The Attributes are:\n",
    "\n",
    "* CustomerID\n",
    "* CustomerGender\n",
    "* CustomerAge\n",
    "* CustomerCity\n",
    "* AnnualIncome\n",
    "* CreditScore\n",
    "* SpendingScore\n",
    "* CustomerCityID\n",
    "\n",
    "### **Tasks to be performed**\n",
    "\n",
    "\n",
    "* Importing Required Libraries\n",
    "* Analyzing the data\n",
    "* Understanding K-Means\n",
    "* Implementing K-Means from Scratch\n",
    "* Implementing K-Means using sklearn library "
   ]
  },
  {
   "cell_type": "code",
   "execution_count": 91,
   "metadata": {},
   "outputs": [],
   "source": [
    "import pandas as pd\n",
    "import numpy as np\n",
    "import matplotlib.pyplot as plt\n",
    "%matplotlib inline\n",
    "from sklearn.model_selection import train_test_split\n",
    "from sklearn.cluster import KMeans\n",
    "from sklearn.metrics import accuracy_score,confusion_matrix\n",
    "from sklearn.metrics import silhouette_score\n",
    "import warnings\n",
    "warnings.filterwarnings(\"ignore\")"
   ]
  },
  {
   "cell_type": "code",
   "execution_count": 92,
   "metadata": {},
   "outputs": [
    {
     "data": {
      "text/html": [
       "<div>\n",
       "<style scoped>\n",
       "    .dataframe tbody tr th:only-of-type {\n",
       "        vertical-align: middle;\n",
       "    }\n",
       "\n",
       "    .dataframe tbody tr th {\n",
       "        vertical-align: top;\n",
       "    }\n",
       "\n",
       "    .dataframe thead th {\n",
       "        text-align: right;\n",
       "    }\n",
       "</style>\n",
       "<table border=\"1\" class=\"dataframe\">\n",
       "  <thead>\n",
       "    <tr style=\"text-align: right;\">\n",
       "      <th></th>\n",
       "      <th>CustomerID</th>\n",
       "      <th>CustomerGender</th>\n",
       "      <th>CustomerAge</th>\n",
       "      <th>CustomerCity</th>\n",
       "      <th>AnnualIncome</th>\n",
       "      <th>CreditScore</th>\n",
       "      <th>SpendingScore</th>\n",
       "      <th>CustomerCityID</th>\n",
       "    </tr>\n",
       "  </thead>\n",
       "  <tbody>\n",
       "    <tr>\n",
       "      <th>0</th>\n",
       "      <td>1001</td>\n",
       "      <td>Male</td>\n",
       "      <td>49</td>\n",
       "      <td>Bengaluru</td>\n",
       "      <td>527547.58850</td>\n",
       "      <td>653</td>\n",
       "      <td>78</td>\n",
       "      <td>1</td>\n",
       "    </tr>\n",
       "    <tr>\n",
       "      <th>1</th>\n",
       "      <td>1002</td>\n",
       "      <td>Male</td>\n",
       "      <td>59</td>\n",
       "      <td>Bengaluru</td>\n",
       "      <td>207143.19760</td>\n",
       "      <td>630</td>\n",
       "      <td>63</td>\n",
       "      <td>1</td>\n",
       "    </tr>\n",
       "    <tr>\n",
       "      <th>2</th>\n",
       "      <td>1003</td>\n",
       "      <td>Female</td>\n",
       "      <td>54</td>\n",
       "      <td>Delhi</td>\n",
       "      <td>164423.84570</td>\n",
       "      <td>555</td>\n",
       "      <td>69</td>\n",
       "      <td>4</td>\n",
       "    </tr>\n",
       "    <tr>\n",
       "      <th>3</th>\n",
       "      <td>1004</td>\n",
       "      <td>Female</td>\n",
       "      <td>42</td>\n",
       "      <td>Bengaluru</td>\n",
       "      <td>56220.36443</td>\n",
       "      <td>699</td>\n",
       "      <td>30</td>\n",
       "      <td>1</td>\n",
       "    </tr>\n",
       "    <tr>\n",
       "      <th>4</th>\n",
       "      <td>1005</td>\n",
       "      <td>Female</td>\n",
       "      <td>30</td>\n",
       "      <td>Bengaluru</td>\n",
       "      <td>256194.36190</td>\n",
       "      <td>793</td>\n",
       "      <td>6</td>\n",
       "      <td>1</td>\n",
       "    </tr>\n",
       "  </tbody>\n",
       "</table>\n",
       "</div>"
      ],
      "text/plain": [
       "   CustomerID CustomerGender  CustomerAge CustomerCity  AnnualIncome  \\\n",
       "0        1001           Male           49    Bengaluru  527547.58850   \n",
       "1        1002           Male           59    Bengaluru  207143.19760   \n",
       "2        1003         Female           54        Delhi  164423.84570   \n",
       "3        1004         Female           42    Bengaluru   56220.36443   \n",
       "4        1005         Female           30    Bengaluru  256194.36190   \n",
       "\n",
       "   CreditScore  SpendingScore  CustomerCityID  \n",
       "0          653             78               1  \n",
       "1          630             63               1  \n",
       "2          555             69               4  \n",
       "3          699             30               1  \n",
       "4          793              6               1  "
      ]
     },
     "execution_count": 92,
     "metadata": {},
     "output_type": "execute_result"
    }
   ],
   "source": [
    "df=pd.read_csv('Data/Shopping_CustomerData.csv')\n",
    "df.head()"
   ]
  },
  {
   "cell_type": "code",
   "execution_count": 93,
   "metadata": {},
   "outputs": [
    {
     "data": {
      "text/html": [
       "<div>\n",
       "<style scoped>\n",
       "    .dataframe tbody tr th:only-of-type {\n",
       "        vertical-align: middle;\n",
       "    }\n",
       "\n",
       "    .dataframe tbody tr th {\n",
       "        vertical-align: top;\n",
       "    }\n",
       "\n",
       "    .dataframe thead th {\n",
       "        text-align: right;\n",
       "    }\n",
       "</style>\n",
       "<table border=\"1\" class=\"dataframe\">\n",
       "  <thead>\n",
       "    <tr style=\"text-align: right;\">\n",
       "      <th></th>\n",
       "      <th>CustomerGender</th>\n",
       "      <th>CustomerAge</th>\n",
       "      <th>CustomerCity</th>\n",
       "      <th>AnnualIncome</th>\n",
       "      <th>CreditScore</th>\n",
       "      <th>SpendingScore</th>\n",
       "      <th>lable</th>\n",
       "    </tr>\n",
       "  </thead>\n",
       "  <tbody>\n",
       "    <tr>\n",
       "      <th>0</th>\n",
       "      <td>Male</td>\n",
       "      <td>49</td>\n",
       "      <td>Bengaluru</td>\n",
       "      <td>527547.58850</td>\n",
       "      <td>653</td>\n",
       "      <td>78</td>\n",
       "      <td>0</td>\n",
       "    </tr>\n",
       "    <tr>\n",
       "      <th>1</th>\n",
       "      <td>Male</td>\n",
       "      <td>59</td>\n",
       "      <td>Bengaluru</td>\n",
       "      <td>207143.19760</td>\n",
       "      <td>630</td>\n",
       "      <td>63</td>\n",
       "      <td>0</td>\n",
       "    </tr>\n",
       "    <tr>\n",
       "      <th>2</th>\n",
       "      <td>Female</td>\n",
       "      <td>54</td>\n",
       "      <td>Delhi</td>\n",
       "      <td>164423.84570</td>\n",
       "      <td>555</td>\n",
       "      <td>69</td>\n",
       "      <td>1</td>\n",
       "    </tr>\n",
       "    <tr>\n",
       "      <th>3</th>\n",
       "      <td>Female</td>\n",
       "      <td>42</td>\n",
       "      <td>Bengaluru</td>\n",
       "      <td>56220.36443</td>\n",
       "      <td>699</td>\n",
       "      <td>30</td>\n",
       "      <td>2</td>\n",
       "    </tr>\n",
       "    <tr>\n",
       "      <th>4</th>\n",
       "      <td>Female</td>\n",
       "      <td>30</td>\n",
       "      <td>Bengaluru</td>\n",
       "      <td>256194.36190</td>\n",
       "      <td>793</td>\n",
       "      <td>6</td>\n",
       "      <td>2</td>\n",
       "    </tr>\n",
       "    <tr>\n",
       "      <th>...</th>\n",
       "      <td>...</td>\n",
       "      <td>...</td>\n",
       "      <td>...</td>\n",
       "      <td>...</td>\n",
       "      <td>...</td>\n",
       "      <td>...</td>\n",
       "      <td>...</td>\n",
       "    </tr>\n",
       "    <tr>\n",
       "      <th>195</th>\n",
       "      <td>Female</td>\n",
       "      <td>54</td>\n",
       "      <td>Delhi</td>\n",
       "      <td>317466.42070</td>\n",
       "      <td>601</td>\n",
       "      <td>52</td>\n",
       "      <td>1</td>\n",
       "    </tr>\n",
       "    <tr>\n",
       "      <th>196</th>\n",
       "      <td>Female</td>\n",
       "      <td>20</td>\n",
       "      <td>Bengaluru</td>\n",
       "      <td>323305.50020</td>\n",
       "      <td>554</td>\n",
       "      <td>58</td>\n",
       "      <td>2</td>\n",
       "    </tr>\n",
       "    <tr>\n",
       "      <th>197</th>\n",
       "      <td>Male</td>\n",
       "      <td>44</td>\n",
       "      <td>Chennai</td>\n",
       "      <td>109058.54430</td>\n",
       "      <td>844</td>\n",
       "      <td>36</td>\n",
       "      <td>0</td>\n",
       "    </tr>\n",
       "    <tr>\n",
       "      <th>198</th>\n",
       "      <td>Male</td>\n",
       "      <td>28</td>\n",
       "      <td>Delhi</td>\n",
       "      <td>160116.89300</td>\n",
       "      <td>837</td>\n",
       "      <td>24</td>\n",
       "      <td>0</td>\n",
       "    </tr>\n",
       "    <tr>\n",
       "      <th>199</th>\n",
       "      <td>Male</td>\n",
       "      <td>41</td>\n",
       "      <td>Chennai</td>\n",
       "      <td>280081.39010</td>\n",
       "      <td>789</td>\n",
       "      <td>31</td>\n",
       "      <td>0</td>\n",
       "    </tr>\n",
       "  </tbody>\n",
       "</table>\n",
       "<p>200 rows × 7 columns</p>\n",
       "</div>"
      ],
      "text/plain": [
       "    CustomerGender  CustomerAge CustomerCity  AnnualIncome  CreditScore  \\\n",
       "0             Male           49    Bengaluru  527547.58850          653   \n",
       "1             Male           59    Bengaluru  207143.19760          630   \n",
       "2           Female           54        Delhi  164423.84570          555   \n",
       "3           Female           42    Bengaluru   56220.36443          699   \n",
       "4           Female           30    Bengaluru  256194.36190          793   \n",
       "..             ...          ...          ...           ...          ...   \n",
       "195         Female           54        Delhi  317466.42070          601   \n",
       "196         Female           20    Bengaluru  323305.50020          554   \n",
       "197           Male           44      Chennai  109058.54430          844   \n",
       "198           Male           28        Delhi  160116.89300          837   \n",
       "199           Male           41      Chennai  280081.39010          789   \n",
       "\n",
       "     SpendingScore  lable  \n",
       "0               78      0  \n",
       "1               63      0  \n",
       "2               69      1  \n",
       "3               30      2  \n",
       "4                6      2  \n",
       "..             ...    ...  \n",
       "195             52      1  \n",
       "196             58      2  \n",
       "197             36      0  \n",
       "198             24      0  \n",
       "199             31      0  \n",
       "\n",
       "[200 rows x 7 columns]"
      ]
     },
     "execution_count": 93,
     "metadata": {},
     "output_type": "execute_result"
    }
   ],
   "source": [
    "df=pd.read_csv('Data/Shopping_CustomerData.csv')\n",
    "\n",
    "df=df.iloc[:,[1,2,3,4,5,6]]\n",
    "\n",
    "from sklearn.mixture import GaussianMixture\n",
    "from sklearn.preprocessing import OneHotEncoder\n",
    "from sklearn.preprocessing import OrdinalEncoder , MinMaxScaler, StandardScaler\n",
    "from sklearn.model_selection import train_test_split\n",
    "\n",
    "from sklearn.compose import ColumnTransformer\n",
    "transformer = ColumnTransformer(transformers=[\n",
    "                    #('tnf1',SimpleImputer(),['xx']),\n",
    "                    #('tnf2',OrdinalEncoder(),['CustomerCityID']),\n",
    "                    ('MnMx', MinMaxScaler(), ['CustomerAge', 'AnnualIncome', 'CreditScore', 'SpendingScore']),\n",
    "                    ('OHE',OneHotEncoder(sparse=False,handle_unknown='ignore'),['CustomerGender','CustomerCity'])]\n",
    "                        , remainder='passthrough')\n",
    "\n",
    "X=transformer.fit_transform(df)\n",
    "\n",
    "kmean=KMeans(n_clusters=3,max_iter=400).fit(X)\n",
    "\n",
    "lables=kmean.predict(X)\n",
    "\n",
    "K_DF=df.copy()\n",
    "\n",
    "K_DF['lable']=lables\n",
    "\n",
    "K_DF"
   ]
  },
  {
   "cell_type": "code",
   "execution_count": 94,
   "metadata": {},
   "outputs": [
    {
     "data": {
      "application/vnd.plotly.v1+json": {
       "config": {
        "plotlyServerURL": "https://plot.ly"
       },
       "data": [
        {
         "hovertemplate": "CustomerAge=%{x}<br>CreditScore=%{y}<br>CustomerCity=%{z}<br>lable=%{marker.color}<extra></extra>",
         "legendgroup": "",
         "marker": {
          "color": [
           0,
           0,
           1,
           2,
           2,
           2,
           2,
           2,
           0,
           2,
           0,
           2,
           1,
           2,
           0,
           0,
           2,
           0,
           0,
           2,
           0,
           0,
           2,
           0,
           2,
           0,
           2,
           0,
           1,
           2,
           0,
           2,
           0,
           0,
           2,
           1,
           2,
           2,
           2,
           2,
           2,
           0,
           0,
           2,
           1,
           2,
           2,
           2,
           2,
           2,
           2,
           0,
           2,
           0,
           2,
           0,
           2,
           0,
           2,
           0,
           0,
           0,
           2,
           2,
           0,
           0,
           2,
           1,
           0,
           2,
           0,
           2,
           2,
           2,
           0,
           0,
           1,
           0,
           2,
           2,
           0,
           0,
           0,
           2,
           1,
           0,
           2,
           2,
           1,
           1,
           1,
           0,
           0,
           2,
           2,
           0,
           1,
           2,
           0,
           0,
           2,
           2,
           0,
           0,
           0,
           2,
           2,
           0,
           0,
           0,
           0,
           2,
           2,
           0,
           2,
           1,
           2,
           1,
           2,
           1,
           0,
           2,
           1,
           0,
           2,
           2,
           0,
           0,
           0,
           0,
           0,
           0,
           1,
           2,
           0,
           1,
           2,
           0,
           0,
           2,
           2,
           0,
           2,
           2,
           0,
           0,
           0,
           1,
           2,
           0,
           0,
           0,
           2,
           2,
           2,
           2,
           0,
           2,
           0,
           2,
           2,
           1,
           0,
           1,
           0,
           2,
           0,
           2,
           2,
           0,
           0,
           0,
           0,
           0,
           2,
           2,
           0,
           0,
           0,
           0,
           2,
           2,
           0,
           2,
           2,
           0,
           2,
           0,
           2,
           1,
           1,
           2,
           0,
           2,
           2,
           1,
           2,
           0,
           0,
           0
          ],
          "coloraxis": "coloraxis",
          "symbol": "circle"
         },
         "mode": "markers",
         "name": "",
         "scene": "scene",
         "showlegend": false,
         "type": "scatter3d",
         "x": [
          49,
          59,
          54,
          42,
          30,
          38,
          45,
          23,
          59,
          48,
          55,
          73,
          54,
          34,
          54,
          53,
          23,
          30,
          37,
          52,
          39,
          38,
          71,
          31,
          42,
          65,
          65,
          33,
          29,
          24,
          59,
          40,
          52,
          47,
          66,
          62,
          73,
          23,
          45,
          43,
          21,
          45,
          54,
          22,
          26,
          72,
          29,
          65,
          34,
          26,
          66,
          50,
          33,
          47,
          59,
          52,
          55,
          74,
          32,
          31,
          25,
          75,
          39,
          46,
          29,
          34,
          54,
          36,
          52,
          28,
          18,
          45,
          48,
          50,
          43,
          27,
          68,
          67,
          59,
          74,
          62,
          45,
          33,
          20,
          61,
          32,
          49,
          66,
          36,
          55,
          35,
          22,
          59,
          21,
          74,
          51,
          22,
          35,
          47,
          66,
          20,
          58,
          42,
          27,
          63,
          28,
          48,
          63,
          45,
          22,
          70,
          65,
          41,
          56,
          51,
          33,
          69,
          21,
          40,
          19,
          62,
          38,
          49,
          30,
          62,
          58,
          73,
          66,
          71,
          54,
          53,
          34,
          41,
          47,
          26,
          30,
          55,
          43,
          50,
          61,
          37,
          29,
          26,
          22,
          56,
          70,
          38,
          37,
          62,
          19,
          46,
          50,
          48,
          53,
          70,
          60,
          37,
          57,
          66,
          27,
          21,
          22,
          18,
          18,
          38,
          23,
          21,
          44,
          72,
          63,
          50,
          56,
          59,
          44,
          20,
          33,
          49,
          22,
          64,
          31,
          53,
          23,
          26,
          63,
          43,
          62,
          74,
          66,
          45,
          62,
          61,
          47,
          74,
          48,
          48,
          54,
          20,
          44,
          28,
          41
         ],
         "y": [
          653,
          630,
          555,
          699,
          793,
          635,
          881,
          852,
          708,
          669,
          618,
          614,
          711,
          629,
          764,
          880,
          729,
          803,
          817,
          774,
          672,
          691,
          669,
          555,
          778,
          623,
          782,
          588,
          684,
          698,
          562,
          774,
          777,
          769,
          755,
          789,
          575,
          850,
          715,
          639,
          817,
          731,
          704,
          712,
          713,
          874,
          751,
          761,
          633,
          632,
          763,
          701,
          784,
          854,
          692,
          751,
          648,
          865,
          863,
          622,
          817,
          868,
          849,
          565,
          665,
          632,
          670,
          736,
          687,
          561,
          892,
          724,
          583,
          760,
          555,
          712,
          880,
          873,
          715,
          897,
          801,
          600,
          768,
          807,
          626,
          654,
          742,
          738,
          805,
          808,
          625,
          695,
          656,
          678,
          859,
          616,
          861,
          814,
          616,
          653,
          575,
          576,
          575,
          666,
          876,
          568,
          849,
          564,
          654,
          565,
          782,
          667,
          593,
          606,
          553,
          827,
          559,
          806,
          620,
          857,
          804,
          858,
          695,
          800,
          624,
          767,
          630,
          808,
          790,
          726,
          624,
          746,
          895,
          781,
          868,
          894,
          707,
          552,
          842,
          567,
          636,
          756,
          894,
          887,
          647,
          657,
          607,
          637,
          884,
          551,
          892,
          616,
          886,
          868,
          669,
          605,
          854,
          742,
          803,
          707,
          633,
          827,
          742,
          586,
          581,
          786,
          718,
          755,
          836,
          725,
          573,
          605,
          890,
          657,
          779,
          666,
          779,
          844,
          733,
          571,
          601,
          701,
          838,
          573,
          896,
          824,
          615,
          770,
          831,
          676,
          559,
          784,
          608,
          568,
          833,
          601,
          554,
          844,
          837,
          789
         ],
         "z": [
          "Bengaluru",
          "Bengaluru",
          "Delhi",
          "Bengaluru",
          "Bengaluru",
          "Chennai",
          "Chennai",
          "Mumbai",
          "Chennai",
          "Kolkata",
          "Bengaluru",
          "Bengaluru",
          "Delhi",
          "Mumbai",
          "Bengaluru",
          "Kolkata",
          "Bengaluru",
          "Mumbai",
          "Mumbai",
          "Kolkata",
          "Chennai",
          "Bengaluru",
          "Kolkata",
          "Mumbai",
          "Bengaluru",
          "Chennai",
          "Kolkata",
          "Bengaluru",
          "Delhi",
          "Chennai",
          "Bengaluru",
          "Bengaluru",
          "Chennai",
          "Kolkata",
          "Chennai",
          "Delhi",
          "Mumbai",
          "Mumbai",
          "Mumbai",
          "Mumbai",
          "Mumbai",
          "Bengaluru",
          "Bengaluru",
          "Kolkata",
          "Delhi",
          "Kolkata",
          "Bengaluru",
          "Mumbai",
          "Chennai",
          "Chennai",
          "Kolkata",
          "Bengaluru",
          "Kolkata",
          "Mumbai",
          "Kolkata",
          "Delhi",
          "Bengaluru",
          "Bengaluru",
          "Mumbai",
          "Bengaluru",
          "Mumbai",
          "Delhi",
          "Bengaluru",
          "Bengaluru",
          "Bengaluru",
          "Chennai",
          "Mumbai",
          "Delhi",
          "Chennai",
          "Mumbai",
          "Bengaluru",
          "Bengaluru",
          "Kolkata",
          "Mumbai",
          "Delhi",
          "Chennai",
          "Delhi",
          "Bengaluru",
          "Chennai",
          "Chennai",
          "Delhi",
          "Mumbai",
          "Kolkata",
          "Chennai",
          "Delhi",
          "Mumbai",
          "Bengaluru",
          "Chennai",
          "Delhi",
          "Delhi",
          "Delhi",
          "Kolkata",
          "Kolkata",
          "Mumbai",
          "Bengaluru",
          "Mumbai",
          "Delhi",
          "Mumbai",
          "Chennai",
          "Chennai",
          "Bengaluru",
          "Chennai",
          "Delhi",
          "Bengaluru",
          "Chennai",
          "Chennai",
          "Kolkata",
          "Delhi",
          "Chennai",
          "Mumbai",
          "Chennai",
          "Mumbai",
          "Chennai",
          "Delhi",
          "Chennai",
          "Delhi",
          "Mumbai",
          "Delhi",
          "Kolkata",
          "Delhi",
          "Chennai",
          "Mumbai",
          "Delhi",
          "Chennai",
          "Mumbai",
          "Kolkata",
          "Chennai",
          "Bengaluru",
          "Bengaluru",
          "Bengaluru",
          "Kolkata",
          "Mumbai",
          "Delhi",
          "Kolkata",
          "Mumbai",
          "Delhi",
          "Kolkata",
          "Bengaluru",
          "Mumbai",
          "Chennai",
          "Bengaluru",
          "Bengaluru",
          "Chennai",
          "Kolkata",
          "Mumbai",
          "Mumbai",
          "Delhi",
          "Delhi",
          "Bengaluru",
          "Kolkata",
          "Delhi",
          "Delhi",
          "Kolkata",
          "Chennai",
          "Bengaluru",
          "Mumbai",
          "Kolkata",
          "Bengaluru",
          "Bengaluru",
          "Mumbai",
          "Bengaluru",
          "Delhi",
          "Delhi",
          "Delhi",
          "Chennai",
          "Chennai",
          "Bengaluru",
          "Chennai",
          "Mumbai",
          "Chennai",
          "Bengaluru",
          "Mumbai",
          "Bengaluru",
          "Bengaluru",
          "Mumbai",
          "Mumbai",
          "Kolkata",
          "Chennai",
          "Chennai",
          "Delhi",
          "Bengaluru",
          "Bengaluru",
          "Kolkata",
          "Chennai",
          "Chennai",
          "Kolkata",
          "Kolkata",
          "Chennai",
          "Chennai",
          "Delhi",
          "Delhi",
          "Mumbai",
          "Bengaluru",
          "Bengaluru",
          "Chennai",
          "Delhi",
          "Bengaluru",
          "Chennai",
          "Delhi",
          "Chennai"
         ]
        }
       ],
       "layout": {
        "coloraxis": {
         "colorbar": {
          "title": {
           "text": "lable"
          }
         },
         "colorscale": [
          [
           0,
           "#0d0887"
          ],
          [
           0.1111111111111111,
           "#46039f"
          ],
          [
           0.2222222222222222,
           "#7201a8"
          ],
          [
           0.3333333333333333,
           "#9c179e"
          ],
          [
           0.4444444444444444,
           "#bd3786"
          ],
          [
           0.5555555555555556,
           "#d8576b"
          ],
          [
           0.6666666666666666,
           "#ed7953"
          ],
          [
           0.7777777777777778,
           "#fb9f3a"
          ],
          [
           0.8888888888888888,
           "#fdca26"
          ],
          [
           1,
           "#f0f921"
          ]
         ]
        },
        "legend": {
         "tracegroupgap": 0
        },
        "margin": {
         "t": 60
        },
        "scene": {
         "domain": {
          "x": [
           0,
           1
          ],
          "y": [
           0,
           1
          ]
         },
         "xaxis": {
          "title": {
           "text": "CustomerAge"
          }
         },
         "yaxis": {
          "title": {
           "text": "CreditScore"
          }
         },
         "zaxis": {
          "title": {
           "text": "CustomerCity"
          }
         }
        },
        "template": {
         "data": {
          "bar": [
           {
            "error_x": {
             "color": "#2a3f5f"
            },
            "error_y": {
             "color": "#2a3f5f"
            },
            "marker": {
             "line": {
              "color": "#E5ECF6",
              "width": 0.5
             },
             "pattern": {
              "fillmode": "overlay",
              "size": 10,
              "solidity": 0.2
             }
            },
            "type": "bar"
           }
          ],
          "barpolar": [
           {
            "marker": {
             "line": {
              "color": "#E5ECF6",
              "width": 0.5
             },
             "pattern": {
              "fillmode": "overlay",
              "size": 10,
              "solidity": 0.2
             }
            },
            "type": "barpolar"
           }
          ],
          "carpet": [
           {
            "aaxis": {
             "endlinecolor": "#2a3f5f",
             "gridcolor": "white",
             "linecolor": "white",
             "minorgridcolor": "white",
             "startlinecolor": "#2a3f5f"
            },
            "baxis": {
             "endlinecolor": "#2a3f5f",
             "gridcolor": "white",
             "linecolor": "white",
             "minorgridcolor": "white",
             "startlinecolor": "#2a3f5f"
            },
            "type": "carpet"
           }
          ],
          "choropleth": [
           {
            "colorbar": {
             "outlinewidth": 0,
             "ticks": ""
            },
            "type": "choropleth"
           }
          ],
          "contour": [
           {
            "colorbar": {
             "outlinewidth": 0,
             "ticks": ""
            },
            "colorscale": [
             [
              0,
              "#0d0887"
             ],
             [
              0.1111111111111111,
              "#46039f"
             ],
             [
              0.2222222222222222,
              "#7201a8"
             ],
             [
              0.3333333333333333,
              "#9c179e"
             ],
             [
              0.4444444444444444,
              "#bd3786"
             ],
             [
              0.5555555555555556,
              "#d8576b"
             ],
             [
              0.6666666666666666,
              "#ed7953"
             ],
             [
              0.7777777777777778,
              "#fb9f3a"
             ],
             [
              0.8888888888888888,
              "#fdca26"
             ],
             [
              1,
              "#f0f921"
             ]
            ],
            "type": "contour"
           }
          ],
          "contourcarpet": [
           {
            "colorbar": {
             "outlinewidth": 0,
             "ticks": ""
            },
            "type": "contourcarpet"
           }
          ],
          "heatmap": [
           {
            "colorbar": {
             "outlinewidth": 0,
             "ticks": ""
            },
            "colorscale": [
             [
              0,
              "#0d0887"
             ],
             [
              0.1111111111111111,
              "#46039f"
             ],
             [
              0.2222222222222222,
              "#7201a8"
             ],
             [
              0.3333333333333333,
              "#9c179e"
             ],
             [
              0.4444444444444444,
              "#bd3786"
             ],
             [
              0.5555555555555556,
              "#d8576b"
             ],
             [
              0.6666666666666666,
              "#ed7953"
             ],
             [
              0.7777777777777778,
              "#fb9f3a"
             ],
             [
              0.8888888888888888,
              "#fdca26"
             ],
             [
              1,
              "#f0f921"
             ]
            ],
            "type": "heatmap"
           }
          ],
          "heatmapgl": [
           {
            "colorbar": {
             "outlinewidth": 0,
             "ticks": ""
            },
            "colorscale": [
             [
              0,
              "#0d0887"
             ],
             [
              0.1111111111111111,
              "#46039f"
             ],
             [
              0.2222222222222222,
              "#7201a8"
             ],
             [
              0.3333333333333333,
              "#9c179e"
             ],
             [
              0.4444444444444444,
              "#bd3786"
             ],
             [
              0.5555555555555556,
              "#d8576b"
             ],
             [
              0.6666666666666666,
              "#ed7953"
             ],
             [
              0.7777777777777778,
              "#fb9f3a"
             ],
             [
              0.8888888888888888,
              "#fdca26"
             ],
             [
              1,
              "#f0f921"
             ]
            ],
            "type": "heatmapgl"
           }
          ],
          "histogram": [
           {
            "marker": {
             "pattern": {
              "fillmode": "overlay",
              "size": 10,
              "solidity": 0.2
             }
            },
            "type": "histogram"
           }
          ],
          "histogram2d": [
           {
            "colorbar": {
             "outlinewidth": 0,
             "ticks": ""
            },
            "colorscale": [
             [
              0,
              "#0d0887"
             ],
             [
              0.1111111111111111,
              "#46039f"
             ],
             [
              0.2222222222222222,
              "#7201a8"
             ],
             [
              0.3333333333333333,
              "#9c179e"
             ],
             [
              0.4444444444444444,
              "#bd3786"
             ],
             [
              0.5555555555555556,
              "#d8576b"
             ],
             [
              0.6666666666666666,
              "#ed7953"
             ],
             [
              0.7777777777777778,
              "#fb9f3a"
             ],
             [
              0.8888888888888888,
              "#fdca26"
             ],
             [
              1,
              "#f0f921"
             ]
            ],
            "type": "histogram2d"
           }
          ],
          "histogram2dcontour": [
           {
            "colorbar": {
             "outlinewidth": 0,
             "ticks": ""
            },
            "colorscale": [
             [
              0,
              "#0d0887"
             ],
             [
              0.1111111111111111,
              "#46039f"
             ],
             [
              0.2222222222222222,
              "#7201a8"
             ],
             [
              0.3333333333333333,
              "#9c179e"
             ],
             [
              0.4444444444444444,
              "#bd3786"
             ],
             [
              0.5555555555555556,
              "#d8576b"
             ],
             [
              0.6666666666666666,
              "#ed7953"
             ],
             [
              0.7777777777777778,
              "#fb9f3a"
             ],
             [
              0.8888888888888888,
              "#fdca26"
             ],
             [
              1,
              "#f0f921"
             ]
            ],
            "type": "histogram2dcontour"
           }
          ],
          "mesh3d": [
           {
            "colorbar": {
             "outlinewidth": 0,
             "ticks": ""
            },
            "type": "mesh3d"
           }
          ],
          "parcoords": [
           {
            "line": {
             "colorbar": {
              "outlinewidth": 0,
              "ticks": ""
             }
            },
            "type": "parcoords"
           }
          ],
          "pie": [
           {
            "automargin": true,
            "type": "pie"
           }
          ],
          "scatter": [
           {
            "marker": {
             "colorbar": {
              "outlinewidth": 0,
              "ticks": ""
             }
            },
            "type": "scatter"
           }
          ],
          "scatter3d": [
           {
            "line": {
             "colorbar": {
              "outlinewidth": 0,
              "ticks": ""
             }
            },
            "marker": {
             "colorbar": {
              "outlinewidth": 0,
              "ticks": ""
             }
            },
            "type": "scatter3d"
           }
          ],
          "scattercarpet": [
           {
            "marker": {
             "colorbar": {
              "outlinewidth": 0,
              "ticks": ""
             }
            },
            "type": "scattercarpet"
           }
          ],
          "scattergeo": [
           {
            "marker": {
             "colorbar": {
              "outlinewidth": 0,
              "ticks": ""
             }
            },
            "type": "scattergeo"
           }
          ],
          "scattergl": [
           {
            "marker": {
             "colorbar": {
              "outlinewidth": 0,
              "ticks": ""
             }
            },
            "type": "scattergl"
           }
          ],
          "scattermapbox": [
           {
            "marker": {
             "colorbar": {
              "outlinewidth": 0,
              "ticks": ""
             }
            },
            "type": "scattermapbox"
           }
          ],
          "scatterpolar": [
           {
            "marker": {
             "colorbar": {
              "outlinewidth": 0,
              "ticks": ""
             }
            },
            "type": "scatterpolar"
           }
          ],
          "scatterpolargl": [
           {
            "marker": {
             "colorbar": {
              "outlinewidth": 0,
              "ticks": ""
             }
            },
            "type": "scatterpolargl"
           }
          ],
          "scatterternary": [
           {
            "marker": {
             "colorbar": {
              "outlinewidth": 0,
              "ticks": ""
             }
            },
            "type": "scatterternary"
           }
          ],
          "surface": [
           {
            "colorbar": {
             "outlinewidth": 0,
             "ticks": ""
            },
            "colorscale": [
             [
              0,
              "#0d0887"
             ],
             [
              0.1111111111111111,
              "#46039f"
             ],
             [
              0.2222222222222222,
              "#7201a8"
             ],
             [
              0.3333333333333333,
              "#9c179e"
             ],
             [
              0.4444444444444444,
              "#bd3786"
             ],
             [
              0.5555555555555556,
              "#d8576b"
             ],
             [
              0.6666666666666666,
              "#ed7953"
             ],
             [
              0.7777777777777778,
              "#fb9f3a"
             ],
             [
              0.8888888888888888,
              "#fdca26"
             ],
             [
              1,
              "#f0f921"
             ]
            ],
            "type": "surface"
           }
          ],
          "table": [
           {
            "cells": {
             "fill": {
              "color": "#EBF0F8"
             },
             "line": {
              "color": "white"
             }
            },
            "header": {
             "fill": {
              "color": "#C8D4E3"
             },
             "line": {
              "color": "white"
             }
            },
            "type": "table"
           }
          ]
         },
         "layout": {
          "annotationdefaults": {
           "arrowcolor": "#2a3f5f",
           "arrowhead": 0,
           "arrowwidth": 1
          },
          "autotypenumbers": "strict",
          "coloraxis": {
           "colorbar": {
            "outlinewidth": 0,
            "ticks": ""
           }
          },
          "colorscale": {
           "diverging": [
            [
             0,
             "#8e0152"
            ],
            [
             0.1,
             "#c51b7d"
            ],
            [
             0.2,
             "#de77ae"
            ],
            [
             0.3,
             "#f1b6da"
            ],
            [
             0.4,
             "#fde0ef"
            ],
            [
             0.5,
             "#f7f7f7"
            ],
            [
             0.6,
             "#e6f5d0"
            ],
            [
             0.7,
             "#b8e186"
            ],
            [
             0.8,
             "#7fbc41"
            ],
            [
             0.9,
             "#4d9221"
            ],
            [
             1,
             "#276419"
            ]
           ],
           "sequential": [
            [
             0,
             "#0d0887"
            ],
            [
             0.1111111111111111,
             "#46039f"
            ],
            [
             0.2222222222222222,
             "#7201a8"
            ],
            [
             0.3333333333333333,
             "#9c179e"
            ],
            [
             0.4444444444444444,
             "#bd3786"
            ],
            [
             0.5555555555555556,
             "#d8576b"
            ],
            [
             0.6666666666666666,
             "#ed7953"
            ],
            [
             0.7777777777777778,
             "#fb9f3a"
            ],
            [
             0.8888888888888888,
             "#fdca26"
            ],
            [
             1,
             "#f0f921"
            ]
           ],
           "sequentialminus": [
            [
             0,
             "#0d0887"
            ],
            [
             0.1111111111111111,
             "#46039f"
            ],
            [
             0.2222222222222222,
             "#7201a8"
            ],
            [
             0.3333333333333333,
             "#9c179e"
            ],
            [
             0.4444444444444444,
             "#bd3786"
            ],
            [
             0.5555555555555556,
             "#d8576b"
            ],
            [
             0.6666666666666666,
             "#ed7953"
            ],
            [
             0.7777777777777778,
             "#fb9f3a"
            ],
            [
             0.8888888888888888,
             "#fdca26"
            ],
            [
             1,
             "#f0f921"
            ]
           ]
          },
          "colorway": [
           "#636efa",
           "#EF553B",
           "#00cc96",
           "#ab63fa",
           "#FFA15A",
           "#19d3f3",
           "#FF6692",
           "#B6E880",
           "#FF97FF",
           "#FECB52"
          ],
          "font": {
           "color": "#2a3f5f"
          },
          "geo": {
           "bgcolor": "white",
           "lakecolor": "white",
           "landcolor": "#E5ECF6",
           "showlakes": true,
           "showland": true,
           "subunitcolor": "white"
          },
          "hoverlabel": {
           "align": "left"
          },
          "hovermode": "closest",
          "mapbox": {
           "style": "light"
          },
          "paper_bgcolor": "white",
          "plot_bgcolor": "#E5ECF6",
          "polar": {
           "angularaxis": {
            "gridcolor": "white",
            "linecolor": "white",
            "ticks": ""
           },
           "bgcolor": "#E5ECF6",
           "radialaxis": {
            "gridcolor": "white",
            "linecolor": "white",
            "ticks": ""
           }
          },
          "scene": {
           "xaxis": {
            "backgroundcolor": "#E5ECF6",
            "gridcolor": "white",
            "gridwidth": 2,
            "linecolor": "white",
            "showbackground": true,
            "ticks": "",
            "zerolinecolor": "white"
           },
           "yaxis": {
            "backgroundcolor": "#E5ECF6",
            "gridcolor": "white",
            "gridwidth": 2,
            "linecolor": "white",
            "showbackground": true,
            "ticks": "",
            "zerolinecolor": "white"
           },
           "zaxis": {
            "backgroundcolor": "#E5ECF6",
            "gridcolor": "white",
            "gridwidth": 2,
            "linecolor": "white",
            "showbackground": true,
            "ticks": "",
            "zerolinecolor": "white"
           }
          },
          "shapedefaults": {
           "line": {
            "color": "#2a3f5f"
           }
          },
          "ternary": {
           "aaxis": {
            "gridcolor": "white",
            "linecolor": "white",
            "ticks": ""
           },
           "baxis": {
            "gridcolor": "white",
            "linecolor": "white",
            "ticks": ""
           },
           "bgcolor": "#E5ECF6",
           "caxis": {
            "gridcolor": "white",
            "linecolor": "white",
            "ticks": ""
           }
          },
          "title": {
           "x": 0.05
          },
          "xaxis": {
           "automargin": true,
           "gridcolor": "white",
           "linecolor": "white",
           "ticks": "",
           "title": {
            "standoff": 15
           },
           "zerolinecolor": "white",
           "zerolinewidth": 2
          },
          "yaxis": {
           "automargin": true,
           "gridcolor": "white",
           "linecolor": "white",
           "ticks": "",
           "title": {
            "standoff": 15
           },
           "zerolinecolor": "white",
           "zerolinewidth": 2
          }
         }
        }
       }
      },
      "text/html": [
       "<div>                            <div id=\"2c468868-7b7a-40b7-bb94-4af228397806\" class=\"plotly-graph-div\" style=\"height:525px; width:100%;\"></div>            <script type=\"text/javascript\">                require([\"plotly\"], function(Plotly) {                    window.PLOTLYENV=window.PLOTLYENV || {};                                    if (document.getElementById(\"2c468868-7b7a-40b7-bb94-4af228397806\")) {                    Plotly.newPlot(                        \"2c468868-7b7a-40b7-bb94-4af228397806\",                        [{\"hovertemplate\":\"CustomerAge=%{x}<br>CreditScore=%{y}<br>CustomerCity=%{z}<br>lable=%{marker.color}<extra></extra>\",\"legendgroup\":\"\",\"marker\":{\"color\":[0,0,1,2,2,2,2,2,0,2,0,2,1,2,0,0,2,0,0,2,0,0,2,0,2,0,2,0,1,2,0,2,0,0,2,1,2,2,2,2,2,0,0,2,1,2,2,2,2,2,2,0,2,0,2,0,2,0,2,0,0,0,2,2,0,0,2,1,0,2,0,2,2,2,0,0,1,0,2,2,0,0,0,2,1,0,2,2,1,1,1,0,0,2,2,0,1,2,0,0,2,2,0,0,0,2,2,0,0,0,0,2,2,0,2,1,2,1,2,1,0,2,1,0,2,2,0,0,0,0,0,0,1,2,0,1,2,0,0,2,2,0,2,2,0,0,0,1,2,0,0,0,2,2,2,2,0,2,0,2,2,1,0,1,0,2,0,2,2,0,0,0,0,0,2,2,0,0,0,0,2,2,0,2,2,0,2,0,2,1,1,2,0,2,2,1,2,0,0,0],\"coloraxis\":\"coloraxis\",\"symbol\":\"circle\"},\"mode\":\"markers\",\"name\":\"\",\"scene\":\"scene\",\"showlegend\":false,\"x\":[49,59,54,42,30,38,45,23,59,48,55,73,54,34,54,53,23,30,37,52,39,38,71,31,42,65,65,33,29,24,59,40,52,47,66,62,73,23,45,43,21,45,54,22,26,72,29,65,34,26,66,50,33,47,59,52,55,74,32,31,25,75,39,46,29,34,54,36,52,28,18,45,48,50,43,27,68,67,59,74,62,45,33,20,61,32,49,66,36,55,35,22,59,21,74,51,22,35,47,66,20,58,42,27,63,28,48,63,45,22,70,65,41,56,51,33,69,21,40,19,62,38,49,30,62,58,73,66,71,54,53,34,41,47,26,30,55,43,50,61,37,29,26,22,56,70,38,37,62,19,46,50,48,53,70,60,37,57,66,27,21,22,18,18,38,23,21,44,72,63,50,56,59,44,20,33,49,22,64,31,53,23,26,63,43,62,74,66,45,62,61,47,74,48,48,54,20,44,28,41],\"y\":[653,630,555,699,793,635,881,852,708,669,618,614,711,629,764,880,729,803,817,774,672,691,669,555,778,623,782,588,684,698,562,774,777,769,755,789,575,850,715,639,817,731,704,712,713,874,751,761,633,632,763,701,784,854,692,751,648,865,863,622,817,868,849,565,665,632,670,736,687,561,892,724,583,760,555,712,880,873,715,897,801,600,768,807,626,654,742,738,805,808,625,695,656,678,859,616,861,814,616,653,575,576,575,666,876,568,849,564,654,565,782,667,593,606,553,827,559,806,620,857,804,858,695,800,624,767,630,808,790,726,624,746,895,781,868,894,707,552,842,567,636,756,894,887,647,657,607,637,884,551,892,616,886,868,669,605,854,742,803,707,633,827,742,586,581,786,718,755,836,725,573,605,890,657,779,666,779,844,733,571,601,701,838,573,896,824,615,770,831,676,559,784,608,568,833,601,554,844,837,789],\"z\":[\"Bengaluru\",\"Bengaluru\",\"Delhi\",\"Bengaluru\",\"Bengaluru\",\"Chennai\",\"Chennai\",\"Mumbai\",\"Chennai\",\"Kolkata\",\"Bengaluru\",\"Bengaluru\",\"Delhi\",\"Mumbai\",\"Bengaluru\",\"Kolkata\",\"Bengaluru\",\"Mumbai\",\"Mumbai\",\"Kolkata\",\"Chennai\",\"Bengaluru\",\"Kolkata\",\"Mumbai\",\"Bengaluru\",\"Chennai\",\"Kolkata\",\"Bengaluru\",\"Delhi\",\"Chennai\",\"Bengaluru\",\"Bengaluru\",\"Chennai\",\"Kolkata\",\"Chennai\",\"Delhi\",\"Mumbai\",\"Mumbai\",\"Mumbai\",\"Mumbai\",\"Mumbai\",\"Bengaluru\",\"Bengaluru\",\"Kolkata\",\"Delhi\",\"Kolkata\",\"Bengaluru\",\"Mumbai\",\"Chennai\",\"Chennai\",\"Kolkata\",\"Bengaluru\",\"Kolkata\",\"Mumbai\",\"Kolkata\",\"Delhi\",\"Bengaluru\",\"Bengaluru\",\"Mumbai\",\"Bengaluru\",\"Mumbai\",\"Delhi\",\"Bengaluru\",\"Bengaluru\",\"Bengaluru\",\"Chennai\",\"Mumbai\",\"Delhi\",\"Chennai\",\"Mumbai\",\"Bengaluru\",\"Bengaluru\",\"Kolkata\",\"Mumbai\",\"Delhi\",\"Chennai\",\"Delhi\",\"Bengaluru\",\"Chennai\",\"Chennai\",\"Delhi\",\"Mumbai\",\"Kolkata\",\"Chennai\",\"Delhi\",\"Mumbai\",\"Bengaluru\",\"Chennai\",\"Delhi\",\"Delhi\",\"Delhi\",\"Kolkata\",\"Kolkata\",\"Mumbai\",\"Bengaluru\",\"Mumbai\",\"Delhi\",\"Mumbai\",\"Chennai\",\"Chennai\",\"Bengaluru\",\"Chennai\",\"Delhi\",\"Bengaluru\",\"Chennai\",\"Chennai\",\"Kolkata\",\"Delhi\",\"Chennai\",\"Mumbai\",\"Chennai\",\"Mumbai\",\"Chennai\",\"Delhi\",\"Chennai\",\"Delhi\",\"Mumbai\",\"Delhi\",\"Kolkata\",\"Delhi\",\"Chennai\",\"Mumbai\",\"Delhi\",\"Chennai\",\"Mumbai\",\"Kolkata\",\"Chennai\",\"Bengaluru\",\"Bengaluru\",\"Bengaluru\",\"Kolkata\",\"Mumbai\",\"Delhi\",\"Kolkata\",\"Mumbai\",\"Delhi\",\"Kolkata\",\"Bengaluru\",\"Mumbai\",\"Chennai\",\"Bengaluru\",\"Bengaluru\",\"Chennai\",\"Kolkata\",\"Mumbai\",\"Mumbai\",\"Delhi\",\"Delhi\",\"Bengaluru\",\"Kolkata\",\"Delhi\",\"Delhi\",\"Kolkata\",\"Chennai\",\"Bengaluru\",\"Mumbai\",\"Kolkata\",\"Bengaluru\",\"Bengaluru\",\"Mumbai\",\"Bengaluru\",\"Delhi\",\"Delhi\",\"Delhi\",\"Chennai\",\"Chennai\",\"Bengaluru\",\"Chennai\",\"Mumbai\",\"Chennai\",\"Bengaluru\",\"Mumbai\",\"Bengaluru\",\"Bengaluru\",\"Mumbai\",\"Mumbai\",\"Kolkata\",\"Chennai\",\"Chennai\",\"Delhi\",\"Bengaluru\",\"Bengaluru\",\"Kolkata\",\"Chennai\",\"Chennai\",\"Kolkata\",\"Kolkata\",\"Chennai\",\"Chennai\",\"Delhi\",\"Delhi\",\"Mumbai\",\"Bengaluru\",\"Bengaluru\",\"Chennai\",\"Delhi\",\"Bengaluru\",\"Chennai\",\"Delhi\",\"Chennai\"],\"type\":\"scatter3d\"}],                        {\"template\":{\"data\":{\"bar\":[{\"error_x\":{\"color\":\"#2a3f5f\"},\"error_y\":{\"color\":\"#2a3f5f\"},\"marker\":{\"line\":{\"color\":\"#E5ECF6\",\"width\":0.5},\"pattern\":{\"fillmode\":\"overlay\",\"size\":10,\"solidity\":0.2}},\"type\":\"bar\"}],\"barpolar\":[{\"marker\":{\"line\":{\"color\":\"#E5ECF6\",\"width\":0.5},\"pattern\":{\"fillmode\":\"overlay\",\"size\":10,\"solidity\":0.2}},\"type\":\"barpolar\"}],\"carpet\":[{\"aaxis\":{\"endlinecolor\":\"#2a3f5f\",\"gridcolor\":\"white\",\"linecolor\":\"white\",\"minorgridcolor\":\"white\",\"startlinecolor\":\"#2a3f5f\"},\"baxis\":{\"endlinecolor\":\"#2a3f5f\",\"gridcolor\":\"white\",\"linecolor\":\"white\",\"minorgridcolor\":\"white\",\"startlinecolor\":\"#2a3f5f\"},\"type\":\"carpet\"}],\"choropleth\":[{\"colorbar\":{\"outlinewidth\":0,\"ticks\":\"\"},\"type\":\"choropleth\"}],\"contour\":[{\"colorbar\":{\"outlinewidth\":0,\"ticks\":\"\"},\"colorscale\":[[0.0,\"#0d0887\"],[0.1111111111111111,\"#46039f\"],[0.2222222222222222,\"#7201a8\"],[0.3333333333333333,\"#9c179e\"],[0.4444444444444444,\"#bd3786\"],[0.5555555555555556,\"#d8576b\"],[0.6666666666666666,\"#ed7953\"],[0.7777777777777778,\"#fb9f3a\"],[0.8888888888888888,\"#fdca26\"],[1.0,\"#f0f921\"]],\"type\":\"contour\"}],\"contourcarpet\":[{\"colorbar\":{\"outlinewidth\":0,\"ticks\":\"\"},\"type\":\"contourcarpet\"}],\"heatmap\":[{\"colorbar\":{\"outlinewidth\":0,\"ticks\":\"\"},\"colorscale\":[[0.0,\"#0d0887\"],[0.1111111111111111,\"#46039f\"],[0.2222222222222222,\"#7201a8\"],[0.3333333333333333,\"#9c179e\"],[0.4444444444444444,\"#bd3786\"],[0.5555555555555556,\"#d8576b\"],[0.6666666666666666,\"#ed7953\"],[0.7777777777777778,\"#fb9f3a\"],[0.8888888888888888,\"#fdca26\"],[1.0,\"#f0f921\"]],\"type\":\"heatmap\"}],\"heatmapgl\":[{\"colorbar\":{\"outlinewidth\":0,\"ticks\":\"\"},\"colorscale\":[[0.0,\"#0d0887\"],[0.1111111111111111,\"#46039f\"],[0.2222222222222222,\"#7201a8\"],[0.3333333333333333,\"#9c179e\"],[0.4444444444444444,\"#bd3786\"],[0.5555555555555556,\"#d8576b\"],[0.6666666666666666,\"#ed7953\"],[0.7777777777777778,\"#fb9f3a\"],[0.8888888888888888,\"#fdca26\"],[1.0,\"#f0f921\"]],\"type\":\"heatmapgl\"}],\"histogram\":[{\"marker\":{\"pattern\":{\"fillmode\":\"overlay\",\"size\":10,\"solidity\":0.2}},\"type\":\"histogram\"}],\"histogram2d\":[{\"colorbar\":{\"outlinewidth\":0,\"ticks\":\"\"},\"colorscale\":[[0.0,\"#0d0887\"],[0.1111111111111111,\"#46039f\"],[0.2222222222222222,\"#7201a8\"],[0.3333333333333333,\"#9c179e\"],[0.4444444444444444,\"#bd3786\"],[0.5555555555555556,\"#d8576b\"],[0.6666666666666666,\"#ed7953\"],[0.7777777777777778,\"#fb9f3a\"],[0.8888888888888888,\"#fdca26\"],[1.0,\"#f0f921\"]],\"type\":\"histogram2d\"}],\"histogram2dcontour\":[{\"colorbar\":{\"outlinewidth\":0,\"ticks\":\"\"},\"colorscale\":[[0.0,\"#0d0887\"],[0.1111111111111111,\"#46039f\"],[0.2222222222222222,\"#7201a8\"],[0.3333333333333333,\"#9c179e\"],[0.4444444444444444,\"#bd3786\"],[0.5555555555555556,\"#d8576b\"],[0.6666666666666666,\"#ed7953\"],[0.7777777777777778,\"#fb9f3a\"],[0.8888888888888888,\"#fdca26\"],[1.0,\"#f0f921\"]],\"type\":\"histogram2dcontour\"}],\"mesh3d\":[{\"colorbar\":{\"outlinewidth\":0,\"ticks\":\"\"},\"type\":\"mesh3d\"}],\"parcoords\":[{\"line\":{\"colorbar\":{\"outlinewidth\":0,\"ticks\":\"\"}},\"type\":\"parcoords\"}],\"pie\":[{\"automargin\":true,\"type\":\"pie\"}],\"scatter\":[{\"marker\":{\"colorbar\":{\"outlinewidth\":0,\"ticks\":\"\"}},\"type\":\"scatter\"}],\"scatter3d\":[{\"line\":{\"colorbar\":{\"outlinewidth\":0,\"ticks\":\"\"}},\"marker\":{\"colorbar\":{\"outlinewidth\":0,\"ticks\":\"\"}},\"type\":\"scatter3d\"}],\"scattercarpet\":[{\"marker\":{\"colorbar\":{\"outlinewidth\":0,\"ticks\":\"\"}},\"type\":\"scattercarpet\"}],\"scattergeo\":[{\"marker\":{\"colorbar\":{\"outlinewidth\":0,\"ticks\":\"\"}},\"type\":\"scattergeo\"}],\"scattergl\":[{\"marker\":{\"colorbar\":{\"outlinewidth\":0,\"ticks\":\"\"}},\"type\":\"scattergl\"}],\"scattermapbox\":[{\"marker\":{\"colorbar\":{\"outlinewidth\":0,\"ticks\":\"\"}},\"type\":\"scattermapbox\"}],\"scatterpolar\":[{\"marker\":{\"colorbar\":{\"outlinewidth\":0,\"ticks\":\"\"}},\"type\":\"scatterpolar\"}],\"scatterpolargl\":[{\"marker\":{\"colorbar\":{\"outlinewidth\":0,\"ticks\":\"\"}},\"type\":\"scatterpolargl\"}],\"scatterternary\":[{\"marker\":{\"colorbar\":{\"outlinewidth\":0,\"ticks\":\"\"}},\"type\":\"scatterternary\"}],\"surface\":[{\"colorbar\":{\"outlinewidth\":0,\"ticks\":\"\"},\"colorscale\":[[0.0,\"#0d0887\"],[0.1111111111111111,\"#46039f\"],[0.2222222222222222,\"#7201a8\"],[0.3333333333333333,\"#9c179e\"],[0.4444444444444444,\"#bd3786\"],[0.5555555555555556,\"#d8576b\"],[0.6666666666666666,\"#ed7953\"],[0.7777777777777778,\"#fb9f3a\"],[0.8888888888888888,\"#fdca26\"],[1.0,\"#f0f921\"]],\"type\":\"surface\"}],\"table\":[{\"cells\":{\"fill\":{\"color\":\"#EBF0F8\"},\"line\":{\"color\":\"white\"}},\"header\":{\"fill\":{\"color\":\"#C8D4E3\"},\"line\":{\"color\":\"white\"}},\"type\":\"table\"}]},\"layout\":{\"annotationdefaults\":{\"arrowcolor\":\"#2a3f5f\",\"arrowhead\":0,\"arrowwidth\":1},\"autotypenumbers\":\"strict\",\"coloraxis\":{\"colorbar\":{\"outlinewidth\":0,\"ticks\":\"\"}},\"colorscale\":{\"diverging\":[[0,\"#8e0152\"],[0.1,\"#c51b7d\"],[0.2,\"#de77ae\"],[0.3,\"#f1b6da\"],[0.4,\"#fde0ef\"],[0.5,\"#f7f7f7\"],[0.6,\"#e6f5d0\"],[0.7,\"#b8e186\"],[0.8,\"#7fbc41\"],[0.9,\"#4d9221\"],[1,\"#276419\"]],\"sequential\":[[0.0,\"#0d0887\"],[0.1111111111111111,\"#46039f\"],[0.2222222222222222,\"#7201a8\"],[0.3333333333333333,\"#9c179e\"],[0.4444444444444444,\"#bd3786\"],[0.5555555555555556,\"#d8576b\"],[0.6666666666666666,\"#ed7953\"],[0.7777777777777778,\"#fb9f3a\"],[0.8888888888888888,\"#fdca26\"],[1.0,\"#f0f921\"]],\"sequentialminus\":[[0.0,\"#0d0887\"],[0.1111111111111111,\"#46039f\"],[0.2222222222222222,\"#7201a8\"],[0.3333333333333333,\"#9c179e\"],[0.4444444444444444,\"#bd3786\"],[0.5555555555555556,\"#d8576b\"],[0.6666666666666666,\"#ed7953\"],[0.7777777777777778,\"#fb9f3a\"],[0.8888888888888888,\"#fdca26\"],[1.0,\"#f0f921\"]]},\"colorway\":[\"#636efa\",\"#EF553B\",\"#00cc96\",\"#ab63fa\",\"#FFA15A\",\"#19d3f3\",\"#FF6692\",\"#B6E880\",\"#FF97FF\",\"#FECB52\"],\"font\":{\"color\":\"#2a3f5f\"},\"geo\":{\"bgcolor\":\"white\",\"lakecolor\":\"white\",\"landcolor\":\"#E5ECF6\",\"showlakes\":true,\"showland\":true,\"subunitcolor\":\"white\"},\"hoverlabel\":{\"align\":\"left\"},\"hovermode\":\"closest\",\"mapbox\":{\"style\":\"light\"},\"paper_bgcolor\":\"white\",\"plot_bgcolor\":\"#E5ECF6\",\"polar\":{\"angularaxis\":{\"gridcolor\":\"white\",\"linecolor\":\"white\",\"ticks\":\"\"},\"bgcolor\":\"#E5ECF6\",\"radialaxis\":{\"gridcolor\":\"white\",\"linecolor\":\"white\",\"ticks\":\"\"}},\"scene\":{\"xaxis\":{\"backgroundcolor\":\"#E5ECF6\",\"gridcolor\":\"white\",\"gridwidth\":2,\"linecolor\":\"white\",\"showbackground\":true,\"ticks\":\"\",\"zerolinecolor\":\"white\"},\"yaxis\":{\"backgroundcolor\":\"#E5ECF6\",\"gridcolor\":\"white\",\"gridwidth\":2,\"linecolor\":\"white\",\"showbackground\":true,\"ticks\":\"\",\"zerolinecolor\":\"white\"},\"zaxis\":{\"backgroundcolor\":\"#E5ECF6\",\"gridcolor\":\"white\",\"gridwidth\":2,\"linecolor\":\"white\",\"showbackground\":true,\"ticks\":\"\",\"zerolinecolor\":\"white\"}},\"shapedefaults\":{\"line\":{\"color\":\"#2a3f5f\"}},\"ternary\":{\"aaxis\":{\"gridcolor\":\"white\",\"linecolor\":\"white\",\"ticks\":\"\"},\"baxis\":{\"gridcolor\":\"white\",\"linecolor\":\"white\",\"ticks\":\"\"},\"bgcolor\":\"#E5ECF6\",\"caxis\":{\"gridcolor\":\"white\",\"linecolor\":\"white\",\"ticks\":\"\"}},\"title\":{\"x\":0.05},\"xaxis\":{\"automargin\":true,\"gridcolor\":\"white\",\"linecolor\":\"white\",\"ticks\":\"\",\"title\":{\"standoff\":15},\"zerolinecolor\":\"white\",\"zerolinewidth\":2},\"yaxis\":{\"automargin\":true,\"gridcolor\":\"white\",\"linecolor\":\"white\",\"ticks\":\"\",\"title\":{\"standoff\":15},\"zerolinecolor\":\"white\",\"zerolinewidth\":2}}},\"scene\":{\"domain\":{\"x\":[0.0,1.0],\"y\":[0.0,1.0]},\"xaxis\":{\"title\":{\"text\":\"CustomerAge\"}},\"yaxis\":{\"title\":{\"text\":\"CreditScore\"}},\"zaxis\":{\"title\":{\"text\":\"CustomerCity\"}}},\"coloraxis\":{\"colorbar\":{\"title\":{\"text\":\"lable\"}},\"colorscale\":[[0.0,\"#0d0887\"],[0.1111111111111111,\"#46039f\"],[0.2222222222222222,\"#7201a8\"],[0.3333333333333333,\"#9c179e\"],[0.4444444444444444,\"#bd3786\"],[0.5555555555555556,\"#d8576b\"],[0.6666666666666666,\"#ed7953\"],[0.7777777777777778,\"#fb9f3a\"],[0.8888888888888888,\"#fdca26\"],[1.0,\"#f0f921\"]]},\"legend\":{\"tracegroupgap\":0},\"margin\":{\"t\":60}},                        {\"responsive\": true}                    ).then(function(){\n",
       "                            \n",
       "var gd = document.getElementById('2c468868-7b7a-40b7-bb94-4af228397806');\n",
       "var x = new MutationObserver(function (mutations, observer) {{\n",
       "        var display = window.getComputedStyle(gd).display;\n",
       "        if (!display || display === 'none') {{\n",
       "            console.log([gd, 'removed!']);\n",
       "            Plotly.purge(gd);\n",
       "            observer.disconnect();\n",
       "        }}\n",
       "}});\n",
       "\n",
       "// Listen for the removal of the full notebook cells\n",
       "var notebookContainer = gd.closest('#notebook-container');\n",
       "if (notebookContainer) {{\n",
       "    x.observe(notebookContainer, {childList: true});\n",
       "}}\n",
       "\n",
       "// Listen for the clearing of the current output cell\n",
       "var outputEl = gd.closest('.output');\n",
       "if (outputEl) {{\n",
       "    x.observe(outputEl, {childList: true});\n",
       "}}\n",
       "\n",
       "                        })                };                });            </script>        </div>"
      ]
     },
     "metadata": {},
     "output_type": "display_data"
    }
   ],
   "source": [
    "import plotly_express as px\n",
    "px.scatter_3d(K_DF, 'CustomerAge', 'CreditScore', 'CustomerCity', color='lable')"
   ]
  },
  {
   "cell_type": "code",
   "execution_count": 95,
   "metadata": {},
   "outputs": [
    {
     "data": {
      "text/plain": [
       "[<matplotlib.lines.Line2D at 0x7ff188aa1250>]"
      ]
     },
     "execution_count": 95,
     "metadata": {},
     "output_type": "execute_result"
    },
    {
     "data": {
      "image/png": "[encoded data removed]",
      "text/plain": [
       "<Figure size 432x288 with 1 Axes>"
      ]
     },
     "metadata": {
      "needs_background": "light"
     },
     "output_type": "display_data"
    }
   ],
   "source": [
    "inertias=[]\n",
    "for i in range(1,15):\n",
    "    kmean=KMeans(n_clusters=i,max_iter=500, algorithm='auto' ).fit(X)\n",
    "    inertias.append(kmean.inertia_)\n",
    "    \n",
    "plt.plot(inertias)\n",
    "        "
   ]
  },
  {
   "cell_type": "code",
   "execution_count": 96,
   "metadata": {},
   "outputs": [
    {
     "name": "stdout",
     "output_type": "stream",
     "text": [
      "Silhouette Score 0.5234147443513107\n"
     ]
    },
    {
     "data": {
      "application/vnd.plotly.v1+json": {
       "config": {
        "plotlyServerURL": "https://plot.ly"
       },
       "data": [
        {
         "hovertemplate": "CustomerAge=%{x}<br>CreditScore=%{y}<br>CustomerCity=%{z}<br>lable=%{marker.color}<extra></extra>",
         "legendgroup": "",
         "marker": {
          "color": [
           4,
           4,
           3,
           5,
           5,
           0,
           0,
           2,
           1,
           6,
           4,
           5,
           3,
           2,
           4,
           8,
           5,
           9,
           9,
           6,
           1,
           4,
           6,
           9,
           5,
           1,
           6,
           4,
           3,
           0,
           4,
           5,
           1,
           8,
           0,
           3,
           2,
           2,
           2,
           2,
           2,
           4,
           4,
           6,
           3,
           6,
           5,
           2,
           0,
           0,
           6,
           4,
           6,
           9,
           6,
           7,
           5,
           4,
           2,
           4,
           9,
           7,
           5,
           5,
           4,
           1,
           2,
           3,
           1,
           2,
           4,
           5,
           6,
           2,
           7,
           1,
           3,
           4,
           0,
           0,
           7,
           9,
           8,
           0,
           3,
           9,
           5,
           0,
           3,
           3,
           3,
           8,
           8,
           2,
           5,
           9,
           3,
           2,
           1,
           1,
           5,
           0,
           7,
           4,
           1,
           0,
           6,
           7,
           1,
           9,
           1,
           2,
           0,
           7,
           0,
           3,
           2,
           3,
           6,
           3,
           1,
           2,
           3,
           1,
           2,
           6,
           1,
           4,
           4,
           4,
           8,
           9,
           3,
           6,
           9,
           3,
           6,
           4,
           9,
           0,
           5,
           4,
           0,
           6,
           9,
           9,
           7,
           3,
           5,
           8,
           7,
           7,
           6,
           0,
           5,
           2,
           8,
           5,
           4,
           2,
           5,
           3,
           7,
           3,
           1,
           0,
           4,
           0,
           2,
           1,
           4,
           9,
           4,
           4,
           2,
           2,
           8,
           1,
           1,
           7,
           5,
           5,
           8,
           0,
           0,
           8,
           6,
           1,
           0,
           3,
           3,
           2,
           4,
           5,
           0,
           3,
           5,
           1,
           7,
           1
          ],
          "coloraxis": "coloraxis",
          "symbol": "circle"
         },
         "mode": "markers",
         "name": "",
         "scene": "scene",
         "showlegend": false,
         "type": "scatter3d",
         "x": [
          49,
          59,
          54,
          42,
          30,
          38,
          45,
          23,
          59,
          48,
          55,
          73,
          54,
          34,
          54,
          53,
          23,
          30,
          37,
          52,
          39,
          38,
          71,
          31,
          42,
          65,
          65,
          33,
          29,
          24,
          59,
          40,
          52,
          47,
          66,
          62,
          73,
          23,
          45,
          43,
          21,
          45,
          54,
          22,
          26,
          72,
          29,
          65,
          34,
          26,
          66,
          50,
          33,
          47,
          59,
          52,
          55,
          74,
          32,
          31,
          25,
          75,
          39,
          46,
          29,
          34,
          54,
          36,
          52,
          28,
          18,
          45,
          48,
          50,
          43,
          27,
          68,
          67,
          59,
          74,
          62,
          45,
          33,
          20,
          61,
          32,
          49,
          66,
          36,
          55,
          35,
          22,
          59,
          21,
          74,
          51,
          22,
          35,
          47,
          66,
          20,
          58,
          42,
          27,
          63,
          28,
          48,
          63,
          45,
          22,
          70,
          65,
          41,
          56,
          51,
          33,
          69,
          21,
          40,
          19,
          62,
          38,
          49,
          30,
          62,
          58,
          73,
          66,
          71,
          54,
          53,
          34,
          41,
          47,
          26,
          30,
          55,
          43,
          50,
          61,
          37,
          29,
          26,
          22,
          56,
          70,
          38,
          37,
          62,
          19,
          46,
          50,
          48,
          53,
          70,
          60,
          37,
          57,
          66,
          27,
          21,
          22,
          18,
          18,
          38,
          23,
          21,
          44,
          72,
          63,
          50,
          56,
          59,
          44,
          20,
          33,
          49,
          22,
          64,
          31,
          53,
          23,
          26,
          63,
          43,
          62,
          74,
          66,
          45,
          62,
          61,
          47,
          74,
          48,
          48,
          54,
          20,
          44,
          28,
          41
         ],
         "y": [
          653,
          630,
          555,
          699,
          793,
          635,
          881,
          852,
          708,
          669,
          618,
          614,
          711,
          629,
          764,
          880,
          729,
          803,
          817,
          774,
          672,
          691,
          669,
          555,
          778,
          623,
          782,
          588,
          684,
          698,
          562,
          774,
          777,
          769,
          755,
          789,
          575,
          850,
          715,
          639,
          817,
          731,
          704,
          712,
          713,
          874,
          751,
          761,
          633,
          632,
          763,
          701,
          784,
          854,
          692,
          751,
          648,
          865,
          863,
          622,
          817,
          868,
          849,
          565,
          665,
          632,
          670,
          736,
          687,
          561,
          892,
          724,
          583,
          760,
          555,
          712,
          880,
          873,
          715,
          897,
          801,
          600,
          768,
          807,
          626,
          654,
          742,
          738,
          805,
          808,
          625,
          695,
          656,
          678,
          859,
          616,
          861,
          814,
          616,
          653,
          575,
          576,
          575,
          666,
          876,
          568,
          849,
          564,
          654,
          565,
          782,
          667,
          593,
          606,
          553,
          827,
          559,
          806,
          620,
          857,
          804,
          858,
          695,
          800,
          624,
          767,
          630,
          808,
          790,
          726,
          624,
          746,
          895,
          781,
          868,
          894,
          707,
          552,
          842,
          567,
          636,
          756,
          894,
          887,
          647,
          657,
          607,
          637,
          884,
          551,
          892,
          616,
          886,
          868,
          669,
          605,
          854,
          742,
          803,
          707,
          633,
          827,
          742,
          586,
          581,
          786,
          718,
          755,
          836,
          725,
          573,
          605,
          890,
          657,
          779,
          666,
          779,
          844,
          733,
          571,
          601,
          701,
          838,
          573,
          896,
          824,
          615,
          770,
          831,
          676,
          559,
          784,
          608,
          568,
          833,
          601,
          554,
          844,
          837,
          789
         ],
         "z": [
          "Bengaluru",
          "Bengaluru",
          "Delhi",
          "Bengaluru",
          "Bengaluru",
          "Chennai",
          "Chennai",
          "Mumbai",
          "Chennai",
          "Kolkata",
          "Bengaluru",
          "Bengaluru",
          "Delhi",
          "Mumbai",
          "Bengaluru",
          "Kolkata",
          "Bengaluru",
          "Mumbai",
          "Mumbai",
          "Kolkata",
          "Chennai",
          "Bengaluru",
          "Kolkata",
          "Mumbai",
          "Bengaluru",
          "Chennai",
          "Kolkata",
          "Bengaluru",
          "Delhi",
          "Chennai",
          "Bengaluru",
          "Bengaluru",
          "Chennai",
          "Kolkata",
          "Chennai",
          "Delhi",
          "Mumbai",
          "Mumbai",
          "Mumbai",
          "Mumbai",
          "Mumbai",
          "Bengaluru",
          "Bengaluru",
          "Kolkata",
          "Delhi",
          "Kolkata",
          "Bengaluru",
          "Mumbai",
          "Chennai",
          "Chennai",
          "Kolkata",
          "Bengaluru",
          "Kolkata",
          "Mumbai",
          "Kolkata",
          "Delhi",
          "Bengaluru",
          "Bengaluru",
          "Mumbai",
          "Bengaluru",
          "Mumbai",
          "Delhi",
          "Bengaluru",
          "Bengaluru",
          "Bengaluru",
          "Chennai",
          "Mumbai",
          "Delhi",
          "Chennai",
          "Mumbai",
          "Bengaluru",
          "Bengaluru",
          "Kolkata",
          "Mumbai",
          "Delhi",
          "Chennai",
          "Delhi",
          "Bengaluru",
          "Chennai",
          "Chennai",
          "Delhi",
          "Mumbai",
          "Kolkata",
          "Chennai",
          "Delhi",
          "Mumbai",
          "Bengaluru",
          "Chennai",
          "Delhi",
          "Delhi",
          "Delhi",
          "Kolkata",
          "Kolkata",
          "Mumbai",
          "Bengaluru",
          "Mumbai",
          "Delhi",
          "Mumbai",
          "Chennai",
          "Chennai",
          "Bengaluru",
          "Chennai",
          "Delhi",
          "Bengaluru",
          "Chennai",
          "Chennai",
          "Kolkata",
          "Delhi",
          "Chennai",
          "Mumbai",
          "Chennai",
          "Mumbai",
          "Chennai",
          "Delhi",
          "Chennai",
          "Delhi",
          "Mumbai",
          "Delhi",
          "Kolkata",
          "Delhi",
          "Chennai",
          "Mumbai",
          "Delhi",
          "Chennai",
          "Mumbai",
          "Kolkata",
          "Chennai",
          "Bengaluru",
          "Bengaluru",
          "Bengaluru",
          "Kolkata",
          "Mumbai",
          "Delhi",
          "Kolkata",
          "Mumbai",
          "Delhi",
          "Kolkata",
          "Bengaluru",
          "Mumbai",
          "Chennai",
          "Bengaluru",
          "Bengaluru",
          "Chennai",
          "Kolkata",
          "Mumbai",
          "Mumbai",
          "Delhi",
          "Delhi",
          "Bengaluru",
          "Kolkata",
          "Delhi",
          "Delhi",
          "Kolkata",
          "Chennai",
          "Bengaluru",
          "Mumbai",
          "Kolkata",
          "Bengaluru",
          "Bengaluru",
          "Mumbai",
          "Bengaluru",
          "Delhi",
          "Delhi",
          "Delhi",
          "Chennai",
          "Chennai",
          "Bengaluru",
          "Chennai",
          "Mumbai",
          "Chennai",
          "Bengaluru",
          "Mumbai",
          "Bengaluru",
          "Bengaluru",
          "Mumbai",
          "Mumbai",
          "Kolkata",
          "Chennai",
          "Chennai",
          "Delhi",
          "Bengaluru",
          "Bengaluru",
          "Kolkata",
          "Chennai",
          "Chennai",
          "Kolkata",
          "Kolkata",
          "Chennai",
          "Chennai",
          "Delhi",
          "Delhi",
          "Mumbai",
          "Bengaluru",
          "Bengaluru",
          "Chennai",
          "Delhi",
          "Bengaluru",
          "Chennai",
          "Delhi",
          "Chennai"
         ]
        }
       ],
       "layout": {
        "coloraxis": {
         "colorbar": {
          "title": {
           "text": "lable"
          }
         },
         "colorscale": [
          [
           0,
           "#0d0887"
          ],
          [
           0.1111111111111111,
           "#46039f"
          ],
          [
           0.2222222222222222,
           "#7201a8"
          ],
          [
           0.3333333333333333,
           "#9c179e"
          ],
          [
           0.4444444444444444,
           "#bd3786"
          ],
          [
           0.5555555555555556,
           "#d8576b"
          ],
          [
           0.6666666666666666,
           "#ed7953"
          ],
          [
           0.7777777777777778,
           "#fb9f3a"
          ],
          [
           0.8888888888888888,
           "#fdca26"
          ],
          [
           1,
           "#f0f921"
          ]
         ]
        },
        "legend": {
         "tracegroupgap": 0
        },
        "margin": {
         "t": 60
        },
        "scene": {
         "domain": {
          "x": [
           0,
           1
          ],
          "y": [
           0,
           1
          ]
         },
         "xaxis": {
          "title": {
           "text": "CustomerAge"
          }
         },
         "yaxis": {
          "title": {
           "text": "CreditScore"
          }
         },
         "zaxis": {
          "title": {
           "text": "CustomerCity"
          }
         }
        },
        "template": {
         "data": {
          "bar": [
           {
            "error_x": {
             "color": "#2a3f5f"
            },
            "error_y": {
             "color": "#2a3f5f"
            },
            "marker": {
             "line": {
              "color": "#E5ECF6",
              "width": 0.5
             },
             "pattern": {
              "fillmode": "overlay",
              "size": 10,
              "solidity": 0.2
             }
            },
            "type": "bar"
           }
          ],
          "barpolar": [
           {
            "marker": {
             "line": {
              "color": "#E5ECF6",
              "width": 0.5
             },
             "pattern": {
              "fillmode": "overlay",
              "size": 10,
              "solidity": 0.2
             }
            },
            "type": "barpolar"
           }
          ],
          "carpet": [
           {
            "aaxis": {
             "endlinecolor": "#2a3f5f",
             "gridcolor": "white",
             "linecolor": "white",
             "minorgridcolor": "white",
             "startlinecolor": "#2a3f5f"
            },
            "baxis": {
             "endlinecolor": "#2a3f5f",
             "gridcolor": "white",
             "linecolor": "white",
             "minorgridcolor": "white",
             "startlinecolor": "#2a3f5f"
            },
            "type": "carpet"
           }
          ],
          "choropleth": [
           {
            "colorbar": {
             "outlinewidth": 0,
             "ticks": ""
            },
            "type": "choropleth"
           }
          ],
          "contour": [
           {
            "colorbar": {
             "outlinewidth": 0,
             "ticks": ""
            },
            "colorscale": [
             [
              0,
              "#0d0887"
             ],
             [
              0.1111111111111111,
              "#46039f"
             ],
             [
              0.2222222222222222,
              "#7201a8"
             ],
             [
              0.3333333333333333,
              "#9c179e"
             ],
             [
              0.4444444444444444,
              "#bd3786"
             ],
             [
              0.5555555555555556,
              "#d8576b"
             ],
             [
              0.6666666666666666,
              "#ed7953"
             ],
             [
              0.7777777777777778,
              "#fb9f3a"
             ],
             [
              0.8888888888888888,
              "#fdca26"
             ],
             [
              1,
              "#f0f921"
             ]
            ],
            "type": "contour"
           }
          ],
          "contourcarpet": [
           {
            "colorbar": {
             "outlinewidth": 0,
             "ticks": ""
            },
            "type": "contourcarpet"
           }
          ],
          "heatmap": [
           {
            "colorbar": {
             "outlinewidth": 0,
             "ticks": ""
            },
            "colorscale": [
             [
              0,
              "#0d0887"
             ],
             [
              0.1111111111111111,
              "#46039f"
             ],
             [
              0.2222222222222222,
              "#7201a8"
             ],
             [
              0.3333333333333333,
              "#9c179e"
             ],
             [
              0.4444444444444444,
              "#bd3786"
             ],
             [
              0.5555555555555556,
              "#d8576b"
             ],
             [
              0.6666666666666666,
              "#ed7953"
             ],
             [
              0.7777777777777778,
              "#fb9f3a"
             ],
             [
              0.8888888888888888,
              "#fdca26"
             ],
             [
              1,
              "#f0f921"
             ]
            ],
            "type": "heatmap"
           }
          ],
          "heatmapgl": [
           {
            "colorbar": {
             "outlinewidth": 0,
             "ticks": ""
            },
            "colorscale": [
             [
              0,
              "#0d0887"
             ],
             [
              0.1111111111111111,
              "#46039f"
             ],
             [
              0.2222222222222222,
              "#7201a8"
             ],
             [
              0.3333333333333333,
              "#9c179e"
             ],
             [
              0.4444444444444444,
              "#bd3786"
             ],
             [
              0.5555555555555556,
              "#d8576b"
             ],
             [
              0.6666666666666666,
              "#ed7953"
             ],
             [
              0.7777777777777778,
              "#fb9f3a"
             ],
             [
              0.8888888888888888,
              "#fdca26"
             ],
             [
              1,
              "#f0f921"
             ]
            ],
            "type": "heatmapgl"
           }
          ],
          "histogram": [
           {
            "marker": {
             "pattern": {
              "fillmode": "overlay",
              "size": 10,
              "solidity": 0.2
             }
            },
            "type": "histogram"
           }
          ],
          "histogram2d": [
           {
            "colorbar": {
             "outlinewidth": 0,
             "ticks": ""
            },
            "colorscale": [
             [
              0,
              "#0d0887"
             ],
             [
              0.1111111111111111,
              "#46039f"
             ],
             [
              0.2222222222222222,
              "#7201a8"
             ],
             [
              0.3333333333333333,
              "#9c179e"
             ],
             [
              0.4444444444444444,
              "#bd3786"
             ],
             [
              0.5555555555555556,
              "#d8576b"
             ],
             [
              0.6666666666666666,
              "#ed7953"
             ],
             [
              0.7777777777777778,
              "#fb9f3a"
             ],
             [
              0.8888888888888888,
              "#fdca26"
             ],
             [
              1,
              "#f0f921"
             ]
            ],
            "type": "histogram2d"
           }
          ],
          "histogram2dcontour": [
           {
            "colorbar": {
             "outlinewidth": 0,
             "ticks": ""
            },
            "colorscale": [
             [
              0,
              "#0d0887"
             ],
             [
              0.1111111111111111,
              "#46039f"
             ],
             [
              0.2222222222222222,
              "#7201a8"
             ],
             [
              0.3333333333333333,
              "#9c179e"
             ],
             [
              0.4444444444444444,
              "#bd3786"
             ],
             [
              0.5555555555555556,
              "#d8576b"
             ],
             [
              0.6666666666666666,
              "#ed7953"
             ],
             [
              0.7777777777777778,
              "#fb9f3a"
             ],
             [
              0.8888888888888888,
              "#fdca26"
             ],
             [
              1,
              "#f0f921"
             ]
            ],
            "type": "histogram2dcontour"
           }
          ],
          "mesh3d": [
           {
            "colorbar": {
             "outlinewidth": 0,
             "ticks": ""
            },
            "type": "mesh3d"
           }
          ],
          "parcoords": [
           {
            "line": {
             "colorbar": {
              "outlinewidth": 0,
              "ticks": ""
             }
            },
            "type": "parcoords"
           }
          ],
          "pie": [
           {
            "automargin": true,
            "type": "pie"
           }
          ],
          "scatter": [
           {
            "marker": {
             "colorbar": {
              "outlinewidth": 0,
              "ticks": ""
             }
            },
            "type": "scatter"
           }
          ],
          "scatter3d": [
           {
            "line": {
             "colorbar": {
              "outlinewidth": 0,
              "ticks": ""
             }
            },
            "marker": {
             "colorbar": {
              "outlinewidth": 0,
              "ticks": ""
             }
            },
            "type": "scatter3d"
           }
          ],
          "scattercarpet": [
           {
            "marker": {
             "colorbar": {
              "outlinewidth": 0,
              "ticks": ""
             }
            },
            "type": "scattercarpet"
           }
          ],
          "scattergeo": [
           {
            "marker": {
             "colorbar": {
              "outlinewidth": 0,
              "ticks": ""
             }
            },
            "type": "scattergeo"
           }
          ],
          "scattergl": [
           {
            "marker": {
             "colorbar": {
              "outlinewidth": 0,
              "ticks": ""
             }
            },
            "type": "scattergl"
           }
          ],
          "scattermapbox": [
           {
            "marker": {
             "colorbar": {
              "outlinewidth": 0,
              "ticks": ""
             }
            },
            "type": "scattermapbox"
           }
          ],
          "scatterpolar": [
           {
            "marker": {
             "colorbar": {
              "outlinewidth": 0,
              "ticks": ""
             }
            },
            "type": "scatterpolar"
           }
          ],
          "scatterpolargl": [
           {
            "marker": {
             "colorbar": {
              "outlinewidth": 0,
              "ticks": ""
             }
            },
            "type": "scatterpolargl"
           }
          ],
          "scatterternary": [
           {
            "marker": {
             "colorbar": {
              "outlinewidth": 0,
              "ticks": ""
             }
            },
            "type": "scatterternary"
           }
          ],
          "surface": [
           {
            "colorbar": {
             "outlinewidth": 0,
             "ticks": ""
            },
            "colorscale": [
             [
              0,
              "#0d0887"
             ],
             [
              0.1111111111111111,
              "#46039f"
             ],
             [
              0.2222222222222222,
              "#7201a8"
             ],
             [
              0.3333333333333333,
              "#9c179e"
             ],
             [
              0.4444444444444444,
              "#bd3786"
             ],
             [
              0.5555555555555556,
              "#d8576b"
             ],
             [
              0.6666666666666666,
              "#ed7953"
             ],
             [
              0.7777777777777778,
              "#fb9f3a"
             ],
             [
              0.8888888888888888,
              "#fdca26"
             ],
             [
              1,
              "#f0f921"
             ]
            ],
            "type": "surface"
           }
          ],
          "table": [
           {
            "cells": {
             "fill": {
              "color": "#EBF0F8"
             },
             "line": {
              "color": "white"
             }
            },
            "header": {
             "fill": {
              "color": "#C8D4E3"
             },
             "line": {
              "color": "white"
             }
            },
            "type": "table"
           }
          ]
         },
         "layout": {
          "annotationdefaults": {
           "arrowcolor": "#2a3f5f",
           "arrowhead": 0,
           "arrowwidth": 1
          },
          "autotypenumbers": "strict",
          "coloraxis": {
           "colorbar": {
            "outlinewidth": 0,
            "ticks": ""
           }
          },
          "colorscale": {
           "diverging": [
            [
             0,
             "#8e0152"
            ],
            [
             0.1,
             "#c51b7d"
            ],
            [
             0.2,
             "#de77ae"
            ],
            [
             0.3,
             "#f1b6da"
            ],
            [
             0.4,
             "#fde0ef"
            ],
            [
             0.5,
             "#f7f7f7"
            ],
            [
             0.6,
             "#e6f5d0"
            ],
            [
             0.7,
             "#b8e186"
            ],
            [
             0.8,
             "#7fbc41"
            ],
            [
             0.9,
             "#4d9221"
            ],
            [
             1,
             "#276419"
            ]
           ],
           "sequential": [
            [
             0,
             "#0d0887"
            ],
            [
             0.1111111111111111,
             "#46039f"
            ],
            [
             0.2222222222222222,
             "#7201a8"
            ],
            [
             0.3333333333333333,
             "#9c179e"
            ],
            [
             0.4444444444444444,
             "#bd3786"
            ],
            [
             0.5555555555555556,
             "#d8576b"
            ],
            [
             0.6666666666666666,
             "#ed7953"
            ],
            [
             0.7777777777777778,
             "#fb9f3a"
            ],
            [
             0.8888888888888888,
             "#fdca26"
            ],
            [
             1,
             "#f0f921"
            ]
           ],
           "sequentialminus": [
            [
             0,
             "#0d0887"
            ],
            [
             0.1111111111111111,
             "#46039f"
            ],
            [
             0.2222222222222222,
             "#7201a8"
            ],
            [
             0.3333333333333333,
             "#9c179e"
            ],
            [
             0.4444444444444444,
             "#bd3786"
            ],
            [
             0.5555555555555556,
             "#d8576b"
            ],
            [
             0.6666666666666666,
             "#ed7953"
            ],
            [
             0.7777777777777778,
             "#fb9f3a"
            ],
            [
             0.8888888888888888,
             "#fdca26"
            ],
            [
             1,
             "#f0f921"
            ]
           ]
          },
          "colorway": [
           "#636efa",
           "#EF553B",
           "#00cc96",
           "#ab63fa",
           "#FFA15A",
           "#19d3f3",
           "#FF6692",
           "#B6E880",
           "#FF97FF",
           "#FECB52"
          ],
          "font": {
           "color": "#2a3f5f"
          },
          "geo": {
           "bgcolor": "white",
           "lakecolor": "white",
           "landcolor": "#E5ECF6",
           "showlakes": true,
           "showland": true,
           "subunitcolor": "white"
          },
          "hoverlabel": {
           "align": "left"
          },
          "hovermode": "closest",
          "mapbox": {
           "style": "light"
          },
          "paper_bgcolor": "white",
          "plot_bgcolor": "#E5ECF6",
          "polar": {
           "angularaxis": {
            "gridcolor": "white",
            "linecolor": "white",
            "ticks": ""
           },
           "bgcolor": "#E5ECF6",
           "radialaxis": {
            "gridcolor": "white",
            "linecolor": "white",
            "ticks": ""
           }
          },
          "scene": {
           "xaxis": {
            "backgroundcolor": "#E5ECF6",
            "gridcolor": "white",
            "gridwidth": 2,
            "linecolor": "white",
            "showbackground": true,
            "ticks": "",
            "zerolinecolor": "white"
           },
           "yaxis": {
            "backgroundcolor": "#E5ECF6",
            "gridcolor": "white",
            "gridwidth": 2,
            "linecolor": "white",
            "showbackground": true,
            "ticks": "",
            "zerolinecolor": "white"
           },
           "zaxis": {
            "backgroundcolor": "#E5ECF6",
            "gridcolor": "white",
            "gridwidth": 2,
            "linecolor": "white",
            "showbackground": true,
            "ticks": "",
            "zerolinecolor": "white"
           }
          },
          "shapedefaults": {
           "line": {
            "color": "#2a3f5f"
           }
          },
          "ternary": {
           "aaxis": {
            "gridcolor": "white",
            "linecolor": "white",
            "ticks": ""
           },
           "baxis": {
            "gridcolor": "white",
            "linecolor": "white",
            "ticks": ""
           },
           "bgcolor": "#E5ECF6",
           "caxis": {
            "gridcolor": "white",
            "linecolor": "white",
            "ticks": ""
           }
          },
          "title": {
           "x": 0.05
          },
          "xaxis": {
           "automargin": true,
           "gridcolor": "white",
           "linecolor": "white",
           "ticks": "",
           "title": {
            "standoff": 15
           },
           "zerolinecolor": "white",
           "zerolinewidth": 2
          },
          "yaxis": {
           "automargin": true,
           "gridcolor": "white",
           "linecolor": "white",
           "ticks": "",
           "title": {
            "standoff": 15
           },
           "zerolinecolor": "white",
           "zerolinewidth": 2
          }
         }
        }
       }
      },
      "text/html": [
       "<div>                            <div id=\"1d2c9206-837e-494b-8d30-0353a2957fd1\" class=\"plotly-graph-div\" style=\"height:525px; width:100%;\"></div>            <script type=\"text/javascript\">                require([\"plotly\"], function(Plotly) {                    window.PLOTLYENV=window.PLOTLYENV || {};                                    if (document.getElementById(\"1d2c9206-837e-494b-8d30-0353a2957fd1\")) {                    Plotly.newPlot(                        \"1d2c9206-837e-494b-8d30-0353a2957fd1\",                        [{\"hovertemplate\":\"CustomerAge=%{x}<br>CreditScore=%{y}<br>CustomerCity=%{z}<br>lable=%{marker.color}<extra></extra>\",\"legendgroup\":\"\",\"marker\":{\"color\":[4,4,3,5,5,0,0,2,1,6,4,5,3,2,4,8,5,9,9,6,1,4,6,9,5,1,6,4,3,0,4,5,1,8,0,3,2,2,2,2,2,4,4,6,3,6,5,2,0,0,6,4,6,9,6,7,5,4,2,4,9,7,5,5,4,1,2,3,1,2,4,5,6,2,7,1,3,4,0,0,7,9,8,0,3,9,5,0,3,3,3,8,8,2,5,9,3,2,1,1,5,0,7,4,1,0,6,7,1,9,1,2,0,7,0,3,2,3,6,3,1,2,3,1,2,6,1,4,4,4,8,9,3,6,9,3,6,4,9,0,5,4,0,6,9,9,7,3,5,8,7,7,6,0,5,2,8,5,4,2,5,3,7,3,1,0,4,0,2,1,4,9,4,4,2,2,8,1,1,7,5,5,8,0,0,8,6,1,0,3,3,2,4,5,0,3,5,1,7,1],\"coloraxis\":\"coloraxis\",\"symbol\":\"circle\"},\"mode\":\"markers\",\"name\":\"\",\"scene\":\"scene\",\"showlegend\":false,\"x\":[49,59,54,42,30,38,45,23,59,48,55,73,54,34,54,53,23,30,37,52,39,38,71,31,42,65,65,33,29,24,59,40,52,47,66,62,73,23,45,43,21,45,54,22,26,72,29,65,34,26,66,50,33,47,59,52,55,74,32,31,25,75,39,46,29,34,54,36,52,28,18,45,48,50,43,27,68,67,59,74,62,45,33,20,61,32,49,66,36,55,35,22,59,21,74,51,22,35,47,66,20,58,42,27,63,28,48,63,45,22,70,65,41,56,51,33,69,21,40,19,62,38,49,30,62,58,73,66,71,54,53,34,41,47,26,30,55,43,50,61,37,29,26,22,56,70,38,37,62,19,46,50,48,53,70,60,37,57,66,27,21,22,18,18,38,23,21,44,72,63,50,56,59,44,20,33,49,22,64,31,53,23,26,63,43,62,74,66,45,62,61,47,74,48,48,54,20,44,28,41],\"y\":[653,630,555,699,793,635,881,852,708,669,618,614,711,629,764,880,729,803,817,774,672,691,669,555,778,623,782,588,684,698,562,774,777,769,755,789,575,850,715,639,817,731,704,712,713,874,751,761,633,632,763,701,784,854,692,751,648,865,863,622,817,868,849,565,665,632,670,736,687,561,892,724,583,760,555,712,880,873,715,897,801,600,768,807,626,654,742,738,805,808,625,695,656,678,859,616,861,814,616,653,575,576,575,666,876,568,849,564,654,565,782,667,593,606,553,827,559,806,620,857,804,858,695,800,624,767,630,808,790,726,624,746,895,781,868,894,707,552,842,567,636,756,894,887,647,657,607,637,884,551,892,616,886,868,669,605,854,742,803,707,633,827,742,586,581,786,718,755,836,725,573,605,890,657,779,666,779,844,733,571,601,701,838,573,896,824,615,770,831,676,559,784,608,568,833,601,554,844,837,789],\"z\":[\"Bengaluru\",\"Bengaluru\",\"Delhi\",\"Bengaluru\",\"Bengaluru\",\"Chennai\",\"Chennai\",\"Mumbai\",\"Chennai\",\"Kolkata\",\"Bengaluru\",\"Bengaluru\",\"Delhi\",\"Mumbai\",\"Bengaluru\",\"Kolkata\",\"Bengaluru\",\"Mumbai\",\"Mumbai\",\"Kolkata\",\"Chennai\",\"Bengaluru\",\"Kolkata\",\"Mumbai\",\"Bengaluru\",\"Chennai\",\"Kolkata\",\"Bengaluru\",\"Delhi\",\"Chennai\",\"Bengaluru\",\"Bengaluru\",\"Chennai\",\"Kolkata\",\"Chennai\",\"Delhi\",\"Mumbai\",\"Mumbai\",\"Mumbai\",\"Mumbai\",\"Mumbai\",\"Bengaluru\",\"Bengaluru\",\"Kolkata\",\"Delhi\",\"Kolkata\",\"Bengaluru\",\"Mumbai\",\"Chennai\",\"Chennai\",\"Kolkata\",\"Bengaluru\",\"Kolkata\",\"Mumbai\",\"Kolkata\",\"Delhi\",\"Bengaluru\",\"Bengaluru\",\"Mumbai\",\"Bengaluru\",\"Mumbai\",\"Delhi\",\"Bengaluru\",\"Bengaluru\",\"Bengaluru\",\"Chennai\",\"Mumbai\",\"Delhi\",\"Chennai\",\"Mumbai\",\"Bengaluru\",\"Bengaluru\",\"Kolkata\",\"Mumbai\",\"Delhi\",\"Chennai\",\"Delhi\",\"Bengaluru\",\"Chennai\",\"Chennai\",\"Delhi\",\"Mumbai\",\"Kolkata\",\"Chennai\",\"Delhi\",\"Mumbai\",\"Bengaluru\",\"Chennai\",\"Delhi\",\"Delhi\",\"Delhi\",\"Kolkata\",\"Kolkata\",\"Mumbai\",\"Bengaluru\",\"Mumbai\",\"Delhi\",\"Mumbai\",\"Chennai\",\"Chennai\",\"Bengaluru\",\"Chennai\",\"Delhi\",\"Bengaluru\",\"Chennai\",\"Chennai\",\"Kolkata\",\"Delhi\",\"Chennai\",\"Mumbai\",\"Chennai\",\"Mumbai\",\"Chennai\",\"Delhi\",\"Chennai\",\"Delhi\",\"Mumbai\",\"Delhi\",\"Kolkata\",\"Delhi\",\"Chennai\",\"Mumbai\",\"Delhi\",\"Chennai\",\"Mumbai\",\"Kolkata\",\"Chennai\",\"Bengaluru\",\"Bengaluru\",\"Bengaluru\",\"Kolkata\",\"Mumbai\",\"Delhi\",\"Kolkata\",\"Mumbai\",\"Delhi\",\"Kolkata\",\"Bengaluru\",\"Mumbai\",\"Chennai\",\"Bengaluru\",\"Bengaluru\",\"Chennai\",\"Kolkata\",\"Mumbai\",\"Mumbai\",\"Delhi\",\"Delhi\",\"Bengaluru\",\"Kolkata\",\"Delhi\",\"Delhi\",\"Kolkata\",\"Chennai\",\"Bengaluru\",\"Mumbai\",\"Kolkata\",\"Bengaluru\",\"Bengaluru\",\"Mumbai\",\"Bengaluru\",\"Delhi\",\"Delhi\",\"Delhi\",\"Chennai\",\"Chennai\",\"Bengaluru\",\"Chennai\",\"Mumbai\",\"Chennai\",\"Bengaluru\",\"Mumbai\",\"Bengaluru\",\"Bengaluru\",\"Mumbai\",\"Mumbai\",\"Kolkata\",\"Chennai\",\"Chennai\",\"Delhi\",\"Bengaluru\",\"Bengaluru\",\"Kolkata\",\"Chennai\",\"Chennai\",\"Kolkata\",\"Kolkata\",\"Chennai\",\"Chennai\",\"Delhi\",\"Delhi\",\"Mumbai\",\"Bengaluru\",\"Bengaluru\",\"Chennai\",\"Delhi\",\"Bengaluru\",\"Chennai\",\"Delhi\",\"Chennai\"],\"type\":\"scatter3d\"}],                        {\"template\":{\"data\":{\"bar\":[{\"error_x\":{\"color\":\"#2a3f5f\"},\"error_y\":{\"color\":\"#2a3f5f\"},\"marker\":{\"line\":{\"color\":\"#E5ECF6\",\"width\":0.5},\"pattern\":{\"fillmode\":\"overlay\",\"size\":10,\"solidity\":0.2}},\"type\":\"bar\"}],\"barpolar\":[{\"marker\":{\"line\":{\"color\":\"#E5ECF6\",\"width\":0.5},\"pattern\":{\"fillmode\":\"overlay\",\"size\":10,\"solidity\":0.2}},\"type\":\"barpolar\"}],\"carpet\":[{\"aaxis\":{\"endlinecolor\":\"#2a3f5f\",\"gridcolor\":\"white\",\"linecolor\":\"white\",\"minorgridcolor\":\"white\",\"startlinecolor\":\"#2a3f5f\"},\"baxis\":{\"endlinecolor\":\"#2a3f5f\",\"gridcolor\":\"white\",\"linecolor\":\"white\",\"minorgridcolor\":\"white\",\"startlinecolor\":\"#2a3f5f\"},\"type\":\"carpet\"}],\"choropleth\":[{\"colorbar\":{\"outlinewidth\":0,\"ticks\":\"\"},\"type\":\"choropleth\"}],\"contour\":[{\"colorbar\":{\"outlinewidth\":0,\"ticks\":\"\"},\"colorscale\":[[0.0,\"#0d0887\"],[0.1111111111111111,\"#46039f\"],[0.2222222222222222,\"#7201a8\"],[0.3333333333333333,\"#9c179e\"],[0.4444444444444444,\"#bd3786\"],[0.5555555555555556,\"#d8576b\"],[0.6666666666666666,\"#ed7953\"],[0.7777777777777778,\"#fb9f3a\"],[0.8888888888888888,\"#fdca26\"],[1.0,\"#f0f921\"]],\"type\":\"contour\"}],\"contourcarpet\":[{\"colorbar\":{\"outlinewidth\":0,\"ticks\":\"\"},\"type\":\"contourcarpet\"}],\"heatmap\":[{\"colorbar\":{\"outlinewidth\":0,\"ticks\":\"\"},\"colorscale\":[[0.0,\"#0d0887\"],[0.1111111111111111,\"#46039f\"],[0.2222222222222222,\"#7201a8\"],[0.3333333333333333,\"#9c179e\"],[0.4444444444444444,\"#bd3786\"],[0.5555555555555556,\"#d8576b\"],[0.6666666666666666,\"#ed7953\"],[0.7777777777777778,\"#fb9f3a\"],[0.8888888888888888,\"#fdca26\"],[1.0,\"#f0f921\"]],\"type\":\"heatmap\"}],\"heatmapgl\":[{\"colorbar\":{\"outlinewidth\":0,\"ticks\":\"\"},\"colorscale\":[[0.0,\"#0d0887\"],[0.1111111111111111,\"#46039f\"],[0.2222222222222222,\"#7201a8\"],[0.3333333333333333,\"#9c179e\"],[0.4444444444444444,\"#bd3786\"],[0.5555555555555556,\"#d8576b\"],[0.6666666666666666,\"#ed7953\"],[0.7777777777777778,\"#fb9f3a\"],[0.8888888888888888,\"#fdca26\"],[1.0,\"#f0f921\"]],\"type\":\"heatmapgl\"}],\"histogram\":[{\"marker\":{\"pattern\":{\"fillmode\":\"overlay\",\"size\":10,\"solidity\":0.2}},\"type\":\"histogram\"}],\"histogram2d\":[{\"colorbar\":{\"outlinewidth\":0,\"ticks\":\"\"},\"colorscale\":[[0.0,\"#0d0887\"],[0.1111111111111111,\"#46039f\"],[0.2222222222222222,\"#7201a8\"],[0.3333333333333333,\"#9c179e\"],[0.4444444444444444,\"#bd3786\"],[0.5555555555555556,\"#d8576b\"],[0.6666666666666666,\"#ed7953\"],[0.7777777777777778,\"#fb9f3a\"],[0.8888888888888888,\"#fdca26\"],[1.0,\"#f0f921\"]],\"type\":\"histogram2d\"}],\"histogram2dcontour\":[{\"colorbar\":{\"outlinewidth\":0,\"ticks\":\"\"},\"colorscale\":[[0.0,\"#0d0887\"],[0.1111111111111111,\"#46039f\"],[0.2222222222222222,\"#7201a8\"],[0.3333333333333333,\"#9c179e\"],[0.4444444444444444,\"#bd3786\"],[0.5555555555555556,\"#d8576b\"],[0.6666666666666666,\"#ed7953\"],[0.7777777777777778,\"#fb9f3a\"],[0.8888888888888888,\"#fdca26\"],[1.0,\"#f0f921\"]],\"type\":\"histogram2dcontour\"}],\"mesh3d\":[{\"colorbar\":{\"outlinewidth\":0,\"ticks\":\"\"},\"type\":\"mesh3d\"}],\"parcoords\":[{\"line\":{\"colorbar\":{\"outlinewidth\":0,\"ticks\":\"\"}},\"type\":\"parcoords\"}],\"pie\":[{\"automargin\":true,\"type\":\"pie\"}],\"scatter\":[{\"marker\":{\"colorbar\":{\"outlinewidth\":0,\"ticks\":\"\"}},\"type\":\"scatter\"}],\"scatter3d\":[{\"line\":{\"colorbar\":{\"outlinewidth\":0,\"ticks\":\"\"}},\"marker\":{\"colorbar\":{\"outlinewidth\":0,\"ticks\":\"\"}},\"type\":\"scatter3d\"}],\"scattercarpet\":[{\"marker\":{\"colorbar\":{\"outlinewidth\":0,\"ticks\":\"\"}},\"type\":\"scattercarpet\"}],\"scattergeo\":[{\"marker\":{\"colorbar\":{\"outlinewidth\":0,\"ticks\":\"\"}},\"type\":\"scattergeo\"}],\"scattergl\":[{\"marker\":{\"colorbar\":{\"outlinewidth\":0,\"ticks\":\"\"}},\"type\":\"scattergl\"}],\"scattermapbox\":[{\"marker\":{\"colorbar\":{\"outlinewidth\":0,\"ticks\":\"\"}},\"type\":\"scattermapbox\"}],\"scatterpolar\":[{\"marker\":{\"colorbar\":{\"outlinewidth\":0,\"ticks\":\"\"}},\"type\":\"scatterpolar\"}],\"scatterpolargl\":[{\"marker\":{\"colorbar\":{\"outlinewidth\":0,\"ticks\":\"\"}},\"type\":\"scatterpolargl\"}],\"scatterternary\":[{\"marker\":{\"colorbar\":{\"outlinewidth\":0,\"ticks\":\"\"}},\"type\":\"scatterternary\"}],\"surface\":[{\"colorbar\":{\"outlinewidth\":0,\"ticks\":\"\"},\"colorscale\":[[0.0,\"#0d0887\"],[0.1111111111111111,\"#46039f\"],[0.2222222222222222,\"#7201a8\"],[0.3333333333333333,\"#9c179e\"],[0.4444444444444444,\"#bd3786\"],[0.5555555555555556,\"#d8576b\"],[0.6666666666666666,\"#ed7953\"],[0.7777777777777778,\"#fb9f3a\"],[0.8888888888888888,\"#fdca26\"],[1.0,\"#f0f921\"]],\"type\":\"surface\"}],\"table\":[{\"cells\":{\"fill\":{\"color\":\"#EBF0F8\"},\"line\":{\"color\":\"white\"}},\"header\":{\"fill\":{\"color\":\"#C8D4E3\"},\"line\":{\"color\":\"white\"}},\"type\":\"table\"}]},\"layout\":{\"annotationdefaults\":{\"arrowcolor\":\"#2a3f5f\",\"arrowhead\":0,\"arrowwidth\":1},\"autotypenumbers\":\"strict\",\"coloraxis\":{\"colorbar\":{\"outlinewidth\":0,\"ticks\":\"\"}},\"colorscale\":{\"diverging\":[[0,\"#8e0152\"],[0.1,\"#c51b7d\"],[0.2,\"#de77ae\"],[0.3,\"#f1b6da\"],[0.4,\"#fde0ef\"],[0.5,\"#f7f7f7\"],[0.6,\"#e6f5d0\"],[0.7,\"#b8e186\"],[0.8,\"#7fbc41\"],[0.9,\"#4d9221\"],[1,\"#276419\"]],\"sequential\":[[0.0,\"#0d0887\"],[0.1111111111111111,\"#46039f\"],[0.2222222222222222,\"#7201a8\"],[0.3333333333333333,\"#9c179e\"],[0.4444444444444444,\"#bd3786\"],[0.5555555555555556,\"#d8576b\"],[0.6666666666666666,\"#ed7953\"],[0.7777777777777778,\"#fb9f3a\"],[0.8888888888888888,\"#fdca26\"],[1.0,\"#f0f921\"]],\"sequentialminus\":[[0.0,\"#0d0887\"],[0.1111111111111111,\"#46039f\"],[0.2222222222222222,\"#7201a8\"],[0.3333333333333333,\"#9c179e\"],[0.4444444444444444,\"#bd3786\"],[0.5555555555555556,\"#d8576b\"],[0.6666666666666666,\"#ed7953\"],[0.7777777777777778,\"#fb9f3a\"],[0.8888888888888888,\"#fdca26\"],[1.0,\"#f0f921\"]]},\"colorway\":[\"#636efa\",\"#EF553B\",\"#00cc96\",\"#ab63fa\",\"#FFA15A\",\"#19d3f3\",\"#FF6692\",\"#B6E880\",\"#FF97FF\",\"#FECB52\"],\"font\":{\"color\":\"#2a3f5f\"},\"geo\":{\"bgcolor\":\"white\",\"lakecolor\":\"white\",\"landcolor\":\"#E5ECF6\",\"showlakes\":true,\"showland\":true,\"subunitcolor\":\"white\"},\"hoverlabel\":{\"align\":\"left\"},\"hovermode\":\"closest\",\"mapbox\":{\"style\":\"light\"},\"paper_bgcolor\":\"white\",\"plot_bgcolor\":\"#E5ECF6\",\"polar\":{\"angularaxis\":{\"gridcolor\":\"white\",\"linecolor\":\"white\",\"ticks\":\"\"},\"bgcolor\":\"#E5ECF6\",\"radialaxis\":{\"gridcolor\":\"white\",\"linecolor\":\"white\",\"ticks\":\"\"}},\"scene\":{\"xaxis\":{\"backgroundcolor\":\"#E5ECF6\",\"gridcolor\":\"white\",\"gridwidth\":2,\"linecolor\":\"white\",\"showbackground\":true,\"ticks\":\"\",\"zerolinecolor\":\"white\"},\"yaxis\":{\"backgroundcolor\":\"#E5ECF6\",\"gridcolor\":\"white\",\"gridwidth\":2,\"linecolor\":\"white\",\"showbackground\":true,\"ticks\":\"\",\"zerolinecolor\":\"white\"},\"zaxis\":{\"backgroundcolor\":\"#E5ECF6\",\"gridcolor\":\"white\",\"gridwidth\":2,\"linecolor\":\"white\",\"showbackground\":true,\"ticks\":\"\",\"zerolinecolor\":\"white\"}},\"shapedefaults\":{\"line\":{\"color\":\"#2a3f5f\"}},\"ternary\":{\"aaxis\":{\"gridcolor\":\"white\",\"linecolor\":\"white\",\"ticks\":\"\"},\"baxis\":{\"gridcolor\":\"white\",\"linecolor\":\"white\",\"ticks\":\"\"},\"bgcolor\":\"#E5ECF6\",\"caxis\":{\"gridcolor\":\"white\",\"linecolor\":\"white\",\"ticks\":\"\"}},\"title\":{\"x\":0.05},\"xaxis\":{\"automargin\":true,\"gridcolor\":\"white\",\"linecolor\":\"white\",\"ticks\":\"\",\"title\":{\"standoff\":15},\"zerolinecolor\":\"white\",\"zerolinewidth\":2},\"yaxis\":{\"automargin\":true,\"gridcolor\":\"white\",\"linecolor\":\"white\",\"ticks\":\"\",\"title\":{\"standoff\":15},\"zerolinecolor\":\"white\",\"zerolinewidth\":2}}},\"scene\":{\"domain\":{\"x\":[0.0,1.0],\"y\":[0.0,1.0]},\"xaxis\":{\"title\":{\"text\":\"CustomerAge\"}},\"yaxis\":{\"title\":{\"text\":\"CreditScore\"}},\"zaxis\":{\"title\":{\"text\":\"CustomerCity\"}}},\"coloraxis\":{\"colorbar\":{\"title\":{\"text\":\"lable\"}},\"colorscale\":[[0.0,\"#0d0887\"],[0.1111111111111111,\"#46039f\"],[0.2222222222222222,\"#7201a8\"],[0.3333333333333333,\"#9c179e\"],[0.4444444444444444,\"#bd3786\"],[0.5555555555555556,\"#d8576b\"],[0.6666666666666666,\"#ed7953\"],[0.7777777777777778,\"#fb9f3a\"],[0.8888888888888888,\"#fdca26\"],[1.0,\"#f0f921\"]]},\"legend\":{\"tracegroupgap\":0},\"margin\":{\"t\":60}},                        {\"responsive\": true}                    ).then(function(){\n",
       "                            \n",
       "var gd = document.getElementById('1d2c9206-837e-494b-8d30-0353a2957fd1');\n",
       "var x = new MutationObserver(function (mutations, observer) {{\n",
       "        var display = window.getComputedStyle(gd).display;\n",
       "        if (!display || display === 'none') {{\n",
       "            console.log([gd, 'removed!']);\n",
       "            Plotly.purge(gd);\n",
       "            observer.disconnect();\n",
       "        }}\n",
       "}});\n",
       "\n",
       "// Listen for the removal of the full notebook cells\n",
       "var notebookContainer = gd.closest('#notebook-container');\n",
       "if (notebookContainer) {{\n",
       "    x.observe(notebookContainer, {childList: true});\n",
       "}}\n",
       "\n",
       "// Listen for the clearing of the current output cell\n",
       "var outputEl = gd.closest('.output');\n",
       "if (outputEl) {{\n",
       "    x.observe(outputEl, {childList: true});\n",
       "}}\n",
       "\n",
       "                        })                };                });            </script>        </div>"
      ]
     },
     "metadata": {},
     "output_type": "display_data"
    }
   ],
   "source": [
    "kmean=KMeans(n_clusters=10,max_iter=400).fit(X)\n",
    "\n",
    "lables=kmean.predict(X)\n",
    "\n",
    "K_DF=df.copy()\n",
    "\n",
    "K_DF['lable']=lables\n",
    "\n",
    "score = silhouette_score(X,lables)\n",
    "print (\"Silhouette Score\", score)\n",
    "\n",
    "\n",
    "\n",
    "px.scatter_3d(K_DF, 'CustomerAge', 'CreditScore', 'CustomerCity', color='lable')"
   ]
  },
  {
   "cell_type": "markdown",
   "metadata": {},
   "source": [
    "# Gaussian Mixture \n",
    "\n",
    "- Here we use AIC and BIC to evaluate model\n"
   ]
  },
  {
   "cell_type": "code",
   "execution_count": 97,
   "metadata": {
    "scrolled": false
   },
   "outputs": [
    {
     "data": {
      "application/vnd.plotly.v1+json": {
       "config": {
        "plotlyServerURL": "https://plot.ly"
       },
       "data": [
        {
         "hovertemplate": "CustomerAge=%{x}<br>CreditScore=%{y}<br>CustomerCity=%{z}<br>lable=%{marker.color}<extra></extra>",
         "legendgroup": "",
         "marker": {
          "color": [
           1,
           1,
           2,
           2,
           2,
           2,
           2,
           2,
           0,
           2,
           1,
           2,
           2,
           2,
           1,
           1,
           2,
           1,
           1,
           2,
           0,
           1,
           2,
           1,
           2,
           0,
           2,
           1,
           2,
           2,
           1,
           2,
           0,
           1,
           2,
           2,
           2,
           2,
           2,
           2,
           2,
           1,
           1,
           2,
           2,
           2,
           2,
           2,
           2,
           2,
           2,
           1,
           2,
           1,
           2,
           1,
           2,
           1,
           2,
           1,
           1,
           1,
           2,
           2,
           1,
           0,
           2,
           2,
           0,
           2,
           1,
           2,
           2,
           2,
           1,
           0,
           2,
           1,
           2,
           2,
           1,
           1,
           1,
           2,
           2,
           1,
           2,
           2,
           2,
           2,
           2,
           1,
           1,
           2,
           2,
           1,
           2,
           2,
           0,
           0,
           2,
           2,
           1,
           1,
           0,
           2,
           2,
           1,
           0,
           1,
           0,
           2,
           2,
           1,
           2,
           2,
           2,
           2,
           2,
           2,
           0,
           2,
           2,
           0,
           2,
           2,
           0,
           1,
           1,
           1,
           1,
           1,
           2,
           2,
           1,
           2,
           2,
           1,
           1,
           2,
           2,
           1,
           2,
           2,
           1,
           1,
           1,
           2,
           2,
           1,
           1,
           1,
           2,
           2,
           2,
           2,
           1,
           2,
           1,
           2,
           2,
           2,
           1,
           2,
           0,
           2,
           1,
           2,
           2,
           0,
           1,
           1,
           1,
           1,
           2,
           2,
           1,
           0,
           0,
           1,
           2,
           2,
           1,
           2,
           2,
           1,
           2,
           0,
           2,
           2,
           2,
           2,
           1,
           2,
           2,
           2,
           2,
           0,
           1,
           0
          ],
          "coloraxis": "coloraxis",
          "symbol": "circle"
         },
         "mode": "markers",
         "name": "",
         "scene": "scene",
         "showlegend": false,
         "type": "scatter3d",
         "x": [
          49,
          59,
          54,
          42,
          30,
          38,
          45,
          23,
          59,
          48,
          55,
          73,
          54,
          34,
          54,
          53,
          23,
          30,
          37,
          52,
          39,
          38,
          71,
          31,
          42,
          65,
          65,
          33,
          29,
          24,
          59,
          40,
          52,
          47,
          66,
          62,
          73,
          23,
          45,
          43,
          21,
          45,
          54,
          22,
          26,
          72,
          29,
          65,
          34,
          26,
          66,
          50,
          33,
          47,
          59,
          52,
          55,
          74,
          32,
          31,
          25,
          75,
          39,
          46,
          29,
          34,
          54,
          36,
          52,
          28,
          18,
          45,
          48,
          50,
          43,
          27,
          68,
          67,
          59,
          74,
          62,
          45,
          33,
          20,
          61,
          32,
          49,
          66,
          36,
          55,
          35,
          22,
          59,
          21,
          74,
          51,
          22,
          35,
          47,
          66,
          20,
          58,
          42,
          27,
          63,
          28,
          48,
          63,
          45,
          22,
          70,
          65,
          41,
          56,
          51,
          33,
          69,
          21,
          40,
          19,
          62,
          38,
          49,
          30,
          62,
          58,
          73,
          66,
          71,
          54,
          53,
          34,
          41,
          47,
          26,
          30,
          55,
          43,
          50,
          61,
          37,
          29,
          26,
          22,
          56,
          70,
          38,
          37,
          62,
          19,
          46,
          50,
          48,
          53,
          70,
          60,
          37,
          57,
          66,
          27,
          21,
          22,
          18,
          18,
          38,
          23,
          21,
          44,
          72,
          63,
          50,
          56,
          59,
          44,
          20,
          33,
          49,
          22,
          64,
          31,
          53,
          23,
          26,
          63,
          43,
          62,
          74,
          66,
          45,
          62,
          61,
          47,
          74,
          48,
          48,
          54,
          20,
          44,
          28,
          41
         ],
         "y": [
          653,
          630,
          555,
          699,
          793,
          635,
          881,
          852,
          708,
          669,
          618,
          614,
          711,
          629,
          764,
          880,
          729,
          803,
          817,
          774,
          672,
          691,
          669,
          555,
          778,
          623,
          782,
          588,
          684,
          698,
          562,
          774,
          777,
          769,
          755,
          789,
          575,
          850,
          715,
          639,
          817,
          731,
          704,
          712,
          713,
          874,
          751,
          761,
          633,
          632,
          763,
          701,
          784,
          854,
          692,
          751,
          648,
          865,
          863,
          622,
          817,
          868,
          849,
          565,
          665,
          632,
          670,
          736,
          687,
          561,
          892,
          724,
          583,
          760,
          555,
          712,
          880,
          873,
          715,
          897,
          801,
          600,
          768,
          807,
          626,
          654,
          742,
          738,
          805,
          808,
          625,
          695,
          656,
          678,
          859,
          616,
          861,
          814,
          616,
          653,
          575,
          576,
          575,
          666,
          876,
          568,
          849,
          564,
          654,
          565,
          782,
          667,
          593,
          606,
          553,
          827,
          559,
          806,
          620,
          857,
          804,
          858,
          695,
          800,
          624,
          767,
          630,
          808,
          790,
          726,
          624,
          746,
          895,
          781,
          868,
          894,
          707,
          552,
          842,
          567,
          636,
          756,
          894,
          887,
          647,
          657,
          607,
          637,
          884,
          551,
          892,
          616,
          886,
          868,
          669,
          605,
          854,
          742,
          803,
          707,
          633,
          827,
          742,
          586,
          581,
          786,
          718,
          755,
          836,
          725,
          573,
          605,
          890,
          657,
          779,
          666,
          779,
          844,
          733,
          571,
          601,
          701,
          838,
          573,
          896,
          824,
          615,
          770,
          831,
          676,
          559,
          784,
          608,
          568,
          833,
          601,
          554,
          844,
          837,
          789
         ],
         "z": [
          "Bengaluru",
          "Bengaluru",
          "Delhi",
          "Bengaluru",
          "Bengaluru",
          "Chennai",
          "Chennai",
          "Mumbai",
          "Chennai",
          "Kolkata",
          "Bengaluru",
          "Bengaluru",
          "Delhi",
          "Mumbai",
          "Bengaluru",
          "Kolkata",
          "Bengaluru",
          "Mumbai",
          "Mumbai",
          "Kolkata",
          "Chennai",
          "Bengaluru",
          "Kolkata",
          "Mumbai",
          "Bengaluru",
          "Chennai",
          "Kolkata",
          "Bengaluru",
          "Delhi",
          "Chennai",
          "Bengaluru",
          "Bengaluru",
          "Chennai",
          "Kolkata",
          "Chennai",
          "Delhi",
          "Mumbai",
          "Mumbai",
          "Mumbai",
          "Mumbai",
          "Mumbai",
          "Bengaluru",
          "Bengaluru",
          "Kolkata",
          "Delhi",
          "Kolkata",
          "Bengaluru",
          "Mumbai",
          "Chennai",
          "Chennai",
          "Kolkata",
          "Bengaluru",
          "Kolkata",
          "Mumbai",
          "Kolkata",
          "Delhi",
          "Bengaluru",
          "Bengaluru",
          "Mumbai",
          "Bengaluru",
          "Mumbai",
          "Delhi",
          "Bengaluru",
          "Bengaluru",
          "Bengaluru",
          "Chennai",
          "Mumbai",
          "Delhi",
          "Chennai",
          "Mumbai",
          "Bengaluru",
          "Bengaluru",
          "Kolkata",
          "Mumbai",
          "Delhi",
          "Chennai",
          "Delhi",
          "Bengaluru",
          "Chennai",
          "Chennai",
          "Delhi",
          "Mumbai",
          "Kolkata",
          "Chennai",
          "Delhi",
          "Mumbai",
          "Bengaluru",
          "Chennai",
          "Delhi",
          "Delhi",
          "Delhi",
          "Kolkata",
          "Kolkata",
          "Mumbai",
          "Bengaluru",
          "Mumbai",
          "Delhi",
          "Mumbai",
          "Chennai",
          "Chennai",
          "Bengaluru",
          "Chennai",
          "Delhi",
          "Bengaluru",
          "Chennai",
          "Chennai",
          "Kolkata",
          "Delhi",
          "Chennai",
          "Mumbai",
          "Chennai",
          "Mumbai",
          "Chennai",
          "Delhi",
          "Chennai",
          "Delhi",
          "Mumbai",
          "Delhi",
          "Kolkata",
          "Delhi",
          "Chennai",
          "Mumbai",
          "Delhi",
          "Chennai",
          "Mumbai",
          "Kolkata",
          "Chennai",
          "Bengaluru",
          "Bengaluru",
          "Bengaluru",
          "Kolkata",
          "Mumbai",
          "Delhi",
          "Kolkata",
          "Mumbai",
          "Delhi",
          "Kolkata",
          "Bengaluru",
          "Mumbai",
          "Chennai",
          "Bengaluru",
          "Bengaluru",
          "Chennai",
          "Kolkata",
          "Mumbai",
          "Mumbai",
          "Delhi",
          "Delhi",
          "Bengaluru",
          "Kolkata",
          "Delhi",
          "Delhi",
          "Kolkata",
          "Chennai",
          "Bengaluru",
          "Mumbai",
          "Kolkata",
          "Bengaluru",
          "Bengaluru",
          "Mumbai",
          "Bengaluru",
          "Delhi",
          "Delhi",
          "Delhi",
          "Chennai",
          "Chennai",
          "Bengaluru",
          "Chennai",
          "Mumbai",
          "Chennai",
          "Bengaluru",
          "Mumbai",
          "Bengaluru",
          "Bengaluru",
          "Mumbai",
          "Mumbai",
          "Kolkata",
          "Chennai",
          "Chennai",
          "Delhi",
          "Bengaluru",
          "Bengaluru",
          "Kolkata",
          "Chennai",
          "Chennai",
          "Kolkata",
          "Kolkata",
          "Chennai",
          "Chennai",
          "Delhi",
          "Delhi",
          "Mumbai",
          "Bengaluru",
          "Bengaluru",
          "Chennai",
          "Delhi",
          "Bengaluru",
          "Chennai",
          "Delhi",
          "Chennai"
         ]
        }
       ],
       "layout": {
        "coloraxis": {
         "colorbar": {
          "title": {
           "text": "lable"
          }
         },
         "colorscale": [
          [
           0,
           "#0d0887"
          ],
          [
           0.1111111111111111,
           "#46039f"
          ],
          [
           0.2222222222222222,
           "#7201a8"
          ],
          [
           0.3333333333333333,
           "#9c179e"
          ],
          [
           0.4444444444444444,
           "#bd3786"
          ],
          [
           0.5555555555555556,
           "#d8576b"
          ],
          [
           0.6666666666666666,
           "#ed7953"
          ],
          [
           0.7777777777777778,
           "#fb9f3a"
          ],
          [
           0.8888888888888888,
           "#fdca26"
          ],
          [
           1,
           "#f0f921"
          ]
         ]
        },
        "legend": {
         "tracegroupgap": 0
        },
        "margin": {
         "t": 60
        },
        "scene": {
         "domain": {
          "x": [
           0,
           1
          ],
          "y": [
           0,
           1
          ]
         },
         "xaxis": {
          "title": {
           "text": "CustomerAge"
          }
         },
         "yaxis": {
          "title": {
           "text": "CreditScore"
          }
         },
         "zaxis": {
          "title": {
           "text": "CustomerCity"
          }
         }
        },
        "template": {
         "data": {
          "bar": [
           {
            "error_x": {
             "color": "#2a3f5f"
            },
            "error_y": {
             "color": "#2a3f5f"
            },
            "marker": {
             "line": {
              "color": "#E5ECF6",
              "width": 0.5
             },
             "pattern": {
              "fillmode": "overlay",
              "size": 10,
              "solidity": 0.2
             }
            },
            "type": "bar"
           }
          ],
          "barpolar": [
           {
            "marker": {
             "line": {
              "color": "#E5ECF6",
              "width": 0.5
             },
             "pattern": {
              "fillmode": "overlay",
              "size": 10,
              "solidity": 0.2
             }
            },
            "type": "barpolar"
           }
          ],
          "carpet": [
           {
            "aaxis": {
             "endlinecolor": "#2a3f5f",
             "gridcolor": "white",
             "linecolor": "white",
             "minorgridcolor": "white",
             "startlinecolor": "#2a3f5f"
            },
            "baxis": {
             "endlinecolor": "#2a3f5f",
             "gridcolor": "white",
             "linecolor": "white",
             "minorgridcolor": "white",
             "startlinecolor": "#2a3f5f"
            },
            "type": "carpet"
           }
          ],
          "choropleth": [
           {
            "colorbar": {
             "outlinewidth": 0,
             "ticks": ""
            },
            "type": "choropleth"
           }
          ],
          "contour": [
           {
            "colorbar": {
             "outlinewidth": 0,
             "ticks": ""
            },
            "colorscale": [
             [
              0,
              "#0d0887"
             ],
             [
              0.1111111111111111,
              "#46039f"
             ],
             [
              0.2222222222222222,
              "#7201a8"
             ],
             [
              0.3333333333333333,
              "#9c179e"
             ],
             [
              0.4444444444444444,
              "#bd3786"
             ],
             [
              0.5555555555555556,
              "#d8576b"
             ],
             [
              0.6666666666666666,
              "#ed7953"
             ],
             [
              0.7777777777777778,
              "#fb9f3a"
             ],
             [
              0.8888888888888888,
              "#fdca26"
             ],
             [
              1,
              "#f0f921"
             ]
            ],
            "type": "contour"
           }
          ],
          "contourcarpet": [
           {
            "colorbar": {
             "outlinewidth": 0,
             "ticks": ""
            },
            "type": "contourcarpet"
           }
          ],
          "heatmap": [
           {
            "colorbar": {
             "outlinewidth": 0,
             "ticks": ""
            },
            "colorscale": [
             [
              0,
              "#0d0887"
             ],
             [
              0.1111111111111111,
              "#46039f"
             ],
             [
              0.2222222222222222,
              "#7201a8"
             ],
             [
              0.3333333333333333,
              "#9c179e"
             ],
             [
              0.4444444444444444,
              "#bd3786"
             ],
             [
              0.5555555555555556,
              "#d8576b"
             ],
             [
              0.6666666666666666,
              "#ed7953"
             ],
             [
              0.7777777777777778,
              "#fb9f3a"
             ],
             [
              0.8888888888888888,
              "#fdca26"
             ],
             [
              1,
              "#f0f921"
             ]
            ],
            "type": "heatmap"
           }
          ],
          "heatmapgl": [
           {
            "colorbar": {
             "outlinewidth": 0,
             "ticks": ""
            },
            "colorscale": [
             [
              0,
              "#0d0887"
             ],
             [
              0.1111111111111111,
              "#46039f"
             ],
             [
              0.2222222222222222,
              "#7201a8"
             ],
             [
              0.3333333333333333,
              "#9c179e"
             ],
             [
              0.4444444444444444,
              "#bd3786"
             ],
             [
              0.5555555555555556,
              "#d8576b"
             ],
             [
              0.6666666666666666,
              "#ed7953"
             ],
             [
              0.7777777777777778,
              "#fb9f3a"
             ],
             [
              0.8888888888888888,
              "#fdca26"
             ],
             [
              1,
              "#f0f921"
             ]
            ],
            "type": "heatmapgl"
           }
          ],
          "histogram": [
           {
            "marker": {
             "pattern": {
              "fillmode": "overlay",
              "size": 10,
              "solidity": 0.2
             }
            },
            "type": "histogram"
           }
          ],
          "histogram2d": [
           {
            "colorbar": {
             "outlinewidth": 0,
             "ticks": ""
            },
            "colorscale": [
             [
              0,
              "#0d0887"
             ],
             [
              0.1111111111111111,
              "#46039f"
             ],
             [
              0.2222222222222222,
              "#7201a8"
             ],
             [
              0.3333333333333333,
              "#9c179e"
             ],
             [
              0.4444444444444444,
              "#bd3786"
             ],
             [
              0.5555555555555556,
              "#d8576b"
             ],
             [
              0.6666666666666666,
              "#ed7953"
             ],
             [
              0.7777777777777778,
              "#fb9f3a"
             ],
             [
              0.8888888888888888,
              "#fdca26"
             ],
             [
              1,
              "#f0f921"
             ]
            ],
            "type": "histogram2d"
           }
          ],
          "histogram2dcontour": [
           {
            "colorbar": {
             "outlinewidth": 0,
             "ticks": ""
            },
            "colorscale": [
             [
              0,
              "#0d0887"
             ],
             [
              0.1111111111111111,
              "#46039f"
             ],
             [
              0.2222222222222222,
              "#7201a8"
             ],
             [
              0.3333333333333333,
              "#9c179e"
             ],
             [
              0.4444444444444444,
              "#bd3786"
             ],
             [
              0.5555555555555556,
              "#d8576b"
             ],
             [
              0.6666666666666666,
              "#ed7953"
             ],
             [
              0.7777777777777778,
              "#fb9f3a"
             ],
             [
              0.8888888888888888,
              "#fdca26"
             ],
             [
              1,
              "#f0f921"
             ]
            ],
            "type": "histogram2dcontour"
           }
          ],
          "mesh3d": [
           {
            "colorbar": {
             "outlinewidth": 0,
             "ticks": ""
            },
            "type": "mesh3d"
           }
          ],
          "parcoords": [
           {
            "line": {
             "colorbar": {
              "outlinewidth": 0,
              "ticks": ""
             }
            },
            "type": "parcoords"
           }
          ],
          "pie": [
           {
            "automargin": true,
            "type": "pie"
           }
          ],
          "scatter": [
           {
            "marker": {
             "colorbar": {
              "outlinewidth": 0,
              "ticks": ""
             }
            },
            "type": "scatter"
           }
          ],
          "scatter3d": [
           {
            "line": {
             "colorbar": {
              "outlinewidth": 0,
              "ticks": ""
             }
            },
            "marker": {
             "colorbar": {
              "outlinewidth": 0,
              "ticks": ""
             }
            },
            "type": "scatter3d"
           }
          ],
          "scattercarpet": [
           {
            "marker": {
             "colorbar": {
              "outlinewidth": 0,
              "ticks": ""
             }
            },
            "type": "scattercarpet"
           }
          ],
          "scattergeo": [
           {
            "marker": {
             "colorbar": {
              "outlinewidth": 0,
              "ticks": ""
             }
            },
            "type": "scattergeo"
           }
          ],
          "scattergl": [
           {
            "marker": {
             "colorbar": {
              "outlinewidth": 0,
              "ticks": ""
             }
            },
            "type": "scattergl"
           }
          ],
          "scattermapbox": [
           {
            "marker": {
             "colorbar": {
              "outlinewidth": 0,
              "ticks": ""
             }
            },
            "type": "scattermapbox"
           }
          ],
          "scatterpolar": [
           {
            "marker": {
             "colorbar": {
              "outlinewidth": 0,
              "ticks": ""
             }
            },
            "type": "scatterpolar"
           }
          ],
          "scatterpolargl": [
           {
            "marker": {
             "colorbar": {
              "outlinewidth": 0,
              "ticks": ""
             }
            },
            "type": "scatterpolargl"
           }
          ],
          "scatterternary": [
           {
            "marker": {
             "colorbar": {
              "outlinewidth": 0,
              "ticks": ""
             }
            },
            "type": "scatterternary"
           }
          ],
          "surface": [
           {
            "colorbar": {
             "outlinewidth": 0,
             "ticks": ""
            },
            "colorscale": [
             [
              0,
              "#0d0887"
             ],
             [
              0.1111111111111111,
              "#46039f"
             ],
             [
              0.2222222222222222,
              "#7201a8"
             ],
             [
              0.3333333333333333,
              "#9c179e"
             ],
             [
              0.4444444444444444,
              "#bd3786"
             ],
             [
              0.5555555555555556,
              "#d8576b"
             ],
             [
              0.6666666666666666,
              "#ed7953"
             ],
             [
              0.7777777777777778,
              "#fb9f3a"
             ],
             [
              0.8888888888888888,
              "#fdca26"
             ],
             [
              1,
              "#f0f921"
             ]
            ],
            "type": "surface"
           }
          ],
          "table": [
           {
            "cells": {
             "fill": {
              "color": "#EBF0F8"
             },
             "line": {
              "color": "white"
             }
            },
            "header": {
             "fill": {
              "color": "#C8D4E3"
             },
             "line": {
              "color": "white"
             }
            },
            "type": "table"
           }
          ]
         },
         "layout": {
          "annotationdefaults": {
           "arrowcolor": "#2a3f5f",
           "arrowhead": 0,
           "arrowwidth": 1
          },
          "autotypenumbers": "strict",
          "coloraxis": {
           "colorbar": {
            "outlinewidth": 0,
            "ticks": ""
           }
          },
          "colorscale": {
           "diverging": [
            [
             0,
             "#8e0152"
            ],
            [
             0.1,
             "#c51b7d"
            ],
            [
             0.2,
             "#de77ae"
            ],
            [
             0.3,
             "#f1b6da"
            ],
            [
             0.4,
             "#fde0ef"
            ],
            [
             0.5,
             "#f7f7f7"
            ],
            [
             0.6,
             "#e6f5d0"
            ],
            [
             0.7,
             "#b8e186"
            ],
            [
             0.8,
             "#7fbc41"
            ],
            [
             0.9,
             "#4d9221"
            ],
            [
             1,
             "#276419"
            ]
           ],
           "sequential": [
            [
             0,
             "#0d0887"
            ],
            [
             0.1111111111111111,
             "#46039f"
            ],
            [
             0.2222222222222222,
             "#7201a8"
            ],
            [
             0.3333333333333333,
             "#9c179e"
            ],
            [
             0.4444444444444444,
             "#bd3786"
            ],
            [
             0.5555555555555556,
             "#d8576b"
            ],
            [
             0.6666666666666666,
             "#ed7953"
            ],
            [
             0.7777777777777778,
             "#fb9f3a"
            ],
            [
             0.8888888888888888,
             "#fdca26"
            ],
            [
             1,
             "#f0f921"
            ]
           ],
           "sequentialminus": [
            [
             0,
             "#0d0887"
            ],
            [
             0.1111111111111111,
             "#46039f"
            ],
            [
             0.2222222222222222,
             "#7201a8"
            ],
            [
             0.3333333333333333,
             "#9c179e"
            ],
            [
             0.4444444444444444,
             "#bd3786"
            ],
            [
             0.5555555555555556,
             "#d8576b"
            ],
            [
             0.6666666666666666,
             "#ed7953"
            ],
            [
             0.7777777777777778,
             "#fb9f3a"
            ],
            [
             0.8888888888888888,
             "#fdca26"
            ],
            [
             1,
             "#f0f921"
            ]
           ]
          },
          "colorway": [
           "#636efa",
           "#EF553B",
           "#00cc96",
           "#ab63fa",
           "#FFA15A",
           "#19d3f3",
           "#FF6692",
           "#B6E880",
           "#FF97FF",
           "#FECB52"
          ],
          "font": {
           "color": "#2a3f5f"
          },
          "geo": {
           "bgcolor": "white",
           "lakecolor": "white",
           "landcolor": "#E5ECF6",
           "showlakes": true,
           "showland": true,
           "subunitcolor": "white"
          },
          "hoverlabel": {
           "align": "left"
          },
          "hovermode": "closest",
          "mapbox": {
           "style": "light"
          },
          "paper_bgcolor": "white",
          "plot_bgcolor": "#E5ECF6",
          "polar": {
           "angularaxis": {
            "gridcolor": "white",
            "linecolor": "white",
            "ticks": ""
           },
           "bgcolor": "#E5ECF6",
           "radialaxis": {
            "gridcolor": "white",
            "linecolor": "white",
            "ticks": ""
           }
          },
          "scene": {
           "xaxis": {
            "backgroundcolor": "#E5ECF6",
            "gridcolor": "white",
            "gridwidth": 2,
            "linecolor": "white",
            "showbackground": true,
            "ticks": "",
            "zerolinecolor": "white"
           },
           "yaxis": {
            "backgroundcolor": "#E5ECF6",
            "gridcolor": "white",
            "gridwidth": 2,
            "linecolor": "white",
            "showbackground": true,
            "ticks": "",
            "zerolinecolor": "white"
           },
           "zaxis": {
            "backgroundcolor": "#E5ECF6",
            "gridcolor": "white",
            "gridwidth": 2,
            "linecolor": "white",
            "showbackground": true,
            "ticks": "",
            "zerolinecolor": "white"
           }
          },
          "shapedefaults": {
           "line": {
            "color": "#2a3f5f"
           }
          },
          "ternary": {
           "aaxis": {
            "gridcolor": "white",
            "linecolor": "white",
            "ticks": ""
           },
           "baxis": {
            "gridcolor": "white",
            "linecolor": "white",
            "ticks": ""
           },
           "bgcolor": "#E5ECF6",
           "caxis": {
            "gridcolor": "white",
            "linecolor": "white",
            "ticks": ""
           }
          },
          "title": {
           "x": 0.05
          },
          "xaxis": {
           "automargin": true,
           "gridcolor": "white",
           "linecolor": "white",
           "ticks": "",
           "title": {
            "standoff": 15
           },
           "zerolinecolor": "white",
           "zerolinewidth": 2
          },
          "yaxis": {
           "automargin": true,
           "gridcolor": "white",
           "linecolor": "white",
           "ticks": "",
           "title": {
            "standoff": 15
           },
           "zerolinecolor": "white",
           "zerolinewidth": 2
          }
         }
        }
       }
      },
      "text/html": [
       "<div>                            <div id=\"e0127986-d338-425e-8ff0-36888a2593b8\" class=\"plotly-graph-div\" style=\"height:525px; width:100%;\"></div>            <script type=\"text/javascript\">                require([\"plotly\"], function(Plotly) {                    window.PLOTLYENV=window.PLOTLYENV || {};                                    if (document.getElementById(\"e0127986-d338-425e-8ff0-36888a2593b8\")) {                    Plotly.newPlot(                        \"e0127986-d338-425e-8ff0-36888a2593b8\",                        [{\"hovertemplate\":\"CustomerAge=%{x}<br>CreditScore=%{y}<br>CustomerCity=%{z}<br>lable=%{marker.color}<extra></extra>\",\"legendgroup\":\"\",\"marker\":{\"color\":[1,1,2,2,2,2,2,2,0,2,1,2,2,2,1,1,2,1,1,2,0,1,2,1,2,0,2,1,2,2,1,2,0,1,2,2,2,2,2,2,2,1,1,2,2,2,2,2,2,2,2,1,2,1,2,1,2,1,2,1,1,1,2,2,1,0,2,2,0,2,1,2,2,2,1,0,2,1,2,2,1,1,1,2,2,1,2,2,2,2,2,1,1,2,2,1,2,2,0,0,2,2,1,1,0,2,2,1,0,1,0,2,2,1,2,2,2,2,2,2,0,2,2,0,2,2,0,1,1,1,1,1,2,2,1,2,2,1,1,2,2,1,2,2,1,1,1,2,2,1,1,1,2,2,2,2,1,2,1,2,2,2,1,2,0,2,1,2,2,0,1,1,1,1,2,2,1,0,0,1,2,2,1,2,2,1,2,0,2,2,2,2,1,2,2,2,2,0,1,0],\"coloraxis\":\"coloraxis\",\"symbol\":\"circle\"},\"mode\":\"markers\",\"name\":\"\",\"scene\":\"scene\",\"showlegend\":false,\"x\":[49,59,54,42,30,38,45,23,59,48,55,73,54,34,54,53,23,30,37,52,39,38,71,31,42,65,65,33,29,24,59,40,52,47,66,62,73,23,45,43,21,45,54,22,26,72,29,65,34,26,66,50,33,47,59,52,55,74,32,31,25,75,39,46,29,34,54,36,52,28,18,45,48,50,43,27,68,67,59,74,62,45,33,20,61,32,49,66,36,55,35,22,59,21,74,51,22,35,47,66,20,58,42,27,63,28,48,63,45,22,70,65,41,56,51,33,69,21,40,19,62,38,49,30,62,58,73,66,71,54,53,34,41,47,26,30,55,43,50,61,37,29,26,22,56,70,38,37,62,19,46,50,48,53,70,60,37,57,66,27,21,22,18,18,38,23,21,44,72,63,50,56,59,44,20,33,49,22,64,31,53,23,26,63,43,62,74,66,45,62,61,47,74,48,48,54,20,44,28,41],\"y\":[653,630,555,699,793,635,881,852,708,669,618,614,711,629,764,880,729,803,817,774,672,691,669,555,778,623,782,588,684,698,562,774,777,769,755,789,575,850,715,639,817,731,704,712,713,874,751,761,633,632,763,701,784,854,692,751,648,865,863,622,817,868,849,565,665,632,670,736,687,561,892,724,583,760,555,712,880,873,715,897,801,600,768,807,626,654,742,738,805,808,625,695,656,678,859,616,861,814,616,653,575,576,575,666,876,568,849,564,654,565,782,667,593,606,553,827,559,806,620,857,804,858,695,800,624,767,630,808,790,726,624,746,895,781,868,894,707,552,842,567,636,756,894,887,647,657,607,637,884,551,892,616,886,868,669,605,854,742,803,707,633,827,742,586,581,786,718,755,836,725,573,605,890,657,779,666,779,844,733,571,601,701,838,573,896,824,615,770,831,676,559,784,608,568,833,601,554,844,837,789],\"z\":[\"Bengaluru\",\"Bengaluru\",\"Delhi\",\"Bengaluru\",\"Bengaluru\",\"Chennai\",\"Chennai\",\"Mumbai\",\"Chennai\",\"Kolkata\",\"Bengaluru\",\"Bengaluru\",\"Delhi\",\"Mumbai\",\"Bengaluru\",\"Kolkata\",\"Bengaluru\",\"Mumbai\",\"Mumbai\",\"Kolkata\",\"Chennai\",\"Bengaluru\",\"Kolkata\",\"Mumbai\",\"Bengaluru\",\"Chennai\",\"Kolkata\",\"Bengaluru\",\"Delhi\",\"Chennai\",\"Bengaluru\",\"Bengaluru\",\"Chennai\",\"Kolkata\",\"Chennai\",\"Delhi\",\"Mumbai\",\"Mumbai\",\"Mumbai\",\"Mumbai\",\"Mumbai\",\"Bengaluru\",\"Bengaluru\",\"Kolkata\",\"Delhi\",\"Kolkata\",\"Bengaluru\",\"Mumbai\",\"Chennai\",\"Chennai\",\"Kolkata\",\"Bengaluru\",\"Kolkata\",\"Mumbai\",\"Kolkata\",\"Delhi\",\"Bengaluru\",\"Bengaluru\",\"Mumbai\",\"Bengaluru\",\"Mumbai\",\"Delhi\",\"Bengaluru\",\"Bengaluru\",\"Bengaluru\",\"Chennai\",\"Mumbai\",\"Delhi\",\"Chennai\",\"Mumbai\",\"Bengaluru\",\"Bengaluru\",\"Kolkata\",\"Mumbai\",\"Delhi\",\"Chennai\",\"Delhi\",\"Bengaluru\",\"Chennai\",\"Chennai\",\"Delhi\",\"Mumbai\",\"Kolkata\",\"Chennai\",\"Delhi\",\"Mumbai\",\"Bengaluru\",\"Chennai\",\"Delhi\",\"Delhi\",\"Delhi\",\"Kolkata\",\"Kolkata\",\"Mumbai\",\"Bengaluru\",\"Mumbai\",\"Delhi\",\"Mumbai\",\"Chennai\",\"Chennai\",\"Bengaluru\",\"Chennai\",\"Delhi\",\"Bengaluru\",\"Chennai\",\"Chennai\",\"Kolkata\",\"Delhi\",\"Chennai\",\"Mumbai\",\"Chennai\",\"Mumbai\",\"Chennai\",\"Delhi\",\"Chennai\",\"Delhi\",\"Mumbai\",\"Delhi\",\"Kolkata\",\"Delhi\",\"Chennai\",\"Mumbai\",\"Delhi\",\"Chennai\",\"Mumbai\",\"Kolkata\",\"Chennai\",\"Bengaluru\",\"Bengaluru\",\"Bengaluru\",\"Kolkata\",\"Mumbai\",\"Delhi\",\"Kolkata\",\"Mumbai\",\"Delhi\",\"Kolkata\",\"Bengaluru\",\"Mumbai\",\"Chennai\",\"Bengaluru\",\"Bengaluru\",\"Chennai\",\"Kolkata\",\"Mumbai\",\"Mumbai\",\"Delhi\",\"Delhi\",\"Bengaluru\",\"Kolkata\",\"Delhi\",\"Delhi\",\"Kolkata\",\"Chennai\",\"Bengaluru\",\"Mumbai\",\"Kolkata\",\"Bengaluru\",\"Bengaluru\",\"Mumbai\",\"Bengaluru\",\"Delhi\",\"Delhi\",\"Delhi\",\"Chennai\",\"Chennai\",\"Bengaluru\",\"Chennai\",\"Mumbai\",\"Chennai\",\"Bengaluru\",\"Mumbai\",\"Bengaluru\",\"Bengaluru\",\"Mumbai\",\"Mumbai\",\"Kolkata\",\"Chennai\",\"Chennai\",\"Delhi\",\"Bengaluru\",\"Bengaluru\",\"Kolkata\",\"Chennai\",\"Chennai\",\"Kolkata\",\"Kolkata\",\"Chennai\",\"Chennai\",\"Delhi\",\"Delhi\",\"Mumbai\",\"Bengaluru\",\"Bengaluru\",\"Chennai\",\"Delhi\",\"Bengaluru\",\"Chennai\",\"Delhi\",\"Chennai\"],\"type\":\"scatter3d\"}],                        {\"template\":{\"data\":{\"bar\":[{\"error_x\":{\"color\":\"#2a3f5f\"},\"error_y\":{\"color\":\"#2a3f5f\"},\"marker\":{\"line\":{\"color\":\"#E5ECF6\",\"width\":0.5},\"pattern\":{\"fillmode\":\"overlay\",\"size\":10,\"solidity\":0.2}},\"type\":\"bar\"}],\"barpolar\":[{\"marker\":{\"line\":{\"color\":\"#E5ECF6\",\"width\":0.5},\"pattern\":{\"fillmode\":\"overlay\",\"size\":10,\"solidity\":0.2}},\"type\":\"barpolar\"}],\"carpet\":[{\"aaxis\":{\"endlinecolor\":\"#2a3f5f\",\"gridcolor\":\"white\",\"linecolor\":\"white\",\"minorgridcolor\":\"white\",\"startlinecolor\":\"#2a3f5f\"},\"baxis\":{\"endlinecolor\":\"#2a3f5f\",\"gridcolor\":\"white\",\"linecolor\":\"white\",\"minorgridcolor\":\"white\",\"startlinecolor\":\"#2a3f5f\"},\"type\":\"carpet\"}],\"choropleth\":[{\"colorbar\":{\"outlinewidth\":0,\"ticks\":\"\"},\"type\":\"choropleth\"}],\"contour\":[{\"colorbar\":{\"outlinewidth\":0,\"ticks\":\"\"},\"colorscale\":[[0.0,\"#0d0887\"],[0.1111111111111111,\"#46039f\"],[0.2222222222222222,\"#7201a8\"],[0.3333333333333333,\"#9c179e\"],[0.4444444444444444,\"#bd3786\"],[0.5555555555555556,\"#d8576b\"],[0.6666666666666666,\"#ed7953\"],[0.7777777777777778,\"#fb9f3a\"],[0.8888888888888888,\"#fdca26\"],[1.0,\"#f0f921\"]],\"type\":\"contour\"}],\"contourcarpet\":[{\"colorbar\":{\"outlinewidth\":0,\"ticks\":\"\"},\"type\":\"contourcarpet\"}],\"heatmap\":[{\"colorbar\":{\"outlinewidth\":0,\"ticks\":\"\"},\"colorscale\":[[0.0,\"#0d0887\"],[0.1111111111111111,\"#46039f\"],[0.2222222222222222,\"#7201a8\"],[0.3333333333333333,\"#9c179e\"],[0.4444444444444444,\"#bd3786\"],[0.5555555555555556,\"#d8576b\"],[0.6666666666666666,\"#ed7953\"],[0.7777777777777778,\"#fb9f3a\"],[0.8888888888888888,\"#fdca26\"],[1.0,\"#f0f921\"]],\"type\":\"heatmap\"}],\"heatmapgl\":[{\"colorbar\":{\"outlinewidth\":0,\"ticks\":\"\"},\"colorscale\":[[0.0,\"#0d0887\"],[0.1111111111111111,\"#46039f\"],[0.2222222222222222,\"#7201a8\"],[0.3333333333333333,\"#9c179e\"],[0.4444444444444444,\"#bd3786\"],[0.5555555555555556,\"#d8576b\"],[0.6666666666666666,\"#ed7953\"],[0.7777777777777778,\"#fb9f3a\"],[0.8888888888888888,\"#fdca26\"],[1.0,\"#f0f921\"]],\"type\":\"heatmapgl\"}],\"histogram\":[{\"marker\":{\"pattern\":{\"fillmode\":\"overlay\",\"size\":10,\"solidity\":0.2}},\"type\":\"histogram\"}],\"histogram2d\":[{\"colorbar\":{\"outlinewidth\":0,\"ticks\":\"\"},\"colorscale\":[[0.0,\"#0d0887\"],[0.1111111111111111,\"#46039f\"],[0.2222222222222222,\"#7201a8\"],[0.3333333333333333,\"#9c179e\"],[0.4444444444444444,\"#bd3786\"],[0.5555555555555556,\"#d8576b\"],[0.6666666666666666,\"#ed7953\"],[0.7777777777777778,\"#fb9f3a\"],[0.8888888888888888,\"#fdca26\"],[1.0,\"#f0f921\"]],\"type\":\"histogram2d\"}],\"histogram2dcontour\":[{\"colorbar\":{\"outlinewidth\":0,\"ticks\":\"\"},\"colorscale\":[[0.0,\"#0d0887\"],[0.1111111111111111,\"#46039f\"],[0.2222222222222222,\"#7201a8\"],[0.3333333333333333,\"#9c179e\"],[0.4444444444444444,\"#bd3786\"],[0.5555555555555556,\"#d8576b\"],[0.6666666666666666,\"#ed7953\"],[0.7777777777777778,\"#fb9f3a\"],[0.8888888888888888,\"#fdca26\"],[1.0,\"#f0f921\"]],\"type\":\"histogram2dcontour\"}],\"mesh3d\":[{\"colorbar\":{\"outlinewidth\":0,\"ticks\":\"\"},\"type\":\"mesh3d\"}],\"parcoords\":[{\"line\":{\"colorbar\":{\"outlinewidth\":0,\"ticks\":\"\"}},\"type\":\"parcoords\"}],\"pie\":[{\"automargin\":true,\"type\":\"pie\"}],\"scatter\":[{\"marker\":{\"colorbar\":{\"outlinewidth\":0,\"ticks\":\"\"}},\"type\":\"scatter\"}],\"scatter3d\":[{\"line\":{\"colorbar\":{\"outlinewidth\":0,\"ticks\":\"\"}},\"marker\":{\"colorbar\":{\"outlinewidth\":0,\"ticks\":\"\"}},\"type\":\"scatter3d\"}],\"scattercarpet\":[{\"marker\":{\"colorbar\":{\"outlinewidth\":0,\"ticks\":\"\"}},\"type\":\"scattercarpet\"}],\"scattergeo\":[{\"marker\":{\"colorbar\":{\"outlinewidth\":0,\"ticks\":\"\"}},\"type\":\"scattergeo\"}],\"scattergl\":[{\"marker\":{\"colorbar\":{\"outlinewidth\":0,\"ticks\":\"\"}},\"type\":\"scattergl\"}],\"scattermapbox\":[{\"marker\":{\"colorbar\":{\"outlinewidth\":0,\"ticks\":\"\"}},\"type\":\"scattermapbox\"}],\"scatterpolar\":[{\"marker\":{\"colorbar\":{\"outlinewidth\":0,\"ticks\":\"\"}},\"type\":\"scatterpolar\"}],\"scatterpolargl\":[{\"marker\":{\"colorbar\":{\"outlinewidth\":0,\"ticks\":\"\"}},\"type\":\"scatterpolargl\"}],\"scatterternary\":[{\"marker\":{\"colorbar\":{\"outlinewidth\":0,\"ticks\":\"\"}},\"type\":\"scatterternary\"}],\"surface\":[{\"colorbar\":{\"outlinewidth\":0,\"ticks\":\"\"},\"colorscale\":[[0.0,\"#0d0887\"],[0.1111111111111111,\"#46039f\"],[0.2222222222222222,\"#7201a8\"],[0.3333333333333333,\"#9c179e\"],[0.4444444444444444,\"#bd3786\"],[0.5555555555555556,\"#d8576b\"],[0.6666666666666666,\"#ed7953\"],[0.7777777777777778,\"#fb9f3a\"],[0.8888888888888888,\"#fdca26\"],[1.0,\"#f0f921\"]],\"type\":\"surface\"}],\"table\":[{\"cells\":{\"fill\":{\"color\":\"#EBF0F8\"},\"line\":{\"color\":\"white\"}},\"header\":{\"fill\":{\"color\":\"#C8D4E3\"},\"line\":{\"color\":\"white\"}},\"type\":\"table\"}]},\"layout\":{\"annotationdefaults\":{\"arrowcolor\":\"#2a3f5f\",\"arrowhead\":0,\"arrowwidth\":1},\"autotypenumbers\":\"strict\",\"coloraxis\":{\"colorbar\":{\"outlinewidth\":0,\"ticks\":\"\"}},\"colorscale\":{\"diverging\":[[0,\"#8e0152\"],[0.1,\"#c51b7d\"],[0.2,\"#de77ae\"],[0.3,\"#f1b6da\"],[0.4,\"#fde0ef\"],[0.5,\"#f7f7f7\"],[0.6,\"#e6f5d0\"],[0.7,\"#b8e186\"],[0.8,\"#7fbc41\"],[0.9,\"#4d9221\"],[1,\"#276419\"]],\"sequential\":[[0.0,\"#0d0887\"],[0.1111111111111111,\"#46039f\"],[0.2222222222222222,\"#7201a8\"],[0.3333333333333333,\"#9c179e\"],[0.4444444444444444,\"#bd3786\"],[0.5555555555555556,\"#d8576b\"],[0.6666666666666666,\"#ed7953\"],[0.7777777777777778,\"#fb9f3a\"],[0.8888888888888888,\"#fdca26\"],[1.0,\"#f0f921\"]],\"sequentialminus\":[[0.0,\"#0d0887\"],[0.1111111111111111,\"#46039f\"],[0.2222222222222222,\"#7201a8\"],[0.3333333333333333,\"#9c179e\"],[0.4444444444444444,\"#bd3786\"],[0.5555555555555556,\"#d8576b\"],[0.6666666666666666,\"#ed7953\"],[0.7777777777777778,\"#fb9f3a\"],[0.8888888888888888,\"#fdca26\"],[1.0,\"#f0f921\"]]},\"colorway\":[\"#636efa\",\"#EF553B\",\"#00cc96\",\"#ab63fa\",\"#FFA15A\",\"#19d3f3\",\"#FF6692\",\"#B6E880\",\"#FF97FF\",\"#FECB52\"],\"font\":{\"color\":\"#2a3f5f\"},\"geo\":{\"bgcolor\":\"white\",\"lakecolor\":\"white\",\"landcolor\":\"#E5ECF6\",\"showlakes\":true,\"showland\":true,\"subunitcolor\":\"white\"},\"hoverlabel\":{\"align\":\"left\"},\"hovermode\":\"closest\",\"mapbox\":{\"style\":\"light\"},\"paper_bgcolor\":\"white\",\"plot_bgcolor\":\"#E5ECF6\",\"polar\":{\"angularaxis\":{\"gridcolor\":\"white\",\"linecolor\":\"white\",\"ticks\":\"\"},\"bgcolor\":\"#E5ECF6\",\"radialaxis\":{\"gridcolor\":\"white\",\"linecolor\":\"white\",\"ticks\":\"\"}},\"scene\":{\"xaxis\":{\"backgroundcolor\":\"#E5ECF6\",\"gridcolor\":\"white\",\"gridwidth\":2,\"linecolor\":\"white\",\"showbackground\":true,\"ticks\":\"\",\"zerolinecolor\":\"white\"},\"yaxis\":{\"backgroundcolor\":\"#E5ECF6\",\"gridcolor\":\"white\",\"gridwidth\":2,\"linecolor\":\"white\",\"showbackground\":true,\"ticks\":\"\",\"zerolinecolor\":\"white\"},\"zaxis\":{\"backgroundcolor\":\"#E5ECF6\",\"gridcolor\":\"white\",\"gridwidth\":2,\"linecolor\":\"white\",\"showbackground\":true,\"ticks\":\"\",\"zerolinecolor\":\"white\"}},\"shapedefaults\":{\"line\":{\"color\":\"#2a3f5f\"}},\"ternary\":{\"aaxis\":{\"gridcolor\":\"white\",\"linecolor\":\"white\",\"ticks\":\"\"},\"baxis\":{\"gridcolor\":\"white\",\"linecolor\":\"white\",\"ticks\":\"\"},\"bgcolor\":\"#E5ECF6\",\"caxis\":{\"gridcolor\":\"white\",\"linecolor\":\"white\",\"ticks\":\"\"}},\"title\":{\"x\":0.05},\"xaxis\":{\"automargin\":true,\"gridcolor\":\"white\",\"linecolor\":\"white\",\"ticks\":\"\",\"title\":{\"standoff\":15},\"zerolinecolor\":\"white\",\"zerolinewidth\":2},\"yaxis\":{\"automargin\":true,\"gridcolor\":\"white\",\"linecolor\":\"white\",\"ticks\":\"\",\"title\":{\"standoff\":15},\"zerolinecolor\":\"white\",\"zerolinewidth\":2}}},\"scene\":{\"domain\":{\"x\":[0.0,1.0],\"y\":[0.0,1.0]},\"xaxis\":{\"title\":{\"text\":\"CustomerAge\"}},\"yaxis\":{\"title\":{\"text\":\"CreditScore\"}},\"zaxis\":{\"title\":{\"text\":\"CustomerCity\"}}},\"coloraxis\":{\"colorbar\":{\"title\":{\"text\":\"lable\"}},\"colorscale\":[[0.0,\"#0d0887\"],[0.1111111111111111,\"#46039f\"],[0.2222222222222222,\"#7201a8\"],[0.3333333333333333,\"#9c179e\"],[0.4444444444444444,\"#bd3786\"],[0.5555555555555556,\"#d8576b\"],[0.6666666666666666,\"#ed7953\"],[0.7777777777777778,\"#fb9f3a\"],[0.8888888888888888,\"#fdca26\"],[1.0,\"#f0f921\"]]},\"legend\":{\"tracegroupgap\":0},\"margin\":{\"t\":60}},                        {\"responsive\": true}                    ).then(function(){\n",
       "                            \n",
       "var gd = document.getElementById('e0127986-d338-425e-8ff0-36888a2593b8');\n",
       "var x = new MutationObserver(function (mutations, observer) {{\n",
       "        var display = window.getComputedStyle(gd).display;\n",
       "        if (!display || display === 'none') {{\n",
       "            console.log([gd, 'removed!']);\n",
       "            Plotly.purge(gd);\n",
       "            observer.disconnect();\n",
       "        }}\n",
       "}});\n",
       "\n",
       "// Listen for the removal of the full notebook cells\n",
       "var notebookContainer = gd.closest('#notebook-container');\n",
       "if (notebookContainer) {{\n",
       "    x.observe(notebookContainer, {childList: true});\n",
       "}}\n",
       "\n",
       "// Listen for the clearing of the current output cell\n",
       "var outputEl = gd.closest('.output');\n",
       "if (outputEl) {{\n",
       "    x.observe(outputEl, {childList: true});\n",
       "}}\n",
       "\n",
       "                        })                };                });            </script>        </div>"
      ]
     },
     "metadata": {},
     "output_type": "display_data"
    }
   ],
   "source": [
    "X=transformer.fit_transform(df)\n",
    "\n",
    "GM=GaussianMixture(n_components=3,init_params='kmeans',max_iter=300).fit(X)\n",
    "\n",
    "lables=GM.predict(X)\n",
    "\n",
    "GM_DF=df.copy()\n",
    "\n",
    "GM_DF['lable']=lables\n",
    "\n",
    "px.scatter_3d(GM_DF, 'CustomerAge', 'CreditScore', 'CustomerCity', color='lable')"
   ]
  },
  {
   "cell_type": "markdown",
   "metadata": {},
   "source": [
    "# Using AIC to evaluate model\n",
    "\n",
    "- chart also shows lowest AIC is on 10 cluster"
   ]
  },
  {
   "cell_type": "code",
   "execution_count": 98,
   "metadata": {},
   "outputs": [
    {
     "data": {
      "text/plain": [
       "[<matplotlib.lines.Line2D at 0x7ff18759ef50>]"
      ]
     },
     "execution_count": 98,
     "metadata": {},
     "output_type": "execute_result"
    },
    {
     "data": {
      "image/png": "[encoded data removed]",
      "text/plain": [
       "<Figure size 432x288 with 1 Axes>"
      ]
     },
     "metadata": {
      "needs_background": "light"
     },
     "output_type": "display_data"
    }
   ],
   "source": [
    "AIC=[]\n",
    "for i in range(1,15):\n",
    "    GM=GaussianMixture(n_components=i,max_iter=500).fit(X)\n",
    "    AIC.append(GM.aic(X))\n",
    "    \n",
    "plt.plot(AIC)\n",
    "        "
   ]
  },
  {
   "cell_type": "code",
   "execution_count": 99,
   "metadata": {},
   "outputs": [
    {
     "name": "stdout",
     "output_type": "stream",
     "text": [
      "Silhouette Score 0.20848798759442752\n"
     ]
    },
    {
     "data": {
      "application/vnd.plotly.v1+json": {
       "config": {
        "plotlyServerURL": "https://plot.ly"
       },
       "data": [
        {
         "hovertemplate": "CustomerAge=%{x}<br>CreditScore=%{y}<br>CustomerCity=%{z}<br>AnnualIncome=%{marker.size}<br>lable=%{marker.color}<extra></extra>",
         "legendgroup": "",
         "marker": {
          "color": [
           3,
           3,
           2,
           2,
           2,
           1,
           1,
           2,
           3,
           1,
           3,
           2,
           2,
           2,
           3,
           3,
           2,
           0,
           0,
           1,
           3,
           3,
           1,
           0,
           2,
           3,
           1,
           3,
           2,
           1,
           3,
           2,
           3,
           3,
           1,
           2,
           2,
           2,
           2,
           2,
           2,
           3,
           3,
           1,
           2,
           1,
           2,
           2,
           1,
           1,
           1,
           3,
           1,
           0,
           1,
           0,
           2,
           3,
           2,
           3,
           0,
           0,
           2,
           2,
           3,
           3,
           2,
           2,
           3,
           2,
           3,
           2,
           1,
           2,
           0,
           3,
           2,
           3,
           1,
           1,
           0,
           0,
           3,
           1,
           2,
           0,
           2,
           1,
           2,
           2,
           2,
           3,
           3,
           2,
           2,
           0,
           2,
           2,
           3,
           3,
           2,
           1,
           0,
           3,
           3,
           1,
           1,
           0,
           3,
           0,
           3,
           2,
           1,
           0,
           1,
           2,
           2,
           2,
           1,
           2,
           3,
           2,
           2,
           3,
           2,
           1,
           3,
           3,
           3,
           3,
           3,
           0,
           2,
           1,
           0,
           2,
           1,
           3,
           0,
           1,
           2,
           3,
           1,
           1,
           0,
           0,
           0,
           2,
           2,
           3,
           0,
           0,
           1,
           1,
           2,
           2,
           3,
           2,
           3,
           2,
           2,
           2,
           0,
           2,
           3,
           1,
           3,
           1,
           2,
           3,
           3,
           0,
           3,
           3,
           2,
           2,
           3,
           3,
           3,
           0,
           2,
           2,
           3,
           1,
           1,
           3,
           1,
           3,
           1,
           2,
           2,
           2,
           3,
           2,
           1,
           2,
           2,
           3,
           0,
           3
          ],
          "coloraxis": "coloraxis",
          "size": [
           527547.5885,
           207143.1976,
           164423.8457,
           56220.36443,
           256194.3619,
           475324.8903,
           186352.3482,
           414233.1569,
           97263.51748,
           179271.2332,
           194016.5771,
           227536.1384,
           384549.196,
           441207.6896,
           195955.9211,
           342386.7743,
           12396.06128,
           243054.5171,
           353525.8767,
           146957.5537,
           217461.907,
           466647.6548,
           36359.20628,
           227040.4915,
           183013.7351,
           496142.1332,
           304101.4516,
           15305.84287,
           90898.14293,
           372800.2429,
           186025.496,
           424172.7786,
           316975.4388,
           245271.891,
           54756.27976,
           480722.9923,
           243050.2953,
           354943.3271,
           105283.4509,
           266522.7503,
           248583.777,
           35051.23859,
           279363.0453,
           498781.9307,
           288846.6029,
           348408.8613,
           516995.9529,
           54666.06526,
           69809.65753,
           371636.6915,
           238964.9748,
           299609.0836,
           361244.6459,
           187182.7663,
           513210.2881,
           258490.1227,
           443558.7535,
           121992.2184,
           129229.7353,
           351473.4476,
           365803.058,
           42277.72636,
           675461.7357,
           139008.5462,
           255913.6516,
           625214.1659,
           300855.7861,
           61533.99547,
           619650.7261,
           24160.45218,
           119798.585,
           116425.7192,
           235753.1848,
           432140.6847,
           160744.0503,
           264898.0293,
           440550.5344,
           66682.56943,
           196636.8508,
           277507.0036,
           459226.6407,
           143977.3393,
           211403.4684,
           39947.04454,
           544422.1798,
           537240.108,
           542745.9601,
           560856.4185,
           497387.3262,
           125660.3599,
           77749.71303,
           316583.7463,
           252129.1836,
           527125.1728,
           341603.312,
           98951.52835,
           192009.5051,
           203632.4332,
           336327.2596,
           363044.2299,
           386949.5256,
           548611.3616,
           59873.62527,
           49566.39,
           385780.8768,
           95882.3111,
           400021.3253,
           351206.5319,
           2577.057456,
           333149.3655,
           171137.0662,
           352699.3398,
           332877.7868,
           238627.5838,
           687212.7707,
           279227.4118,
           355596.8965,
           467350.1017,
           466464.8329,
           327653.0355,
           302975.1788,
           589901.0593,
           41370.44656,
           208227.1136,
           568519.0844,
           151571.5328,
           217072.6811,
           336463.0139,
           487605.5371,
           599442.5133,
           389042.5298,
           10349.41407,
           198910.519,
           405487.9323,
           221839.2718,
           260829.7117,
           133886.4033,
           82638.67765,
           380765.8752,
           101745.5371,
           341134.7218,
           274581.2169,
           212645.6303,
           281654.8846,
           98371.75627,
           213942.2065,
           5121.652342,
           142909.4261,
           651534.3098,
           365974.3719,
           355468.056,
           471770.9203,
           231493.99,
           465350.4429,
           127331.648,
           671028.1872,
           163664.207,
           216758.2928,
           193910.7081,
           22643.56036,
           365100.1564,
           534470.6945,
           261938.9818,
           330757.825,
           514927.5894,
           432732.181,
           695407.0917,
           285874.988,
           79113.55318,
           260043.8576,
           326077.0029,
           648085.0454,
           101571.4983,
           50434.47117,
           359566.4986,
           581177.2116,
           351979.4379,
           634980.9806,
           110492.7388,
           266781.9511,
           81891.02639,
           268234.2246,
           195930.2286,
           244212.5455,
           241845.7525,
           197295.8156,
           118255.8374,
           316199.317,
           153779.277,
           243936.1677,
           103642.4697,
           115856.0369,
           451973.2129,
           192447.8216,
           630148.5131,
           317466.4207,
           323305.5002,
           109058.5443,
           160116.893,
           280081.3901
          ],
          "sizemode": "area",
          "sizeref": 1738.51772925,
          "symbol": "circle"
         },
         "mode": "markers",
         "name": "",
         "scene": "scene",
         "showlegend": false,
         "type": "scatter3d",
         "x": [
          49,
          59,
          54,
          42,
          30,
          38,
          45,
          23,
          59,
          48,
          55,
          73,
          54,
          34,
          54,
          53,
          23,
          30,
          37,
          52,
          39,
          38,
          71,
          31,
          42,
          65,
          65,
          33,
          29,
          24,
          59,
          40,
          52,
          47,
          66,
          62,
          73,
          23,
          45,
          43,
          21,
          45,
          54,
          22,
          26,
          72,
          29,
          65,
          34,
          26,
          66,
          50,
          33,
          47,
          59,
          52,
          55,
          74,
          32,
          31,
          25,
          75,
          39,
          46,
          29,
          34,
          54,
          36,
          52,
          28,
          18,
          45,
          48,
          50,
          43,
          27,
          68,
          67,
          59,
          74,
          62,
          45,
          33,
          20,
          61,
          32,
          49,
          66,
          36,
          55,
          35,
          22,
          59,
          21,
          74,
          51,
          22,
          35,
          47,
          66,
          20,
          58,
          42,
          27,
          63,
          28,
          48,
          63,
          45,
          22,
          70,
          65,
          41,
          56,
          51,
          33,
          69,
          21,
          40,
          19,
          62,
          38,
          49,
          30,
          62,
          58,
          73,
          66,
          71,
          54,
          53,
          34,
          41,
          47,
          26,
          30,
          55,
          43,
          50,
          61,
          37,
          29,
          26,
          22,
          56,
          70,
          38,
          37,
          62,
          19,
          46,
          50,
          48,
          53,
          70,
          60,
          37,
          57,
          66,
          27,
          21,
          22,
          18,
          18,
          38,
          23,
          21,
          44,
          72,
          63,
          50,
          56,
          59,
          44,
          20,
          33,
          49,
          22,
          64,
          31,
          53,
          23,
          26,
          63,
          43,
          62,
          74,
          66,
          45,
          62,
          61,
          47,
          74,
          48,
          48,
          54,
          20,
          44,
          28,
          41
         ],
         "y": [
          653,
          630,
          555,
          699,
          793,
          635,
          881,
          852,
          708,
          669,
          618,
          614,
          711,
          629,
          764,
          880,
          729,
          803,
          817,
          774,
          672,
          691,
          669,
          555,
          778,
          623,
          782,
          588,
          684,
          698,
          562,
          774,
          777,
          769,
          755,
          789,
          575,
          850,
          715,
          639,
          817,
          731,
          704,
          712,
          713,
          874,
          751,
          761,
          633,
          632,
          763,
          701,
          784,
          854,
          692,
          751,
          648,
          865,
          863,
          622,
          817,
          868,
          849,
          565,
          665,
          632,
          670,
          736,
          687,
          561,
          892,
          724,
          583,
          760,
          555,
          712,
          880,
          873,
          715,
          897,
          801,
          600,
          768,
          807,
          626,
          654,
          742,
          738,
          805,
          808,
          625,
          695,
          656,
          678,
          859,
          616,
          861,
          814,
          616,
          653,
          575,
          576,
          575,
          666,
          876,
          568,
          849,
          564,
          654,
          565,
          782,
          667,
          593,
          606,
          553,
          827,
          559,
          806,
          620,
          857,
          804,
          858,
          695,
          800,
          624,
          767,
          630,
          808,
          790,
          726,
          624,
          746,
          895,
          781,
          868,
          894,
          707,
          552,
          842,
          567,
          636,
          756,
          894,
          887,
          647,
          657,
          607,
          637,
          884,
          551,
          892,
          616,
          886,
          868,
          669,
          605,
          854,
          742,
          803,
          707,
          633,
          827,
          742,
          586,
          581,
          786,
          718,
          755,
          836,
          725,
          573,
          605,
          890,
          657,
          779,
          666,
          779,
          844,
          733,
          571,
          601,
          701,
          838,
          573,
          896,
          824,
          615,
          770,
          831,
          676,
          559,
          784,
          608,
          568,
          833,
          601,
          554,
          844,
          837,
          789
         ],
         "z": [
          "Bengaluru",
          "Bengaluru",
          "Delhi",
          "Bengaluru",
          "Bengaluru",
          "Chennai",
          "Chennai",
          "Mumbai",
          "Chennai",
          "Kolkata",
          "Bengaluru",
          "Bengaluru",
          "Delhi",
          "Mumbai",
          "Bengaluru",
          "Kolkata",
          "Bengaluru",
          "Mumbai",
          "Mumbai",
          "Kolkata",
          "Chennai",
          "Bengaluru",
          "Kolkata",
          "Mumbai",
          "Bengaluru",
          "Chennai",
          "Kolkata",
          "Bengaluru",
          "Delhi",
          "Chennai",
          "Bengaluru",
          "Bengaluru",
          "Chennai",
          "Kolkata",
          "Chennai",
          "Delhi",
          "Mumbai",
          "Mumbai",
          "Mumbai",
          "Mumbai",
          "Mumbai",
          "Bengaluru",
          "Bengaluru",
          "Kolkata",
          "Delhi",
          "Kolkata",
          "Bengaluru",
          "Mumbai",
          "Chennai",
          "Chennai",
          "Kolkata",
          "Bengaluru",
          "Kolkata",
          "Mumbai",
          "Kolkata",
          "Delhi",
          "Bengaluru",
          "Bengaluru",
          "Mumbai",
          "Bengaluru",
          "Mumbai",
          "Delhi",
          "Bengaluru",
          "Bengaluru",
          "Bengaluru",
          "Chennai",
          "Mumbai",
          "Delhi",
          "Chennai",
          "Mumbai",
          "Bengaluru",
          "Bengaluru",
          "Kolkata",
          "Mumbai",
          "Delhi",
          "Chennai",
          "Delhi",
          "Bengaluru",
          "Chennai",
          "Chennai",
          "Delhi",
          "Mumbai",
          "Kolkata",
          "Chennai",
          "Delhi",
          "Mumbai",
          "Bengaluru",
          "Chennai",
          "Delhi",
          "Delhi",
          "Delhi",
          "Kolkata",
          "Kolkata",
          "Mumbai",
          "Bengaluru",
          "Mumbai",
          "Delhi",
          "Mumbai",
          "Chennai",
          "Chennai",
          "Bengaluru",
          "Chennai",
          "Delhi",
          "Bengaluru",
          "Chennai",
          "Chennai",
          "Kolkata",
          "Delhi",
          "Chennai",
          "Mumbai",
          "Chennai",
          "Mumbai",
          "Chennai",
          "Delhi",
          "Chennai",
          "Delhi",
          "Mumbai",
          "Delhi",
          "Kolkata",
          "Delhi",
          "Chennai",
          "Mumbai",
          "Delhi",
          "Chennai",
          "Mumbai",
          "Kolkata",
          "Chennai",
          "Bengaluru",
          "Bengaluru",
          "Bengaluru",
          "Kolkata",
          "Mumbai",
          "Delhi",
          "Kolkata",
          "Mumbai",
          "Delhi",
          "Kolkata",
          "Bengaluru",
          "Mumbai",
          "Chennai",
          "Bengaluru",
          "Bengaluru",
          "Chennai",
          "Kolkata",
          "Mumbai",
          "Mumbai",
          "Delhi",
          "Delhi",
          "Bengaluru",
          "Kolkata",
          "Delhi",
          "Delhi",
          "Kolkata",
          "Chennai",
          "Bengaluru",
          "Mumbai",
          "Kolkata",
          "Bengaluru",
          "Bengaluru",
          "Mumbai",
          "Bengaluru",
          "Delhi",
          "Delhi",
          "Delhi",
          "Chennai",
          "Chennai",
          "Bengaluru",
          "Chennai",
          "Mumbai",
          "Chennai",
          "Bengaluru",
          "Mumbai",
          "Bengaluru",
          "Bengaluru",
          "Mumbai",
          "Mumbai",
          "Kolkata",
          "Chennai",
          "Chennai",
          "Delhi",
          "Bengaluru",
          "Bengaluru",
          "Kolkata",
          "Chennai",
          "Chennai",
          "Kolkata",
          "Kolkata",
          "Chennai",
          "Chennai",
          "Delhi",
          "Delhi",
          "Mumbai",
          "Bengaluru",
          "Bengaluru",
          "Chennai",
          "Delhi",
          "Bengaluru",
          "Chennai",
          "Delhi",
          "Chennai"
         ]
        }
       ],
       "layout": {
        "coloraxis": {
         "colorbar": {
          "title": {
           "text": "lable"
          }
         },
         "colorscale": [
          [
           0,
           "#0d0887"
          ],
          [
           0.1111111111111111,
           "#46039f"
          ],
          [
           0.2222222222222222,
           "#7201a8"
          ],
          [
           0.3333333333333333,
           "#9c179e"
          ],
          [
           0.4444444444444444,
           "#bd3786"
          ],
          [
           0.5555555555555556,
           "#d8576b"
          ],
          [
           0.6666666666666666,
           "#ed7953"
          ],
          [
           0.7777777777777778,
           "#fb9f3a"
          ],
          [
           0.8888888888888888,
           "#fdca26"
          ],
          [
           1,
           "#f0f921"
          ]
         ]
        },
        "legend": {
         "itemsizing": "constant",
         "tracegroupgap": 0
        },
        "margin": {
         "t": 60
        },
        "scene": {
         "domain": {
          "x": [
           0,
           1
          ],
          "y": [
           0,
           1
          ]
         },
         "xaxis": {
          "title": {
           "text": "CustomerAge"
          }
         },
         "yaxis": {
          "title": {
           "text": "CreditScore"
          }
         },
         "zaxis": {
          "title": {
           "text": "CustomerCity"
          }
         }
        },
        "template": {
         "data": {
          "bar": [
           {
            "error_x": {
             "color": "#2a3f5f"
            },
            "error_y": {
             "color": "#2a3f5f"
            },
            "marker": {
             "line": {
              "color": "#E5ECF6",
              "width": 0.5
             },
             "pattern": {
              "fillmode": "overlay",
              "size": 10,
              "solidity": 0.2
             }
            },
            "type": "bar"
           }
          ],
          "barpolar": [
           {
            "marker": {
             "line": {
              "color": "#E5ECF6",
              "width": 0.5
             },
             "pattern": {
              "fillmode": "overlay",
              "size": 10,
              "solidity": 0.2
             }
            },
            "type": "barpolar"
           }
          ],
          "carpet": [
           {
            "aaxis": {
             "endlinecolor": "#2a3f5f",
             "gridcolor": "white",
             "linecolor": "white",
             "minorgridcolor": "white",
             "startlinecolor": "#2a3f5f"
            },
            "baxis": {
             "endlinecolor": "#2a3f5f",
             "gridcolor": "white",
             "linecolor": "white",
             "minorgridcolor": "white",
             "startlinecolor": "#2a3f5f"
            },
            "type": "carpet"
           }
          ],
          "choropleth": [
           {
            "colorbar": {
             "outlinewidth": 0,
             "ticks": ""
            },
            "type": "choropleth"
           }
          ],
          "contour": [
           {
            "colorbar": {
             "outlinewidth": 0,
             "ticks": ""
            },
            "colorscale": [
             [
              0,
              "#0d0887"
             ],
             [
              0.1111111111111111,
              "#46039f"
             ],
             [
              0.2222222222222222,
              "#7201a8"
             ],
             [
              0.3333333333333333,
              "#9c179e"
             ],
             [
              0.4444444444444444,
              "#bd3786"
             ],
             [
              0.5555555555555556,
              "#d8576b"
             ],
             [
              0.6666666666666666,
              "#ed7953"
             ],
             [
              0.7777777777777778,
              "#fb9f3a"
             ],
             [
              0.8888888888888888,
              "#fdca26"
             ],
             [
              1,
              "#f0f921"
             ]
            ],
            "type": "contour"
           }
          ],
          "contourcarpet": [
           {
            "colorbar": {
             "outlinewidth": 0,
             "ticks": ""
            },
            "type": "contourcarpet"
           }
          ],
          "heatmap": [
           {
            "colorbar": {
             "outlinewidth": 0,
             "ticks": ""
            },
            "colorscale": [
             [
              0,
              "#0d0887"
             ],
             [
              0.1111111111111111,
              "#46039f"
             ],
             [
              0.2222222222222222,
              "#7201a8"
             ],
             [
              0.3333333333333333,
              "#9c179e"
             ],
             [
              0.4444444444444444,
              "#bd3786"
             ],
             [
              0.5555555555555556,
              "#d8576b"
             ],
             [
              0.6666666666666666,
              "#ed7953"
             ],
             [
              0.7777777777777778,
              "#fb9f3a"
             ],
             [
              0.8888888888888888,
              "#fdca26"
             ],
             [
              1,
              "#f0f921"
             ]
            ],
            "type": "heatmap"
           }
          ],
          "heatmapgl": [
           {
            "colorbar": {
             "outlinewidth": 0,
             "ticks": ""
            },
            "colorscale": [
             [
              0,
              "#0d0887"
             ],
             [
              0.1111111111111111,
              "#46039f"
             ],
             [
              0.2222222222222222,
              "#7201a8"
             ],
             [
              0.3333333333333333,
              "#9c179e"
             ],
             [
              0.4444444444444444,
              "#bd3786"
             ],
             [
              0.5555555555555556,
              "#d8576b"
             ],
             [
              0.6666666666666666,
              "#ed7953"
             ],
             [
              0.7777777777777778,
              "#fb9f3a"
             ],
             [
              0.8888888888888888,
              "#fdca26"
             ],
             [
              1,
              "#f0f921"
             ]
            ],
            "type": "heatmapgl"
           }
          ],
          "histogram": [
           {
            "marker": {
             "pattern": {
              "fillmode": "overlay",
              "size": 10,
              "solidity": 0.2
             }
            },
            "type": "histogram"
           }
          ],
          "histogram2d": [
           {
            "colorbar": {
             "outlinewidth": 0,
             "ticks": ""
            },
            "colorscale": [
             [
              0,
              "#0d0887"
             ],
             [
              0.1111111111111111,
              "#46039f"
             ],
             [
              0.2222222222222222,
              "#7201a8"
             ],
             [
              0.3333333333333333,
              "#9c179e"
             ],
             [
              0.4444444444444444,
              "#bd3786"
             ],
             [
              0.5555555555555556,
              "#d8576b"
             ],
             [
              0.6666666666666666,
              "#ed7953"
             ],
             [
              0.7777777777777778,
              "#fb9f3a"
             ],
             [
              0.8888888888888888,
              "#fdca26"
             ],
             [
              1,
              "#f0f921"
             ]
            ],
            "type": "histogram2d"
           }
          ],
          "histogram2dcontour": [
           {
            "colorbar": {
             "outlinewidth": 0,
             "ticks": ""
            },
            "colorscale": [
             [
              0,
              "#0d0887"
             ],
             [
              0.1111111111111111,
              "#46039f"
             ],
             [
              0.2222222222222222,
              "#7201a8"
             ],
             [
              0.3333333333333333,
              "#9c179e"
             ],
             [
              0.4444444444444444,
              "#bd3786"
             ],
             [
              0.5555555555555556,
              "#d8576b"
             ],
             [
              0.6666666666666666,
              "#ed7953"
             ],
             [
              0.7777777777777778,
              "#fb9f3a"
             ],
             [
              0.8888888888888888,
              "#fdca26"
             ],
             [
              1,
              "#f0f921"
             ]
            ],
            "type": "histogram2dcontour"
           }
          ],
          "mesh3d": [
           {
            "colorbar": {
             "outlinewidth": 0,
             "ticks": ""
            },
            "type": "mesh3d"
           }
          ],
          "parcoords": [
           {
            "line": {
             "colorbar": {
              "outlinewidth": 0,
              "ticks": ""
             }
            },
            "type": "parcoords"
           }
          ],
          "pie": [
           {
            "automargin": true,
            "type": "pie"
           }
          ],
          "scatter": [
           {
            "marker": {
             "colorbar": {
              "outlinewidth": 0,
              "ticks": ""
             }
            },
            "type": "scatter"
           }
          ],
          "scatter3d": [
           {
            "line": {
             "colorbar": {
              "outlinewidth": 0,
              "ticks": ""
             }
            },
            "marker": {
             "colorbar": {
              "outlinewidth": 0,
              "ticks": ""
             }
            },
            "type": "scatter3d"
           }
          ],
          "scattercarpet": [
           {
            "marker": {
             "colorbar": {
              "outlinewidth": 0,
              "ticks": ""
             }
            },
            "type": "scattercarpet"
           }
          ],
          "scattergeo": [
           {
            "marker": {
             "colorbar": {
              "outlinewidth": 0,
              "ticks": ""
             }
            },
            "type": "scattergeo"
           }
          ],
          "scattergl": [
           {
            "marker": {
             "colorbar": {
              "outlinewidth": 0,
              "ticks": ""
             }
            },
            "type": "scattergl"
           }
          ],
          "scattermapbox": [
           {
            "marker": {
             "colorbar": {
              "outlinewidth": 0,
              "ticks": ""
             }
            },
            "type": "scattermapbox"
           }
          ],
          "scatterpolar": [
           {
            "marker": {
             "colorbar": {
              "outlinewidth": 0,
              "ticks": ""
             }
            },
            "type": "scatterpolar"
           }
          ],
          "scatterpolargl": [
           {
            "marker": {
             "colorbar": {
              "outlinewidth": 0,
              "ticks": ""
             }
            },
            "type": "scatterpolargl"
           }
          ],
          "scatterternary": [
           {
            "marker": {
             "colorbar": {
              "outlinewidth": 0,
              "ticks": ""
             }
            },
            "type": "scatterternary"
           }
          ],
          "surface": [
           {
            "colorbar": {
             "outlinewidth": 0,
             "ticks": ""
            },
            "colorscale": [
             [
              0,
              "#0d0887"
             ],
             [
              0.1111111111111111,
              "#46039f"
             ],
             [
              0.2222222222222222,
              "#7201a8"
             ],
             [
              0.3333333333333333,
              "#9c179e"
             ],
             [
              0.4444444444444444,
              "#bd3786"
             ],
             [
              0.5555555555555556,
              "#d8576b"
             ],
             [
              0.6666666666666666,
              "#ed7953"
             ],
             [
              0.7777777777777778,
              "#fb9f3a"
             ],
             [
              0.8888888888888888,
              "#fdca26"
             ],
             [
              1,
              "#f0f921"
             ]
            ],
            "type": "surface"
           }
          ],
          "table": [
           {
            "cells": {
             "fill": {
              "color": "#EBF0F8"
             },
             "line": {
              "color": "white"
             }
            },
            "header": {
             "fill": {
              "color": "#C8D4E3"
             },
             "line": {
              "color": "white"
             }
            },
            "type": "table"
           }
          ]
         },
         "layout": {
          "annotationdefaults": {
           "arrowcolor": "#2a3f5f",
           "arrowhead": 0,
           "arrowwidth": 1
          },
          "autotypenumbers": "strict",
          "coloraxis": {
           "colorbar": {
            "outlinewidth": 0,
            "ticks": ""
           }
          },
          "colorscale": {
           "diverging": [
            [
             0,
             "#8e0152"
            ],
            [
             0.1,
             "#c51b7d"
            ],
            [
             0.2,
             "#de77ae"
            ],
            [
             0.3,
             "#f1b6da"
            ],
            [
             0.4,
             "#fde0ef"
            ],
            [
             0.5,
             "#f7f7f7"
            ],
            [
             0.6,
             "#e6f5d0"
            ],
            [
             0.7,
             "#b8e186"
            ],
            [
             0.8,
             "#7fbc41"
            ],
            [
             0.9,
             "#4d9221"
            ],
            [
             1,
             "#276419"
            ]
           ],
           "sequential": [
            [
             0,
             "#0d0887"
            ],
            [
             0.1111111111111111,
             "#46039f"
            ],
            [
             0.2222222222222222,
             "#7201a8"
            ],
            [
             0.3333333333333333,
             "#9c179e"
            ],
            [
             0.4444444444444444,
             "#bd3786"
            ],
            [
             0.5555555555555556,
             "#d8576b"
            ],
            [
             0.6666666666666666,
             "#ed7953"
            ],
            [
             0.7777777777777778,
             "#fb9f3a"
            ],
            [
             0.8888888888888888,
             "#fdca26"
            ],
            [
             1,
             "#f0f921"
            ]
           ],
           "sequentialminus": [
            [
             0,
             "#0d0887"
            ],
            [
             0.1111111111111111,
             "#46039f"
            ],
            [
             0.2222222222222222,
             "#7201a8"
            ],
            [
             0.3333333333333333,
             "#9c179e"
            ],
            [
             0.4444444444444444,
             "#bd3786"
            ],
            [
             0.5555555555555556,
             "#d8576b"
            ],
            [
             0.6666666666666666,
             "#ed7953"
            ],
            [
             0.7777777777777778,
             "#fb9f3a"
            ],
            [
             0.8888888888888888,
             "#fdca26"
            ],
            [
             1,
             "#f0f921"
            ]
           ]
          },
          "colorway": [
           "#636efa",
           "#EF553B",
           "#00cc96",
           "#ab63fa",
           "#FFA15A",
           "#19d3f3",
           "#FF6692",
           "#B6E880",
           "#FF97FF",
           "#FECB52"
          ],
          "font": {
           "color": "#2a3f5f"
          },
          "geo": {
           "bgcolor": "white",
           "lakecolor": "white",
           "landcolor": "#E5ECF6",
           "showlakes": true,
           "showland": true,
           "subunitcolor": "white"
          },
          "hoverlabel": {
           "align": "left"
          },
          "hovermode": "closest",
          "mapbox": {
           "style": "light"
          },
          "paper_bgcolor": "white",
          "plot_bgcolor": "#E5ECF6",
          "polar": {
           "angularaxis": {
            "gridcolor": "white",
            "linecolor": "white",
            "ticks": ""
           },
           "bgcolor": "#E5ECF6",
           "radialaxis": {
            "gridcolor": "white",
            "linecolor": "white",
            "ticks": ""
           }
          },
          "scene": {
           "xaxis": {
            "backgroundcolor": "#E5ECF6",
            "gridcolor": "white",
            "gridwidth": 2,
            "linecolor": "white",
            "showbackground": true,
            "ticks": "",
            "zerolinecolor": "white"
           },
           "yaxis": {
            "backgroundcolor": "#E5ECF6",
            "gridcolor": "white",
            "gridwidth": 2,
            "linecolor": "white",
            "showbackground": true,
            "ticks": "",
            "zerolinecolor": "white"
           },
           "zaxis": {
            "backgroundcolor": "#E5ECF6",
            "gridcolor": "white",
            "gridwidth": 2,
            "linecolor": "white",
            "showbackground": true,
            "ticks": "",
            "zerolinecolor": "white"
           }
          },
          "shapedefaults": {
           "line": {
            "color": "#2a3f5f"
           }
          },
          "ternary": {
           "aaxis": {
            "gridcolor": "white",
            "linecolor": "white",
            "ticks": ""
           },
           "baxis": {
            "gridcolor": "white",
            "linecolor": "white",
            "ticks": ""
           },
           "bgcolor": "#E5ECF6",
           "caxis": {
            "gridcolor": "white",
            "linecolor": "white",
            "ticks": ""
           }
          },
          "title": {
           "x": 0.05
          },
          "xaxis": {
           "automargin": true,
           "gridcolor": "white",
           "linecolor": "white",
           "ticks": "",
           "title": {
            "standoff": 15
           },
           "zerolinecolor": "white",
           "zerolinewidth": 2
          },
          "yaxis": {
           "automargin": true,
           "gridcolor": "white",
           "linecolor": "white",
           "ticks": "",
           "title": {
            "standoff": 15
           },
           "zerolinecolor": "white",
           "zerolinewidth": 2
          }
         }
        }
       }
      },
      "text/html": [
       "<div>                            <div id=\"d25d7568-1df2-4c73-bf16-dc4b54667dc0\" class=\"plotly-graph-div\" style=\"height:525px; width:100%;\"></div>            <script type=\"text/javascript\">                require([\"plotly\"], function(Plotly) {                    window.PLOTLYENV=window.PLOTLYENV || {};                                    if (document.getElementById(\"d25d7568-1df2-4c73-bf16-dc4b54667dc0\")) {                    Plotly.newPlot(                        \"d25d7568-1df2-4c73-bf16-dc4b54667dc0\",                        [{\"hovertemplate\":\"CustomerAge=%{x}<br>CreditScore=%{y}<br>CustomerCity=%{z}<br>AnnualIncome=%{marker.size}<br>lable=%{marker.color}<extra></extra>\",\"legendgroup\":\"\",\"marker\":{\"color\":[3,3,2,2,2,1,1,2,3,1,3,2,2,2,3,3,2,0,0,1,3,3,1,0,2,3,1,3,2,1,3,2,3,3,1,2,2,2,2,2,2,3,3,1,2,1,2,2,1,1,1,3,1,0,1,0,2,3,2,3,0,0,2,2,3,3,2,2,3,2,3,2,1,2,0,3,2,3,1,1,0,0,3,1,2,0,2,1,2,2,2,3,3,2,2,0,2,2,3,3,2,1,0,3,3,1,1,0,3,0,3,2,1,0,1,2,2,2,1,2,3,2,2,3,2,1,3,3,3,3,3,0,2,1,0,2,1,3,0,1,2,3,1,1,0,0,0,2,2,3,0,0,1,1,2,2,3,2,3,2,2,2,0,2,3,1,3,1,2,3,3,0,3,3,2,2,3,3,3,0,2,2,3,1,1,3,1,3,1,2,2,2,3,2,1,2,2,3,0,3],\"coloraxis\":\"coloraxis\",\"size\":[527547.5885,207143.1976,164423.8457,56220.36443,256194.3619,475324.8903,186352.3482,414233.1569,97263.51748,179271.2332,194016.5771,227536.1384,384549.196,441207.6896,195955.9211,342386.7743,12396.06128,243054.5171,353525.8767,146957.5537,217461.907,466647.6548,36359.20628,227040.4915,183013.7351,496142.1332,304101.4516,15305.84287,90898.14293,372800.2429,186025.496,424172.7786,316975.4388,245271.891,54756.27976,480722.9923,243050.2953,354943.3271,105283.4509,266522.7503,248583.777,35051.23859,279363.0453,498781.9307,288846.6029,348408.8613,516995.9529,54666.06526,69809.65753,371636.6915,238964.9748,299609.0836,361244.6459,187182.7663,513210.2881,258490.1227,443558.7535,121992.2184,129229.7353,351473.4476,365803.058,42277.72636,675461.7357,139008.5462,255913.6516,625214.1659,300855.7861,61533.99547,619650.7261,24160.45218,119798.585,116425.7192,235753.1848,432140.6847,160744.0503,264898.0293,440550.5344,66682.56943,196636.8508,277507.0036,459226.6407,143977.3393,211403.4684,39947.04454,544422.1798,537240.108,542745.9601,560856.4185,497387.3262,125660.3599,77749.71303,316583.7463,252129.1836,527125.1728,341603.312,98951.52835,192009.5051,203632.4332,336327.2596,363044.2299,386949.5256,548611.3616,59873.62527,49566.39,385780.8768,95882.3111,400021.3253,351206.5319,2577.057456,333149.3655,171137.0662,352699.3398,332877.7868,238627.5838,687212.7707,279227.4118,355596.8965,467350.1017,466464.8329,327653.0355,302975.1788,589901.0593,41370.44656,208227.1136,568519.0844,151571.5328,217072.6811,336463.0139,487605.5371,599442.5133,389042.5298,10349.41407,198910.519,405487.9323,221839.2718,260829.7117,133886.4033,82638.67765,380765.8752,101745.5371,341134.7218,274581.2169,212645.6303,281654.8846,98371.75627,213942.2065,5121.652342,142909.4261,651534.3098,365974.3719,355468.056,471770.9203,231493.99,465350.4429,127331.648,671028.1872,163664.207,216758.2928,193910.7081,22643.56036,365100.1564,534470.6945,261938.9818,330757.825,514927.5894,432732.181,695407.0917,285874.988,79113.55318,260043.8576,326077.0029,648085.0454,101571.4983,50434.47117,359566.4986,581177.2116,351979.4379,634980.9806,110492.7388,266781.9511,81891.02639,268234.2246,195930.2286,244212.5455,241845.7525,197295.8156,118255.8374,316199.317,153779.277,243936.1677,103642.4697,115856.0369,451973.2129,192447.8216,630148.5131,317466.4207,323305.5002,109058.5443,160116.893,280081.3901],\"sizemode\":\"area\",\"sizeref\":1738.51772925,\"symbol\":\"circle\"},\"mode\":\"markers\",\"name\":\"\",\"scene\":\"scene\",\"showlegend\":false,\"x\":[49,59,54,42,30,38,45,23,59,48,55,73,54,34,54,53,23,30,37,52,39,38,71,31,42,65,65,33,29,24,59,40,52,47,66,62,73,23,45,43,21,45,54,22,26,72,29,65,34,26,66,50,33,47,59,52,55,74,32,31,25,75,39,46,29,34,54,36,52,28,18,45,48,50,43,27,68,67,59,74,62,45,33,20,61,32,49,66,36,55,35,22,59,21,74,51,22,35,47,66,20,58,42,27,63,28,48,63,45,22,70,65,41,56,51,33,69,21,40,19,62,38,49,30,62,58,73,66,71,54,53,34,41,47,26,30,55,43,50,61,37,29,26,22,56,70,38,37,62,19,46,50,48,53,70,60,37,57,66,27,21,22,18,18,38,23,21,44,72,63,50,56,59,44,20,33,49,22,64,31,53,23,26,63,43,62,74,66,45,62,61,47,74,48,48,54,20,44,28,41],\"y\":[653,630,555,699,793,635,881,852,708,669,618,614,711,629,764,880,729,803,817,774,672,691,669,555,778,623,782,588,684,698,562,774,777,769,755,789,575,850,715,639,817,731,704,712,713,874,751,761,633,632,763,701,784,854,692,751,648,865,863,622,817,868,849,565,665,632,670,736,687,561,892,724,583,760,555,712,880,873,715,897,801,600,768,807,626,654,742,738,805,808,625,695,656,678,859,616,861,814,616,653,575,576,575,666,876,568,849,564,654,565,782,667,593,606,553,827,559,806,620,857,804,858,695,800,624,767,630,808,790,726,624,746,895,781,868,894,707,552,842,567,636,756,894,887,647,657,607,637,884,551,892,616,886,868,669,605,854,742,803,707,633,827,742,586,581,786,718,755,836,725,573,605,890,657,779,666,779,844,733,571,601,701,838,573,896,824,615,770,831,676,559,784,608,568,833,601,554,844,837,789],\"z\":[\"Bengaluru\",\"Bengaluru\",\"Delhi\",\"Bengaluru\",\"Bengaluru\",\"Chennai\",\"Chennai\",\"Mumbai\",\"Chennai\",\"Kolkata\",\"Bengaluru\",\"Bengaluru\",\"Delhi\",\"Mumbai\",\"Bengaluru\",\"Kolkata\",\"Bengaluru\",\"Mumbai\",\"Mumbai\",\"Kolkata\",\"Chennai\",\"Bengaluru\",\"Kolkata\",\"Mumbai\",\"Bengaluru\",\"Chennai\",\"Kolkata\",\"Bengaluru\",\"Delhi\",\"Chennai\",\"Bengaluru\",\"Bengaluru\",\"Chennai\",\"Kolkata\",\"Chennai\",\"Delhi\",\"Mumbai\",\"Mumbai\",\"Mumbai\",\"Mumbai\",\"Mumbai\",\"Bengaluru\",\"Bengaluru\",\"Kolkata\",\"Delhi\",\"Kolkata\",\"Bengaluru\",\"Mumbai\",\"Chennai\",\"Chennai\",\"Kolkata\",\"Bengaluru\",\"Kolkata\",\"Mumbai\",\"Kolkata\",\"Delhi\",\"Bengaluru\",\"Bengaluru\",\"Mumbai\",\"Bengaluru\",\"Mumbai\",\"Delhi\",\"Bengaluru\",\"Bengaluru\",\"Bengaluru\",\"Chennai\",\"Mumbai\",\"Delhi\",\"Chennai\",\"Mumbai\",\"Bengaluru\",\"Bengaluru\",\"Kolkata\",\"Mumbai\",\"Delhi\",\"Chennai\",\"Delhi\",\"Bengaluru\",\"Chennai\",\"Chennai\",\"Delhi\",\"Mumbai\",\"Kolkata\",\"Chennai\",\"Delhi\",\"Mumbai\",\"Bengaluru\",\"Chennai\",\"Delhi\",\"Delhi\",\"Delhi\",\"Kolkata\",\"Kolkata\",\"Mumbai\",\"Bengaluru\",\"Mumbai\",\"Delhi\",\"Mumbai\",\"Chennai\",\"Chennai\",\"Bengaluru\",\"Chennai\",\"Delhi\",\"Bengaluru\",\"Chennai\",\"Chennai\",\"Kolkata\",\"Delhi\",\"Chennai\",\"Mumbai\",\"Chennai\",\"Mumbai\",\"Chennai\",\"Delhi\",\"Chennai\",\"Delhi\",\"Mumbai\",\"Delhi\",\"Kolkata\",\"Delhi\",\"Chennai\",\"Mumbai\",\"Delhi\",\"Chennai\",\"Mumbai\",\"Kolkata\",\"Chennai\",\"Bengaluru\",\"Bengaluru\",\"Bengaluru\",\"Kolkata\",\"Mumbai\",\"Delhi\",\"Kolkata\",\"Mumbai\",\"Delhi\",\"Kolkata\",\"Bengaluru\",\"Mumbai\",\"Chennai\",\"Bengaluru\",\"Bengaluru\",\"Chennai\",\"Kolkata\",\"Mumbai\",\"Mumbai\",\"Delhi\",\"Delhi\",\"Bengaluru\",\"Kolkata\",\"Delhi\",\"Delhi\",\"Kolkata\",\"Chennai\",\"Bengaluru\",\"Mumbai\",\"Kolkata\",\"Bengaluru\",\"Bengaluru\",\"Mumbai\",\"Bengaluru\",\"Delhi\",\"Delhi\",\"Delhi\",\"Chennai\",\"Chennai\",\"Bengaluru\",\"Chennai\",\"Mumbai\",\"Chennai\",\"Bengaluru\",\"Mumbai\",\"Bengaluru\",\"Bengaluru\",\"Mumbai\",\"Mumbai\",\"Kolkata\",\"Chennai\",\"Chennai\",\"Delhi\",\"Bengaluru\",\"Bengaluru\",\"Kolkata\",\"Chennai\",\"Chennai\",\"Kolkata\",\"Kolkata\",\"Chennai\",\"Chennai\",\"Delhi\",\"Delhi\",\"Mumbai\",\"Bengaluru\",\"Bengaluru\",\"Chennai\",\"Delhi\",\"Bengaluru\",\"Chennai\",\"Delhi\",\"Chennai\"],\"type\":\"scatter3d\"}],                        {\"template\":{\"data\":{\"bar\":[{\"error_x\":{\"color\":\"#2a3f5f\"},\"error_y\":{\"color\":\"#2a3f5f\"},\"marker\":{\"line\":{\"color\":\"#E5ECF6\",\"width\":0.5},\"pattern\":{\"fillmode\":\"overlay\",\"size\":10,\"solidity\":0.2}},\"type\":\"bar\"}],\"barpolar\":[{\"marker\":{\"line\":{\"color\":\"#E5ECF6\",\"width\":0.5},\"pattern\":{\"fillmode\":\"overlay\",\"size\":10,\"solidity\":0.2}},\"type\":\"barpolar\"}],\"carpet\":[{\"aaxis\":{\"endlinecolor\":\"#2a3f5f\",\"gridcolor\":\"white\",\"linecolor\":\"white\",\"minorgridcolor\":\"white\",\"startlinecolor\":\"#2a3f5f\"},\"baxis\":{\"endlinecolor\":\"#2a3f5f\",\"gridcolor\":\"white\",\"linecolor\":\"white\",\"minorgridcolor\":\"white\",\"startlinecolor\":\"#2a3f5f\"},\"type\":\"carpet\"}],\"choropleth\":[{\"colorbar\":{\"outlinewidth\":0,\"ticks\":\"\"},\"type\":\"choropleth\"}],\"contour\":[{\"colorbar\":{\"outlinewidth\":0,\"ticks\":\"\"},\"colorscale\":[[0.0,\"#0d0887\"],[0.1111111111111111,\"#46039f\"],[0.2222222222222222,\"#7201a8\"],[0.3333333333333333,\"#9c179e\"],[0.4444444444444444,\"#bd3786\"],[0.5555555555555556,\"#d8576b\"],[0.6666666666666666,\"#ed7953\"],[0.7777777777777778,\"#fb9f3a\"],[0.8888888888888888,\"#fdca26\"],[1.0,\"#f0f921\"]],\"type\":\"contour\"}],\"contourcarpet\":[{\"colorbar\":{\"outlinewidth\":0,\"ticks\":\"\"},\"type\":\"contourcarpet\"}],\"heatmap\":[{\"colorbar\":{\"outlinewidth\":0,\"ticks\":\"\"},\"colorscale\":[[0.0,\"#0d0887\"],[0.1111111111111111,\"#46039f\"],[0.2222222222222222,\"#7201a8\"],[0.3333333333333333,\"#9c179e\"],[0.4444444444444444,\"#bd3786\"],[0.5555555555555556,\"#d8576b\"],[0.6666666666666666,\"#ed7953\"],[0.7777777777777778,\"#fb9f3a\"],[0.8888888888888888,\"#fdca26\"],[1.0,\"#f0f921\"]],\"type\":\"heatmap\"}],\"heatmapgl\":[{\"colorbar\":{\"outlinewidth\":0,\"ticks\":\"\"},\"colorscale\":[[0.0,\"#0d0887\"],[0.1111111111111111,\"#46039f\"],[0.2222222222222222,\"#7201a8\"],[0.3333333333333333,\"#9c179e\"],[0.4444444444444444,\"#bd3786\"],[0.5555555555555556,\"#d8576b\"],[0.6666666666666666,\"#ed7953\"],[0.7777777777777778,\"#fb9f3a\"],[0.8888888888888888,\"#fdca26\"],[1.0,\"#f0f921\"]],\"type\":\"heatmapgl\"}],\"histogram\":[{\"marker\":{\"pattern\":{\"fillmode\":\"overlay\",\"size\":10,\"solidity\":0.2}},\"type\":\"histogram\"}],\"histogram2d\":[{\"colorbar\":{\"outlinewidth\":0,\"ticks\":\"\"},\"colorscale\":[[0.0,\"#0d0887\"],[0.1111111111111111,\"#46039f\"],[0.2222222222222222,\"#7201a8\"],[0.3333333333333333,\"#9c179e\"],[0.4444444444444444,\"#bd3786\"],[0.5555555555555556,\"#d8576b\"],[0.6666666666666666,\"#ed7953\"],[0.7777777777777778,\"#fb9f3a\"],[0.8888888888888888,\"#fdca26\"],[1.0,\"#f0f921\"]],\"type\":\"histogram2d\"}],\"histogram2dcontour\":[{\"colorbar\":{\"outlinewidth\":0,\"ticks\":\"\"},\"colorscale\":[[0.0,\"#0d0887\"],[0.1111111111111111,\"#46039f\"],[0.2222222222222222,\"#7201a8\"],[0.3333333333333333,\"#9c179e\"],[0.4444444444444444,\"#bd3786\"],[0.5555555555555556,\"#d8576b\"],[0.6666666666666666,\"#ed7953\"],[0.7777777777777778,\"#fb9f3a\"],[0.8888888888888888,\"#fdca26\"],[1.0,\"#f0f921\"]],\"type\":\"histogram2dcontour\"}],\"mesh3d\":[{\"colorbar\":{\"outlinewidth\":0,\"ticks\":\"\"},\"type\":\"mesh3d\"}],\"parcoords\":[{\"line\":{\"colorbar\":{\"outlinewidth\":0,\"ticks\":\"\"}},\"type\":\"parcoords\"}],\"pie\":[{\"automargin\":true,\"type\":\"pie\"}],\"scatter\":[{\"marker\":{\"colorbar\":{\"outlinewidth\":0,\"ticks\":\"\"}},\"type\":\"scatter\"}],\"scatter3d\":[{\"line\":{\"colorbar\":{\"outlinewidth\":0,\"ticks\":\"\"}},\"marker\":{\"colorbar\":{\"outlinewidth\":0,\"ticks\":\"\"}},\"type\":\"scatter3d\"}],\"scattercarpet\":[{\"marker\":{\"colorbar\":{\"outlinewidth\":0,\"ticks\":\"\"}},\"type\":\"scattercarpet\"}],\"scattergeo\":[{\"marker\":{\"colorbar\":{\"outlinewidth\":0,\"ticks\":\"\"}},\"type\":\"scattergeo\"}],\"scattergl\":[{\"marker\":{\"colorbar\":{\"outlinewidth\":0,\"ticks\":\"\"}},\"type\":\"scattergl\"}],\"scattermapbox\":[{\"marker\":{\"colorbar\":{\"outlinewidth\":0,\"ticks\":\"\"}},\"type\":\"scattermapbox\"}],\"scatterpolar\":[{\"marker\":{\"colorbar\":{\"outlinewidth\":0,\"ticks\":\"\"}},\"type\":\"scatterpolar\"}],\"scatterpolargl\":[{\"marker\":{\"colorbar\":{\"outlinewidth\":0,\"ticks\":\"\"}},\"type\":\"scatterpolargl\"}],\"scatterternary\":[{\"marker\":{\"colorbar\":{\"outlinewidth\":0,\"ticks\":\"\"}},\"type\":\"scatterternary\"}],\"surface\":[{\"colorbar\":{\"outlinewidth\":0,\"ticks\":\"\"},\"colorscale\":[[0.0,\"#0d0887\"],[0.1111111111111111,\"#46039f\"],[0.2222222222222222,\"#7201a8\"],[0.3333333333333333,\"#9c179e\"],[0.4444444444444444,\"#bd3786\"],[0.5555555555555556,\"#d8576b\"],[0.6666666666666666,\"#ed7953\"],[0.7777777777777778,\"#fb9f3a\"],[0.8888888888888888,\"#fdca26\"],[1.0,\"#f0f921\"]],\"type\":\"surface\"}],\"table\":[{\"cells\":{\"fill\":{\"color\":\"#EBF0F8\"},\"line\":{\"color\":\"white\"}},\"header\":{\"fill\":{\"color\":\"#C8D4E3\"},\"line\":{\"color\":\"white\"}},\"type\":\"table\"}]},\"layout\":{\"annotationdefaults\":{\"arrowcolor\":\"#2a3f5f\",\"arrowhead\":0,\"arrowwidth\":1},\"autotypenumbers\":\"strict\",\"coloraxis\":{\"colorbar\":{\"outlinewidth\":0,\"ticks\":\"\"}},\"colorscale\":{\"diverging\":[[0,\"#8e0152\"],[0.1,\"#c51b7d\"],[0.2,\"#de77ae\"],[0.3,\"#f1b6da\"],[0.4,\"#fde0ef\"],[0.5,\"#f7f7f7\"],[0.6,\"#e6f5d0\"],[0.7,\"#b8e186\"],[0.8,\"#7fbc41\"],[0.9,\"#4d9221\"],[1,\"#276419\"]],\"sequential\":[[0.0,\"#0d0887\"],[0.1111111111111111,\"#46039f\"],[0.2222222222222222,\"#7201a8\"],[0.3333333333333333,\"#9c179e\"],[0.4444444444444444,\"#bd3786\"],[0.5555555555555556,\"#d8576b\"],[0.6666666666666666,\"#ed7953\"],[0.7777777777777778,\"#fb9f3a\"],[0.8888888888888888,\"#fdca26\"],[1.0,\"#f0f921\"]],\"sequentialminus\":[[0.0,\"#0d0887\"],[0.1111111111111111,\"#46039f\"],[0.2222222222222222,\"#7201a8\"],[0.3333333333333333,\"#9c179e\"],[0.4444444444444444,\"#bd3786\"],[0.5555555555555556,\"#d8576b\"],[0.6666666666666666,\"#ed7953\"],[0.7777777777777778,\"#fb9f3a\"],[0.8888888888888888,\"#fdca26\"],[1.0,\"#f0f921\"]]},\"colorway\":[\"#636efa\",\"#EF553B\",\"#00cc96\",\"#ab63fa\",\"#FFA15A\",\"#19d3f3\",\"#FF6692\",\"#B6E880\",\"#FF97FF\",\"#FECB52\"],\"font\":{\"color\":\"#2a3f5f\"},\"geo\":{\"bgcolor\":\"white\",\"lakecolor\":\"white\",\"landcolor\":\"#E5ECF6\",\"showlakes\":true,\"showland\":true,\"subunitcolor\":\"white\"},\"hoverlabel\":{\"align\":\"left\"},\"hovermode\":\"closest\",\"mapbox\":{\"style\":\"light\"},\"paper_bgcolor\":\"white\",\"plot_bgcolor\":\"#E5ECF6\",\"polar\":{\"angularaxis\":{\"gridcolor\":\"white\",\"linecolor\":\"white\",\"ticks\":\"\"},\"bgcolor\":\"#E5ECF6\",\"radialaxis\":{\"gridcolor\":\"white\",\"linecolor\":\"white\",\"ticks\":\"\"}},\"scene\":{\"xaxis\":{\"backgroundcolor\":\"#E5ECF6\",\"gridcolor\":\"white\",\"gridwidth\":2,\"linecolor\":\"white\",\"showbackground\":true,\"ticks\":\"\",\"zerolinecolor\":\"white\"},\"yaxis\":{\"backgroundcolor\":\"#E5ECF6\",\"gridcolor\":\"white\",\"gridwidth\":2,\"linecolor\":\"white\",\"showbackground\":true,\"ticks\":\"\",\"zerolinecolor\":\"white\"},\"zaxis\":{\"backgroundcolor\":\"#E5ECF6\",\"gridcolor\":\"white\",\"gridwidth\":2,\"linecolor\":\"white\",\"showbackground\":true,\"ticks\":\"\",\"zerolinecolor\":\"white\"}},\"shapedefaults\":{\"line\":{\"color\":\"#2a3f5f\"}},\"ternary\":{\"aaxis\":{\"gridcolor\":\"white\",\"linecolor\":\"white\",\"ticks\":\"\"},\"baxis\":{\"gridcolor\":\"white\",\"linecolor\":\"white\",\"ticks\":\"\"},\"bgcolor\":\"#E5ECF6\",\"caxis\":{\"gridcolor\":\"white\",\"linecolor\":\"white\",\"ticks\":\"\"}},\"title\":{\"x\":0.05},\"xaxis\":{\"automargin\":true,\"gridcolor\":\"white\",\"linecolor\":\"white\",\"ticks\":\"\",\"title\":{\"standoff\":15},\"zerolinecolor\":\"white\",\"zerolinewidth\":2},\"yaxis\":{\"automargin\":true,\"gridcolor\":\"white\",\"linecolor\":\"white\",\"ticks\":\"\",\"title\":{\"standoff\":15},\"zerolinecolor\":\"white\",\"zerolinewidth\":2}}},\"scene\":{\"domain\":{\"x\":[0.0,1.0],\"y\":[0.0,1.0]},\"xaxis\":{\"title\":{\"text\":\"CustomerAge\"}},\"yaxis\":{\"title\":{\"text\":\"CreditScore\"}},\"zaxis\":{\"title\":{\"text\":\"CustomerCity\"}}},\"coloraxis\":{\"colorbar\":{\"title\":{\"text\":\"lable\"}},\"colorscale\":[[0.0,\"#0d0887\"],[0.1111111111111111,\"#46039f\"],[0.2222222222222222,\"#7201a8\"],[0.3333333333333333,\"#9c179e\"],[0.4444444444444444,\"#bd3786\"],[0.5555555555555556,\"#d8576b\"],[0.6666666666666666,\"#ed7953\"],[0.7777777777777778,\"#fb9f3a\"],[0.8888888888888888,\"#fdca26\"],[1.0,\"#f0f921\"]]},\"legend\":{\"tracegroupgap\":0,\"itemsizing\":\"constant\"},\"margin\":{\"t\":60}},                        {\"responsive\": true}                    ).then(function(){\n",
       "                            \n",
       "var gd = document.getElementById('d25d7568-1df2-4c73-bf16-dc4b54667dc0');\n",
       "var x = new MutationObserver(function (mutations, observer) {{\n",
       "        var display = window.getComputedStyle(gd).display;\n",
       "        if (!display || display === 'none') {{\n",
       "            console.log([gd, 'removed!']);\n",
       "            Plotly.purge(gd);\n",
       "            observer.disconnect();\n",
       "        }}\n",
       "}});\n",
       "\n",
       "// Listen for the removal of the full notebook cells\n",
       "var notebookContainer = gd.closest('#notebook-container');\n",
       "if (notebookContainer) {{\n",
       "    x.observe(notebookContainer, {childList: true});\n",
       "}}\n",
       "\n",
       "// Listen for the clearing of the current output cell\n",
       "var outputEl = gd.closest('.output');\n",
       "if (outputEl) {{\n",
       "    x.observe(outputEl, {childList: true});\n",
       "}}\n",
       "\n",
       "                        })                };                });            </script>        </div>"
      ]
     },
     "metadata": {},
     "output_type": "display_data"
    }
   ],
   "source": [
    "X=transformer.fit_transform(df)\n",
    "\n",
    "GM=GaussianMixture(n_components=4,init_params='kmeans',max_iter=300).fit(X)\n",
    "\n",
    "lables=GM.predict(X)\n",
    "\n",
    "GM_DF=df.copy()\n",
    "\n",
    "GM_DF['lable']=lables\n",
    "\n",
    "score = silhouette_score(X,lables)\n",
    "print (\"Silhouette Score\", score)\n",
    "\n",
    "\n",
    "px.scatter_3d(GM_DF, 'CustomerAge', 'CreditScore', 'CustomerCity', color='lable', size='AnnualIncome')"
   ]
  },
  {
   "cell_type": "markdown",
   "metadata": {},
   "source": [
    "- let's remove City from model"
   ]
  },
  {
   "cell_type": "code",
   "execution_count": 104,
   "metadata": {},
   "outputs": [
    {
     "name": "stdout",
     "output_type": "stream",
     "text": [
      "Silhouette Score 0.18214601349591297\n",
      "-4103.434931732772\n"
     ]
    },
    {
     "data": {
      "application/vnd.plotly.v1+json": {
       "config": {
        "plotlyServerURL": "https://plot.ly"
       },
       "data": [
        {
         "hovertemplate": "CustomerAge=%{x}<br>CreditScore=%{y}<br>CustomerGender=%{z}<br>lable=%{marker.color}<extra></extra>",
         "legendgroup": "",
         "marker": {
          "color": [
           0,
           0,
           4,
           3,
           3,
           4,
           3,
           1,
           5,
           1,
           5,
           4,
           1,
           4,
           2,
           2,
           3,
           2,
           2,
           1,
           0,
           0,
           1,
           0,
           1,
           0,
           1,
           0,
           3,
           3,
           5,
           1,
           2,
           2,
           1,
           1,
           4,
           1,
           1,
           4,
           3,
           2,
           0,
           3,
           1,
           1,
           1,
           1,
           1,
           4,
           1,
           0,
           3,
           2,
           1,
           2,
           4,
           2,
           3,
           0,
           2,
           5,
           1,
           4,
           0,
           0,
           1,
           3,
           0,
           4,
           2,
           3,
           4,
           3,
           0,
           2,
           1,
           5,
           3,
           1,
           2,
           0,
           2,
           3,
           4,
           0,
           1,
           1,
           3,
           1,
           4,
           2,
           5,
           4,
           1,
           0,
           3,
           1,
           0,
           5,
           4,
           4,
           0,
           0,
           2,
           4,
           1,
           0,
           0,
           0,
           5,
           1,
           4,
           5,
           4,
           3,
           4,
           3,
           4,
           3,
           2,
           1,
           3,
           2,
           4,
           1,
           0,
           2,
           2,
           0,
           0,
           2,
           1,
           1,
           2,
           1,
           1,
           0,
           2,
           4,
           4,
           2,
           3,
           3,
           0,
           5,
           0,
           3,
           1,
           0,
           2,
           0,
           1,
           1,
           3,
           4,
           2,
           1,
           2,
           1,
           4,
           1,
           2,
           4,
           0,
           1,
           2,
           1,
           1,
           2,
           0,
           0,
           2,
           0,
           1,
           4,
           2,
           2,
           5,
           0,
           4,
           1,
           2,
           4,
           3,
           2,
           1,
           5,
           1,
           3,
           4,
           3,
           0,
           4,
           1,
           4,
           4,
           2,
           2,
           2
          ],
          "coloraxis": "coloraxis",
          "symbol": "circle"
         },
         "mode": "markers",
         "name": "",
         "scene": "scene",
         "showlegend": false,
         "type": "scatter3d",
         "x": [
          49,
          59,
          54,
          42,
          30,
          38,
          45,
          23,
          59,
          48,
          55,
          73,
          54,
          34,
          54,
          53,
          23,
          30,
          37,
          52,
          39,
          38,
          71,
          31,
          42,
          65,
          65,
          33,
          29,
          24,
          59,
          40,
          52,
          47,
          66,
          62,
          73,
          23,
          45,
          43,
          21,
          45,
          54,
          22,
          26,
          72,
          29,
          65,
          34,
          26,
          66,
          50,
          33,
          47,
          59,
          52,
          55,
          74,
          32,
          31,
          25,
          75,
          39,
          46,
          29,
          34,
          54,
          36,
          52,
          28,
          18,
          45,
          48,
          50,
          43,
          27,
          68,
          67,
          59,
          74,
          62,
          45,
          33,
          20,
          61,
          32,
          49,
          66,
          36,
          55,
          35,
          22,
          59,
          21,
          74,
          51,
          22,
          35,
          47,
          66,
          20,
          58,
          42,
          27,
          63,
          28,
          48,
          63,
          45,
          22,
          70,
          65,
          41,
          56,
          51,
          33,
          69,
          21,
          40,
          19,
          62,
          38,
          49,
          30,
          62,
          58,
          73,
          66,
          71,
          54,
          53,
          34,
          41,
          47,
          26,
          30,
          55,
          43,
          50,
          61,
          37,
          29,
          26,
          22,
          56,
          70,
          38,
          37,
          62,
          19,
          46,
          50,
          48,
          53,
          70,
          60,
          37,
          57,
          66,
          27,
          21,
          22,
          18,
          18,
          38,
          23,
          21,
          44,
          72,
          63,
          50,
          56,
          59,
          44,
          20,
          33,
          49,
          22,
          64,
          31,
          53,
          23,
          26,
          63,
          43,
          62,
          74,
          66,
          45,
          62,
          61,
          47,
          74,
          48,
          48,
          54,
          20,
          44,
          28,
          41
         ],
         "y": [
          653,
          630,
          555,
          699,
          793,
          635,
          881,
          852,
          708,
          669,
          618,
          614,
          711,
          629,
          764,
          880,
          729,
          803,
          817,
          774,
          672,
          691,
          669,
          555,
          778,
          623,
          782,
          588,
          684,
          698,
          562,
          774,
          777,
          769,
          755,
          789,
          575,
          850,
          715,
          639,
          817,
          731,
          704,
          712,
          713,
          874,
          751,
          761,
          633,
          632,
          763,
          701,
          784,
          854,
          692,
          751,
          648,
          865,
          863,
          622,
          817,
          868,
          849,
          565,
          665,
          632,
          670,
          736,
          687,
          561,
          892,
          724,
          583,
          760,
          555,
          712,
          880,
          873,
          715,
          897,
          801,
          600,
          768,
          807,
          626,
          654,
          742,
          738,
          805,
          808,
          625,
          695,
          656,
          678,
          859,
          616,
          861,
          814,
          616,
          653,
          575,
          576,
          575,
          666,
          876,
          568,
          849,
          564,
          654,
          565,
          782,
          667,
          593,
          606,
          553,
          827,
          559,
          806,
          620,
          857,
          804,
          858,
          695,
          800,
          624,
          767,
          630,
          808,
          790,
          726,
          624,
          746,
          895,
          781,
          868,
          894,
          707,
          552,
          842,
          567,
          636,
          756,
          894,
          887,
          647,
          657,
          607,
          637,
          884,
          551,
          892,
          616,
          886,
          868,
          669,
          605,
          854,
          742,
          803,
          707,
          633,
          827,
          742,
          586,
          581,
          786,
          718,
          755,
          836,
          725,
          573,
          605,
          890,
          657,
          779,
          666,
          779,
          844,
          733,
          571,
          601,
          701,
          838,
          573,
          896,
          824,
          615,
          770,
          831,
          676,
          559,
          784,
          608,
          568,
          833,
          601,
          554,
          844,
          837,
          789
         ],
         "z": [
          "Male",
          "Male",
          "Female",
          "Female",
          "Female",
          "Female",
          "Female",
          "Female",
          "Male",
          "Female",
          "Male",
          "Female",
          "Female",
          "Female",
          "Male",
          "Male",
          "Female",
          "Male",
          "Male",
          "Female",
          "Male",
          "Male",
          "Female",
          "Male",
          "Female",
          "Male",
          "Female",
          "Male",
          "Female",
          "Female",
          "Male",
          "Female",
          "Male",
          "Male",
          "Female",
          "Female",
          "Female",
          "Female",
          "Female",
          "Female",
          "Female",
          "Male",
          "Male",
          "Female",
          "Female",
          "Female",
          "Female",
          "Female",
          "Female",
          "Female",
          "Female",
          "Male",
          "Female",
          "Male",
          "Female",
          "Male",
          "Female",
          "Male",
          "Female",
          "Male",
          "Male",
          "Male",
          "Female",
          "Female",
          "Male",
          "Male",
          "Female",
          "Female",
          "Male",
          "Female",
          "Male",
          "Female",
          "Female",
          "Female",
          "Male",
          "Male",
          "Female",
          "Male",
          "Female",
          "Female",
          "Male",
          "Male",
          "Male",
          "Female",
          "Female",
          "Male",
          "Female",
          "Female",
          "Female",
          "Female",
          "Female",
          "Male",
          "Male",
          "Female",
          "Female",
          "Male",
          "Female",
          "Female",
          "Male",
          "Male",
          "Female",
          "Female",
          "Male",
          "Male",
          "Male",
          "Female",
          "Female",
          "Male",
          "Male",
          "Male",
          "Male",
          "Female",
          "Female",
          "Male",
          "Female",
          "Female",
          "Female",
          "Female",
          "Female",
          "Female",
          "Male",
          "Female",
          "Female",
          "Male",
          "Female",
          "Female",
          "Male",
          "Male",
          "Male",
          "Male",
          "Male",
          "Male",
          "Female",
          "Female",
          "Male",
          "Female",
          "Female",
          "Male",
          "Male",
          "Female",
          "Female",
          "Male",
          "Female",
          "Female",
          "Male",
          "Male",
          "Male",
          "Female",
          "Female",
          "Male",
          "Male",
          "Male",
          "Female",
          "Female",
          "Female",
          "Female",
          "Male",
          "Female",
          "Male",
          "Female",
          "Female",
          "Female",
          "Male",
          "Female",
          "Male",
          "Female",
          "Male",
          "Female",
          "Female",
          "Male",
          "Male",
          "Male",
          "Male",
          "Male",
          "Female",
          "Female",
          "Male",
          "Male",
          "Male",
          "Male",
          "Female",
          "Female",
          "Male",
          "Female",
          "Female",
          "Male",
          "Female",
          "Male",
          "Female",
          "Female",
          "Female",
          "Female",
          "Male",
          "Female",
          "Female",
          "Female",
          "Female",
          "Male",
          "Male",
          "Male"
         ]
        }
       ],
       "layout": {
        "coloraxis": {
         "colorbar": {
          "title": {
           "text": "lable"
          }
         },
         "colorscale": [
          [
           0,
           "#0d0887"
          ],
          [
           0.1111111111111111,
           "#46039f"
          ],
          [
           0.2222222222222222,
           "#7201a8"
          ],
          [
           0.3333333333333333,
           "#9c179e"
          ],
          [
           0.4444444444444444,
           "#bd3786"
          ],
          [
           0.5555555555555556,
           "#d8576b"
          ],
          [
           0.6666666666666666,
           "#ed7953"
          ],
          [
           0.7777777777777778,
           "#fb9f3a"
          ],
          [
           0.8888888888888888,
           "#fdca26"
          ],
          [
           1,
           "#f0f921"
          ]
         ]
        },
        "legend": {
         "tracegroupgap": 0
        },
        "margin": {
         "t": 60
        },
        "scene": {
         "domain": {
          "x": [
           0,
           1
          ],
          "y": [
           0,
           1
          ]
         },
         "xaxis": {
          "title": {
           "text": "CustomerAge"
          }
         },
         "yaxis": {
          "title": {
           "text": "CreditScore"
          }
         },
         "zaxis": {
          "title": {
           "text": "CustomerGender"
          }
         }
        },
        "template": {
         "data": {
          "bar": [
           {
            "error_x": {
             "color": "#2a3f5f"
            },
            "error_y": {
             "color": "#2a3f5f"
            },
            "marker": {
             "line": {
              "color": "#E5ECF6",
              "width": 0.5
             },
             "pattern": {
              "fillmode": "overlay",
              "size": 10,
              "solidity": 0.2
             }
            },
            "type": "bar"
           }
          ],
          "barpolar": [
           {
            "marker": {
             "line": {
              "color": "#E5ECF6",
              "width": 0.5
             },
             "pattern": {
              "fillmode": "overlay",
              "size": 10,
              "solidity": 0.2
             }
            },
            "type": "barpolar"
           }
          ],
          "carpet": [
           {
            "aaxis": {
             "endlinecolor": "#2a3f5f",
             "gridcolor": "white",
             "linecolor": "white",
             "minorgridcolor": "white",
             "startlinecolor": "#2a3f5f"
            },
            "baxis": {
             "endlinecolor": "#2a3f5f",
             "gridcolor": "white",
             "linecolor": "white",
             "minorgridcolor": "white",
             "startlinecolor": "#2a3f5f"
            },
            "type": "carpet"
           }
          ],
          "choropleth": [
           {
            "colorbar": {
             "outlinewidth": 0,
             "ticks": ""
            },
            "type": "choropleth"
           }
          ],
          "contour": [
           {
            "colorbar": {
             "outlinewidth": 0,
             "ticks": ""
            },
            "colorscale": [
             [
              0,
              "#0d0887"
             ],
             [
              0.1111111111111111,
              "#46039f"
             ],
             [
              0.2222222222222222,
              "#7201a8"
             ],
             [
              0.3333333333333333,
              "#9c179e"
             ],
             [
              0.4444444444444444,
              "#bd3786"
             ],
             [
              0.5555555555555556,
              "#d8576b"
             ],
             [
              0.6666666666666666,
              "#ed7953"
             ],
             [
              0.7777777777777778,
              "#fb9f3a"
             ],
             [
              0.8888888888888888,
              "#fdca26"
             ],
             [
              1,
              "#f0f921"
             ]
            ],
            "type": "contour"
           }
          ],
          "contourcarpet": [
           {
            "colorbar": {
             "outlinewidth": 0,
             "ticks": ""
            },
            "type": "contourcarpet"
           }
          ],
          "heatmap": [
           {
            "colorbar": {
             "outlinewidth": 0,
             "ticks": ""
            },
            "colorscale": [
             [
              0,
              "#0d0887"
             ],
             [
              0.1111111111111111,
              "#46039f"
             ],
             [
              0.2222222222222222,
              "#7201a8"
             ],
             [
              0.3333333333333333,
              "#9c179e"
             ],
             [
              0.4444444444444444,
              "#bd3786"
             ],
             [
              0.5555555555555556,
              "#d8576b"
             ],
             [
              0.6666666666666666,
              "#ed7953"
             ],
             [
              0.7777777777777778,
              "#fb9f3a"
             ],
             [
              0.8888888888888888,
              "#fdca26"
             ],
             [
              1,
              "#f0f921"
             ]
            ],
            "type": "heatmap"
           }
          ],
          "heatmapgl": [
           {
            "colorbar": {
             "outlinewidth": 0,
             "ticks": ""
            },
            "colorscale": [
             [
              0,
              "#0d0887"
             ],
             [
              0.1111111111111111,
              "#46039f"
             ],
             [
              0.2222222222222222,
              "#7201a8"
             ],
             [
              0.3333333333333333,
              "#9c179e"
             ],
             [
              0.4444444444444444,
              "#bd3786"
             ],
             [
              0.5555555555555556,
              "#d8576b"
             ],
             [
              0.6666666666666666,
              "#ed7953"
             ],
             [
              0.7777777777777778,
              "#fb9f3a"
             ],
             [
              0.8888888888888888,
              "#fdca26"
             ],
             [
              1,
              "#f0f921"
             ]
            ],
            "type": "heatmapgl"
           }
          ],
          "histogram": [
           {
            "marker": {
             "pattern": {
              "fillmode": "overlay",
              "size": 10,
              "solidity": 0.2
             }
            },
            "type": "histogram"
           }
          ],
          "histogram2d": [
           {
            "colorbar": {
             "outlinewidth": 0,
             "ticks": ""
            },
            "colorscale": [
             [
              0,
              "#0d0887"
             ],
             [
              0.1111111111111111,
              "#46039f"
             ],
             [
              0.2222222222222222,
              "#7201a8"
             ],
             [
              0.3333333333333333,
              "#9c179e"
             ],
             [
              0.4444444444444444,
              "#bd3786"
             ],
             [
              0.5555555555555556,
              "#d8576b"
             ],
             [
              0.6666666666666666,
              "#ed7953"
             ],
             [
              0.7777777777777778,
              "#fb9f3a"
             ],
             [
              0.8888888888888888,
              "#fdca26"
             ],
             [
              1,
              "#f0f921"
             ]
            ],
            "type": "histogram2d"
           }
          ],
          "histogram2dcontour": [
           {
            "colorbar": {
             "outlinewidth": 0,
             "ticks": ""
            },
            "colorscale": [
             [
              0,
              "#0d0887"
             ],
             [
              0.1111111111111111,
              "#46039f"
             ],
             [
              0.2222222222222222,
              "#7201a8"
             ],
             [
              0.3333333333333333,
              "#9c179e"
             ],
             [
              0.4444444444444444,
              "#bd3786"
             ],
             [
              0.5555555555555556,
              "#d8576b"
             ],
             [
              0.6666666666666666,
              "#ed7953"
             ],
             [
              0.7777777777777778,
              "#fb9f3a"
             ],
             [
              0.8888888888888888,
              "#fdca26"
             ],
             [
              1,
              "#f0f921"
             ]
            ],
            "type": "histogram2dcontour"
           }
          ],
          "mesh3d": [
           {
            "colorbar": {
             "outlinewidth": 0,
             "ticks": ""
            },
            "type": "mesh3d"
           }
          ],
          "parcoords": [
           {
            "line": {
             "colorbar": {
              "outlinewidth": 0,
              "ticks": ""
             }
            },
            "type": "parcoords"
           }
          ],
          "pie": [
           {
            "automargin": true,
            "type": "pie"
           }
          ],
          "scatter": [
           {
            "marker": {
             "colorbar": {
              "outlinewidth": 0,
              "ticks": ""
             }
            },
            "type": "scatter"
           }
          ],
          "scatter3d": [
           {
            "line": {
             "colorbar": {
              "outlinewidth": 0,
              "ticks": ""
             }
            },
            "marker": {
             "colorbar": {
              "outlinewidth": 0,
              "ticks": ""
             }
            },
            "type": "scatter3d"
           }
          ],
          "scattercarpet": [
           {
            "marker": {
             "colorbar": {
              "outlinewidth": 0,
              "ticks": ""
             }
            },
            "type": "scattercarpet"
           }
          ],
          "scattergeo": [
           {
            "marker": {
             "colorbar": {
              "outlinewidth": 0,
              "ticks": ""
             }
            },
            "type": "scattergeo"
           }
          ],
          "scattergl": [
           {
            "marker": {
             "colorbar": {
              "outlinewidth": 0,
              "ticks": ""
             }
            },
            "type": "scattergl"
           }
          ],
          "scattermapbox": [
           {
            "marker": {
             "colorbar": {
              "outlinewidth": 0,
              "ticks": ""
             }
            },
            "type": "scattermapbox"
           }
          ],
          "scatterpolar": [
           {
            "marker": {
             "colorbar": {
              "outlinewidth": 0,
              "ticks": ""
             }
            },
            "type": "scatterpolar"
           }
          ],
          "scatterpolargl": [
           {
            "marker": {
             "colorbar": {
              "outlinewidth": 0,
              "ticks": ""
             }
            },
            "type": "scatterpolargl"
           }
          ],
          "scatterternary": [
           {
            "marker": {
             "colorbar": {
              "outlinewidth": 0,
              "ticks": ""
             }
            },
            "type": "scatterternary"
           }
          ],
          "surface": [
           {
            "colorbar": {
             "outlinewidth": 0,
             "ticks": ""
            },
            "colorscale": [
             [
              0,
              "#0d0887"
             ],
             [
              0.1111111111111111,
              "#46039f"
             ],
             [
              0.2222222222222222,
              "#7201a8"
             ],
             [
              0.3333333333333333,
              "#9c179e"
             ],
             [
              0.4444444444444444,
              "#bd3786"
             ],
             [
              0.5555555555555556,
              "#d8576b"
             ],
             [
              0.6666666666666666,
              "#ed7953"
             ],
             [
              0.7777777777777778,
              "#fb9f3a"
             ],
             [
              0.8888888888888888,
              "#fdca26"
             ],
             [
              1,
              "#f0f921"
             ]
            ],
            "type": "surface"
           }
          ],
          "table": [
           {
            "cells": {
             "fill": {
              "color": "#EBF0F8"
             },
             "line": {
              "color": "white"
             }
            },
            "header": {
             "fill": {
              "color": "#C8D4E3"
             },
             "line": {
              "color": "white"
             }
            },
            "type": "table"
           }
          ]
         },
         "layout": {
          "annotationdefaults": {
           "arrowcolor": "#2a3f5f",
           "arrowhead": 0,
           "arrowwidth": 1
          },
          "autotypenumbers": "strict",
          "coloraxis": {
           "colorbar": {
            "outlinewidth": 0,
            "ticks": ""
           }
          },
          "colorscale": {
           "diverging": [
            [
             0,
             "#8e0152"
            ],
            [
             0.1,
             "#c51b7d"
            ],
            [
             0.2,
             "#de77ae"
            ],
            [
             0.3,
             "#f1b6da"
            ],
            [
             0.4,
             "#fde0ef"
            ],
            [
             0.5,
             "#f7f7f7"
            ],
            [
             0.6,
             "#e6f5d0"
            ],
            [
             0.7,
             "#b8e186"
            ],
            [
             0.8,
             "#7fbc41"
            ],
            [
             0.9,
             "#4d9221"
            ],
            [
             1,
             "#276419"
            ]
           ],
           "sequential": [
            [
             0,
             "#0d0887"
            ],
            [
             0.1111111111111111,
             "#46039f"
            ],
            [
             0.2222222222222222,
             "#7201a8"
            ],
            [
             0.3333333333333333,
             "#9c179e"
            ],
            [
             0.4444444444444444,
             "#bd3786"
            ],
            [
             0.5555555555555556,
             "#d8576b"
            ],
            [
             0.6666666666666666,
             "#ed7953"
            ],
            [
             0.7777777777777778,
             "#fb9f3a"
            ],
            [
             0.8888888888888888,
             "#fdca26"
            ],
            [
             1,
             "#f0f921"
            ]
           ],
           "sequentialminus": [
            [
             0,
             "#0d0887"
            ],
            [
             0.1111111111111111,
             "#46039f"
            ],
            [
             0.2222222222222222,
             "#7201a8"
            ],
            [
             0.3333333333333333,
             "#9c179e"
            ],
            [
             0.4444444444444444,
             "#bd3786"
            ],
            [
             0.5555555555555556,
             "#d8576b"
            ],
            [
             0.6666666666666666,
             "#ed7953"
            ],
            [
             0.7777777777777778,
             "#fb9f3a"
            ],
            [
             0.8888888888888888,
             "#fdca26"
            ],
            [
             1,
             "#f0f921"
            ]
           ]
          },
          "colorway": [
           "#636efa",
           "#EF553B",
           "#00cc96",
           "#ab63fa",
           "#FFA15A",
           "#19d3f3",
           "#FF6692",
           "#B6E880",
           "#FF97FF",
           "#FECB52"
          ],
          "font": {
           "color": "#2a3f5f"
          },
          "geo": {
           "bgcolor": "white",
           "lakecolor": "white",
           "landcolor": "#E5ECF6",
           "showlakes": true,
           "showland": true,
           "subunitcolor": "white"
          },
          "hoverlabel": {
           "align": "left"
          },
          "hovermode": "closest",
          "mapbox": {
           "style": "light"
          },
          "paper_bgcolor": "white",
          "plot_bgcolor": "#E5ECF6",
          "polar": {
           "angularaxis": {
            "gridcolor": "white",
            "linecolor": "white",
            "ticks": ""
           },
           "bgcolor": "#E5ECF6",
           "radialaxis": {
            "gridcolor": "white",
            "linecolor": "white",
            "ticks": ""
           }
          },
          "scene": {
           "xaxis": {
            "backgroundcolor": "#E5ECF6",
            "gridcolor": "white",
            "gridwidth": 2,
            "linecolor": "white",
            "showbackground": true,
            "ticks": "",
            "zerolinecolor": "white"
           },
           "yaxis": {
            "backgroundcolor": "#E5ECF6",
            "gridcolor": "white",
            "gridwidth": 2,
            "linecolor": "white",
            "showbackground": true,
            "ticks": "",
            "zerolinecolor": "white"
           },
           "zaxis": {
            "backgroundcolor": "#E5ECF6",
            "gridcolor": "white",
            "gridwidth": 2,
            "linecolor": "white",
            "showbackground": true,
            "ticks": "",
            "zerolinecolor": "white"
           }
          },
          "shapedefaults": {
           "line": {
            "color": "#2a3f5f"
           }
          },
          "ternary": {
           "aaxis": {
            "gridcolor": "white",
            "linecolor": "white",
            "ticks": ""
           },
           "baxis": {
            "gridcolor": "white",
            "linecolor": "white",
            "ticks": ""
           },
           "bgcolor": "#E5ECF6",
           "caxis": {
            "gridcolor": "white",
            "linecolor": "white",
            "ticks": ""
           }
          },
          "title": {
           "x": 0.05
          },
          "xaxis": {
           "automargin": true,
           "gridcolor": "white",
           "linecolor": "white",
           "ticks": "",
           "title": {
            "standoff": 15
           },
           "zerolinecolor": "white",
           "zerolinewidth": 2
          },
          "yaxis": {
           "automargin": true,
           "gridcolor": "white",
           "linecolor": "white",
           "ticks": "",
           "title": {
            "standoff": 15
           },
           "zerolinecolor": "white",
           "zerolinewidth": 2
          }
         }
        }
       }
      },
      "text/html": [
       "<div>                            <div id=\"3c918e79-3c9e-4942-a64e-d4c24121dbc1\" class=\"plotly-graph-div\" style=\"height:525px; width:100%;\"></div>            <script type=\"text/javascript\">                require([\"plotly\"], function(Plotly) {                    window.PLOTLYENV=window.PLOTLYENV || {};                                    if (document.getElementById(\"3c918e79-3c9e-4942-a64e-d4c24121dbc1\")) {                    Plotly.newPlot(                        \"3c918e79-3c9e-4942-a64e-d4c24121dbc1\",                        [{\"hovertemplate\":\"CustomerAge=%{x}<br>CreditScore=%{y}<br>CustomerGender=%{z}<br>lable=%{marker.color}<extra></extra>\",\"legendgroup\":\"\",\"marker\":{\"color\":[0,0,4,3,3,4,3,1,5,1,5,4,1,4,2,2,3,2,2,1,0,0,1,0,1,0,1,0,3,3,5,1,2,2,1,1,4,1,1,4,3,2,0,3,1,1,1,1,1,4,1,0,3,2,1,2,4,2,3,0,2,5,1,4,0,0,1,3,0,4,2,3,4,3,0,2,1,5,3,1,2,0,2,3,4,0,1,1,3,1,4,2,5,4,1,0,3,1,0,5,4,4,0,0,2,4,1,0,0,0,5,1,4,5,4,3,4,3,4,3,2,1,3,2,4,1,0,2,2,0,0,2,1,1,2,1,1,0,2,4,4,2,3,3,0,5,0,3,1,0,2,0,1,1,3,4,2,1,2,1,4,1,2,4,0,1,2,1,1,2,0,0,2,0,1,4,2,2,5,0,4,1,2,4,3,2,1,5,1,3,4,3,0,4,1,4,4,2,2,2],\"coloraxis\":\"coloraxis\",\"symbol\":\"circle\"},\"mode\":\"markers\",\"name\":\"\",\"scene\":\"scene\",\"showlegend\":false,\"x\":[49,59,54,42,30,38,45,23,59,48,55,73,54,34,54,53,23,30,37,52,39,38,71,31,42,65,65,33,29,24,59,40,52,47,66,62,73,23,45,43,21,45,54,22,26,72,29,65,34,26,66,50,33,47,59,52,55,74,32,31,25,75,39,46,29,34,54,36,52,28,18,45,48,50,43,27,68,67,59,74,62,45,33,20,61,32,49,66,36,55,35,22,59,21,74,51,22,35,47,66,20,58,42,27,63,28,48,63,45,22,70,65,41,56,51,33,69,21,40,19,62,38,49,30,62,58,73,66,71,54,53,34,41,47,26,30,55,43,50,61,37,29,26,22,56,70,38,37,62,19,46,50,48,53,70,60,37,57,66,27,21,22,18,18,38,23,21,44,72,63,50,56,59,44,20,33,49,22,64,31,53,23,26,63,43,62,74,66,45,62,61,47,74,48,48,54,20,44,28,41],\"y\":[653,630,555,699,793,635,881,852,708,669,618,614,711,629,764,880,729,803,817,774,672,691,669,555,778,623,782,588,684,698,562,774,777,769,755,789,575,850,715,639,817,731,704,712,713,874,751,761,633,632,763,701,784,854,692,751,648,865,863,622,817,868,849,565,665,632,670,736,687,561,892,724,583,760,555,712,880,873,715,897,801,600,768,807,626,654,742,738,805,808,625,695,656,678,859,616,861,814,616,653,575,576,575,666,876,568,849,564,654,565,782,667,593,606,553,827,559,806,620,857,804,858,695,800,624,767,630,808,790,726,624,746,895,781,868,894,707,552,842,567,636,756,894,887,647,657,607,637,884,551,892,616,886,868,669,605,854,742,803,707,633,827,742,586,581,786,718,755,836,725,573,605,890,657,779,666,779,844,733,571,601,701,838,573,896,824,615,770,831,676,559,784,608,568,833,601,554,844,837,789],\"z\":[\"Male\",\"Male\",\"Female\",\"Female\",\"Female\",\"Female\",\"Female\",\"Female\",\"Male\",\"Female\",\"Male\",\"Female\",\"Female\",\"Female\",\"Male\",\"Male\",\"Female\",\"Male\",\"Male\",\"Female\",\"Male\",\"Male\",\"Female\",\"Male\",\"Female\",\"Male\",\"Female\",\"Male\",\"Female\",\"Female\",\"Male\",\"Female\",\"Male\",\"Male\",\"Female\",\"Female\",\"Female\",\"Female\",\"Female\",\"Female\",\"Female\",\"Male\",\"Male\",\"Female\",\"Female\",\"Female\",\"Female\",\"Female\",\"Female\",\"Female\",\"Female\",\"Male\",\"Female\",\"Male\",\"Female\",\"Male\",\"Female\",\"Male\",\"Female\",\"Male\",\"Male\",\"Male\",\"Female\",\"Female\",\"Male\",\"Male\",\"Female\",\"Female\",\"Male\",\"Female\",\"Male\",\"Female\",\"Female\",\"Female\",\"Male\",\"Male\",\"Female\",\"Male\",\"Female\",\"Female\",\"Male\",\"Male\",\"Male\",\"Female\",\"Female\",\"Male\",\"Female\",\"Female\",\"Female\",\"Female\",\"Female\",\"Male\",\"Male\",\"Female\",\"Female\",\"Male\",\"Female\",\"Female\",\"Male\",\"Male\",\"Female\",\"Female\",\"Male\",\"Male\",\"Male\",\"Female\",\"Female\",\"Male\",\"Male\",\"Male\",\"Male\",\"Female\",\"Female\",\"Male\",\"Female\",\"Female\",\"Female\",\"Female\",\"Female\",\"Female\",\"Male\",\"Female\",\"Female\",\"Male\",\"Female\",\"Female\",\"Male\",\"Male\",\"Male\",\"Male\",\"Male\",\"Male\",\"Female\",\"Female\",\"Male\",\"Female\",\"Female\",\"Male\",\"Male\",\"Female\",\"Female\",\"Male\",\"Female\",\"Female\",\"Male\",\"Male\",\"Male\",\"Female\",\"Female\",\"Male\",\"Male\",\"Male\",\"Female\",\"Female\",\"Female\",\"Female\",\"Male\",\"Female\",\"Male\",\"Female\",\"Female\",\"Female\",\"Male\",\"Female\",\"Male\",\"Female\",\"Male\",\"Female\",\"Female\",\"Male\",\"Male\",\"Male\",\"Male\",\"Male\",\"Female\",\"Female\",\"Male\",\"Male\",\"Male\",\"Male\",\"Female\",\"Female\",\"Male\",\"Female\",\"Female\",\"Male\",\"Female\",\"Male\",\"Female\",\"Female\",\"Female\",\"Female\",\"Male\",\"Female\",\"Female\",\"Female\",\"Female\",\"Male\",\"Male\",\"Male\"],\"type\":\"scatter3d\"}],                        {\"template\":{\"data\":{\"bar\":[{\"error_x\":{\"color\":\"#2a3f5f\"},\"error_y\":{\"color\":\"#2a3f5f\"},\"marker\":{\"line\":{\"color\":\"#E5ECF6\",\"width\":0.5},\"pattern\":{\"fillmode\":\"overlay\",\"size\":10,\"solidity\":0.2}},\"type\":\"bar\"}],\"barpolar\":[{\"marker\":{\"line\":{\"color\":\"#E5ECF6\",\"width\":0.5},\"pattern\":{\"fillmode\":\"overlay\",\"size\":10,\"solidity\":0.2}},\"type\":\"barpolar\"}],\"carpet\":[{\"aaxis\":{\"endlinecolor\":\"#2a3f5f\",\"gridcolor\":\"white\",\"linecolor\":\"white\",\"minorgridcolor\":\"white\",\"startlinecolor\":\"#2a3f5f\"},\"baxis\":{\"endlinecolor\":\"#2a3f5f\",\"gridcolor\":\"white\",\"linecolor\":\"white\",\"minorgridcolor\":\"white\",\"startlinecolor\":\"#2a3f5f\"},\"type\":\"carpet\"}],\"choropleth\":[{\"colorbar\":{\"outlinewidth\":0,\"ticks\":\"\"},\"type\":\"choropleth\"}],\"contour\":[{\"colorbar\":{\"outlinewidth\":0,\"ticks\":\"\"},\"colorscale\":[[0.0,\"#0d0887\"],[0.1111111111111111,\"#46039f\"],[0.2222222222222222,\"#7201a8\"],[0.3333333333333333,\"#9c179e\"],[0.4444444444444444,\"#bd3786\"],[0.5555555555555556,\"#d8576b\"],[0.6666666666666666,\"#ed7953\"],[0.7777777777777778,\"#fb9f3a\"],[0.8888888888888888,\"#fdca26\"],[1.0,\"#f0f921\"]],\"type\":\"contour\"}],\"contourcarpet\":[{\"colorbar\":{\"outlinewidth\":0,\"ticks\":\"\"},\"type\":\"contourcarpet\"}],\"heatmap\":[{\"colorbar\":{\"outlinewidth\":0,\"ticks\":\"\"},\"colorscale\":[[0.0,\"#0d0887\"],[0.1111111111111111,\"#46039f\"],[0.2222222222222222,\"#7201a8\"],[0.3333333333333333,\"#9c179e\"],[0.4444444444444444,\"#bd3786\"],[0.5555555555555556,\"#d8576b\"],[0.6666666666666666,\"#ed7953\"],[0.7777777777777778,\"#fb9f3a\"],[0.8888888888888888,\"#fdca26\"],[1.0,\"#f0f921\"]],\"type\":\"heatmap\"}],\"heatmapgl\":[{\"colorbar\":{\"outlinewidth\":0,\"ticks\":\"\"},\"colorscale\":[[0.0,\"#0d0887\"],[0.1111111111111111,\"#46039f\"],[0.2222222222222222,\"#7201a8\"],[0.3333333333333333,\"#9c179e\"],[0.4444444444444444,\"#bd3786\"],[0.5555555555555556,\"#d8576b\"],[0.6666666666666666,\"#ed7953\"],[0.7777777777777778,\"#fb9f3a\"],[0.8888888888888888,\"#fdca26\"],[1.0,\"#f0f921\"]],\"type\":\"heatmapgl\"}],\"histogram\":[{\"marker\":{\"pattern\":{\"fillmode\":\"overlay\",\"size\":10,\"solidity\":0.2}},\"type\":\"histogram\"}],\"histogram2d\":[{\"colorbar\":{\"outlinewidth\":0,\"ticks\":\"\"},\"colorscale\":[[0.0,\"#0d0887\"],[0.1111111111111111,\"#46039f\"],[0.2222222222222222,\"#7201a8\"],[0.3333333333333333,\"#9c179e\"],[0.4444444444444444,\"#bd3786\"],[0.5555555555555556,\"#d8576b\"],[0.6666666666666666,\"#ed7953\"],[0.7777777777777778,\"#fb9f3a\"],[0.8888888888888888,\"#fdca26\"],[1.0,\"#f0f921\"]],\"type\":\"histogram2d\"}],\"histogram2dcontour\":[{\"colorbar\":{\"outlinewidth\":0,\"ticks\":\"\"},\"colorscale\":[[0.0,\"#0d0887\"],[0.1111111111111111,\"#46039f\"],[0.2222222222222222,\"#7201a8\"],[0.3333333333333333,\"#9c179e\"],[0.4444444444444444,\"#bd3786\"],[0.5555555555555556,\"#d8576b\"],[0.6666666666666666,\"#ed7953\"],[0.7777777777777778,\"#fb9f3a\"],[0.8888888888888888,\"#fdca26\"],[1.0,\"#f0f921\"]],\"type\":\"histogram2dcontour\"}],\"mesh3d\":[{\"colorbar\":{\"outlinewidth\":0,\"ticks\":\"\"},\"type\":\"mesh3d\"}],\"parcoords\":[{\"line\":{\"colorbar\":{\"outlinewidth\":0,\"ticks\":\"\"}},\"type\":\"parcoords\"}],\"pie\":[{\"automargin\":true,\"type\":\"pie\"}],\"scatter\":[{\"marker\":{\"colorbar\":{\"outlinewidth\":0,\"ticks\":\"\"}},\"type\":\"scatter\"}],\"scatter3d\":[{\"line\":{\"colorbar\":{\"outlinewidth\":0,\"ticks\":\"\"}},\"marker\":{\"colorbar\":{\"outlinewidth\":0,\"ticks\":\"\"}},\"type\":\"scatter3d\"}],\"scattercarpet\":[{\"marker\":{\"colorbar\":{\"outlinewidth\":0,\"ticks\":\"\"}},\"type\":\"scattercarpet\"}],\"scattergeo\":[{\"marker\":{\"colorbar\":{\"outlinewidth\":0,\"ticks\":\"\"}},\"type\":\"scattergeo\"}],\"scattergl\":[{\"marker\":{\"colorbar\":{\"outlinewidth\":0,\"ticks\":\"\"}},\"type\":\"scattergl\"}],\"scattermapbox\":[{\"marker\":{\"colorbar\":{\"outlinewidth\":0,\"ticks\":\"\"}},\"type\":\"scattermapbox\"}],\"scatterpolar\":[{\"marker\":{\"colorbar\":{\"outlinewidth\":0,\"ticks\":\"\"}},\"type\":\"scatterpolar\"}],\"scatterpolargl\":[{\"marker\":{\"colorbar\":{\"outlinewidth\":0,\"ticks\":\"\"}},\"type\":\"scatterpolargl\"}],\"scatterternary\":[{\"marker\":{\"colorbar\":{\"outlinewidth\":0,\"ticks\":\"\"}},\"type\":\"scatterternary\"}],\"surface\":[{\"colorbar\":{\"outlinewidth\":0,\"ticks\":\"\"},\"colorscale\":[[0.0,\"#0d0887\"],[0.1111111111111111,\"#46039f\"],[0.2222222222222222,\"#7201a8\"],[0.3333333333333333,\"#9c179e\"],[0.4444444444444444,\"#bd3786\"],[0.5555555555555556,\"#d8576b\"],[0.6666666666666666,\"#ed7953\"],[0.7777777777777778,\"#fb9f3a\"],[0.8888888888888888,\"#fdca26\"],[1.0,\"#f0f921\"]],\"type\":\"surface\"}],\"table\":[{\"cells\":{\"fill\":{\"color\":\"#EBF0F8\"},\"line\":{\"color\":\"white\"}},\"header\":{\"fill\":{\"color\":\"#C8D4E3\"},\"line\":{\"color\":\"white\"}},\"type\":\"table\"}]},\"layout\":{\"annotationdefaults\":{\"arrowcolor\":\"#2a3f5f\",\"arrowhead\":0,\"arrowwidth\":1},\"autotypenumbers\":\"strict\",\"coloraxis\":{\"colorbar\":{\"outlinewidth\":0,\"ticks\":\"\"}},\"colorscale\":{\"diverging\":[[0,\"#8e0152\"],[0.1,\"#c51b7d\"],[0.2,\"#de77ae\"],[0.3,\"#f1b6da\"],[0.4,\"#fde0ef\"],[0.5,\"#f7f7f7\"],[0.6,\"#e6f5d0\"],[0.7,\"#b8e186\"],[0.8,\"#7fbc41\"],[0.9,\"#4d9221\"],[1,\"#276419\"]],\"sequential\":[[0.0,\"#0d0887\"],[0.1111111111111111,\"#46039f\"],[0.2222222222222222,\"#7201a8\"],[0.3333333333333333,\"#9c179e\"],[0.4444444444444444,\"#bd3786\"],[0.5555555555555556,\"#d8576b\"],[0.6666666666666666,\"#ed7953\"],[0.7777777777777778,\"#fb9f3a\"],[0.8888888888888888,\"#fdca26\"],[1.0,\"#f0f921\"]],\"sequentialminus\":[[0.0,\"#0d0887\"],[0.1111111111111111,\"#46039f\"],[0.2222222222222222,\"#7201a8\"],[0.3333333333333333,\"#9c179e\"],[0.4444444444444444,\"#bd3786\"],[0.5555555555555556,\"#d8576b\"],[0.6666666666666666,\"#ed7953\"],[0.7777777777777778,\"#fb9f3a\"],[0.8888888888888888,\"#fdca26\"],[1.0,\"#f0f921\"]]},\"colorway\":[\"#636efa\",\"#EF553B\",\"#00cc96\",\"#ab63fa\",\"#FFA15A\",\"#19d3f3\",\"#FF6692\",\"#B6E880\",\"#FF97FF\",\"#FECB52\"],\"font\":{\"color\":\"#2a3f5f\"},\"geo\":{\"bgcolor\":\"white\",\"lakecolor\":\"white\",\"landcolor\":\"#E5ECF6\",\"showlakes\":true,\"showland\":true,\"subunitcolor\":\"white\"},\"hoverlabel\":{\"align\":\"left\"},\"hovermode\":\"closest\",\"mapbox\":{\"style\":\"light\"},\"paper_bgcolor\":\"white\",\"plot_bgcolor\":\"#E5ECF6\",\"polar\":{\"angularaxis\":{\"gridcolor\":\"white\",\"linecolor\":\"white\",\"ticks\":\"\"},\"bgcolor\":\"#E5ECF6\",\"radialaxis\":{\"gridcolor\":\"white\",\"linecolor\":\"white\",\"ticks\":\"\"}},\"scene\":{\"xaxis\":{\"backgroundcolor\":\"#E5ECF6\",\"gridcolor\":\"white\",\"gridwidth\":2,\"linecolor\":\"white\",\"showbackground\":true,\"ticks\":\"\",\"zerolinecolor\":\"white\"},\"yaxis\":{\"backgroundcolor\":\"#E5ECF6\",\"gridcolor\":\"white\",\"gridwidth\":2,\"linecolor\":\"white\",\"showbackground\":true,\"ticks\":\"\",\"zerolinecolor\":\"white\"},\"zaxis\":{\"backgroundcolor\":\"#E5ECF6\",\"gridcolor\":\"white\",\"gridwidth\":2,\"linecolor\":\"white\",\"showbackground\":true,\"ticks\":\"\",\"zerolinecolor\":\"white\"}},\"shapedefaults\":{\"line\":{\"color\":\"#2a3f5f\"}},\"ternary\":{\"aaxis\":{\"gridcolor\":\"white\",\"linecolor\":\"white\",\"ticks\":\"\"},\"baxis\":{\"gridcolor\":\"white\",\"linecolor\":\"white\",\"ticks\":\"\"},\"bgcolor\":\"#E5ECF6\",\"caxis\":{\"gridcolor\":\"white\",\"linecolor\":\"white\",\"ticks\":\"\"}},\"title\":{\"x\":0.05},\"xaxis\":{\"automargin\":true,\"gridcolor\":\"white\",\"linecolor\":\"white\",\"ticks\":\"\",\"title\":{\"standoff\":15},\"zerolinecolor\":\"white\",\"zerolinewidth\":2},\"yaxis\":{\"automargin\":true,\"gridcolor\":\"white\",\"linecolor\":\"white\",\"ticks\":\"\",\"title\":{\"standoff\":15},\"zerolinecolor\":\"white\",\"zerolinewidth\":2}}},\"scene\":{\"domain\":{\"x\":[0.0,1.0],\"y\":[0.0,1.0]},\"xaxis\":{\"title\":{\"text\":\"CustomerAge\"}},\"yaxis\":{\"title\":{\"text\":\"CreditScore\"}},\"zaxis\":{\"title\":{\"text\":\"CustomerGender\"}}},\"coloraxis\":{\"colorbar\":{\"title\":{\"text\":\"lable\"}},\"colorscale\":[[0.0,\"#0d0887\"],[0.1111111111111111,\"#46039f\"],[0.2222222222222222,\"#7201a8\"],[0.3333333333333333,\"#9c179e\"],[0.4444444444444444,\"#bd3786\"],[0.5555555555555556,\"#d8576b\"],[0.6666666666666666,\"#ed7953\"],[0.7777777777777778,\"#fb9f3a\"],[0.8888888888888888,\"#fdca26\"],[1.0,\"#f0f921\"]]},\"legend\":{\"tracegroupgap\":0},\"margin\":{\"t\":60}},                        {\"responsive\": true}                    ).then(function(){\n",
       "                            \n",
       "var gd = document.getElementById('3c918e79-3c9e-4942-a64e-d4c24121dbc1');\n",
       "var x = new MutationObserver(function (mutations, observer) {{\n",
       "        var display = window.getComputedStyle(gd).display;\n",
       "        if (!display || display === 'none') {{\n",
       "            console.log([gd, 'removed!']);\n",
       "            Plotly.purge(gd);\n",
       "            observer.disconnect();\n",
       "        }}\n",
       "}});\n",
       "\n",
       "// Listen for the removal of the full notebook cells\n",
       "var notebookContainer = gd.closest('#notebook-container');\n",
       "if (notebookContainer) {{\n",
       "    x.observe(notebookContainer, {childList: true});\n",
       "}}\n",
       "\n",
       "// Listen for the clearing of the current output cell\n",
       "var outputEl = gd.closest('.output');\n",
       "if (outputEl) {{\n",
       "    x.observe(outputEl, {childList: true});\n",
       "}}\n",
       "\n",
       "                        })                };                });            </script>        </div>"
      ]
     },
     "metadata": {},
     "output_type": "display_data"
    }
   ],
   "source": [
    "\n",
    "df=pd.read_csv('Data/Shopping_CustomerData.csv')\n",
    "\n",
    "DF=df.iloc[:,[1,2,4,5,6]]\n",
    "\n",
    "transformer=ColumnTransformer([\n",
    "                                ('OHE', OneHotEncoder(sparse=False,handle_unknown='ignore'),['CustomerGender']),\n",
    "                                ('MnMx', MinMaxScaler(), ['AnnualIncome','CreditScore', 'SpendingScore','CustomerAge'])],\n",
    "                                remainder='passthrough'\n",
    "                                                )\n",
    "\n",
    "X=transformer.fit_transform(DF)\n",
    "\n",
    "GM=GaussianMixture(n_components=6,init_params='kmeans',max_iter=300).fit(X)\n",
    "\n",
    "lables=GM.predict(X)\n",
    "\n",
    "GM_DF=df.copy()\n",
    "\n",
    "GM_DF['lable']=lables\n",
    "\n",
    "score = silhouette_score(X,lables)\n",
    "print (\"Silhouette Score\", score)\n",
    "\n",
    "\n",
    "print(GM.aic(X))\n",
    "\n",
    "px.scatter_3d(GM_DF, 'CustomerAge', 'CreditScore', 'CustomerGender', color='lable')\n",
    "\n",
    "\n"
   ]
  },
  {
   "cell_type": "code",
   "execution_count": 101,
   "metadata": {
    "scrolled": false
   },
   "outputs": [
    {
     "data": {
      "application/vnd.plotly.v1+json": {
       "config": {
        "plotlyServerURL": "https://plot.ly"
       },
       "data": [
        {
         "hovertemplate": "CustomerAge=%{x}<br>CreditScore=%{y}<br>SpendingScore=%{z}<br>AnnualIncome=%{marker.size}<br>lable=%{marker.color}<extra></extra>",
         "legendgroup": "",
         "marker": {
          "color": [
           0,
           0,
           1,
           3,
           3,
           1,
           3,
           3,
           0,
           1,
           0,
           1,
           1,
           3,
           2,
           2,
           3,
           2,
           2,
           1,
           0,
           0,
           1,
           0,
           3,
           0,
           1,
           0,
           3,
           3,
           0,
           1,
           2,
           2,
           1,
           1,
           1,
           3,
           1,
           1,
           3,
           2,
           0,
           3,
           3,
           1,
           3,
           1,
           3,
           3,
           1,
           0,
           3,
           2,
           1,
           2,
           1,
           2,
           3,
           0,
           2,
           2,
           1,
           1,
           0,
           0,
           1,
           3,
           0,
           3,
           2,
           3,
           1,
           1,
           0,
           2,
           1,
           2,
           1,
           1,
           2,
           0,
           2,
           3,
           1,
           0,
           1,
           1,
           3,
           1,
           3,
           0,
           0,
           3,
           1,
           0,
           3,
           3,
           0,
           0,
           3,
           1,
           0,
           0,
           2,
           3,
           1,
           0,
           0,
           0,
           2,
           1,
           3,
           0,
           1,
           3,
           1,
           3,
           1,
           3,
           2,
           1,
           3,
           2,
           1,
           1,
           0,
           2,
           2,
           0,
           0,
           2,
           3,
           1,
           2,
           3,
           1,
           0,
           2,
           1,
           3,
           2,
           3,
           3,
           0,
           0,
           0,
           3,
           1,
           0,
           2,
           0,
           1,
           1,
           1,
           1,
           2,
           1,
           2,
           3,
           3,
           3,
           2,
           3,
           0,
           3,
           0,
           1,
           1,
           2,
           0,
           0,
           2,
           0,
           3,
           3,
           2,
           2,
           2,
           0,
           1,
           3,
           2,
           1,
           3,
           2,
           1,
           2,
           3,
           1,
           1,
           3,
           0,
           1,
           1,
           1,
           3,
           2,
           2,
           2
          ],
          "coloraxis": "coloraxis",
          "size": [
           527547.5885,
           207143.1976,
           164423.8457,
           56220.36443,
           256194.3619,
           475324.8903,
           186352.3482,
           414233.1569,
           97263.51748,
           179271.2332,
           194016.5771,
           227536.1384,
           384549.196,
           441207.6896,
           195955.9211,
           342386.7743,
           12396.06128,
           243054.5171,
           353525.8767,
           146957.5537,
           217461.907,
           466647.6548,
           36359.20628,
           227040.4915,
           183013.7351,
           496142.1332,
           304101.4516,
           15305.84287,
           90898.14293,
           372800.2429,
           186025.496,
           424172.7786,
           316975.4388,
           245271.891,
           54756.27976,
           480722.9923,
           243050.2953,
           354943.3271,
           105283.4509,
           266522.7503,
           248583.777,
           35051.23859,
           279363.0453,
           498781.9307,
           288846.6029,
           348408.8613,
           516995.9529,
           54666.06526,
           69809.65753,
           371636.6915,
           238964.9748,
           299609.0836,
           361244.6459,
           187182.7663,
           513210.2881,
           258490.1227,
           443558.7535,
           121992.2184,
           129229.7353,
           351473.4476,
           365803.058,
           42277.72636,
           675461.7357,
           139008.5462,
           255913.6516,
           625214.1659,
           300855.7861,
           61533.99547,
           619650.7261,
           24160.45218,
           119798.585,
           116425.7192,
           235753.1848,
           432140.6847,
           160744.0503,
           264898.0293,
           440550.5344,
           66682.56943,
           196636.8508,
           277507.0036,
           459226.6407,
           143977.3393,
           211403.4684,
           39947.04454,
           544422.1798,
           537240.108,
           542745.9601,
           560856.4185,
           497387.3262,
           125660.3599,
           77749.71303,
           316583.7463,
           252129.1836,
           527125.1728,
           341603.312,
           98951.52835,
           192009.5051,
           203632.4332,
           336327.2596,
           363044.2299,
           386949.5256,
           548611.3616,
           59873.62527,
           49566.39,
           385780.8768,
           95882.3111,
           400021.3253,
           351206.5319,
           2577.057456,
           333149.3655,
           171137.0662,
           352699.3398,
           332877.7868,
           238627.5838,
           687212.7707,
           279227.4118,
           355596.8965,
           467350.1017,
           466464.8329,
           327653.0355,
           302975.1788,
           589901.0593,
           41370.44656,
           208227.1136,
           568519.0844,
           151571.5328,
           217072.6811,
           336463.0139,
           487605.5371,
           599442.5133,
           389042.5298,
           10349.41407,
           198910.519,
           405487.9323,
           221839.2718,
           260829.7117,
           133886.4033,
           82638.67765,
           380765.8752,
           101745.5371,
           341134.7218,
           274581.2169,
           212645.6303,
           281654.8846,
           98371.75627,
           213942.2065,
           5121.652342,
           142909.4261,
           651534.3098,
           365974.3719,
           355468.056,
           471770.9203,
           231493.99,
           465350.4429,
           127331.648,
           671028.1872,
           163664.207,
           216758.2928,
           193910.7081,
           22643.56036,
           365100.1564,
           534470.6945,
           261938.9818,
           330757.825,
           514927.5894,
           432732.181,
           695407.0917,
           285874.988,
           79113.55318,
           260043.8576,
           326077.0029,
           648085.0454,
           101571.4983,
           50434.47117,
           359566.4986,
           581177.2116,
           351979.4379,
           634980.9806,
           110492.7388,
           266781.9511,
           81891.02639,
           268234.2246,
           195930.2286,
           244212.5455,
           241845.7525,
           197295.8156,
           118255.8374,
           316199.317,
           153779.277,
           243936.1677,
           103642.4697,
           115856.0369,
           451973.2129,
           192447.8216,
           630148.5131,
           317466.4207,
           323305.5002,
           109058.5443,
           160116.893,
           280081.3901
          ],
          "sizemode": "area",
          "sizeref": 1738.51772925,
          "symbol": "circle"
         },
         "mode": "markers",
         "name": "",
         "scene": "scene",
         "showlegend": false,
         "type": "scatter3d",
         "x": [
          49,
          59,
          54,
          42,
          30,
          38,
          45,
          23,
          59,
          48,
          55,
          73,
          54,
          34,
          54,
          53,
          23,
          30,
          37,
          52,
          39,
          38,
          71,
          31,
          42,
          65,
          65,
          33,
          29,
          24,
          59,
          40,
          52,
          47,
          66,
          62,
          73,
          23,
          45,
          43,
          21,
          45,
          54,
          22,
          26,
          72,
          29,
          65,
          34,
          26,
          66,
          50,
          33,
          47,
          59,
          52,
          55,
          74,
          32,
          31,
          25,
          75,
          39,
          46,
          29,
          34,
          54,
          36,
          52,
          28,
          18,
          45,
          48,
          50,
          43,
          27,
          68,
          67,
          59,
          74,
          62,
          45,
          33,
          20,
          61,
          32,
          49,
          66,
          36,
          55,
          35,
          22,
          59,
          21,
          74,
          51,
          22,
          35,
          47,
          66,
          20,
          58,
          42,
          27,
          63,
          28,
          48,
          63,
          45,
          22,
          70,
          65,
          41,
          56,
          51,
          33,
          69,
          21,
          40,
          19,
          62,
          38,
          49,
          30,
          62,
          58,
          73,
          66,
          71,
          54,
          53,
          34,
          41,
          47,
          26,
          30,
          55,
          43,
          50,
          61,
          37,
          29,
          26,
          22,
          56,
          70,
          38,
          37,
          62,
          19,
          46,
          50,
          48,
          53,
          70,
          60,
          37,
          57,
          66,
          27,
          21,
          22,
          18,
          18,
          38,
          23,
          21,
          44,
          72,
          63,
          50,
          56,
          59,
          44,
          20,
          33,
          49,
          22,
          64,
          31,
          53,
          23,
          26,
          63,
          43,
          62,
          74,
          66,
          45,
          62,
          61,
          47,
          74,
          48,
          48,
          54,
          20,
          44,
          28,
          41
         ],
         "y": [
          653,
          630,
          555,
          699,
          793,
          635,
          881,
          852,
          708,
          669,
          618,
          614,
          711,
          629,
          764,
          880,
          729,
          803,
          817,
          774,
          672,
          691,
          669,
          555,
          778,
          623,
          782,
          588,
          684,
          698,
          562,
          774,
          777,
          769,
          755,
          789,
          575,
          850,
          715,
          639,
          817,
          731,
          704,
          712,
          713,
          874,
          751,
          761,
          633,
          632,
          763,
          701,
          784,
          854,
          692,
          751,
          648,
          865,
          863,
          622,
          817,
          868,
          849,
          565,
          665,
          632,
          670,
          736,
          687,
          561,
          892,
          724,
          583,
          760,
          555,
          712,
          880,
          873,
          715,
          897,
          801,
          600,
          768,
          807,
          626,
          654,
          742,
          738,
          805,
          808,
          625,
          695,
          656,
          678,
          859,
          616,
          861,
          814,
          616,
          653,
          575,
          576,
          575,
          666,
          876,
          568,
          849,
          564,
          654,
          565,
          782,
          667,
          593,
          606,
          553,
          827,
          559,
          806,
          620,
          857,
          804,
          858,
          695,
          800,
          624,
          767,
          630,
          808,
          790,
          726,
          624,
          746,
          895,
          781,
          868,
          894,
          707,
          552,
          842,
          567,
          636,
          756,
          894,
          887,
          647,
          657,
          607,
          637,
          884,
          551,
          892,
          616,
          886,
          868,
          669,
          605,
          854,
          742,
          803,
          707,
          633,
          827,
          742,
          586,
          581,
          786,
          718,
          755,
          836,
          725,
          573,
          605,
          890,
          657,
          779,
          666,
          779,
          844,
          733,
          571,
          601,
          701,
          838,
          573,
          896,
          824,
          615,
          770,
          831,
          676,
          559,
          784,
          608,
          568,
          833,
          601,
          554,
          844,
          837,
          789
         ],
         "z": [
          78,
          63,
          69,
          30,
          6,
          97,
          2,
          77,
          22,
          97,
          13,
          62,
          64,
          29,
          53,
          36,
          18,
          49,
          75,
          84,
          87,
          37,
          87,
          64,
          82,
          82,
          59,
          57,
          27,
          35,
          15,
          84,
          97,
          4,
          48,
          30,
          93,
          77,
          97,
          78,
          4,
          78,
          39,
          11,
          97,
          34,
          100,
          46,
          98,
          48,
          62,
          42,
          37,
          36,
          71,
          99,
          41,
          88,
          25,
          8,
          52,
          20,
          59,
          37,
          47,
          14,
          96,
          40,
          48,
          70,
          37,
          12,
          100,
          18,
          59,
          68,
          87,
          19,
          9,
          39,
          32,
          56,
          78,
          57,
          11,
          56,
          73,
          40,
          29,
          44,
          50,
          52,
          2,
          62,
          54,
          45,
          23,
          80,
          67,
          2,
          19,
          28,
          24,
          38,
          59,
          54,
          51,
          79,
          37,
          72,
          12,
          78,
          40,
          15,
          100,
          25,
          10,
          10,
          90,
          8,
          70,
          76,
          13,
          87,
          6,
          46,
          35,
          89,
          100,
          71,
          50,
          22,
          76,
          93,
          57,
          85,
          96,
          33,
          20,
          7,
          18,
          22,
          19,
          14,
          99,
          11,
          42,
          30,
          23,
          77,
          73,
          39,
          94,
          58,
          32,
          55,
          22,
          78,
          36,
          93,
          55,
          85,
          32,
          87,
          9,
          54,
          86,
          67,
          39,
          77,
          35,
          35,
          45,
          75,
          91,
          32,
          89,
          21,
          19,
          61,
          61,
          92,
          94,
          41,
          4,
          47,
          75,
          11,
          44,
          7,
          96,
          34,
          16,
          45,
          91,
          52,
          58,
          36,
          24,
          31
         ]
        }
       ],
       "layout": {
        "coloraxis": {
         "colorbar": {
          "title": {
           "text": "lable"
          }
         },
         "colorscale": [
          [
           0,
           "#0d0887"
          ],
          [
           0.1111111111111111,
           "#46039f"
          ],
          [
           0.2222222222222222,
           "#7201a8"
          ],
          [
           0.3333333333333333,
           "#9c179e"
          ],
          [
           0.4444444444444444,
           "#bd3786"
          ],
          [
           0.5555555555555556,
           "#d8576b"
          ],
          [
           0.6666666666666666,
           "#ed7953"
          ],
          [
           0.7777777777777778,
           "#fb9f3a"
          ],
          [
           0.8888888888888888,
           "#fdca26"
          ],
          [
           1,
           "#f0f921"
          ]
         ]
        },
        "legend": {
         "itemsizing": "constant",
         "tracegroupgap": 0
        },
        "margin": {
         "t": 60
        },
        "scene": {
         "domain": {
          "x": [
           0,
           1
          ],
          "y": [
           0,
           1
          ]
         },
         "xaxis": {
          "title": {
           "text": "CustomerAge"
          }
         },
         "yaxis": {
          "title": {
           "text": "CreditScore"
          }
         },
         "zaxis": {
          "title": {
           "text": "SpendingScore"
          }
         }
        },
        "template": {
         "data": {
          "bar": [
           {
            "error_x": {
             "color": "#2a3f5f"
            },
            "error_y": {
             "color": "#2a3f5f"
            },
            "marker": {
             "line": {
              "color": "#E5ECF6",
              "width": 0.5
             },
             "pattern": {
              "fillmode": "overlay",
              "size": 10,
              "solidity": 0.2
             }
            },
            "type": "bar"
           }
          ],
          "barpolar": [
           {
            "marker": {
             "line": {
              "color": "#E5ECF6",
              "width": 0.5
             },
             "pattern": {
              "fillmode": "overlay",
              "size": 10,
              "solidity": 0.2
             }
            },
            "type": "barpolar"
           }
          ],
          "carpet": [
           {
            "aaxis": {
             "endlinecolor": "#2a3f5f",
             "gridcolor": "white",
             "linecolor": "white",
             "minorgridcolor": "white",
             "startlinecolor": "#2a3f5f"
            },
            "baxis": {
             "endlinecolor": "#2a3f5f",
             "gridcolor": "white",
             "linecolor": "white",
             "minorgridcolor": "white",
             "startlinecolor": "#2a3f5f"
            },
            "type": "carpet"
           }
          ],
          "choropleth": [
           {
            "colorbar": {
             "outlinewidth": 0,
             "ticks": ""
            },
            "type": "choropleth"
           }
          ],
          "contour": [
           {
            "colorbar": {
             "outlinewidth": 0,
             "ticks": ""
            },
            "colorscale": [
             [
              0,
              "#0d0887"
             ],
             [
              0.1111111111111111,
              "#46039f"
             ],
             [
              0.2222222222222222,
              "#7201a8"
             ],
             [
              0.3333333333333333,
              "#9c179e"
             ],
             [
              0.4444444444444444,
              "#bd3786"
             ],
             [
              0.5555555555555556,
              "#d8576b"
             ],
             [
              0.6666666666666666,
              "#ed7953"
             ],
             [
              0.7777777777777778,
              "#fb9f3a"
             ],
             [
              0.8888888888888888,
              "#fdca26"
             ],
             [
              1,
              "#f0f921"
             ]
            ],
            "type": "contour"
           }
          ],
          "contourcarpet": [
           {
            "colorbar": {
             "outlinewidth": 0,
             "ticks": ""
            },
            "type": "contourcarpet"
           }
          ],
          "heatmap": [
           {
            "colorbar": {
             "outlinewidth": 0,
             "ticks": ""
            },
            "colorscale": [
             [
              0,
              "#0d0887"
             ],
             [
              0.1111111111111111,
              "#46039f"
             ],
             [
              0.2222222222222222,
              "#7201a8"
             ],
             [
              0.3333333333333333,
              "#9c179e"
             ],
             [
              0.4444444444444444,
              "#bd3786"
             ],
             [
              0.5555555555555556,
              "#d8576b"
             ],
             [
              0.6666666666666666,
              "#ed7953"
             ],
             [
              0.7777777777777778,
              "#fb9f3a"
             ],
             [
              0.8888888888888888,
              "#fdca26"
             ],
             [
              1,
              "#f0f921"
             ]
            ],
            "type": "heatmap"
           }
          ],
          "heatmapgl": [
           {
            "colorbar": {
             "outlinewidth": 0,
             "ticks": ""
            },
            "colorscale": [
             [
              0,
              "#0d0887"
             ],
             [
              0.1111111111111111,
              "#46039f"
             ],
             [
              0.2222222222222222,
              "#7201a8"
             ],
             [
              0.3333333333333333,
              "#9c179e"
             ],
             [
              0.4444444444444444,
              "#bd3786"
             ],
             [
              0.5555555555555556,
              "#d8576b"
             ],
             [
              0.6666666666666666,
              "#ed7953"
             ],
             [
              0.7777777777777778,
              "#fb9f3a"
             ],
             [
              0.8888888888888888,
              "#fdca26"
             ],
             [
              1,
              "#f0f921"
             ]
            ],
            "type": "heatmapgl"
           }
          ],
          "histogram": [
           {
            "marker": {
             "pattern": {
              "fillmode": "overlay",
              "size": 10,
              "solidity": 0.2
             }
            },
            "type": "histogram"
           }
          ],
          "histogram2d": [
           {
            "colorbar": {
             "outlinewidth": 0,
             "ticks": ""
            },
            "colorscale": [
             [
              0,
              "#0d0887"
             ],
             [
              0.1111111111111111,
              "#46039f"
             ],
             [
              0.2222222222222222,
              "#7201a8"
             ],
             [
              0.3333333333333333,
              "#9c179e"
             ],
             [
              0.4444444444444444,
              "#bd3786"
             ],
             [
              0.5555555555555556,
              "#d8576b"
             ],
             [
              0.6666666666666666,
              "#ed7953"
             ],
             [
              0.7777777777777778,
              "#fb9f3a"
             ],
             [
              0.8888888888888888,
              "#fdca26"
             ],
             [
              1,
              "#f0f921"
             ]
            ],
            "type": "histogram2d"
           }
          ],
          "histogram2dcontour": [
           {
            "colorbar": {
             "outlinewidth": 0,
             "ticks": ""
            },
            "colorscale": [
             [
              0,
              "#0d0887"
             ],
             [
              0.1111111111111111,
              "#46039f"
             ],
             [
              0.2222222222222222,
              "#7201a8"
             ],
             [
              0.3333333333333333,
              "#9c179e"
             ],
             [
              0.4444444444444444,
              "#bd3786"
             ],
             [
              0.5555555555555556,
              "#d8576b"
             ],
             [
              0.6666666666666666,
              "#ed7953"
             ],
             [
              0.7777777777777778,
              "#fb9f3a"
             ],
             [
              0.8888888888888888,
              "#fdca26"
             ],
             [
              1,
              "#f0f921"
             ]
            ],
            "type": "histogram2dcontour"
           }
          ],
          "mesh3d": [
           {
            "colorbar": {
             "outlinewidth": 0,
             "ticks": ""
            },
            "type": "mesh3d"
           }
          ],
          "parcoords": [
           {
            "line": {
             "colorbar": {
              "outlinewidth": 0,
              "ticks": ""
             }
            },
            "type": "parcoords"
           }
          ],
          "pie": [
           {
            "automargin": true,
            "type": "pie"
           }
          ],
          "scatter": [
           {
            "marker": {
             "colorbar": {
              "outlinewidth": 0,
              "ticks": ""
             }
            },
            "type": "scatter"
           }
          ],
          "scatter3d": [
           {
            "line": {
             "colorbar": {
              "outlinewidth": 0,
              "ticks": ""
             }
            },
            "marker": {
             "colorbar": {
              "outlinewidth": 0,
              "ticks": ""
             }
            },
            "type": "scatter3d"
           }
          ],
          "scattercarpet": [
           {
            "marker": {
             "colorbar": {
              "outlinewidth": 0,
              "ticks": ""
             }
            },
            "type": "scattercarpet"
           }
          ],
          "scattergeo": [
           {
            "marker": {
             "colorbar": {
              "outlinewidth": 0,
              "ticks": ""
             }
            },
            "type": "scattergeo"
           }
          ],
          "scattergl": [
           {
            "marker": {
             "colorbar": {
              "outlinewidth": 0,
              "ticks": ""
             }
            },
            "type": "scattergl"
           }
          ],
          "scattermapbox": [
           {
            "marker": {
             "colorbar": {
              "outlinewidth": 0,
              "ticks": ""
             }
            },
            "type": "scattermapbox"
           }
          ],
          "scatterpolar": [
           {
            "marker": {
             "colorbar": {
              "outlinewidth": 0,
              "ticks": ""
             }
            },
            "type": "scatterpolar"
           }
          ],
          "scatterpolargl": [
           {
            "marker": {
             "colorbar": {
              "outlinewidth": 0,
              "ticks": ""
             }
            },
            "type": "scatterpolargl"
           }
          ],
          "scatterternary": [
           {
            "marker": {
             "colorbar": {
              "outlinewidth": 0,
              "ticks": ""
             }
            },
            "type": "scatterternary"
           }
          ],
          "surface": [
           {
            "colorbar": {
             "outlinewidth": 0,
             "ticks": ""
            },
            "colorscale": [
             [
              0,
              "#0d0887"
             ],
             [
              0.1111111111111111,
              "#46039f"
             ],
             [
              0.2222222222222222,
              "#7201a8"
             ],
             [
              0.3333333333333333,
              "#9c179e"
             ],
             [
              0.4444444444444444,
              "#bd3786"
             ],
             [
              0.5555555555555556,
              "#d8576b"
             ],
             [
              0.6666666666666666,
              "#ed7953"
             ],
             [
              0.7777777777777778,
              "#fb9f3a"
             ],
             [
              0.8888888888888888,
              "#fdca26"
             ],
             [
              1,
              "#f0f921"
             ]
            ],
            "type": "surface"
           }
          ],
          "table": [
           {
            "cells": {
             "fill": {
              "color": "#EBF0F8"
             },
             "line": {
              "color": "white"
             }
            },
            "header": {
             "fill": {
              "color": "#C8D4E3"
             },
             "line": {
              "color": "white"
             }
            },
            "type": "table"
           }
          ]
         },
         "layout": {
          "annotationdefaults": {
           "arrowcolor": "#2a3f5f",
           "arrowhead": 0,
           "arrowwidth": 1
          },
          "autotypenumbers": "strict",
          "coloraxis": {
           "colorbar": {
            "outlinewidth": 0,
            "ticks": ""
           }
          },
          "colorscale": {
           "diverging": [
            [
             0,
             "#8e0152"
            ],
            [
             0.1,
             "#c51b7d"
            ],
            [
             0.2,
             "#de77ae"
            ],
            [
             0.3,
             "#f1b6da"
            ],
            [
             0.4,
             "#fde0ef"
            ],
            [
             0.5,
             "#f7f7f7"
            ],
            [
             0.6,
             "#e6f5d0"
            ],
            [
             0.7,
             "#b8e186"
            ],
            [
             0.8,
             "#7fbc41"
            ],
            [
             0.9,
             "#4d9221"
            ],
            [
             1,
             "#276419"
            ]
           ],
           "sequential": [
            [
             0,
             "#0d0887"
            ],
            [
             0.1111111111111111,
             "#46039f"
            ],
            [
             0.2222222222222222,
             "#7201a8"
            ],
            [
             0.3333333333333333,
             "#9c179e"
            ],
            [
             0.4444444444444444,
             "#bd3786"
            ],
            [
             0.5555555555555556,
             "#d8576b"
            ],
            [
             0.6666666666666666,
             "#ed7953"
            ],
            [
             0.7777777777777778,
             "#fb9f3a"
            ],
            [
             0.8888888888888888,
             "#fdca26"
            ],
            [
             1,
             "#f0f921"
            ]
           ],
           "sequentialminus": [
            [
             0,
             "#0d0887"
            ],
            [
             0.1111111111111111,
             "#46039f"
            ],
            [
             0.2222222222222222,
             "#7201a8"
            ],
            [
             0.3333333333333333,
             "#9c179e"
            ],
            [
             0.4444444444444444,
             "#bd3786"
            ],
            [
             0.5555555555555556,
             "#d8576b"
            ],
            [
             0.6666666666666666,
             "#ed7953"
            ],
            [
             0.7777777777777778,
             "#fb9f3a"
            ],
            [
             0.8888888888888888,
             "#fdca26"
            ],
            [
             1,
             "#f0f921"
            ]
           ]
          },
          "colorway": [
           "#636efa",
           "#EF553B",
           "#00cc96",
           "#ab63fa",
           "#FFA15A",
           "#19d3f3",
           "#FF6692",
           "#B6E880",
           "#FF97FF",
           "#FECB52"
          ],
          "font": {
           "color": "#2a3f5f"
          },
          "geo": {
           "bgcolor": "white",
           "lakecolor": "white",
           "landcolor": "#E5ECF6",
           "showlakes": true,
           "showland": true,
           "subunitcolor": "white"
          },
          "hoverlabel": {
           "align": "left"
          },
          "hovermode": "closest",
          "mapbox": {
           "style": "light"
          },
          "paper_bgcolor": "white",
          "plot_bgcolor": "#E5ECF6",
          "polar": {
           "angularaxis": {
            "gridcolor": "white",
            "linecolor": "white",
            "ticks": ""
           },
           "bgcolor": "#E5ECF6",
           "radialaxis": {
            "gridcolor": "white",
            "linecolor": "white",
            "ticks": ""
           }
          },
          "scene": {
           "xaxis": {
            "backgroundcolor": "#E5ECF6",
            "gridcolor": "white",
            "gridwidth": 2,
            "linecolor": "white",
            "showbackground": true,
            "ticks": "",
            "zerolinecolor": "white"
           },
           "yaxis": {
            "backgroundcolor": "#E5ECF6",
            "gridcolor": "white",
            "gridwidth": 2,
            "linecolor": "white",
            "showbackground": true,
            "ticks": "",
            "zerolinecolor": "white"
           },
           "zaxis": {
            "backgroundcolor": "#E5ECF6",
            "gridcolor": "white",
            "gridwidth": 2,
            "linecolor": "white",
            "showbackground": true,
            "ticks": "",
            "zerolinecolor": "white"
           }
          },
          "shapedefaults": {
           "line": {
            "color": "#2a3f5f"
           }
          },
          "ternary": {
           "aaxis": {
            "gridcolor": "white",
            "linecolor": "white",
            "ticks": ""
           },
           "baxis": {
            "gridcolor": "white",
            "linecolor": "white",
            "ticks": ""
           },
           "bgcolor": "#E5ECF6",
           "caxis": {
            "gridcolor": "white",
            "linecolor": "white",
            "ticks": ""
           }
          },
          "title": {
           "x": 0.05
          },
          "xaxis": {
           "automargin": true,
           "gridcolor": "white",
           "linecolor": "white",
           "ticks": "",
           "title": {
            "standoff": 15
           },
           "zerolinecolor": "white",
           "zerolinewidth": 2
          },
          "yaxis": {
           "automargin": true,
           "gridcolor": "white",
           "linecolor": "white",
           "ticks": "",
           "title": {
            "standoff": 15
           },
           "zerolinecolor": "white",
           "zerolinewidth": 2
          }
         }
        }
       }
      },
      "text/html": [
       "<div>                            <div id=\"ca0e5c05-9f60-421e-87dc-8faa75cff8f2\" class=\"plotly-graph-div\" style=\"height:525px; width:100%;\"></div>            <script type=\"text/javascript\">                require([\"plotly\"], function(Plotly) {                    window.PLOTLYENV=window.PLOTLYENV || {};                                    if (document.getElementById(\"ca0e5c05-9f60-421e-87dc-8faa75cff8f2\")) {                    Plotly.newPlot(                        \"ca0e5c05-9f60-421e-87dc-8faa75cff8f2\",                        [{\"hovertemplate\":\"CustomerAge=%{x}<br>CreditScore=%{y}<br>SpendingScore=%{z}<br>AnnualIncome=%{marker.size}<br>lable=%{marker.color}<extra></extra>\",\"legendgroup\":\"\",\"marker\":{\"color\":[0,0,1,3,3,1,3,3,0,1,0,1,1,3,2,2,3,2,2,1,0,0,1,0,3,0,1,0,3,3,0,1,2,2,1,1,1,3,1,1,3,2,0,3,3,1,3,1,3,3,1,0,3,2,1,2,1,2,3,0,2,2,1,1,0,0,1,3,0,3,2,3,1,1,0,2,1,2,1,1,2,0,2,3,1,0,1,1,3,1,3,0,0,3,1,0,3,3,0,0,3,1,0,0,2,3,1,0,0,0,2,1,3,0,1,3,1,3,1,3,2,1,3,2,1,1,0,2,2,0,0,2,3,1,2,3,1,0,2,1,3,2,3,3,0,0,0,3,1,0,2,0,1,1,1,1,2,1,2,3,3,3,2,3,0,3,0,1,1,2,0,0,2,0,3,3,2,2,2,0,1,3,2,1,3,2,1,2,3,1,1,3,0,1,1,1,3,2,2,2],\"coloraxis\":\"coloraxis\",\"size\":[527547.5885,207143.1976,164423.8457,56220.36443,256194.3619,475324.8903,186352.3482,414233.1569,97263.51748,179271.2332,194016.5771,227536.1384,384549.196,441207.6896,195955.9211,342386.7743,12396.06128,243054.5171,353525.8767,146957.5537,217461.907,466647.6548,36359.20628,227040.4915,183013.7351,496142.1332,304101.4516,15305.84287,90898.14293,372800.2429,186025.496,424172.7786,316975.4388,245271.891,54756.27976,480722.9923,243050.2953,354943.3271,105283.4509,266522.7503,248583.777,35051.23859,279363.0453,498781.9307,288846.6029,348408.8613,516995.9529,54666.06526,69809.65753,371636.6915,238964.9748,299609.0836,361244.6459,187182.7663,513210.2881,258490.1227,443558.7535,121992.2184,129229.7353,351473.4476,365803.058,42277.72636,675461.7357,139008.5462,255913.6516,625214.1659,300855.7861,61533.99547,619650.7261,24160.45218,119798.585,116425.7192,235753.1848,432140.6847,160744.0503,264898.0293,440550.5344,66682.56943,196636.8508,277507.0036,459226.6407,143977.3393,211403.4684,39947.04454,544422.1798,537240.108,542745.9601,560856.4185,497387.3262,125660.3599,77749.71303,316583.7463,252129.1836,527125.1728,341603.312,98951.52835,192009.5051,203632.4332,336327.2596,363044.2299,386949.5256,548611.3616,59873.62527,49566.39,385780.8768,95882.3111,400021.3253,351206.5319,2577.057456,333149.3655,171137.0662,352699.3398,332877.7868,238627.5838,687212.7707,279227.4118,355596.8965,467350.1017,466464.8329,327653.0355,302975.1788,589901.0593,41370.44656,208227.1136,568519.0844,151571.5328,217072.6811,336463.0139,487605.5371,599442.5133,389042.5298,10349.41407,198910.519,405487.9323,221839.2718,260829.7117,133886.4033,82638.67765,380765.8752,101745.5371,341134.7218,274581.2169,212645.6303,281654.8846,98371.75627,213942.2065,5121.652342,142909.4261,651534.3098,365974.3719,355468.056,471770.9203,231493.99,465350.4429,127331.648,671028.1872,163664.207,216758.2928,193910.7081,22643.56036,365100.1564,534470.6945,261938.9818,330757.825,514927.5894,432732.181,695407.0917,285874.988,79113.55318,260043.8576,326077.0029,648085.0454,101571.4983,50434.47117,359566.4986,581177.2116,351979.4379,634980.9806,110492.7388,266781.9511,81891.02639,268234.2246,195930.2286,244212.5455,241845.7525,197295.8156,118255.8374,316199.317,153779.277,243936.1677,103642.4697,115856.0369,451973.2129,192447.8216,630148.5131,317466.4207,323305.5002,109058.5443,160116.893,280081.3901],\"sizemode\":\"area\",\"sizeref\":1738.51772925,\"symbol\":\"circle\"},\"mode\":\"markers\",\"name\":\"\",\"scene\":\"scene\",\"showlegend\":false,\"x\":[49,59,54,42,30,38,45,23,59,48,55,73,54,34,54,53,23,30,37,52,39,38,71,31,42,65,65,33,29,24,59,40,52,47,66,62,73,23,45,43,21,45,54,22,26,72,29,65,34,26,66,50,33,47,59,52,55,74,32,31,25,75,39,46,29,34,54,36,52,28,18,45,48,50,43,27,68,67,59,74,62,45,33,20,61,32,49,66,36,55,35,22,59,21,74,51,22,35,47,66,20,58,42,27,63,28,48,63,45,22,70,65,41,56,51,33,69,21,40,19,62,38,49,30,62,58,73,66,71,54,53,34,41,47,26,30,55,43,50,61,37,29,26,22,56,70,38,37,62,19,46,50,48,53,70,60,37,57,66,27,21,22,18,18,38,23,21,44,72,63,50,56,59,44,20,33,49,22,64,31,53,23,26,63,43,62,74,66,45,62,61,47,74,48,48,54,20,44,28,41],\"y\":[653,630,555,699,793,635,881,852,708,669,618,614,711,629,764,880,729,803,817,774,672,691,669,555,778,623,782,588,684,698,562,774,777,769,755,789,575,850,715,639,817,731,704,712,713,874,751,761,633,632,763,701,784,854,692,751,648,865,863,622,817,868,849,565,665,632,670,736,687,561,892,724,583,760,555,712,880,873,715,897,801,600,768,807,626,654,742,738,805,808,625,695,656,678,859,616,861,814,616,653,575,576,575,666,876,568,849,564,654,565,782,667,593,606,553,827,559,806,620,857,804,858,695,800,624,767,630,808,790,726,624,746,895,781,868,894,707,552,842,567,636,756,894,887,647,657,607,637,884,551,892,616,886,868,669,605,854,742,803,707,633,827,742,586,581,786,718,755,836,725,573,605,890,657,779,666,779,844,733,571,601,701,838,573,896,824,615,770,831,676,559,784,608,568,833,601,554,844,837,789],\"z\":[78,63,69,30,6,97,2,77,22,97,13,62,64,29,53,36,18,49,75,84,87,37,87,64,82,82,59,57,27,35,15,84,97,4,48,30,93,77,97,78,4,78,39,11,97,34,100,46,98,48,62,42,37,36,71,99,41,88,25,8,52,20,59,37,47,14,96,40,48,70,37,12,100,18,59,68,87,19,9,39,32,56,78,57,11,56,73,40,29,44,50,52,2,62,54,45,23,80,67,2,19,28,24,38,59,54,51,79,37,72,12,78,40,15,100,25,10,10,90,8,70,76,13,87,6,46,35,89,100,71,50,22,76,93,57,85,96,33,20,7,18,22,19,14,99,11,42,30,23,77,73,39,94,58,32,55,22,78,36,93,55,85,32,87,9,54,86,67,39,77,35,35,45,75,91,32,89,21,19,61,61,92,94,41,4,47,75,11,44,7,96,34,16,45,91,52,58,36,24,31],\"type\":\"scatter3d\"}],                        {\"template\":{\"data\":{\"bar\":[{\"error_x\":{\"color\":\"#2a3f5f\"},\"error_y\":{\"color\":\"#2a3f5f\"},\"marker\":{\"line\":{\"color\":\"#E5ECF6\",\"width\":0.5},\"pattern\":{\"fillmode\":\"overlay\",\"size\":10,\"solidity\":0.2}},\"type\":\"bar\"}],\"barpolar\":[{\"marker\":{\"line\":{\"color\":\"#E5ECF6\",\"width\":0.5},\"pattern\":{\"fillmode\":\"overlay\",\"size\":10,\"solidity\":0.2}},\"type\":\"barpolar\"}],\"carpet\":[{\"aaxis\":{\"endlinecolor\":\"#2a3f5f\",\"gridcolor\":\"white\",\"linecolor\":\"white\",\"minorgridcolor\":\"white\",\"startlinecolor\":\"#2a3f5f\"},\"baxis\":{\"endlinecolor\":\"#2a3f5f\",\"gridcolor\":\"white\",\"linecolor\":\"white\",\"minorgridcolor\":\"white\",\"startlinecolor\":\"#2a3f5f\"},\"type\":\"carpet\"}],\"choropleth\":[{\"colorbar\":{\"outlinewidth\":0,\"ticks\":\"\"},\"type\":\"choropleth\"}],\"contour\":[{\"colorbar\":{\"outlinewidth\":0,\"ticks\":\"\"},\"colorscale\":[[0.0,\"#0d0887\"],[0.1111111111111111,\"#46039f\"],[0.2222222222222222,\"#7201a8\"],[0.3333333333333333,\"#9c179e\"],[0.4444444444444444,\"#bd3786\"],[0.5555555555555556,\"#d8576b\"],[0.6666666666666666,\"#ed7953\"],[0.7777777777777778,\"#fb9f3a\"],[0.8888888888888888,\"#fdca26\"],[1.0,\"#f0f921\"]],\"type\":\"contour\"}],\"contourcarpet\":[{\"colorbar\":{\"outlinewidth\":0,\"ticks\":\"\"},\"type\":\"contourcarpet\"}],\"heatmap\":[{\"colorbar\":{\"outlinewidth\":0,\"ticks\":\"\"},\"colorscale\":[[0.0,\"#0d0887\"],[0.1111111111111111,\"#46039f\"],[0.2222222222222222,\"#7201a8\"],[0.3333333333333333,\"#9c179e\"],[0.4444444444444444,\"#bd3786\"],[0.5555555555555556,\"#d8576b\"],[0.6666666666666666,\"#ed7953\"],[0.7777777777777778,\"#fb9f3a\"],[0.8888888888888888,\"#fdca26\"],[1.0,\"#f0f921\"]],\"type\":\"heatmap\"}],\"heatmapgl\":[{\"colorbar\":{\"outlinewidth\":0,\"ticks\":\"\"},\"colorscale\":[[0.0,\"#0d0887\"],[0.1111111111111111,\"#46039f\"],[0.2222222222222222,\"#7201a8\"],[0.3333333333333333,\"#9c179e\"],[0.4444444444444444,\"#bd3786\"],[0.5555555555555556,\"#d8576b\"],[0.6666666666666666,\"#ed7953\"],[0.7777777777777778,\"#fb9f3a\"],[0.8888888888888888,\"#fdca26\"],[1.0,\"#f0f921\"]],\"type\":\"heatmapgl\"}],\"histogram\":[{\"marker\":{\"pattern\":{\"fillmode\":\"overlay\",\"size\":10,\"solidity\":0.2}},\"type\":\"histogram\"}],\"histogram2d\":[{\"colorbar\":{\"outlinewidth\":0,\"ticks\":\"\"},\"colorscale\":[[0.0,\"#0d0887\"],[0.1111111111111111,\"#46039f\"],[0.2222222222222222,\"#7201a8\"],[0.3333333333333333,\"#9c179e\"],[0.4444444444444444,\"#bd3786\"],[0.5555555555555556,\"#d8576b\"],[0.6666666666666666,\"#ed7953\"],[0.7777777777777778,\"#fb9f3a\"],[0.8888888888888888,\"#fdca26\"],[1.0,\"#f0f921\"]],\"type\":\"histogram2d\"}],\"histogram2dcontour\":[{\"colorbar\":{\"outlinewidth\":0,\"ticks\":\"\"},\"colorscale\":[[0.0,\"#0d0887\"],[0.1111111111111111,\"#46039f\"],[0.2222222222222222,\"#7201a8\"],[0.3333333333333333,\"#9c179e\"],[0.4444444444444444,\"#bd3786\"],[0.5555555555555556,\"#d8576b\"],[0.6666666666666666,\"#ed7953\"],[0.7777777777777778,\"#fb9f3a\"],[0.8888888888888888,\"#fdca26\"],[1.0,\"#f0f921\"]],\"type\":\"histogram2dcontour\"}],\"mesh3d\":[{\"colorbar\":{\"outlinewidth\":0,\"ticks\":\"\"},\"type\":\"mesh3d\"}],\"parcoords\":[{\"line\":{\"colorbar\":{\"outlinewidth\":0,\"ticks\":\"\"}},\"type\":\"parcoords\"}],\"pie\":[{\"automargin\":true,\"type\":\"pie\"}],\"scatter\":[{\"marker\":{\"colorbar\":{\"outlinewidth\":0,\"ticks\":\"\"}},\"type\":\"scatter\"}],\"scatter3d\":[{\"line\":{\"colorbar\":{\"outlinewidth\":0,\"ticks\":\"\"}},\"marker\":{\"colorbar\":{\"outlinewidth\":0,\"ticks\":\"\"}},\"type\":\"scatter3d\"}],\"scattercarpet\":[{\"marker\":{\"colorbar\":{\"outlinewidth\":0,\"ticks\":\"\"}},\"type\":\"scattercarpet\"}],\"scattergeo\":[{\"marker\":{\"colorbar\":{\"outlinewidth\":0,\"ticks\":\"\"}},\"type\":\"scattergeo\"}],\"scattergl\":[{\"marker\":{\"colorbar\":{\"outlinewidth\":0,\"ticks\":\"\"}},\"type\":\"scattergl\"}],\"scattermapbox\":[{\"marker\":{\"colorbar\":{\"outlinewidth\":0,\"ticks\":\"\"}},\"type\":\"scattermapbox\"}],\"scatterpolar\":[{\"marker\":{\"colorbar\":{\"outlinewidth\":0,\"ticks\":\"\"}},\"type\":\"scatterpolar\"}],\"scatterpolargl\":[{\"marker\":{\"colorbar\":{\"outlinewidth\":0,\"ticks\":\"\"}},\"type\":\"scatterpolargl\"}],\"scatterternary\":[{\"marker\":{\"colorbar\":{\"outlinewidth\":0,\"ticks\":\"\"}},\"type\":\"scatterternary\"}],\"surface\":[{\"colorbar\":{\"outlinewidth\":0,\"ticks\":\"\"},\"colorscale\":[[0.0,\"#0d0887\"],[0.1111111111111111,\"#46039f\"],[0.2222222222222222,\"#7201a8\"],[0.3333333333333333,\"#9c179e\"],[0.4444444444444444,\"#bd3786\"],[0.5555555555555556,\"#d8576b\"],[0.6666666666666666,\"#ed7953\"],[0.7777777777777778,\"#fb9f3a\"],[0.8888888888888888,\"#fdca26\"],[1.0,\"#f0f921\"]],\"type\":\"surface\"}],\"table\":[{\"cells\":{\"fill\":{\"color\":\"#EBF0F8\"},\"line\":{\"color\":\"white\"}},\"header\":{\"fill\":{\"color\":\"#C8D4E3\"},\"line\":{\"color\":\"white\"}},\"type\":\"table\"}]},\"layout\":{\"annotationdefaults\":{\"arrowcolor\":\"#2a3f5f\",\"arrowhead\":0,\"arrowwidth\":1},\"autotypenumbers\":\"strict\",\"coloraxis\":{\"colorbar\":{\"outlinewidth\":0,\"ticks\":\"\"}},\"colorscale\":{\"diverging\":[[0,\"#8e0152\"],[0.1,\"#c51b7d\"],[0.2,\"#de77ae\"],[0.3,\"#f1b6da\"],[0.4,\"#fde0ef\"],[0.5,\"#f7f7f7\"],[0.6,\"#e6f5d0\"],[0.7,\"#b8e186\"],[0.8,\"#7fbc41\"],[0.9,\"#4d9221\"],[1,\"#276419\"]],\"sequential\":[[0.0,\"#0d0887\"],[0.1111111111111111,\"#46039f\"],[0.2222222222222222,\"#7201a8\"],[0.3333333333333333,\"#9c179e\"],[0.4444444444444444,\"#bd3786\"],[0.5555555555555556,\"#d8576b\"],[0.6666666666666666,\"#ed7953\"],[0.7777777777777778,\"#fb9f3a\"],[0.8888888888888888,\"#fdca26\"],[1.0,\"#f0f921\"]],\"sequentialminus\":[[0.0,\"#0d0887\"],[0.1111111111111111,\"#46039f\"],[0.2222222222222222,\"#7201a8\"],[0.3333333333333333,\"#9c179e\"],[0.4444444444444444,\"#bd3786\"],[0.5555555555555556,\"#d8576b\"],[0.6666666666666666,\"#ed7953\"],[0.7777777777777778,\"#fb9f3a\"],[0.8888888888888888,\"#fdca26\"],[1.0,\"#f0f921\"]]},\"colorway\":[\"#636efa\",\"#EF553B\",\"#00cc96\",\"#ab63fa\",\"#FFA15A\",\"#19d3f3\",\"#FF6692\",\"#B6E880\",\"#FF97FF\",\"#FECB52\"],\"font\":{\"color\":\"#2a3f5f\"},\"geo\":{\"bgcolor\":\"white\",\"lakecolor\":\"white\",\"landcolor\":\"#E5ECF6\",\"showlakes\":true,\"showland\":true,\"subunitcolor\":\"white\"},\"hoverlabel\":{\"align\":\"left\"},\"hovermode\":\"closest\",\"mapbox\":{\"style\":\"light\"},\"paper_bgcolor\":\"white\",\"plot_bgcolor\":\"#E5ECF6\",\"polar\":{\"angularaxis\":{\"gridcolor\":\"white\",\"linecolor\":\"white\",\"ticks\":\"\"},\"bgcolor\":\"#E5ECF6\",\"radialaxis\":{\"gridcolor\":\"white\",\"linecolor\":\"white\",\"ticks\":\"\"}},\"scene\":{\"xaxis\":{\"backgroundcolor\":\"#E5ECF6\",\"gridcolor\":\"white\",\"gridwidth\":2,\"linecolor\":\"white\",\"showbackground\":true,\"ticks\":\"\",\"zerolinecolor\":\"white\"},\"yaxis\":{\"backgroundcolor\":\"#E5ECF6\",\"gridcolor\":\"white\",\"gridwidth\":2,\"linecolor\":\"white\",\"showbackground\":true,\"ticks\":\"\",\"zerolinecolor\":\"white\"},\"zaxis\":{\"backgroundcolor\":\"#E5ECF6\",\"gridcolor\":\"white\",\"gridwidth\":2,\"linecolor\":\"white\",\"showbackground\":true,\"ticks\":\"\",\"zerolinecolor\":\"white\"}},\"shapedefaults\":{\"line\":{\"color\":\"#2a3f5f\"}},\"ternary\":{\"aaxis\":{\"gridcolor\":\"white\",\"linecolor\":\"white\",\"ticks\":\"\"},\"baxis\":{\"gridcolor\":\"white\",\"linecolor\":\"white\",\"ticks\":\"\"},\"bgcolor\":\"#E5ECF6\",\"caxis\":{\"gridcolor\":\"white\",\"linecolor\":\"white\",\"ticks\":\"\"}},\"title\":{\"x\":0.05},\"xaxis\":{\"automargin\":true,\"gridcolor\":\"white\",\"linecolor\":\"white\",\"ticks\":\"\",\"title\":{\"standoff\":15},\"zerolinecolor\":\"white\",\"zerolinewidth\":2},\"yaxis\":{\"automargin\":true,\"gridcolor\":\"white\",\"linecolor\":\"white\",\"ticks\":\"\",\"title\":{\"standoff\":15},\"zerolinecolor\":\"white\",\"zerolinewidth\":2}}},\"scene\":{\"domain\":{\"x\":[0.0,1.0],\"y\":[0.0,1.0]},\"xaxis\":{\"title\":{\"text\":\"CustomerAge\"}},\"yaxis\":{\"title\":{\"text\":\"CreditScore\"}},\"zaxis\":{\"title\":{\"text\":\"SpendingScore\"}}},\"coloraxis\":{\"colorbar\":{\"title\":{\"text\":\"lable\"}},\"colorscale\":[[0.0,\"#0d0887\"],[0.1111111111111111,\"#46039f\"],[0.2222222222222222,\"#7201a8\"],[0.3333333333333333,\"#9c179e\"],[0.4444444444444444,\"#bd3786\"],[0.5555555555555556,\"#d8576b\"],[0.6666666666666666,\"#ed7953\"],[0.7777777777777778,\"#fb9f3a\"],[0.8888888888888888,\"#fdca26\"],[1.0,\"#f0f921\"]]},\"legend\":{\"tracegroupgap\":0,\"itemsizing\":\"constant\"},\"margin\":{\"t\":60}},                        {\"responsive\": true}                    ).then(function(){\n",
       "                            \n",
       "var gd = document.getElementById('ca0e5c05-9f60-421e-87dc-8faa75cff8f2');\n",
       "var x = new MutationObserver(function (mutations, observer) {{\n",
       "        var display = window.getComputedStyle(gd).display;\n",
       "        if (!display || display === 'none') {{\n",
       "            console.log([gd, 'removed!']);\n",
       "            Plotly.purge(gd);\n",
       "            observer.disconnect();\n",
       "        }}\n",
       "}});\n",
       "\n",
       "// Listen for the removal of the full notebook cells\n",
       "var notebookContainer = gd.closest('#notebook-container');\n",
       "if (notebookContainer) {{\n",
       "    x.observe(notebookContainer, {childList: true});\n",
       "}}\n",
       "\n",
       "// Listen for the clearing of the current output cell\n",
       "var outputEl = gd.closest('.output');\n",
       "if (outputEl) {{\n",
       "    x.observe(outputEl, {childList: true});\n",
       "}}\n",
       "\n",
       "                        })                };                });            </script>        </div>"
      ]
     },
     "metadata": {},
     "output_type": "display_data"
    }
   ],
   "source": [
    "px.scatter_3d(GM_DF, 'CustomerAge', 'CreditScore', 'SpendingScore', color='lable', size='AnnualIncome')\n"
   ]
  },
  {
   "cell_type": "markdown",
   "metadata": {},
   "source": [
    "# DBSCAN\n",
    "\n",
    "- There are severl outliers, for instance 21 and 22 years old with ~700K annual income and low credit Score"
   ]
  },
  {
   "cell_type": "code",
   "execution_count": 108,
   "metadata": {},
   "outputs": [
    {
     "name": "stdout",
     "output_type": "stream",
     "text": [
      "3\n",
      "Silhouette Score 0.38190974970793895\n"
     ]
    },
    {
     "data": {
      "application/vnd.plotly.v1+json": {
       "config": {
        "plotlyServerURL": "https://plot.ly"
       },
       "data": [
        {
         "customdata": [
          [
           1001,
           "Male",
           "Bengaluru",
           527547.5885,
           1,
           0
          ],
          [
           1002,
           "Male",
           "Bengaluru",
           207143.1976,
           1,
           0
          ],
          [
           1003,
           "Female",
           "Delhi",
           164423.8457,
           4,
           1
          ],
          [
           1004,
           "Female",
           "Bengaluru",
           56220.36443,
           1,
           1
          ],
          [
           1005,
           "Female",
           "Bengaluru",
           256194.3619,
           1,
           1
          ],
          [
           1006,
           "Female",
           "Chennai",
           475324.8903,
           2,
           1
          ],
          [
           1007,
           "Female",
           "Chennai",
           186352.3482,
           2,
           1
          ],
          [
           1008,
           "Female",
           "Mumbai",
           414233.1569,
           5,
           1
          ],
          [
           1009,
           "Male",
           "Chennai",
           97263.51748,
           2,
           0
          ],
          [
           1010,
           "Female",
           "Kolkata",
           179271.2332,
           3,
           1
          ],
          [
           1011,
           "Male",
           "Bengaluru",
           194016.5771,
           1,
           0
          ],
          [
           1012,
           "Female",
           "Bengaluru",
           227536.1384,
           1,
           1
          ],
          [
           1013,
           "Female",
           "Delhi",
           384549.196,
           4,
           1
          ],
          [
           1014,
           "Female",
           "Mumbai",
           441207.6896,
           5,
           1
          ],
          [
           1015,
           "Male",
           "Bengaluru",
           195955.9211,
           1,
           0
          ],
          [
           1016,
           "Male",
           "Kolkata",
           342386.7743,
           3,
           0
          ],
          [
           1017,
           "Female",
           "Bengaluru",
           12396.06128,
           1,
           1
          ],
          [
           1018,
           "Male",
           "Mumbai",
           243054.5171,
           5,
           0
          ],
          [
           1019,
           "Male",
           "Mumbai",
           353525.8767,
           5,
           0
          ],
          [
           1020,
           "Female",
           "Kolkata",
           146957.5537,
           3,
           1
          ],
          [
           1021,
           "Male",
           "Chennai",
           217461.907,
           2,
           0
          ],
          [
           1022,
           "Male",
           "Bengaluru",
           466647.6548,
           1,
           0
          ],
          [
           1023,
           "Female",
           "Kolkata",
           36359.20628,
           3,
           1
          ],
          [
           1024,
           "Male",
           "Mumbai",
           227040.4915,
           5,
           0
          ],
          [
           1025,
           "Female",
           "Bengaluru",
           183013.7351,
           1,
           1
          ],
          [
           1026,
           "Male",
           "Chennai",
           496142.1332,
           2,
           -1
          ],
          [
           1027,
           "Female",
           "Kolkata",
           304101.4516,
           3,
           1
          ],
          [
           1028,
           "Male",
           "Bengaluru",
           15305.84287,
           1,
           0
          ],
          [
           1029,
           "Female",
           "Delhi",
           90898.14293,
           4,
           1
          ],
          [
           1030,
           "Female",
           "Chennai",
           372800.2429,
           2,
           1
          ],
          [
           1031,
           "Male",
           "Bengaluru",
           186025.496,
           1,
           0
          ],
          [
           1032,
           "Female",
           "Bengaluru",
           424172.7786,
           1,
           1
          ],
          [
           1033,
           "Male",
           "Chennai",
           316975.4388,
           2,
           0
          ],
          [
           1034,
           "Male",
           "Kolkata",
           245271.891,
           3,
           0
          ],
          [
           1035,
           "Female",
           "Chennai",
           54756.27976,
           2,
           1
          ],
          [
           1036,
           "Female",
           "Delhi",
           480722.9923,
           4,
           1
          ],
          [
           1037,
           "Female",
           "Mumbai",
           243050.2953,
           5,
           1
          ],
          [
           1038,
           "Female",
           "Mumbai",
           354943.3271,
           5,
           1
          ],
          [
           1039,
           "Female",
           "Mumbai",
           105283.4509,
           5,
           1
          ],
          [
           1040,
           "Female",
           "Mumbai",
           266522.7503,
           5,
           1
          ],
          [
           1041,
           "Female",
           "Mumbai",
           248583.777,
           5,
           1
          ],
          [
           1042,
           "Male",
           "Bengaluru",
           35051.23859,
           1,
           0
          ],
          [
           1043,
           "Male",
           "Bengaluru",
           279363.0453,
           1,
           0
          ],
          [
           1044,
           "Female",
           "Kolkata",
           498781.9307,
           3,
           1
          ],
          [
           1045,
           "Female",
           "Delhi",
           288846.6029,
           4,
           1
          ],
          [
           1046,
           "Female",
           "Kolkata",
           348408.8613,
           3,
           1
          ],
          [
           1047,
           "Female",
           "Bengaluru",
           516995.9529,
           1,
           1
          ],
          [
           1048,
           "Female",
           "Mumbai",
           54666.06526,
           5,
           1
          ],
          [
           1049,
           "Female",
           "Chennai",
           69809.65753,
           2,
           1
          ],
          [
           1050,
           "Female",
           "Chennai",
           371636.6915,
           2,
           1
          ],
          [
           1051,
           "Female",
           "Kolkata",
           238964.9748,
           3,
           1
          ],
          [
           1052,
           "Male",
           "Bengaluru",
           299609.0836,
           1,
           0
          ],
          [
           1053,
           "Female",
           "Kolkata",
           361244.6459,
           3,
           1
          ],
          [
           1054,
           "Male",
           "Mumbai",
           187182.7663,
           5,
           0
          ],
          [
           1055,
           "Female",
           "Kolkata",
           513210.2881,
           3,
           1
          ],
          [
           1056,
           "Male",
           "Delhi",
           258490.1227,
           4,
           0
          ],
          [
           1057,
           "Female",
           "Bengaluru",
           443558.7535,
           1,
           1
          ],
          [
           1058,
           "Male",
           "Bengaluru",
           121992.2184,
           1,
           0
          ],
          [
           1059,
           "Female",
           "Mumbai",
           129229.7353,
           5,
           1
          ],
          [
           1060,
           "Male",
           "Bengaluru",
           351473.4476,
           1,
           -1
          ],
          [
           1061,
           "Male",
           "Mumbai",
           365803.058,
           5,
           0
          ],
          [
           1062,
           "Male",
           "Delhi",
           42277.72636,
           4,
           0
          ],
          [
           1063,
           "Female",
           "Bengaluru",
           675461.7357,
           1,
           1
          ],
          [
           1064,
           "Female",
           "Bengaluru",
           139008.5462,
           1,
           1
          ],
          [
           1065,
           "Male",
           "Bengaluru",
           255913.6516,
           1,
           0
          ],
          [
           1066,
           "Male",
           "Chennai",
           625214.1659,
           2,
           0
          ],
          [
           1067,
           "Female",
           "Mumbai",
           300855.7861,
           5,
           1
          ],
          [
           1068,
           "Female",
           "Delhi",
           61533.99547,
           4,
           1
          ],
          [
           1069,
           "Male",
           "Chennai",
           619650.7261,
           2,
           0
          ],
          [
           1070,
           "Female",
           "Mumbai",
           24160.45218,
           5,
           1
          ],
          [
           1071,
           "Male",
           "Bengaluru",
           119798.585,
           1,
           0
          ],
          [
           1072,
           "Female",
           "Bengaluru",
           116425.7192,
           1,
           1
          ],
          [
           1073,
           "Female",
           "Kolkata",
           235753.1848,
           3,
           1
          ],
          [
           1074,
           "Female",
           "Mumbai",
           432140.6847,
           5,
           1
          ],
          [
           1075,
           "Male",
           "Delhi",
           160744.0503,
           4,
           0
          ],
          [
           1076,
           "Male",
           "Chennai",
           264898.0293,
           2,
           0
          ],
          [
           1077,
           "Female",
           "Delhi",
           440550.5344,
           4,
           -1
          ],
          [
           1078,
           "Male",
           "Bengaluru",
           66682.56943,
           1,
           0
          ],
          [
           1079,
           "Female",
           "Chennai",
           196636.8508,
           2,
           1
          ],
          [
           1080,
           "Female",
           "Chennai",
           277507.0036,
           2,
           -1
          ],
          [
           1081,
           "Male",
           "Delhi",
           459226.6407,
           4,
           0
          ],
          [
           1082,
           "Male",
           "Mumbai",
           143977.3393,
           5,
           0
          ],
          [
           1083,
           "Male",
           "Kolkata",
           211403.4684,
           3,
           0
          ],
          [
           1084,
           "Female",
           "Chennai",
           39947.04454,
           2,
           1
          ],
          [
           1085,
           "Female",
           "Delhi",
           544422.1798,
           4,
           1
          ],
          [
           1086,
           "Male",
           "Mumbai",
           537240.108,
           5,
           0
          ],
          [
           1087,
           "Female",
           "Bengaluru",
           542745.9601,
           1,
           1
          ],
          [
           1088,
           "Female",
           "Chennai",
           560856.4185,
           2,
           1
          ],
          [
           1089,
           "Female",
           "Delhi",
           497387.3262,
           4,
           1
          ],
          [
           1090,
           "Female",
           "Delhi",
           125660.3599,
           4,
           1
          ],
          [
           1091,
           "Female",
           "Delhi",
           77749.71303,
           4,
           1
          ],
          [
           1092,
           "Male",
           "Kolkata",
           316583.7463,
           3,
           0
          ],
          [
           1093,
           "Male",
           "Kolkata",
           252129.1836,
           3,
           0
          ],
          [
           1094,
           "Female",
           "Mumbai",
           527125.1728,
           5,
           1
          ],
          [
           1095,
           "Female",
           "Bengaluru",
           341603.312,
           1,
           1
          ],
          [
           1096,
           "Male",
           "Mumbai",
           98951.52835,
           5,
           0
          ],
          [
           1097,
           "Female",
           "Delhi",
           192009.5051,
           4,
           1
          ],
          [
           1098,
           "Female",
           "Mumbai",
           203632.4332,
           5,
           1
          ],
          [
           1099,
           "Male",
           "Chennai",
           336327.2596,
           2,
           0
          ],
          [
           1100,
           "Male",
           "Chennai",
           363044.2299,
           2,
           0
          ],
          [
           1101,
           "Female",
           "Bengaluru",
           386949.5256,
           1,
           1
          ],
          [
           1102,
           "Female",
           "Chennai",
           548611.3616,
           2,
           1
          ],
          [
           1103,
           "Male",
           "Delhi",
           59873.62527,
           4,
           0
          ],
          [
           1104,
           "Male",
           "Bengaluru",
           49566.39,
           1,
           0
          ],
          [
           1105,
           "Male",
           "Chennai",
           385780.8768,
           2,
           0
          ],
          [
           1106,
           "Female",
           "Chennai",
           95882.3111,
           2,
           1
          ],
          [
           1107,
           "Female",
           "Kolkata",
           400021.3253,
           3,
           1
          ],
          [
           1108,
           "Male",
           "Delhi",
           351206.5319,
           4,
           0
          ],
          [
           1109,
           "Male",
           "Chennai",
           2577.057456,
           2,
           0
          ],
          [
           1110,
           "Male",
           "Mumbai",
           333149.3655,
           5,
           0
          ],
          [
           1111,
           "Male",
           "Chennai",
           171137.0662,
           2,
           0
          ],
          [
           1112,
           "Female",
           "Mumbai",
           352699.3398,
           5,
           1
          ],
          [
           1113,
           "Female",
           "Chennai",
           332877.7868,
           2,
           1
          ],
          [
           1114,
           "Male",
           "Delhi",
           238627.5838,
           4,
           0
          ],
          [
           1115,
           "Female",
           "Chennai",
           687212.7707,
           2,
           -1
          ],
          [
           1116,
           "Female",
           "Delhi",
           279227.4118,
           4,
           1
          ],
          [
           1117,
           "Female",
           "Mumbai",
           355596.8965,
           5,
           1
          ],
          [
           1118,
           "Female",
           "Delhi",
           467350.1017,
           4,
           1
          ],
          [
           1119,
           "Female",
           "Kolkata",
           466464.8329,
           3,
           1
          ],
          [
           1120,
           "Female",
           "Delhi",
           327653.0355,
           4,
           1
          ],
          [
           1121,
           "Male",
           "Chennai",
           302975.1788,
           2,
           0
          ],
          [
           1122,
           "Female",
           "Mumbai",
           589901.0593,
           5,
           1
          ],
          [
           1123,
           "Female",
           "Delhi",
           41370.44656,
           4,
           1
          ],
          [
           1124,
           "Male",
           "Chennai",
           208227.1136,
           2,
           0
          ],
          [
           1125,
           "Female",
           "Mumbai",
           568519.0844,
           5,
           -1
          ],
          [
           1126,
           "Female",
           "Kolkata",
           151571.5328,
           3,
           1
          ],
          [
           1127,
           "Male",
           "Chennai",
           217072.6811,
           2,
           0
          ],
          [
           1128,
           "Male",
           "Bengaluru",
           336463.0139,
           1,
           0
          ],
          [
           1129,
           "Male",
           "Bengaluru",
           487605.5371,
           1,
           0
          ],
          [
           1130,
           "Male",
           "Bengaluru",
           599442.5133,
           1,
           0
          ],
          [
           1131,
           "Male",
           "Kolkata",
           389042.5298,
           3,
           0
          ],
          [
           1132,
           "Male",
           "Mumbai",
           10349.41407,
           5,
           0
          ],
          [
           1133,
           "Female",
           "Delhi",
           198910.519,
           4,
           1
          ],
          [
           1134,
           "Female",
           "Kolkata",
           405487.9323,
           3,
           1
          ],
          [
           1135,
           "Male",
           "Mumbai",
           221839.2718,
           5,
           0
          ],
          [
           1136,
           "Female",
           "Delhi",
           260829.7117,
           4,
           1
          ],
          [
           1137,
           "Female",
           "Kolkata",
           133886.4033,
           3,
           1
          ],
          [
           1138,
           "Male",
           "Bengaluru",
           82638.67765,
           1,
           0
          ],
          [
           1139,
           "Male",
           "Mumbai",
           380765.8752,
           5,
           0
          ],
          [
           1140,
           "Female",
           "Chennai",
           101745.5371,
           2,
           -1
          ],
          [
           1141,
           "Female",
           "Bengaluru",
           341134.7218,
           1,
           1
          ],
          [
           1142,
           "Male",
           "Bengaluru",
           274581.2169,
           1,
           0
          ],
          [
           1143,
           "Female",
           "Chennai",
           212645.6303,
           2,
           1
          ],
          [
           1144,
           "Female",
           "Kolkata",
           281654.8846,
           3,
           1
          ],
          [
           1145,
           "Male",
           "Mumbai",
           98371.75627,
           5,
           0
          ],
          [
           1146,
           "Male",
           "Mumbai",
           213942.2065,
           5,
           0
          ],
          [
           1147,
           "Male",
           "Delhi",
           5121.652342,
           4,
           0
          ],
          [
           1148,
           "Female",
           "Delhi",
           142909.4261,
           4,
           1
          ],
          [
           1149,
           "Female",
           "Bengaluru",
           651534.3098,
           1,
           1
          ],
          [
           1150,
           "Male",
           "Kolkata",
           365974.3719,
           3,
           0
          ],
          [
           1151,
           "Male",
           "Delhi",
           355468.056,
           4,
           0
          ],
          [
           1152,
           "Male",
           "Delhi",
           471770.9203,
           4,
           0
          ],
          [
           1153,
           "Female",
           "Kolkata",
           231493.99,
           3,
           1
          ],
          [
           1154,
           "Female",
           "Chennai",
           465350.4429,
           2,
           1
          ],
          [
           1155,
           "Female",
           "Bengaluru",
           127331.648,
           1,
           1
          ],
          [
           1156,
           "Female",
           "Mumbai",
           671028.1872,
           5,
           1
          ],
          [
           1157,
           "Male",
           "Kolkata",
           163664.207,
           3,
           0
          ],
          [
           1158,
           "Female",
           "Bengaluru",
           216758.2928,
           1,
           1
          ],
          [
           1159,
           "Male",
           "Bengaluru",
           193910.7081,
           1,
           0
          ],
          [
           1160,
           "Female",
           "Mumbai",
           22643.56036,
           5,
           1
          ],
          [
           1161,
           "Female",
           "Bengaluru",
           365100.1564,
           1,
           1
          ],
          [
           1162,
           "Female",
           "Delhi",
           534470.6945,
           4,
           1
          ],
          [
           1163,
           "Male",
           "Delhi",
           261938.9818,
           4,
           0
          ],
          [
           1164,
           "Female",
           "Delhi",
           330757.825,
           4,
           -1
          ],
          [
           1165,
           "Male",
           "Chennai",
           514927.5894,
           2,
           0
          ],
          [
           1166,
           "Female",
           "Chennai",
           432732.181,
           2,
           1
          ],
          [
           1167,
           "Male",
           "Bengaluru",
           695407.0917,
           1,
           -1
          ],
          [
           1168,
           "Female",
           "Chennai",
           285874.988,
           2,
           1
          ],
          [
           1169,
           "Female",
           "Mumbai",
           79113.55318,
           5,
           1
          ],
          [
           1170,
           "Male",
           "Chennai",
           260043.8576,
           2,
           0
          ],
          [
           1171,
           "Male",
           "Bengaluru",
           326077.0029,
           1,
           0
          ],
          [
           1172,
           "Male",
           "Mumbai",
           648085.0454,
           5,
           0
          ],
          [
           1173,
           "Male",
           "Bengaluru",
           101571.4983,
           1,
           0
          ],
          [
           1174,
           "Male",
           "Bengaluru",
           50434.47117,
           1,
           0
          ],
          [
           1175,
           "Female",
           "Mumbai",
           359566.4986,
           5,
           1
          ],
          [
           1176,
           "Female",
           "Mumbai",
           581177.2116,
           5,
           1
          ],
          [
           1177,
           "Male",
           "Kolkata",
           351979.4379,
           3,
           0
          ],
          [
           1178,
           "Male",
           "Chennai",
           634980.9806,
           2,
           -1
          ],
          [
           1179,
           "Male",
           "Chennai",
           110492.7388,
           2,
           0
          ],
          [
           1180,
           "Male",
           "Delhi",
           266781.9511,
           4,
           0
          ],
          [
           1181,
           "Female",
           "Bengaluru",
           81891.02639,
           1,
           1
          ],
          [
           1182,
           "Female",
           "Bengaluru",
           268234.2246,
           1,
           1
          ],
          [
           1183,
           "Male",
           "Kolkata",
           195930.2286,
           3,
           0
          ],
          [
           1184,
           "Female",
           "Chennai",
           244212.5455,
           2,
           1
          ],
          [
           1185,
           "Female",
           "Chennai",
           241845.7525,
           2,
           1
          ],
          [
           1186,
           "Male",
           "Kolkata",
           197295.8156,
           3,
           0
          ],
          [
           1187,
           "Female",
           "Kolkata",
           118255.8374,
           3,
           1
          ],
          [
           1188,
           "Male",
           "Chennai",
           316199.317,
           2,
           0
          ],
          [
           1189,
           "Female",
           "Chennai",
           153779.277,
           2,
           1
          ],
          [
           1190,
           "Female",
           "Delhi",
           243936.1677,
           4,
           1
          ],
          [
           1191,
           "Female",
           "Delhi",
           103642.4697,
           4,
           1
          ],
          [
           1192,
           "Female",
           "Mumbai",
           115856.0369,
           5,
           1
          ],
          [
           1193,
           "Male",
           "Bengaluru",
           451973.2129,
           1,
           0
          ],
          [
           1194,
           "Female",
           "Bengaluru",
           192447.8216,
           1,
           1
          ],
          [
           1195,
           "Female",
           "Chennai",
           630148.5131,
           2,
           1
          ],
          [
           1196,
           "Female",
           "Delhi",
           317466.4207,
           4,
           1
          ],
          [
           1197,
           "Female",
           "Bengaluru",
           323305.5002,
           1,
           1
          ],
          [
           1198,
           "Male",
           "Chennai",
           109058.5443,
           2,
           0
          ],
          [
           1199,
           "Male",
           "Delhi",
           160116.893,
           4,
           0
          ],
          [
           1200,
           "Male",
           "Chennai",
           280081.3901,
           2,
           0
          ]
         ],
         "hovertemplate": "CustomerAge=%{x}<br>CreditScore=%{y}<br>SpendingScore=%{z}<br>AnnualIncome=%{customdata[3]}<br>CustomerID=%{customdata[0]}<br>CustomerGender=%{customdata[1]}<br>CustomerCity=%{customdata[2]}<br>CustomerCityID=%{customdata[4]}<br>lable=%{marker.color}<extra></extra>",
         "legendgroup": "",
         "marker": {
          "color": [
           0,
           0,
           1,
           1,
           1,
           1,
           1,
           1,
           0,
           1,
           0,
           1,
           1,
           1,
           0,
           0,
           1,
           0,
           0,
           1,
           0,
           0,
           1,
           0,
           1,
           -1,
           1,
           0,
           1,
           1,
           0,
           1,
           0,
           0,
           1,
           1,
           1,
           1,
           1,
           1,
           1,
           0,
           0,
           1,
           1,
           1,
           1,
           1,
           1,
           1,
           1,
           0,
           1,
           0,
           1,
           0,
           1,
           0,
           1,
           -1,
           0,
           0,
           1,
           1,
           0,
           0,
           1,
           1,
           0,
           1,
           0,
           1,
           1,
           1,
           0,
           0,
           -1,
           0,
           1,
           -1,
           0,
           0,
           0,
           1,
           1,
           0,
           1,
           1,
           1,
           1,
           1,
           0,
           0,
           1,
           1,
           0,
           1,
           1,
           0,
           0,
           1,
           1,
           0,
           0,
           0,
           1,
           1,
           0,
           0,
           0,
           0,
           1,
           1,
           0,
           -1,
           1,
           1,
           1,
           1,
           1,
           0,
           1,
           1,
           0,
           -1,
           1,
           0,
           0,
           0,
           0,
           0,
           0,
           1,
           1,
           0,
           1,
           1,
           0,
           0,
           -1,
           1,
           0,
           1,
           1,
           0,
           0,
           0,
           1,
           1,
           0,
           0,
           0,
           1,
           1,
           1,
           1,
           0,
           1,
           0,
           1,
           1,
           1,
           0,
           -1,
           0,
           1,
           -1,
           1,
           1,
           0,
           0,
           0,
           0,
           0,
           1,
           1,
           0,
           -1,
           0,
           0,
           1,
           1,
           0,
           1,
           1,
           0,
           1,
           0,
           1,
           1,
           1,
           1,
           0,
           1,
           1,
           1,
           1,
           0,
           0,
           0
          ],
          "coloraxis": "coloraxis",
          "size": [
           527547.5885,
           207143.1976,
           164423.8457,
           56220.36443,
           256194.3619,
           475324.8903,
           186352.3482,
           414233.1569,
           97263.51748,
           179271.2332,
           194016.5771,
           227536.1384,
           384549.196,
           441207.6896,
           195955.9211,
           342386.7743,
           12396.06128,
           243054.5171,
           353525.8767,
           146957.5537,
           217461.907,
           466647.6548,
           36359.20628,
           227040.4915,
           183013.7351,
           496142.1332,
           304101.4516,
           15305.84287,
           90898.14293,
           372800.2429,
           186025.496,
           424172.7786,
           316975.4388,
           245271.891,
           54756.27976,
           480722.9923,
           243050.2953,
           354943.3271,
           105283.4509,
           266522.7503,
           248583.777,
           35051.23859,
           279363.0453,
           498781.9307,
           288846.6029,
           348408.8613,
           516995.9529,
           54666.06526,
           69809.65753,
           371636.6915,
           238964.9748,
           299609.0836,
           361244.6459,
           187182.7663,
           513210.2881,
           258490.1227,
           443558.7535,
           121992.2184,
           129229.7353,
           351473.4476,
           365803.058,
           42277.72636,
           675461.7357,
           139008.5462,
           255913.6516,
           625214.1659,
           300855.7861,
           61533.99547,
           619650.7261,
           24160.45218,
           119798.585,
           116425.7192,
           235753.1848,
           432140.6847,
           160744.0503,
           264898.0293,
           440550.5344,
           66682.56943,
           196636.8508,
           277507.0036,
           459226.6407,
           143977.3393,
           211403.4684,
           39947.04454,
           544422.1798,
           537240.108,
           542745.9601,
           560856.4185,
           497387.3262,
           125660.3599,
           77749.71303,
           316583.7463,
           252129.1836,
           527125.1728,
           341603.312,
           98951.52835,
           192009.5051,
           203632.4332,
           336327.2596,
           363044.2299,
           386949.5256,
           548611.3616,
           59873.62527,
           49566.39,
           385780.8768,
           95882.3111,
           400021.3253,
           351206.5319,
           2577.057456,
           333149.3655,
           171137.0662,
           352699.3398,
           332877.7868,
           238627.5838,
           687212.7707,
           279227.4118,
           355596.8965,
           467350.1017,
           466464.8329,
           327653.0355,
           302975.1788,
           589901.0593,
           41370.44656,
           208227.1136,
           568519.0844,
           151571.5328,
           217072.6811,
           336463.0139,
           487605.5371,
           599442.5133,
           389042.5298,
           10349.41407,
           198910.519,
           405487.9323,
           221839.2718,
           260829.7117,
           133886.4033,
           82638.67765,
           380765.8752,
           101745.5371,
           341134.7218,
           274581.2169,
           212645.6303,
           281654.8846,
           98371.75627,
           213942.2065,
           5121.652342,
           142909.4261,
           651534.3098,
           365974.3719,
           355468.056,
           471770.9203,
           231493.99,
           465350.4429,
           127331.648,
           671028.1872,
           163664.207,
           216758.2928,
           193910.7081,
           22643.56036,
           365100.1564,
           534470.6945,
           261938.9818,
           330757.825,
           514927.5894,
           432732.181,
           695407.0917,
           285874.988,
           79113.55318,
           260043.8576,
           326077.0029,
           648085.0454,
           101571.4983,
           50434.47117,
           359566.4986,
           581177.2116,
           351979.4379,
           634980.9806,
           110492.7388,
           266781.9511,
           81891.02639,
           268234.2246,
           195930.2286,
           244212.5455,
           241845.7525,
           197295.8156,
           118255.8374,
           316199.317,
           153779.277,
           243936.1677,
           103642.4697,
           115856.0369,
           451973.2129,
           192447.8216,
           630148.5131,
           317466.4207,
           323305.5002,
           109058.5443,
           160116.893,
           280081.3901
          ],
          "sizemode": "area",
          "sizeref": 1738.51772925,
          "symbol": "circle"
         },
         "mode": "markers",
         "name": "",
         "scene": "scene",
         "showlegend": false,
         "type": "scatter3d",
         "x": [
          49,
          59,
          54,
          42,
          30,
          38,
          45,
          23,
          59,
          48,
          55,
          73,
          54,
          34,
          54,
          53,
          23,
          30,
          37,
          52,
          39,
          38,
          71,
          31,
          42,
          65,
          65,
          33,
          29,
          24,
          59,
          40,
          52,
          47,
          66,
          62,
          73,
          23,
          45,
          43,
          21,
          45,
          54,
          22,
          26,
          72,
          29,
          65,
          34,
          26,
          66,
          50,
          33,
          47,
          59,
          52,
          55,
          74,
          32,
          31,
          25,
          75,
          39,
          46,
          29,
          34,
          54,
          36,
          52,
          28,
          18,
          45,
          48,
          50,
          43,
          27,
          68,
          67,
          59,
          74,
          62,
          45,
          33,
          20,
          61,
          32,
          49,
          66,
          36,
          55,
          35,
          22,
          59,
          21,
          74,
          51,
          22,
          35,
          47,
          66,
          20,
          58,
          42,
          27,
          63,
          28,
          48,
          63,
          45,
          22,
          70,
          65,
          41,
          56,
          51,
          33,
          69,
          21,
          40,
          19,
          62,
          38,
          49,
          30,
          62,
          58,
          73,
          66,
          71,
          54,
          53,
          34,
          41,
          47,
          26,
          30,
          55,
          43,
          50,
          61,
          37,
          29,
          26,
          22,
          56,
          70,
          38,
          37,
          62,
          19,
          46,
          50,
          48,
          53,
          70,
          60,
          37,
          57,
          66,
          27,
          21,
          22,
          18,
          18,
          38,
          23,
          21,
          44,
          72,
          63,
          50,
          56,
          59,
          44,
          20,
          33,
          49,
          22,
          64,
          31,
          53,
          23,
          26,
          63,
          43,
          62,
          74,
          66,
          45,
          62,
          61,
          47,
          74,
          48,
          48,
          54,
          20,
          44,
          28,
          41
         ],
         "y": [
          653,
          630,
          555,
          699,
          793,
          635,
          881,
          852,
          708,
          669,
          618,
          614,
          711,
          629,
          764,
          880,
          729,
          803,
          817,
          774,
          672,
          691,
          669,
          555,
          778,
          623,
          782,
          588,
          684,
          698,
          562,
          774,
          777,
          769,
          755,
          789,
          575,
          850,
          715,
          639,
          817,
          731,
          704,
          712,
          713,
          874,
          751,
          761,
          633,
          632,
          763,
          701,
          784,
          854,
          692,
          751,
          648,
          865,
          863,
          622,
          817,
          868,
          849,
          565,
          665,
          632,
          670,
          736,
          687,
          561,
          892,
          724,
          583,
          760,
          555,
          712,
          880,
          873,
          715,
          897,
          801,
          600,
          768,
          807,
          626,
          654,
          742,
          738,
          805,
          808,
          625,
          695,
          656,
          678,
          859,
          616,
          861,
          814,
          616,
          653,
          575,
          576,
          575,
          666,
          876,
          568,
          849,
          564,
          654,
          565,
          782,
          667,
          593,
          606,
          553,
          827,
          559,
          806,
          620,
          857,
          804,
          858,
          695,
          800,
          624,
          767,
          630,
          808,
          790,
          726,
          624,
          746,
          895,
          781,
          868,
          894,
          707,
          552,
          842,
          567,
          636,
          756,
          894,
          887,
          647,
          657,
          607,
          637,
          884,
          551,
          892,
          616,
          886,
          868,
          669,
          605,
          854,
          742,
          803,
          707,
          633,
          827,
          742,
          586,
          581,
          786,
          718,
          755,
          836,
          725,
          573,
          605,
          890,
          657,
          779,
          666,
          779,
          844,
          733,
          571,
          601,
          701,
          838,
          573,
          896,
          824,
          615,
          770,
          831,
          676,
          559,
          784,
          608,
          568,
          833,
          601,
          554,
          844,
          837,
          789
         ],
         "z": [
          78,
          63,
          69,
          30,
          6,
          97,
          2,
          77,
          22,
          97,
          13,
          62,
          64,
          29,
          53,
          36,
          18,
          49,
          75,
          84,
          87,
          37,
          87,
          64,
          82,
          82,
          59,
          57,
          27,
          35,
          15,
          84,
          97,
          4,
          48,
          30,
          93,
          77,
          97,
          78,
          4,
          78,
          39,
          11,
          97,
          34,
          100,
          46,
          98,
          48,
          62,
          42,
          37,
          36,
          71,
          99,
          41,
          88,
          25,
          8,
          52,
          20,
          59,
          37,
          47,
          14,
          96,
          40,
          48,
          70,
          37,
          12,
          100,
          18,
          59,
          68,
          87,
          19,
          9,
          39,
          32,
          56,
          78,
          57,
          11,
          56,
          73,
          40,
          29,
          44,
          50,
          52,
          2,
          62,
          54,
          45,
          23,
          80,
          67,
          2,
          19,
          28,
          24,
          38,
          59,
          54,
          51,
          79,
          37,
          72,
          12,
          78,
          40,
          15,
          100,
          25,
          10,
          10,
          90,
          8,
          70,
          76,
          13,
          87,
          6,
          46,
          35,
          89,
          100,
          71,
          50,
          22,
          76,
          93,
          57,
          85,
          96,
          33,
          20,
          7,
          18,
          22,
          19,
          14,
          99,
          11,
          42,
          30,
          23,
          77,
          73,
          39,
          94,
          58,
          32,
          55,
          22,
          78,
          36,
          93,
          55,
          85,
          32,
          87,
          9,
          54,
          86,
          67,
          39,
          77,
          35,
          35,
          45,
          75,
          91,
          32,
          89,
          21,
          19,
          61,
          61,
          92,
          94,
          41,
          4,
          47,
          75,
          11,
          44,
          7,
          96,
          34,
          16,
          45,
          91,
          52,
          58,
          36,
          24,
          31
         ]
        }
       ],
       "layout": {
        "coloraxis": {
         "colorbar": {
          "title": {
           "text": "lable"
          }
         },
         "colorscale": [
          [
           0,
           "#0d0887"
          ],
          [
           0.1111111111111111,
           "#46039f"
          ],
          [
           0.2222222222222222,
           "#7201a8"
          ],
          [
           0.3333333333333333,
           "#9c179e"
          ],
          [
           0.4444444444444444,
           "#bd3786"
          ],
          [
           0.5555555555555556,
           "#d8576b"
          ],
          [
           0.6666666666666666,
           "#ed7953"
          ],
          [
           0.7777777777777778,
           "#fb9f3a"
          ],
          [
           0.8888888888888888,
           "#fdca26"
          ],
          [
           1,
           "#f0f921"
          ]
         ]
        },
        "legend": {
         "itemsizing": "constant",
         "tracegroupgap": 0
        },
        "margin": {
         "t": 60
        },
        "scene": {
         "domain": {
          "x": [
           0,
           1
          ],
          "y": [
           0,
           1
          ]
         },
         "xaxis": {
          "title": {
           "text": "CustomerAge"
          }
         },
         "yaxis": {
          "title": {
           "text": "CreditScore"
          }
         },
         "zaxis": {
          "title": {
           "text": "SpendingScore"
          }
         }
        },
        "template": {
         "data": {
          "bar": [
           {
            "error_x": {
             "color": "#2a3f5f"
            },
            "error_y": {
             "color": "#2a3f5f"
            },
            "marker": {
             "line": {
              "color": "#E5ECF6",
              "width": 0.5
             },
             "pattern": {
              "fillmode": "overlay",
              "size": 10,
              "solidity": 0.2
             }
            },
            "type": "bar"
           }
          ],
          "barpolar": [
           {
            "marker": {
             "line": {
              "color": "#E5ECF6",
              "width": 0.5
             },
             "pattern": {
              "fillmode": "overlay",
              "size": 10,
              "solidity": 0.2
             }
            },
            "type": "barpolar"
           }
          ],
          "carpet": [
           {
            "aaxis": {
             "endlinecolor": "#2a3f5f",
             "gridcolor": "white",
             "linecolor": "white",
             "minorgridcolor": "white",
             "startlinecolor": "#2a3f5f"
            },
            "baxis": {
             "endlinecolor": "#2a3f5f",
             "gridcolor": "white",
             "linecolor": "white",
             "minorgridcolor": "white",
             "startlinecolor": "#2a3f5f"
            },
            "type": "carpet"
           }
          ],
          "choropleth": [
           {
            "colorbar": {
             "outlinewidth": 0,
             "ticks": ""
            },
            "type": "choropleth"
           }
          ],
          "contour": [
           {
            "colorbar": {
             "outlinewidth": 0,
             "ticks": ""
            },
            "colorscale": [
             [
              0,
              "#0d0887"
             ],
             [
              0.1111111111111111,
              "#46039f"
             ],
             [
              0.2222222222222222,
              "#7201a8"
             ],
             [
              0.3333333333333333,
              "#9c179e"
             ],
             [
              0.4444444444444444,
              "#bd3786"
             ],
             [
              0.5555555555555556,
              "#d8576b"
             ],
             [
              0.6666666666666666,
              "#ed7953"
             ],
             [
              0.7777777777777778,
              "#fb9f3a"
             ],
             [
              0.8888888888888888,
              "#fdca26"
             ],
             [
              1,
              "#f0f921"
             ]
            ],
            "type": "contour"
           }
          ],
          "contourcarpet": [
           {
            "colorbar": {
             "outlinewidth": 0,
             "ticks": ""
            },
            "type": "contourcarpet"
           }
          ],
          "heatmap": [
           {
            "colorbar": {
             "outlinewidth": 0,
             "ticks": ""
            },
            "colorscale": [
             [
              0,
              "#0d0887"
             ],
             [
              0.1111111111111111,
              "#46039f"
             ],
             [
              0.2222222222222222,
              "#7201a8"
             ],
             [
              0.3333333333333333,
              "#9c179e"
             ],
             [
              0.4444444444444444,
              "#bd3786"
             ],
             [
              0.5555555555555556,
              "#d8576b"
             ],
             [
              0.6666666666666666,
              "#ed7953"
             ],
             [
              0.7777777777777778,
              "#fb9f3a"
             ],
             [
              0.8888888888888888,
              "#fdca26"
             ],
             [
              1,
              "#f0f921"
             ]
            ],
            "type": "heatmap"
           }
          ],
          "heatmapgl": [
           {
            "colorbar": {
             "outlinewidth": 0,
             "ticks": ""
            },
            "colorscale": [
             [
              0,
              "#0d0887"
             ],
             [
              0.1111111111111111,
              "#46039f"
             ],
             [
              0.2222222222222222,
              "#7201a8"
             ],
             [
              0.3333333333333333,
              "#9c179e"
             ],
             [
              0.4444444444444444,
              "#bd3786"
             ],
             [
              0.5555555555555556,
              "#d8576b"
             ],
             [
              0.6666666666666666,
              "#ed7953"
             ],
             [
              0.7777777777777778,
              "#fb9f3a"
             ],
             [
              0.8888888888888888,
              "#fdca26"
             ],
             [
              1,
              "#f0f921"
             ]
            ],
            "type": "heatmapgl"
           }
          ],
          "histogram": [
           {
            "marker": {
             "pattern": {
              "fillmode": "overlay",
              "size": 10,
              "solidity": 0.2
             }
            },
            "type": "histogram"
           }
          ],
          "histogram2d": [
           {
            "colorbar": {
             "outlinewidth": 0,
             "ticks": ""
            },
            "colorscale": [
             [
              0,
              "#0d0887"
             ],
             [
              0.1111111111111111,
              "#46039f"
             ],
             [
              0.2222222222222222,
              "#7201a8"
             ],
             [
              0.3333333333333333,
              "#9c179e"
             ],
             [
              0.4444444444444444,
              "#bd3786"
             ],
             [
              0.5555555555555556,
              "#d8576b"
             ],
             [
              0.6666666666666666,
              "#ed7953"
             ],
             [
              0.7777777777777778,
              "#fb9f3a"
             ],
             [
              0.8888888888888888,
              "#fdca26"
             ],
             [
              1,
              "#f0f921"
             ]
            ],
            "type": "histogram2d"
           }
          ],
          "histogram2dcontour": [
           {
            "colorbar": {
             "outlinewidth": 0,
             "ticks": ""
            },
            "colorscale": [
             [
              0,
              "#0d0887"
             ],
             [
              0.1111111111111111,
              "#46039f"
             ],
             [
              0.2222222222222222,
              "#7201a8"
             ],
             [
              0.3333333333333333,
              "#9c179e"
             ],
             [
              0.4444444444444444,
              "#bd3786"
             ],
             [
              0.5555555555555556,
              "#d8576b"
             ],
             [
              0.6666666666666666,
              "#ed7953"
             ],
             [
              0.7777777777777778,
              "#fb9f3a"
             ],
             [
              0.8888888888888888,
              "#fdca26"
             ],
             [
              1,
              "#f0f921"
             ]
            ],
            "type": "histogram2dcontour"
           }
          ],
          "mesh3d": [
           {
            "colorbar": {
             "outlinewidth": 0,
             "ticks": ""
            },
            "type": "mesh3d"
           }
          ],
          "parcoords": [
           {
            "line": {
             "colorbar": {
              "outlinewidth": 0,
              "ticks": ""
             }
            },
            "type": "parcoords"
           }
          ],
          "pie": [
           {
            "automargin": true,
            "type": "pie"
           }
          ],
          "scatter": [
           {
            "marker": {
             "colorbar": {
              "outlinewidth": 0,
              "ticks": ""
             }
            },
            "type": "scatter"
           }
          ],
          "scatter3d": [
           {
            "line": {
             "colorbar": {
              "outlinewidth": 0,
              "ticks": ""
             }
            },
            "marker": {
             "colorbar": {
              "outlinewidth": 0,
              "ticks": ""
             }
            },
            "type": "scatter3d"
           }
          ],
          "scattercarpet": [
           {
            "marker": {
             "colorbar": {
              "outlinewidth": 0,
              "ticks": ""
             }
            },
            "type": "scattercarpet"
           }
          ],
          "scattergeo": [
           {
            "marker": {
             "colorbar": {
              "outlinewidth": 0,
              "ticks": ""
             }
            },
            "type": "scattergeo"
           }
          ],
          "scattergl": [
           {
            "marker": {
             "colorbar": {
              "outlinewidth": 0,
              "ticks": ""
             }
            },
            "type": "scattergl"
           }
          ],
          "scattermapbox": [
           {
            "marker": {
             "colorbar": {
              "outlinewidth": 0,
              "ticks": ""
             }
            },
            "type": "scattermapbox"
           }
          ],
          "scatterpolar": [
           {
            "marker": {
             "colorbar": {
              "outlinewidth": 0,
              "ticks": ""
             }
            },
            "type": "scatterpolar"
           }
          ],
          "scatterpolargl": [
           {
            "marker": {
             "colorbar": {
              "outlinewidth": 0,
              "ticks": ""
             }
            },
            "type": "scatterpolargl"
           }
          ],
          "scatterternary": [
           {
            "marker": {
             "colorbar": {
              "outlinewidth": 0,
              "ticks": ""
             }
            },
            "type": "scatterternary"
           }
          ],
          "surface": [
           {
            "colorbar": {
             "outlinewidth": 0,
             "ticks": ""
            },
            "colorscale": [
             [
              0,
              "#0d0887"
             ],
             [
              0.1111111111111111,
              "#46039f"
             ],
             [
              0.2222222222222222,
              "#7201a8"
             ],
             [
              0.3333333333333333,
              "#9c179e"
             ],
             [
              0.4444444444444444,
              "#bd3786"
             ],
             [
              0.5555555555555556,
              "#d8576b"
             ],
             [
              0.6666666666666666,
              "#ed7953"
             ],
             [
              0.7777777777777778,
              "#fb9f3a"
             ],
             [
              0.8888888888888888,
              "#fdca26"
             ],
             [
              1,
              "#f0f921"
             ]
            ],
            "type": "surface"
           }
          ],
          "table": [
           {
            "cells": {
             "fill": {
              "color": "#EBF0F8"
             },
             "line": {
              "color": "white"
             }
            },
            "header": {
             "fill": {
              "color": "#C8D4E3"
             },
             "line": {
              "color": "white"
             }
            },
            "type": "table"
           }
          ]
         },
         "layout": {
          "annotationdefaults": {
           "arrowcolor": "#2a3f5f",
           "arrowhead": 0,
           "arrowwidth": 1
          },
          "autotypenumbers": "strict",
          "coloraxis": {
           "colorbar": {
            "outlinewidth": 0,
            "ticks": ""
           }
          },
          "colorscale": {
           "diverging": [
            [
             0,
             "#8e0152"
            ],
            [
             0.1,
             "#c51b7d"
            ],
            [
             0.2,
             "#de77ae"
            ],
            [
             0.3,
             "#f1b6da"
            ],
            [
             0.4,
             "#fde0ef"
            ],
            [
             0.5,
             "#f7f7f7"
            ],
            [
             0.6,
             "#e6f5d0"
            ],
            [
             0.7,
             "#b8e186"
            ],
            [
             0.8,
             "#7fbc41"
            ],
            [
             0.9,
             "#4d9221"
            ],
            [
             1,
             "#276419"
            ]
           ],
           "sequential": [
            [
             0,
             "#0d0887"
            ],
            [
             0.1111111111111111,
             "#46039f"
            ],
            [
             0.2222222222222222,
             "#7201a8"
            ],
            [
             0.3333333333333333,
             "#9c179e"
            ],
            [
             0.4444444444444444,
             "#bd3786"
            ],
            [
             0.5555555555555556,
             "#d8576b"
            ],
            [
             0.6666666666666666,
             "#ed7953"
            ],
            [
             0.7777777777777778,
             "#fb9f3a"
            ],
            [
             0.8888888888888888,
             "#fdca26"
            ],
            [
             1,
             "#f0f921"
            ]
           ],
           "sequentialminus": [
            [
             0,
             "#0d0887"
            ],
            [
             0.1111111111111111,
             "#46039f"
            ],
            [
             0.2222222222222222,
             "#7201a8"
            ],
            [
             0.3333333333333333,
             "#9c179e"
            ],
            [
             0.4444444444444444,
             "#bd3786"
            ],
            [
             0.5555555555555556,
             "#d8576b"
            ],
            [
             0.6666666666666666,
             "#ed7953"
            ],
            [
             0.7777777777777778,
             "#fb9f3a"
            ],
            [
             0.8888888888888888,
             "#fdca26"
            ],
            [
             1,
             "#f0f921"
            ]
           ]
          },
          "colorway": [
           "#636efa",
           "#EF553B",
           "#00cc96",
           "#ab63fa",
           "#FFA15A",
           "#19d3f3",
           "#FF6692",
           "#B6E880",
           "#FF97FF",
           "#FECB52"
          ],
          "font": {
           "color": "#2a3f5f"
          },
          "geo": {
           "bgcolor": "white",
           "lakecolor": "white",
           "landcolor": "#E5ECF6",
           "showlakes": true,
           "showland": true,
           "subunitcolor": "white"
          },
          "hoverlabel": {
           "align": "left"
          },
          "hovermode": "closest",
          "mapbox": {
           "style": "light"
          },
          "paper_bgcolor": "white",
          "plot_bgcolor": "#E5ECF6",
          "polar": {
           "angularaxis": {
            "gridcolor": "white",
            "linecolor": "white",
            "ticks": ""
           },
           "bgcolor": "#E5ECF6",
           "radialaxis": {
            "gridcolor": "white",
            "linecolor": "white",
            "ticks": ""
           }
          },
          "scene": {
           "xaxis": {
            "backgroundcolor": "#E5ECF6",
            "gridcolor": "white",
            "gridwidth": 2,
            "linecolor": "white",
            "showbackground": true,
            "ticks": "",
            "zerolinecolor": "white"
           },
           "yaxis": {
            "backgroundcolor": "#E5ECF6",
            "gridcolor": "white",
            "gridwidth": 2,
            "linecolor": "white",
            "showbackground": true,
            "ticks": "",
            "zerolinecolor": "white"
           },
           "zaxis": {
            "backgroundcolor": "#E5ECF6",
            "gridcolor": "white",
            "gridwidth": 2,
            "linecolor": "white",
            "showbackground": true,
            "ticks": "",
            "zerolinecolor": "white"
           }
          },
          "shapedefaults": {
           "line": {
            "color": "#2a3f5f"
           }
          },
          "ternary": {
           "aaxis": {
            "gridcolor": "white",
            "linecolor": "white",
            "ticks": ""
           },
           "baxis": {
            "gridcolor": "white",
            "linecolor": "white",
            "ticks": ""
           },
           "bgcolor": "#E5ECF6",
           "caxis": {
            "gridcolor": "white",
            "linecolor": "white",
            "ticks": ""
           }
          },
          "title": {
           "x": 0.05
          },
          "xaxis": {
           "automargin": true,
           "gridcolor": "white",
           "linecolor": "white",
           "ticks": "",
           "title": {
            "standoff": 15
           },
           "zerolinecolor": "white",
           "zerolinewidth": 2
          },
          "yaxis": {
           "automargin": true,
           "gridcolor": "white",
           "linecolor": "white",
           "ticks": "",
           "title": {
            "standoff": 15
           },
           "zerolinecolor": "white",
           "zerolinewidth": 2
          }
         }
        }
       }
      },
      "text/html": [
       "<div>                            <div id=\"44b2a22e-2215-4573-9130-56ae281eac53\" class=\"plotly-graph-div\" style=\"height:525px; width:100%;\"></div>            <script type=\"text/javascript\">                require([\"plotly\"], function(Plotly) {                    window.PLOTLYENV=window.PLOTLYENV || {};                                    if (document.getElementById(\"44b2a22e-2215-4573-9130-56ae281eac53\")) {                    Plotly.newPlot(                        \"44b2a22e-2215-4573-9130-56ae281eac53\",                        [{\"customdata\":[[1001,\"Male\",\"Bengaluru\",527547.5885,1,0],[1002,\"Male\",\"Bengaluru\",207143.1976,1,0],[1003,\"Female\",\"Delhi\",164423.8457,4,1],[1004,\"Female\",\"Bengaluru\",56220.36443,1,1],[1005,\"Female\",\"Bengaluru\",256194.3619,1,1],[1006,\"Female\",\"Chennai\",475324.8903,2,1],[1007,\"Female\",\"Chennai\",186352.3482,2,1],[1008,\"Female\",\"Mumbai\",414233.1569,5,1],[1009,\"Male\",\"Chennai\",97263.51748,2,0],[1010,\"Female\",\"Kolkata\",179271.2332,3,1],[1011,\"Male\",\"Bengaluru\",194016.5771,1,0],[1012,\"Female\",\"Bengaluru\",227536.1384,1,1],[1013,\"Female\",\"Delhi\",384549.196,4,1],[1014,\"Female\",\"Mumbai\",441207.6896,5,1],[1015,\"Male\",\"Bengaluru\",195955.9211,1,0],[1016,\"Male\",\"Kolkata\",342386.7743,3,0],[1017,\"Female\",\"Bengaluru\",12396.06128,1,1],[1018,\"Male\",\"Mumbai\",243054.5171,5,0],[1019,\"Male\",\"Mumbai\",353525.8767,5,0],[1020,\"Female\",\"Kolkata\",146957.5537,3,1],[1021,\"Male\",\"Chennai\",217461.907,2,0],[1022,\"Male\",\"Bengaluru\",466647.6548,1,0],[1023,\"Female\",\"Kolkata\",36359.20628,3,1],[1024,\"Male\",\"Mumbai\",227040.4915,5,0],[1025,\"Female\",\"Bengaluru\",183013.7351,1,1],[1026,\"Male\",\"Chennai\",496142.1332,2,-1],[1027,\"Female\",\"Kolkata\",304101.4516,3,1],[1028,\"Male\",\"Bengaluru\",15305.84287,1,0],[1029,\"Female\",\"Delhi\",90898.14293,4,1],[1030,\"Female\",\"Chennai\",372800.2429,2,1],[1031,\"Male\",\"Bengaluru\",186025.496,1,0],[1032,\"Female\",\"Bengaluru\",424172.7786,1,1],[1033,\"Male\",\"Chennai\",316975.4388,2,0],[1034,\"Male\",\"Kolkata\",245271.891,3,0],[1035,\"Female\",\"Chennai\",54756.27976,2,1],[1036,\"Female\",\"Delhi\",480722.9923,4,1],[1037,\"Female\",\"Mumbai\",243050.2953,5,1],[1038,\"Female\",\"Mumbai\",354943.3271,5,1],[1039,\"Female\",\"Mumbai\",105283.4509,5,1],[1040,\"Female\",\"Mumbai\",266522.7503,5,1],[1041,\"Female\",\"Mumbai\",248583.777,5,1],[1042,\"Male\",\"Bengaluru\",35051.23859,1,0],[1043,\"Male\",\"Bengaluru\",279363.0453,1,0],[1044,\"Female\",\"Kolkata\",498781.9307,3,1],[1045,\"Female\",\"Delhi\",288846.6029,4,1],[1046,\"Female\",\"Kolkata\",348408.8613,3,1],[1047,\"Female\",\"Bengaluru\",516995.9529,1,1],[1048,\"Female\",\"Mumbai\",54666.06526,5,1],[1049,\"Female\",\"Chennai\",69809.65753,2,1],[1050,\"Female\",\"Chennai\",371636.6915,2,1],[1051,\"Female\",\"Kolkata\",238964.9748,3,1],[1052,\"Male\",\"Bengaluru\",299609.0836,1,0],[1053,\"Female\",\"Kolkata\",361244.6459,3,1],[1054,\"Male\",\"Mumbai\",187182.7663,5,0],[1055,\"Female\",\"Kolkata\",513210.2881,3,1],[1056,\"Male\",\"Delhi\",258490.1227,4,0],[1057,\"Female\",\"Bengaluru\",443558.7535,1,1],[1058,\"Male\",\"Bengaluru\",121992.2184,1,0],[1059,\"Female\",\"Mumbai\",129229.7353,5,1],[1060,\"Male\",\"Bengaluru\",351473.4476,1,-1],[1061,\"Male\",\"Mumbai\",365803.058,5,0],[1062,\"Male\",\"Delhi\",42277.72636,4,0],[1063,\"Female\",\"Bengaluru\",675461.7357,1,1],[1064,\"Female\",\"Bengaluru\",139008.5462,1,1],[1065,\"Male\",\"Bengaluru\",255913.6516,1,0],[1066,\"Male\",\"Chennai\",625214.1659,2,0],[1067,\"Female\",\"Mumbai\",300855.7861,5,1],[1068,\"Female\",\"Delhi\",61533.99547,4,1],[1069,\"Male\",\"Chennai\",619650.7261,2,0],[1070,\"Female\",\"Mumbai\",24160.45218,5,1],[1071,\"Male\",\"Bengaluru\",119798.585,1,0],[1072,\"Female\",\"Bengaluru\",116425.7192,1,1],[1073,\"Female\",\"Kolkata\",235753.1848,3,1],[1074,\"Female\",\"Mumbai\",432140.6847,5,1],[1075,\"Male\",\"Delhi\",160744.0503,4,0],[1076,\"Male\",\"Chennai\",264898.0293,2,0],[1077,\"Female\",\"Delhi\",440550.5344,4,-1],[1078,\"Male\",\"Bengaluru\",66682.56943,1,0],[1079,\"Female\",\"Chennai\",196636.8508,2,1],[1080,\"Female\",\"Chennai\",277507.0036,2,-1],[1081,\"Male\",\"Delhi\",459226.6407,4,0],[1082,\"Male\",\"Mumbai\",143977.3393,5,0],[1083,\"Male\",\"Kolkata\",211403.4684,3,0],[1084,\"Female\",\"Chennai\",39947.04454,2,1],[1085,\"Female\",\"Delhi\",544422.1798,4,1],[1086,\"Male\",\"Mumbai\",537240.108,5,0],[1087,\"Female\",\"Bengaluru\",542745.9601,1,1],[1088,\"Female\",\"Chennai\",560856.4185,2,1],[1089,\"Female\",\"Delhi\",497387.3262,4,1],[1090,\"Female\",\"Delhi\",125660.3599,4,1],[1091,\"Female\",\"Delhi\",77749.71303,4,1],[1092,\"Male\",\"Kolkata\",316583.7463,3,0],[1093,\"Male\",\"Kolkata\",252129.1836,3,0],[1094,\"Female\",\"Mumbai\",527125.1728,5,1],[1095,\"Female\",\"Bengaluru\",341603.312,1,1],[1096,\"Male\",\"Mumbai\",98951.52835,5,0],[1097,\"Female\",\"Delhi\",192009.5051,4,1],[1098,\"Female\",\"Mumbai\",203632.4332,5,1],[1099,\"Male\",\"Chennai\",336327.2596,2,0],[1100,\"Male\",\"Chennai\",363044.2299,2,0],[1101,\"Female\",\"Bengaluru\",386949.5256,1,1],[1102,\"Female\",\"Chennai\",548611.3616,2,1],[1103,\"Male\",\"Delhi\",59873.62527,4,0],[1104,\"Male\",\"Bengaluru\",49566.39,1,0],[1105,\"Male\",\"Chennai\",385780.8768,2,0],[1106,\"Female\",\"Chennai\",95882.3111,2,1],[1107,\"Female\",\"Kolkata\",400021.3253,3,1],[1108,\"Male\",\"Delhi\",351206.5319,4,0],[1109,\"Male\",\"Chennai\",2577.057456,2,0],[1110,\"Male\",\"Mumbai\",333149.3655,5,0],[1111,\"Male\",\"Chennai\",171137.0662,2,0],[1112,\"Female\",\"Mumbai\",352699.3398,5,1],[1113,\"Female\",\"Chennai\",332877.7868,2,1],[1114,\"Male\",\"Delhi\",238627.5838,4,0],[1115,\"Female\",\"Chennai\",687212.7707,2,-1],[1116,\"Female\",\"Delhi\",279227.4118,4,1],[1117,\"Female\",\"Mumbai\",355596.8965,5,1],[1118,\"Female\",\"Delhi\",467350.1017,4,1],[1119,\"Female\",\"Kolkata\",466464.8329,3,1],[1120,\"Female\",\"Delhi\",327653.0355,4,1],[1121,\"Male\",\"Chennai\",302975.1788,2,0],[1122,\"Female\",\"Mumbai\",589901.0593,5,1],[1123,\"Female\",\"Delhi\",41370.44656,4,1],[1124,\"Male\",\"Chennai\",208227.1136,2,0],[1125,\"Female\",\"Mumbai\",568519.0844,5,-1],[1126,\"Female\",\"Kolkata\",151571.5328,3,1],[1127,\"Male\",\"Chennai\",217072.6811,2,0],[1128,\"Male\",\"Bengaluru\",336463.0139,1,0],[1129,\"Male\",\"Bengaluru\",487605.5371,1,0],[1130,\"Male\",\"Bengaluru\",599442.5133,1,0],[1131,\"Male\",\"Kolkata\",389042.5298,3,0],[1132,\"Male\",\"Mumbai\",10349.41407,5,0],[1133,\"Female\",\"Delhi\",198910.519,4,1],[1134,\"Female\",\"Kolkata\",405487.9323,3,1],[1135,\"Male\",\"Mumbai\",221839.2718,5,0],[1136,\"Female\",\"Delhi\",260829.7117,4,1],[1137,\"Female\",\"Kolkata\",133886.4033,3,1],[1138,\"Male\",\"Bengaluru\",82638.67765,1,0],[1139,\"Male\",\"Mumbai\",380765.8752,5,0],[1140,\"Female\",\"Chennai\",101745.5371,2,-1],[1141,\"Female\",\"Bengaluru\",341134.7218,1,1],[1142,\"Male\",\"Bengaluru\",274581.2169,1,0],[1143,\"Female\",\"Chennai\",212645.6303,2,1],[1144,\"Female\",\"Kolkata\",281654.8846,3,1],[1145,\"Male\",\"Mumbai\",98371.75627,5,0],[1146,\"Male\",\"Mumbai\",213942.2065,5,0],[1147,\"Male\",\"Delhi\",5121.652342,4,0],[1148,\"Female\",\"Delhi\",142909.4261,4,1],[1149,\"Female\",\"Bengaluru\",651534.3098,1,1],[1150,\"Male\",\"Kolkata\",365974.3719,3,0],[1151,\"Male\",\"Delhi\",355468.056,4,0],[1152,\"Male\",\"Delhi\",471770.9203,4,0],[1153,\"Female\",\"Kolkata\",231493.99,3,1],[1154,\"Female\",\"Chennai\",465350.4429,2,1],[1155,\"Female\",\"Bengaluru\",127331.648,1,1],[1156,\"Female\",\"Mumbai\",671028.1872,5,1],[1157,\"Male\",\"Kolkata\",163664.207,3,0],[1158,\"Female\",\"Bengaluru\",216758.2928,1,1],[1159,\"Male\",\"Bengaluru\",193910.7081,1,0],[1160,\"Female\",\"Mumbai\",22643.56036,5,1],[1161,\"Female\",\"Bengaluru\",365100.1564,1,1],[1162,\"Female\",\"Delhi\",534470.6945,4,1],[1163,\"Male\",\"Delhi\",261938.9818,4,0],[1164,\"Female\",\"Delhi\",330757.825,4,-1],[1165,\"Male\",\"Chennai\",514927.5894,2,0],[1166,\"Female\",\"Chennai\",432732.181,2,1],[1167,\"Male\",\"Bengaluru\",695407.0917,1,-1],[1168,\"Female\",\"Chennai\",285874.988,2,1],[1169,\"Female\",\"Mumbai\",79113.55318,5,1],[1170,\"Male\",\"Chennai\",260043.8576,2,0],[1171,\"Male\",\"Bengaluru\",326077.0029,1,0],[1172,\"Male\",\"Mumbai\",648085.0454,5,0],[1173,\"Male\",\"Bengaluru\",101571.4983,1,0],[1174,\"Male\",\"Bengaluru\",50434.47117,1,0],[1175,\"Female\",\"Mumbai\",359566.4986,5,1],[1176,\"Female\",\"Mumbai\",581177.2116,5,1],[1177,\"Male\",\"Kolkata\",351979.4379,3,0],[1178,\"Male\",\"Chennai\",634980.9806,2,-1],[1179,\"Male\",\"Chennai\",110492.7388,2,0],[1180,\"Male\",\"Delhi\",266781.9511,4,0],[1181,\"Female\",\"Bengaluru\",81891.02639,1,1],[1182,\"Female\",\"Bengaluru\",268234.2246,1,1],[1183,\"Male\",\"Kolkata\",195930.2286,3,0],[1184,\"Female\",\"Chennai\",244212.5455,2,1],[1185,\"Female\",\"Chennai\",241845.7525,2,1],[1186,\"Male\",\"Kolkata\",197295.8156,3,0],[1187,\"Female\",\"Kolkata\",118255.8374,3,1],[1188,\"Male\",\"Chennai\",316199.317,2,0],[1189,\"Female\",\"Chennai\",153779.277,2,1],[1190,\"Female\",\"Delhi\",243936.1677,4,1],[1191,\"Female\",\"Delhi\",103642.4697,4,1],[1192,\"Female\",\"Mumbai\",115856.0369,5,1],[1193,\"Male\",\"Bengaluru\",451973.2129,1,0],[1194,\"Female\",\"Bengaluru\",192447.8216,1,1],[1195,\"Female\",\"Chennai\",630148.5131,2,1],[1196,\"Female\",\"Delhi\",317466.4207,4,1],[1197,\"Female\",\"Bengaluru\",323305.5002,1,1],[1198,\"Male\",\"Chennai\",109058.5443,2,0],[1199,\"Male\",\"Delhi\",160116.893,4,0],[1200,\"Male\",\"Chennai\",280081.3901,2,0]],\"hovertemplate\":\"CustomerAge=%{x}<br>CreditScore=%{y}<br>SpendingScore=%{z}<br>AnnualIncome=%{customdata[3]}<br>CustomerID=%{customdata[0]}<br>CustomerGender=%{customdata[1]}<br>CustomerCity=%{customdata[2]}<br>CustomerCityID=%{customdata[4]}<br>lable=%{marker.color}<extra></extra>\",\"legendgroup\":\"\",\"marker\":{\"color\":[0,0,1,1,1,1,1,1,0,1,0,1,1,1,0,0,1,0,0,1,0,0,1,0,1,-1,1,0,1,1,0,1,0,0,1,1,1,1,1,1,1,0,0,1,1,1,1,1,1,1,1,0,1,0,1,0,1,0,1,-1,0,0,1,1,0,0,1,1,0,1,0,1,1,1,0,0,-1,0,1,-1,0,0,0,1,1,0,1,1,1,1,1,0,0,1,1,0,1,1,0,0,1,1,0,0,0,1,1,0,0,0,0,1,1,0,-1,1,1,1,1,1,0,1,1,0,-1,1,0,0,0,0,0,0,1,1,0,1,1,0,0,-1,1,0,1,1,0,0,0,1,1,0,0,0,1,1,1,1,0,1,0,1,1,1,0,-1,0,1,-1,1,1,0,0,0,0,0,1,1,0,-1,0,0,1,1,0,1,1,0,1,0,1,1,1,1,0,1,1,1,1,0,0,0],\"coloraxis\":\"coloraxis\",\"size\":[527547.5885,207143.1976,164423.8457,56220.36443,256194.3619,475324.8903,186352.3482,414233.1569,97263.51748,179271.2332,194016.5771,227536.1384,384549.196,441207.6896,195955.9211,342386.7743,12396.06128,243054.5171,353525.8767,146957.5537,217461.907,466647.6548,36359.20628,227040.4915,183013.7351,496142.1332,304101.4516,15305.84287,90898.14293,372800.2429,186025.496,424172.7786,316975.4388,245271.891,54756.27976,480722.9923,243050.2953,354943.3271,105283.4509,266522.7503,248583.777,35051.23859,279363.0453,498781.9307,288846.6029,348408.8613,516995.9529,54666.06526,69809.65753,371636.6915,238964.9748,299609.0836,361244.6459,187182.7663,513210.2881,258490.1227,443558.7535,121992.2184,129229.7353,351473.4476,365803.058,42277.72636,675461.7357,139008.5462,255913.6516,625214.1659,300855.7861,61533.99547,619650.7261,24160.45218,119798.585,116425.7192,235753.1848,432140.6847,160744.0503,264898.0293,440550.5344,66682.56943,196636.8508,277507.0036,459226.6407,143977.3393,211403.4684,39947.04454,544422.1798,537240.108,542745.9601,560856.4185,497387.3262,125660.3599,77749.71303,316583.7463,252129.1836,527125.1728,341603.312,98951.52835,192009.5051,203632.4332,336327.2596,363044.2299,386949.5256,548611.3616,59873.62527,49566.39,385780.8768,95882.3111,400021.3253,351206.5319,2577.057456,333149.3655,171137.0662,352699.3398,332877.7868,238627.5838,687212.7707,279227.4118,355596.8965,467350.1017,466464.8329,327653.0355,302975.1788,589901.0593,41370.44656,208227.1136,568519.0844,151571.5328,217072.6811,336463.0139,487605.5371,599442.5133,389042.5298,10349.41407,198910.519,405487.9323,221839.2718,260829.7117,133886.4033,82638.67765,380765.8752,101745.5371,341134.7218,274581.2169,212645.6303,281654.8846,98371.75627,213942.2065,5121.652342,142909.4261,651534.3098,365974.3719,355468.056,471770.9203,231493.99,465350.4429,127331.648,671028.1872,163664.207,216758.2928,193910.7081,22643.56036,365100.1564,534470.6945,261938.9818,330757.825,514927.5894,432732.181,695407.0917,285874.988,79113.55318,260043.8576,326077.0029,648085.0454,101571.4983,50434.47117,359566.4986,581177.2116,351979.4379,634980.9806,110492.7388,266781.9511,81891.02639,268234.2246,195930.2286,244212.5455,241845.7525,197295.8156,118255.8374,316199.317,153779.277,243936.1677,103642.4697,115856.0369,451973.2129,192447.8216,630148.5131,317466.4207,323305.5002,109058.5443,160116.893,280081.3901],\"sizemode\":\"area\",\"sizeref\":1738.51772925,\"symbol\":\"circle\"},\"mode\":\"markers\",\"name\":\"\",\"scene\":\"scene\",\"showlegend\":false,\"x\":[49,59,54,42,30,38,45,23,59,48,55,73,54,34,54,53,23,30,37,52,39,38,71,31,42,65,65,33,29,24,59,40,52,47,66,62,73,23,45,43,21,45,54,22,26,72,29,65,34,26,66,50,33,47,59,52,55,74,32,31,25,75,39,46,29,34,54,36,52,28,18,45,48,50,43,27,68,67,59,74,62,45,33,20,61,32,49,66,36,55,35,22,59,21,74,51,22,35,47,66,20,58,42,27,63,28,48,63,45,22,70,65,41,56,51,33,69,21,40,19,62,38,49,30,62,58,73,66,71,54,53,34,41,47,26,30,55,43,50,61,37,29,26,22,56,70,38,37,62,19,46,50,48,53,70,60,37,57,66,27,21,22,18,18,38,23,21,44,72,63,50,56,59,44,20,33,49,22,64,31,53,23,26,63,43,62,74,66,45,62,61,47,74,48,48,54,20,44,28,41],\"y\":[653,630,555,699,793,635,881,852,708,669,618,614,711,629,764,880,729,803,817,774,672,691,669,555,778,623,782,588,684,698,562,774,777,769,755,789,575,850,715,639,817,731,704,712,713,874,751,761,633,632,763,701,784,854,692,751,648,865,863,622,817,868,849,565,665,632,670,736,687,561,892,724,583,760,555,712,880,873,715,897,801,600,768,807,626,654,742,738,805,808,625,695,656,678,859,616,861,814,616,653,575,576,575,666,876,568,849,564,654,565,782,667,593,606,553,827,559,806,620,857,804,858,695,800,624,767,630,808,790,726,624,746,895,781,868,894,707,552,842,567,636,756,894,887,647,657,607,637,884,551,892,616,886,868,669,605,854,742,803,707,633,827,742,586,581,786,718,755,836,725,573,605,890,657,779,666,779,844,733,571,601,701,838,573,896,824,615,770,831,676,559,784,608,568,833,601,554,844,837,789],\"z\":[78,63,69,30,6,97,2,77,22,97,13,62,64,29,53,36,18,49,75,84,87,37,87,64,82,82,59,57,27,35,15,84,97,4,48,30,93,77,97,78,4,78,39,11,97,34,100,46,98,48,62,42,37,36,71,99,41,88,25,8,52,20,59,37,47,14,96,40,48,70,37,12,100,18,59,68,87,19,9,39,32,56,78,57,11,56,73,40,29,44,50,52,2,62,54,45,23,80,67,2,19,28,24,38,59,54,51,79,37,72,12,78,40,15,100,25,10,10,90,8,70,76,13,87,6,46,35,89,100,71,50,22,76,93,57,85,96,33,20,7,18,22,19,14,99,11,42,30,23,77,73,39,94,58,32,55,22,78,36,93,55,85,32,87,9,54,86,67,39,77,35,35,45,75,91,32,89,21,19,61,61,92,94,41,4,47,75,11,44,7,96,34,16,45,91,52,58,36,24,31],\"type\":\"scatter3d\"}],                        {\"template\":{\"data\":{\"bar\":[{\"error_x\":{\"color\":\"#2a3f5f\"},\"error_y\":{\"color\":\"#2a3f5f\"},\"marker\":{\"line\":{\"color\":\"#E5ECF6\",\"width\":0.5},\"pattern\":{\"fillmode\":\"overlay\",\"size\":10,\"solidity\":0.2}},\"type\":\"bar\"}],\"barpolar\":[{\"marker\":{\"line\":{\"color\":\"#E5ECF6\",\"width\":0.5},\"pattern\":{\"fillmode\":\"overlay\",\"size\":10,\"solidity\":0.2}},\"type\":\"barpolar\"}],\"carpet\":[{\"aaxis\":{\"endlinecolor\":\"#2a3f5f\",\"gridcolor\":\"white\",\"linecolor\":\"white\",\"minorgridcolor\":\"white\",\"startlinecolor\":\"#2a3f5f\"},\"baxis\":{\"endlinecolor\":\"#2a3f5f\",\"gridcolor\":\"white\",\"linecolor\":\"white\",\"minorgridcolor\":\"white\",\"startlinecolor\":\"#2a3f5f\"},\"type\":\"carpet\"}],\"choropleth\":[{\"colorbar\":{\"outlinewidth\":0,\"ticks\":\"\"},\"type\":\"choropleth\"}],\"contour\":[{\"colorbar\":{\"outlinewidth\":0,\"ticks\":\"\"},\"colorscale\":[[0.0,\"#0d0887\"],[0.1111111111111111,\"#46039f\"],[0.2222222222222222,\"#7201a8\"],[0.3333333333333333,\"#9c179e\"],[0.4444444444444444,\"#bd3786\"],[0.5555555555555556,\"#d8576b\"],[0.6666666666666666,\"#ed7953\"],[0.7777777777777778,\"#fb9f3a\"],[0.8888888888888888,\"#fdca26\"],[1.0,\"#f0f921\"]],\"type\":\"contour\"}],\"contourcarpet\":[{\"colorbar\":{\"outlinewidth\":0,\"ticks\":\"\"},\"type\":\"contourcarpet\"}],\"heatmap\":[{\"colorbar\":{\"outlinewidth\":0,\"ticks\":\"\"},\"colorscale\":[[0.0,\"#0d0887\"],[0.1111111111111111,\"#46039f\"],[0.2222222222222222,\"#7201a8\"],[0.3333333333333333,\"#9c179e\"],[0.4444444444444444,\"#bd3786\"],[0.5555555555555556,\"#d8576b\"],[0.6666666666666666,\"#ed7953\"],[0.7777777777777778,\"#fb9f3a\"],[0.8888888888888888,\"#fdca26\"],[1.0,\"#f0f921\"]],\"type\":\"heatmap\"}],\"heatmapgl\":[{\"colorbar\":{\"outlinewidth\":0,\"ticks\":\"\"},\"colorscale\":[[0.0,\"#0d0887\"],[0.1111111111111111,\"#46039f\"],[0.2222222222222222,\"#7201a8\"],[0.3333333333333333,\"#9c179e\"],[0.4444444444444444,\"#bd3786\"],[0.5555555555555556,\"#d8576b\"],[0.6666666666666666,\"#ed7953\"],[0.7777777777777778,\"#fb9f3a\"],[0.8888888888888888,\"#fdca26\"],[1.0,\"#f0f921\"]],\"type\":\"heatmapgl\"}],\"histogram\":[{\"marker\":{\"pattern\":{\"fillmode\":\"overlay\",\"size\":10,\"solidity\":0.2}},\"type\":\"histogram\"}],\"histogram2d\":[{\"colorbar\":{\"outlinewidth\":0,\"ticks\":\"\"},\"colorscale\":[[0.0,\"#0d0887\"],[0.1111111111111111,\"#46039f\"],[0.2222222222222222,\"#7201a8\"],[0.3333333333333333,\"#9c179e\"],[0.4444444444444444,\"#bd3786\"],[0.5555555555555556,\"#d8576b\"],[0.6666666666666666,\"#ed7953\"],[0.7777777777777778,\"#fb9f3a\"],[0.8888888888888888,\"#fdca26\"],[1.0,\"#f0f921\"]],\"type\":\"histogram2d\"}],\"histogram2dcontour\":[{\"colorbar\":{\"outlinewidth\":0,\"ticks\":\"\"},\"colorscale\":[[0.0,\"#0d0887\"],[0.1111111111111111,\"#46039f\"],[0.2222222222222222,\"#7201a8\"],[0.3333333333333333,\"#9c179e\"],[0.4444444444444444,\"#bd3786\"],[0.5555555555555556,\"#d8576b\"],[0.6666666666666666,\"#ed7953\"],[0.7777777777777778,\"#fb9f3a\"],[0.8888888888888888,\"#fdca26\"],[1.0,\"#f0f921\"]],\"type\":\"histogram2dcontour\"}],\"mesh3d\":[{\"colorbar\":{\"outlinewidth\":0,\"ticks\":\"\"},\"type\":\"mesh3d\"}],\"parcoords\":[{\"line\":{\"colorbar\":{\"outlinewidth\":0,\"ticks\":\"\"}},\"type\":\"parcoords\"}],\"pie\":[{\"automargin\":true,\"type\":\"pie\"}],\"scatter\":[{\"marker\":{\"colorbar\":{\"outlinewidth\":0,\"ticks\":\"\"}},\"type\":\"scatter\"}],\"scatter3d\":[{\"line\":{\"colorbar\":{\"outlinewidth\":0,\"ticks\":\"\"}},\"marker\":{\"colorbar\":{\"outlinewidth\":0,\"ticks\":\"\"}},\"type\":\"scatter3d\"}],\"scattercarpet\":[{\"marker\":{\"colorbar\":{\"outlinewidth\":0,\"ticks\":\"\"}},\"type\":\"scattercarpet\"}],\"scattergeo\":[{\"marker\":{\"colorbar\":{\"outlinewidth\":0,\"ticks\":\"\"}},\"type\":\"scattergeo\"}],\"scattergl\":[{\"marker\":{\"colorbar\":{\"outlinewidth\":0,\"ticks\":\"\"}},\"type\":\"scattergl\"}],\"scattermapbox\":[{\"marker\":{\"colorbar\":{\"outlinewidth\":0,\"ticks\":\"\"}},\"type\":\"scattermapbox\"}],\"scatterpolar\":[{\"marker\":{\"colorbar\":{\"outlinewidth\":0,\"ticks\":\"\"}},\"type\":\"scatterpolar\"}],\"scatterpolargl\":[{\"marker\":{\"colorbar\":{\"outlinewidth\":0,\"ticks\":\"\"}},\"type\":\"scatterpolargl\"}],\"scatterternary\":[{\"marker\":{\"colorbar\":{\"outlinewidth\":0,\"ticks\":\"\"}},\"type\":\"scatterternary\"}],\"surface\":[{\"colorbar\":{\"outlinewidth\":0,\"ticks\":\"\"},\"colorscale\":[[0.0,\"#0d0887\"],[0.1111111111111111,\"#46039f\"],[0.2222222222222222,\"#7201a8\"],[0.3333333333333333,\"#9c179e\"],[0.4444444444444444,\"#bd3786\"],[0.5555555555555556,\"#d8576b\"],[0.6666666666666666,\"#ed7953\"],[0.7777777777777778,\"#fb9f3a\"],[0.8888888888888888,\"#fdca26\"],[1.0,\"#f0f921\"]],\"type\":\"surface\"}],\"table\":[{\"cells\":{\"fill\":{\"color\":\"#EBF0F8\"},\"line\":{\"color\":\"white\"}},\"header\":{\"fill\":{\"color\":\"#C8D4E3\"},\"line\":{\"color\":\"white\"}},\"type\":\"table\"}]},\"layout\":{\"annotationdefaults\":{\"arrowcolor\":\"#2a3f5f\",\"arrowhead\":0,\"arrowwidth\":1},\"autotypenumbers\":\"strict\",\"coloraxis\":{\"colorbar\":{\"outlinewidth\":0,\"ticks\":\"\"}},\"colorscale\":{\"diverging\":[[0,\"#8e0152\"],[0.1,\"#c51b7d\"],[0.2,\"#de77ae\"],[0.3,\"#f1b6da\"],[0.4,\"#fde0ef\"],[0.5,\"#f7f7f7\"],[0.6,\"#e6f5d0\"],[0.7,\"#b8e186\"],[0.8,\"#7fbc41\"],[0.9,\"#4d9221\"],[1,\"#276419\"]],\"sequential\":[[0.0,\"#0d0887\"],[0.1111111111111111,\"#46039f\"],[0.2222222222222222,\"#7201a8\"],[0.3333333333333333,\"#9c179e\"],[0.4444444444444444,\"#bd3786\"],[0.5555555555555556,\"#d8576b\"],[0.6666666666666666,\"#ed7953\"],[0.7777777777777778,\"#fb9f3a\"],[0.8888888888888888,\"#fdca26\"],[1.0,\"#f0f921\"]],\"sequentialminus\":[[0.0,\"#0d0887\"],[0.1111111111111111,\"#46039f\"],[0.2222222222222222,\"#7201a8\"],[0.3333333333333333,\"#9c179e\"],[0.4444444444444444,\"#bd3786\"],[0.5555555555555556,\"#d8576b\"],[0.6666666666666666,\"#ed7953\"],[0.7777777777777778,\"#fb9f3a\"],[0.8888888888888888,\"#fdca26\"],[1.0,\"#f0f921\"]]},\"colorway\":[\"#636efa\",\"#EF553B\",\"#00cc96\",\"#ab63fa\",\"#FFA15A\",\"#19d3f3\",\"#FF6692\",\"#B6E880\",\"#FF97FF\",\"#FECB52\"],\"font\":{\"color\":\"#2a3f5f\"},\"geo\":{\"bgcolor\":\"white\",\"lakecolor\":\"white\",\"landcolor\":\"#E5ECF6\",\"showlakes\":true,\"showland\":true,\"subunitcolor\":\"white\"},\"hoverlabel\":{\"align\":\"left\"},\"hovermode\":\"closest\",\"mapbox\":{\"style\":\"light\"},\"paper_bgcolor\":\"white\",\"plot_bgcolor\":\"#E5ECF6\",\"polar\":{\"angularaxis\":{\"gridcolor\":\"white\",\"linecolor\":\"white\",\"ticks\":\"\"},\"bgcolor\":\"#E5ECF6\",\"radialaxis\":{\"gridcolor\":\"white\",\"linecolor\":\"white\",\"ticks\":\"\"}},\"scene\":{\"xaxis\":{\"backgroundcolor\":\"#E5ECF6\",\"gridcolor\":\"white\",\"gridwidth\":2,\"linecolor\":\"white\",\"showbackground\":true,\"ticks\":\"\",\"zerolinecolor\":\"white\"},\"yaxis\":{\"backgroundcolor\":\"#E5ECF6\",\"gridcolor\":\"white\",\"gridwidth\":2,\"linecolor\":\"white\",\"showbackground\":true,\"ticks\":\"\",\"zerolinecolor\":\"white\"},\"zaxis\":{\"backgroundcolor\":\"#E5ECF6\",\"gridcolor\":\"white\",\"gridwidth\":2,\"linecolor\":\"white\",\"showbackground\":true,\"ticks\":\"\",\"zerolinecolor\":\"white\"}},\"shapedefaults\":{\"line\":{\"color\":\"#2a3f5f\"}},\"ternary\":{\"aaxis\":{\"gridcolor\":\"white\",\"linecolor\":\"white\",\"ticks\":\"\"},\"baxis\":{\"gridcolor\":\"white\",\"linecolor\":\"white\",\"ticks\":\"\"},\"bgcolor\":\"#E5ECF6\",\"caxis\":{\"gridcolor\":\"white\",\"linecolor\":\"white\",\"ticks\":\"\"}},\"title\":{\"x\":0.05},\"xaxis\":{\"automargin\":true,\"gridcolor\":\"white\",\"linecolor\":\"white\",\"ticks\":\"\",\"title\":{\"standoff\":15},\"zerolinecolor\":\"white\",\"zerolinewidth\":2},\"yaxis\":{\"automargin\":true,\"gridcolor\":\"white\",\"linecolor\":\"white\",\"ticks\":\"\",\"title\":{\"standoff\":15},\"zerolinecolor\":\"white\",\"zerolinewidth\":2}}},\"scene\":{\"domain\":{\"x\":[0.0,1.0],\"y\":[0.0,1.0]},\"xaxis\":{\"title\":{\"text\":\"CustomerAge\"}},\"yaxis\":{\"title\":{\"text\":\"CreditScore\"}},\"zaxis\":{\"title\":{\"text\":\"SpendingScore\"}}},\"coloraxis\":{\"colorbar\":{\"title\":{\"text\":\"lable\"}},\"colorscale\":[[0.0,\"#0d0887\"],[0.1111111111111111,\"#46039f\"],[0.2222222222222222,\"#7201a8\"],[0.3333333333333333,\"#9c179e\"],[0.4444444444444444,\"#bd3786\"],[0.5555555555555556,\"#d8576b\"],[0.6666666666666666,\"#ed7953\"],[0.7777777777777778,\"#fb9f3a\"],[0.8888888888888888,\"#fdca26\"],[1.0,\"#f0f921\"]]},\"legend\":{\"tracegroupgap\":0,\"itemsizing\":\"constant\"},\"margin\":{\"t\":60}},                        {\"responsive\": true}                    ).then(function(){\n",
       "                            \n",
       "var gd = document.getElementById('44b2a22e-2215-4573-9130-56ae281eac53');\n",
       "var x = new MutationObserver(function (mutations, observer) {{\n",
       "        var display = window.getComputedStyle(gd).display;\n",
       "        if (!display || display === 'none') {{\n",
       "            console.log([gd, 'removed!']);\n",
       "            Plotly.purge(gd);\n",
       "            observer.disconnect();\n",
       "        }}\n",
       "}});\n",
       "\n",
       "// Listen for the removal of the full notebook cells\n",
       "var notebookContainer = gd.closest('#notebook-container');\n",
       "if (notebookContainer) {{\n",
       "    x.observe(notebookContainer, {childList: true});\n",
       "}}\n",
       "\n",
       "// Listen for the clearing of the current output cell\n",
       "var outputEl = gd.closest('.output');\n",
       "if (outputEl) {{\n",
       "    x.observe(outputEl, {childList: true});\n",
       "}}\n",
       "\n",
       "                        })                };                });            </script>        </div>"
      ]
     },
     "metadata": {},
     "output_type": "display_data"
    }
   ],
   "source": [
    "from sklearn.cluster import DBSCAN\n",
    "\n",
    "DB=DBSCAN(min_samples=8, eps=0.4)\n",
    "DB.fit(X)\n",
    "\n",
    "print(len(set(DB.labels_)))\n",
    "\n",
    "DB_DF=df.copy()\n",
    "\n",
    "DB_DF['lable']=DB.labels_\n",
    "\n",
    "score = silhouette_score(X,DB.labels_)\n",
    "print (\"Silhouette Score\", score)\n",
    "\n",
    "\n",
    "px.scatter_3d(DB_DF, 'CustomerAge', 'CreditScore', 'SpendingScore', color='lable', \n",
    "              hover_data=DB_DF.columns, size='AnnualIncome')\n"
   ]
  },
  {
   "cell_type": "code",
   "execution_count": 131,
   "metadata": {},
   "outputs": [
    {
     "name": "stdout",
     "output_type": "stream",
     "text": [
      "Silhouette Score 0.1661342013319299\n",
      "-3992.9473265449997\n"
     ]
    },
    {
     "data": {
      "application/vnd.plotly.v1+json": {
       "config": {
        "plotlyServerURL": "https://plot.ly"
       },
       "data": [
        {
         "customdata": [
          [
           1001,
           "Male",
           527547.5885,
           78,
           1
          ],
          [
           1002,
           "Male",
           207143.1976,
           63,
           1
          ],
          [
           1003,
           "Female",
           164423.8457,
           69,
           4
          ],
          [
           1004,
           "Female",
           56220.36443,
           30,
           1
          ],
          [
           1005,
           "Female",
           256194.3619,
           6,
           1
          ],
          [
           1006,
           "Female",
           475324.8903,
           97,
           2
          ],
          [
           1007,
           "Female",
           186352.3482,
           2,
           2
          ],
          [
           1008,
           "Female",
           414233.1569,
           77,
           5
          ],
          [
           1009,
           "Male",
           97263.51748,
           22,
           2
          ],
          [
           1010,
           "Female",
           179271.2332,
           97,
           3
          ],
          [
           1011,
           "Male",
           194016.5771,
           13,
           1
          ],
          [
           1012,
           "Female",
           227536.1384,
           62,
           1
          ],
          [
           1013,
           "Female",
           384549.196,
           64,
           4
          ],
          [
           1014,
           "Female",
           441207.6896,
           29,
           5
          ],
          [
           1015,
           "Male",
           195955.9211,
           53,
           1
          ],
          [
           1016,
           "Male",
           342386.7743,
           36,
           3
          ],
          [
           1017,
           "Female",
           12396.06128,
           18,
           1
          ],
          [
           1018,
           "Male",
           243054.5171,
           49,
           5
          ],
          [
           1019,
           "Male",
           353525.8767,
           75,
           5
          ],
          [
           1020,
           "Female",
           146957.5537,
           84,
           3
          ],
          [
           1021,
           "Male",
           217461.907,
           87,
           2
          ],
          [
           1022,
           "Male",
           466647.6548,
           37,
           1
          ],
          [
           1023,
           "Female",
           36359.20628,
           87,
           3
          ],
          [
           1024,
           "Male",
           227040.4915,
           64,
           5
          ],
          [
           1025,
           "Female",
           183013.7351,
           82,
           1
          ],
          [
           1026,
           "Male",
           496142.1332,
           82,
           2
          ],
          [
           1027,
           "Female",
           304101.4516,
           59,
           3
          ],
          [
           1028,
           "Male",
           15305.84287,
           57,
           1
          ],
          [
           1029,
           "Female",
           90898.14293,
           27,
           4
          ],
          [
           1030,
           "Female",
           372800.2429,
           35,
           2
          ],
          [
           1031,
           "Male",
           186025.496,
           15,
           1
          ],
          [
           1032,
           "Female",
           424172.7786,
           84,
           1
          ],
          [
           1033,
           "Male",
           316975.4388,
           97,
           2
          ],
          [
           1034,
           "Male",
           245271.891,
           4,
           3
          ],
          [
           1035,
           "Female",
           54756.27976,
           48,
           2
          ],
          [
           1036,
           "Female",
           480722.9923,
           30,
           4
          ],
          [
           1037,
           "Female",
           243050.2953,
           93,
           5
          ],
          [
           1038,
           "Female",
           354943.3271,
           77,
           5
          ],
          [
           1039,
           "Female",
           105283.4509,
           97,
           5
          ],
          [
           1040,
           "Female",
           266522.7503,
           78,
           5
          ],
          [
           1041,
           "Female",
           248583.777,
           4,
           5
          ],
          [
           1042,
           "Male",
           35051.23859,
           78,
           1
          ],
          [
           1043,
           "Male",
           279363.0453,
           39,
           1
          ],
          [
           1044,
           "Female",
           498781.9307,
           11,
           3
          ],
          [
           1045,
           "Female",
           288846.6029,
           97,
           4
          ],
          [
           1046,
           "Female",
           348408.8613,
           34,
           3
          ],
          [
           1047,
           "Female",
           516995.9529,
           100,
           1
          ],
          [
           1048,
           "Female",
           54666.06526,
           46,
           5
          ],
          [
           1049,
           "Female",
           69809.65753,
           98,
           2
          ],
          [
           1050,
           "Female",
           371636.6915,
           48,
           2
          ],
          [
           1051,
           "Female",
           238964.9748,
           62,
           3
          ],
          [
           1052,
           "Male",
           299609.0836,
           42,
           1
          ],
          [
           1053,
           "Female",
           361244.6459,
           37,
           3
          ],
          [
           1054,
           "Male",
           187182.7663,
           36,
           5
          ],
          [
           1055,
           "Female",
           513210.2881,
           71,
           3
          ],
          [
           1056,
           "Male",
           258490.1227,
           99,
           4
          ],
          [
           1057,
           "Female",
           443558.7535,
           41,
           1
          ],
          [
           1058,
           "Male",
           121992.2184,
           88,
           1
          ],
          [
           1059,
           "Female",
           129229.7353,
           25,
           5
          ],
          [
           1060,
           "Male",
           351473.4476,
           8,
           1
          ],
          [
           1061,
           "Male",
           365803.058,
           52,
           5
          ],
          [
           1062,
           "Male",
           42277.72636,
           20,
           4
          ],
          [
           1063,
           "Female",
           675461.7357,
           59,
           1
          ],
          [
           1064,
           "Female",
           139008.5462,
           37,
           1
          ],
          [
           1065,
           "Male",
           255913.6516,
           47,
           1
          ],
          [
           1066,
           "Male",
           625214.1659,
           14,
           2
          ],
          [
           1067,
           "Female",
           300855.7861,
           96,
           5
          ],
          [
           1068,
           "Female",
           61533.99547,
           40,
           4
          ],
          [
           1069,
           "Male",
           619650.7261,
           48,
           2
          ],
          [
           1070,
           "Female",
           24160.45218,
           70,
           5
          ],
          [
           1071,
           "Male",
           119798.585,
           37,
           1
          ],
          [
           1072,
           "Female",
           116425.7192,
           12,
           1
          ],
          [
           1073,
           "Female",
           235753.1848,
           100,
           3
          ],
          [
           1074,
           "Female",
           432140.6847,
           18,
           5
          ],
          [
           1075,
           "Male",
           160744.0503,
           59,
           4
          ],
          [
           1076,
           "Male",
           264898.0293,
           68,
           2
          ],
          [
           1077,
           "Female",
           440550.5344,
           87,
           4
          ],
          [
           1078,
           "Male",
           66682.56943,
           19,
           1
          ],
          [
           1079,
           "Female",
           196636.8508,
           9,
           2
          ],
          [
           1080,
           "Female",
           277507.0036,
           39,
           2
          ],
          [
           1081,
           "Male",
           459226.6407,
           32,
           4
          ],
          [
           1082,
           "Male",
           143977.3393,
           56,
           5
          ],
          [
           1083,
           "Male",
           211403.4684,
           78,
           3
          ],
          [
           1084,
           "Female",
           39947.04454,
           57,
           2
          ],
          [
           1085,
           "Female",
           544422.1798,
           11,
           4
          ],
          [
           1086,
           "Male",
           537240.108,
           56,
           5
          ],
          [
           1087,
           "Female",
           542745.9601,
           73,
           1
          ],
          [
           1088,
           "Female",
           560856.4185,
           40,
           2
          ],
          [
           1089,
           "Female",
           497387.3262,
           29,
           4
          ],
          [
           1090,
           "Female",
           125660.3599,
           44,
           4
          ],
          [
           1091,
           "Female",
           77749.71303,
           50,
           4
          ],
          [
           1092,
           "Male",
           316583.7463,
           52,
           3
          ],
          [
           1093,
           "Male",
           252129.1836,
           2,
           3
          ],
          [
           1094,
           "Female",
           527125.1728,
           62,
           5
          ],
          [
           1095,
           "Female",
           341603.312,
           54,
           1
          ],
          [
           1096,
           "Male",
           98951.52835,
           45,
           5
          ],
          [
           1097,
           "Female",
           192009.5051,
           23,
           4
          ],
          [
           1098,
           "Female",
           203632.4332,
           80,
           5
          ],
          [
           1099,
           "Male",
           336327.2596,
           67,
           2
          ],
          [
           1100,
           "Male",
           363044.2299,
           2,
           2
          ],
          [
           1101,
           "Female",
           386949.5256,
           19,
           1
          ],
          [
           1102,
           "Female",
           548611.3616,
           28,
           2
          ],
          [
           1103,
           "Male",
           59873.62527,
           24,
           4
          ],
          [
           1104,
           "Male",
           49566.39,
           38,
           1
          ],
          [
           1105,
           "Male",
           385780.8768,
           59,
           2
          ],
          [
           1106,
           "Female",
           95882.3111,
           54,
           2
          ],
          [
           1107,
           "Female",
           400021.3253,
           51,
           3
          ],
          [
           1108,
           "Male",
           351206.5319,
           79,
           4
          ],
          [
           1109,
           "Male",
           2577.057456,
           37,
           2
          ],
          [
           1110,
           "Male",
           333149.3655,
           72,
           5
          ],
          [
           1111,
           "Male",
           171137.0662,
           12,
           2
          ],
          [
           1112,
           "Female",
           352699.3398,
           78,
           5
          ],
          [
           1113,
           "Female",
           332877.7868,
           40,
           2
          ],
          [
           1114,
           "Male",
           238627.5838,
           15,
           4
          ],
          [
           1115,
           "Female",
           687212.7707,
           100,
           2
          ],
          [
           1116,
           "Female",
           279227.4118,
           25,
           4
          ],
          [
           1117,
           "Female",
           355596.8965,
           10,
           5
          ],
          [
           1118,
           "Female",
           467350.1017,
           10,
           4
          ],
          [
           1119,
           "Female",
           466464.8329,
           90,
           3
          ],
          [
           1120,
           "Female",
           327653.0355,
           8,
           4
          ],
          [
           1121,
           "Male",
           302975.1788,
           70,
           2
          ],
          [
           1122,
           "Female",
           589901.0593,
           76,
           5
          ],
          [
           1123,
           "Female",
           41370.44656,
           13,
           4
          ],
          [
           1124,
           "Male",
           208227.1136,
           87,
           2
          ],
          [
           1125,
           "Female",
           568519.0844,
           6,
           5
          ],
          [
           1126,
           "Female",
           151571.5328,
           46,
           3
          ],
          [
           1127,
           "Male",
           217072.6811,
           35,
           2
          ],
          [
           1128,
           "Male",
           336463.0139,
           89,
           1
          ],
          [
           1129,
           "Male",
           487605.5371,
           100,
           1
          ],
          [
           1130,
           "Male",
           599442.5133,
           71,
           1
          ],
          [
           1131,
           "Male",
           389042.5298,
           50,
           3
          ],
          [
           1132,
           "Male",
           10349.41407,
           22,
           5
          ],
          [
           1133,
           "Female",
           198910.519,
           76,
           4
          ],
          [
           1134,
           "Female",
           405487.9323,
           93,
           3
          ],
          [
           1135,
           "Male",
           221839.2718,
           57,
           5
          ],
          [
           1136,
           "Female",
           260829.7117,
           85,
           4
          ],
          [
           1137,
           "Female",
           133886.4033,
           96,
           3
          ],
          [
           1138,
           "Male",
           82638.67765,
           33,
           1
          ],
          [
           1139,
           "Male",
           380765.8752,
           20,
           5
          ],
          [
           1140,
           "Female",
           101745.5371,
           7,
           2
          ],
          [
           1141,
           "Female",
           341134.7218,
           18,
           1
          ],
          [
           1142,
           "Male",
           274581.2169,
           22,
           1
          ],
          [
           1143,
           "Female",
           212645.6303,
           19,
           2
          ],
          [
           1144,
           "Female",
           281654.8846,
           14,
           3
          ],
          [
           1145,
           "Male",
           98371.75627,
           99,
           5
          ],
          [
           1146,
           "Male",
           213942.2065,
           11,
           5
          ],
          [
           1147,
           "Male",
           5121.652342,
           42,
           4
          ],
          [
           1148,
           "Female",
           142909.4261,
           30,
           4
          ],
          [
           1149,
           "Female",
           651534.3098,
           23,
           1
          ],
          [
           1150,
           "Male",
           365974.3719,
           77,
           3
          ],
          [
           1151,
           "Male",
           355468.056,
           73,
           4
          ],
          [
           1152,
           "Male",
           471770.9203,
           39,
           4
          ],
          [
           1153,
           "Female",
           231493.99,
           94,
           3
          ],
          [
           1154,
           "Female",
           465350.4429,
           58,
           2
          ],
          [
           1155,
           "Female",
           127331.648,
           32,
           1
          ],
          [
           1156,
           "Female",
           671028.1872,
           55,
           5
          ],
          [
           1157,
           "Male",
           163664.207,
           22,
           3
          ],
          [
           1158,
           "Female",
           216758.2928,
           78,
           1
          ],
          [
           1159,
           "Male",
           193910.7081,
           36,
           1
          ],
          [
           1160,
           "Female",
           22643.56036,
           93,
           5
          ],
          [
           1161,
           "Female",
           365100.1564,
           55,
           1
          ],
          [
           1162,
           "Female",
           534470.6945,
           85,
           4
          ],
          [
           1163,
           "Male",
           261938.9818,
           32,
           4
          ],
          [
           1164,
           "Female",
           330757.825,
           87,
           4
          ],
          [
           1165,
           "Male",
           514927.5894,
           9,
           2
          ],
          [
           1166,
           "Female",
           432732.181,
           54,
           2
          ],
          [
           1167,
           "Male",
           695407.0917,
           86,
           1
          ],
          [
           1168,
           "Female",
           285874.988,
           67,
           2
          ],
          [
           1169,
           "Female",
           79113.55318,
           39,
           5
          ],
          [
           1170,
           "Male",
           260043.8576,
           77,
           2
          ],
          [
           1171,
           "Male",
           326077.0029,
           35,
           1
          ],
          [
           1172,
           "Male",
           648085.0454,
           35,
           5
          ],
          [
           1173,
           "Male",
           101571.4983,
           45,
           1
          ],
          [
           1174,
           "Male",
           50434.47117,
           75,
           1
          ],
          [
           1175,
           "Female",
           359566.4986,
           91,
           5
          ],
          [
           1176,
           "Female",
           581177.2116,
           32,
           5
          ],
          [
           1177,
           "Male",
           351979.4379,
           89,
           3
          ],
          [
           1178,
           "Male",
           634980.9806,
           21,
           2
          ],
          [
           1179,
           "Male",
           110492.7388,
           19,
           2
          ],
          [
           1180,
           "Male",
           266781.9511,
           61,
           4
          ],
          [
           1181,
           "Female",
           81891.02639,
           61,
           1
          ],
          [
           1182,
           "Female",
           268234.2246,
           92,
           1
          ],
          [
           1183,
           "Male",
           195930.2286,
           94,
           3
          ],
          [
           1184,
           "Female",
           244212.5455,
           41,
           2
          ],
          [
           1185,
           "Female",
           241845.7525,
           4,
           2
          ],
          [
           1186,
           "Male",
           197295.8156,
           47,
           3
          ],
          [
           1187,
           "Female",
           118255.8374,
           75,
           3
          ],
          [
           1188,
           "Male",
           316199.317,
           11,
           2
          ],
          [
           1189,
           "Female",
           153779.277,
           44,
           2
          ],
          [
           1190,
           "Female",
           243936.1677,
           7,
           4
          ],
          [
           1191,
           "Female",
           103642.4697,
           96,
           4
          ],
          [
           1192,
           "Female",
           115856.0369,
           34,
           5
          ],
          [
           1193,
           "Male",
           451973.2129,
           16,
           1
          ],
          [
           1194,
           "Female",
           192447.8216,
           45,
           1
          ],
          [
           1195,
           "Female",
           630148.5131,
           91,
           2
          ],
          [
           1196,
           "Female",
           317466.4207,
           52,
           4
          ],
          [
           1197,
           "Female",
           323305.5002,
           58,
           1
          ],
          [
           1198,
           "Male",
           109058.5443,
           36,
           2
          ],
          [
           1199,
           "Male",
           160116.893,
           24,
           4
          ],
          [
           1200,
           "Male",
           280081.3901,
           31,
           2
          ]
         ],
         "hovertemplate": "CustomerAge=%{x}<br>CreditScore=%{y}<br>CustomerCity=%{z}<br>AnnualIncome=%{customdata[2]}<br>CustomerID=%{customdata[0]}<br>CustomerGender=%{customdata[1]}<br>SpendingScore=%{customdata[3]}<br>CustomerCityID=%{customdata[4]}<br>lable=%{marker.color}<extra></extra>",
         "legendgroup": "",
         "marker": {
          "color": [
           0,
           5,
           8,
           1,
           1,
           7,
           1,
           3,
           9,
           3,
           5,
           3,
           3,
           1,
           9,
           9,
           1,
           6,
           9,
           3,
           4,
           9,
           3,
           0,
           3,
           4,
           2,
           5,
           1,
           1,
           5,
           3,
           4,
           9,
           2,
           2,
           3,
           3,
           3,
           8,
           1,
           4,
           9,
           1,
           7,
           2,
           7,
           2,
           7,
           1,
           2,
           9,
           1,
           9,
           3,
           4,
           8,
           4,
           1,
           6,
           6,
           9,
           3,
           8,
           6,
           0,
           3,
           1,
           0,
           1,
           6,
           1,
           7,
           2,
           5,
           6,
           2,
           9,
           2,
           2,
           9,
           5,
           6,
           1,
           8,
           0,
           3,
           2,
           1,
           2,
           1,
           6,
           5,
           1,
           2,
           5,
           1,
           3,
           0,
           5,
           1,
           8,
           5,
           6,
           9,
           1,
           2,
           4,
           5,
           0,
           9,
           3,
           1,
           5,
           7,
           1,
           8,
           1,
           7,
           1,
           9,
           3,
           2,
           6,
           8,
           2,
           5,
           4,
           4,
           0,
           0,
           6,
           3,
           3,
           6,
           3,
           3,
           5,
           9,
           8,
           1,
           6,
           1,
           1,
           4,
           5,
           5,
           1,
           2,
           0,
           9,
           0,
           3,
           2,
           2,
           8,
           9,
           3,
           9,
           7,
           1,
           3,
           6,
           1,
           0,
           1,
           0,
           3,
           2,
           4,
           0,
           0,
           9,
           4,
           7,
           1,
           4,
           6,
           9,
           0,
           8,
           7,
           6,
           8,
           1,
           9,
           3,
           9,
           2,
           2,
           3,
           2,
           5,
           8,
           3,
           8,
           1,
           9,
           6,
           9
          ],
          "coloraxis": "coloraxis",
          "size": [
           527547.5885,
           207143.1976,
           164423.8457,
           56220.36443,
           256194.3619,
           475324.8903,
           186352.3482,
           414233.1569,
           97263.51748,
           179271.2332,
           194016.5771,
           227536.1384,
           384549.196,
           441207.6896,
           195955.9211,
           342386.7743,
           12396.06128,
           243054.5171,
           353525.8767,
           146957.5537,
           217461.907,
           466647.6548,
           36359.20628,
           227040.4915,
           183013.7351,
           496142.1332,
           304101.4516,
           15305.84287,
           90898.14293,
           372800.2429,
           186025.496,
           424172.7786,
           316975.4388,
           245271.891,
           54756.27976,
           480722.9923,
           243050.2953,
           354943.3271,
           105283.4509,
           266522.7503,
           248583.777,
           35051.23859,
           279363.0453,
           498781.9307,
           288846.6029,
           348408.8613,
           516995.9529,
           54666.06526,
           69809.65753,
           371636.6915,
           238964.9748,
           299609.0836,
           361244.6459,
           187182.7663,
           513210.2881,
           258490.1227,
           443558.7535,
           121992.2184,
           129229.7353,
           351473.4476,
           365803.058,
           42277.72636,
           675461.7357,
           139008.5462,
           255913.6516,
           625214.1659,
           300855.7861,
           61533.99547,
           619650.7261,
           24160.45218,
           119798.585,
           116425.7192,
           235753.1848,
           432140.6847,
           160744.0503,
           264898.0293,
           440550.5344,
           66682.56943,
           196636.8508,
           277507.0036,
           459226.6407,
           143977.3393,
           211403.4684,
           39947.04454,
           544422.1798,
           537240.108,
           542745.9601,
           560856.4185,
           497387.3262,
           125660.3599,
           77749.71303,
           316583.7463,
           252129.1836,
           527125.1728,
           341603.312,
           98951.52835,
           192009.5051,
           203632.4332,
           336327.2596,
           363044.2299,
           386949.5256,
           548611.3616,
           59873.62527,
           49566.39,
           385780.8768,
           95882.3111,
           400021.3253,
           351206.5319,
           2577.057456,
           333149.3655,
           171137.0662,
           352699.3398,
           332877.7868,
           238627.5838,
           687212.7707,
           279227.4118,
           355596.8965,
           467350.1017,
           466464.8329,
           327653.0355,
           302975.1788,
           589901.0593,
           41370.44656,
           208227.1136,
           568519.0844,
           151571.5328,
           217072.6811,
           336463.0139,
           487605.5371,
           599442.5133,
           389042.5298,
           10349.41407,
           198910.519,
           405487.9323,
           221839.2718,
           260829.7117,
           133886.4033,
           82638.67765,
           380765.8752,
           101745.5371,
           341134.7218,
           274581.2169,
           212645.6303,
           281654.8846,
           98371.75627,
           213942.2065,
           5121.652342,
           142909.4261,
           651534.3098,
           365974.3719,
           355468.056,
           471770.9203,
           231493.99,
           465350.4429,
           127331.648,
           671028.1872,
           163664.207,
           216758.2928,
           193910.7081,
           22643.56036,
           365100.1564,
           534470.6945,
           261938.9818,
           330757.825,
           514927.5894,
           432732.181,
           695407.0917,
           285874.988,
           79113.55318,
           260043.8576,
           326077.0029,
           648085.0454,
           101571.4983,
           50434.47117,
           359566.4986,
           581177.2116,
           351979.4379,
           634980.9806,
           110492.7388,
           266781.9511,
           81891.02639,
           268234.2246,
           195930.2286,
           244212.5455,
           241845.7525,
           197295.8156,
           118255.8374,
           316199.317,
           153779.277,
           243936.1677,
           103642.4697,
           115856.0369,
           451973.2129,
           192447.8216,
           630148.5131,
           317466.4207,
           323305.5002,
           109058.5443,
           160116.893,
           280081.3901
          ],
          "sizemode": "area",
          "sizeref": 1738.51772925,
          "symbol": "circle"
         },
         "mode": "markers",
         "name": "",
         "scene": "scene",
         "showlegend": false,
         "type": "scatter3d",
         "x": [
          49,
          59,
          54,
          42,
          30,
          38,
          45,
          23,
          59,
          48,
          55,
          73,
          54,
          34,
          54,
          53,
          23,
          30,
          37,
          52,
          39,
          38,
          71,
          31,
          42,
          65,
          65,
          33,
          29,
          24,
          59,
          40,
          52,
          47,
          66,
          62,
          73,
          23,
          45,
          43,
          21,
          45,
          54,
          22,
          26,
          72,
          29,
          65,
          34,
          26,
          66,
          50,
          33,
          47,
          59,
          52,
          55,
          74,
          32,
          31,
          25,
          75,
          39,
          46,
          29,
          34,
          54,
          36,
          52,
          28,
          18,
          45,
          48,
          50,
          43,
          27,
          68,
          67,
          59,
          74,
          62,
          45,
          33,
          20,
          61,
          32,
          49,
          66,
          36,
          55,
          35,
          22,
          59,
          21,
          74,
          51,
          22,
          35,
          47,
          66,
          20,
          58,
          42,
          27,
          63,
          28,
          48,
          63,
          45,
          22,
          70,
          65,
          41,
          56,
          51,
          33,
          69,
          21,
          40,
          19,
          62,
          38,
          49,
          30,
          62,
          58,
          73,
          66,
          71,
          54,
          53,
          34,
          41,
          47,
          26,
          30,
          55,
          43,
          50,
          61,
          37,
          29,
          26,
          22,
          56,
          70,
          38,
          37,
          62,
          19,
          46,
          50,
          48,
          53,
          70,
          60,
          37,
          57,
          66,
          27,
          21,
          22,
          18,
          18,
          38,
          23,
          21,
          44,
          72,
          63,
          50,
          56,
          59,
          44,
          20,
          33,
          49,
          22,
          64,
          31,
          53,
          23,
          26,
          63,
          43,
          62,
          74,
          66,
          45,
          62,
          61,
          47,
          74,
          48,
          48,
          54,
          20,
          44,
          28,
          41
         ],
         "y": [
          653,
          630,
          555,
          699,
          793,
          635,
          881,
          852,
          708,
          669,
          618,
          614,
          711,
          629,
          764,
          880,
          729,
          803,
          817,
          774,
          672,
          691,
          669,
          555,
          778,
          623,
          782,
          588,
          684,
          698,
          562,
          774,
          777,
          769,
          755,
          789,
          575,
          850,
          715,
          639,
          817,
          731,
          704,
          712,
          713,
          874,
          751,
          761,
          633,
          632,
          763,
          701,
          784,
          854,
          692,
          751,
          648,
          865,
          863,
          622,
          817,
          868,
          849,
          565,
          665,
          632,
          670,
          736,
          687,
          561,
          892,
          724,
          583,
          760,
          555,
          712,
          880,
          873,
          715,
          897,
          801,
          600,
          768,
          807,
          626,
          654,
          742,
          738,
          805,
          808,
          625,
          695,
          656,
          678,
          859,
          616,
          861,
          814,
          616,
          653,
          575,
          576,
          575,
          666,
          876,
          568,
          849,
          564,
          654,
          565,
          782,
          667,
          593,
          606,
          553,
          827,
          559,
          806,
          620,
          857,
          804,
          858,
          695,
          800,
          624,
          767,
          630,
          808,
          790,
          726,
          624,
          746,
          895,
          781,
          868,
          894,
          707,
          552,
          842,
          567,
          636,
          756,
          894,
          887,
          647,
          657,
          607,
          637,
          884,
          551,
          892,
          616,
          886,
          868,
          669,
          605,
          854,
          742,
          803,
          707,
          633,
          827,
          742,
          586,
          581,
          786,
          718,
          755,
          836,
          725,
          573,
          605,
          890,
          657,
          779,
          666,
          779,
          844,
          733,
          571,
          601,
          701,
          838,
          573,
          896,
          824,
          615,
          770,
          831,
          676,
          559,
          784,
          608,
          568,
          833,
          601,
          554,
          844,
          837,
          789
         ],
         "z": [
          "Bengaluru",
          "Bengaluru",
          "Delhi",
          "Bengaluru",
          "Bengaluru",
          "Chennai",
          "Chennai",
          "Mumbai",
          "Chennai",
          "Kolkata",
          "Bengaluru",
          "Bengaluru",
          "Delhi",
          "Mumbai",
          "Bengaluru",
          "Kolkata",
          "Bengaluru",
          "Mumbai",
          "Mumbai",
          "Kolkata",
          "Chennai",
          "Bengaluru",
          "Kolkata",
          "Mumbai",
          "Bengaluru",
          "Chennai",
          "Kolkata",
          "Bengaluru",
          "Delhi",
          "Chennai",
          "Bengaluru",
          "Bengaluru",
          "Chennai",
          "Kolkata",
          "Chennai",
          "Delhi",
          "Mumbai",
          "Mumbai",
          "Mumbai",
          "Mumbai",
          "Mumbai",
          "Bengaluru",
          "Bengaluru",
          "Kolkata",
          "Delhi",
          "Kolkata",
          "Bengaluru",
          "Mumbai",
          "Chennai",
          "Chennai",
          "Kolkata",
          "Bengaluru",
          "Kolkata",
          "Mumbai",
          "Kolkata",
          "Delhi",
          "Bengaluru",
          "Bengaluru",
          "Mumbai",
          "Bengaluru",
          "Mumbai",
          "Delhi",
          "Bengaluru",
          "Bengaluru",
          "Bengaluru",
          "Chennai",
          "Mumbai",
          "Delhi",
          "Chennai",
          "Mumbai",
          "Bengaluru",
          "Bengaluru",
          "Kolkata",
          "Mumbai",
          "Delhi",
          "Chennai",
          "Delhi",
          "Bengaluru",
          "Chennai",
          "Chennai",
          "Delhi",
          "Mumbai",
          "Kolkata",
          "Chennai",
          "Delhi",
          "Mumbai",
          "Bengaluru",
          "Chennai",
          "Delhi",
          "Delhi",
          "Delhi",
          "Kolkata",
          "Kolkata",
          "Mumbai",
          "Bengaluru",
          "Mumbai",
          "Delhi",
          "Mumbai",
          "Chennai",
          "Chennai",
          "Bengaluru",
          "Chennai",
          "Delhi",
          "Bengaluru",
          "Chennai",
          "Chennai",
          "Kolkata",
          "Delhi",
          "Chennai",
          "Mumbai",
          "Chennai",
          "Mumbai",
          "Chennai",
          "Delhi",
          "Chennai",
          "Delhi",
          "Mumbai",
          "Delhi",
          "Kolkata",
          "Delhi",
          "Chennai",
          "Mumbai",
          "Delhi",
          "Chennai",
          "Mumbai",
          "Kolkata",
          "Chennai",
          "Bengaluru",
          "Bengaluru",
          "Bengaluru",
          "Kolkata",
          "Mumbai",
          "Delhi",
          "Kolkata",
          "Mumbai",
          "Delhi",
          "Kolkata",
          "Bengaluru",
          "Mumbai",
          "Chennai",
          "Bengaluru",
          "Bengaluru",
          "Chennai",
          "Kolkata",
          "Mumbai",
          "Mumbai",
          "Delhi",
          "Delhi",
          "Bengaluru",
          "Kolkata",
          "Delhi",
          "Delhi",
          "Kolkata",
          "Chennai",
          "Bengaluru",
          "Mumbai",
          "Kolkata",
          "Bengaluru",
          "Bengaluru",
          "Mumbai",
          "Bengaluru",
          "Delhi",
          "Delhi",
          "Delhi",
          "Chennai",
          "Chennai",
          "Bengaluru",
          "Chennai",
          "Mumbai",
          "Chennai",
          "Bengaluru",
          "Mumbai",
          "Bengaluru",
          "Bengaluru",
          "Mumbai",
          "Mumbai",
          "Kolkata",
          "Chennai",
          "Chennai",
          "Delhi",
          "Bengaluru",
          "Bengaluru",
          "Kolkata",
          "Chennai",
          "Chennai",
          "Kolkata",
          "Kolkata",
          "Chennai",
          "Chennai",
          "Delhi",
          "Delhi",
          "Mumbai",
          "Bengaluru",
          "Bengaluru",
          "Chennai",
          "Delhi",
          "Bengaluru",
          "Chennai",
          "Delhi",
          "Chennai"
         ]
        }
       ],
       "layout": {
        "coloraxis": {
         "colorbar": {
          "title": {
           "text": "lable"
          }
         },
         "colorscale": [
          [
           0,
           "#0d0887"
          ],
          [
           0.1111111111111111,
           "#46039f"
          ],
          [
           0.2222222222222222,
           "#7201a8"
          ],
          [
           0.3333333333333333,
           "#9c179e"
          ],
          [
           0.4444444444444444,
           "#bd3786"
          ],
          [
           0.5555555555555556,
           "#d8576b"
          ],
          [
           0.6666666666666666,
           "#ed7953"
          ],
          [
           0.7777777777777778,
           "#fb9f3a"
          ],
          [
           0.8888888888888888,
           "#fdca26"
          ],
          [
           1,
           "#f0f921"
          ]
         ]
        },
        "legend": {
         "itemsizing": "constant",
         "tracegroupgap": 0
        },
        "margin": {
         "t": 60
        },
        "scene": {
         "domain": {
          "x": [
           0,
           1
          ],
          "y": [
           0,
           1
          ]
         },
         "xaxis": {
          "title": {
           "text": "CustomerAge"
          }
         },
         "yaxis": {
          "title": {
           "text": "CreditScore"
          }
         },
         "zaxis": {
          "title": {
           "text": "CustomerCity"
          }
         }
        },
        "template": {
         "data": {
          "bar": [
           {
            "error_x": {
             "color": "#2a3f5f"
            },
            "error_y": {
             "color": "#2a3f5f"
            },
            "marker": {
             "line": {
              "color": "#E5ECF6",
              "width": 0.5
             },
             "pattern": {
              "fillmode": "overlay",
              "size": 10,
              "solidity": 0.2
             }
            },
            "type": "bar"
           }
          ],
          "barpolar": [
           {
            "marker": {
             "line": {
              "color": "#E5ECF6",
              "width": 0.5
             },
             "pattern": {
              "fillmode": "overlay",
              "size": 10,
              "solidity": 0.2
             }
            },
            "type": "barpolar"
           }
          ],
          "carpet": [
           {
            "aaxis": {
             "endlinecolor": "#2a3f5f",
             "gridcolor": "white",
             "linecolor": "white",
             "minorgridcolor": "white",
             "startlinecolor": "#2a3f5f"
            },
            "baxis": {
             "endlinecolor": "#2a3f5f",
             "gridcolor": "white",
             "linecolor": "white",
             "minorgridcolor": "white",
             "startlinecolor": "#2a3f5f"
            },
            "type": "carpet"
           }
          ],
          "choropleth": [
           {
            "colorbar": {
             "outlinewidth": 0,
             "ticks": ""
            },
            "type": "choropleth"
           }
          ],
          "contour": [
           {
            "colorbar": {
             "outlinewidth": 0,
             "ticks": ""
            },
            "colorscale": [
             [
              0,
              "#0d0887"
             ],
             [
              0.1111111111111111,
              "#46039f"
             ],
             [
              0.2222222222222222,
              "#7201a8"
             ],
             [
              0.3333333333333333,
              "#9c179e"
             ],
             [
              0.4444444444444444,
              "#bd3786"
             ],
             [
              0.5555555555555556,
              "#d8576b"
             ],
             [
              0.6666666666666666,
              "#ed7953"
             ],
             [
              0.7777777777777778,
              "#fb9f3a"
             ],
             [
              0.8888888888888888,
              "#fdca26"
             ],
             [
              1,
              "#f0f921"
             ]
            ],
            "type": "contour"
           }
          ],
          "contourcarpet": [
           {
            "colorbar": {
             "outlinewidth": 0,
             "ticks": ""
            },
            "type": "contourcarpet"
           }
          ],
          "heatmap": [
           {
            "colorbar": {
             "outlinewidth": 0,
             "ticks": ""
            },
            "colorscale": [
             [
              0,
              "#0d0887"
             ],
             [
              0.1111111111111111,
              "#46039f"
             ],
             [
              0.2222222222222222,
              "#7201a8"
             ],
             [
              0.3333333333333333,
              "#9c179e"
             ],
             [
              0.4444444444444444,
              "#bd3786"
             ],
             [
              0.5555555555555556,
              "#d8576b"
             ],
             [
              0.6666666666666666,
              "#ed7953"
             ],
             [
              0.7777777777777778,
              "#fb9f3a"
             ],
             [
              0.8888888888888888,
              "#fdca26"
             ],
             [
              1,
              "#f0f921"
             ]
            ],
            "type": "heatmap"
           }
          ],
          "heatmapgl": [
           {
            "colorbar": {
             "outlinewidth": 0,
             "ticks": ""
            },
            "colorscale": [
             [
              0,
              "#0d0887"
             ],
             [
              0.1111111111111111,
              "#46039f"
             ],
             [
              0.2222222222222222,
              "#7201a8"
             ],
             [
              0.3333333333333333,
              "#9c179e"
             ],
             [
              0.4444444444444444,
              "#bd3786"
             ],
             [
              0.5555555555555556,
              "#d8576b"
             ],
             [
              0.6666666666666666,
              "#ed7953"
             ],
             [
              0.7777777777777778,
              "#fb9f3a"
             ],
             [
              0.8888888888888888,
              "#fdca26"
             ],
             [
              1,
              "#f0f921"
             ]
            ],
            "type": "heatmapgl"
           }
          ],
          "histogram": [
           {
            "marker": {
             "pattern": {
              "fillmode": "overlay",
              "size": 10,
              "solidity": 0.2
             }
            },
            "type": "histogram"
           }
          ],
          "histogram2d": [
           {
            "colorbar": {
             "outlinewidth": 0,
             "ticks": ""
            },
            "colorscale": [
             [
              0,
              "#0d0887"
             ],
             [
              0.1111111111111111,
              "#46039f"
             ],
             [
              0.2222222222222222,
              "#7201a8"
             ],
             [
              0.3333333333333333,
              "#9c179e"
             ],
             [
              0.4444444444444444,
              "#bd3786"
             ],
             [
              0.5555555555555556,
              "#d8576b"
             ],
             [
              0.6666666666666666,
              "#ed7953"
             ],
             [
              0.7777777777777778,
              "#fb9f3a"
             ],
             [
              0.8888888888888888,
              "#fdca26"
             ],
             [
              1,
              "#f0f921"
             ]
            ],
            "type": "histogram2d"
           }
          ],
          "histogram2dcontour": [
           {
            "colorbar": {
             "outlinewidth": 0,
             "ticks": ""
            },
            "colorscale": [
             [
              0,
              "#0d0887"
             ],
             [
              0.1111111111111111,
              "#46039f"
             ],
             [
              0.2222222222222222,
              "#7201a8"
             ],
             [
              0.3333333333333333,
              "#9c179e"
             ],
             [
              0.4444444444444444,
              "#bd3786"
             ],
             [
              0.5555555555555556,
              "#d8576b"
             ],
             [
              0.6666666666666666,
              "#ed7953"
             ],
             [
              0.7777777777777778,
              "#fb9f3a"
             ],
             [
              0.8888888888888888,
              "#fdca26"
             ],
             [
              1,
              "#f0f921"
             ]
            ],
            "type": "histogram2dcontour"
           }
          ],
          "mesh3d": [
           {
            "colorbar": {
             "outlinewidth": 0,
             "ticks": ""
            },
            "type": "mesh3d"
           }
          ],
          "parcoords": [
           {
            "line": {
             "colorbar": {
              "outlinewidth": 0,
              "ticks": ""
             }
            },
            "type": "parcoords"
           }
          ],
          "pie": [
           {
            "automargin": true,
            "type": "pie"
           }
          ],
          "scatter": [
           {
            "marker": {
             "colorbar": {
              "outlinewidth": 0,
              "ticks": ""
             }
            },
            "type": "scatter"
           }
          ],
          "scatter3d": [
           {
            "line": {
             "colorbar": {
              "outlinewidth": 0,
              "ticks": ""
             }
            },
            "marker": {
             "colorbar": {
              "outlinewidth": 0,
              "ticks": ""
             }
            },
            "type": "scatter3d"
           }
          ],
          "scattercarpet": [
           {
            "marker": {
             "colorbar": {
              "outlinewidth": 0,
              "ticks": ""
             }
            },
            "type": "scattercarpet"
           }
          ],
          "scattergeo": [
           {
            "marker": {
             "colorbar": {
              "outlinewidth": 0,
              "ticks": ""
             }
            },
            "type": "scattergeo"
           }
          ],
          "scattergl": [
           {
            "marker": {
             "colorbar": {
              "outlinewidth": 0,
              "ticks": ""
             }
            },
            "type": "scattergl"
           }
          ],
          "scattermapbox": [
           {
            "marker": {
             "colorbar": {
              "outlinewidth": 0,
              "ticks": ""
             }
            },
            "type": "scattermapbox"
           }
          ],
          "scatterpolar": [
           {
            "marker": {
             "colorbar": {
              "outlinewidth": 0,
              "ticks": ""
             }
            },
            "type": "scatterpolar"
           }
          ],
          "scatterpolargl": [
           {
            "marker": {
             "colorbar": {
              "outlinewidth": 0,
              "ticks": ""
             }
            },
            "type": "scatterpolargl"
           }
          ],
          "scatterternary": [
           {
            "marker": {
             "colorbar": {
              "outlinewidth": 0,
              "ticks": ""
             }
            },
            "type": "scatterternary"
           }
          ],
          "surface": [
           {
            "colorbar": {
             "outlinewidth": 0,
             "ticks": ""
            },
            "colorscale": [
             [
              0,
              "#0d0887"
             ],
             [
              0.1111111111111111,
              "#46039f"
             ],
             [
              0.2222222222222222,
              "#7201a8"
             ],
             [
              0.3333333333333333,
              "#9c179e"
             ],
             [
              0.4444444444444444,
              "#bd3786"
             ],
             [
              0.5555555555555556,
              "#d8576b"
             ],
             [
              0.6666666666666666,
              "#ed7953"
             ],
             [
              0.7777777777777778,
              "#fb9f3a"
             ],
             [
              0.8888888888888888,
              "#fdca26"
             ],
             [
              1,
              "#f0f921"
             ]
            ],
            "type": "surface"
           }
          ],
          "table": [
           {
            "cells": {
             "fill": {
              "color": "#EBF0F8"
             },
             "line": {
              "color": "white"
             }
            },
            "header": {
             "fill": {
              "color": "#C8D4E3"
             },
             "line": {
              "color": "white"
             }
            },
            "type": "table"
           }
          ]
         },
         "layout": {
          "annotationdefaults": {
           "arrowcolor": "#2a3f5f",
           "arrowhead": 0,
           "arrowwidth": 1
          },
          "autotypenumbers": "strict",
          "coloraxis": {
           "colorbar": {
            "outlinewidth": 0,
            "ticks": ""
           }
          },
          "colorscale": {
           "diverging": [
            [
             0,
             "#8e0152"
            ],
            [
             0.1,
             "#c51b7d"
            ],
            [
             0.2,
             "#de77ae"
            ],
            [
             0.3,
             "#f1b6da"
            ],
            [
             0.4,
             "#fde0ef"
            ],
            [
             0.5,
             "#f7f7f7"
            ],
            [
             0.6,
             "#e6f5d0"
            ],
            [
             0.7,
             "#b8e186"
            ],
            [
             0.8,
             "#7fbc41"
            ],
            [
             0.9,
             "#4d9221"
            ],
            [
             1,
             "#276419"
            ]
           ],
           "sequential": [
            [
             0,
             "#0d0887"
            ],
            [
             0.1111111111111111,
             "#46039f"
            ],
            [
             0.2222222222222222,
             "#7201a8"
            ],
            [
             0.3333333333333333,
             "#9c179e"
            ],
            [
             0.4444444444444444,
             "#bd3786"
            ],
            [
             0.5555555555555556,
             "#d8576b"
            ],
            [
             0.6666666666666666,
             "#ed7953"
            ],
            [
             0.7777777777777778,
             "#fb9f3a"
            ],
            [
             0.8888888888888888,
             "#fdca26"
            ],
            [
             1,
             "#f0f921"
            ]
           ],
           "sequentialminus": [
            [
             0,
             "#0d0887"
            ],
            [
             0.1111111111111111,
             "#46039f"
            ],
            [
             0.2222222222222222,
             "#7201a8"
            ],
            [
             0.3333333333333333,
             "#9c179e"
            ],
            [
             0.4444444444444444,
             "#bd3786"
            ],
            [
             0.5555555555555556,
             "#d8576b"
            ],
            [
             0.6666666666666666,
             "#ed7953"
            ],
            [
             0.7777777777777778,
             "#fb9f3a"
            ],
            [
             0.8888888888888888,
             "#fdca26"
            ],
            [
             1,
             "#f0f921"
            ]
           ]
          },
          "colorway": [
           "#636efa",
           "#EF553B",
           "#00cc96",
           "#ab63fa",
           "#FFA15A",
           "#19d3f3",
           "#FF6692",
           "#B6E880",
           "#FF97FF",
           "#FECB52"
          ],
          "font": {
           "color": "#2a3f5f"
          },
          "geo": {
           "bgcolor": "white",
           "lakecolor": "white",
           "landcolor": "#E5ECF6",
           "showlakes": true,
           "showland": true,
           "subunitcolor": "white"
          },
          "hoverlabel": {
           "align": "left"
          },
          "hovermode": "closest",
          "mapbox": {
           "style": "light"
          },
          "paper_bgcolor": "white",
          "plot_bgcolor": "#E5ECF6",
          "polar": {
           "angularaxis": {
            "gridcolor": "white",
            "linecolor": "white",
            "ticks": ""
           },
           "bgcolor": "#E5ECF6",
           "radialaxis": {
            "gridcolor": "white",
            "linecolor": "white",
            "ticks": ""
           }
          },
          "scene": {
           "xaxis": {
            "backgroundcolor": "#E5ECF6",
            "gridcolor": "white",
            "gridwidth": 2,
            "linecolor": "white",
            "showbackground": true,
            "ticks": "",
            "zerolinecolor": "white"
           },
           "yaxis": {
            "backgroundcolor": "#E5ECF6",
            "gridcolor": "white",
            "gridwidth": 2,
            "linecolor": "white",
            "showbackground": true,
            "ticks": "",
            "zerolinecolor": "white"
           },
           "zaxis": {
            "backgroundcolor": "#E5ECF6",
            "gridcolor": "white",
            "gridwidth": 2,
            "linecolor": "white",
            "showbackground": true,
            "ticks": "",
            "zerolinecolor": "white"
           }
          },
          "shapedefaults": {
           "line": {
            "color": "#2a3f5f"
           }
          },
          "ternary": {
           "aaxis": {
            "gridcolor": "white",
            "linecolor": "white",
            "ticks": ""
           },
           "baxis": {
            "gridcolor": "white",
            "linecolor": "white",
            "ticks": ""
           },
           "bgcolor": "#E5ECF6",
           "caxis": {
            "gridcolor": "white",
            "linecolor": "white",
            "ticks": ""
           }
          },
          "title": {
           "x": 0.05
          },
          "xaxis": {
           "automargin": true,
           "gridcolor": "white",
           "linecolor": "white",
           "ticks": "",
           "title": {
            "standoff": 15
           },
           "zerolinecolor": "white",
           "zerolinewidth": 2
          },
          "yaxis": {
           "automargin": true,
           "gridcolor": "white",
           "linecolor": "white",
           "ticks": "",
           "title": {
            "standoff": 15
           },
           "zerolinecolor": "white",
           "zerolinewidth": 2
          }
         }
        }
       }
      },
      "text/html": [
       "<div>                            <div id=\"5322cb55-fea6-48da-be58-d2bb21715f06\" class=\"plotly-graph-div\" style=\"height:525px; width:100%;\"></div>            <script type=\"text/javascript\">                require([\"plotly\"], function(Plotly) {                    window.PLOTLYENV=window.PLOTLYENV || {};                                    if (document.getElementById(\"5322cb55-fea6-48da-be58-d2bb21715f06\")) {                    Plotly.newPlot(                        \"5322cb55-fea6-48da-be58-d2bb21715f06\",                        [{\"customdata\":[[1001,\"Male\",527547.5885,78,1],[1002,\"Male\",207143.1976,63,1],[1003,\"Female\",164423.8457,69,4],[1004,\"Female\",56220.36443,30,1],[1005,\"Female\",256194.3619,6,1],[1006,\"Female\",475324.8903,97,2],[1007,\"Female\",186352.3482,2,2],[1008,\"Female\",414233.1569,77,5],[1009,\"Male\",97263.51748,22,2],[1010,\"Female\",179271.2332,97,3],[1011,\"Male\",194016.5771,13,1],[1012,\"Female\",227536.1384,62,1],[1013,\"Female\",384549.196,64,4],[1014,\"Female\",441207.6896,29,5],[1015,\"Male\",195955.9211,53,1],[1016,\"Male\",342386.7743,36,3],[1017,\"Female\",12396.06128,18,1],[1018,\"Male\",243054.5171,49,5],[1019,\"Male\",353525.8767,75,5],[1020,\"Female\",146957.5537,84,3],[1021,\"Male\",217461.907,87,2],[1022,\"Male\",466647.6548,37,1],[1023,\"Female\",36359.20628,87,3],[1024,\"Male\",227040.4915,64,5],[1025,\"Female\",183013.7351,82,1],[1026,\"Male\",496142.1332,82,2],[1027,\"Female\",304101.4516,59,3],[1028,\"Male\",15305.84287,57,1],[1029,\"Female\",90898.14293,27,4],[1030,\"Female\",372800.2429,35,2],[1031,\"Male\",186025.496,15,1],[1032,\"Female\",424172.7786,84,1],[1033,\"Male\",316975.4388,97,2],[1034,\"Male\",245271.891,4,3],[1035,\"Female\",54756.27976,48,2],[1036,\"Female\",480722.9923,30,4],[1037,\"Female\",243050.2953,93,5],[1038,\"Female\",354943.3271,77,5],[1039,\"Female\",105283.4509,97,5],[1040,\"Female\",266522.7503,78,5],[1041,\"Female\",248583.777,4,5],[1042,\"Male\",35051.23859,78,1],[1043,\"Male\",279363.0453,39,1],[1044,\"Female\",498781.9307,11,3],[1045,\"Female\",288846.6029,97,4],[1046,\"Female\",348408.8613,34,3],[1047,\"Female\",516995.9529,100,1],[1048,\"Female\",54666.06526,46,5],[1049,\"Female\",69809.65753,98,2],[1050,\"Female\",371636.6915,48,2],[1051,\"Female\",238964.9748,62,3],[1052,\"Male\",299609.0836,42,1],[1053,\"Female\",361244.6459,37,3],[1054,\"Male\",187182.7663,36,5],[1055,\"Female\",513210.2881,71,3],[1056,\"Male\",258490.1227,99,4],[1057,\"Female\",443558.7535,41,1],[1058,\"Male\",121992.2184,88,1],[1059,\"Female\",129229.7353,25,5],[1060,\"Male\",351473.4476,8,1],[1061,\"Male\",365803.058,52,5],[1062,\"Male\",42277.72636,20,4],[1063,\"Female\",675461.7357,59,1],[1064,\"Female\",139008.5462,37,1],[1065,\"Male\",255913.6516,47,1],[1066,\"Male\",625214.1659,14,2],[1067,\"Female\",300855.7861,96,5],[1068,\"Female\",61533.99547,40,4],[1069,\"Male\",619650.7261,48,2],[1070,\"Female\",24160.45218,70,5],[1071,\"Male\",119798.585,37,1],[1072,\"Female\",116425.7192,12,1],[1073,\"Female\",235753.1848,100,3],[1074,\"Female\",432140.6847,18,5],[1075,\"Male\",160744.0503,59,4],[1076,\"Male\",264898.0293,68,2],[1077,\"Female\",440550.5344,87,4],[1078,\"Male\",66682.56943,19,1],[1079,\"Female\",196636.8508,9,2],[1080,\"Female\",277507.0036,39,2],[1081,\"Male\",459226.6407,32,4],[1082,\"Male\",143977.3393,56,5],[1083,\"Male\",211403.4684,78,3],[1084,\"Female\",39947.04454,57,2],[1085,\"Female\",544422.1798,11,4],[1086,\"Male\",537240.108,56,5],[1087,\"Female\",542745.9601,73,1],[1088,\"Female\",560856.4185,40,2],[1089,\"Female\",497387.3262,29,4],[1090,\"Female\",125660.3599,44,4],[1091,\"Female\",77749.71303,50,4],[1092,\"Male\",316583.7463,52,3],[1093,\"Male\",252129.1836,2,3],[1094,\"Female\",527125.1728,62,5],[1095,\"Female\",341603.312,54,1],[1096,\"Male\",98951.52835,45,5],[1097,\"Female\",192009.5051,23,4],[1098,\"Female\",203632.4332,80,5],[1099,\"Male\",336327.2596,67,2],[1100,\"Male\",363044.2299,2,2],[1101,\"Female\",386949.5256,19,1],[1102,\"Female\",548611.3616,28,2],[1103,\"Male\",59873.62527,24,4],[1104,\"Male\",49566.39,38,1],[1105,\"Male\",385780.8768,59,2],[1106,\"Female\",95882.3111,54,2],[1107,\"Female\",400021.3253,51,3],[1108,\"Male\",351206.5319,79,4],[1109,\"Male\",2577.057456,37,2],[1110,\"Male\",333149.3655,72,5],[1111,\"Male\",171137.0662,12,2],[1112,\"Female\",352699.3398,78,5],[1113,\"Female\",332877.7868,40,2],[1114,\"Male\",238627.5838,15,4],[1115,\"Female\",687212.7707,100,2],[1116,\"Female\",279227.4118,25,4],[1117,\"Female\",355596.8965,10,5],[1118,\"Female\",467350.1017,10,4],[1119,\"Female\",466464.8329,90,3],[1120,\"Female\",327653.0355,8,4],[1121,\"Male\",302975.1788,70,2],[1122,\"Female\",589901.0593,76,5],[1123,\"Female\",41370.44656,13,4],[1124,\"Male\",208227.1136,87,2],[1125,\"Female\",568519.0844,6,5],[1126,\"Female\",151571.5328,46,3],[1127,\"Male\",217072.6811,35,2],[1128,\"Male\",336463.0139,89,1],[1129,\"Male\",487605.5371,100,1],[1130,\"Male\",599442.5133,71,1],[1131,\"Male\",389042.5298,50,3],[1132,\"Male\",10349.41407,22,5],[1133,\"Female\",198910.519,76,4],[1134,\"Female\",405487.9323,93,3],[1135,\"Male\",221839.2718,57,5],[1136,\"Female\",260829.7117,85,4],[1137,\"Female\",133886.4033,96,3],[1138,\"Male\",82638.67765,33,1],[1139,\"Male\",380765.8752,20,5],[1140,\"Female\",101745.5371,7,2],[1141,\"Female\",341134.7218,18,1],[1142,\"Male\",274581.2169,22,1],[1143,\"Female\",212645.6303,19,2],[1144,\"Female\",281654.8846,14,3],[1145,\"Male\",98371.75627,99,5],[1146,\"Male\",213942.2065,11,5],[1147,\"Male\",5121.652342,42,4],[1148,\"Female\",142909.4261,30,4],[1149,\"Female\",651534.3098,23,1],[1150,\"Male\",365974.3719,77,3],[1151,\"Male\",355468.056,73,4],[1152,\"Male\",471770.9203,39,4],[1153,\"Female\",231493.99,94,3],[1154,\"Female\",465350.4429,58,2],[1155,\"Female\",127331.648,32,1],[1156,\"Female\",671028.1872,55,5],[1157,\"Male\",163664.207,22,3],[1158,\"Female\",216758.2928,78,1],[1159,\"Male\",193910.7081,36,1],[1160,\"Female\",22643.56036,93,5],[1161,\"Female\",365100.1564,55,1],[1162,\"Female\",534470.6945,85,4],[1163,\"Male\",261938.9818,32,4],[1164,\"Female\",330757.825,87,4],[1165,\"Male\",514927.5894,9,2],[1166,\"Female\",432732.181,54,2],[1167,\"Male\",695407.0917,86,1],[1168,\"Female\",285874.988,67,2],[1169,\"Female\",79113.55318,39,5],[1170,\"Male\",260043.8576,77,2],[1171,\"Male\",326077.0029,35,1],[1172,\"Male\",648085.0454,35,5],[1173,\"Male\",101571.4983,45,1],[1174,\"Male\",50434.47117,75,1],[1175,\"Female\",359566.4986,91,5],[1176,\"Female\",581177.2116,32,5],[1177,\"Male\",351979.4379,89,3],[1178,\"Male\",634980.9806,21,2],[1179,\"Male\",110492.7388,19,2],[1180,\"Male\",266781.9511,61,4],[1181,\"Female\",81891.02639,61,1],[1182,\"Female\",268234.2246,92,1],[1183,\"Male\",195930.2286,94,3],[1184,\"Female\",244212.5455,41,2],[1185,\"Female\",241845.7525,4,2],[1186,\"Male\",197295.8156,47,3],[1187,\"Female\",118255.8374,75,3],[1188,\"Male\",316199.317,11,2],[1189,\"Female\",153779.277,44,2],[1190,\"Female\",243936.1677,7,4],[1191,\"Female\",103642.4697,96,4],[1192,\"Female\",115856.0369,34,5],[1193,\"Male\",451973.2129,16,1],[1194,\"Female\",192447.8216,45,1],[1195,\"Female\",630148.5131,91,2],[1196,\"Female\",317466.4207,52,4],[1197,\"Female\",323305.5002,58,1],[1198,\"Male\",109058.5443,36,2],[1199,\"Male\",160116.893,24,4],[1200,\"Male\",280081.3901,31,2]],\"hovertemplate\":\"CustomerAge=%{x}<br>CreditScore=%{y}<br>CustomerCity=%{z}<br>AnnualIncome=%{customdata[2]}<br>CustomerID=%{customdata[0]}<br>CustomerGender=%{customdata[1]}<br>SpendingScore=%{customdata[3]}<br>CustomerCityID=%{customdata[4]}<br>lable=%{marker.color}<extra></extra>\",\"legendgroup\":\"\",\"marker\":{\"color\":[0,5,8,1,1,7,1,3,9,3,5,3,3,1,9,9,1,6,9,3,4,9,3,0,3,4,2,5,1,1,5,3,4,9,2,2,3,3,3,8,1,4,9,1,7,2,7,2,7,1,2,9,1,9,3,4,8,4,1,6,6,9,3,8,6,0,3,1,0,1,6,1,7,2,5,6,2,9,2,2,9,5,6,1,8,0,3,2,1,2,1,6,5,1,2,5,1,3,0,5,1,8,5,6,9,1,2,4,5,0,9,3,1,5,7,1,8,1,7,1,9,3,2,6,8,2,5,4,4,0,0,6,3,3,6,3,3,5,9,8,1,6,1,1,4,5,5,1,2,0,9,0,3,2,2,8,9,3,9,7,1,3,6,1,0,1,0,3,2,4,0,0,9,4,7,1,4,6,9,0,8,7,6,8,1,9,3,9,2,2,3,2,5,8,3,8,1,9,6,9],\"coloraxis\":\"coloraxis\",\"size\":[527547.5885,207143.1976,164423.8457,56220.36443,256194.3619,475324.8903,186352.3482,414233.1569,97263.51748,179271.2332,194016.5771,227536.1384,384549.196,441207.6896,195955.9211,342386.7743,12396.06128,243054.5171,353525.8767,146957.5537,217461.907,466647.6548,36359.20628,227040.4915,183013.7351,496142.1332,304101.4516,15305.84287,90898.14293,372800.2429,186025.496,424172.7786,316975.4388,245271.891,54756.27976,480722.9923,243050.2953,354943.3271,105283.4509,266522.7503,248583.777,35051.23859,279363.0453,498781.9307,288846.6029,348408.8613,516995.9529,54666.06526,69809.65753,371636.6915,238964.9748,299609.0836,361244.6459,187182.7663,513210.2881,258490.1227,443558.7535,121992.2184,129229.7353,351473.4476,365803.058,42277.72636,675461.7357,139008.5462,255913.6516,625214.1659,300855.7861,61533.99547,619650.7261,24160.45218,119798.585,116425.7192,235753.1848,432140.6847,160744.0503,264898.0293,440550.5344,66682.56943,196636.8508,277507.0036,459226.6407,143977.3393,211403.4684,39947.04454,544422.1798,537240.108,542745.9601,560856.4185,497387.3262,125660.3599,77749.71303,316583.7463,252129.1836,527125.1728,341603.312,98951.52835,192009.5051,203632.4332,336327.2596,363044.2299,386949.5256,548611.3616,59873.62527,49566.39,385780.8768,95882.3111,400021.3253,351206.5319,2577.057456,333149.3655,171137.0662,352699.3398,332877.7868,238627.5838,687212.7707,279227.4118,355596.8965,467350.1017,466464.8329,327653.0355,302975.1788,589901.0593,41370.44656,208227.1136,568519.0844,151571.5328,217072.6811,336463.0139,487605.5371,599442.5133,389042.5298,10349.41407,198910.519,405487.9323,221839.2718,260829.7117,133886.4033,82638.67765,380765.8752,101745.5371,341134.7218,274581.2169,212645.6303,281654.8846,98371.75627,213942.2065,5121.652342,142909.4261,651534.3098,365974.3719,355468.056,471770.9203,231493.99,465350.4429,127331.648,671028.1872,163664.207,216758.2928,193910.7081,22643.56036,365100.1564,534470.6945,261938.9818,330757.825,514927.5894,432732.181,695407.0917,285874.988,79113.55318,260043.8576,326077.0029,648085.0454,101571.4983,50434.47117,359566.4986,581177.2116,351979.4379,634980.9806,110492.7388,266781.9511,81891.02639,268234.2246,195930.2286,244212.5455,241845.7525,197295.8156,118255.8374,316199.317,153779.277,243936.1677,103642.4697,115856.0369,451973.2129,192447.8216,630148.5131,317466.4207,323305.5002,109058.5443,160116.893,280081.3901],\"sizemode\":\"area\",\"sizeref\":1738.51772925,\"symbol\":\"circle\"},\"mode\":\"markers\",\"name\":\"\",\"scene\":\"scene\",\"showlegend\":false,\"x\":[49,59,54,42,30,38,45,23,59,48,55,73,54,34,54,53,23,30,37,52,39,38,71,31,42,65,65,33,29,24,59,40,52,47,66,62,73,23,45,43,21,45,54,22,26,72,29,65,34,26,66,50,33,47,59,52,55,74,32,31,25,75,39,46,29,34,54,36,52,28,18,45,48,50,43,27,68,67,59,74,62,45,33,20,61,32,49,66,36,55,35,22,59,21,74,51,22,35,47,66,20,58,42,27,63,28,48,63,45,22,70,65,41,56,51,33,69,21,40,19,62,38,49,30,62,58,73,66,71,54,53,34,41,47,26,30,55,43,50,61,37,29,26,22,56,70,38,37,62,19,46,50,48,53,70,60,37,57,66,27,21,22,18,18,38,23,21,44,72,63,50,56,59,44,20,33,49,22,64,31,53,23,26,63,43,62,74,66,45,62,61,47,74,48,48,54,20,44,28,41],\"y\":[653,630,555,699,793,635,881,852,708,669,618,614,711,629,764,880,729,803,817,774,672,691,669,555,778,623,782,588,684,698,562,774,777,769,755,789,575,850,715,639,817,731,704,712,713,874,751,761,633,632,763,701,784,854,692,751,648,865,863,622,817,868,849,565,665,632,670,736,687,561,892,724,583,760,555,712,880,873,715,897,801,600,768,807,626,654,742,738,805,808,625,695,656,678,859,616,861,814,616,653,575,576,575,666,876,568,849,564,654,565,782,667,593,606,553,827,559,806,620,857,804,858,695,800,624,767,630,808,790,726,624,746,895,781,868,894,707,552,842,567,636,756,894,887,647,657,607,637,884,551,892,616,886,868,669,605,854,742,803,707,633,827,742,586,581,786,718,755,836,725,573,605,890,657,779,666,779,844,733,571,601,701,838,573,896,824,615,770,831,676,559,784,608,568,833,601,554,844,837,789],\"z\":[\"Bengaluru\",\"Bengaluru\",\"Delhi\",\"Bengaluru\",\"Bengaluru\",\"Chennai\",\"Chennai\",\"Mumbai\",\"Chennai\",\"Kolkata\",\"Bengaluru\",\"Bengaluru\",\"Delhi\",\"Mumbai\",\"Bengaluru\",\"Kolkata\",\"Bengaluru\",\"Mumbai\",\"Mumbai\",\"Kolkata\",\"Chennai\",\"Bengaluru\",\"Kolkata\",\"Mumbai\",\"Bengaluru\",\"Chennai\",\"Kolkata\",\"Bengaluru\",\"Delhi\",\"Chennai\",\"Bengaluru\",\"Bengaluru\",\"Chennai\",\"Kolkata\",\"Chennai\",\"Delhi\",\"Mumbai\",\"Mumbai\",\"Mumbai\",\"Mumbai\",\"Mumbai\",\"Bengaluru\",\"Bengaluru\",\"Kolkata\",\"Delhi\",\"Kolkata\",\"Bengaluru\",\"Mumbai\",\"Chennai\",\"Chennai\",\"Kolkata\",\"Bengaluru\",\"Kolkata\",\"Mumbai\",\"Kolkata\",\"Delhi\",\"Bengaluru\",\"Bengaluru\",\"Mumbai\",\"Bengaluru\",\"Mumbai\",\"Delhi\",\"Bengaluru\",\"Bengaluru\",\"Bengaluru\",\"Chennai\",\"Mumbai\",\"Delhi\",\"Chennai\",\"Mumbai\",\"Bengaluru\",\"Bengaluru\",\"Kolkata\",\"Mumbai\",\"Delhi\",\"Chennai\",\"Delhi\",\"Bengaluru\",\"Chennai\",\"Chennai\",\"Delhi\",\"Mumbai\",\"Kolkata\",\"Chennai\",\"Delhi\",\"Mumbai\",\"Bengaluru\",\"Chennai\",\"Delhi\",\"Delhi\",\"Delhi\",\"Kolkata\",\"Kolkata\",\"Mumbai\",\"Bengaluru\",\"Mumbai\",\"Delhi\",\"Mumbai\",\"Chennai\",\"Chennai\",\"Bengaluru\",\"Chennai\",\"Delhi\",\"Bengaluru\",\"Chennai\",\"Chennai\",\"Kolkata\",\"Delhi\",\"Chennai\",\"Mumbai\",\"Chennai\",\"Mumbai\",\"Chennai\",\"Delhi\",\"Chennai\",\"Delhi\",\"Mumbai\",\"Delhi\",\"Kolkata\",\"Delhi\",\"Chennai\",\"Mumbai\",\"Delhi\",\"Chennai\",\"Mumbai\",\"Kolkata\",\"Chennai\",\"Bengaluru\",\"Bengaluru\",\"Bengaluru\",\"Kolkata\",\"Mumbai\",\"Delhi\",\"Kolkata\",\"Mumbai\",\"Delhi\",\"Kolkata\",\"Bengaluru\",\"Mumbai\",\"Chennai\",\"Bengaluru\",\"Bengaluru\",\"Chennai\",\"Kolkata\",\"Mumbai\",\"Mumbai\",\"Delhi\",\"Delhi\",\"Bengaluru\",\"Kolkata\",\"Delhi\",\"Delhi\",\"Kolkata\",\"Chennai\",\"Bengaluru\",\"Mumbai\",\"Kolkata\",\"Bengaluru\",\"Bengaluru\",\"Mumbai\",\"Bengaluru\",\"Delhi\",\"Delhi\",\"Delhi\",\"Chennai\",\"Chennai\",\"Bengaluru\",\"Chennai\",\"Mumbai\",\"Chennai\",\"Bengaluru\",\"Mumbai\",\"Bengaluru\",\"Bengaluru\",\"Mumbai\",\"Mumbai\",\"Kolkata\",\"Chennai\",\"Chennai\",\"Delhi\",\"Bengaluru\",\"Bengaluru\",\"Kolkata\",\"Chennai\",\"Chennai\",\"Kolkata\",\"Kolkata\",\"Chennai\",\"Chennai\",\"Delhi\",\"Delhi\",\"Mumbai\",\"Bengaluru\",\"Bengaluru\",\"Chennai\",\"Delhi\",\"Bengaluru\",\"Chennai\",\"Delhi\",\"Chennai\"],\"type\":\"scatter3d\"}],                        {\"template\":{\"data\":{\"bar\":[{\"error_x\":{\"color\":\"#2a3f5f\"},\"error_y\":{\"color\":\"#2a3f5f\"},\"marker\":{\"line\":{\"color\":\"#E5ECF6\",\"width\":0.5},\"pattern\":{\"fillmode\":\"overlay\",\"size\":10,\"solidity\":0.2}},\"type\":\"bar\"}],\"barpolar\":[{\"marker\":{\"line\":{\"color\":\"#E5ECF6\",\"width\":0.5},\"pattern\":{\"fillmode\":\"overlay\",\"size\":10,\"solidity\":0.2}},\"type\":\"barpolar\"}],\"carpet\":[{\"aaxis\":{\"endlinecolor\":\"#2a3f5f\",\"gridcolor\":\"white\",\"linecolor\":\"white\",\"minorgridcolor\":\"white\",\"startlinecolor\":\"#2a3f5f\"},\"baxis\":{\"endlinecolor\":\"#2a3f5f\",\"gridcolor\":\"white\",\"linecolor\":\"white\",\"minorgridcolor\":\"white\",\"startlinecolor\":\"#2a3f5f\"},\"type\":\"carpet\"}],\"choropleth\":[{\"colorbar\":{\"outlinewidth\":0,\"ticks\":\"\"},\"type\":\"choropleth\"}],\"contour\":[{\"colorbar\":{\"outlinewidth\":0,\"ticks\":\"\"},\"colorscale\":[[0.0,\"#0d0887\"],[0.1111111111111111,\"#46039f\"],[0.2222222222222222,\"#7201a8\"],[0.3333333333333333,\"#9c179e\"],[0.4444444444444444,\"#bd3786\"],[0.5555555555555556,\"#d8576b\"],[0.6666666666666666,\"#ed7953\"],[0.7777777777777778,\"#fb9f3a\"],[0.8888888888888888,\"#fdca26\"],[1.0,\"#f0f921\"]],\"type\":\"contour\"}],\"contourcarpet\":[{\"colorbar\":{\"outlinewidth\":0,\"ticks\":\"\"},\"type\":\"contourcarpet\"}],\"heatmap\":[{\"colorbar\":{\"outlinewidth\":0,\"ticks\":\"\"},\"colorscale\":[[0.0,\"#0d0887\"],[0.1111111111111111,\"#46039f\"],[0.2222222222222222,\"#7201a8\"],[0.3333333333333333,\"#9c179e\"],[0.4444444444444444,\"#bd3786\"],[0.5555555555555556,\"#d8576b\"],[0.6666666666666666,\"#ed7953\"],[0.7777777777777778,\"#fb9f3a\"],[0.8888888888888888,\"#fdca26\"],[1.0,\"#f0f921\"]],\"type\":\"heatmap\"}],\"heatmapgl\":[{\"colorbar\":{\"outlinewidth\":0,\"ticks\":\"\"},\"colorscale\":[[0.0,\"#0d0887\"],[0.1111111111111111,\"#46039f\"],[0.2222222222222222,\"#7201a8\"],[0.3333333333333333,\"#9c179e\"],[0.4444444444444444,\"#bd3786\"],[0.5555555555555556,\"#d8576b\"],[0.6666666666666666,\"#ed7953\"],[0.7777777777777778,\"#fb9f3a\"],[0.8888888888888888,\"#fdca26\"],[1.0,\"#f0f921\"]],\"type\":\"heatmapgl\"}],\"histogram\":[{\"marker\":{\"pattern\":{\"fillmode\":\"overlay\",\"size\":10,\"solidity\":0.2}},\"type\":\"histogram\"}],\"histogram2d\":[{\"colorbar\":{\"outlinewidth\":0,\"ticks\":\"\"},\"colorscale\":[[0.0,\"#0d0887\"],[0.1111111111111111,\"#46039f\"],[0.2222222222222222,\"#7201a8\"],[0.3333333333333333,\"#9c179e\"],[0.4444444444444444,\"#bd3786\"],[0.5555555555555556,\"#d8576b\"],[0.6666666666666666,\"#ed7953\"],[0.7777777777777778,\"#fb9f3a\"],[0.8888888888888888,\"#fdca26\"],[1.0,\"#f0f921\"]],\"type\":\"histogram2d\"}],\"histogram2dcontour\":[{\"colorbar\":{\"outlinewidth\":0,\"ticks\":\"\"},\"colorscale\":[[0.0,\"#0d0887\"],[0.1111111111111111,\"#46039f\"],[0.2222222222222222,\"#7201a8\"],[0.3333333333333333,\"#9c179e\"],[0.4444444444444444,\"#bd3786\"],[0.5555555555555556,\"#d8576b\"],[0.6666666666666666,\"#ed7953\"],[0.7777777777777778,\"#fb9f3a\"],[0.8888888888888888,\"#fdca26\"],[1.0,\"#f0f921\"]],\"type\":\"histogram2dcontour\"}],\"mesh3d\":[{\"colorbar\":{\"outlinewidth\":0,\"ticks\":\"\"},\"type\":\"mesh3d\"}],\"parcoords\":[{\"line\":{\"colorbar\":{\"outlinewidth\":0,\"ticks\":\"\"}},\"type\":\"parcoords\"}],\"pie\":[{\"automargin\":true,\"type\":\"pie\"}],\"scatter\":[{\"marker\":{\"colorbar\":{\"outlinewidth\":0,\"ticks\":\"\"}},\"type\":\"scatter\"}],\"scatter3d\":[{\"line\":{\"colorbar\":{\"outlinewidth\":0,\"ticks\":\"\"}},\"marker\":{\"colorbar\":{\"outlinewidth\":0,\"ticks\":\"\"}},\"type\":\"scatter3d\"}],\"scattercarpet\":[{\"marker\":{\"colorbar\":{\"outlinewidth\":0,\"ticks\":\"\"}},\"type\":\"scattercarpet\"}],\"scattergeo\":[{\"marker\":{\"colorbar\":{\"outlinewidth\":0,\"ticks\":\"\"}},\"type\":\"scattergeo\"}],\"scattergl\":[{\"marker\":{\"colorbar\":{\"outlinewidth\":0,\"ticks\":\"\"}},\"type\":\"scattergl\"}],\"scattermapbox\":[{\"marker\":{\"colorbar\":{\"outlinewidth\":0,\"ticks\":\"\"}},\"type\":\"scattermapbox\"}],\"scatterpolar\":[{\"marker\":{\"colorbar\":{\"outlinewidth\":0,\"ticks\":\"\"}},\"type\":\"scatterpolar\"}],\"scatterpolargl\":[{\"marker\":{\"colorbar\":{\"outlinewidth\":0,\"ticks\":\"\"}},\"type\":\"scatterpolargl\"}],\"scatterternary\":[{\"marker\":{\"colorbar\":{\"outlinewidth\":0,\"ticks\":\"\"}},\"type\":\"scatterternary\"}],\"surface\":[{\"colorbar\":{\"outlinewidth\":0,\"ticks\":\"\"},\"colorscale\":[[0.0,\"#0d0887\"],[0.1111111111111111,\"#46039f\"],[0.2222222222222222,\"#7201a8\"],[0.3333333333333333,\"#9c179e\"],[0.4444444444444444,\"#bd3786\"],[0.5555555555555556,\"#d8576b\"],[0.6666666666666666,\"#ed7953\"],[0.7777777777777778,\"#fb9f3a\"],[0.8888888888888888,\"#fdca26\"],[1.0,\"#f0f921\"]],\"type\":\"surface\"}],\"table\":[{\"cells\":{\"fill\":{\"color\":\"#EBF0F8\"},\"line\":{\"color\":\"white\"}},\"header\":{\"fill\":{\"color\":\"#C8D4E3\"},\"line\":{\"color\":\"white\"}},\"type\":\"table\"}]},\"layout\":{\"annotationdefaults\":{\"arrowcolor\":\"#2a3f5f\",\"arrowhead\":0,\"arrowwidth\":1},\"autotypenumbers\":\"strict\",\"coloraxis\":{\"colorbar\":{\"outlinewidth\":0,\"ticks\":\"\"}},\"colorscale\":{\"diverging\":[[0,\"#8e0152\"],[0.1,\"#c51b7d\"],[0.2,\"#de77ae\"],[0.3,\"#f1b6da\"],[0.4,\"#fde0ef\"],[0.5,\"#f7f7f7\"],[0.6,\"#e6f5d0\"],[0.7,\"#b8e186\"],[0.8,\"#7fbc41\"],[0.9,\"#4d9221\"],[1,\"#276419\"]],\"sequential\":[[0.0,\"#0d0887\"],[0.1111111111111111,\"#46039f\"],[0.2222222222222222,\"#7201a8\"],[0.3333333333333333,\"#9c179e\"],[0.4444444444444444,\"#bd3786\"],[0.5555555555555556,\"#d8576b\"],[0.6666666666666666,\"#ed7953\"],[0.7777777777777778,\"#fb9f3a\"],[0.8888888888888888,\"#fdca26\"],[1.0,\"#f0f921\"]],\"sequentialminus\":[[0.0,\"#0d0887\"],[0.1111111111111111,\"#46039f\"],[0.2222222222222222,\"#7201a8\"],[0.3333333333333333,\"#9c179e\"],[0.4444444444444444,\"#bd3786\"],[0.5555555555555556,\"#d8576b\"],[0.6666666666666666,\"#ed7953\"],[0.7777777777777778,\"#fb9f3a\"],[0.8888888888888888,\"#fdca26\"],[1.0,\"#f0f921\"]]},\"colorway\":[\"#636efa\",\"#EF553B\",\"#00cc96\",\"#ab63fa\",\"#FFA15A\",\"#19d3f3\",\"#FF6692\",\"#B6E880\",\"#FF97FF\",\"#FECB52\"],\"font\":{\"color\":\"#2a3f5f\"},\"geo\":{\"bgcolor\":\"white\",\"lakecolor\":\"white\",\"landcolor\":\"#E5ECF6\",\"showlakes\":true,\"showland\":true,\"subunitcolor\":\"white\"},\"hoverlabel\":{\"align\":\"left\"},\"hovermode\":\"closest\",\"mapbox\":{\"style\":\"light\"},\"paper_bgcolor\":\"white\",\"plot_bgcolor\":\"#E5ECF6\",\"polar\":{\"angularaxis\":{\"gridcolor\":\"white\",\"linecolor\":\"white\",\"ticks\":\"\"},\"bgcolor\":\"#E5ECF6\",\"radialaxis\":{\"gridcolor\":\"white\",\"linecolor\":\"white\",\"ticks\":\"\"}},\"scene\":{\"xaxis\":{\"backgroundcolor\":\"#E5ECF6\",\"gridcolor\":\"white\",\"gridwidth\":2,\"linecolor\":\"white\",\"showbackground\":true,\"ticks\":\"\",\"zerolinecolor\":\"white\"},\"yaxis\":{\"backgroundcolor\":\"#E5ECF6\",\"gridcolor\":\"white\",\"gridwidth\":2,\"linecolor\":\"white\",\"showbackground\":true,\"ticks\":\"\",\"zerolinecolor\":\"white\"},\"zaxis\":{\"backgroundcolor\":\"#E5ECF6\",\"gridcolor\":\"white\",\"gridwidth\":2,\"linecolor\":\"white\",\"showbackground\":true,\"ticks\":\"\",\"zerolinecolor\":\"white\"}},\"shapedefaults\":{\"line\":{\"color\":\"#2a3f5f\"}},\"ternary\":{\"aaxis\":{\"gridcolor\":\"white\",\"linecolor\":\"white\",\"ticks\":\"\"},\"baxis\":{\"gridcolor\":\"white\",\"linecolor\":\"white\",\"ticks\":\"\"},\"bgcolor\":\"#E5ECF6\",\"caxis\":{\"gridcolor\":\"white\",\"linecolor\":\"white\",\"ticks\":\"\"}},\"title\":{\"x\":0.05},\"xaxis\":{\"automargin\":true,\"gridcolor\":\"white\",\"linecolor\":\"white\",\"ticks\":\"\",\"title\":{\"standoff\":15},\"zerolinecolor\":\"white\",\"zerolinewidth\":2},\"yaxis\":{\"automargin\":true,\"gridcolor\":\"white\",\"linecolor\":\"white\",\"ticks\":\"\",\"title\":{\"standoff\":15},\"zerolinecolor\":\"white\",\"zerolinewidth\":2}}},\"scene\":{\"domain\":{\"x\":[0.0,1.0],\"y\":[0.0,1.0]},\"xaxis\":{\"title\":{\"text\":\"CustomerAge\"}},\"yaxis\":{\"title\":{\"text\":\"CreditScore\"}},\"zaxis\":{\"title\":{\"text\":\"CustomerCity\"}}},\"coloraxis\":{\"colorbar\":{\"title\":{\"text\":\"lable\"}},\"colorscale\":[[0.0,\"#0d0887\"],[0.1111111111111111,\"#46039f\"],[0.2222222222222222,\"#7201a8\"],[0.3333333333333333,\"#9c179e\"],[0.4444444444444444,\"#bd3786\"],[0.5555555555555556,\"#d8576b\"],[0.6666666666666666,\"#ed7953\"],[0.7777777777777778,\"#fb9f3a\"],[0.8888888888888888,\"#fdca26\"],[1.0,\"#f0f921\"]]},\"legend\":{\"tracegroupgap\":0,\"itemsizing\":\"constant\"},\"margin\":{\"t\":60}},                        {\"responsive\": true}                    ).then(function(){\n",
       "                            \n",
       "var gd = document.getElementById('5322cb55-fea6-48da-be58-d2bb21715f06');\n",
       "var x = new MutationObserver(function (mutations, observer) {{\n",
       "        var display = window.getComputedStyle(gd).display;\n",
       "        if (!display || display === 'none') {{\n",
       "            console.log([gd, 'removed!']);\n",
       "            Plotly.purge(gd);\n",
       "            observer.disconnect();\n",
       "        }}\n",
       "}});\n",
       "\n",
       "// Listen for the removal of the full notebook cells\n",
       "var notebookContainer = gd.closest('#notebook-container');\n",
       "if (notebookContainer) {{\n",
       "    x.observe(notebookContainer, {childList: true});\n",
       "}}\n",
       "\n",
       "// Listen for the clearing of the current output cell\n",
       "var outputEl = gd.closest('.output');\n",
       "if (outputEl) {{\n",
       "    x.observe(outputEl, {childList: true});\n",
       "}}\n",
       "\n",
       "                        })                };                });            </script>        </div>"
      ]
     },
     "metadata": {},
     "output_type": "display_data"
    }
   ],
   "source": [
    "GM=GaussianMixture(n_components=10,init_params='kmeans').fit(X)\n",
    "\n",
    "lables=GM.predict(X)\n",
    "\n",
    "GM_DF=df.copy()\n",
    "\n",
    "GM_DF['lable']=lables\n",
    "score = silhouette_score(X,lables)\n",
    "print (\"Silhouette Score\", score)\n",
    "\n",
    "print(GM.aic(X))\n",
    "\n",
    "px.scatter_3d(GM_DF, 'CustomerAge', 'CreditScore', 'CustomerCity', \n",
    "              color='lable', hover_data=df.columns, size='AnnualIncome')\n"
   ]
  },
  {
   "cell_type": "code",
   "execution_count": 113,
   "metadata": {
    "scrolled": false
   },
   "outputs": [
    {
     "data": {
      "text/plain": [
       "<seaborn.matrix.ClusterGrid at 0x7ff1a1b67850>"
      ]
     },
     "execution_count": 113,
     "metadata": {},
     "output_type": "execute_result"
    },
    {
     "data": {
      "image/png": "[encoded data removed]",
      "text/plain": [
       "<Figure size 720x720 with 4 Axes>"
      ]
     },
     "metadata": {
      "needs_background": "light"
     },
     "output_type": "display_data"
    }
   ],
   "source": [
    "import seaborn as sns \n",
    "\n",
    "\n",
    "sns.clustermap(X)"
   ]
  },
  {
   "cell_type": "markdown",
   "metadata": {},
   "source": [
    "## Call hierarchical clustering, linkage can be = ['complete', 'average', 'ward']\n"
   ]
  },
  {
   "cell_type": "code",
   "execution_count": 84,
   "metadata": {},
   "outputs": [],
   "source": [
    "from math import sqrt\n",
    "from sklearn.metrics import silhouette_score\n",
    "from sklearn import cluster\n",
    "from scipy.cluster.hierarchy import dendrogram, linkage"
   ]
  },
  {
   "cell_type": "code",
   "execution_count": 132,
   "metadata": {},
   "outputs": [
    {
     "name": "stdout",
     "output_type": "stream",
     "text": [
      "Silhouette Score 0.18056726379993399\n"
     ]
    },
    {
     "data": {
      "application/vnd.plotly.v1+json": {
       "config": {
        "plotlyServerURL": "https://plot.ly"
       },
       "data": [
        {
         "hovertemplate": "CustomerAge=%{x}<br>CreditScore=%{y}<br>CustomerGender=%{z}<br>lable=%{marker.color}<extra></extra>",
         "legendgroup": "",
         "marker": {
          "color": [
           2,
           2,
           0,
           0,
           5,
           3,
           5,
           8,
           1,
           3,
           2,
           3,
           3,
           0,
           2,
           1,
           0,
           1,
           1,
           8,
           2,
           2,
           3,
           2,
           8,
           2,
           6,
           2,
           0,
           0,
           2,
           8,
           1,
           1,
           6,
           6,
           3,
           8,
           3,
           3,
           5,
           2,
           2,
           5,
           8,
           6,
           8,
           6,
           3,
           0,
           6,
           2,
           5,
           1,
           3,
           1,
           0,
           1,
           5,
           2,
           1,
           1,
           8,
           0,
           1,
           2,
           3,
           0,
           2,
           0,
           1,
           0,
           3,
           6,
           2,
           1,
           8,
           1,
           0,
           6,
           1,
           2,
           1,
           5,
           0,
           2,
           3,
           6,
           5,
           6,
           0,
           1,
           2,
           0,
           6,
           2,
           5,
           8,
           2,
           2,
           0,
           0,
           2,
           2,
           1,
           0,
           8,
           2,
           2,
           2,
           1,
           3,
           0,
           2,
           3,
           5,
           0,
           5,
           3,
           5,
           1,
           8,
           0,
           1,
           0,
           6,
           2,
           1,
           1,
           2,
           2,
           1,
           8,
           8,
           1,
           8,
           3,
           2,
           1,
           0,
           0,
           1,
           5,
           5,
           2,
           2,
           2,
           0,
           6,
           2,
           1,
           2,
           8,
           8,
           0,
           3,
           1,
           8,
           1,
           3,
           0,
           8,
           1,
           0,
           2,
           8,
           7,
           8,
           6,
           1,
           2,
           2,
           1,
           2,
           8,
           0,
           1,
           4,
           1,
           2,
           0,
           8,
           1,
           0,
           5,
           1,
           3,
           1,
           6,
           0,
           3,
           6,
           2,
           0,
           8,
           0,
           0,
           1,
           1,
           1
          ],
          "coloraxis": "coloraxis",
          "symbol": "circle"
         },
         "mode": "markers",
         "name": "",
         "scene": "scene",
         "showlegend": false,
         "type": "scatter3d",
         "x": [
          49,
          59,
          54,
          42,
          30,
          38,
          45,
          23,
          59,
          48,
          55,
          73,
          54,
          34,
          54,
          53,
          23,
          30,
          37,
          52,
          39,
          38,
          71,
          31,
          42,
          65,
          65,
          33,
          29,
          24,
          59,
          40,
          52,
          47,
          66,
          62,
          73,
          23,
          45,
          43,
          21,
          45,
          54,
          22,
          26,
          72,
          29,
          65,
          34,
          26,
          66,
          50,
          33,
          47,
          59,
          52,
          55,
          74,
          32,
          31,
          25,
          75,
          39,
          46,
          29,
          34,
          54,
          36,
          52,
          28,
          18,
          45,
          48,
          50,
          43,
          27,
          68,
          67,
          59,
          74,
          62,
          45,
          33,
          20,
          61,
          32,
          49,
          66,
          36,
          55,
          35,
          22,
          59,
          21,
          74,
          51,
          22,
          35,
          47,
          66,
          20,
          58,
          42,
          27,
          63,
          28,
          48,
          63,
          45,
          22,
          70,
          65,
          41,
          56,
          51,
          33,
          69,
          21,
          40,
          19,
          62,
          38,
          49,
          30,
          62,
          58,
          73,
          66,
          71,
          54,
          53,
          34,
          41,
          47,
          26,
          30,
          55,
          43,
          50,
          61,
          37,
          29,
          26,
          22,
          56,
          70,
          38,
          37,
          62,
          19,
          46,
          50,
          48,
          53,
          70,
          60,
          37,
          57,
          66,
          27,
          21,
          22,
          18,
          18,
          38,
          23,
          21,
          44,
          72,
          63,
          50,
          56,
          59,
          44,
          20,
          33,
          49,
          22,
          64,
          31,
          53,
          23,
          26,
          63,
          43,
          62,
          74,
          66,
          45,
          62,
          61,
          47,
          74,
          48,
          48,
          54,
          20,
          44,
          28,
          41
         ],
         "y": [
          653,
          630,
          555,
          699,
          793,
          635,
          881,
          852,
          708,
          669,
          618,
          614,
          711,
          629,
          764,
          880,
          729,
          803,
          817,
          774,
          672,
          691,
          669,
          555,
          778,
          623,
          782,
          588,
          684,
          698,
          562,
          774,
          777,
          769,
          755,
          789,
          575,
          850,
          715,
          639,
          817,
          731,
          704,
          712,
          713,
          874,
          751,
          761,
          633,
          632,
          763,
          701,
          784,
          854,
          692,
          751,
          648,
          865,
          863,
          622,
          817,
          868,
          849,
          565,
          665,
          632,
          670,
          736,
          687,
          561,
          892,
          724,
          583,
          760,
          555,
          712,
          880,
          873,
          715,
          897,
          801,
          600,
          768,
          807,
          626,
          654,
          742,
          738,
          805,
          808,
          625,
          695,
          656,
          678,
          859,
          616,
          861,
          814,
          616,
          653,
          575,
          576,
          575,
          666,
          876,
          568,
          849,
          564,
          654,
          565,
          782,
          667,
          593,
          606,
          553,
          827,
          559,
          806,
          620,
          857,
          804,
          858,
          695,
          800,
          624,
          767,
          630,
          808,
          790,
          726,
          624,
          746,
          895,
          781,
          868,
          894,
          707,
          552,
          842,
          567,
          636,
          756,
          894,
          887,
          647,
          657,
          607,
          637,
          884,
          551,
          892,
          616,
          886,
          868,
          669,
          605,
          854,
          742,
          803,
          707,
          633,
          827,
          742,
          586,
          581,
          786,
          718,
          755,
          836,
          725,
          573,
          605,
          890,
          657,
          779,
          666,
          779,
          844,
          733,
          571,
          601,
          701,
          838,
          573,
          896,
          824,
          615,
          770,
          831,
          676,
          559,
          784,
          608,
          568,
          833,
          601,
          554,
          844,
          837,
          789
         ],
         "z": [
          "Male",
          "Male",
          "Female",
          "Female",
          "Female",
          "Female",
          "Female",
          "Female",
          "Male",
          "Female",
          "Male",
          "Female",
          "Female",
          "Female",
          "Male",
          "Male",
          "Female",
          "Male",
          "Male",
          "Female",
          "Male",
          "Male",
          "Female",
          "Male",
          "Female",
          "Male",
          "Female",
          "Male",
          "Female",
          "Female",
          "Male",
          "Female",
          "Male",
          "Male",
          "Female",
          "Female",
          "Female",
          "Female",
          "Female",
          "Female",
          "Female",
          "Male",
          "Male",
          "Female",
          "Female",
          "Female",
          "Female",
          "Female",
          "Female",
          "Female",
          "Female",
          "Male",
          "Female",
          "Male",
          "Female",
          "Male",
          "Female",
          "Male",
          "Female",
          "Male",
          "Male",
          "Male",
          "Female",
          "Female",
          "Male",
          "Male",
          "Female",
          "Female",
          "Male",
          "Female",
          "Male",
          "Female",
          "Female",
          "Female",
          "Male",
          "Male",
          "Female",
          "Male",
          "Female",
          "Female",
          "Male",
          "Male",
          "Male",
          "Female",
          "Female",
          "Male",
          "Female",
          "Female",
          "Female",
          "Female",
          "Female",
          "Male",
          "Male",
          "Female",
          "Female",
          "Male",
          "Female",
          "Female",
          "Male",
          "Male",
          "Female",
          "Female",
          "Male",
          "Male",
          "Male",
          "Female",
          "Female",
          "Male",
          "Male",
          "Male",
          "Male",
          "Female",
          "Female",
          "Male",
          "Female",
          "Female",
          "Female",
          "Female",
          "Female",
          "Female",
          "Male",
          "Female",
          "Female",
          "Male",
          "Female",
          "Female",
          "Male",
          "Male",
          "Male",
          "Male",
          "Male",
          "Male",
          "Female",
          "Female",
          "Male",
          "Female",
          "Female",
          "Male",
          "Male",
          "Female",
          "Female",
          "Male",
          "Female",
          "Female",
          "Male",
          "Male",
          "Male",
          "Female",
          "Female",
          "Male",
          "Male",
          "Male",
          "Female",
          "Female",
          "Female",
          "Female",
          "Male",
          "Female",
          "Male",
          "Female",
          "Female",
          "Female",
          "Male",
          "Female",
          "Male",
          "Female",
          "Male",
          "Female",
          "Female",
          "Male",
          "Male",
          "Male",
          "Male",
          "Male",
          "Female",
          "Female",
          "Male",
          "Male",
          "Male",
          "Male",
          "Female",
          "Female",
          "Male",
          "Female",
          "Female",
          "Male",
          "Female",
          "Male",
          "Female",
          "Female",
          "Female",
          "Female",
          "Male",
          "Female",
          "Female",
          "Female",
          "Female",
          "Male",
          "Male",
          "Male"
         ]
        }
       ],
       "layout": {
        "coloraxis": {
         "colorbar": {
          "title": {
           "text": "lable"
          }
         },
         "colorscale": [
          [
           0,
           "#0d0887"
          ],
          [
           0.1111111111111111,
           "#46039f"
          ],
          [
           0.2222222222222222,
           "#7201a8"
          ],
          [
           0.3333333333333333,
           "#9c179e"
          ],
          [
           0.4444444444444444,
           "#bd3786"
          ],
          [
           0.5555555555555556,
           "#d8576b"
          ],
          [
           0.6666666666666666,
           "#ed7953"
          ],
          [
           0.7777777777777778,
           "#fb9f3a"
          ],
          [
           0.8888888888888888,
           "#fdca26"
          ],
          [
           1,
           "#f0f921"
          ]
         ]
        },
        "legend": {
         "tracegroupgap": 0
        },
        "margin": {
         "t": 60
        },
        "scene": {
         "domain": {
          "x": [
           0,
           1
          ],
          "y": [
           0,
           1
          ]
         },
         "xaxis": {
          "title": {
           "text": "CustomerAge"
          }
         },
         "yaxis": {
          "title": {
           "text": "CreditScore"
          }
         },
         "zaxis": {
          "title": {
           "text": "CustomerGender"
          }
         }
        },
        "template": {
         "data": {
          "bar": [
           {
            "error_x": {
             "color": "#2a3f5f"
            },
            "error_y": {
             "color": "#2a3f5f"
            },
            "marker": {
             "line": {
              "color": "#E5ECF6",
              "width": 0.5
             },
             "pattern": {
              "fillmode": "overlay",
              "size": 10,
              "solidity": 0.2
             }
            },
            "type": "bar"
           }
          ],
          "barpolar": [
           {
            "marker": {
             "line": {
              "color": "#E5ECF6",
              "width": 0.5
             },
             "pattern": {
              "fillmode": "overlay",
              "size": 10,
              "solidity": 0.2
             }
            },
            "type": "barpolar"
           }
          ],
          "carpet": [
           {
            "aaxis": {
             "endlinecolor": "#2a3f5f",
             "gridcolor": "white",
             "linecolor": "white",
             "minorgridcolor": "white",
             "startlinecolor": "#2a3f5f"
            },
            "baxis": {
             "endlinecolor": "#2a3f5f",
             "gridcolor": "white",
             "linecolor": "white",
             "minorgridcolor": "white",
             "startlinecolor": "#2a3f5f"
            },
            "type": "carpet"
           }
          ],
          "choropleth": [
           {
            "colorbar": {
             "outlinewidth": 0,
             "ticks": ""
            },
            "type": "choropleth"
           }
          ],
          "contour": [
           {
            "colorbar": {
             "outlinewidth": 0,
             "ticks": ""
            },
            "colorscale": [
             [
              0,
              "#0d0887"
             ],
             [
              0.1111111111111111,
              "#46039f"
             ],
             [
              0.2222222222222222,
              "#7201a8"
             ],
             [
              0.3333333333333333,
              "#9c179e"
             ],
             [
              0.4444444444444444,
              "#bd3786"
             ],
             [
              0.5555555555555556,
              "#d8576b"
             ],
             [
              0.6666666666666666,
              "#ed7953"
             ],
             [
              0.7777777777777778,
              "#fb9f3a"
             ],
             [
              0.8888888888888888,
              "#fdca26"
             ],
             [
              1,
              "#f0f921"
             ]
            ],
            "type": "contour"
           }
          ],
          "contourcarpet": [
           {
            "colorbar": {
             "outlinewidth": 0,
             "ticks": ""
            },
            "type": "contourcarpet"
           }
          ],
          "heatmap": [
           {
            "colorbar": {
             "outlinewidth": 0,
             "ticks": ""
            },
            "colorscale": [
             [
              0,
              "#0d0887"
             ],
             [
              0.1111111111111111,
              "#46039f"
             ],
             [
              0.2222222222222222,
              "#7201a8"
             ],
             [
              0.3333333333333333,
              "#9c179e"
             ],
             [
              0.4444444444444444,
              "#bd3786"
             ],
             [
              0.5555555555555556,
              "#d8576b"
             ],
             [
              0.6666666666666666,
              "#ed7953"
             ],
             [
              0.7777777777777778,
              "#fb9f3a"
             ],
             [
              0.8888888888888888,
              "#fdca26"
             ],
             [
              1,
              "#f0f921"
             ]
            ],
            "type": "heatmap"
           }
          ],
          "heatmapgl": [
           {
            "colorbar": {
             "outlinewidth": 0,
             "ticks": ""
            },
            "colorscale": [
             [
              0,
              "#0d0887"
             ],
             [
              0.1111111111111111,
              "#46039f"
             ],
             [
              0.2222222222222222,
              "#7201a8"
             ],
             [
              0.3333333333333333,
              "#9c179e"
             ],
             [
              0.4444444444444444,
              "#bd3786"
             ],
             [
              0.5555555555555556,
              "#d8576b"
             ],
             [
              0.6666666666666666,
              "#ed7953"
             ],
             [
              0.7777777777777778,
              "#fb9f3a"
             ],
             [
              0.8888888888888888,
              "#fdca26"
             ],
             [
              1,
              "#f0f921"
             ]
            ],
            "type": "heatmapgl"
           }
          ],
          "histogram": [
           {
            "marker": {
             "pattern": {
              "fillmode": "overlay",
              "size": 10,
              "solidity": 0.2
             }
            },
            "type": "histogram"
           }
          ],
          "histogram2d": [
           {
            "colorbar": {
             "outlinewidth": 0,
             "ticks": ""
            },
            "colorscale": [
             [
              0,
              "#0d0887"
             ],
             [
              0.1111111111111111,
              "#46039f"
             ],
             [
              0.2222222222222222,
              "#7201a8"
             ],
             [
              0.3333333333333333,
              "#9c179e"
             ],
             [
              0.4444444444444444,
              "#bd3786"
             ],
             [
              0.5555555555555556,
              "#d8576b"
             ],
             [
              0.6666666666666666,
              "#ed7953"
             ],
             [
              0.7777777777777778,
              "#fb9f3a"
             ],
             [
              0.8888888888888888,
              "#fdca26"
             ],
             [
              1,
              "#f0f921"
             ]
            ],
            "type": "histogram2d"
           }
          ],
          "histogram2dcontour": [
           {
            "colorbar": {
             "outlinewidth": 0,
             "ticks": ""
            },
            "colorscale": [
             [
              0,
              "#0d0887"
             ],
             [
              0.1111111111111111,
              "#46039f"
             ],
             [
              0.2222222222222222,
              "#7201a8"
             ],
             [
              0.3333333333333333,
              "#9c179e"
             ],
             [
              0.4444444444444444,
              "#bd3786"
             ],
             [
              0.5555555555555556,
              "#d8576b"
             ],
             [
              0.6666666666666666,
              "#ed7953"
             ],
             [
              0.7777777777777778,
              "#fb9f3a"
             ],
             [
              0.8888888888888888,
              "#fdca26"
             ],
             [
              1,
              "#f0f921"
             ]
            ],
            "type": "histogram2dcontour"
           }
          ],
          "mesh3d": [
           {
            "colorbar": {
             "outlinewidth": 0,
             "ticks": ""
            },
            "type": "mesh3d"
           }
          ],
          "parcoords": [
           {
            "line": {
             "colorbar": {
              "outlinewidth": 0,
              "ticks": ""
             }
            },
            "type": "parcoords"
           }
          ],
          "pie": [
           {
            "automargin": true,
            "type": "pie"
           }
          ],
          "scatter": [
           {
            "marker": {
             "colorbar": {
              "outlinewidth": 0,
              "ticks": ""
             }
            },
            "type": "scatter"
           }
          ],
          "scatter3d": [
           {
            "line": {
             "colorbar": {
              "outlinewidth": 0,
              "ticks": ""
             }
            },
            "marker": {
             "colorbar": {
              "outlinewidth": 0,
              "ticks": ""
             }
            },
            "type": "scatter3d"
           }
          ],
          "scattercarpet": [
           {
            "marker": {
             "colorbar": {
              "outlinewidth": 0,
              "ticks": ""
             }
            },
            "type": "scattercarpet"
           }
          ],
          "scattergeo": [
           {
            "marker": {
             "colorbar": {
              "outlinewidth": 0,
              "ticks": ""
             }
            },
            "type": "scattergeo"
           }
          ],
          "scattergl": [
           {
            "marker": {
             "colorbar": {
              "outlinewidth": 0,
              "ticks": ""
             }
            },
            "type": "scattergl"
           }
          ],
          "scattermapbox": [
           {
            "marker": {
             "colorbar": {
              "outlinewidth": 0,
              "ticks": ""
             }
            },
            "type": "scattermapbox"
           }
          ],
          "scatterpolar": [
           {
            "marker": {
             "colorbar": {
              "outlinewidth": 0,
              "ticks": ""
             }
            },
            "type": "scatterpolar"
           }
          ],
          "scatterpolargl": [
           {
            "marker": {
             "colorbar": {
              "outlinewidth": 0,
              "ticks": ""
             }
            },
            "type": "scatterpolargl"
           }
          ],
          "scatterternary": [
           {
            "marker": {
             "colorbar": {
              "outlinewidth": 0,
              "ticks": ""
             }
            },
            "type": "scatterternary"
           }
          ],
          "surface": [
           {
            "colorbar": {
             "outlinewidth": 0,
             "ticks": ""
            },
            "colorscale": [
             [
              0,
              "#0d0887"
             ],
             [
              0.1111111111111111,
              "#46039f"
             ],
             [
              0.2222222222222222,
              "#7201a8"
             ],
             [
              0.3333333333333333,
              "#9c179e"
             ],
             [
              0.4444444444444444,
              "#bd3786"
             ],
             [
              0.5555555555555556,
              "#d8576b"
             ],
             [
              0.6666666666666666,
              "#ed7953"
             ],
             [
              0.7777777777777778,
              "#fb9f3a"
             ],
             [
              0.8888888888888888,
              "#fdca26"
             ],
             [
              1,
              "#f0f921"
             ]
            ],
            "type": "surface"
           }
          ],
          "table": [
           {
            "cells": {
             "fill": {
              "color": "#EBF0F8"
             },
             "line": {
              "color": "white"
             }
            },
            "header": {
             "fill": {
              "color": "#C8D4E3"
             },
             "line": {
              "color": "white"
             }
            },
            "type": "table"
           }
          ]
         },
         "layout": {
          "annotationdefaults": {
           "arrowcolor": "#2a3f5f",
           "arrowhead": 0,
           "arrowwidth": 1
          },
          "autotypenumbers": "strict",
          "coloraxis": {
           "colorbar": {
            "outlinewidth": 0,
            "ticks": ""
           }
          },
          "colorscale": {
           "diverging": [
            [
             0,
             "#8e0152"
            ],
            [
             0.1,
             "#c51b7d"
            ],
            [
             0.2,
             "#de77ae"
            ],
            [
             0.3,
             "#f1b6da"
            ],
            [
             0.4,
             "#fde0ef"
            ],
            [
             0.5,
             "#f7f7f7"
            ],
            [
             0.6,
             "#e6f5d0"
            ],
            [
             0.7,
             "#b8e186"
            ],
            [
             0.8,
             "#7fbc41"
            ],
            [
             0.9,
             "#4d9221"
            ],
            [
             1,
             "#276419"
            ]
           ],
           "sequential": [
            [
             0,
             "#0d0887"
            ],
            [
             0.1111111111111111,
             "#46039f"
            ],
            [
             0.2222222222222222,
             "#7201a8"
            ],
            [
             0.3333333333333333,
             "#9c179e"
            ],
            [
             0.4444444444444444,
             "#bd3786"
            ],
            [
             0.5555555555555556,
             "#d8576b"
            ],
            [
             0.6666666666666666,
             "#ed7953"
            ],
            [
             0.7777777777777778,
             "#fb9f3a"
            ],
            [
             0.8888888888888888,
             "#fdca26"
            ],
            [
             1,
             "#f0f921"
            ]
           ],
           "sequentialminus": [
            [
             0,
             "#0d0887"
            ],
            [
             0.1111111111111111,
             "#46039f"
            ],
            [
             0.2222222222222222,
             "#7201a8"
            ],
            [
             0.3333333333333333,
             "#9c179e"
            ],
            [
             0.4444444444444444,
             "#bd3786"
            ],
            [
             0.5555555555555556,
             "#d8576b"
            ],
            [
             0.6666666666666666,
             "#ed7953"
            ],
            [
             0.7777777777777778,
             "#fb9f3a"
            ],
            [
             0.8888888888888888,
             "#fdca26"
            ],
            [
             1,
             "#f0f921"
            ]
           ]
          },
          "colorway": [
           "#636efa",
           "#EF553B",
           "#00cc96",
           "#ab63fa",
           "#FFA15A",
           "#19d3f3",
           "#FF6692",
           "#B6E880",
           "#FF97FF",
           "#FECB52"
          ],
          "font": {
           "color": "#2a3f5f"
          },
          "geo": {
           "bgcolor": "white",
           "lakecolor": "white",
           "landcolor": "#E5ECF6",
           "showlakes": true,
           "showland": true,
           "subunitcolor": "white"
          },
          "hoverlabel": {
           "align": "left"
          },
          "hovermode": "closest",
          "mapbox": {
           "style": "light"
          },
          "paper_bgcolor": "white",
          "plot_bgcolor": "#E5ECF6",
          "polar": {
           "angularaxis": {
            "gridcolor": "white",
            "linecolor": "white",
            "ticks": ""
           },
           "bgcolor": "#E5ECF6",
           "radialaxis": {
            "gridcolor": "white",
            "linecolor": "white",
            "ticks": ""
           }
          },
          "scene": {
           "xaxis": {
            "backgroundcolor": "#E5ECF6",
            "gridcolor": "white",
            "gridwidth": 2,
            "linecolor": "white",
            "showbackground": true,
            "ticks": "",
            "zerolinecolor": "white"
           },
           "yaxis": {
            "backgroundcolor": "#E5ECF6",
            "gridcolor": "white",
            "gridwidth": 2,
            "linecolor": "white",
            "showbackground": true,
            "ticks": "",
            "zerolinecolor": "white"
           },
           "zaxis": {
            "backgroundcolor": "#E5ECF6",
            "gridcolor": "white",
            "gridwidth": 2,
            "linecolor": "white",
            "showbackground": true,
            "ticks": "",
            "zerolinecolor": "white"
           }
          },
          "shapedefaults": {
           "line": {
            "color": "#2a3f5f"
           }
          },
          "ternary": {
           "aaxis": {
            "gridcolor": "white",
            "linecolor": "white",
            "ticks": ""
           },
           "baxis": {
            "gridcolor": "white",
            "linecolor": "white",
            "ticks": ""
           },
           "bgcolor": "#E5ECF6",
           "caxis": {
            "gridcolor": "white",
            "linecolor": "white",
            "ticks": ""
           }
          },
          "title": {
           "x": 0.05
          },
          "xaxis": {
           "automargin": true,
           "gridcolor": "white",
           "linecolor": "white",
           "ticks": "",
           "title": {
            "standoff": 15
           },
           "zerolinecolor": "white",
           "zerolinewidth": 2
          },
          "yaxis": {
           "automargin": true,
           "gridcolor": "white",
           "linecolor": "white",
           "ticks": "",
           "title": {
            "standoff": 15
           },
           "zerolinecolor": "white",
           "zerolinewidth": 2
          }
         }
        }
       }
      },
      "text/html": [
       "<div>                            <div id=\"b855fdb3-e1da-4a15-9fd7-cec90489928c\" class=\"plotly-graph-div\" style=\"height:525px; width:100%;\"></div>            <script type=\"text/javascript\">                require([\"plotly\"], function(Plotly) {                    window.PLOTLYENV=window.PLOTLYENV || {};                                    if (document.getElementById(\"b855fdb3-e1da-4a15-9fd7-cec90489928c\")) {                    Plotly.newPlot(                        \"b855fdb3-e1da-4a15-9fd7-cec90489928c\",                        [{\"hovertemplate\":\"CustomerAge=%{x}<br>CreditScore=%{y}<br>CustomerGender=%{z}<br>lable=%{marker.color}<extra></extra>\",\"legendgroup\":\"\",\"marker\":{\"color\":[2,2,0,0,5,3,5,8,1,3,2,3,3,0,2,1,0,1,1,8,2,2,3,2,8,2,6,2,0,0,2,8,1,1,6,6,3,8,3,3,5,2,2,5,8,6,8,6,3,0,6,2,5,1,3,1,0,1,5,2,1,1,8,0,1,2,3,0,2,0,1,0,3,6,2,1,8,1,0,6,1,2,1,5,0,2,3,6,5,6,0,1,2,0,6,2,5,8,2,2,0,0,2,2,1,0,8,2,2,2,1,3,0,2,3,5,0,5,3,5,1,8,0,1,0,6,2,1,1,2,2,1,8,8,1,8,3,2,1,0,0,1,5,5,2,2,2,0,6,2,1,2,8,8,0,3,1,8,1,3,0,8,1,0,2,8,7,8,6,1,2,2,1,2,8,0,1,4,1,2,0,8,1,0,5,1,3,1,6,0,3,6,2,0,8,0,0,1,1,1],\"coloraxis\":\"coloraxis\",\"symbol\":\"circle\"},\"mode\":\"markers\",\"name\":\"\",\"scene\":\"scene\",\"showlegend\":false,\"x\":[49,59,54,42,30,38,45,23,59,48,55,73,54,34,54,53,23,30,37,52,39,38,71,31,42,65,65,33,29,24,59,40,52,47,66,62,73,23,45,43,21,45,54,22,26,72,29,65,34,26,66,50,33,47,59,52,55,74,32,31,25,75,39,46,29,34,54,36,52,28,18,45,48,50,43,27,68,67,59,74,62,45,33,20,61,32,49,66,36,55,35,22,59,21,74,51,22,35,47,66,20,58,42,27,63,28,48,63,45,22,70,65,41,56,51,33,69,21,40,19,62,38,49,30,62,58,73,66,71,54,53,34,41,47,26,30,55,43,50,61,37,29,26,22,56,70,38,37,62,19,46,50,48,53,70,60,37,57,66,27,21,22,18,18,38,23,21,44,72,63,50,56,59,44,20,33,49,22,64,31,53,23,26,63,43,62,74,66,45,62,61,47,74,48,48,54,20,44,28,41],\"y\":[653,630,555,699,793,635,881,852,708,669,618,614,711,629,764,880,729,803,817,774,672,691,669,555,778,623,782,588,684,698,562,774,777,769,755,789,575,850,715,639,817,731,704,712,713,874,751,761,633,632,763,701,784,854,692,751,648,865,863,622,817,868,849,565,665,632,670,736,687,561,892,724,583,760,555,712,880,873,715,897,801,600,768,807,626,654,742,738,805,808,625,695,656,678,859,616,861,814,616,653,575,576,575,666,876,568,849,564,654,565,782,667,593,606,553,827,559,806,620,857,804,858,695,800,624,767,630,808,790,726,624,746,895,781,868,894,707,552,842,567,636,756,894,887,647,657,607,637,884,551,892,616,886,868,669,605,854,742,803,707,633,827,742,586,581,786,718,755,836,725,573,605,890,657,779,666,779,844,733,571,601,701,838,573,896,824,615,770,831,676,559,784,608,568,833,601,554,844,837,789],\"z\":[\"Male\",\"Male\",\"Female\",\"Female\",\"Female\",\"Female\",\"Female\",\"Female\",\"Male\",\"Female\",\"Male\",\"Female\",\"Female\",\"Female\",\"Male\",\"Male\",\"Female\",\"Male\",\"Male\",\"Female\",\"Male\",\"Male\",\"Female\",\"Male\",\"Female\",\"Male\",\"Female\",\"Male\",\"Female\",\"Female\",\"Male\",\"Female\",\"Male\",\"Male\",\"Female\",\"Female\",\"Female\",\"Female\",\"Female\",\"Female\",\"Female\",\"Male\",\"Male\",\"Female\",\"Female\",\"Female\",\"Female\",\"Female\",\"Female\",\"Female\",\"Female\",\"Male\",\"Female\",\"Male\",\"Female\",\"Male\",\"Female\",\"Male\",\"Female\",\"Male\",\"Male\",\"Male\",\"Female\",\"Female\",\"Male\",\"Male\",\"Female\",\"Female\",\"Male\",\"Female\",\"Male\",\"Female\",\"Female\",\"Female\",\"Male\",\"Male\",\"Female\",\"Male\",\"Female\",\"Female\",\"Male\",\"Male\",\"Male\",\"Female\",\"Female\",\"Male\",\"Female\",\"Female\",\"Female\",\"Female\",\"Female\",\"Male\",\"Male\",\"Female\",\"Female\",\"Male\",\"Female\",\"Female\",\"Male\",\"Male\",\"Female\",\"Female\",\"Male\",\"Male\",\"Male\",\"Female\",\"Female\",\"Male\",\"Male\",\"Male\",\"Male\",\"Female\",\"Female\",\"Male\",\"Female\",\"Female\",\"Female\",\"Female\",\"Female\",\"Female\",\"Male\",\"Female\",\"Female\",\"Male\",\"Female\",\"Female\",\"Male\",\"Male\",\"Male\",\"Male\",\"Male\",\"Male\",\"Female\",\"Female\",\"Male\",\"Female\",\"Female\",\"Male\",\"Male\",\"Female\",\"Female\",\"Male\",\"Female\",\"Female\",\"Male\",\"Male\",\"Male\",\"Female\",\"Female\",\"Male\",\"Male\",\"Male\",\"Female\",\"Female\",\"Female\",\"Female\",\"Male\",\"Female\",\"Male\",\"Female\",\"Female\",\"Female\",\"Male\",\"Female\",\"Male\",\"Female\",\"Male\",\"Female\",\"Female\",\"Male\",\"Male\",\"Male\",\"Male\",\"Male\",\"Female\",\"Female\",\"Male\",\"Male\",\"Male\",\"Male\",\"Female\",\"Female\",\"Male\",\"Female\",\"Female\",\"Male\",\"Female\",\"Male\",\"Female\",\"Female\",\"Female\",\"Female\",\"Male\",\"Female\",\"Female\",\"Female\",\"Female\",\"Male\",\"Male\",\"Male\"],\"type\":\"scatter3d\"}],                        {\"template\":{\"data\":{\"bar\":[{\"error_x\":{\"color\":\"#2a3f5f\"},\"error_y\":{\"color\":\"#2a3f5f\"},\"marker\":{\"line\":{\"color\":\"#E5ECF6\",\"width\":0.5},\"pattern\":{\"fillmode\":\"overlay\",\"size\":10,\"solidity\":0.2}},\"type\":\"bar\"}],\"barpolar\":[{\"marker\":{\"line\":{\"color\":\"#E5ECF6\",\"width\":0.5},\"pattern\":{\"fillmode\":\"overlay\",\"size\":10,\"solidity\":0.2}},\"type\":\"barpolar\"}],\"carpet\":[{\"aaxis\":{\"endlinecolor\":\"#2a3f5f\",\"gridcolor\":\"white\",\"linecolor\":\"white\",\"minorgridcolor\":\"white\",\"startlinecolor\":\"#2a3f5f\"},\"baxis\":{\"endlinecolor\":\"#2a3f5f\",\"gridcolor\":\"white\",\"linecolor\":\"white\",\"minorgridcolor\":\"white\",\"startlinecolor\":\"#2a3f5f\"},\"type\":\"carpet\"}],\"choropleth\":[{\"colorbar\":{\"outlinewidth\":0,\"ticks\":\"\"},\"type\":\"choropleth\"}],\"contour\":[{\"colorbar\":{\"outlinewidth\":0,\"ticks\":\"\"},\"colorscale\":[[0.0,\"#0d0887\"],[0.1111111111111111,\"#46039f\"],[0.2222222222222222,\"#7201a8\"],[0.3333333333333333,\"#9c179e\"],[0.4444444444444444,\"#bd3786\"],[0.5555555555555556,\"#d8576b\"],[0.6666666666666666,\"#ed7953\"],[0.7777777777777778,\"#fb9f3a\"],[0.8888888888888888,\"#fdca26\"],[1.0,\"#f0f921\"]],\"type\":\"contour\"}],\"contourcarpet\":[{\"colorbar\":{\"outlinewidth\":0,\"ticks\":\"\"},\"type\":\"contourcarpet\"}],\"heatmap\":[{\"colorbar\":{\"outlinewidth\":0,\"ticks\":\"\"},\"colorscale\":[[0.0,\"#0d0887\"],[0.1111111111111111,\"#46039f\"],[0.2222222222222222,\"#7201a8\"],[0.3333333333333333,\"#9c179e\"],[0.4444444444444444,\"#bd3786\"],[0.5555555555555556,\"#d8576b\"],[0.6666666666666666,\"#ed7953\"],[0.7777777777777778,\"#fb9f3a\"],[0.8888888888888888,\"#fdca26\"],[1.0,\"#f0f921\"]],\"type\":\"heatmap\"}],\"heatmapgl\":[{\"colorbar\":{\"outlinewidth\":0,\"ticks\":\"\"},\"colorscale\":[[0.0,\"#0d0887\"],[0.1111111111111111,\"#46039f\"],[0.2222222222222222,\"#7201a8\"],[0.3333333333333333,\"#9c179e\"],[0.4444444444444444,\"#bd3786\"],[0.5555555555555556,\"#d8576b\"],[0.6666666666666666,\"#ed7953\"],[0.7777777777777778,\"#fb9f3a\"],[0.8888888888888888,\"#fdca26\"],[1.0,\"#f0f921\"]],\"type\":\"heatmapgl\"}],\"histogram\":[{\"marker\":{\"pattern\":{\"fillmode\":\"overlay\",\"size\":10,\"solidity\":0.2}},\"type\":\"histogram\"}],\"histogram2d\":[{\"colorbar\":{\"outlinewidth\":0,\"ticks\":\"\"},\"colorscale\":[[0.0,\"#0d0887\"],[0.1111111111111111,\"#46039f\"],[0.2222222222222222,\"#7201a8\"],[0.3333333333333333,\"#9c179e\"],[0.4444444444444444,\"#bd3786\"],[0.5555555555555556,\"#d8576b\"],[0.6666666666666666,\"#ed7953\"],[0.7777777777777778,\"#fb9f3a\"],[0.8888888888888888,\"#fdca26\"],[1.0,\"#f0f921\"]],\"type\":\"histogram2d\"}],\"histogram2dcontour\":[{\"colorbar\":{\"outlinewidth\":0,\"ticks\":\"\"},\"colorscale\":[[0.0,\"#0d0887\"],[0.1111111111111111,\"#46039f\"],[0.2222222222222222,\"#7201a8\"],[0.3333333333333333,\"#9c179e\"],[0.4444444444444444,\"#bd3786\"],[0.5555555555555556,\"#d8576b\"],[0.6666666666666666,\"#ed7953\"],[0.7777777777777778,\"#fb9f3a\"],[0.8888888888888888,\"#fdca26\"],[1.0,\"#f0f921\"]],\"type\":\"histogram2dcontour\"}],\"mesh3d\":[{\"colorbar\":{\"outlinewidth\":0,\"ticks\":\"\"},\"type\":\"mesh3d\"}],\"parcoords\":[{\"line\":{\"colorbar\":{\"outlinewidth\":0,\"ticks\":\"\"}},\"type\":\"parcoords\"}],\"pie\":[{\"automargin\":true,\"type\":\"pie\"}],\"scatter\":[{\"marker\":{\"colorbar\":{\"outlinewidth\":0,\"ticks\":\"\"}},\"type\":\"scatter\"}],\"scatter3d\":[{\"line\":{\"colorbar\":{\"outlinewidth\":0,\"ticks\":\"\"}},\"marker\":{\"colorbar\":{\"outlinewidth\":0,\"ticks\":\"\"}},\"type\":\"scatter3d\"}],\"scattercarpet\":[{\"marker\":{\"colorbar\":{\"outlinewidth\":0,\"ticks\":\"\"}},\"type\":\"scattercarpet\"}],\"scattergeo\":[{\"marker\":{\"colorbar\":{\"outlinewidth\":0,\"ticks\":\"\"}},\"type\":\"scattergeo\"}],\"scattergl\":[{\"marker\":{\"colorbar\":{\"outlinewidth\":0,\"ticks\":\"\"}},\"type\":\"scattergl\"}],\"scattermapbox\":[{\"marker\":{\"colorbar\":{\"outlinewidth\":0,\"ticks\":\"\"}},\"type\":\"scattermapbox\"}],\"scatterpolar\":[{\"marker\":{\"colorbar\":{\"outlinewidth\":0,\"ticks\":\"\"}},\"type\":\"scatterpolar\"}],\"scatterpolargl\":[{\"marker\":{\"colorbar\":{\"outlinewidth\":0,\"ticks\":\"\"}},\"type\":\"scatterpolargl\"}],\"scatterternary\":[{\"marker\":{\"colorbar\":{\"outlinewidth\":0,\"ticks\":\"\"}},\"type\":\"scatterternary\"}],\"surface\":[{\"colorbar\":{\"outlinewidth\":0,\"ticks\":\"\"},\"colorscale\":[[0.0,\"#0d0887\"],[0.1111111111111111,\"#46039f\"],[0.2222222222222222,\"#7201a8\"],[0.3333333333333333,\"#9c179e\"],[0.4444444444444444,\"#bd3786\"],[0.5555555555555556,\"#d8576b\"],[0.6666666666666666,\"#ed7953\"],[0.7777777777777778,\"#fb9f3a\"],[0.8888888888888888,\"#fdca26\"],[1.0,\"#f0f921\"]],\"type\":\"surface\"}],\"table\":[{\"cells\":{\"fill\":{\"color\":\"#EBF0F8\"},\"line\":{\"color\":\"white\"}},\"header\":{\"fill\":{\"color\":\"#C8D4E3\"},\"line\":{\"color\":\"white\"}},\"type\":\"table\"}]},\"layout\":{\"annotationdefaults\":{\"arrowcolor\":\"#2a3f5f\",\"arrowhead\":0,\"arrowwidth\":1},\"autotypenumbers\":\"strict\",\"coloraxis\":{\"colorbar\":{\"outlinewidth\":0,\"ticks\":\"\"}},\"colorscale\":{\"diverging\":[[0,\"#8e0152\"],[0.1,\"#c51b7d\"],[0.2,\"#de77ae\"],[0.3,\"#f1b6da\"],[0.4,\"#fde0ef\"],[0.5,\"#f7f7f7\"],[0.6,\"#e6f5d0\"],[0.7,\"#b8e186\"],[0.8,\"#7fbc41\"],[0.9,\"#4d9221\"],[1,\"#276419\"]],\"sequential\":[[0.0,\"#0d0887\"],[0.1111111111111111,\"#46039f\"],[0.2222222222222222,\"#7201a8\"],[0.3333333333333333,\"#9c179e\"],[0.4444444444444444,\"#bd3786\"],[0.5555555555555556,\"#d8576b\"],[0.6666666666666666,\"#ed7953\"],[0.7777777777777778,\"#fb9f3a\"],[0.8888888888888888,\"#fdca26\"],[1.0,\"#f0f921\"]],\"sequentialminus\":[[0.0,\"#0d0887\"],[0.1111111111111111,\"#46039f\"],[0.2222222222222222,\"#7201a8\"],[0.3333333333333333,\"#9c179e\"],[0.4444444444444444,\"#bd3786\"],[0.5555555555555556,\"#d8576b\"],[0.6666666666666666,\"#ed7953\"],[0.7777777777777778,\"#fb9f3a\"],[0.8888888888888888,\"#fdca26\"],[1.0,\"#f0f921\"]]},\"colorway\":[\"#636efa\",\"#EF553B\",\"#00cc96\",\"#ab63fa\",\"#FFA15A\",\"#19d3f3\",\"#FF6692\",\"#B6E880\",\"#FF97FF\",\"#FECB52\"],\"font\":{\"color\":\"#2a3f5f\"},\"geo\":{\"bgcolor\":\"white\",\"lakecolor\":\"white\",\"landcolor\":\"#E5ECF6\",\"showlakes\":true,\"showland\":true,\"subunitcolor\":\"white\"},\"hoverlabel\":{\"align\":\"left\"},\"hovermode\":\"closest\",\"mapbox\":{\"style\":\"light\"},\"paper_bgcolor\":\"white\",\"plot_bgcolor\":\"#E5ECF6\",\"polar\":{\"angularaxis\":{\"gridcolor\":\"white\",\"linecolor\":\"white\",\"ticks\":\"\"},\"bgcolor\":\"#E5ECF6\",\"radialaxis\":{\"gridcolor\":\"white\",\"linecolor\":\"white\",\"ticks\":\"\"}},\"scene\":{\"xaxis\":{\"backgroundcolor\":\"#E5ECF6\",\"gridcolor\":\"white\",\"gridwidth\":2,\"linecolor\":\"white\",\"showbackground\":true,\"ticks\":\"\",\"zerolinecolor\":\"white\"},\"yaxis\":{\"backgroundcolor\":\"#E5ECF6\",\"gridcolor\":\"white\",\"gridwidth\":2,\"linecolor\":\"white\",\"showbackground\":true,\"ticks\":\"\",\"zerolinecolor\":\"white\"},\"zaxis\":{\"backgroundcolor\":\"#E5ECF6\",\"gridcolor\":\"white\",\"gridwidth\":2,\"linecolor\":\"white\",\"showbackground\":true,\"ticks\":\"\",\"zerolinecolor\":\"white\"}},\"shapedefaults\":{\"line\":{\"color\":\"#2a3f5f\"}},\"ternary\":{\"aaxis\":{\"gridcolor\":\"white\",\"linecolor\":\"white\",\"ticks\":\"\"},\"baxis\":{\"gridcolor\":\"white\",\"linecolor\":\"white\",\"ticks\":\"\"},\"bgcolor\":\"#E5ECF6\",\"caxis\":{\"gridcolor\":\"white\",\"linecolor\":\"white\",\"ticks\":\"\"}},\"title\":{\"x\":0.05},\"xaxis\":{\"automargin\":true,\"gridcolor\":\"white\",\"linecolor\":\"white\",\"ticks\":\"\",\"title\":{\"standoff\":15},\"zerolinecolor\":\"white\",\"zerolinewidth\":2},\"yaxis\":{\"automargin\":true,\"gridcolor\":\"white\",\"linecolor\":\"white\",\"ticks\":\"\",\"title\":{\"standoff\":15},\"zerolinecolor\":\"white\",\"zerolinewidth\":2}}},\"scene\":{\"domain\":{\"x\":[0.0,1.0],\"y\":[0.0,1.0]},\"xaxis\":{\"title\":{\"text\":\"CustomerAge\"}},\"yaxis\":{\"title\":{\"text\":\"CreditScore\"}},\"zaxis\":{\"title\":{\"text\":\"CustomerGender\"}}},\"coloraxis\":{\"colorbar\":{\"title\":{\"text\":\"lable\"}},\"colorscale\":[[0.0,\"#0d0887\"],[0.1111111111111111,\"#46039f\"],[0.2222222222222222,\"#7201a8\"],[0.3333333333333333,\"#9c179e\"],[0.4444444444444444,\"#bd3786\"],[0.5555555555555556,\"#d8576b\"],[0.6666666666666666,\"#ed7953\"],[0.7777777777777778,\"#fb9f3a\"],[0.8888888888888888,\"#fdca26\"],[1.0,\"#f0f921\"]]},\"legend\":{\"tracegroupgap\":0},\"margin\":{\"t\":60}},                        {\"responsive\": true}                    ).then(function(){\n",
       "                            \n",
       "var gd = document.getElementById('b855fdb3-e1da-4a15-9fd7-cec90489928c');\n",
       "var x = new MutationObserver(function (mutations, observer) {{\n",
       "        var display = window.getComputedStyle(gd).display;\n",
       "        if (!display || display === 'none') {{\n",
       "            console.log([gd, 'removed!']);\n",
       "            Plotly.purge(gd);\n",
       "            observer.disconnect();\n",
       "        }}\n",
       "}});\n",
       "\n",
       "// Listen for the removal of the full notebook cells\n",
       "var notebookContainer = gd.closest('#notebook-container');\n",
       "if (notebookContainer) {{\n",
       "    x.observe(notebookContainer, {childList: true});\n",
       "}}\n",
       "\n",
       "// Listen for the clearing of the current output cell\n",
       "var outputEl = gd.closest('.output');\n",
       "if (outputEl) {{\n",
       "    x.observe(outputEl, {childList: true});\n",
       "}}\n",
       "\n",
       "                        })                };                });            </script>        </div>"
      ]
     },
     "metadata": {},
     "output_type": "display_data"
    }
   ],
   "source": [
    "linkage_style= ['complete', 'average', 'ward']\n",
    "\n",
    "\n",
    "agglomerative = cluster.AgglomerativeClustering(n_clusters=9, linkage=linkage_style[1], affinity='euclidean')\n",
    "model = agglomerative.fit_predict(X)\n",
    "lables= agglomerative.labels_ \n",
    "\n",
    "HA=df.copy()\n",
    "\n",
    "HA['lable']=lables\n",
    "\n",
    "score = silhouette_score(X,lables)\n",
    "print (\"Silhouette Score\", score)\n",
    "\n",
    "px.scatter_3d(HA, 'CustomerAge', 'CreditScore', 'CustomerGender', color='lable')\n"
   ]
  },
  {
   "cell_type": "code",
   "execution_count": 133,
   "metadata": {
    "scrolled": false
   },
   "outputs": [
    {
     "data": {
      "image/png": "[encoded data removed]",
      "text/plain": [
       "<Figure size 1800x720 with 1 Axes>"
      ]
     },
     "metadata": {
      "needs_background": "light"
     },
     "output_type": "display_data"
    }
   ],
   "source": [
    "Z = linkage(X, linkage_style[1])\n",
    "fig = plt.figure(figsize=(25, 10))\n",
    "dn = dendrogram(Z)\n",
    "plt.show()"
   ]
  },
  {
   "cell_type": "code",
   "execution_count": 153,
   "metadata": {},
   "outputs": [
    {
     "name": "stdout",
     "output_type": "stream",
     "text": [
      "Silhouette Score 0.1967452736849934\n"
     ]
    },
    {
     "data": {
      "application/vnd.plotly.v1+json": {
       "config": {
        "plotlyServerURL": "https://plot.ly"
       },
       "data": [
        {
         "customdata": [
          [
           1001,
           "Male",
           527547.5885,
           78,
           1
          ],
          [
           1002,
           "Male",
           207143.1976,
           63,
           1
          ],
          [
           1003,
           "Female",
           164423.8457,
           69,
           4
          ],
          [
           1004,
           "Female",
           56220.36443,
           30,
           1
          ],
          [
           1005,
           "Female",
           256194.3619,
           6,
           1
          ],
          [
           1006,
           "Female",
           475324.8903,
           97,
           2
          ],
          [
           1007,
           "Female",
           186352.3482,
           2,
           2
          ],
          [
           1008,
           "Female",
           414233.1569,
           77,
           5
          ],
          [
           1009,
           "Male",
           97263.51748,
           22,
           2
          ],
          [
           1010,
           "Female",
           179271.2332,
           97,
           3
          ],
          [
           1011,
           "Male",
           194016.5771,
           13,
           1
          ],
          [
           1012,
           "Female",
           227536.1384,
           62,
           1
          ],
          [
           1013,
           "Female",
           384549.196,
           64,
           4
          ],
          [
           1014,
           "Female",
           441207.6896,
           29,
           5
          ],
          [
           1015,
           "Male",
           195955.9211,
           53,
           1
          ],
          [
           1016,
           "Male",
           342386.7743,
           36,
           3
          ],
          [
           1017,
           "Female",
           12396.06128,
           18,
           1
          ],
          [
           1018,
           "Male",
           243054.5171,
           49,
           5
          ],
          [
           1019,
           "Male",
           353525.8767,
           75,
           5
          ],
          [
           1020,
           "Female",
           146957.5537,
           84,
           3
          ],
          [
           1021,
           "Male",
           217461.907,
           87,
           2
          ],
          [
           1022,
           "Male",
           466647.6548,
           37,
           1
          ],
          [
           1023,
           "Female",
           36359.20628,
           87,
           3
          ],
          [
           1024,
           "Male",
           227040.4915,
           64,
           5
          ],
          [
           1025,
           "Female",
           183013.7351,
           82,
           1
          ],
          [
           1026,
           "Male",
           496142.1332,
           82,
           2
          ],
          [
           1027,
           "Female",
           304101.4516,
           59,
           3
          ],
          [
           1028,
           "Male",
           15305.84287,
           57,
           1
          ],
          [
           1029,
           "Female",
           90898.14293,
           27,
           4
          ],
          [
           1030,
           "Female",
           372800.2429,
           35,
           2
          ],
          [
           1031,
           "Male",
           186025.496,
           15,
           1
          ],
          [
           1032,
           "Female",
           424172.7786,
           84,
           1
          ],
          [
           1033,
           "Male",
           316975.4388,
           97,
           2
          ],
          [
           1034,
           "Male",
           245271.891,
           4,
           3
          ],
          [
           1035,
           "Female",
           54756.27976,
           48,
           2
          ],
          [
           1036,
           "Female",
           480722.9923,
           30,
           4
          ],
          [
           1037,
           "Female",
           243050.2953,
           93,
           5
          ],
          [
           1038,
           "Female",
           354943.3271,
           77,
           5
          ],
          [
           1039,
           "Female",
           105283.4509,
           97,
           5
          ],
          [
           1040,
           "Female",
           266522.7503,
           78,
           5
          ],
          [
           1041,
           "Female",
           248583.777,
           4,
           5
          ],
          [
           1042,
           "Male",
           35051.23859,
           78,
           1
          ],
          [
           1043,
           "Male",
           279363.0453,
           39,
           1
          ],
          [
           1044,
           "Female",
           498781.9307,
           11,
           3
          ],
          [
           1045,
           "Female",
           288846.6029,
           97,
           4
          ],
          [
           1046,
           "Female",
           348408.8613,
           34,
           3
          ],
          [
           1047,
           "Female",
           516995.9529,
           100,
           1
          ],
          [
           1048,
           "Female",
           54666.06526,
           46,
           5
          ],
          [
           1049,
           "Female",
           69809.65753,
           98,
           2
          ],
          [
           1050,
           "Female",
           371636.6915,
           48,
           2
          ],
          [
           1051,
           "Female",
           238964.9748,
           62,
           3
          ],
          [
           1052,
           "Male",
           299609.0836,
           42,
           1
          ],
          [
           1053,
           "Female",
           361244.6459,
           37,
           3
          ],
          [
           1054,
           "Male",
           187182.7663,
           36,
           5
          ],
          [
           1055,
           "Female",
           513210.2881,
           71,
           3
          ],
          [
           1056,
           "Male",
           258490.1227,
           99,
           4
          ],
          [
           1057,
           "Female",
           443558.7535,
           41,
           1
          ],
          [
           1058,
           "Male",
           121992.2184,
           88,
           1
          ],
          [
           1059,
           "Female",
           129229.7353,
           25,
           5
          ],
          [
           1060,
           "Male",
           351473.4476,
           8,
           1
          ],
          [
           1061,
           "Male",
           365803.058,
           52,
           5
          ],
          [
           1062,
           "Male",
           42277.72636,
           20,
           4
          ],
          [
           1063,
           "Female",
           675461.7357,
           59,
           1
          ],
          [
           1064,
           "Female",
           139008.5462,
           37,
           1
          ],
          [
           1065,
           "Male",
           255913.6516,
           47,
           1
          ],
          [
           1066,
           "Male",
           625214.1659,
           14,
           2
          ],
          [
           1067,
           "Female",
           300855.7861,
           96,
           5
          ],
          [
           1068,
           "Female",
           61533.99547,
           40,
           4
          ],
          [
           1069,
           "Male",
           619650.7261,
           48,
           2
          ],
          [
           1070,
           "Female",
           24160.45218,
           70,
           5
          ],
          [
           1071,
           "Male",
           119798.585,
           37,
           1
          ],
          [
           1072,
           "Female",
           116425.7192,
           12,
           1
          ],
          [
           1073,
           "Female",
           235753.1848,
           100,
           3
          ],
          [
           1074,
           "Female",
           432140.6847,
           18,
           5
          ],
          [
           1075,
           "Male",
           160744.0503,
           59,
           4
          ],
          [
           1076,
           "Male",
           264898.0293,
           68,
           2
          ],
          [
           1077,
           "Female",
           440550.5344,
           87,
           4
          ],
          [
           1078,
           "Male",
           66682.56943,
           19,
           1
          ],
          [
           1079,
           "Female",
           196636.8508,
           9,
           2
          ],
          [
           1080,
           "Female",
           277507.0036,
           39,
           2
          ],
          [
           1081,
           "Male",
           459226.6407,
           32,
           4
          ],
          [
           1082,
           "Male",
           143977.3393,
           56,
           5
          ],
          [
           1083,
           "Male",
           211403.4684,
           78,
           3
          ],
          [
           1084,
           "Female",
           39947.04454,
           57,
           2
          ],
          [
           1085,
           "Female",
           544422.1798,
           11,
           4
          ],
          [
           1086,
           "Male",
           537240.108,
           56,
           5
          ],
          [
           1087,
           "Female",
           542745.9601,
           73,
           1
          ],
          [
           1088,
           "Female",
           560856.4185,
           40,
           2
          ],
          [
           1089,
           "Female",
           497387.3262,
           29,
           4
          ],
          [
           1090,
           "Female",
           125660.3599,
           44,
           4
          ],
          [
           1091,
           "Female",
           77749.71303,
           50,
           4
          ],
          [
           1092,
           "Male",
           316583.7463,
           52,
           3
          ],
          [
           1093,
           "Male",
           252129.1836,
           2,
           3
          ],
          [
           1094,
           "Female",
           527125.1728,
           62,
           5
          ],
          [
           1095,
           "Female",
           341603.312,
           54,
           1
          ],
          [
           1096,
           "Male",
           98951.52835,
           45,
           5
          ],
          [
           1097,
           "Female",
           192009.5051,
           23,
           4
          ],
          [
           1098,
           "Female",
           203632.4332,
           80,
           5
          ],
          [
           1099,
           "Male",
           336327.2596,
           67,
           2
          ],
          [
           1100,
           "Male",
           363044.2299,
           2,
           2
          ],
          [
           1101,
           "Female",
           386949.5256,
           19,
           1
          ],
          [
           1102,
           "Female",
           548611.3616,
           28,
           2
          ],
          [
           1103,
           "Male",
           59873.62527,
           24,
           4
          ],
          [
           1104,
           "Male",
           49566.39,
           38,
           1
          ],
          [
           1105,
           "Male",
           385780.8768,
           59,
           2
          ],
          [
           1106,
           "Female",
           95882.3111,
           54,
           2
          ],
          [
           1107,
           "Female",
           400021.3253,
           51,
           3
          ],
          [
           1108,
           "Male",
           351206.5319,
           79,
           4
          ],
          [
           1109,
           "Male",
           2577.057456,
           37,
           2
          ],
          [
           1110,
           "Male",
           333149.3655,
           72,
           5
          ],
          [
           1111,
           "Male",
           171137.0662,
           12,
           2
          ],
          [
           1112,
           "Female",
           352699.3398,
           78,
           5
          ],
          [
           1113,
           "Female",
           332877.7868,
           40,
           2
          ],
          [
           1114,
           "Male",
           238627.5838,
           15,
           4
          ],
          [
           1115,
           "Female",
           687212.7707,
           100,
           2
          ],
          [
           1116,
           "Female",
           279227.4118,
           25,
           4
          ],
          [
           1117,
           "Female",
           355596.8965,
           10,
           5
          ],
          [
           1118,
           "Female",
           467350.1017,
           10,
           4
          ],
          [
           1119,
           "Female",
           466464.8329,
           90,
           3
          ],
          [
           1120,
           "Female",
           327653.0355,
           8,
           4
          ],
          [
           1121,
           "Male",
           302975.1788,
           70,
           2
          ],
          [
           1122,
           "Female",
           589901.0593,
           76,
           5
          ],
          [
           1123,
           "Female",
           41370.44656,
           13,
           4
          ],
          [
           1124,
           "Male",
           208227.1136,
           87,
           2
          ],
          [
           1125,
           "Female",
           568519.0844,
           6,
           5
          ],
          [
           1126,
           "Female",
           151571.5328,
           46,
           3
          ],
          [
           1127,
           "Male",
           217072.6811,
           35,
           2
          ],
          [
           1128,
           "Male",
           336463.0139,
           89,
           1
          ],
          [
           1129,
           "Male",
           487605.5371,
           100,
           1
          ],
          [
           1130,
           "Male",
           599442.5133,
           71,
           1
          ],
          [
           1131,
           "Male",
           389042.5298,
           50,
           3
          ],
          [
           1132,
           "Male",
           10349.41407,
           22,
           5
          ],
          [
           1133,
           "Female",
           198910.519,
           76,
           4
          ],
          [
           1134,
           "Female",
           405487.9323,
           93,
           3
          ],
          [
           1135,
           "Male",
           221839.2718,
           57,
           5
          ],
          [
           1136,
           "Female",
           260829.7117,
           85,
           4
          ],
          [
           1137,
           "Female",
           133886.4033,
           96,
           3
          ],
          [
           1138,
           "Male",
           82638.67765,
           33,
           1
          ],
          [
           1139,
           "Male",
           380765.8752,
           20,
           5
          ],
          [
           1140,
           "Female",
           101745.5371,
           7,
           2
          ],
          [
           1141,
           "Female",
           341134.7218,
           18,
           1
          ],
          [
           1142,
           "Male",
           274581.2169,
           22,
           1
          ],
          [
           1143,
           "Female",
           212645.6303,
           19,
           2
          ],
          [
           1144,
           "Female",
           281654.8846,
           14,
           3
          ],
          [
           1145,
           "Male",
           98371.75627,
           99,
           5
          ],
          [
           1146,
           "Male",
           213942.2065,
           11,
           5
          ],
          [
           1147,
           "Male",
           5121.652342,
           42,
           4
          ],
          [
           1148,
           "Female",
           142909.4261,
           30,
           4
          ],
          [
           1149,
           "Female",
           651534.3098,
           23,
           1
          ],
          [
           1150,
           "Male",
           365974.3719,
           77,
           3
          ],
          [
           1151,
           "Male",
           355468.056,
           73,
           4
          ],
          [
           1152,
           "Male",
           471770.9203,
           39,
           4
          ],
          [
           1153,
           "Female",
           231493.99,
           94,
           3
          ],
          [
           1154,
           "Female",
           465350.4429,
           58,
           2
          ],
          [
           1155,
           "Female",
           127331.648,
           32,
           1
          ],
          [
           1156,
           "Female",
           671028.1872,
           55,
           5
          ],
          [
           1157,
           "Male",
           163664.207,
           22,
           3
          ],
          [
           1158,
           "Female",
           216758.2928,
           78,
           1
          ],
          [
           1159,
           "Male",
           193910.7081,
           36,
           1
          ],
          [
           1160,
           "Female",
           22643.56036,
           93,
           5
          ],
          [
           1161,
           "Female",
           365100.1564,
           55,
           1
          ],
          [
           1162,
           "Female",
           534470.6945,
           85,
           4
          ],
          [
           1163,
           "Male",
           261938.9818,
           32,
           4
          ],
          [
           1164,
           "Female",
           330757.825,
           87,
           4
          ],
          [
           1165,
           "Male",
           514927.5894,
           9,
           2
          ],
          [
           1166,
           "Female",
           432732.181,
           54,
           2
          ],
          [
           1167,
           "Male",
           695407.0917,
           86,
           1
          ],
          [
           1168,
           "Female",
           285874.988,
           67,
           2
          ],
          [
           1169,
           "Female",
           79113.55318,
           39,
           5
          ],
          [
           1170,
           "Male",
           260043.8576,
           77,
           2
          ],
          [
           1171,
           "Male",
           326077.0029,
           35,
           1
          ],
          [
           1172,
           "Male",
           648085.0454,
           35,
           5
          ],
          [
           1173,
           "Male",
           101571.4983,
           45,
           1
          ],
          [
           1174,
           "Male",
           50434.47117,
           75,
           1
          ],
          [
           1175,
           "Female",
           359566.4986,
           91,
           5
          ],
          [
           1176,
           "Female",
           581177.2116,
           32,
           5
          ],
          [
           1177,
           "Male",
           351979.4379,
           89,
           3
          ],
          [
           1178,
           "Male",
           634980.9806,
           21,
           2
          ],
          [
           1179,
           "Male",
           110492.7388,
           19,
           2
          ],
          [
           1180,
           "Male",
           266781.9511,
           61,
           4
          ],
          [
           1181,
           "Female",
           81891.02639,
           61,
           1
          ],
          [
           1182,
           "Female",
           268234.2246,
           92,
           1
          ],
          [
           1183,
           "Male",
           195930.2286,
           94,
           3
          ],
          [
           1184,
           "Female",
           244212.5455,
           41,
           2
          ],
          [
           1185,
           "Female",
           241845.7525,
           4,
           2
          ],
          [
           1186,
           "Male",
           197295.8156,
           47,
           3
          ],
          [
           1187,
           "Female",
           118255.8374,
           75,
           3
          ],
          [
           1188,
           "Male",
           316199.317,
           11,
           2
          ],
          [
           1189,
           "Female",
           153779.277,
           44,
           2
          ],
          [
           1190,
           "Female",
           243936.1677,
           7,
           4
          ],
          [
           1191,
           "Female",
           103642.4697,
           96,
           4
          ],
          [
           1192,
           "Female",
           115856.0369,
           34,
           5
          ],
          [
           1193,
           "Male",
           451973.2129,
           16,
           1
          ],
          [
           1194,
           "Female",
           192447.8216,
           45,
           1
          ],
          [
           1195,
           "Female",
           630148.5131,
           91,
           2
          ],
          [
           1196,
           "Female",
           317466.4207,
           52,
           4
          ],
          [
           1197,
           "Female",
           323305.5002,
           58,
           1
          ],
          [
           1198,
           "Male",
           109058.5443,
           36,
           2
          ],
          [
           1199,
           "Male",
           160116.893,
           24,
           4
          ],
          [
           1200,
           "Male",
           280081.3901,
           31,
           2
          ]
         ],
         "hovertemplate": "CustomerAge=%{x}<br>CreditScore=%{y}<br>CustomerCity=%{z}<br>CustomerID=%{customdata[0]}<br>CustomerGender=%{customdata[1]}<br>AnnualIncome=%{customdata[2]}<br>SpendingScore=%{customdata[3]}<br>CustomerCityID=%{customdata[4]}<br>lable=%{marker.color}<extra></extra>",
         "legendgroup": "",
         "marker": {
          "color": [
           1,
           1,
           0,
           3,
           3,
           0,
           3,
           0,
           1,
           0,
           1,
           2,
           0,
           0,
           4,
           4,
           3,
           4,
           4,
           0,
           1,
           1,
           2,
           1,
           0,
           1,
           2,
           1,
           3,
           3,
           1,
           0,
           4,
           4,
           2,
           2,
           0,
           0,
           0,
           0,
           3,
           4,
           1,
           3,
           0,
           2,
           0,
           2,
           0,
           0,
           2,
           1,
           3,
           4,
           0,
           4,
           0,
           4,
           3,
           1,
           4,
           4,
           0,
           0,
           1,
           1,
           0,
           3,
           1,
           0,
           4,
           3,
           0,
           2,
           1,
           1,
           2,
           4,
           2,
           2,
           4,
           1,
           4,
           3,
           2,
           1,
           0,
           2,
           3,
           2,
           0,
           1,
           1,
           0,
           2,
           1,
           3,
           0,
           1,
           1,
           3,
           0,
           1,
           1,
           4,
           0,
           2,
           1,
           1,
           1,
           4,
           0,
           0,
           1,
           0,
           3,
           2,
           3,
           0,
           3,
           4,
           0,
           2,
           4,
           2,
           2,
           1,
           4,
           4,
           4,
           1,
           1,
           2,
           0,
           4,
           0,
           0,
           1,
           4,
           2,
           3,
           4,
           3,
           3,
           1,
           1,
           1,
           0,
           2,
           1,
           4,
           1,
           2,
           2,
           2,
           0,
           4,
           0,
           4,
           0,
           0,
           0,
           1,
           0,
           1,
           3,
           4,
           0,
           2,
           4,
           1,
           1,
           4,
           1,
           0,
           0,
           4,
           4,
           4,
           1,
           0,
           0,
           4,
           2,
           3,
           4,
           2,
           4,
           2,
           2,
           0,
           2,
           1,
           0,
           0,
           0,
           0,
           4,
           4,
           4
          ],
          "coloraxis": "coloraxis",
          "symbol": "circle"
         },
         "mode": "markers",
         "name": "",
         "scene": "scene",
         "showlegend": false,
         "type": "scatter3d",
         "x": [
          49,
          59,
          54,
          42,
          30,
          38,
          45,
          23,
          59,
          48,
          55,
          73,
          54,
          34,
          54,
          53,
          23,
          30,
          37,
          52,
          39,
          38,
          71,
          31,
          42,
          65,
          65,
          33,
          29,
          24,
          59,
          40,
          52,
          47,
          66,
          62,
          73,
          23,
          45,
          43,
          21,
          45,
          54,
          22,
          26,
          72,
          29,
          65,
          34,
          26,
          66,
          50,
          33,
          47,
          59,
          52,
          55,
          74,
          32,
          31,
          25,
          75,
          39,
          46,
          29,
          34,
          54,
          36,
          52,
          28,
          18,
          45,
          48,
          50,
          43,
          27,
          68,
          67,
          59,
          74,
          62,
          45,
          33,
          20,
          61,
          32,
          49,
          66,
          36,
          55,
          35,
          22,
          59,
          21,
          74,
          51,
          22,
          35,
          47,
          66,
          20,
          58,
          42,
          27,
          63,
          28,
          48,
          63,
          45,
          22,
          70,
          65,
          41,
          56,
          51,
          33,
          69,
          21,
          40,
          19,
          62,
          38,
          49,
          30,
          62,
          58,
          73,
          66,
          71,
          54,
          53,
          34,
          41,
          47,
          26,
          30,
          55,
          43,
          50,
          61,
          37,
          29,
          26,
          22,
          56,
          70,
          38,
          37,
          62,
          19,
          46,
          50,
          48,
          53,
          70,
          60,
          37,
          57,
          66,
          27,
          21,
          22,
          18,
          18,
          38,
          23,
          21,
          44,
          72,
          63,
          50,
          56,
          59,
          44,
          20,
          33,
          49,
          22,
          64,
          31,
          53,
          23,
          26,
          63,
          43,
          62,
          74,
          66,
          45,
          62,
          61,
          47,
          74,
          48,
          48,
          54,
          20,
          44,
          28,
          41
         ],
         "y": [
          653,
          630,
          555,
          699,
          793,
          635,
          881,
          852,
          708,
          669,
          618,
          614,
          711,
          629,
          764,
          880,
          729,
          803,
          817,
          774,
          672,
          691,
          669,
          555,
          778,
          623,
          782,
          588,
          684,
          698,
          562,
          774,
          777,
          769,
          755,
          789,
          575,
          850,
          715,
          639,
          817,
          731,
          704,
          712,
          713,
          874,
          751,
          761,
          633,
          632,
          763,
          701,
          784,
          854,
          692,
          751,
          648,
          865,
          863,
          622,
          817,
          868,
          849,
          565,
          665,
          632,
          670,
          736,
          687,
          561,
          892,
          724,
          583,
          760,
          555,
          712,
          880,
          873,
          715,
          897,
          801,
          600,
          768,
          807,
          626,
          654,
          742,
          738,
          805,
          808,
          625,
          695,
          656,
          678,
          859,
          616,
          861,
          814,
          616,
          653,
          575,
          576,
          575,
          666,
          876,
          568,
          849,
          564,
          654,
          565,
          782,
          667,
          593,
          606,
          553,
          827,
          559,
          806,
          620,
          857,
          804,
          858,
          695,
          800,
          624,
          767,
          630,
          808,
          790,
          726,
          624,
          746,
          895,
          781,
          868,
          894,
          707,
          552,
          842,
          567,
          636,
          756,
          894,
          887,
          647,
          657,
          607,
          637,
          884,
          551,
          892,
          616,
          886,
          868,
          669,
          605,
          854,
          742,
          803,
          707,
          633,
          827,
          742,
          586,
          581,
          786,
          718,
          755,
          836,
          725,
          573,
          605,
          890,
          657,
          779,
          666,
          779,
          844,
          733,
          571,
          601,
          701,
          838,
          573,
          896,
          824,
          615,
          770,
          831,
          676,
          559,
          784,
          608,
          568,
          833,
          601,
          554,
          844,
          837,
          789
         ],
         "z": [
          "Bengaluru",
          "Bengaluru",
          "Delhi",
          "Bengaluru",
          "Bengaluru",
          "Chennai",
          "Chennai",
          "Mumbai",
          "Chennai",
          "Kolkata",
          "Bengaluru",
          "Bengaluru",
          "Delhi",
          "Mumbai",
          "Bengaluru",
          "Kolkata",
          "Bengaluru",
          "Mumbai",
          "Mumbai",
          "Kolkata",
          "Chennai",
          "Bengaluru",
          "Kolkata",
          "Mumbai",
          "Bengaluru",
          "Chennai",
          "Kolkata",
          "Bengaluru",
          "Delhi",
          "Chennai",
          "Bengaluru",
          "Bengaluru",
          "Chennai",
          "Kolkata",
          "Chennai",
          "Delhi",
          "Mumbai",
          "Mumbai",
          "Mumbai",
          "Mumbai",
          "Mumbai",
          "Bengaluru",
          "Bengaluru",
          "Kolkata",
          "Delhi",
          "Kolkata",
          "Bengaluru",
          "Mumbai",
          "Chennai",
          "Chennai",
          "Kolkata",
          "Bengaluru",
          "Kolkata",
          "Mumbai",
          "Kolkata",
          "Delhi",
          "Bengaluru",
          "Bengaluru",
          "Mumbai",
          "Bengaluru",
          "Mumbai",
          "Delhi",
          "Bengaluru",
          "Bengaluru",
          "Bengaluru",
          "Chennai",
          "Mumbai",
          "Delhi",
          "Chennai",
          "Mumbai",
          "Bengaluru",
          "Bengaluru",
          "Kolkata",
          "Mumbai",
          "Delhi",
          "Chennai",
          "Delhi",
          "Bengaluru",
          "Chennai",
          "Chennai",
          "Delhi",
          "Mumbai",
          "Kolkata",
          "Chennai",
          "Delhi",
          "Mumbai",
          "Bengaluru",
          "Chennai",
          "Delhi",
          "Delhi",
          "Delhi",
          "Kolkata",
          "Kolkata",
          "Mumbai",
          "Bengaluru",
          "Mumbai",
          "Delhi",
          "Mumbai",
          "Chennai",
          "Chennai",
          "Bengaluru",
          "Chennai",
          "Delhi",
          "Bengaluru",
          "Chennai",
          "Chennai",
          "Kolkata",
          "Delhi",
          "Chennai",
          "Mumbai",
          "Chennai",
          "Mumbai",
          "Chennai",
          "Delhi",
          "Chennai",
          "Delhi",
          "Mumbai",
          "Delhi",
          "Kolkata",
          "Delhi",
          "Chennai",
          "Mumbai",
          "Delhi",
          "Chennai",
          "Mumbai",
          "Kolkata",
          "Chennai",
          "Bengaluru",
          "Bengaluru",
          "Bengaluru",
          "Kolkata",
          "Mumbai",
          "Delhi",
          "Kolkata",
          "Mumbai",
          "Delhi",
          "Kolkata",
          "Bengaluru",
          "Mumbai",
          "Chennai",
          "Bengaluru",
          "Bengaluru",
          "Chennai",
          "Kolkata",
          "Mumbai",
          "Mumbai",
          "Delhi",
          "Delhi",
          "Bengaluru",
          "Kolkata",
          "Delhi",
          "Delhi",
          "Kolkata",
          "Chennai",
          "Bengaluru",
          "Mumbai",
          "Kolkata",
          "Bengaluru",
          "Bengaluru",
          "Mumbai",
          "Bengaluru",
          "Delhi",
          "Delhi",
          "Delhi",
          "Chennai",
          "Chennai",
          "Bengaluru",
          "Chennai",
          "Mumbai",
          "Chennai",
          "Bengaluru",
          "Mumbai",
          "Bengaluru",
          "Bengaluru",
          "Mumbai",
          "Mumbai",
          "Kolkata",
          "Chennai",
          "Chennai",
          "Delhi",
          "Bengaluru",
          "Bengaluru",
          "Kolkata",
          "Chennai",
          "Chennai",
          "Kolkata",
          "Kolkata",
          "Chennai",
          "Chennai",
          "Delhi",
          "Delhi",
          "Mumbai",
          "Bengaluru",
          "Bengaluru",
          "Chennai",
          "Delhi",
          "Bengaluru",
          "Chennai",
          "Delhi",
          "Chennai"
         ]
        }
       ],
       "layout": {
        "coloraxis": {
         "colorbar": {
          "title": {
           "text": "lable"
          }
         },
         "colorscale": [
          [
           0,
           "#0d0887"
          ],
          [
           0.1111111111111111,
           "#46039f"
          ],
          [
           0.2222222222222222,
           "#7201a8"
          ],
          [
           0.3333333333333333,
           "#9c179e"
          ],
          [
           0.4444444444444444,
           "#bd3786"
          ],
          [
           0.5555555555555556,
           "#d8576b"
          ],
          [
           0.6666666666666666,
           "#ed7953"
          ],
          [
           0.7777777777777778,
           "#fb9f3a"
          ],
          [
           0.8888888888888888,
           "#fdca26"
          ],
          [
           1,
           "#f0f921"
          ]
         ]
        },
        "legend": {
         "tracegroupgap": 0
        },
        "margin": {
         "t": 60
        },
        "scene": {
         "domain": {
          "x": [
           0,
           1
          ],
          "y": [
           0,
           1
          ]
         },
         "xaxis": {
          "title": {
           "text": "CustomerAge"
          }
         },
         "yaxis": {
          "title": {
           "text": "CreditScore"
          }
         },
         "zaxis": {
          "title": {
           "text": "CustomerCity"
          }
         }
        },
        "template": {
         "data": {
          "bar": [
           {
            "error_x": {
             "color": "#2a3f5f"
            },
            "error_y": {
             "color": "#2a3f5f"
            },
            "marker": {
             "line": {
              "color": "#E5ECF6",
              "width": 0.5
             },
             "pattern": {
              "fillmode": "overlay",
              "size": 10,
              "solidity": 0.2
             }
            },
            "type": "bar"
           }
          ],
          "barpolar": [
           {
            "marker": {
             "line": {
              "color": "#E5ECF6",
              "width": 0.5
             },
             "pattern": {
              "fillmode": "overlay",
              "size": 10,
              "solidity": 0.2
             }
            },
            "type": "barpolar"
           }
          ],
          "carpet": [
           {
            "aaxis": {
             "endlinecolor": "#2a3f5f",
             "gridcolor": "white",
             "linecolor": "white",
             "minorgridcolor": "white",
             "startlinecolor": "#2a3f5f"
            },
            "baxis": {
             "endlinecolor": "#2a3f5f",
             "gridcolor": "white",
             "linecolor": "white",
             "minorgridcolor": "white",
             "startlinecolor": "#2a3f5f"
            },
            "type": "carpet"
           }
          ],
          "choropleth": [
           {
            "colorbar": {
             "outlinewidth": 0,
             "ticks": ""
            },
            "type": "choropleth"
           }
          ],
          "contour": [
           {
            "colorbar": {
             "outlinewidth": 0,
             "ticks": ""
            },
            "colorscale": [
             [
              0,
              "#0d0887"
             ],
             [
              0.1111111111111111,
              "#46039f"
             ],
             [
              0.2222222222222222,
              "#7201a8"
             ],
             [
              0.3333333333333333,
              "#9c179e"
             ],
             [
              0.4444444444444444,
              "#bd3786"
             ],
             [
              0.5555555555555556,
              "#d8576b"
             ],
             [
              0.6666666666666666,
              "#ed7953"
             ],
             [
              0.7777777777777778,
              "#fb9f3a"
             ],
             [
              0.8888888888888888,
              "#fdca26"
             ],
             [
              1,
              "#f0f921"
             ]
            ],
            "type": "contour"
           }
          ],
          "contourcarpet": [
           {
            "colorbar": {
             "outlinewidth": 0,
             "ticks": ""
            },
            "type": "contourcarpet"
           }
          ],
          "heatmap": [
           {
            "colorbar": {
             "outlinewidth": 0,
             "ticks": ""
            },
            "colorscale": [
             [
              0,
              "#0d0887"
             ],
             [
              0.1111111111111111,
              "#46039f"
             ],
             [
              0.2222222222222222,
              "#7201a8"
             ],
             [
              0.3333333333333333,
              "#9c179e"
             ],
             [
              0.4444444444444444,
              "#bd3786"
             ],
             [
              0.5555555555555556,
              "#d8576b"
             ],
             [
              0.6666666666666666,
              "#ed7953"
             ],
             [
              0.7777777777777778,
              "#fb9f3a"
             ],
             [
              0.8888888888888888,
              "#fdca26"
             ],
             [
              1,
              "#f0f921"
             ]
            ],
            "type": "heatmap"
           }
          ],
          "heatmapgl": [
           {
            "colorbar": {
             "outlinewidth": 0,
             "ticks": ""
            },
            "colorscale": [
             [
              0,
              "#0d0887"
             ],
             [
              0.1111111111111111,
              "#46039f"
             ],
             [
              0.2222222222222222,
              "#7201a8"
             ],
             [
              0.3333333333333333,
              "#9c179e"
             ],
             [
              0.4444444444444444,
              "#bd3786"
             ],
             [
              0.5555555555555556,
              "#d8576b"
             ],
             [
              0.6666666666666666,
              "#ed7953"
             ],
             [
              0.7777777777777778,
              "#fb9f3a"
             ],
             [
              0.8888888888888888,
              "#fdca26"
             ],
             [
              1,
              "#f0f921"
             ]
            ],
            "type": "heatmapgl"
           }
          ],
          "histogram": [
           {
            "marker": {
             "pattern": {
              "fillmode": "overlay",
              "size": 10,
              "solidity": 0.2
             }
            },
            "type": "histogram"
           }
          ],
          "histogram2d": [
           {
            "colorbar": {
             "outlinewidth": 0,
             "ticks": ""
            },
            "colorscale": [
             [
              0,
              "#0d0887"
             ],
             [
              0.1111111111111111,
              "#46039f"
             ],
             [
              0.2222222222222222,
              "#7201a8"
             ],
             [
              0.3333333333333333,
              "#9c179e"
             ],
             [
              0.4444444444444444,
              "#bd3786"
             ],
             [
              0.5555555555555556,
              "#d8576b"
             ],
             [
              0.6666666666666666,
              "#ed7953"
             ],
             [
              0.7777777777777778,
              "#fb9f3a"
             ],
             [
              0.8888888888888888,
              "#fdca26"
             ],
             [
              1,
              "#f0f921"
             ]
            ],
            "type": "histogram2d"
           }
          ],
          "histogram2dcontour": [
           {
            "colorbar": {
             "outlinewidth": 0,
             "ticks": ""
            },
            "colorscale": [
             [
              0,
              "#0d0887"
             ],
             [
              0.1111111111111111,
              "#46039f"
             ],
             [
              0.2222222222222222,
              "#7201a8"
             ],
             [
              0.3333333333333333,
              "#9c179e"
             ],
             [
              0.4444444444444444,
              "#bd3786"
             ],
             [
              0.5555555555555556,
              "#d8576b"
             ],
             [
              0.6666666666666666,
              "#ed7953"
             ],
             [
              0.7777777777777778,
              "#fb9f3a"
             ],
             [
              0.8888888888888888,
              "#fdca26"
             ],
             [
              1,
              "#f0f921"
             ]
            ],
            "type": "histogram2dcontour"
           }
          ],
          "mesh3d": [
           {
            "colorbar": {
             "outlinewidth": 0,
             "ticks": ""
            },
            "type": "mesh3d"
           }
          ],
          "parcoords": [
           {
            "line": {
             "colorbar": {
              "outlinewidth": 0,
              "ticks": ""
             }
            },
            "type": "parcoords"
           }
          ],
          "pie": [
           {
            "automargin": true,
            "type": "pie"
           }
          ],
          "scatter": [
           {
            "marker": {
             "colorbar": {
              "outlinewidth": 0,
              "ticks": ""
             }
            },
            "type": "scatter"
           }
          ],
          "scatter3d": [
           {
            "line": {
             "colorbar": {
              "outlinewidth": 0,
              "ticks": ""
             }
            },
            "marker": {
             "colorbar": {
              "outlinewidth": 0,
              "ticks": ""
             }
            },
            "type": "scatter3d"
           }
          ],
          "scattercarpet": [
           {
            "marker": {
             "colorbar": {
              "outlinewidth": 0,
              "ticks": ""
             }
            },
            "type": "scattercarpet"
           }
          ],
          "scattergeo": [
           {
            "marker": {
             "colorbar": {
              "outlinewidth": 0,
              "ticks": ""
             }
            },
            "type": "scattergeo"
           }
          ],
          "scattergl": [
           {
            "marker": {
             "colorbar": {
              "outlinewidth": 0,
              "ticks": ""
             }
            },
            "type": "scattergl"
           }
          ],
          "scattermapbox": [
           {
            "marker": {
             "colorbar": {
              "outlinewidth": 0,
              "ticks": ""
             }
            },
            "type": "scattermapbox"
           }
          ],
          "scatterpolar": [
           {
            "marker": {
             "colorbar": {
              "outlinewidth": 0,
              "ticks": ""
             }
            },
            "type": "scatterpolar"
           }
          ],
          "scatterpolargl": [
           {
            "marker": {
             "colorbar": {
              "outlinewidth": 0,
              "ticks": ""
             }
            },
            "type": "scatterpolargl"
           }
          ],
          "scatterternary": [
           {
            "marker": {
             "colorbar": {
              "outlinewidth": 0,
              "ticks": ""
             }
            },
            "type": "scatterternary"
           }
          ],
          "surface": [
           {
            "colorbar": {
             "outlinewidth": 0,
             "ticks": ""
            },
            "colorscale": [
             [
              0,
              "#0d0887"
             ],
             [
              0.1111111111111111,
              "#46039f"
             ],
             [
              0.2222222222222222,
              "#7201a8"
             ],
             [
              0.3333333333333333,
              "#9c179e"
             ],
             [
              0.4444444444444444,
              "#bd3786"
             ],
             [
              0.5555555555555556,
              "#d8576b"
             ],
             [
              0.6666666666666666,
              "#ed7953"
             ],
             [
              0.7777777777777778,
              "#fb9f3a"
             ],
             [
              0.8888888888888888,
              "#fdca26"
             ],
             [
              1,
              "#f0f921"
             ]
            ],
            "type": "surface"
           }
          ],
          "table": [
           {
            "cells": {
             "fill": {
              "color": "#EBF0F8"
             },
             "line": {
              "color": "white"
             }
            },
            "header": {
             "fill": {
              "color": "#C8D4E3"
             },
             "line": {
              "color": "white"
             }
            },
            "type": "table"
           }
          ]
         },
         "layout": {
          "annotationdefaults": {
           "arrowcolor": "#2a3f5f",
           "arrowhead": 0,
           "arrowwidth": 1
          },
          "autotypenumbers": "strict",
          "coloraxis": {
           "colorbar": {
            "outlinewidth": 0,
            "ticks": ""
           }
          },
          "colorscale": {
           "diverging": [
            [
             0,
             "#8e0152"
            ],
            [
             0.1,
             "#c51b7d"
            ],
            [
             0.2,
             "#de77ae"
            ],
            [
             0.3,
             "#f1b6da"
            ],
            [
             0.4,
             "#fde0ef"
            ],
            [
             0.5,
             "#f7f7f7"
            ],
            [
             0.6,
             "#e6f5d0"
            ],
            [
             0.7,
             "#b8e186"
            ],
            [
             0.8,
             "#7fbc41"
            ],
            [
             0.9,
             "#4d9221"
            ],
            [
             1,
             "#276419"
            ]
           ],
           "sequential": [
            [
             0,
             "#0d0887"
            ],
            [
             0.1111111111111111,
             "#46039f"
            ],
            [
             0.2222222222222222,
             "#7201a8"
            ],
            [
             0.3333333333333333,
             "#9c179e"
            ],
            [
             0.4444444444444444,
             "#bd3786"
            ],
            [
             0.5555555555555556,
             "#d8576b"
            ],
            [
             0.6666666666666666,
             "#ed7953"
            ],
            [
             0.7777777777777778,
             "#fb9f3a"
            ],
            [
             0.8888888888888888,
             "#fdca26"
            ],
            [
             1,
             "#f0f921"
            ]
           ],
           "sequentialminus": [
            [
             0,
             "#0d0887"
            ],
            [
             0.1111111111111111,
             "#46039f"
            ],
            [
             0.2222222222222222,
             "#7201a8"
            ],
            [
             0.3333333333333333,
             "#9c179e"
            ],
            [
             0.4444444444444444,
             "#bd3786"
            ],
            [
             0.5555555555555556,
             "#d8576b"
            ],
            [
             0.6666666666666666,
             "#ed7953"
            ],
            [
             0.7777777777777778,
             "#fb9f3a"
            ],
            [
             0.8888888888888888,
             "#fdca26"
            ],
            [
             1,
             "#f0f921"
            ]
           ]
          },
          "colorway": [
           "#636efa",
           "#EF553B",
           "#00cc96",
           "#ab63fa",
           "#FFA15A",
           "#19d3f3",
           "#FF6692",
           "#B6E880",
           "#FF97FF",
           "#FECB52"
          ],
          "font": {
           "color": "#2a3f5f"
          },
          "geo": {
           "bgcolor": "white",
           "lakecolor": "white",
           "landcolor": "#E5ECF6",
           "showlakes": true,
           "showland": true,
           "subunitcolor": "white"
          },
          "hoverlabel": {
           "align": "left"
          },
          "hovermode": "closest",
          "mapbox": {
           "style": "light"
          },
          "paper_bgcolor": "white",
          "plot_bgcolor": "#E5ECF6",
          "polar": {
           "angularaxis": {
            "gridcolor": "white",
            "linecolor": "white",
            "ticks": ""
           },
           "bgcolor": "#E5ECF6",
           "radialaxis": {
            "gridcolor": "white",
            "linecolor": "white",
            "ticks": ""
           }
          },
          "scene": {
           "xaxis": {
            "backgroundcolor": "#E5ECF6",
            "gridcolor": "white",
            "gridwidth": 2,
            "linecolor": "white",
            "showbackground": true,
            "ticks": "",
            "zerolinecolor": "white"
           },
           "yaxis": {
            "backgroundcolor": "#E5ECF6",
            "gridcolor": "white",
            "gridwidth": 2,
            "linecolor": "white",
            "showbackground": true,
            "ticks": "",
            "zerolinecolor": "white"
           },
           "zaxis": {
            "backgroundcolor": "#E5ECF6",
            "gridcolor": "white",
            "gridwidth": 2,
            "linecolor": "white",
            "showbackground": true,
            "ticks": "",
            "zerolinecolor": "white"
           }
          },
          "shapedefaults": {
           "line": {
            "color": "#2a3f5f"
           }
          },
          "ternary": {
           "aaxis": {
            "gridcolor": "white",
            "linecolor": "white",
            "ticks": ""
           },
           "baxis": {
            "gridcolor": "white",
            "linecolor": "white",
            "ticks": ""
           },
           "bgcolor": "#E5ECF6",
           "caxis": {
            "gridcolor": "white",
            "linecolor": "white",
            "ticks": ""
           }
          },
          "title": {
           "x": 0.05
          },
          "xaxis": {
           "automargin": true,
           "gridcolor": "white",
           "linecolor": "white",
           "ticks": "",
           "title": {
            "standoff": 15
           },
           "zerolinecolor": "white",
           "zerolinewidth": 2
          },
          "yaxis": {
           "automargin": true,
           "gridcolor": "white",
           "linecolor": "white",
           "ticks": "",
           "title": {
            "standoff": 15
           },
           "zerolinecolor": "white",
           "zerolinewidth": 2
          }
         }
        }
       }
      },
      "text/html": [
       "<div>                            <div id=\"6d66415f-fdb6-4d4f-8a54-f149fb5a4d02\" class=\"plotly-graph-div\" style=\"height:525px; width:100%;\"></div>            <script type=\"text/javascript\">                require([\"plotly\"], function(Plotly) {                    window.PLOTLYENV=window.PLOTLYENV || {};                                    if (document.getElementById(\"6d66415f-fdb6-4d4f-8a54-f149fb5a4d02\")) {                    Plotly.newPlot(                        \"6d66415f-fdb6-4d4f-8a54-f149fb5a4d02\",                        [{\"customdata\":[[1001,\"Male\",527547.5885,78,1],[1002,\"Male\",207143.1976,63,1],[1003,\"Female\",164423.8457,69,4],[1004,\"Female\",56220.36443,30,1],[1005,\"Female\",256194.3619,6,1],[1006,\"Female\",475324.8903,97,2],[1007,\"Female\",186352.3482,2,2],[1008,\"Female\",414233.1569,77,5],[1009,\"Male\",97263.51748,22,2],[1010,\"Female\",179271.2332,97,3],[1011,\"Male\",194016.5771,13,1],[1012,\"Female\",227536.1384,62,1],[1013,\"Female\",384549.196,64,4],[1014,\"Female\",441207.6896,29,5],[1015,\"Male\",195955.9211,53,1],[1016,\"Male\",342386.7743,36,3],[1017,\"Female\",12396.06128,18,1],[1018,\"Male\",243054.5171,49,5],[1019,\"Male\",353525.8767,75,5],[1020,\"Female\",146957.5537,84,3],[1021,\"Male\",217461.907,87,2],[1022,\"Male\",466647.6548,37,1],[1023,\"Female\",36359.20628,87,3],[1024,\"Male\",227040.4915,64,5],[1025,\"Female\",183013.7351,82,1],[1026,\"Male\",496142.1332,82,2],[1027,\"Female\",304101.4516,59,3],[1028,\"Male\",15305.84287,57,1],[1029,\"Female\",90898.14293,27,4],[1030,\"Female\",372800.2429,35,2],[1031,\"Male\",186025.496,15,1],[1032,\"Female\",424172.7786,84,1],[1033,\"Male\",316975.4388,97,2],[1034,\"Male\",245271.891,4,3],[1035,\"Female\",54756.27976,48,2],[1036,\"Female\",480722.9923,30,4],[1037,\"Female\",243050.2953,93,5],[1038,\"Female\",354943.3271,77,5],[1039,\"Female\",105283.4509,97,5],[1040,\"Female\",266522.7503,78,5],[1041,\"Female\",248583.777,4,5],[1042,\"Male\",35051.23859,78,1],[1043,\"Male\",279363.0453,39,1],[1044,\"Female\",498781.9307,11,3],[1045,\"Female\",288846.6029,97,4],[1046,\"Female\",348408.8613,34,3],[1047,\"Female\",516995.9529,100,1],[1048,\"Female\",54666.06526,46,5],[1049,\"Female\",69809.65753,98,2],[1050,\"Female\",371636.6915,48,2],[1051,\"Female\",238964.9748,62,3],[1052,\"Male\",299609.0836,42,1],[1053,\"Female\",361244.6459,37,3],[1054,\"Male\",187182.7663,36,5],[1055,\"Female\",513210.2881,71,3],[1056,\"Male\",258490.1227,99,4],[1057,\"Female\",443558.7535,41,1],[1058,\"Male\",121992.2184,88,1],[1059,\"Female\",129229.7353,25,5],[1060,\"Male\",351473.4476,8,1],[1061,\"Male\",365803.058,52,5],[1062,\"Male\",42277.72636,20,4],[1063,\"Female\",675461.7357,59,1],[1064,\"Female\",139008.5462,37,1],[1065,\"Male\",255913.6516,47,1],[1066,\"Male\",625214.1659,14,2],[1067,\"Female\",300855.7861,96,5],[1068,\"Female\",61533.99547,40,4],[1069,\"Male\",619650.7261,48,2],[1070,\"Female\",24160.45218,70,5],[1071,\"Male\",119798.585,37,1],[1072,\"Female\",116425.7192,12,1],[1073,\"Female\",235753.1848,100,3],[1074,\"Female\",432140.6847,18,5],[1075,\"Male\",160744.0503,59,4],[1076,\"Male\",264898.0293,68,2],[1077,\"Female\",440550.5344,87,4],[1078,\"Male\",66682.56943,19,1],[1079,\"Female\",196636.8508,9,2],[1080,\"Female\",277507.0036,39,2],[1081,\"Male\",459226.6407,32,4],[1082,\"Male\",143977.3393,56,5],[1083,\"Male\",211403.4684,78,3],[1084,\"Female\",39947.04454,57,2],[1085,\"Female\",544422.1798,11,4],[1086,\"Male\",537240.108,56,5],[1087,\"Female\",542745.9601,73,1],[1088,\"Female\",560856.4185,40,2],[1089,\"Female\",497387.3262,29,4],[1090,\"Female\",125660.3599,44,4],[1091,\"Female\",77749.71303,50,4],[1092,\"Male\",316583.7463,52,3],[1093,\"Male\",252129.1836,2,3],[1094,\"Female\",527125.1728,62,5],[1095,\"Female\",341603.312,54,1],[1096,\"Male\",98951.52835,45,5],[1097,\"Female\",192009.5051,23,4],[1098,\"Female\",203632.4332,80,5],[1099,\"Male\",336327.2596,67,2],[1100,\"Male\",363044.2299,2,2],[1101,\"Female\",386949.5256,19,1],[1102,\"Female\",548611.3616,28,2],[1103,\"Male\",59873.62527,24,4],[1104,\"Male\",49566.39,38,1],[1105,\"Male\",385780.8768,59,2],[1106,\"Female\",95882.3111,54,2],[1107,\"Female\",400021.3253,51,3],[1108,\"Male\",351206.5319,79,4],[1109,\"Male\",2577.057456,37,2],[1110,\"Male\",333149.3655,72,5],[1111,\"Male\",171137.0662,12,2],[1112,\"Female\",352699.3398,78,5],[1113,\"Female\",332877.7868,40,2],[1114,\"Male\",238627.5838,15,4],[1115,\"Female\",687212.7707,100,2],[1116,\"Female\",279227.4118,25,4],[1117,\"Female\",355596.8965,10,5],[1118,\"Female\",467350.1017,10,4],[1119,\"Female\",466464.8329,90,3],[1120,\"Female\",327653.0355,8,4],[1121,\"Male\",302975.1788,70,2],[1122,\"Female\",589901.0593,76,5],[1123,\"Female\",41370.44656,13,4],[1124,\"Male\",208227.1136,87,2],[1125,\"Female\",568519.0844,6,5],[1126,\"Female\",151571.5328,46,3],[1127,\"Male\",217072.6811,35,2],[1128,\"Male\",336463.0139,89,1],[1129,\"Male\",487605.5371,100,1],[1130,\"Male\",599442.5133,71,1],[1131,\"Male\",389042.5298,50,3],[1132,\"Male\",10349.41407,22,5],[1133,\"Female\",198910.519,76,4],[1134,\"Female\",405487.9323,93,3],[1135,\"Male\",221839.2718,57,5],[1136,\"Female\",260829.7117,85,4],[1137,\"Female\",133886.4033,96,3],[1138,\"Male\",82638.67765,33,1],[1139,\"Male\",380765.8752,20,5],[1140,\"Female\",101745.5371,7,2],[1141,\"Female\",341134.7218,18,1],[1142,\"Male\",274581.2169,22,1],[1143,\"Female\",212645.6303,19,2],[1144,\"Female\",281654.8846,14,3],[1145,\"Male\",98371.75627,99,5],[1146,\"Male\",213942.2065,11,5],[1147,\"Male\",5121.652342,42,4],[1148,\"Female\",142909.4261,30,4],[1149,\"Female\",651534.3098,23,1],[1150,\"Male\",365974.3719,77,3],[1151,\"Male\",355468.056,73,4],[1152,\"Male\",471770.9203,39,4],[1153,\"Female\",231493.99,94,3],[1154,\"Female\",465350.4429,58,2],[1155,\"Female\",127331.648,32,1],[1156,\"Female\",671028.1872,55,5],[1157,\"Male\",163664.207,22,3],[1158,\"Female\",216758.2928,78,1],[1159,\"Male\",193910.7081,36,1],[1160,\"Female\",22643.56036,93,5],[1161,\"Female\",365100.1564,55,1],[1162,\"Female\",534470.6945,85,4],[1163,\"Male\",261938.9818,32,4],[1164,\"Female\",330757.825,87,4],[1165,\"Male\",514927.5894,9,2],[1166,\"Female\",432732.181,54,2],[1167,\"Male\",695407.0917,86,1],[1168,\"Female\",285874.988,67,2],[1169,\"Female\",79113.55318,39,5],[1170,\"Male\",260043.8576,77,2],[1171,\"Male\",326077.0029,35,1],[1172,\"Male\",648085.0454,35,5],[1173,\"Male\",101571.4983,45,1],[1174,\"Male\",50434.47117,75,1],[1175,\"Female\",359566.4986,91,5],[1176,\"Female\",581177.2116,32,5],[1177,\"Male\",351979.4379,89,3],[1178,\"Male\",634980.9806,21,2],[1179,\"Male\",110492.7388,19,2],[1180,\"Male\",266781.9511,61,4],[1181,\"Female\",81891.02639,61,1],[1182,\"Female\",268234.2246,92,1],[1183,\"Male\",195930.2286,94,3],[1184,\"Female\",244212.5455,41,2],[1185,\"Female\",241845.7525,4,2],[1186,\"Male\",197295.8156,47,3],[1187,\"Female\",118255.8374,75,3],[1188,\"Male\",316199.317,11,2],[1189,\"Female\",153779.277,44,2],[1190,\"Female\",243936.1677,7,4],[1191,\"Female\",103642.4697,96,4],[1192,\"Female\",115856.0369,34,5],[1193,\"Male\",451973.2129,16,1],[1194,\"Female\",192447.8216,45,1],[1195,\"Female\",630148.5131,91,2],[1196,\"Female\",317466.4207,52,4],[1197,\"Female\",323305.5002,58,1],[1198,\"Male\",109058.5443,36,2],[1199,\"Male\",160116.893,24,4],[1200,\"Male\",280081.3901,31,2]],\"hovertemplate\":\"CustomerAge=%{x}<br>CreditScore=%{y}<br>CustomerCity=%{z}<br>CustomerID=%{customdata[0]}<br>CustomerGender=%{customdata[1]}<br>AnnualIncome=%{customdata[2]}<br>SpendingScore=%{customdata[3]}<br>CustomerCityID=%{customdata[4]}<br>lable=%{marker.color}<extra></extra>\",\"legendgroup\":\"\",\"marker\":{\"color\":[1,1,0,3,3,0,3,0,1,0,1,2,0,0,4,4,3,4,4,0,1,1,2,1,0,1,2,1,3,3,1,0,4,4,2,2,0,0,0,0,3,4,1,3,0,2,0,2,0,0,2,1,3,4,0,4,0,4,3,1,4,4,0,0,1,1,0,3,1,0,4,3,0,2,1,1,2,4,2,2,4,1,4,3,2,1,0,2,3,2,0,1,1,0,2,1,3,0,1,1,3,0,1,1,4,0,2,1,1,1,4,0,0,1,0,3,2,3,0,3,4,0,2,4,2,2,1,4,4,4,1,1,2,0,4,0,0,1,4,2,3,4,3,3,1,1,1,0,2,1,4,1,2,2,2,0,4,0,4,0,0,0,1,0,1,3,4,0,2,4,1,1,4,1,0,0,4,4,4,1,0,0,4,2,3,4,2,4,2,2,0,2,1,0,0,0,0,4,4,4],\"coloraxis\":\"coloraxis\",\"symbol\":\"circle\"},\"mode\":\"markers\",\"name\":\"\",\"scene\":\"scene\",\"showlegend\":false,\"x\":[49,59,54,42,30,38,45,23,59,48,55,73,54,34,54,53,23,30,37,52,39,38,71,31,42,65,65,33,29,24,59,40,52,47,66,62,73,23,45,43,21,45,54,22,26,72,29,65,34,26,66,50,33,47,59,52,55,74,32,31,25,75,39,46,29,34,54,36,52,28,18,45,48,50,43,27,68,67,59,74,62,45,33,20,61,32,49,66,36,55,35,22,59,21,74,51,22,35,47,66,20,58,42,27,63,28,48,63,45,22,70,65,41,56,51,33,69,21,40,19,62,38,49,30,62,58,73,66,71,54,53,34,41,47,26,30,55,43,50,61,37,29,26,22,56,70,38,37,62,19,46,50,48,53,70,60,37,57,66,27,21,22,18,18,38,23,21,44,72,63,50,56,59,44,20,33,49,22,64,31,53,23,26,63,43,62,74,66,45,62,61,47,74,48,48,54,20,44,28,41],\"y\":[653,630,555,699,793,635,881,852,708,669,618,614,711,629,764,880,729,803,817,774,672,691,669,555,778,623,782,588,684,698,562,774,777,769,755,789,575,850,715,639,817,731,704,712,713,874,751,761,633,632,763,701,784,854,692,751,648,865,863,622,817,868,849,565,665,632,670,736,687,561,892,724,583,760,555,712,880,873,715,897,801,600,768,807,626,654,742,738,805,808,625,695,656,678,859,616,861,814,616,653,575,576,575,666,876,568,849,564,654,565,782,667,593,606,553,827,559,806,620,857,804,858,695,800,624,767,630,808,790,726,624,746,895,781,868,894,707,552,842,567,636,756,894,887,647,657,607,637,884,551,892,616,886,868,669,605,854,742,803,707,633,827,742,586,581,786,718,755,836,725,573,605,890,657,779,666,779,844,733,571,601,701,838,573,896,824,615,770,831,676,559,784,608,568,833,601,554,844,837,789],\"z\":[\"Bengaluru\",\"Bengaluru\",\"Delhi\",\"Bengaluru\",\"Bengaluru\",\"Chennai\",\"Chennai\",\"Mumbai\",\"Chennai\",\"Kolkata\",\"Bengaluru\",\"Bengaluru\",\"Delhi\",\"Mumbai\",\"Bengaluru\",\"Kolkata\",\"Bengaluru\",\"Mumbai\",\"Mumbai\",\"Kolkata\",\"Chennai\",\"Bengaluru\",\"Kolkata\",\"Mumbai\",\"Bengaluru\",\"Chennai\",\"Kolkata\",\"Bengaluru\",\"Delhi\",\"Chennai\",\"Bengaluru\",\"Bengaluru\",\"Chennai\",\"Kolkata\",\"Chennai\",\"Delhi\",\"Mumbai\",\"Mumbai\",\"Mumbai\",\"Mumbai\",\"Mumbai\",\"Bengaluru\",\"Bengaluru\",\"Kolkata\",\"Delhi\",\"Kolkata\",\"Bengaluru\",\"Mumbai\",\"Chennai\",\"Chennai\",\"Kolkata\",\"Bengaluru\",\"Kolkata\",\"Mumbai\",\"Kolkata\",\"Delhi\",\"Bengaluru\",\"Bengaluru\",\"Mumbai\",\"Bengaluru\",\"Mumbai\",\"Delhi\",\"Bengaluru\",\"Bengaluru\",\"Bengaluru\",\"Chennai\",\"Mumbai\",\"Delhi\",\"Chennai\",\"Mumbai\",\"Bengaluru\",\"Bengaluru\",\"Kolkata\",\"Mumbai\",\"Delhi\",\"Chennai\",\"Delhi\",\"Bengaluru\",\"Chennai\",\"Chennai\",\"Delhi\",\"Mumbai\",\"Kolkata\",\"Chennai\",\"Delhi\",\"Mumbai\",\"Bengaluru\",\"Chennai\",\"Delhi\",\"Delhi\",\"Delhi\",\"Kolkata\",\"Kolkata\",\"Mumbai\",\"Bengaluru\",\"Mumbai\",\"Delhi\",\"Mumbai\",\"Chennai\",\"Chennai\",\"Bengaluru\",\"Chennai\",\"Delhi\",\"Bengaluru\",\"Chennai\",\"Chennai\",\"Kolkata\",\"Delhi\",\"Chennai\",\"Mumbai\",\"Chennai\",\"Mumbai\",\"Chennai\",\"Delhi\",\"Chennai\",\"Delhi\",\"Mumbai\",\"Delhi\",\"Kolkata\",\"Delhi\",\"Chennai\",\"Mumbai\",\"Delhi\",\"Chennai\",\"Mumbai\",\"Kolkata\",\"Chennai\",\"Bengaluru\",\"Bengaluru\",\"Bengaluru\",\"Kolkata\",\"Mumbai\",\"Delhi\",\"Kolkata\",\"Mumbai\",\"Delhi\",\"Kolkata\",\"Bengaluru\",\"Mumbai\",\"Chennai\",\"Bengaluru\",\"Bengaluru\",\"Chennai\",\"Kolkata\",\"Mumbai\",\"Mumbai\",\"Delhi\",\"Delhi\",\"Bengaluru\",\"Kolkata\",\"Delhi\",\"Delhi\",\"Kolkata\",\"Chennai\",\"Bengaluru\",\"Mumbai\",\"Kolkata\",\"Bengaluru\",\"Bengaluru\",\"Mumbai\",\"Bengaluru\",\"Delhi\",\"Delhi\",\"Delhi\",\"Chennai\",\"Chennai\",\"Bengaluru\",\"Chennai\",\"Mumbai\",\"Chennai\",\"Bengaluru\",\"Mumbai\",\"Bengaluru\",\"Bengaluru\",\"Mumbai\",\"Mumbai\",\"Kolkata\",\"Chennai\",\"Chennai\",\"Delhi\",\"Bengaluru\",\"Bengaluru\",\"Kolkata\",\"Chennai\",\"Chennai\",\"Kolkata\",\"Kolkata\",\"Chennai\",\"Chennai\",\"Delhi\",\"Delhi\",\"Mumbai\",\"Bengaluru\",\"Bengaluru\",\"Chennai\",\"Delhi\",\"Bengaluru\",\"Chennai\",\"Delhi\",\"Chennai\"],\"type\":\"scatter3d\"}],                        {\"template\":{\"data\":{\"bar\":[{\"error_x\":{\"color\":\"#2a3f5f\"},\"error_y\":{\"color\":\"#2a3f5f\"},\"marker\":{\"line\":{\"color\":\"#E5ECF6\",\"width\":0.5},\"pattern\":{\"fillmode\":\"overlay\",\"size\":10,\"solidity\":0.2}},\"type\":\"bar\"}],\"barpolar\":[{\"marker\":{\"line\":{\"color\":\"#E5ECF6\",\"width\":0.5},\"pattern\":{\"fillmode\":\"overlay\",\"size\":10,\"solidity\":0.2}},\"type\":\"barpolar\"}],\"carpet\":[{\"aaxis\":{\"endlinecolor\":\"#2a3f5f\",\"gridcolor\":\"white\",\"linecolor\":\"white\",\"minorgridcolor\":\"white\",\"startlinecolor\":\"#2a3f5f\"},\"baxis\":{\"endlinecolor\":\"#2a3f5f\",\"gridcolor\":\"white\",\"linecolor\":\"white\",\"minorgridcolor\":\"white\",\"startlinecolor\":\"#2a3f5f\"},\"type\":\"carpet\"}],\"choropleth\":[{\"colorbar\":{\"outlinewidth\":0,\"ticks\":\"\"},\"type\":\"choropleth\"}],\"contour\":[{\"colorbar\":{\"outlinewidth\":0,\"ticks\":\"\"},\"colorscale\":[[0.0,\"#0d0887\"],[0.1111111111111111,\"#46039f\"],[0.2222222222222222,\"#7201a8\"],[0.3333333333333333,\"#9c179e\"],[0.4444444444444444,\"#bd3786\"],[0.5555555555555556,\"#d8576b\"],[0.6666666666666666,\"#ed7953\"],[0.7777777777777778,\"#fb9f3a\"],[0.8888888888888888,\"#fdca26\"],[1.0,\"#f0f921\"]],\"type\":\"contour\"}],\"contourcarpet\":[{\"colorbar\":{\"outlinewidth\":0,\"ticks\":\"\"},\"type\":\"contourcarpet\"}],\"heatmap\":[{\"colorbar\":{\"outlinewidth\":0,\"ticks\":\"\"},\"colorscale\":[[0.0,\"#0d0887\"],[0.1111111111111111,\"#46039f\"],[0.2222222222222222,\"#7201a8\"],[0.3333333333333333,\"#9c179e\"],[0.4444444444444444,\"#bd3786\"],[0.5555555555555556,\"#d8576b\"],[0.6666666666666666,\"#ed7953\"],[0.7777777777777778,\"#fb9f3a\"],[0.8888888888888888,\"#fdca26\"],[1.0,\"#f0f921\"]],\"type\":\"heatmap\"}],\"heatmapgl\":[{\"colorbar\":{\"outlinewidth\":0,\"ticks\":\"\"},\"colorscale\":[[0.0,\"#0d0887\"],[0.1111111111111111,\"#46039f\"],[0.2222222222222222,\"#7201a8\"],[0.3333333333333333,\"#9c179e\"],[0.4444444444444444,\"#bd3786\"],[0.5555555555555556,\"#d8576b\"],[0.6666666666666666,\"#ed7953\"],[0.7777777777777778,\"#fb9f3a\"],[0.8888888888888888,\"#fdca26\"],[1.0,\"#f0f921\"]],\"type\":\"heatmapgl\"}],\"histogram\":[{\"marker\":{\"pattern\":{\"fillmode\":\"overlay\",\"size\":10,\"solidity\":0.2}},\"type\":\"histogram\"}],\"histogram2d\":[{\"colorbar\":{\"outlinewidth\":0,\"ticks\":\"\"},\"colorscale\":[[0.0,\"#0d0887\"],[0.1111111111111111,\"#46039f\"],[0.2222222222222222,\"#7201a8\"],[0.3333333333333333,\"#9c179e\"],[0.4444444444444444,\"#bd3786\"],[0.5555555555555556,\"#d8576b\"],[0.6666666666666666,\"#ed7953\"],[0.7777777777777778,\"#fb9f3a\"],[0.8888888888888888,\"#fdca26\"],[1.0,\"#f0f921\"]],\"type\":\"histogram2d\"}],\"histogram2dcontour\":[{\"colorbar\":{\"outlinewidth\":0,\"ticks\":\"\"},\"colorscale\":[[0.0,\"#0d0887\"],[0.1111111111111111,\"#46039f\"],[0.2222222222222222,\"#7201a8\"],[0.3333333333333333,\"#9c179e\"],[0.4444444444444444,\"#bd3786\"],[0.5555555555555556,\"#d8576b\"],[0.6666666666666666,\"#ed7953\"],[0.7777777777777778,\"#fb9f3a\"],[0.8888888888888888,\"#fdca26\"],[1.0,\"#f0f921\"]],\"type\":\"histogram2dcontour\"}],\"mesh3d\":[{\"colorbar\":{\"outlinewidth\":0,\"ticks\":\"\"},\"type\":\"mesh3d\"}],\"parcoords\":[{\"line\":{\"colorbar\":{\"outlinewidth\":0,\"ticks\":\"\"}},\"type\":\"parcoords\"}],\"pie\":[{\"automargin\":true,\"type\":\"pie\"}],\"scatter\":[{\"marker\":{\"colorbar\":{\"outlinewidth\":0,\"ticks\":\"\"}},\"type\":\"scatter\"}],\"scatter3d\":[{\"line\":{\"colorbar\":{\"outlinewidth\":0,\"ticks\":\"\"}},\"marker\":{\"colorbar\":{\"outlinewidth\":0,\"ticks\":\"\"}},\"type\":\"scatter3d\"}],\"scattercarpet\":[{\"marker\":{\"colorbar\":{\"outlinewidth\":0,\"ticks\":\"\"}},\"type\":\"scattercarpet\"}],\"scattergeo\":[{\"marker\":{\"colorbar\":{\"outlinewidth\":0,\"ticks\":\"\"}},\"type\":\"scattergeo\"}],\"scattergl\":[{\"marker\":{\"colorbar\":{\"outlinewidth\":0,\"ticks\":\"\"}},\"type\":\"scattergl\"}],\"scattermapbox\":[{\"marker\":{\"colorbar\":{\"outlinewidth\":0,\"ticks\":\"\"}},\"type\":\"scattermapbox\"}],\"scatterpolar\":[{\"marker\":{\"colorbar\":{\"outlinewidth\":0,\"ticks\":\"\"}},\"type\":\"scatterpolar\"}],\"scatterpolargl\":[{\"marker\":{\"colorbar\":{\"outlinewidth\":0,\"ticks\":\"\"}},\"type\":\"scatterpolargl\"}],\"scatterternary\":[{\"marker\":{\"colorbar\":{\"outlinewidth\":0,\"ticks\":\"\"}},\"type\":\"scatterternary\"}],\"surface\":[{\"colorbar\":{\"outlinewidth\":0,\"ticks\":\"\"},\"colorscale\":[[0.0,\"#0d0887\"],[0.1111111111111111,\"#46039f\"],[0.2222222222222222,\"#7201a8\"],[0.3333333333333333,\"#9c179e\"],[0.4444444444444444,\"#bd3786\"],[0.5555555555555556,\"#d8576b\"],[0.6666666666666666,\"#ed7953\"],[0.7777777777777778,\"#fb9f3a\"],[0.8888888888888888,\"#fdca26\"],[1.0,\"#f0f921\"]],\"type\":\"surface\"}],\"table\":[{\"cells\":{\"fill\":{\"color\":\"#EBF0F8\"},\"line\":{\"color\":\"white\"}},\"header\":{\"fill\":{\"color\":\"#C8D4E3\"},\"line\":{\"color\":\"white\"}},\"type\":\"table\"}]},\"layout\":{\"annotationdefaults\":{\"arrowcolor\":\"#2a3f5f\",\"arrowhead\":0,\"arrowwidth\":1},\"autotypenumbers\":\"strict\",\"coloraxis\":{\"colorbar\":{\"outlinewidth\":0,\"ticks\":\"\"}},\"colorscale\":{\"diverging\":[[0,\"#8e0152\"],[0.1,\"#c51b7d\"],[0.2,\"#de77ae\"],[0.3,\"#f1b6da\"],[0.4,\"#fde0ef\"],[0.5,\"#f7f7f7\"],[0.6,\"#e6f5d0\"],[0.7,\"#b8e186\"],[0.8,\"#7fbc41\"],[0.9,\"#4d9221\"],[1,\"#276419\"]],\"sequential\":[[0.0,\"#0d0887\"],[0.1111111111111111,\"#46039f\"],[0.2222222222222222,\"#7201a8\"],[0.3333333333333333,\"#9c179e\"],[0.4444444444444444,\"#bd3786\"],[0.5555555555555556,\"#d8576b\"],[0.6666666666666666,\"#ed7953\"],[0.7777777777777778,\"#fb9f3a\"],[0.8888888888888888,\"#fdca26\"],[1.0,\"#f0f921\"]],\"sequentialminus\":[[0.0,\"#0d0887\"],[0.1111111111111111,\"#46039f\"],[0.2222222222222222,\"#7201a8\"],[0.3333333333333333,\"#9c179e\"],[0.4444444444444444,\"#bd3786\"],[0.5555555555555556,\"#d8576b\"],[0.6666666666666666,\"#ed7953\"],[0.7777777777777778,\"#fb9f3a\"],[0.8888888888888888,\"#fdca26\"],[1.0,\"#f0f921\"]]},\"colorway\":[\"#636efa\",\"#EF553B\",\"#00cc96\",\"#ab63fa\",\"#FFA15A\",\"#19d3f3\",\"#FF6692\",\"#B6E880\",\"#FF97FF\",\"#FECB52\"],\"font\":{\"color\":\"#2a3f5f\"},\"geo\":{\"bgcolor\":\"white\",\"lakecolor\":\"white\",\"landcolor\":\"#E5ECF6\",\"showlakes\":true,\"showland\":true,\"subunitcolor\":\"white\"},\"hoverlabel\":{\"align\":\"left\"},\"hovermode\":\"closest\",\"mapbox\":{\"style\":\"light\"},\"paper_bgcolor\":\"white\",\"plot_bgcolor\":\"#E5ECF6\",\"polar\":{\"angularaxis\":{\"gridcolor\":\"white\",\"linecolor\":\"white\",\"ticks\":\"\"},\"bgcolor\":\"#E5ECF6\",\"radialaxis\":{\"gridcolor\":\"white\",\"linecolor\":\"white\",\"ticks\":\"\"}},\"scene\":{\"xaxis\":{\"backgroundcolor\":\"#E5ECF6\",\"gridcolor\":\"white\",\"gridwidth\":2,\"linecolor\":\"white\",\"showbackground\":true,\"ticks\":\"\",\"zerolinecolor\":\"white\"},\"yaxis\":{\"backgroundcolor\":\"#E5ECF6\",\"gridcolor\":\"white\",\"gridwidth\":2,\"linecolor\":\"white\",\"showbackground\":true,\"ticks\":\"\",\"zerolinecolor\":\"white\"},\"zaxis\":{\"backgroundcolor\":\"#E5ECF6\",\"gridcolor\":\"white\",\"gridwidth\":2,\"linecolor\":\"white\",\"showbackground\":true,\"ticks\":\"\",\"zerolinecolor\":\"white\"}},\"shapedefaults\":{\"line\":{\"color\":\"#2a3f5f\"}},\"ternary\":{\"aaxis\":{\"gridcolor\":\"white\",\"linecolor\":\"white\",\"ticks\":\"\"},\"baxis\":{\"gridcolor\":\"white\",\"linecolor\":\"white\",\"ticks\":\"\"},\"bgcolor\":\"#E5ECF6\",\"caxis\":{\"gridcolor\":\"white\",\"linecolor\":\"white\",\"ticks\":\"\"}},\"title\":{\"x\":0.05},\"xaxis\":{\"automargin\":true,\"gridcolor\":\"white\",\"linecolor\":\"white\",\"ticks\":\"\",\"title\":{\"standoff\":15},\"zerolinecolor\":\"white\",\"zerolinewidth\":2},\"yaxis\":{\"automargin\":true,\"gridcolor\":\"white\",\"linecolor\":\"white\",\"ticks\":\"\",\"title\":{\"standoff\":15},\"zerolinecolor\":\"white\",\"zerolinewidth\":2}}},\"scene\":{\"domain\":{\"x\":[0.0,1.0],\"y\":[0.0,1.0]},\"xaxis\":{\"title\":{\"text\":\"CustomerAge\"}},\"yaxis\":{\"title\":{\"text\":\"CreditScore\"}},\"zaxis\":{\"title\":{\"text\":\"CustomerCity\"}}},\"coloraxis\":{\"colorbar\":{\"title\":{\"text\":\"lable\"}},\"colorscale\":[[0.0,\"#0d0887\"],[0.1111111111111111,\"#46039f\"],[0.2222222222222222,\"#7201a8\"],[0.3333333333333333,\"#9c179e\"],[0.4444444444444444,\"#bd3786\"],[0.5555555555555556,\"#d8576b\"],[0.6666666666666666,\"#ed7953\"],[0.7777777777777778,\"#fb9f3a\"],[0.8888888888888888,\"#fdca26\"],[1.0,\"#f0f921\"]]},\"legend\":{\"tracegroupgap\":0},\"margin\":{\"t\":60}},                        {\"responsive\": true}                    ).then(function(){\n",
       "                            \n",
       "var gd = document.getElementById('6d66415f-fdb6-4d4f-8a54-f149fb5a4d02');\n",
       "var x = new MutationObserver(function (mutations, observer) {{\n",
       "        var display = window.getComputedStyle(gd).display;\n",
       "        if (!display || display === 'none') {{\n",
       "            console.log([gd, 'removed!']);\n",
       "            Plotly.purge(gd);\n",
       "            observer.disconnect();\n",
       "        }}\n",
       "}});\n",
       "\n",
       "// Listen for the removal of the full notebook cells\n",
       "var notebookContainer = gd.closest('#notebook-container');\n",
       "if (notebookContainer) {{\n",
       "    x.observe(notebookContainer, {childList: true});\n",
       "}}\n",
       "\n",
       "// Listen for the clearing of the current output cell\n",
       "var outputEl = gd.closest('.output');\n",
       "if (outputEl) {{\n",
       "    x.observe(outputEl, {childList: true});\n",
       "}}\n",
       "\n",
       "                        })                };                });            </script>        </div>"
      ]
     },
     "metadata": {},
     "output_type": "display_data"
    }
   ],
   "source": [
    "from sklearn.cluster import MiniBatchKMeans\n",
    "\n",
    "df=pd.read_csv('Data/Shopping_CustomerData.csv')\n",
    "\n",
    "DF=df.iloc[:,[1,2,4,5,6]]\n",
    "\n",
    "X=transformer.fit_transform(DF)\n",
    "\n",
    "miniKM=MiniBatchKMeans(n_clusters=5 ,batch_size=5).fit(X)\n",
    "\n",
    "lables=miniKM.predict(X)\n",
    "\n",
    "MK_DF=df.copy()\n",
    "\n",
    "MK_DF['lable']=lables\n",
    "\n",
    "\n",
    "score = silhouette_score(X,lables)\n",
    "print (\"Silhouette Score\", score)\n",
    "\n",
    "\n",
    "px.scatter_3d(MK_DF, 'CustomerAge', 'CreditScore', 'CustomerCity', \n",
    "              color='lable', hover_data=df.columns)"
   ]
  },
  {
   "cell_type": "code",
   "execution_count": 161,
   "metadata": {},
   "outputs": [
    {
     "name": "stdout",
     "output_type": "stream",
     "text": [
      "Silhouette Score 0.14113969557786604\n"
     ]
    },
    {
     "data": {
      "application/vnd.plotly.v1+json": {
       "config": {
        "plotlyServerURL": "https://plot.ly"
       },
       "data": [
        {
         "customdata": [
          [
           1001,
           "Male",
           527547.5885,
           78,
           1
          ],
          [
           1002,
           "Male",
           207143.1976,
           63,
           1
          ],
          [
           1003,
           "Female",
           164423.8457,
           69,
           4
          ],
          [
           1004,
           "Female",
           56220.36443,
           30,
           1
          ],
          [
           1005,
           "Female",
           256194.3619,
           6,
           1
          ],
          [
           1006,
           "Female",
           475324.8903,
           97,
           2
          ],
          [
           1007,
           "Female",
           186352.3482,
           2,
           2
          ],
          [
           1008,
           "Female",
           414233.1569,
           77,
           5
          ],
          [
           1009,
           "Male",
           97263.51748,
           22,
           2
          ],
          [
           1010,
           "Female",
           179271.2332,
           97,
           3
          ],
          [
           1011,
           "Male",
           194016.5771,
           13,
           1
          ],
          [
           1012,
           "Female",
           227536.1384,
           62,
           1
          ],
          [
           1013,
           "Female",
           384549.196,
           64,
           4
          ],
          [
           1014,
           "Female",
           441207.6896,
           29,
           5
          ],
          [
           1015,
           "Male",
           195955.9211,
           53,
           1
          ],
          [
           1016,
           "Male",
           342386.7743,
           36,
           3
          ],
          [
           1017,
           "Female",
           12396.06128,
           18,
           1
          ],
          [
           1018,
           "Male",
           243054.5171,
           49,
           5
          ],
          [
           1019,
           "Male",
           353525.8767,
           75,
           5
          ],
          [
           1020,
           "Female",
           146957.5537,
           84,
           3
          ],
          [
           1021,
           "Male",
           217461.907,
           87,
           2
          ],
          [
           1022,
           "Male",
           466647.6548,
           37,
           1
          ],
          [
           1023,
           "Female",
           36359.20628,
           87,
           3
          ],
          [
           1024,
           "Male",
           227040.4915,
           64,
           5
          ],
          [
           1025,
           "Female",
           183013.7351,
           82,
           1
          ],
          [
           1026,
           "Male",
           496142.1332,
           82,
           2
          ],
          [
           1027,
           "Female",
           304101.4516,
           59,
           3
          ],
          [
           1028,
           "Male",
           15305.84287,
           57,
           1
          ],
          [
           1029,
           "Female",
           90898.14293,
           27,
           4
          ],
          [
           1030,
           "Female",
           372800.2429,
           35,
           2
          ],
          [
           1031,
           "Male",
           186025.496,
           15,
           1
          ],
          [
           1032,
           "Female",
           424172.7786,
           84,
           1
          ],
          [
           1033,
           "Male",
           316975.4388,
           97,
           2
          ],
          [
           1034,
           "Male",
           245271.891,
           4,
           3
          ],
          [
           1035,
           "Female",
           54756.27976,
           48,
           2
          ],
          [
           1036,
           "Female",
           480722.9923,
           30,
           4
          ],
          [
           1037,
           "Female",
           243050.2953,
           93,
           5
          ],
          [
           1038,
           "Female",
           354943.3271,
           77,
           5
          ],
          [
           1039,
           "Female",
           105283.4509,
           97,
           5
          ],
          [
           1040,
           "Female",
           266522.7503,
           78,
           5
          ],
          [
           1041,
           "Female",
           248583.777,
           4,
           5
          ],
          [
           1042,
           "Male",
           35051.23859,
           78,
           1
          ],
          [
           1043,
           "Male",
           279363.0453,
           39,
           1
          ],
          [
           1044,
           "Female",
           498781.9307,
           11,
           3
          ],
          [
           1045,
           "Female",
           288846.6029,
           97,
           4
          ],
          [
           1046,
           "Female",
           348408.8613,
           34,
           3
          ],
          [
           1047,
           "Female",
           516995.9529,
           100,
           1
          ],
          [
           1048,
           "Female",
           54666.06526,
           46,
           5
          ],
          [
           1049,
           "Female",
           69809.65753,
           98,
           2
          ],
          [
           1050,
           "Female",
           371636.6915,
           48,
           2
          ],
          [
           1051,
           "Female",
           238964.9748,
           62,
           3
          ],
          [
           1052,
           "Male",
           299609.0836,
           42,
           1
          ],
          [
           1053,
           "Female",
           361244.6459,
           37,
           3
          ],
          [
           1054,
           "Male",
           187182.7663,
           36,
           5
          ],
          [
           1055,
           "Female",
           513210.2881,
           71,
           3
          ],
          [
           1056,
           "Male",
           258490.1227,
           99,
           4
          ],
          [
           1057,
           "Female",
           443558.7535,
           41,
           1
          ],
          [
           1058,
           "Male",
           121992.2184,
           88,
           1
          ],
          [
           1059,
           "Female",
           129229.7353,
           25,
           5
          ],
          [
           1060,
           "Male",
           351473.4476,
           8,
           1
          ],
          [
           1061,
           "Male",
           365803.058,
           52,
           5
          ],
          [
           1062,
           "Male",
           42277.72636,
           20,
           4
          ],
          [
           1063,
           "Female",
           675461.7357,
           59,
           1
          ],
          [
           1064,
           "Female",
           139008.5462,
           37,
           1
          ],
          [
           1065,
           "Male",
           255913.6516,
           47,
           1
          ],
          [
           1066,
           "Male",
           625214.1659,
           14,
           2
          ],
          [
           1067,
           "Female",
           300855.7861,
           96,
           5
          ],
          [
           1068,
           "Female",
           61533.99547,
           40,
           4
          ],
          [
           1069,
           "Male",
           619650.7261,
           48,
           2
          ],
          [
           1070,
           "Female",
           24160.45218,
           70,
           5
          ],
          [
           1071,
           "Male",
           119798.585,
           37,
           1
          ],
          [
           1072,
           "Female",
           116425.7192,
           12,
           1
          ],
          [
           1073,
           "Female",
           235753.1848,
           100,
           3
          ],
          [
           1074,
           "Female",
           432140.6847,
           18,
           5
          ],
          [
           1075,
           "Male",
           160744.0503,
           59,
           4
          ],
          [
           1076,
           "Male",
           264898.0293,
           68,
           2
          ],
          [
           1077,
           "Female",
           440550.5344,
           87,
           4
          ],
          [
           1078,
           "Male",
           66682.56943,
           19,
           1
          ],
          [
           1079,
           "Female",
           196636.8508,
           9,
           2
          ],
          [
           1080,
           "Female",
           277507.0036,
           39,
           2
          ],
          [
           1081,
           "Male",
           459226.6407,
           32,
           4
          ],
          [
           1082,
           "Male",
           143977.3393,
           56,
           5
          ],
          [
           1083,
           "Male",
           211403.4684,
           78,
           3
          ],
          [
           1084,
           "Female",
           39947.04454,
           57,
           2
          ],
          [
           1085,
           "Female",
           544422.1798,
           11,
           4
          ],
          [
           1086,
           "Male",
           537240.108,
           56,
           5
          ],
          [
           1087,
           "Female",
           542745.9601,
           73,
           1
          ],
          [
           1088,
           "Female",
           560856.4185,
           40,
           2
          ],
          [
           1089,
           "Female",
           497387.3262,
           29,
           4
          ],
          [
           1090,
           "Female",
           125660.3599,
           44,
           4
          ],
          [
           1091,
           "Female",
           77749.71303,
           50,
           4
          ],
          [
           1092,
           "Male",
           316583.7463,
           52,
           3
          ],
          [
           1093,
           "Male",
           252129.1836,
           2,
           3
          ],
          [
           1094,
           "Female",
           527125.1728,
           62,
           5
          ],
          [
           1095,
           "Female",
           341603.312,
           54,
           1
          ],
          [
           1096,
           "Male",
           98951.52835,
           45,
           5
          ],
          [
           1097,
           "Female",
           192009.5051,
           23,
           4
          ],
          [
           1098,
           "Female",
           203632.4332,
           80,
           5
          ],
          [
           1099,
           "Male",
           336327.2596,
           67,
           2
          ],
          [
           1100,
           "Male",
           363044.2299,
           2,
           2
          ],
          [
           1101,
           "Female",
           386949.5256,
           19,
           1
          ],
          [
           1102,
           "Female",
           548611.3616,
           28,
           2
          ],
          [
           1103,
           "Male",
           59873.62527,
           24,
           4
          ],
          [
           1104,
           "Male",
           49566.39,
           38,
           1
          ],
          [
           1105,
           "Male",
           385780.8768,
           59,
           2
          ],
          [
           1106,
           "Female",
           95882.3111,
           54,
           2
          ],
          [
           1107,
           "Female",
           400021.3253,
           51,
           3
          ],
          [
           1108,
           "Male",
           351206.5319,
           79,
           4
          ],
          [
           1109,
           "Male",
           2577.057456,
           37,
           2
          ],
          [
           1110,
           "Male",
           333149.3655,
           72,
           5
          ],
          [
           1111,
           "Male",
           171137.0662,
           12,
           2
          ],
          [
           1112,
           "Female",
           352699.3398,
           78,
           5
          ],
          [
           1113,
           "Female",
           332877.7868,
           40,
           2
          ],
          [
           1114,
           "Male",
           238627.5838,
           15,
           4
          ],
          [
           1115,
           "Female",
           687212.7707,
           100,
           2
          ],
          [
           1116,
           "Female",
           279227.4118,
           25,
           4
          ],
          [
           1117,
           "Female",
           355596.8965,
           10,
           5
          ],
          [
           1118,
           "Female",
           467350.1017,
           10,
           4
          ],
          [
           1119,
           "Female",
           466464.8329,
           90,
           3
          ],
          [
           1120,
           "Female",
           327653.0355,
           8,
           4
          ],
          [
           1121,
           "Male",
           302975.1788,
           70,
           2
          ],
          [
           1122,
           "Female",
           589901.0593,
           76,
           5
          ],
          [
           1123,
           "Female",
           41370.44656,
           13,
           4
          ],
          [
           1124,
           "Male",
           208227.1136,
           87,
           2
          ],
          [
           1125,
           "Female",
           568519.0844,
           6,
           5
          ],
          [
           1126,
           "Female",
           151571.5328,
           46,
           3
          ],
          [
           1127,
           "Male",
           217072.6811,
           35,
           2
          ],
          [
           1128,
           "Male",
           336463.0139,
           89,
           1
          ],
          [
           1129,
           "Male",
           487605.5371,
           100,
           1
          ],
          [
           1130,
           "Male",
           599442.5133,
           71,
           1
          ],
          [
           1131,
           "Male",
           389042.5298,
           50,
           3
          ],
          [
           1132,
           "Male",
           10349.41407,
           22,
           5
          ],
          [
           1133,
           "Female",
           198910.519,
           76,
           4
          ],
          [
           1134,
           "Female",
           405487.9323,
           93,
           3
          ],
          [
           1135,
           "Male",
           221839.2718,
           57,
           5
          ],
          [
           1136,
           "Female",
           260829.7117,
           85,
           4
          ],
          [
           1137,
           "Female",
           133886.4033,
           96,
           3
          ],
          [
           1138,
           "Male",
           82638.67765,
           33,
           1
          ],
          [
           1139,
           "Male",
           380765.8752,
           20,
           5
          ],
          [
           1140,
           "Female",
           101745.5371,
           7,
           2
          ],
          [
           1141,
           "Female",
           341134.7218,
           18,
           1
          ],
          [
           1142,
           "Male",
           274581.2169,
           22,
           1
          ],
          [
           1143,
           "Female",
           212645.6303,
           19,
           2
          ],
          [
           1144,
           "Female",
           281654.8846,
           14,
           3
          ],
          [
           1145,
           "Male",
           98371.75627,
           99,
           5
          ],
          [
           1146,
           "Male",
           213942.2065,
           11,
           5
          ],
          [
           1147,
           "Male",
           5121.652342,
           42,
           4
          ],
          [
           1148,
           "Female",
           142909.4261,
           30,
           4
          ],
          [
           1149,
           "Female",
           651534.3098,
           23,
           1
          ],
          [
           1150,
           "Male",
           365974.3719,
           77,
           3
          ],
          [
           1151,
           "Male",
           355468.056,
           73,
           4
          ],
          [
           1152,
           "Male",
           471770.9203,
           39,
           4
          ],
          [
           1153,
           "Female",
           231493.99,
           94,
           3
          ],
          [
           1154,
           "Female",
           465350.4429,
           58,
           2
          ],
          [
           1155,
           "Female",
           127331.648,
           32,
           1
          ],
          [
           1156,
           "Female",
           671028.1872,
           55,
           5
          ],
          [
           1157,
           "Male",
           163664.207,
           22,
           3
          ],
          [
           1158,
           "Female",
           216758.2928,
           78,
           1
          ],
          [
           1159,
           "Male",
           193910.7081,
           36,
           1
          ],
          [
           1160,
           "Female",
           22643.56036,
           93,
           5
          ],
          [
           1161,
           "Female",
           365100.1564,
           55,
           1
          ],
          [
           1162,
           "Female",
           534470.6945,
           85,
           4
          ],
          [
           1163,
           "Male",
           261938.9818,
           32,
           4
          ],
          [
           1164,
           "Female",
           330757.825,
           87,
           4
          ],
          [
           1165,
           "Male",
           514927.5894,
           9,
           2
          ],
          [
           1166,
           "Female",
           432732.181,
           54,
           2
          ],
          [
           1167,
           "Male",
           695407.0917,
           86,
           1
          ],
          [
           1168,
           "Female",
           285874.988,
           67,
           2
          ],
          [
           1169,
           "Female",
           79113.55318,
           39,
           5
          ],
          [
           1170,
           "Male",
           260043.8576,
           77,
           2
          ],
          [
           1171,
           "Male",
           326077.0029,
           35,
           1
          ],
          [
           1172,
           "Male",
           648085.0454,
           35,
           5
          ],
          [
           1173,
           "Male",
           101571.4983,
           45,
           1
          ],
          [
           1174,
           "Male",
           50434.47117,
           75,
           1
          ],
          [
           1175,
           "Female",
           359566.4986,
           91,
           5
          ],
          [
           1176,
           "Female",
           581177.2116,
           32,
           5
          ],
          [
           1177,
           "Male",
           351979.4379,
           89,
           3
          ],
          [
           1178,
           "Male",
           634980.9806,
           21,
           2
          ],
          [
           1179,
           "Male",
           110492.7388,
           19,
           2
          ],
          [
           1180,
           "Male",
           266781.9511,
           61,
           4
          ],
          [
           1181,
           "Female",
           81891.02639,
           61,
           1
          ],
          [
           1182,
           "Female",
           268234.2246,
           92,
           1
          ],
          [
           1183,
           "Male",
           195930.2286,
           94,
           3
          ],
          [
           1184,
           "Female",
           244212.5455,
           41,
           2
          ],
          [
           1185,
           "Female",
           241845.7525,
           4,
           2
          ],
          [
           1186,
           "Male",
           197295.8156,
           47,
           3
          ],
          [
           1187,
           "Female",
           118255.8374,
           75,
           3
          ],
          [
           1188,
           "Male",
           316199.317,
           11,
           2
          ],
          [
           1189,
           "Female",
           153779.277,
           44,
           2
          ],
          [
           1190,
           "Female",
           243936.1677,
           7,
           4
          ],
          [
           1191,
           "Female",
           103642.4697,
           96,
           4
          ],
          [
           1192,
           "Female",
           115856.0369,
           34,
           5
          ],
          [
           1193,
           "Male",
           451973.2129,
           16,
           1
          ],
          [
           1194,
           "Female",
           192447.8216,
           45,
           1
          ],
          [
           1195,
           "Female",
           630148.5131,
           91,
           2
          ],
          [
           1196,
           "Female",
           317466.4207,
           52,
           4
          ],
          [
           1197,
           "Female",
           323305.5002,
           58,
           1
          ],
          [
           1198,
           "Male",
           109058.5443,
           36,
           2
          ],
          [
           1199,
           "Male",
           160116.893,
           24,
           4
          ],
          [
           1200,
           "Male",
           280081.3901,
           31,
           2
          ]
         ],
         "hovertemplate": "CustomerAge=%{x}<br>CreditScore=%{y}<br>CustomerCity=%{z}<br>CustomerID=%{customdata[0]}<br>CustomerGender=%{customdata[1]}<br>AnnualIncome=%{customdata[2]}<br>SpendingScore=%{customdata[3]}<br>CustomerCityID=%{customdata[4]}<br>lable=%{marker.color}<extra></extra>",
         "legendgroup": "",
         "marker": {
          "color": [
           2,
           2,
           0,
           0,
           0,
           1,
           0,
           3,
           2,
           1,
           2,
           1,
           1,
           0,
           2,
           2,
           0,
           2,
           2,
           1,
           2,
           4,
           1,
           2,
           3,
           2,
           1,
           2,
           0,
           0,
           2,
           3,
           2,
           2,
           1,
           3,
           1,
           3,
           1,
           1,
           0,
           2,
           2,
           0,
           1,
           3,
           3,
           1,
           1,
           0,
           1,
           2,
           0,
           2,
           0,
           2,
           0,
           2,
           0,
           4,
           2,
           2,
           3,
           0,
           2,
           4,
           1,
           0,
           4,
           0,
           2,
           0,
           1,
           3,
           2,
           2,
           3,
           2,
           0,
           3,
           4,
           2,
           2,
           0,
           0,
           4,
           3,
           0,
           0,
           1,
           0,
           2,
           2,
           0,
           3,
           2,
           0,
           3,
           2,
           2,
           0,
           0,
           2,
           2,
           2,
           0,
           3,
           2,
           2,
           2,
           2,
           1,
           0,
           2,
           1,
           0,
           0,
           0,
           1,
           0,
           2,
           3,
           0,
           2,
           0,
           1,
           2,
           2,
           2,
           4,
           2,
           2,
           3,
           3,
           2,
           3,
           1,
           2,
           2,
           0,
           0,
           2,
           0,
           0,
           2,
           2,
           2,
           0,
           3,
           2,
           2,
           4,
           3,
           3,
           0,
           0,
           2,
           1,
           2,
           1,
           0,
           3,
           2,
           0,
           4,
           0,
           4,
           1,
           1,
           2,
           4,
           4,
           2,
           2,
           3,
           0,
           2,
           4,
           2,
           2,
           0,
           1,
           2,
           0,
           0,
           2,
           1,
           2,
           0,
           0,
           1,
           0,
           2,
           0,
           3,
           0,
           0,
           2,
           2,
           2
          ],
          "coloraxis": "coloraxis",
          "symbol": "circle"
         },
         "mode": "markers",
         "name": "",
         "scene": "scene",
         "showlegend": false,
         "type": "scatter3d",
         "x": [
          49,
          59,
          54,
          42,
          30,
          38,
          45,
          23,
          59,
          48,
          55,
          73,
          54,
          34,
          54,
          53,
          23,
          30,
          37,
          52,
          39,
          38,
          71,
          31,
          42,
          65,
          65,
          33,
          29,
          24,
          59,
          40,
          52,
          47,
          66,
          62,
          73,
          23,
          45,
          43,
          21,
          45,
          54,
          22,
          26,
          72,
          29,
          65,
          34,
          26,
          66,
          50,
          33,
          47,
          59,
          52,
          55,
          74,
          32,
          31,
          25,
          75,
          39,
          46,
          29,
          34,
          54,
          36,
          52,
          28,
          18,
          45,
          48,
          50,
          43,
          27,
          68,
          67,
          59,
          74,
          62,
          45,
          33,
          20,
          61,
          32,
          49,
          66,
          36,
          55,
          35,
          22,
          59,
          21,
          74,
          51,
          22,
          35,
          47,
          66,
          20,
          58,
          42,
          27,
          63,
          28,
          48,
          63,
          45,
          22,
          70,
          65,
          41,
          56,
          51,
          33,
          69,
          21,
          40,
          19,
          62,
          38,
          49,
          30,
          62,
          58,
          73,
          66,
          71,
          54,
          53,
          34,
          41,
          47,
          26,
          30,
          55,
          43,
          50,
          61,
          37,
          29,
          26,
          22,
          56,
          70,
          38,
          37,
          62,
          19,
          46,
          50,
          48,
          53,
          70,
          60,
          37,
          57,
          66,
          27,
          21,
          22,
          18,
          18,
          38,
          23,
          21,
          44,
          72,
          63,
          50,
          56,
          59,
          44,
          20,
          33,
          49,
          22,
          64,
          31,
          53,
          23,
          26,
          63,
          43,
          62,
          74,
          66,
          45,
          62,
          61,
          47,
          74,
          48,
          48,
          54,
          20,
          44,
          28,
          41
         ],
         "y": [
          653,
          630,
          555,
          699,
          793,
          635,
          881,
          852,
          708,
          669,
          618,
          614,
          711,
          629,
          764,
          880,
          729,
          803,
          817,
          774,
          672,
          691,
          669,
          555,
          778,
          623,
          782,
          588,
          684,
          698,
          562,
          774,
          777,
          769,
          755,
          789,
          575,
          850,
          715,
          639,
          817,
          731,
          704,
          712,
          713,
          874,
          751,
          761,
          633,
          632,
          763,
          701,
          784,
          854,
          692,
          751,
          648,
          865,
          863,
          622,
          817,
          868,
          849,
          565,
          665,
          632,
          670,
          736,
          687,
          561,
          892,
          724,
          583,
          760,
          555,
          712,
          880,
          873,
          715,
          897,
          801,
          600,
          768,
          807,
          626,
          654,
          742,
          738,
          805,
          808,
          625,
          695,
          656,
          678,
          859,
          616,
          861,
          814,
          616,
          653,
          575,
          576,
          575,
          666,
          876,
          568,
          849,
          564,
          654,
          565,
          782,
          667,
          593,
          606,
          553,
          827,
          559,
          806,
          620,
          857,
          804,
          858,
          695,
          800,
          624,
          767,
          630,
          808,
          790,
          726,
          624,
          746,
          895,
          781,
          868,
          894,
          707,
          552,
          842,
          567,
          636,
          756,
          894,
          887,
          647,
          657,
          607,
          637,
          884,
          551,
          892,
          616,
          886,
          868,
          669,
          605,
          854,
          742,
          803,
          707,
          633,
          827,
          742,
          586,
          581,
          786,
          718,
          755,
          836,
          725,
          573,
          605,
          890,
          657,
          779,
          666,
          779,
          844,
          733,
          571,
          601,
          701,
          838,
          573,
          896,
          824,
          615,
          770,
          831,
          676,
          559,
          784,
          608,
          568,
          833,
          601,
          554,
          844,
          837,
          789
         ],
         "z": [
          "Bengaluru",
          "Bengaluru",
          "Delhi",
          "Bengaluru",
          "Bengaluru",
          "Chennai",
          "Chennai",
          "Mumbai",
          "Chennai",
          "Kolkata",
          "Bengaluru",
          "Bengaluru",
          "Delhi",
          "Mumbai",
          "Bengaluru",
          "Kolkata",
          "Bengaluru",
          "Mumbai",
          "Mumbai",
          "Kolkata",
          "Chennai",
          "Bengaluru",
          "Kolkata",
          "Mumbai",
          "Bengaluru",
          "Chennai",
          "Kolkata",
          "Bengaluru",
          "Delhi",
          "Chennai",
          "Bengaluru",
          "Bengaluru",
          "Chennai",
          "Kolkata",
          "Chennai",
          "Delhi",
          "Mumbai",
          "Mumbai",
          "Mumbai",
          "Mumbai",
          "Mumbai",
          "Bengaluru",
          "Bengaluru",
          "Kolkata",
          "Delhi",
          "Kolkata",
          "Bengaluru",
          "Mumbai",
          "Chennai",
          "Chennai",
          "Kolkata",
          "Bengaluru",
          "Kolkata",
          "Mumbai",
          "Kolkata",
          "Delhi",
          "Bengaluru",
          "Bengaluru",
          "Mumbai",
          "Bengaluru",
          "Mumbai",
          "Delhi",
          "Bengaluru",
          "Bengaluru",
          "Bengaluru",
          "Chennai",
          "Mumbai",
          "Delhi",
          "Chennai",
          "Mumbai",
          "Bengaluru",
          "Bengaluru",
          "Kolkata",
          "Mumbai",
          "Delhi",
          "Chennai",
          "Delhi",
          "Bengaluru",
          "Chennai",
          "Chennai",
          "Delhi",
          "Mumbai",
          "Kolkata",
          "Chennai",
          "Delhi",
          "Mumbai",
          "Bengaluru",
          "Chennai",
          "Delhi",
          "Delhi",
          "Delhi",
          "Kolkata",
          "Kolkata",
          "Mumbai",
          "Bengaluru",
          "Mumbai",
          "Delhi",
          "Mumbai",
          "Chennai",
          "Chennai",
          "Bengaluru",
          "Chennai",
          "Delhi",
          "Bengaluru",
          "Chennai",
          "Chennai",
          "Kolkata",
          "Delhi",
          "Chennai",
          "Mumbai",
          "Chennai",
          "Mumbai",
          "Chennai",
          "Delhi",
          "Chennai",
          "Delhi",
          "Mumbai",
          "Delhi",
          "Kolkata",
          "Delhi",
          "Chennai",
          "Mumbai",
          "Delhi",
          "Chennai",
          "Mumbai",
          "Kolkata",
          "Chennai",
          "Bengaluru",
          "Bengaluru",
          "Bengaluru",
          "Kolkata",
          "Mumbai",
          "Delhi",
          "Kolkata",
          "Mumbai",
          "Delhi",
          "Kolkata",
          "Bengaluru",
          "Mumbai",
          "Chennai",
          "Bengaluru",
          "Bengaluru",
          "Chennai",
          "Kolkata",
          "Mumbai",
          "Mumbai",
          "Delhi",
          "Delhi",
          "Bengaluru",
          "Kolkata",
          "Delhi",
          "Delhi",
          "Kolkata",
          "Chennai",
          "Bengaluru",
          "Mumbai",
          "Kolkata",
          "Bengaluru",
          "Bengaluru",
          "Mumbai",
          "Bengaluru",
          "Delhi",
          "Delhi",
          "Delhi",
          "Chennai",
          "Chennai",
          "Bengaluru",
          "Chennai",
          "Mumbai",
          "Chennai",
          "Bengaluru",
          "Mumbai",
          "Bengaluru",
          "Bengaluru",
          "Mumbai",
          "Mumbai",
          "Kolkata",
          "Chennai",
          "Chennai",
          "Delhi",
          "Bengaluru",
          "Bengaluru",
          "Kolkata",
          "Chennai",
          "Chennai",
          "Kolkata",
          "Kolkata",
          "Chennai",
          "Chennai",
          "Delhi",
          "Delhi",
          "Mumbai",
          "Bengaluru",
          "Bengaluru",
          "Chennai",
          "Delhi",
          "Bengaluru",
          "Chennai",
          "Delhi",
          "Chennai"
         ]
        }
       ],
       "layout": {
        "coloraxis": {
         "colorbar": {
          "title": {
           "text": "lable"
          }
         },
         "colorscale": [
          [
           0,
           "#0d0887"
          ],
          [
           0.1111111111111111,
           "#46039f"
          ],
          [
           0.2222222222222222,
           "#7201a8"
          ],
          [
           0.3333333333333333,
           "#9c179e"
          ],
          [
           0.4444444444444444,
           "#bd3786"
          ],
          [
           0.5555555555555556,
           "#d8576b"
          ],
          [
           0.6666666666666666,
           "#ed7953"
          ],
          [
           0.7777777777777778,
           "#fb9f3a"
          ],
          [
           0.8888888888888888,
           "#fdca26"
          ],
          [
           1,
           "#f0f921"
          ]
         ]
        },
        "legend": {
         "tracegroupgap": 0
        },
        "margin": {
         "t": 60
        },
        "scene": {
         "domain": {
          "x": [
           0,
           1
          ],
          "y": [
           0,
           1
          ]
         },
         "xaxis": {
          "title": {
           "text": "CustomerAge"
          }
         },
         "yaxis": {
          "title": {
           "text": "CreditScore"
          }
         },
         "zaxis": {
          "title": {
           "text": "CustomerCity"
          }
         }
        },
        "template": {
         "data": {
          "bar": [
           {
            "error_x": {
             "color": "#2a3f5f"
            },
            "error_y": {
             "color": "#2a3f5f"
            },
            "marker": {
             "line": {
              "color": "#E5ECF6",
              "width": 0.5
             },
             "pattern": {
              "fillmode": "overlay",
              "size": 10,
              "solidity": 0.2
             }
            },
            "type": "bar"
           }
          ],
          "barpolar": [
           {
            "marker": {
             "line": {
              "color": "#E5ECF6",
              "width": 0.5
             },
             "pattern": {
              "fillmode": "overlay",
              "size": 10,
              "solidity": 0.2
             }
            },
            "type": "barpolar"
           }
          ],
          "carpet": [
           {
            "aaxis": {
             "endlinecolor": "#2a3f5f",
             "gridcolor": "white",
             "linecolor": "white",
             "minorgridcolor": "white",
             "startlinecolor": "#2a3f5f"
            },
            "baxis": {
             "endlinecolor": "#2a3f5f",
             "gridcolor": "white",
             "linecolor": "white",
             "minorgridcolor": "white",
             "startlinecolor": "#2a3f5f"
            },
            "type": "carpet"
           }
          ],
          "choropleth": [
           {
            "colorbar": {
             "outlinewidth": 0,
             "ticks": ""
            },
            "type": "choropleth"
           }
          ],
          "contour": [
           {
            "colorbar": {
             "outlinewidth": 0,
             "ticks": ""
            },
            "colorscale": [
             [
              0,
              "#0d0887"
             ],
             [
              0.1111111111111111,
              "#46039f"
             ],
             [
              0.2222222222222222,
              "#7201a8"
             ],
             [
              0.3333333333333333,
              "#9c179e"
             ],
             [
              0.4444444444444444,
              "#bd3786"
             ],
             [
              0.5555555555555556,
              "#d8576b"
             ],
             [
              0.6666666666666666,
              "#ed7953"
             ],
             [
              0.7777777777777778,
              "#fb9f3a"
             ],
             [
              0.8888888888888888,
              "#fdca26"
             ],
             [
              1,
              "#f0f921"
             ]
            ],
            "type": "contour"
           }
          ],
          "contourcarpet": [
           {
            "colorbar": {
             "outlinewidth": 0,
             "ticks": ""
            },
            "type": "contourcarpet"
           }
          ],
          "heatmap": [
           {
            "colorbar": {
             "outlinewidth": 0,
             "ticks": ""
            },
            "colorscale": [
             [
              0,
              "#0d0887"
             ],
             [
              0.1111111111111111,
              "#46039f"
             ],
             [
              0.2222222222222222,
              "#7201a8"
             ],
             [
              0.3333333333333333,
              "#9c179e"
             ],
             [
              0.4444444444444444,
              "#bd3786"
             ],
             [
              0.5555555555555556,
              "#d8576b"
             ],
             [
              0.6666666666666666,
              "#ed7953"
             ],
             [
              0.7777777777777778,
              "#fb9f3a"
             ],
             [
              0.8888888888888888,
              "#fdca26"
             ],
             [
              1,
              "#f0f921"
             ]
            ],
            "type": "heatmap"
           }
          ],
          "heatmapgl": [
           {
            "colorbar": {
             "outlinewidth": 0,
             "ticks": ""
            },
            "colorscale": [
             [
              0,
              "#0d0887"
             ],
             [
              0.1111111111111111,
              "#46039f"
             ],
             [
              0.2222222222222222,
              "#7201a8"
             ],
             [
              0.3333333333333333,
              "#9c179e"
             ],
             [
              0.4444444444444444,
              "#bd3786"
             ],
             [
              0.5555555555555556,
              "#d8576b"
             ],
             [
              0.6666666666666666,
              "#ed7953"
             ],
             [
              0.7777777777777778,
              "#fb9f3a"
             ],
             [
              0.8888888888888888,
              "#fdca26"
             ],
             [
              1,
              "#f0f921"
             ]
            ],
            "type": "heatmapgl"
           }
          ],
          "histogram": [
           {
            "marker": {
             "pattern": {
              "fillmode": "overlay",
              "size": 10,
              "solidity": 0.2
             }
            },
            "type": "histogram"
           }
          ],
          "histogram2d": [
           {
            "colorbar": {
             "outlinewidth": 0,
             "ticks": ""
            },
            "colorscale": [
             [
              0,
              "#0d0887"
             ],
             [
              0.1111111111111111,
              "#46039f"
             ],
             [
              0.2222222222222222,
              "#7201a8"
             ],
             [
              0.3333333333333333,
              "#9c179e"
             ],
             [
              0.4444444444444444,
              "#bd3786"
             ],
             [
              0.5555555555555556,
              "#d8576b"
             ],
             [
              0.6666666666666666,
              "#ed7953"
             ],
             [
              0.7777777777777778,
              "#fb9f3a"
             ],
             [
              0.8888888888888888,
              "#fdca26"
             ],
             [
              1,
              "#f0f921"
             ]
            ],
            "type": "histogram2d"
           }
          ],
          "histogram2dcontour": [
           {
            "colorbar": {
             "outlinewidth": 0,
             "ticks": ""
            },
            "colorscale": [
             [
              0,
              "#0d0887"
             ],
             [
              0.1111111111111111,
              "#46039f"
             ],
             [
              0.2222222222222222,
              "#7201a8"
             ],
             [
              0.3333333333333333,
              "#9c179e"
             ],
             [
              0.4444444444444444,
              "#bd3786"
             ],
             [
              0.5555555555555556,
              "#d8576b"
             ],
             [
              0.6666666666666666,
              "#ed7953"
             ],
             [
              0.7777777777777778,
              "#fb9f3a"
             ],
             [
              0.8888888888888888,
              "#fdca26"
             ],
             [
              1,
              "#f0f921"
             ]
            ],
            "type": "histogram2dcontour"
           }
          ],
          "mesh3d": [
           {
            "colorbar": {
             "outlinewidth": 0,
             "ticks": ""
            },
            "type": "mesh3d"
           }
          ],
          "parcoords": [
           {
            "line": {
             "colorbar": {
              "outlinewidth": 0,
              "ticks": ""
             }
            },
            "type": "parcoords"
           }
          ],
          "pie": [
           {
            "automargin": true,
            "type": "pie"
           }
          ],
          "scatter": [
           {
            "marker": {
             "colorbar": {
              "outlinewidth": 0,
              "ticks": ""
             }
            },
            "type": "scatter"
           }
          ],
          "scatter3d": [
           {
            "line": {
             "colorbar": {
              "outlinewidth": 0,
              "ticks": ""
             }
            },
            "marker": {
             "colorbar": {
              "outlinewidth": 0,
              "ticks": ""
             }
            },
            "type": "scatter3d"
           }
          ],
          "scattercarpet": [
           {
            "marker": {
             "colorbar": {
              "outlinewidth": 0,
              "ticks": ""
             }
            },
            "type": "scattercarpet"
           }
          ],
          "scattergeo": [
           {
            "marker": {
             "colorbar": {
              "outlinewidth": 0,
              "ticks": ""
             }
            },
            "type": "scattergeo"
           }
          ],
          "scattergl": [
           {
            "marker": {
             "colorbar": {
              "outlinewidth": 0,
              "ticks": ""
             }
            },
            "type": "scattergl"
           }
          ],
          "scattermapbox": [
           {
            "marker": {
             "colorbar": {
              "outlinewidth": 0,
              "ticks": ""
             }
            },
            "type": "scattermapbox"
           }
          ],
          "scatterpolar": [
           {
            "marker": {
             "colorbar": {
              "outlinewidth": 0,
              "ticks": ""
             }
            },
            "type": "scatterpolar"
           }
          ],
          "scatterpolargl": [
           {
            "marker": {
             "colorbar": {
              "outlinewidth": 0,
              "ticks": ""
             }
            },
            "type": "scatterpolargl"
           }
          ],
          "scatterternary": [
           {
            "marker": {
             "colorbar": {
              "outlinewidth": 0,
              "ticks": ""
             }
            },
            "type": "scatterternary"
           }
          ],
          "surface": [
           {
            "colorbar": {
             "outlinewidth": 0,
             "ticks": ""
            },
            "colorscale": [
             [
              0,
              "#0d0887"
             ],
             [
              0.1111111111111111,
              "#46039f"
             ],
             [
              0.2222222222222222,
              "#7201a8"
             ],
             [
              0.3333333333333333,
              "#9c179e"
             ],
             [
              0.4444444444444444,
              "#bd3786"
             ],
             [
              0.5555555555555556,
              "#d8576b"
             ],
             [
              0.6666666666666666,
              "#ed7953"
             ],
             [
              0.7777777777777778,
              "#fb9f3a"
             ],
             [
              0.8888888888888888,
              "#fdca26"
             ],
             [
              1,
              "#f0f921"
             ]
            ],
            "type": "surface"
           }
          ],
          "table": [
           {
            "cells": {
             "fill": {
              "color": "#EBF0F8"
             },
             "line": {
              "color": "white"
             }
            },
            "header": {
             "fill": {
              "color": "#C8D4E3"
             },
             "line": {
              "color": "white"
             }
            },
            "type": "table"
           }
          ]
         },
         "layout": {
          "annotationdefaults": {
           "arrowcolor": "#2a3f5f",
           "arrowhead": 0,
           "arrowwidth": 1
          },
          "autotypenumbers": "strict",
          "coloraxis": {
           "colorbar": {
            "outlinewidth": 0,
            "ticks": ""
           }
          },
          "colorscale": {
           "diverging": [
            [
             0,
             "#8e0152"
            ],
            [
             0.1,
             "#c51b7d"
            ],
            [
             0.2,
             "#de77ae"
            ],
            [
             0.3,
             "#f1b6da"
            ],
            [
             0.4,
             "#fde0ef"
            ],
            [
             0.5,
             "#f7f7f7"
            ],
            [
             0.6,
             "#e6f5d0"
            ],
            [
             0.7,
             "#b8e186"
            ],
            [
             0.8,
             "#7fbc41"
            ],
            [
             0.9,
             "#4d9221"
            ],
            [
             1,
             "#276419"
            ]
           ],
           "sequential": [
            [
             0,
             "#0d0887"
            ],
            [
             0.1111111111111111,
             "#46039f"
            ],
            [
             0.2222222222222222,
             "#7201a8"
            ],
            [
             0.3333333333333333,
             "#9c179e"
            ],
            [
             0.4444444444444444,
             "#bd3786"
            ],
            [
             0.5555555555555556,
             "#d8576b"
            ],
            [
             0.6666666666666666,
             "#ed7953"
            ],
            [
             0.7777777777777778,
             "#fb9f3a"
            ],
            [
             0.8888888888888888,
             "#fdca26"
            ],
            [
             1,
             "#f0f921"
            ]
           ],
           "sequentialminus": [
            [
             0,
             "#0d0887"
            ],
            [
             0.1111111111111111,
             "#46039f"
            ],
            [
             0.2222222222222222,
             "#7201a8"
            ],
            [
             0.3333333333333333,
             "#9c179e"
            ],
            [
             0.4444444444444444,
             "#bd3786"
            ],
            [
             0.5555555555555556,
             "#d8576b"
            ],
            [
             0.6666666666666666,
             "#ed7953"
            ],
            [
             0.7777777777777778,
             "#fb9f3a"
            ],
            [
             0.8888888888888888,
             "#fdca26"
            ],
            [
             1,
             "#f0f921"
            ]
           ]
          },
          "colorway": [
           "#636efa",
           "#EF553B",
           "#00cc96",
           "#ab63fa",
           "#FFA15A",
           "#19d3f3",
           "#FF6692",
           "#B6E880",
           "#FF97FF",
           "#FECB52"
          ],
          "font": {
           "color": "#2a3f5f"
          },
          "geo": {
           "bgcolor": "white",
           "lakecolor": "white",
           "landcolor": "#E5ECF6",
           "showlakes": true,
           "showland": true,
           "subunitcolor": "white"
          },
          "hoverlabel": {
           "align": "left"
          },
          "hovermode": "closest",
          "mapbox": {
           "style": "light"
          },
          "paper_bgcolor": "white",
          "plot_bgcolor": "#E5ECF6",
          "polar": {
           "angularaxis": {
            "gridcolor": "white",
            "linecolor": "white",
            "ticks": ""
           },
           "bgcolor": "#E5ECF6",
           "radialaxis": {
            "gridcolor": "white",
            "linecolor": "white",
            "ticks": ""
           }
          },
          "scene": {
           "xaxis": {
            "backgroundcolor": "#E5ECF6",
            "gridcolor": "white",
            "gridwidth": 2,
            "linecolor": "white",
            "showbackground": true,
            "ticks": "",
            "zerolinecolor": "white"
           },
           "yaxis": {
            "backgroundcolor": "#E5ECF6",
            "gridcolor": "white",
            "gridwidth": 2,
            "linecolor": "white",
            "showbackground": true,
            "ticks": "",
            "zerolinecolor": "white"
           },
           "zaxis": {
            "backgroundcolor": "#E5ECF6",
            "gridcolor": "white",
            "gridwidth": 2,
            "linecolor": "white",
            "showbackground": true,
            "ticks": "",
            "zerolinecolor": "white"
           }
          },
          "shapedefaults": {
           "line": {
            "color": "#2a3f5f"
           }
          },
          "ternary": {
           "aaxis": {
            "gridcolor": "white",
            "linecolor": "white",
            "ticks": ""
           },
           "baxis": {
            "gridcolor": "white",
            "linecolor": "white",
            "ticks": ""
           },
           "bgcolor": "#E5ECF6",
           "caxis": {
            "gridcolor": "white",
            "linecolor": "white",
            "ticks": ""
           }
          },
          "title": {
           "x": 0.05
          },
          "xaxis": {
           "automargin": true,
           "gridcolor": "white",
           "linecolor": "white",
           "ticks": "",
           "title": {
            "standoff": 15
           },
           "zerolinecolor": "white",
           "zerolinewidth": 2
          },
          "yaxis": {
           "automargin": true,
           "gridcolor": "white",
           "linecolor": "white",
           "ticks": "",
           "title": {
            "standoff": 15
           },
           "zerolinecolor": "white",
           "zerolinewidth": 2
          }
         }
        }
       }
      },
      "text/html": [
       "<div>                            <div id=\"ef2116ec-b9cc-499b-b92d-76b6d092f260\" class=\"plotly-graph-div\" style=\"height:525px; width:100%;\"></div>            <script type=\"text/javascript\">                require([\"plotly\"], function(Plotly) {                    window.PLOTLYENV=window.PLOTLYENV || {};                                    if (document.getElementById(\"ef2116ec-b9cc-499b-b92d-76b6d092f260\")) {                    Plotly.newPlot(                        \"ef2116ec-b9cc-499b-b92d-76b6d092f260\",                        [{\"customdata\":[[1001,\"Male\",527547.5885,78,1],[1002,\"Male\",207143.1976,63,1],[1003,\"Female\",164423.8457,69,4],[1004,\"Female\",56220.36443,30,1],[1005,\"Female\",256194.3619,6,1],[1006,\"Female\",475324.8903,97,2],[1007,\"Female\",186352.3482,2,2],[1008,\"Female\",414233.1569,77,5],[1009,\"Male\",97263.51748,22,2],[1010,\"Female\",179271.2332,97,3],[1011,\"Male\",194016.5771,13,1],[1012,\"Female\",227536.1384,62,1],[1013,\"Female\",384549.196,64,4],[1014,\"Female\",441207.6896,29,5],[1015,\"Male\",195955.9211,53,1],[1016,\"Male\",342386.7743,36,3],[1017,\"Female\",12396.06128,18,1],[1018,\"Male\",243054.5171,49,5],[1019,\"Male\",353525.8767,75,5],[1020,\"Female\",146957.5537,84,3],[1021,\"Male\",217461.907,87,2],[1022,\"Male\",466647.6548,37,1],[1023,\"Female\",36359.20628,87,3],[1024,\"Male\",227040.4915,64,5],[1025,\"Female\",183013.7351,82,1],[1026,\"Male\",496142.1332,82,2],[1027,\"Female\",304101.4516,59,3],[1028,\"Male\",15305.84287,57,1],[1029,\"Female\",90898.14293,27,4],[1030,\"Female\",372800.2429,35,2],[1031,\"Male\",186025.496,15,1],[1032,\"Female\",424172.7786,84,1],[1033,\"Male\",316975.4388,97,2],[1034,\"Male\",245271.891,4,3],[1035,\"Female\",54756.27976,48,2],[1036,\"Female\",480722.9923,30,4],[1037,\"Female\",243050.2953,93,5],[1038,\"Female\",354943.3271,77,5],[1039,\"Female\",105283.4509,97,5],[1040,\"Female\",266522.7503,78,5],[1041,\"Female\",248583.777,4,5],[1042,\"Male\",35051.23859,78,1],[1043,\"Male\",279363.0453,39,1],[1044,\"Female\",498781.9307,11,3],[1045,\"Female\",288846.6029,97,4],[1046,\"Female\",348408.8613,34,3],[1047,\"Female\",516995.9529,100,1],[1048,\"Female\",54666.06526,46,5],[1049,\"Female\",69809.65753,98,2],[1050,\"Female\",371636.6915,48,2],[1051,\"Female\",238964.9748,62,3],[1052,\"Male\",299609.0836,42,1],[1053,\"Female\",361244.6459,37,3],[1054,\"Male\",187182.7663,36,5],[1055,\"Female\",513210.2881,71,3],[1056,\"Male\",258490.1227,99,4],[1057,\"Female\",443558.7535,41,1],[1058,\"Male\",121992.2184,88,1],[1059,\"Female\",129229.7353,25,5],[1060,\"Male\",351473.4476,8,1],[1061,\"Male\",365803.058,52,5],[1062,\"Male\",42277.72636,20,4],[1063,\"Female\",675461.7357,59,1],[1064,\"Female\",139008.5462,37,1],[1065,\"Male\",255913.6516,47,1],[1066,\"Male\",625214.1659,14,2],[1067,\"Female\",300855.7861,96,5],[1068,\"Female\",61533.99547,40,4],[1069,\"Male\",619650.7261,48,2],[1070,\"Female\",24160.45218,70,5],[1071,\"Male\",119798.585,37,1],[1072,\"Female\",116425.7192,12,1],[1073,\"Female\",235753.1848,100,3],[1074,\"Female\",432140.6847,18,5],[1075,\"Male\",160744.0503,59,4],[1076,\"Male\",264898.0293,68,2],[1077,\"Female\",440550.5344,87,4],[1078,\"Male\",66682.56943,19,1],[1079,\"Female\",196636.8508,9,2],[1080,\"Female\",277507.0036,39,2],[1081,\"Male\",459226.6407,32,4],[1082,\"Male\",143977.3393,56,5],[1083,\"Male\",211403.4684,78,3],[1084,\"Female\",39947.04454,57,2],[1085,\"Female\",544422.1798,11,4],[1086,\"Male\",537240.108,56,5],[1087,\"Female\",542745.9601,73,1],[1088,\"Female\",560856.4185,40,2],[1089,\"Female\",497387.3262,29,4],[1090,\"Female\",125660.3599,44,4],[1091,\"Female\",77749.71303,50,4],[1092,\"Male\",316583.7463,52,3],[1093,\"Male\",252129.1836,2,3],[1094,\"Female\",527125.1728,62,5],[1095,\"Female\",341603.312,54,1],[1096,\"Male\",98951.52835,45,5],[1097,\"Female\",192009.5051,23,4],[1098,\"Female\",203632.4332,80,5],[1099,\"Male\",336327.2596,67,2],[1100,\"Male\",363044.2299,2,2],[1101,\"Female\",386949.5256,19,1],[1102,\"Female\",548611.3616,28,2],[1103,\"Male\",59873.62527,24,4],[1104,\"Male\",49566.39,38,1],[1105,\"Male\",385780.8768,59,2],[1106,\"Female\",95882.3111,54,2],[1107,\"Female\",400021.3253,51,3],[1108,\"Male\",351206.5319,79,4],[1109,\"Male\",2577.057456,37,2],[1110,\"Male\",333149.3655,72,5],[1111,\"Male\",171137.0662,12,2],[1112,\"Female\",352699.3398,78,5],[1113,\"Female\",332877.7868,40,2],[1114,\"Male\",238627.5838,15,4],[1115,\"Female\",687212.7707,100,2],[1116,\"Female\",279227.4118,25,4],[1117,\"Female\",355596.8965,10,5],[1118,\"Female\",467350.1017,10,4],[1119,\"Female\",466464.8329,90,3],[1120,\"Female\",327653.0355,8,4],[1121,\"Male\",302975.1788,70,2],[1122,\"Female\",589901.0593,76,5],[1123,\"Female\",41370.44656,13,4],[1124,\"Male\",208227.1136,87,2],[1125,\"Female\",568519.0844,6,5],[1126,\"Female\",151571.5328,46,3],[1127,\"Male\",217072.6811,35,2],[1128,\"Male\",336463.0139,89,1],[1129,\"Male\",487605.5371,100,1],[1130,\"Male\",599442.5133,71,1],[1131,\"Male\",389042.5298,50,3],[1132,\"Male\",10349.41407,22,5],[1133,\"Female\",198910.519,76,4],[1134,\"Female\",405487.9323,93,3],[1135,\"Male\",221839.2718,57,5],[1136,\"Female\",260829.7117,85,4],[1137,\"Female\",133886.4033,96,3],[1138,\"Male\",82638.67765,33,1],[1139,\"Male\",380765.8752,20,5],[1140,\"Female\",101745.5371,7,2],[1141,\"Female\",341134.7218,18,1],[1142,\"Male\",274581.2169,22,1],[1143,\"Female\",212645.6303,19,2],[1144,\"Female\",281654.8846,14,3],[1145,\"Male\",98371.75627,99,5],[1146,\"Male\",213942.2065,11,5],[1147,\"Male\",5121.652342,42,4],[1148,\"Female\",142909.4261,30,4],[1149,\"Female\",651534.3098,23,1],[1150,\"Male\",365974.3719,77,3],[1151,\"Male\",355468.056,73,4],[1152,\"Male\",471770.9203,39,4],[1153,\"Female\",231493.99,94,3],[1154,\"Female\",465350.4429,58,2],[1155,\"Female\",127331.648,32,1],[1156,\"Female\",671028.1872,55,5],[1157,\"Male\",163664.207,22,3],[1158,\"Female\",216758.2928,78,1],[1159,\"Male\",193910.7081,36,1],[1160,\"Female\",22643.56036,93,5],[1161,\"Female\",365100.1564,55,1],[1162,\"Female\",534470.6945,85,4],[1163,\"Male\",261938.9818,32,4],[1164,\"Female\",330757.825,87,4],[1165,\"Male\",514927.5894,9,2],[1166,\"Female\",432732.181,54,2],[1167,\"Male\",695407.0917,86,1],[1168,\"Female\",285874.988,67,2],[1169,\"Female\",79113.55318,39,5],[1170,\"Male\",260043.8576,77,2],[1171,\"Male\",326077.0029,35,1],[1172,\"Male\",648085.0454,35,5],[1173,\"Male\",101571.4983,45,1],[1174,\"Male\",50434.47117,75,1],[1175,\"Female\",359566.4986,91,5],[1176,\"Female\",581177.2116,32,5],[1177,\"Male\",351979.4379,89,3],[1178,\"Male\",634980.9806,21,2],[1179,\"Male\",110492.7388,19,2],[1180,\"Male\",266781.9511,61,4],[1181,\"Female\",81891.02639,61,1],[1182,\"Female\",268234.2246,92,1],[1183,\"Male\",195930.2286,94,3],[1184,\"Female\",244212.5455,41,2],[1185,\"Female\",241845.7525,4,2],[1186,\"Male\",197295.8156,47,3],[1187,\"Female\",118255.8374,75,3],[1188,\"Male\",316199.317,11,2],[1189,\"Female\",153779.277,44,2],[1190,\"Female\",243936.1677,7,4],[1191,\"Female\",103642.4697,96,4],[1192,\"Female\",115856.0369,34,5],[1193,\"Male\",451973.2129,16,1],[1194,\"Female\",192447.8216,45,1],[1195,\"Female\",630148.5131,91,2],[1196,\"Female\",317466.4207,52,4],[1197,\"Female\",323305.5002,58,1],[1198,\"Male\",109058.5443,36,2],[1199,\"Male\",160116.893,24,4],[1200,\"Male\",280081.3901,31,2]],\"hovertemplate\":\"CustomerAge=%{x}<br>CreditScore=%{y}<br>CustomerCity=%{z}<br>CustomerID=%{customdata[0]}<br>CustomerGender=%{customdata[1]}<br>AnnualIncome=%{customdata[2]}<br>SpendingScore=%{customdata[3]}<br>CustomerCityID=%{customdata[4]}<br>lable=%{marker.color}<extra></extra>\",\"legendgroup\":\"\",\"marker\":{\"color\":[2,2,0,0,0,1,0,3,2,1,2,1,1,0,2,2,0,2,2,1,2,4,1,2,3,2,1,2,0,0,2,3,2,2,1,3,1,3,1,1,0,2,2,0,1,3,3,1,1,0,1,2,0,2,0,2,0,2,0,4,2,2,3,0,2,4,1,0,4,0,2,0,1,3,2,2,3,2,0,3,4,2,2,0,0,4,3,0,0,1,0,2,2,0,3,2,0,3,2,2,0,0,2,2,2,0,3,2,2,2,2,1,0,2,1,0,0,0,1,0,2,3,0,2,0,1,2,2,2,4,2,2,3,3,2,3,1,2,2,0,0,2,0,0,2,2,2,0,3,2,2,4,3,3,0,0,2,1,2,1,0,3,2,0,4,0,4,1,1,2,4,4,2,2,3,0,2,4,2,2,0,1,2,0,0,2,1,2,0,0,1,0,2,0,3,0,0,2,2,2],\"coloraxis\":\"coloraxis\",\"symbol\":\"circle\"},\"mode\":\"markers\",\"name\":\"\",\"scene\":\"scene\",\"showlegend\":false,\"x\":[49,59,54,42,30,38,45,23,59,48,55,73,54,34,54,53,23,30,37,52,39,38,71,31,42,65,65,33,29,24,59,40,52,47,66,62,73,23,45,43,21,45,54,22,26,72,29,65,34,26,66,50,33,47,59,52,55,74,32,31,25,75,39,46,29,34,54,36,52,28,18,45,48,50,43,27,68,67,59,74,62,45,33,20,61,32,49,66,36,55,35,22,59,21,74,51,22,35,47,66,20,58,42,27,63,28,48,63,45,22,70,65,41,56,51,33,69,21,40,19,62,38,49,30,62,58,73,66,71,54,53,34,41,47,26,30,55,43,50,61,37,29,26,22,56,70,38,37,62,19,46,50,48,53,70,60,37,57,66,27,21,22,18,18,38,23,21,44,72,63,50,56,59,44,20,33,49,22,64,31,53,23,26,63,43,62,74,66,45,62,61,47,74,48,48,54,20,44,28,41],\"y\":[653,630,555,699,793,635,881,852,708,669,618,614,711,629,764,880,729,803,817,774,672,691,669,555,778,623,782,588,684,698,562,774,777,769,755,789,575,850,715,639,817,731,704,712,713,874,751,761,633,632,763,701,784,854,692,751,648,865,863,622,817,868,849,565,665,632,670,736,687,561,892,724,583,760,555,712,880,873,715,897,801,600,768,807,626,654,742,738,805,808,625,695,656,678,859,616,861,814,616,653,575,576,575,666,876,568,849,564,654,565,782,667,593,606,553,827,559,806,620,857,804,858,695,800,624,767,630,808,790,726,624,746,895,781,868,894,707,552,842,567,636,756,894,887,647,657,607,637,884,551,892,616,886,868,669,605,854,742,803,707,633,827,742,586,581,786,718,755,836,725,573,605,890,657,779,666,779,844,733,571,601,701,838,573,896,824,615,770,831,676,559,784,608,568,833,601,554,844,837,789],\"z\":[\"Bengaluru\",\"Bengaluru\",\"Delhi\",\"Bengaluru\",\"Bengaluru\",\"Chennai\",\"Chennai\",\"Mumbai\",\"Chennai\",\"Kolkata\",\"Bengaluru\",\"Bengaluru\",\"Delhi\",\"Mumbai\",\"Bengaluru\",\"Kolkata\",\"Bengaluru\",\"Mumbai\",\"Mumbai\",\"Kolkata\",\"Chennai\",\"Bengaluru\",\"Kolkata\",\"Mumbai\",\"Bengaluru\",\"Chennai\",\"Kolkata\",\"Bengaluru\",\"Delhi\",\"Chennai\",\"Bengaluru\",\"Bengaluru\",\"Chennai\",\"Kolkata\",\"Chennai\",\"Delhi\",\"Mumbai\",\"Mumbai\",\"Mumbai\",\"Mumbai\",\"Mumbai\",\"Bengaluru\",\"Bengaluru\",\"Kolkata\",\"Delhi\",\"Kolkata\",\"Bengaluru\",\"Mumbai\",\"Chennai\",\"Chennai\",\"Kolkata\",\"Bengaluru\",\"Kolkata\",\"Mumbai\",\"Kolkata\",\"Delhi\",\"Bengaluru\",\"Bengaluru\",\"Mumbai\",\"Bengaluru\",\"Mumbai\",\"Delhi\",\"Bengaluru\",\"Bengaluru\",\"Bengaluru\",\"Chennai\",\"Mumbai\",\"Delhi\",\"Chennai\",\"Mumbai\",\"Bengaluru\",\"Bengaluru\",\"Kolkata\",\"Mumbai\",\"Delhi\",\"Chennai\",\"Delhi\",\"Bengaluru\",\"Chennai\",\"Chennai\",\"Delhi\",\"Mumbai\",\"Kolkata\",\"Chennai\",\"Delhi\",\"Mumbai\",\"Bengaluru\",\"Chennai\",\"Delhi\",\"Delhi\",\"Delhi\",\"Kolkata\",\"Kolkata\",\"Mumbai\",\"Bengaluru\",\"Mumbai\",\"Delhi\",\"Mumbai\",\"Chennai\",\"Chennai\",\"Bengaluru\",\"Chennai\",\"Delhi\",\"Bengaluru\",\"Chennai\",\"Chennai\",\"Kolkata\",\"Delhi\",\"Chennai\",\"Mumbai\",\"Chennai\",\"Mumbai\",\"Chennai\",\"Delhi\",\"Chennai\",\"Delhi\",\"Mumbai\",\"Delhi\",\"Kolkata\",\"Delhi\",\"Chennai\",\"Mumbai\",\"Delhi\",\"Chennai\",\"Mumbai\",\"Kolkata\",\"Chennai\",\"Bengaluru\",\"Bengaluru\",\"Bengaluru\",\"Kolkata\",\"Mumbai\",\"Delhi\",\"Kolkata\",\"Mumbai\",\"Delhi\",\"Kolkata\",\"Bengaluru\",\"Mumbai\",\"Chennai\",\"Bengaluru\",\"Bengaluru\",\"Chennai\",\"Kolkata\",\"Mumbai\",\"Mumbai\",\"Delhi\",\"Delhi\",\"Bengaluru\",\"Kolkata\",\"Delhi\",\"Delhi\",\"Kolkata\",\"Chennai\",\"Bengaluru\",\"Mumbai\",\"Kolkata\",\"Bengaluru\",\"Bengaluru\",\"Mumbai\",\"Bengaluru\",\"Delhi\",\"Delhi\",\"Delhi\",\"Chennai\",\"Chennai\",\"Bengaluru\",\"Chennai\",\"Mumbai\",\"Chennai\",\"Bengaluru\",\"Mumbai\",\"Bengaluru\",\"Bengaluru\",\"Mumbai\",\"Mumbai\",\"Kolkata\",\"Chennai\",\"Chennai\",\"Delhi\",\"Bengaluru\",\"Bengaluru\",\"Kolkata\",\"Chennai\",\"Chennai\",\"Kolkata\",\"Kolkata\",\"Chennai\",\"Chennai\",\"Delhi\",\"Delhi\",\"Mumbai\",\"Bengaluru\",\"Bengaluru\",\"Chennai\",\"Delhi\",\"Bengaluru\",\"Chennai\",\"Delhi\",\"Chennai\"],\"type\":\"scatter3d\"}],                        {\"template\":{\"data\":{\"bar\":[{\"error_x\":{\"color\":\"#2a3f5f\"},\"error_y\":{\"color\":\"#2a3f5f\"},\"marker\":{\"line\":{\"color\":\"#E5ECF6\",\"width\":0.5},\"pattern\":{\"fillmode\":\"overlay\",\"size\":10,\"solidity\":0.2}},\"type\":\"bar\"}],\"barpolar\":[{\"marker\":{\"line\":{\"color\":\"#E5ECF6\",\"width\":0.5},\"pattern\":{\"fillmode\":\"overlay\",\"size\":10,\"solidity\":0.2}},\"type\":\"barpolar\"}],\"carpet\":[{\"aaxis\":{\"endlinecolor\":\"#2a3f5f\",\"gridcolor\":\"white\",\"linecolor\":\"white\",\"minorgridcolor\":\"white\",\"startlinecolor\":\"#2a3f5f\"},\"baxis\":{\"endlinecolor\":\"#2a3f5f\",\"gridcolor\":\"white\",\"linecolor\":\"white\",\"minorgridcolor\":\"white\",\"startlinecolor\":\"#2a3f5f\"},\"type\":\"carpet\"}],\"choropleth\":[{\"colorbar\":{\"outlinewidth\":0,\"ticks\":\"\"},\"type\":\"choropleth\"}],\"contour\":[{\"colorbar\":{\"outlinewidth\":0,\"ticks\":\"\"},\"colorscale\":[[0.0,\"#0d0887\"],[0.1111111111111111,\"#46039f\"],[0.2222222222222222,\"#7201a8\"],[0.3333333333333333,\"#9c179e\"],[0.4444444444444444,\"#bd3786\"],[0.5555555555555556,\"#d8576b\"],[0.6666666666666666,\"#ed7953\"],[0.7777777777777778,\"#fb9f3a\"],[0.8888888888888888,\"#fdca26\"],[1.0,\"#f0f921\"]],\"type\":\"contour\"}],\"contourcarpet\":[{\"colorbar\":{\"outlinewidth\":0,\"ticks\":\"\"},\"type\":\"contourcarpet\"}],\"heatmap\":[{\"colorbar\":{\"outlinewidth\":0,\"ticks\":\"\"},\"colorscale\":[[0.0,\"#0d0887\"],[0.1111111111111111,\"#46039f\"],[0.2222222222222222,\"#7201a8\"],[0.3333333333333333,\"#9c179e\"],[0.4444444444444444,\"#bd3786\"],[0.5555555555555556,\"#d8576b\"],[0.6666666666666666,\"#ed7953\"],[0.7777777777777778,\"#fb9f3a\"],[0.8888888888888888,\"#fdca26\"],[1.0,\"#f0f921\"]],\"type\":\"heatmap\"}],\"heatmapgl\":[{\"colorbar\":{\"outlinewidth\":0,\"ticks\":\"\"},\"colorscale\":[[0.0,\"#0d0887\"],[0.1111111111111111,\"#46039f\"],[0.2222222222222222,\"#7201a8\"],[0.3333333333333333,\"#9c179e\"],[0.4444444444444444,\"#bd3786\"],[0.5555555555555556,\"#d8576b\"],[0.6666666666666666,\"#ed7953\"],[0.7777777777777778,\"#fb9f3a\"],[0.8888888888888888,\"#fdca26\"],[1.0,\"#f0f921\"]],\"type\":\"heatmapgl\"}],\"histogram\":[{\"marker\":{\"pattern\":{\"fillmode\":\"overlay\",\"size\":10,\"solidity\":0.2}},\"type\":\"histogram\"}],\"histogram2d\":[{\"colorbar\":{\"outlinewidth\":0,\"ticks\":\"\"},\"colorscale\":[[0.0,\"#0d0887\"],[0.1111111111111111,\"#46039f\"],[0.2222222222222222,\"#7201a8\"],[0.3333333333333333,\"#9c179e\"],[0.4444444444444444,\"#bd3786\"],[0.5555555555555556,\"#d8576b\"],[0.6666666666666666,\"#ed7953\"],[0.7777777777777778,\"#fb9f3a\"],[0.8888888888888888,\"#fdca26\"],[1.0,\"#f0f921\"]],\"type\":\"histogram2d\"}],\"histogram2dcontour\":[{\"colorbar\":{\"outlinewidth\":0,\"ticks\":\"\"},\"colorscale\":[[0.0,\"#0d0887\"],[0.1111111111111111,\"#46039f\"],[0.2222222222222222,\"#7201a8\"],[0.3333333333333333,\"#9c179e\"],[0.4444444444444444,\"#bd3786\"],[0.5555555555555556,\"#d8576b\"],[0.6666666666666666,\"#ed7953\"],[0.7777777777777778,\"#fb9f3a\"],[0.8888888888888888,\"#fdca26\"],[1.0,\"#f0f921\"]],\"type\":\"histogram2dcontour\"}],\"mesh3d\":[{\"colorbar\":{\"outlinewidth\":0,\"ticks\":\"\"},\"type\":\"mesh3d\"}],\"parcoords\":[{\"line\":{\"colorbar\":{\"outlinewidth\":0,\"ticks\":\"\"}},\"type\":\"parcoords\"}],\"pie\":[{\"automargin\":true,\"type\":\"pie\"}],\"scatter\":[{\"marker\":{\"colorbar\":{\"outlinewidth\":0,\"ticks\":\"\"}},\"type\":\"scatter\"}],\"scatter3d\":[{\"line\":{\"colorbar\":{\"outlinewidth\":0,\"ticks\":\"\"}},\"marker\":{\"colorbar\":{\"outlinewidth\":0,\"ticks\":\"\"}},\"type\":\"scatter3d\"}],\"scattercarpet\":[{\"marker\":{\"colorbar\":{\"outlinewidth\":0,\"ticks\":\"\"}},\"type\":\"scattercarpet\"}],\"scattergeo\":[{\"marker\":{\"colorbar\":{\"outlinewidth\":0,\"ticks\":\"\"}},\"type\":\"scattergeo\"}],\"scattergl\":[{\"marker\":{\"colorbar\":{\"outlinewidth\":0,\"ticks\":\"\"}},\"type\":\"scattergl\"}],\"scattermapbox\":[{\"marker\":{\"colorbar\":{\"outlinewidth\":0,\"ticks\":\"\"}},\"type\":\"scattermapbox\"}],\"scatterpolar\":[{\"marker\":{\"colorbar\":{\"outlinewidth\":0,\"ticks\":\"\"}},\"type\":\"scatterpolar\"}],\"scatterpolargl\":[{\"marker\":{\"colorbar\":{\"outlinewidth\":0,\"ticks\":\"\"}},\"type\":\"scatterpolargl\"}],\"scatterternary\":[{\"marker\":{\"colorbar\":{\"outlinewidth\":0,\"ticks\":\"\"}},\"type\":\"scatterternary\"}],\"surface\":[{\"colorbar\":{\"outlinewidth\":0,\"ticks\":\"\"},\"colorscale\":[[0.0,\"#0d0887\"],[0.1111111111111111,\"#46039f\"],[0.2222222222222222,\"#7201a8\"],[0.3333333333333333,\"#9c179e\"],[0.4444444444444444,\"#bd3786\"],[0.5555555555555556,\"#d8576b\"],[0.6666666666666666,\"#ed7953\"],[0.7777777777777778,\"#fb9f3a\"],[0.8888888888888888,\"#fdca26\"],[1.0,\"#f0f921\"]],\"type\":\"surface\"}],\"table\":[{\"cells\":{\"fill\":{\"color\":\"#EBF0F8\"},\"line\":{\"color\":\"white\"}},\"header\":{\"fill\":{\"color\":\"#C8D4E3\"},\"line\":{\"color\":\"white\"}},\"type\":\"table\"}]},\"layout\":{\"annotationdefaults\":{\"arrowcolor\":\"#2a3f5f\",\"arrowhead\":0,\"arrowwidth\":1},\"autotypenumbers\":\"strict\",\"coloraxis\":{\"colorbar\":{\"outlinewidth\":0,\"ticks\":\"\"}},\"colorscale\":{\"diverging\":[[0,\"#8e0152\"],[0.1,\"#c51b7d\"],[0.2,\"#de77ae\"],[0.3,\"#f1b6da\"],[0.4,\"#fde0ef\"],[0.5,\"#f7f7f7\"],[0.6,\"#e6f5d0\"],[0.7,\"#b8e186\"],[0.8,\"#7fbc41\"],[0.9,\"#4d9221\"],[1,\"#276419\"]],\"sequential\":[[0.0,\"#0d0887\"],[0.1111111111111111,\"#46039f\"],[0.2222222222222222,\"#7201a8\"],[0.3333333333333333,\"#9c179e\"],[0.4444444444444444,\"#bd3786\"],[0.5555555555555556,\"#d8576b\"],[0.6666666666666666,\"#ed7953\"],[0.7777777777777778,\"#fb9f3a\"],[0.8888888888888888,\"#fdca26\"],[1.0,\"#f0f921\"]],\"sequentialminus\":[[0.0,\"#0d0887\"],[0.1111111111111111,\"#46039f\"],[0.2222222222222222,\"#7201a8\"],[0.3333333333333333,\"#9c179e\"],[0.4444444444444444,\"#bd3786\"],[0.5555555555555556,\"#d8576b\"],[0.6666666666666666,\"#ed7953\"],[0.7777777777777778,\"#fb9f3a\"],[0.8888888888888888,\"#fdca26\"],[1.0,\"#f0f921\"]]},\"colorway\":[\"#636efa\",\"#EF553B\",\"#00cc96\",\"#ab63fa\",\"#FFA15A\",\"#19d3f3\",\"#FF6692\",\"#B6E880\",\"#FF97FF\",\"#FECB52\"],\"font\":{\"color\":\"#2a3f5f\"},\"geo\":{\"bgcolor\":\"white\",\"lakecolor\":\"white\",\"landcolor\":\"#E5ECF6\",\"showlakes\":true,\"showland\":true,\"subunitcolor\":\"white\"},\"hoverlabel\":{\"align\":\"left\"},\"hovermode\":\"closest\",\"mapbox\":{\"style\":\"light\"},\"paper_bgcolor\":\"white\",\"plot_bgcolor\":\"#E5ECF6\",\"polar\":{\"angularaxis\":{\"gridcolor\":\"white\",\"linecolor\":\"white\",\"ticks\":\"\"},\"bgcolor\":\"#E5ECF6\",\"radialaxis\":{\"gridcolor\":\"white\",\"linecolor\":\"white\",\"ticks\":\"\"}},\"scene\":{\"xaxis\":{\"backgroundcolor\":\"#E5ECF6\",\"gridcolor\":\"white\",\"gridwidth\":2,\"linecolor\":\"white\",\"showbackground\":true,\"ticks\":\"\",\"zerolinecolor\":\"white\"},\"yaxis\":{\"backgroundcolor\":\"#E5ECF6\",\"gridcolor\":\"white\",\"gridwidth\":2,\"linecolor\":\"white\",\"showbackground\":true,\"ticks\":\"\",\"zerolinecolor\":\"white\"},\"zaxis\":{\"backgroundcolor\":\"#E5ECF6\",\"gridcolor\":\"white\",\"gridwidth\":2,\"linecolor\":\"white\",\"showbackground\":true,\"ticks\":\"\",\"zerolinecolor\":\"white\"}},\"shapedefaults\":{\"line\":{\"color\":\"#2a3f5f\"}},\"ternary\":{\"aaxis\":{\"gridcolor\":\"white\",\"linecolor\":\"white\",\"ticks\":\"\"},\"baxis\":{\"gridcolor\":\"white\",\"linecolor\":\"white\",\"ticks\":\"\"},\"bgcolor\":\"#E5ECF6\",\"caxis\":{\"gridcolor\":\"white\",\"linecolor\":\"white\",\"ticks\":\"\"}},\"title\":{\"x\":0.05},\"xaxis\":{\"automargin\":true,\"gridcolor\":\"white\",\"linecolor\":\"white\",\"ticks\":\"\",\"title\":{\"standoff\":15},\"zerolinecolor\":\"white\",\"zerolinewidth\":2},\"yaxis\":{\"automargin\":true,\"gridcolor\":\"white\",\"linecolor\":\"white\",\"ticks\":\"\",\"title\":{\"standoff\":15},\"zerolinecolor\":\"white\",\"zerolinewidth\":2}}},\"scene\":{\"domain\":{\"x\":[0.0,1.0],\"y\":[0.0,1.0]},\"xaxis\":{\"title\":{\"text\":\"CustomerAge\"}},\"yaxis\":{\"title\":{\"text\":\"CreditScore\"}},\"zaxis\":{\"title\":{\"text\":\"CustomerCity\"}}},\"coloraxis\":{\"colorbar\":{\"title\":{\"text\":\"lable\"}},\"colorscale\":[[0.0,\"#0d0887\"],[0.1111111111111111,\"#46039f\"],[0.2222222222222222,\"#7201a8\"],[0.3333333333333333,\"#9c179e\"],[0.4444444444444444,\"#bd3786\"],[0.5555555555555556,\"#d8576b\"],[0.6666666666666666,\"#ed7953\"],[0.7777777777777778,\"#fb9f3a\"],[0.8888888888888888,\"#fdca26\"],[1.0,\"#f0f921\"]]},\"legend\":{\"tracegroupgap\":0},\"margin\":{\"t\":60}},                        {\"responsive\": true}                    ).then(function(){\n",
       "                            \n",
       "var gd = document.getElementById('ef2116ec-b9cc-499b-b92d-76b6d092f260');\n",
       "var x = new MutationObserver(function (mutations, observer) {{\n",
       "        var display = window.getComputedStyle(gd).display;\n",
       "        if (!display || display === 'none') {{\n",
       "            console.log([gd, 'removed!']);\n",
       "            Plotly.purge(gd);\n",
       "            observer.disconnect();\n",
       "        }}\n",
       "}});\n",
       "\n",
       "// Listen for the removal of the full notebook cells\n",
       "var notebookContainer = gd.closest('#notebook-container');\n",
       "if (notebookContainer) {{\n",
       "    x.observe(notebookContainer, {childList: true});\n",
       "}}\n",
       "\n",
       "// Listen for the clearing of the current output cell\n",
       "var outputEl = gd.closest('.output');\n",
       "if (outputEl) {{\n",
       "    x.observe(outputEl, {childList: true});\n",
       "}}\n",
       "\n",
       "                        })                };                });            </script>        </div>"
      ]
     },
     "metadata": {},
     "output_type": "display_data"
    }
   ],
   "source": [
    "from sklearn.cluster import Birch\n",
    "\n",
    "BR=Birch(n_clusters=5,threshold=0.3, branching_factor=20).fit(X)\n",
    "\n",
    "lables=BR.predict(X)\n",
    "\n",
    "BR_DF=df.copy()\n",
    "\n",
    "BR_DF['lable']=lables\n",
    "\n",
    "\n",
    "score = silhouette_score(X,lables)\n",
    "print (\"Silhouette Score\", score)\n",
    "\n",
    "\n",
    "px.scatter_3d(BR_DF, 'CustomerAge', 'CreditScore', 'CustomerCity', \n",
    "              color='lable', hover_data=df.columns)"
   ]
  },
  {
   "cell_type": "code",
   "execution_count": null,
   "metadata": {},
   "outputs": [],
   "source": []
  },
  {
   "cell_type": "code",
   "execution_count": null,
   "metadata": {},
   "outputs": [],
   "source": []
  }
 ],
 "metadata": {
  "kernelspec": {
   "display_name": "Python 3",
   "language": "python",
   "name": "python3"
  },
  "language_info": {
   "codemirror_mode": {
    "name": "ipython",
    "version": 3
   },
   "file_extension": ".py",
   "mimetype": "text/x-python",
   "name": "python",
   "nbconvert_exporter": "python",
   "pygments_lexer": "ipython3",
   "version": "3.7.4"
  }
 },
 "nbformat": 4,
 "nbformat_minor": 2
}
